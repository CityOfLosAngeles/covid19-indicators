{
 "cells": [
  {
   "cell_type": "markdown",
   "metadata": {},
   "source": [
    "Is there a difference between the percent change of a rolling mean and a rolling mean of a percent change?\n",
    "\n",
    "The rolling mean of a value is the average of the last $N$ observations:\n",
    "\n",
    "$$ \\frac{1}{N} \\displaystyle\\sum_{n=1}^N v_n $$\n",
    "\n",
    "where $n$ counts back from the most recent observation $v_1$.\n",
    "\n",
    "The fractional change of an observation from its previous value is given by\n",
    "\n",
    "$$ \\frac{v_n - v_{n+1}}{v_{n+1}} $$\n",
    "\n",
    "So the rolling mean of the fractional change is given by\n",
    "\n",
    "$$ \\frac{1}{N} \\displaystyle\\sum_{n=1}^N \\frac{v_n - v_{n+1} }{v_{n+1}} $$\n",
    "\n",
    "which simplifies to\n",
    "\n",
    "$$ \\left(\\frac{1}{N} \\displaystyle\\sum_{n=1}^N \\frac{v_n}{v_{n+1}}\\right) - 1 $$\n",
    "\n",
    "On the other hand, the fractional change of a rolling mean is given by $$ \\frac{\\frac{1}{N} \\displaystyle\\sum_{n=1}^N v_n - \\frac{1}{N} \\displaystyle\\sum_{n=2}^{N+1} v_n}{\\frac{1}{N} \\displaystyle\\sum_{n=2}^{N+1} v_n } $$ which simplifies to $$ \\frac{v_1 - v_{N+1}}{\\displaystyle\\sum_{n=2}^{N+1} v_n} $$"
   ]
  },
  {
   "cell_type": "code",
   "execution_count": null,
   "metadata": {},
   "outputs": [],
   "source": []
  }
 ],
 "metadata": {
  "kernelspec": {
   "display_name": "Python 3",
   "language": "python",
   "name": "python3"
  },
  "language_info": {
   "codemirror_mode": {
    "name": "ipython",
    "version": 3
   },
   "file_extension": ".py",
   "mimetype": "text/x-python",
   "name": "python",
   "nbconvert_exporter": "python",
   "pygments_lexer": "ipython3",
   "version": "3.7.6"
  }
 },
 "nbformat": 4,
 "nbformat_minor": 4
}
