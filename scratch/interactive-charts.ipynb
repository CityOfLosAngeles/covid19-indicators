{
 "cells": [
  {
   "cell_type": "markdown",
   "metadata": {},
   "source": [
    "# Test interactive charts\n",
    "\n",
    "* https://github.com/altair-viz/altair/issues/329\n",
    "* https://stackoverflow.com/questions/61229345/multiple-altair-charts-generated-by-the-same-cell\n",
    "* https://github.com/altair-viz/altair/issues/1281"
   ]
  },
  {
   "cell_type": "code",
   "execution_count": null,
   "metadata": {},
   "outputs": [],
   "source": [
    "#!pip install plotly\n",
    "#!pip install ipywidgets>=7.6\n",
    "#!jupyter labextension install jupyterlab-plotly\n",
    "#!jupyter labextension install @jupyter-widgets/jupyterlab-manager plotlywidget"
   ]
  },
  {
   "cell_type": "code",
   "execution_count": null,
   "metadata": {},
   "outputs": [],
   "source": [
    "#!jupyter --version\n",
    "#!jupyter labextension list"
   ]
  },
  {
   "cell_type": "code",
   "execution_count": null,
   "metadata": {},
   "outputs": [],
   "source": [
    "\"\"\"\n",
    "import plotly.express as px\n",
    "import plotly.graph_objects as go\n",
    "#from https://plotly.com/python/templates/\n",
    "import plotly.io as pio\n",
    "#pio.templates\n",
    "import ipywidgets\n",
    "\n",
    "fig = px.scatter(to_plot, \n",
    "                 x=\"date\", \n",
    "                 y=\"value\", \n",
    "                 text=\"county\", \n",
    "                     title=\"Title\",\n",
    "                 template=\"plotly\")\n",
    "fig.show()\n",
    "\n",
    "\n",
    "for template in [\"plotly\", \"plotly_white\", \"plotly_dark\", \"ggplot2\", \"seaborn\", \"simple_white\", \"none\"]:\n",
    "    fig = px.scatter(to_plot, \n",
    "                 x=\"date\", \n",
    "                 y=\"value\", \n",
    "                 text=\"county\", \n",
    "                     title=\"Percent Transit Operations and Population\",\n",
    "                 template=template)\n",
    "\n",
    "    px.defaults.width = 700\n",
    "    px.defaults.height = 600\n",
    "    fig.update_traces(textposition=\"bottom right\")\n",
    "    display(fig.show())\n",
    "\"\"\""
   ]
  },
  {
   "cell_type": "code",
   "execution_count": null,
   "metadata": {},
   "outputs": [],
   "source": [
    "'''\n",
    "import json  # need it for json.dumps\n",
    "import altair as alt\n",
    "#from altair.vega import v3\n",
    "\n",
    "# Create the correct URLs for require.js to find the Javascript libraries\n",
    "vega_url = 'https://cdn.jsdelivr.net/npm/vega@' + alt.SCHEMA_VERSION\n",
    "vega_lib_url = 'https://cdn.jsdelivr.net/npm/vega-lib'\n",
    "vega_lite_url = 'https://cdn.jsdelivr.net/npm/vega-lite@' + alt.SCHEMA_VERSION\n",
    "vega_embed_url = 'https://cdn.jsdelivr.net/npm/vega-embed@3'\n",
    "noext = \"?noext\"\n",
    "\n",
    "paths = {\n",
    "    'vega': vega_url + noext,\n",
    "    'vega-lib': vega_lib_url + noext,\n",
    "    'vega-lite': vega_lite_url + noext,\n",
    "    'vega-embed': vega_embed_url + noext\n",
    "}\n",
    "\n",
    "workaround = \"\"\"\n",
    "requirejs.config({{\n",
    "    baseUrl: 'https://cdn.jsdelivr.net/npm/',\n",
    "    paths: {paths}\n",
    "}});\n",
    "\"\"\"\n",
    "\n",
    "HTML(\"\".join((\n",
    "    \"<script>\",\n",
    "    workaround.format(paths=json.dumps(paths)),\n",
    "    \"</script>\",\n",
    "    \"This code block sets up embedded rendering in HTML.\"\n",
    ")))\n",
    "'''"
   ]
  },
  {
   "cell_type": "code",
   "execution_count": null,
   "metadata": {},
   "outputs": [],
   "source": [
    "'''\n",
    "# Define the function for rendering\n",
    "def add_autoincrement(render_func):\n",
    "    # Keep track of unique <div/> IDs\n",
    "    cache = {}\n",
    "    def wrapped(chart, id=\"vega-chart\", autoincrement=True):\n",
    "        \"\"\"Render an altair chart directly via javascript.\n",
    "        \n",
    "        This is a workaround for functioning export to HTML.\n",
    "        (It probably messes up other ways to export.) It will\n",
    "        cache and autoincrement the ID suffixed with a\n",
    "        number (e.g. vega-chart-1) so you don't have to deal\n",
    "        with that.\n",
    "        \"\"\"\n",
    "        if autoincrement:\n",
    "            if id in cache:\n",
    "                counter = 1 + cache[id]\n",
    "                cache[id] = counter\n",
    "            else:\n",
    "                cache[id] = 0\n",
    "            actual_id = id if cache[id] == 0 else id + '-' + str(cache[id])\n",
    "        else:\n",
    "            if id not in cache:\n",
    "                cache[id] = 0\n",
    "            actual_id = id\n",
    "        return render_func(chart, id=actual_id)\n",
    "    # Cache will stay defined and keep track of the unique div Ids\n",
    "    return wrapped\n",
    "\n",
    "\n",
    "@add_autoincrement\n",
    "def render(chart, id=\"vega-chart\"):\n",
    "    # This below is the javascript to make the chart directly using vegaEmbed\n",
    "    chart_str = \"\"\"\n",
    "    <div id=\"{id}\"></div><script>\n",
    "    require([\"vega-embed\"], function(vegaEmbed) {{\n",
    "        const spec = {chart};     \n",
    "        vegaEmbed(\"#{id}\", spec, {{defaultStyle: true}}).catch(console.warn);\n",
    "    }});\n",
    "    </script>\n",
    "    \"\"\"\n",
    "    return HTML(\n",
    "        chart_str.format(\n",
    "            id=id,\n",
    "            chart=json.dumps(chart) if isinstance(chart, dict) else chart.to_json(indent=None)\n",
    "        )\n",
    "    )\n",
    "'''"
   ]
  },
  {
   "cell_type": "code",
   "execution_count": null,
   "metadata": {},
   "outputs": [],
   "source": [
    "\"\"\"\n",
    "import pandas as pd\n",
    "\n",
    "df = pd.DataFrame(dict(a=tuple('ABCDEFGHI'), b=(28, 55, 43, 90, 81, 53, 19, 87, 52)))\n",
    "render(\n",
    "    alt.Chart(df, width=360).mark_bar().encode(x='a:O', y='b:Q', tooltip='b')\n",
    ")\n",
    "\"\"\""
   ]
  },
  {
   "cell_type": "markdown",
   "metadata": {},
   "source": [
    "<a id='counties_by_region'></a>"
   ]
  }
 ],
 "metadata": {
  "kernelspec": {
   "display_name": "Python 3",
   "language": "python",
   "name": "python3"
  },
  "language_info": {
   "codemirror_mode": {
    "name": "ipython",
    "version": 3
   },
   "file_extension": ".py",
   "mimetype": "text/x-python",
   "name": "python",
   "nbconvert_exporter": "python",
   "pygments_lexer": "ipython3",
   "version": "3.7.8"
  }
 },
 "nbformat": 4,
 "nbformat_minor": 4
}
