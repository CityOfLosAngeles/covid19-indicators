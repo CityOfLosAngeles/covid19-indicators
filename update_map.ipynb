{
 "cells": [
  {
   "cell_type": "code",
   "execution_count": 1,
   "metadata": {},
   "outputs": [],
   "source": [
    "from arcgis.gis import GIS\n",
    "from arcgis import features\n",
    "from getpass import getpass #to accept passwords in an interactive fashion\n",
    "from arcgis.features import FeatureLayer\n",
    "from arcgis.features import SpatialDataFrame\n",
    "from copy import deepcopy\n",
    "import pandas as pd\n",
    "import pickle\n",
    "pd.set_option('display.max_columns', None)"
   ]
  },
  {
   "cell_type": "markdown",
   "metadata": {},
   "source": [
    "## Configure GIS connection"
   ]
  },
  {
   "cell_type": "code",
   "execution_count": 2,
   "metadata": {},
   "outputs": [],
   "source": [
    "gis = GIS(url=\"http://lahub.maps.arcgis.com/home/organization.html\",\n",
    "          username=\"vivian.peng_lahub\",password=\"\") #add your ArcGIS username and password here"
   ]
  },
  {
   "cell_type": "markdown",
   "metadata": {},
   "source": [
    "## Update Test Positivity Layer"
   ]
  },
  {
   "cell_type": "markdown",
   "metadata": {},
   "source": [
    "#### Load loayers from ArcGIS"
   ]
  },
  {
   "cell_type": "code",
   "execution_count": 3,
   "metadata": {},
   "outputs": [],
   "source": [
    "# load test positivity layer\n",
    "tests_layer = gis.content.search('title:Join_Test_Positivity_County_Zip')[1].layers[0] \n",
    "update_features = tests_layer.query().features"
   ]
  },
  {
   "cell_type": "markdown",
   "metadata": {},
   "source": [
    "#### Read in updated data"
   ]
  },
  {
   "cell_type": "code",
   "execution_count": 4,
   "metadata": {},
   "outputs": [],
   "source": [
    "# read in updated data\n",
    "test_positivity = pd.read_csv(\"data/test_positivity_zip.csv\")\n",
    "test_positivity[\"Zip\"] = test_positivity[\"Zip\"].astype(str)"
   ]
  },
  {
   "cell_type": "code",
   "execution_count": 5,
   "metadata": {},
   "outputs": [
    {
     "data": {
      "text/html": [
       "<div>\n",
       "<style scoped>\n",
       "    .dataframe tbody tr th:only-of-type {\n",
       "        vertical-align: middle;\n",
       "    }\n",
       "\n",
       "    .dataframe tbody tr th {\n",
       "        vertical-align: top;\n",
       "    }\n",
       "\n",
       "    .dataframe thead th {\n",
       "        text-align: right;\n",
       "    }\n",
       "</style>\n",
       "<table border=\"1\" class=\"dataframe\">\n",
       "  <thead>\n",
       "    <tr style=\"text-align: right;\">\n",
       "      <th></th>\n",
       "      <th>Zip</th>\n",
       "      <th>Indeterminate</th>\n",
       "      <th>Need New Sample</th>\n",
       "      <th>Negative</th>\n",
       "      <th>Positive</th>\n",
       "      <th>Total</th>\n",
       "      <th>Test Posivitiy</th>\n",
       "      <th>Date</th>\n",
       "    </tr>\n",
       "  </thead>\n",
       "  <tbody>\n",
       "    <tr>\n",
       "      <th>0</th>\n",
       "      <td>0</td>\n",
       "      <td>0</td>\n",
       "      <td>5</td>\n",
       "      <td>56</td>\n",
       "      <td>8</td>\n",
       "      <td>64</td>\n",
       "      <td>0.125000</td>\n",
       "      <td>2021-01-01</td>\n",
       "    </tr>\n",
       "    <tr>\n",
       "      <th>1</th>\n",
       "      <td>1</td>\n",
       "      <td>0</td>\n",
       "      <td>1</td>\n",
       "      <td>18</td>\n",
       "      <td>1</td>\n",
       "      <td>19</td>\n",
       "      <td>0.052632</td>\n",
       "      <td>2021-01-01</td>\n",
       "    </tr>\n",
       "    <tr>\n",
       "      <th>2</th>\n",
       "      <td>10001</td>\n",
       "      <td>0</td>\n",
       "      <td>0</td>\n",
       "      <td>1</td>\n",
       "      <td>0</td>\n",
       "      <td>1</td>\n",
       "      <td>0.000000</td>\n",
       "      <td>2021-01-01</td>\n",
       "    </tr>\n",
       "    <tr>\n",
       "      <th>3</th>\n",
       "      <td>10002</td>\n",
       "      <td>0</td>\n",
       "      <td>0</td>\n",
       "      <td>5</td>\n",
       "      <td>1</td>\n",
       "      <td>6</td>\n",
       "      <td>0.166667</td>\n",
       "      <td>2021-01-01</td>\n",
       "    </tr>\n",
       "    <tr>\n",
       "      <th>4</th>\n",
       "      <td>10003</td>\n",
       "      <td>0</td>\n",
       "      <td>0</td>\n",
       "      <td>1</td>\n",
       "      <td>0</td>\n",
       "      <td>1</td>\n",
       "      <td>0.000000</td>\n",
       "      <td>2021-01-01</td>\n",
       "    </tr>\n",
       "  </tbody>\n",
       "</table>\n",
       "</div>"
      ],
      "text/plain": [
       "     Zip  Indeterminate  Need New Sample  Negative  Positive  Total  \\\n",
       "0      0              0                5        56         8     64   \n",
       "1      1              0                1        18         1     19   \n",
       "2  10001              0                0         1         0      1   \n",
       "3  10002              0                0         5         1      6   \n",
       "4  10003              0                0         1         0      1   \n",
       "\n",
       "   Test Posivitiy        Date  \n",
       "0        0.125000  2021-01-01  \n",
       "1        0.052632  2021-01-01  \n",
       "2        0.000000  2021-01-01  \n",
       "3        0.166667  2021-01-01  \n",
       "4        0.000000  2021-01-01  "
      ]
     },
     "execution_count": 5,
     "metadata": {},
     "output_type": "execute_result"
    }
   ],
   "source": [
    "test_positivity.head()"
   ]
  },
  {
   "cell_type": "code",
   "execution_count": 7,
   "metadata": {},
   "outputs": [],
   "source": [
    "# Read in list of zip codes\n",
    "with open (\"data/LA_county_zips.data\", \"rb\") as filehandle:\n",
    "    LA_county_zips = pickle.load(filehandle)"
   ]
  },
  {
   "cell_type": "code",
   "execution_count": 8,
   "metadata": {},
   "outputs": [],
   "source": [
    "# filter for LA County\n",
    "test_positivity = test_positivity[test_positivity[\"Zip\"].isin(LA_county_zips)]"
   ]
  },
  {
   "cell_type": "markdown",
   "metadata": {},
   "source": [
    "#### Update features"
   ]
  },
  {
   "cell_type": "code",
   "execution_count": 9,
   "metadata": {},
   "outputs": [],
   "source": [
    "#loop through ZIPs and set new values\n",
    "for v in test_positivity.values:\n",
    "    [f for f in update_features if f.attributes['GEOID10']==v[0]][0].attributes[\"Indeterminate\"]= v[1]\n",
    "    [f for f in update_features if f.attributes['GEOID10']==v[0]][0].attributes[\"Need New Sample\"]= v[2]\n",
    "    [f for f in update_features if f.attributes['GEOID10']==v[0]][0].attributes['Negative'] = v[3]\n",
    "    [f for f in update_features if f.attributes['GEOID10']==v[0]][0].attributes['Positive'] = v[4]\n",
    "    [f for f in update_features if f.attributes['GEOID10']==v[0]][0].attributes['Total'] = v[5]\n",
    "    [f for f in update_features if f.attributes['GEOID10']==v[0]][0].attributes['Test Posivitiy'] = v[6]\n",
    "    [f for f in update_features if f.attributes['GEOID10']==v[0]][0].attributes['Date'] = v[7]"
   ]
  },
  {
   "cell_type": "code",
   "execution_count": 10,
   "metadata": {},
   "outputs": [],
   "source": [
    "#edit features to match the updated features\n",
    "for f in update_features:\n",
    "    tests_layer.edit_features(updates=[f])"
   ]
  },
  {
   "cell_type": "markdown",
   "metadata": {},
   "source": [
    "## Update Case/Deaths Layers"
   ]
  },
  {
   "cell_type": "code",
   "execution_count": 11,
   "metadata": {},
   "outputs": [],
   "source": [
    "# read in updated data\n",
    "county = pd.read_csv(\"data/testing_neighborhoods.csv\")\n",
    "county = county[county[\"Neighborhood\"]!='MISCELLANEOUS**']"
   ]
  },
  {
   "cell_type": "code",
   "execution_count": 12,
   "metadata": {},
   "outputs": [
    {
     "data": {
      "text/html": [
       "<div>\n",
       "<style scoped>\n",
       "    .dataframe tbody tr th:only-of-type {\n",
       "        vertical-align: middle;\n",
       "    }\n",
       "\n",
       "    .dataframe tbody tr th {\n",
       "        vertical-align: top;\n",
       "    }\n",
       "\n",
       "    .dataframe thead th {\n",
       "        text-align: right;\n",
       "    }\n",
       "</style>\n",
       "<table border=\"1\" class=\"dataframe\">\n",
       "  <thead>\n",
       "    <tr style=\"text-align: right;\">\n",
       "      <th></th>\n",
       "      <th>Neighborhood</th>\n",
       "      <th>New Cases 12.26 to 1.1</th>\n",
       "      <th>Two Weeks Cases</th>\n",
       "      <th>New Deaths 12.26 to 1.1</th>\n",
       "      <th>Case Rate 12.18 to 1.1</th>\n",
       "      <th>Adjusted Case Rate 12.18 to 1.1</th>\n",
       "      <th>population</th>\n",
       "      <th>Cumulative Confirmed Case Count 1.1</th>\n",
       "      <th>Cumulative Death Count 1.1</th>\n",
       "      <th>Date</th>\n",
       "      <th>Display Name</th>\n",
       "      <th>top_case_rate</th>\n",
       "      <th>top_new_cases</th>\n",
       "    </tr>\n",
       "  </thead>\n",
       "  <tbody>\n",
       "    <tr>\n",
       "      <th>0</th>\n",
       "      <td>ADAMS-NORMANDIE</td>\n",
       "      <td>96.0</td>\n",
       "      <td>184.0</td>\n",
       "      <td>2.0</td>\n",
       "      <td>2191.587133</td>\n",
       "      <td>1895.0</td>\n",
       "      <td>8202.0</td>\n",
       "      <td>778.0</td>\n",
       "      <td>7.0</td>\n",
       "      <td>2021-01-01</td>\n",
       "      <td>Adams-Normandie</td>\n",
       "      <td>38.0</td>\n",
       "      <td>88.0</td>\n",
       "    </tr>\n",
       "    <tr>\n",
       "      <th>1</th>\n",
       "      <td>ALSACE</td>\n",
       "      <td>120.0</td>\n",
       "      <td>245.0</td>\n",
       "      <td>0.0</td>\n",
       "      <td>1875.539512</td>\n",
       "      <td>1670.0</td>\n",
       "      <td>12445.0</td>\n",
       "      <td>1033.0</td>\n",
       "      <td>4.0</td>\n",
       "      <td>2021-01-01</td>\n",
       "      <td>Alsace</td>\n",
       "      <td>56.0</td>\n",
       "      <td>77.0</td>\n",
       "    </tr>\n",
       "  </tbody>\n",
       "</table>\n",
       "</div>"
      ],
      "text/plain": [
       "      Neighborhood  New Cases 12.26 to 1.1  Two Weeks Cases  \\\n",
       "0  ADAMS-NORMANDIE                    96.0            184.0   \n",
       "1           ALSACE                   120.0            245.0   \n",
       "\n",
       "   New Deaths 12.26 to 1.1  Case Rate 12.18 to 1.1  \\\n",
       "0                      2.0             2191.587133   \n",
       "1                      0.0             1875.539512   \n",
       "\n",
       "   Adjusted Case Rate 12.18 to 1.1  population  \\\n",
       "0                           1895.0      8202.0   \n",
       "1                           1670.0     12445.0   \n",
       "\n",
       "   Cumulative Confirmed Case Count 1.1  Cumulative Death Count 1.1  \\\n",
       "0                                778.0                         7.0   \n",
       "1                               1033.0                         4.0   \n",
       "\n",
       "         Date     Display Name  top_case_rate  top_new_cases  \n",
       "0  2021-01-01  Adams-Normandie           38.0           88.0  \n",
       "1  2021-01-01           Alsace           56.0           77.0  "
      ]
     },
     "execution_count": 12,
     "metadata": {},
     "output_type": "execute_result"
    }
   ],
   "source": [
    "county.head(2)"
   ]
  },
  {
   "cell_type": "code",
   "execution_count": 13,
   "metadata": {},
   "outputs": [],
   "source": [
    "def update_cases_deaths_layer(title, county):\n",
    "    # load layers\n",
    "    layer = gis.content.search(title)[0].layers[0] \n",
    "    update_features = layer.query().features\n",
    "    \n",
    "    #loop through and set new values\n",
    "    for v in county.values:\n",
    "        [f for f in update_features if f.attributes['COMTY_NAME']==v[0]][0].attributes[\"New_Cases\"]= v[1]\n",
    "        [f for f in update_features if f.attributes['COMTY_NAME']==v[0]][0].attributes[\"New_Deaths\"]= v[3]\n",
    "        [f for f in update_features if f.attributes['COMTY_NAME']==v[0]][0].attributes['Two_Week_Crude_IR__per_100k_'] = v[4]\n",
    "        [f for f in update_features if f.attributes['COMTY_NAME']==v[0]][0].attributes['adj_case_rate'] = v[5]\n",
    "        [f for f in update_features if f.attributes['COMTY_NAME']==v[0]][0].attributes['Cumulative_Confirmed_Case_Count'] = v[7]\n",
    "        [f for f in update_features if f.attributes['COMTY_NAME']==v[0]][0].attributes['Cumulative_Death_Count'] = v[8]\n",
    "        [f for f in update_features if f.attributes['COMTY_NAME']==v[0]][0].attributes['Date_1'] = v[9]\n",
    "        [f for f in update_features if f.attributes['COMTY_NAME']==v[0]][0].attributes['top_trends_cases'] = v[11]\n",
    "        [f for f in update_features if f.attributes['COMTY_NAME']==v[0]][0].attributes['top_new_cases'] = v[12]\n",
    "        \n",
    "    #edit features to match the updated features\n",
    "    for f in update_features:\n",
    "        layer.edit_features(updates=[f])"
   ]
  },
  {
   "cell_type": "code",
   "execution_count": 14,
   "metadata": {},
   "outputs": [],
   "source": [
    "# layers_to_update =[\"title:Two_Week_Case_Rates\", \"title:New_Cases_in_Last_7_Days\", \"title:New_Deaths_in_Last_7_Days\",\"title:Top_Trends_Case_Rate\",  \"title:Top_Trends_New_Cases\",]\n",
    "# for layer in layers_to_update:\n",
    "   # update_cases_deaths_layer(layer, county)"
   ]
  },
  {
   "cell_type": "code",
   "execution_count": 15,
   "metadata": {
    "scrolled": true
   },
   "outputs": [],
   "source": [
    "update_cases_deaths_layer('title:Two_Week_Case_Rates', county)"
   ]
  },
  {
   "cell_type": "markdown",
   "metadata": {},
   "source": [
    "## Update Testing Sites Layer"
   ]
  },
  {
   "cell_type": "code",
   "execution_count": 13,
   "metadata": {},
   "outputs": [],
   "source": [
    "from arcgis.features import FeatureLayerCollection"
   ]
  },
  {
   "cell_type": "code",
   "execution_count": 14,
   "metadata": {},
   "outputs": [],
   "source": [
    "flayer = gis.content.get(\"1624e8fb02e54d138e2b5206dac23998\")"
   ]
  },
  {
   "cell_type": "code",
   "execution_count": 15,
   "metadata": {},
   "outputs": [],
   "source": [
    "flayer_collection = FeatureLayerCollection.fromitem(flayer)"
   ]
  },
  {
   "cell_type": "code",
   "execution_count": 16,
   "metadata": {},
   "outputs": [
    {
     "data": {
      "text/plain": [
       "{'success': True}"
      ]
     },
     "execution_count": 16,
     "metadata": {},
     "output_type": "execute_result"
    }
   ],
   "source": [
    "flayer_collection.manager.overwrite(\"data/mobile_testing_sites.csv\")"
   ]
  },
  {
   "cell_type": "markdown",
   "metadata": {},
   "source": [
    "## Creating new fields"
   ]
  },
  {
   "cell_type": "code",
   "execution_count": 5,
   "metadata": {},
   "outputs": [],
   "source": [
    "layer = gis.content.search('title:Two_Week_Case_Rates')[0].layers[0] \n",
    "layer_fields = layer.manager.properties.fields"
   ]
  },
  {
   "cell_type": "code",
   "execution_count": 6,
   "metadata": {},
   "outputs": [],
   "source": [
    "new_fields = ['adj_case_rate']"
   ]
  },
  {
   "cell_type": "code",
   "execution_count": 8,
   "metadata": {},
   "outputs": [
    {
     "data": {
      "text/plain": [
       "{'name': 'Two_Week_Crude_IR__per_100k_',\n",
       " 'type': 'esriFieldTypeDouble',\n",
       " 'actualType': 'decimal',\n",
       " 'alias': 'Two Week Crude IR* (per 100k)',\n",
       " 'sqlType': 'sqlTypeDecimal',\n",
       " 'nullable': True,\n",
       " 'editable': True,\n",
       " 'visible': True,\n",
       " 'domain': None,\n",
       " 'defaultValue': None}"
      ]
     },
     "execution_count": 8,
     "metadata": {},
     "output_type": "execute_result"
    }
   ],
   "source": [
    "template_field"
   ]
  },
  {
   "cell_type": "code",
   "execution_count": 7,
   "metadata": {},
   "outputs": [],
   "source": [
    "template_field = dict(deepcopy(layer_fields[5]))"
   ]
  },
  {
   "cell_type": "code",
   "execution_count": 9,
   "metadata": {},
   "outputs": [
    {
     "data": {
      "text/plain": [
       "{'success': True}"
      ]
     },
     "execution_count": 9,
     "metadata": {},
     "output_type": "execute_result"
    }
   ],
   "source": [
    "#set up new definition and add to dictionary\n",
    "fields_to_be_added = []\n",
    "\n",
    "#create ammended dictionary for each new field\n",
    "for new_field_name in new_fields:\n",
    "    current_field = deepcopy(template_field)\n",
    "    current_field['name'] = new_field_name.lower()\n",
    "    current_field['alias'] = new_field_name\n",
    "    fields_to_be_added.append(current_field)\n",
    "    \n",
    "    \n",
    "#add definition\n",
    "layer.manager.add_to_definition({'fields':fields_to_be_added})"
   ]
  },
  {
   "cell_type": "code",
   "execution_count": null,
   "metadata": {},
   "outputs": [],
   "source": []
  }
 ],
 "metadata": {
  "kernelspec": {
   "display_name": "Python 3",
   "language": "python",
   "name": "python3"
  },
  "language_info": {
   "codemirror_mode": {
    "name": "ipython",
    "version": 3
   },
   "file_extension": ".py",
   "mimetype": "text/x-python",
   "name": "python",
   "nbconvert_exporter": "python",
   "pygments_lexer": "ipython3",
   "version": "3.7.8"
  }
 },
 "nbformat": 4,
 "nbformat_minor": 4
}
