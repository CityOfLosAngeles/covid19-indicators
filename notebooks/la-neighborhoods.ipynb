{
 "cells": [
  {
   "cell_type": "markdown",
   "metadata": {},
   "source": [
    "# LA County COVID-19 Cases by Neighborhoods\n",
    "\n",
    "Use LA County's [countywide statistical areas](http://geohub.lacity.org/datasets/lacounty::countywide-statistical-areas-csa) and look at trends in cases and new cases by neighborhood.\n",
    "\n",
    "**Related daily reports:** \n",
    "1. **[US counties report on cases and deaths for select major cities](https://cityoflosangeles.github.io/covid19-indicators/us-county-trends.html)**\n",
    "1. **[CA counties report on cases, deaths, and hospitalizations](https://cityoflosangeles.github.io/covid19-indicators/ca-county-trends.html)**\n",
    "1. **[Los Angeles County, detailed indicators](https://cityoflosangeles.github.io/covid19-indicators/coronavirus-stats.html)**\n",
    "\n",
    "Code available in GitHub: [https://github.com/CityOfLosAngeles/covid19-indicators](https://github.com/CityOfLosAngeles/covid19-indicators)\n",
    "<br>\n",
    "Get informed with [public health research](https://github.com/CityOfLosAngeles/covid19-indicators/blob/master/reopening-sources.md)"
   ]
  },
  {
   "cell_type": "code",
   "execution_count": null,
   "metadata": {},
   "outputs": [],
   "source": [
    "import pandas as pd\n",
    "\n",
    "import default_parameters\n",
    "import make_charts\n",
    "import neighborhood_charts\n",
    "\n",
    "from datetime import date\n",
    "from IPython.display import Markdown, HTML\n",
    "\n",
    "# Default parameters\n",
    "start_date = default_parameters.start_date\n",
    "today_date = default_parameters.today_date\n",
    "\n",
    "fulldate_format = default_parameters.fulldate_format\n",
    "\n",
    "start_date = date(2020, 4, 1)"
   ]
  },
  {
   "cell_type": "code",
   "execution_count": null,
   "metadata": {},
   "outputs": [],
   "source": [
    "df = neighborhood_charts.prep_data(start_date)\n",
    "\n",
    "# Construct list again, because we change the \"/\" into \"-\"\n",
    "la_neighborhoods = sorted(list(df[df.group_name==\"City of LA\"].aggregate_region.unique()))\n",
    "unincorporated_neighborhoods = sorted(list(df[df.group_name==\"Unincorporated\"].aggregate_region.unique()))\n",
    "incorporated_neighborhoods = sorted(list(df[df.group_name==\"Incorporated\"].aggregate_region.unique()))\n",
    "\n",
    "\n",
    "data_through = df.date.max()\n",
    "neighborhoods = list(df.aggregate_region.unique())"
   ]
  },
  {
   "cell_type": "code",
   "execution_count": null,
   "metadata": {},
   "outputs": [],
   "source": [
    "display(Markdown(\n",
    "        f\"Report updated: {default_parameters.today_date.strftime(fulldate_format)}; \"\n",
    "        f\"data available through {data_through.strftime(fulldate_format)}.\"\n",
    "    )\n",
    ")"
   ]
  },
  {
   "cell_type": "markdown",
   "metadata": {},
   "source": [
    "<strong><span style='color:f\"#515252\"'>The 25th and 75th percentile of cases and cases per 100k are calculated each day and drawn in gray.</span></strong>\n",
    "\n",
    "<strong><span style='color:#1696D2'>The neighborhood's own trend is drawn in blue.</span></strong>\n",
    "\n",
    "The percentiles provide context to whether a neighborhood's cases are relatively high or lower compared to other parts of the county. Data from the past 2 weeks are shaded in gray.\n",
    "\n",
    "**Note:** Some neighborhoods report cases, but do not have population data. Rankings are calculated using cases per 100k to normalize across population differences. Neighborhoods without population data are excluded from the rankings.\n",
    "Also, since rolling averages are used, decimals are possible, and are rounded to 1 decimal place. "
   ]
  },
  {
   "cell_type": "code",
   "execution_count": null,
   "metadata": {},
   "outputs": [],
   "source": [
    "#References\n",
    "#https://stackoverflow.com/questions/35160256/how-do-i-output-lists-as-a-table-in-jupyter-notebook\n",
    "#https://stackovearflow.com/questions/7572901/python-html-combine-multiple-htmls-into-one"
   ]
  },
  {
   "cell_type": "markdown",
   "metadata": {},
   "source": [
    "<a id='top'></a>"
   ]
  },
  {
   "cell_type": "markdown",
   "metadata": {},
   "source": [
    "## Neighborhoods by Group:\n",
    "Select neighborhoods within the City of LA, other incorporated cities in LA County, and unincorporated areas in LA County."
   ]
  },
  {
   "cell_type": "code",
   "execution_count": null,
   "metadata": {},
   "outputs": [],
   "source": [
    "for list_name in [la_neighborhoods, unincorporated_neighborhoods, incorporated_neighborhoods]:\n",
    "    combined_html = \"\"\n",
    "    for i, name in enumerate(list_name):\n",
    "        new_name = name.replace(\" - \", \"-\").replace(\" \", \"-\")\n",
    "        \n",
    "        if i < len(list_name)-1:\n",
    "            name_html = f\"<a href=#{new_name}>{name}, </a>\"\n",
    "            combined_html += name_html\n",
    "\n",
    "        elif i == len(list_name)-1:\n",
    "            name_html = f\"<a href=#{new_name}>{name}</a>\"\n",
    "            combined_html += name_html\n",
    "    \n",
    "    if list_name == la_neighborhoods:\n",
    "        group_title = \"City of LA: \"\n",
    "    elif list_name == incorporated_neighborhoods:\n",
    "        group_title = \"LA County - Incorporated Cities: \"\n",
    "    elif list_name == unincorporated_neighborhoods:\n",
    "        group_title = \"LA County - Unincorporated: \"\n",
    "\n",
    "    display(Markdown(f\"<strong>{group_title}</strong>\"))\n",
    "    display(HTML(combined_html))"
   ]
  },
  {
   "cell_type": "code",
   "execution_count": null,
   "metadata": {},
   "outputs": [],
   "source": [
    "for c in neighborhoods:\n",
    "    id_anchor = c.replace(\" - \", \"-\").replace(\" \", \"-\")\n",
    "    \n",
    "    display(HTML(f\"<a id={id_anchor}></a>\"))\n",
    "    neighborhood_charts.make_chart(df, c)\n",
    "    display(HTML(\n",
    "        \"<br>\"\n",
    "        \"<a href=#top>Return to top</a><br>\"\n",
    "    ))"
   ]
  },
  {
   "cell_type": "code",
   "execution_count": null,
   "metadata": {},
   "outputs": [],
   "source": []
  }
 ],
 "metadata": {
  "kernelspec": {
   "display_name": "Python 3",
   "language": "python",
   "name": "python3"
  },
  "language_info": {
   "codemirror_mode": {
    "name": "ipython",
    "version": 3
   },
   "file_extension": ".py",
   "mimetype": "text/x-python",
   "name": "python",
   "nbconvert_exporter": "python",
   "pygments_lexer": "ipython3",
   "version": "3.7.8"
  }
 },
 "nbformat": 4,
 "nbformat_minor": 4
}
