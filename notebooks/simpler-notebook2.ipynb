{
 "cells": [
  {
   "cell_type": "markdown",
   "metadata": {},
   "source": [
    "# Test simpler notebook #2"
   ]
  },
  {
   "cell_type": "code",
   "execution_count": 5,
   "metadata": {},
   "outputs": [],
   "source": [
    "import pandas as pd\n",
    "\n",
    "details = { \n",
    "    'Name' : ['Ankit', 'Aishwarya', 'Shaurya', 'Shivangi'], \n",
    "    'Age' : [23, 21, 22, 21], \n",
    "    'University' : ['BHU', 'JNU', 'DU', 'BHU'], \n",
    "} \n",
    "  \n",
    "# creating a Dataframe object  \n",
    "df = pd.DataFrame(details) "
   ]
  },
  {
   "cell_type": "code",
   "execution_count": 7,
   "metadata": {},
   "outputs": [
    {
     "name": "stdout",
     "output_type": "stream",
     "text": [
      "        Name  Age University\n",
      "0      Ankit   23        BHU\n",
      "1  Aishwarya   21        JNU\n",
      "2    Shaurya   22         DU\n",
      "3   Shivangi   21        BHU\n"
     ]
    }
   ],
   "source": [
    "print(df.head())"
   ]
  },
  {
   "cell_type": "code",
   "execution_count": null,
   "metadata": {},
   "outputs": [],
   "source": []
  }
 ],
 "metadata": {
  "kernelspec": {
   "display_name": "Python 3",
   "language": "python",
   "name": "python3"
  },
  "language_info": {
   "codemirror_mode": {
    "name": "ipython",
    "version": 3
   },
   "file_extension": ".py",
   "mimetype": "text/x-python",
   "name": "python",
   "nbconvert_exporter": "python",
   "pygments_lexer": "ipython3",
   "version": "3.7.8"
  }
 },
 "nbformat": 4,
 "nbformat_minor": 4
}
