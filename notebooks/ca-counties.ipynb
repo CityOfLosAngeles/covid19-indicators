{
 "cells": [
  {
   "cell_type": "markdown",
   "metadata": {},
   "source": [
    "# CA Coronavirus Cases and Deaths Trends\n",
    "\n",
    "CA's [Blueprint for a Safer Economy](https://www.cdph.ca.gov/Programs/CID/DCDC/Pages/COVID-19/COVID19CountyMonitoringOverview.aspx) assigns each county [to a tier](https://www.cdph.ca.gov/Programs/CID/DCDC/Pages/COVID-19/COVID19CountyMonitoringOverview.aspx) based on case rate and test positivity rate. What's opened / closed [under each tier](https://www.cdph.ca.gov/Programs/CID/DCDC/CDPH%20Document%20Library/COVID-19/Dimmer-Framework-August_2020.pdf).\n",
    "\n",
    "Tiers, from most severe to least severe, categorizes coronavirus spread as <strong><span style='color:#6B1F84'>widespread; </span></strong>\n",
    "<strong><span style='color:#F3324C'>substantial; </span></strong><strong><span style='color:#F7AE1D'>moderate; </span></strong><strong><span style = 'color:#D0E700'>or minimal.</span></strong>\n",
    "**Counties must stay in the current tier for 3 consecutive weeks and metrics from the last 2 consecutive weeks must fall into less restrictive tier before moving into a less restrictive tier.**\n",
    "\n",
    "We show *only* case charts labeled with each county's population-adjusted tier cut-offs.\n",
    "\n",
    "**Related daily reports:** \n",
    "1. **[US counties report on cases and deaths for select major cities](https://cityoflosangeles.github.io/covid19-indicators/us-county-trends.html)**\n",
    "1. **[Los Angeles County, detailed indicators](https://cityoflosangeles.github.io/covid19-indicators/coronavirus-stats.html)**\n",
    "1. **[Los Angeles County neighborhoods report on cases and deaths](https://cityoflosangeles.github.io/covid19-indicators/la-neighborhoods-trends.html)**\n",
    "\n",
    "Code available in GitHub: [https://github.com/CityOfLosAngeles/covid19-indicators](https://github.com/CityOfLosAngeles/covid19-indicators)\n",
    "<br>\n",
    "Get informed with [public health research](https://github.com/CityOfLosAngeles/covid19-indicators/blob/master/reopening-sources.md)"
   ]
  },
  {
   "cell_type": "code",
   "execution_count": null,
   "metadata": {},
   "outputs": [],
   "source": [
    "import altair as alt\n",
    "import altair_saver\n",
    "import os\n",
    "import pandas as pd\n",
    "\n",
    "import default_parameters\n",
    "import make_charts\n",
    "import us_county_utils\n",
    "\n",
    "from IPython.display import display_html, Markdown, HTML, Image\n",
    "\n",
    "# Default parameters\n",
    "time_zone = default_parameters.time_zone\n",
    "start_date = default_parameters.start_date\n",
    "today_date = default_parameters.today_date\n",
    "\n",
    "fulldate_format = default_parameters.fulldate_format"
   ]
  },
  {
   "cell_type": "code",
   "execution_count": null,
   "metadata": {},
   "outputs": [],
   "source": [
    "STATE = \"CA\"\n",
    "\n",
    "jhu = us_county_utils.clean_jhu(start_date)\n",
    "jhu = jhu[jhu.state_abbrev==STATE]\n",
    "\n",
    "hospitalizations = us_county_utils.clean_hospitalizations(start_date)\n",
    "\n",
    "ca_counties = list(jhu[jhu.state_abbrev==STATE].county.unique()) \n",
    "\n",
    "# Put LA county first\n",
    "ca_counties.remove(\"Los Angeles\")\n",
    "ca_counties = [\"Los Angeles\"] + ca_counties\n",
    "\n",
    "data_through = jhu.date.max()"
   ]
  },
  {
   "cell_type": "code",
   "execution_count": null,
   "metadata": {},
   "outputs": [],
   "source": [
    "display(Markdown(\n",
    "        f\"Report updated: {default_parameters.today_date.strftime(fulldate_format)}; \"\n",
    "        f\"data available through {data_through.strftime(fulldate_format)}.\"\n",
    "    )\n",
    ")"
   ]
  },
  {
   "cell_type": "code",
   "execution_count": null,
   "metadata": {},
   "outputs": [],
   "source": [
    "title_font_size = 9\n",
    "font_name = make_charts.font_name\n",
    "grid_opacity = make_charts.grid_opacity\n",
    "domain_opacity = make_charts.domain_opacity\n",
    "stroke_opacity = make_charts.stroke_opacity\n",
    "chart_width = make_charts.chart_width\n",
    "chart_height = make_charts.chart_height\n",
    "\n",
    "\n",
    "def plot_charts(cases_df, hospital_df, county_name):\n",
    "    cases_df = cases_df[cases_df.county==county_name]\n",
    "    hospital_df = hospital_df[hospital_df.county==county_name]\n",
    "    \n",
    "    name = cases_df.county.iloc[0]\n",
    "    \n",
    "    cases_chart, deaths_chart = make_charts.setup_cases_deaths_chart(cases_df, \"county\", name)\n",
    "    hospitalizations_chart = make_charts.setup_county_covid_hospital_chart(\n",
    "        hospital_df.drop(columns = \"date\"), county_name)\n",
    "    \n",
    "    chart = (alt.hconcat(cases_chart, deaths_chart, hospitalizations_chart)\n",
    "             .configure_title(\n",
    "                 fontSize=title_font_size, font=font_name, anchor=\"middle\", color=\"black\"\n",
    "             ).configure_axis(\n",
    "                 gridOpacity=grid_opacity, domainOpacity=domain_opacity\n",
    "             ).configure_view(strokeOpacity=stroke_opacity)\n",
    "            )\n",
    "    \n",
    "    \n",
    "    county_state_name = county_name + f\", {STATE}\"\n",
    "    display(Markdown(f\"#### {county_state_name}\"))\n",
    "    us_county_utils.county_caption(cases_df, county_name)\n",
    "    us_county_utils.ca_hospitalizations_caption(hospital_df, county_name)\n",
    "    \n",
    "    make_charts.show_svg(chart)"
   ]
  },
  {
   "cell_type": "code",
   "execution_count": null,
   "metadata": {},
   "outputs": [],
   "source": [
    "display(Markdown(\"<strong>Cases chart, explained</strong>\"))\n",
    "Image(\"../notebooks/chart_parts_explained.png\", width=700)"
   ]
  },
  {
   "cell_type": "markdown",
   "metadata": {},
   "source": [
    "<a id='counties_by_region'></a>"
   ]
  },
  {
   "cell_type": "markdown",
   "metadata": {},
   "source": [
    "## Counties by Region\n",
    "<strong>Superior California Region: </strong> [Butte](#Butte), Colusa, \n",
    "[El Dorado](#El-Dorado), \n",
    "Glenn, \n",
    "[Lassen](#Lassen), Modoc, \n",
    "[Nevada](#Nevada), \n",
    "[Placer](#Placer), Plumas, \n",
    "[Sacramento](#Sacramento), \n",
    "[Shasta](#Shasta), Sierra, Siskiyou, \n",
    "[Sutter](#Sutter), \n",
    "[Tehama](#Tehama), \n",
    "[Yolo](#Yolo), \n",
    "[Yuba](#Yuba)\n",
    "<br>\n",
    "<strong>North Coast:</strong> [Del Norte](#Del-Norte), \n",
    "[Humboldt](#Humboldt), \n",
    "[Lake](#Lake), \n",
    "[Mendocino](#Mendocino), \n",
    "[Napa](#Napa), \n",
    "[Sonoma](#Sonoma), Trinity\n",
    "<br>\n",
    "<strong>San Francisco Bay Area:</strong> [Alameda](#Alameda), \n",
    "[Contra Costa](#Contra-Costa), \n",
    "[Marin](#Marin), \n",
    "[San Francisco](#San-Francisco), \n",
    "[San Mateo](#San-Mateo), \n",
    "[Santa Clara](#Santa-Clara), \n",
    "[Solano](#Solano)\n",
    "<br>\n",
    "<strong>Northern San Joaquin Valley:</strong> Alpine, Amador, Calaveras, \n",
    "[Madera](#Madera), Mariposa, \n",
    "[Merced](#Merced), \n",
    "Mono, \n",
    "[San Joaquin](#San-Joaquin), \n",
    "[Stanislaus](#Stanislaus), \n",
    "[Tuolumne](#Tuolumne)\n",
    "<br>\n",
    "<strong>Central Coast:</strong> [Monterey](#Monterey), \n",
    "[San Benito](#San-Benito), \n",
    "[San Luis Obispo](#San-Luis-Obispo), \n",
    "[Santa Barbara](#Santa-Barbara), \n",
    "[Santa Cruz](#Santa-Cruz), \n",
    "[Ventura](#Ventura)\n",
    "<br>\n",
    "<strong>Southern San Joaquin Valley:</strong> [Fresno](#Fresno), \n",
    "Inyo, \n",
    "[Kern](#Kern), \n",
    "[Kings](#Kings), \n",
    "[Tulare](#Tulare)\n",
    "<br>\n",
    "<strong>Southern California:</strong> [Los Angeles](#Los-Angeles), \n",
    "[Orange](#Orange), \n",
    "[Riverside](#Riverside), \n",
    "[San Bernardino](#San-Bernardino)\n",
    "<br>\n",
    "<strong>San Diego-Imperial:</strong> [Imperial](#Imperial), \n",
    "[San Diego](#San-Diego)\n",
    "<br>\n",
    "\n",
    "Note for <i>small values</i>: If the 7-day rolling average of new cases or new deaths is under 10, the 7-day rolling average is listed for the past week, rather than a percent change. Given that it is a rolling average, decimals are possible, and are rounded to 1 decimal place. Similarly for hospitalizations."
   ]
  },
  {
   "cell_type": "code",
   "execution_count": null,
   "metadata": {},
   "outputs": [],
   "source": [
    "for c in ca_counties:\n",
    "    id_anchor = c.replace(\" - \", \"-\").replace(\" \", \"-\")\n",
    "\n",
    "    display(HTML(f\"<a id={id_anchor}></a>\"))\n",
    "    plot_charts(jhu, hospitalizations, c)\n",
    "    display(HTML(\n",
    "        \"<br>\"\n",
    "        \"<a href=#counties_by_region>Return to top</a><br>\"\n",
    "    ))"
   ]
  },
  {
   "cell_type": "code",
   "execution_count": null,
   "metadata": {},
   "outputs": [],
   "source": []
  }
 ],
 "metadata": {
  "kernelspec": {
   "display_name": "Python 3",
   "language": "python",
   "name": "python3"
  },
  "language_info": {
   "codemirror_mode": {
    "name": "ipython",
    "version": 3
   },
   "file_extension": ".py",
   "mimetype": "text/x-python",
   "name": "python",
   "nbconvert_exporter": "python",
   "pygments_lexer": "ipython3",
   "version": "3.7.8"
  }
 },
 "nbformat": 4,
 "nbformat_minor": 4
}
