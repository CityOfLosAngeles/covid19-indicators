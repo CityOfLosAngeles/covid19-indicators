{
 "cells": [
  {
   "cell_type": "markdown",
   "metadata": {},
   "source": [
    "# Indicators only"
   ]
  },
  {
   "cell_type": "code",
   "execution_count": 2,
   "metadata": {},
   "outputs": [],
   "source": [
    "import pandas as pd\n",
    "import pytz\n",
    "\n",
    "import utils\n",
    "import meet_indicators\n",
    "\n",
    "from datetime import date, datetime, timedelta\n",
    "from IPython.display import Markdown\n",
    "\n",
    "\n",
    "# Default parameters\n",
    "county_state_name = utils.county_state_name\n",
    "state_name = utils.state_name\n",
    "msa_name = utils.msa_name\n",
    "time_zone = utils.time_zone\n",
    "start_date = utils.start_date\n",
    "yesterday_date = utils.yesterday_date\n",
    "today_date = utils.today_date\n",
    "two_weeks_ago = utils.two_weeks_ago\n",
    "\n",
    "# Daily testing upper and lower bound\n",
    "test_lower_bound = 10_000\n",
    "test_upper_bound = 16_667\n",
    "positive_bound = 0.10"
   ]
  },
  {
   "cell_type": "code",
   "execution_count": 3,
   "metadata": {},
   "outputs": [],
   "source": [
    "la_county_case_indicator = meet_indicators.meet_case(\"county\", county_state_name, start_date)\n",
    "la_county_death_indicator = meet_indicators.meet_death(\"county\", county_state_name, start_date)\n",
    "ca_case_indicator = meet_indicators.meet_case(\"state\", state_name, start_date)\n",
    "ca_death_indicator = meet_indicators.meet_death(\"state\", state_name, start_date)\n",
    "la_msa_case_indicator = meet_indicators.meet_case(\"msa\", msa_name, start_date)\n",
    "la_msa_death_indicator = meet_indicators.meet_death(\"msa\", msa_name, start_date)"
   ]
  },
  {
   "cell_type": "code",
   "execution_count": 4,
   "metadata": {},
   "outputs": [
    {
     "name": "stdout",
     "output_type": "stream",
     "text": [
      "5\n",
      "8\n",
      "6\n",
      "7\n",
      "4\n",
      "8\n"
     ]
    }
   ],
   "source": [
    "print(la_county_case_indicator)\n",
    "print(la_county_death_indicator)\n",
    "print(ca_case_indicator)\n",
    "print(ca_death_indicator)\n",
    "print(la_msa_case_indicator)\n",
    "print(la_msa_death_indicator)"
   ]
  },
  {
   "cell_type": "code",
   "execution_count": 5,
   "metadata": {},
   "outputs": [
    {
     "data": {
      "text/markdown": [
       "#### Indicators as of 5/20/20:"
      ],
      "text/plain": [
       "<IPython.core.display.Markdown object>"
      ]
     },
     "metadata": {},
     "output_type": "display_data"
    }
   ],
   "source": [
    "display(Markdown(f\"#### Indicators as of {yesterday_date}:\"))"
   ]
  },
  {
   "cell_type": "code",
   "execution_count": 7,
   "metadata": {},
   "outputs": [
    {
     "name": "stdout",
     "output_type": "stream",
     "text": [
      "7\n"
     ]
    }
   ],
   "source": [
    "lacity_case_indicator = meet_indicators.meet_lacity_case(start_date)\n",
    "print(lacity_case_color)"
   ]
  },
  {
   "cell_type": "code",
   "execution_count": 8,
   "metadata": {},
   "outputs": [],
   "source": [
    "test_indicator_color = meet_indicators.meet_daily_testing(yesterday_date, test_lower_bound, test_upper_bound)\n",
    "positive_indicator_color = meet_indicators.meet_positive_share(yesterday_date, positive_bound)"
   ]
  },
  {
   "cell_type": "code",
   "execution_count": 9,
   "metadata": {},
   "outputs": [
    {
     "data": {
      "text/markdown": [
       "<span style='color:green'> Daily Testing </span>"
      ],
      "text/plain": [
       "<IPython.core.display.Markdown object>"
      ]
     },
     "metadata": {},
     "output_type": "display_data"
    },
    {
     "data": {
      "text/markdown": [
       "<span style='color:green'> Share of COVID-19 Positive Results </span>"
      ],
      "text/plain": [
       "<IPython.core.display.Markdown object>"
      ]
     },
     "metadata": {},
     "output_type": "display_data"
    }
   ],
   "source": [
    "display(Markdown(f\"<span style='color:{test_indicator_color}'> Daily Testing </span>\"))\n",
    "display(Markdown(f\"<span style='color:{positive_indicator_color}'> Share of COVID-19 Positive Results </span>\"))"
   ]
  },
  {
   "cell_type": "code",
   "execution_count": 11,
   "metadata": {},
   "outputs": [],
   "source": [
    "acute_indicator = meet_indicators.meet_acute(yesterday_date)\n",
    "icu_indicator = meet_indicators.meet_icu(yesterday_date)\n",
    "ventilator_indicator = meet_indicators.meet_ventilator(yesterday_date)"
   ]
  },
  {
   "cell_type": "code",
   "execution_count": 12,
   "metadata": {},
   "outputs": [
    {
     "name": "stdout",
     "output_type": "stream",
     "text": [
      "0.39\n",
      "0.33\n",
      "0.57\n"
     ]
    }
   ],
   "source": [
    "print(acute_indicator)\n",
    "print(icu_indicator)\n",
    "print(ventilator_indicator)"
   ]
  },
  {
   "cell_type": "code",
   "execution_count": null,
   "metadata": {},
   "outputs": [],
   "source": []
  }
 ],
 "metadata": {
  "kernelspec": {
   "display_name": "Python 3",
   "language": "python",
   "name": "python3"
  },
  "language_info": {
   "codemirror_mode": {
    "name": "ipython",
    "version": 3
   },
   "file_extension": ".py",
   "mimetype": "text/x-python",
   "name": "python",
   "nbconvert_exporter": "python",
   "pygments_lexer": "ipython3",
   "version": "3.7.3"
  }
 },
 "nbformat": 4,
 "nbformat_minor": 4
}
