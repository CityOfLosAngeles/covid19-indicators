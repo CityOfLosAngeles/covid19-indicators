{
 "cells": [
  {
   "cell_type": "markdown",
   "metadata": {},
   "source": [
    "# LA County COVID-19 Cases by Neighborhoods\n",
    "\n",
    "Use LA County's [countywide statistical areas](http://geohub.lacity.org/datasets/lacounty::countywide-statistical-areas-csa) and look at trends in cases and new cases by neighborhood."
   ]
  },
  {
   "cell_type": "code",
   "execution_count": 1,
   "metadata": {},
   "outputs": [],
   "source": [
    "import ipywidgets\n",
    "import pandas as pd\n",
    "\n",
    "import default_parameters \n",
    "import neighborhood_charts\n",
    "\n",
    "from datetime import date\n",
    "from IPython.display import Markdown \n",
    "\n",
    "yesterday_date = default_parameters.yesterday_date\n",
    "\n",
    "start_date = date(2020, 4, 1)"
   ]
  },
  {
   "cell_type": "code",
   "execution_count": 2,
   "metadata": {},
   "outputs": [],
   "source": [
    "df = neighborhood_charts.prep_data(start_date)"
   ]
  },
  {
   "cell_type": "code",
   "execution_count": 3,
   "metadata": {},
   "outputs": [],
   "source": [
    "def top_5_bottom_5(df, yesterday_date):\n",
    "    keep_cols = [\"aggregate_region\", \"cases\", \"cases_per100k\", \"rank\", \"max_rank\"]\n",
    "    \n",
    "    df = (df[df.date == yesterday_date][keep_cols]\n",
    "          .assign(\n",
    "             cases = df.cases.map(\"{:,}\".format),\n",
    "             rank = df[\"rank\"].astype(int),\n",
    "             max_rank = df.max_rank.astype(int),\n",
    "             cases_per100k = df.cases_per100k.round(2).map(\"{:,.2f}\".format),\n",
    "          )\n",
    "          .rename(columns = {\"aggregate_region\": \"Neighborhood\"})\n",
    "          .sort_values(\"rank\")\n",
    "         )\n",
    "    \n",
    "    \n",
    "    cols_to_show = [\"Neighborhood\", \"cases\", \"cases_per100k\"]\n",
    "    \n",
    "    top_5 = (df[df[\"rank\"] <= 5][cols_to_show]\n",
    "             .reset_index(drop=True)\n",
    "            )\n",
    "    \n",
    "    bottom_5 = (df[(df[\"rank\"] >= df[\"max_rank\"] - 5)]\n",
    "                .sort_values(\"rank\", ascending=False)\n",
    "                [cols_to_show]\n",
    "                .reset_index(drop=True)\n",
    "               )\n",
    "    \n",
    "    \n",
    "    display(Markdown(\n",
    "        \"5 Neighborhoods with <strong>Worst Outbreak</strong> (ranked on cases per 100k)\"\n",
    "        )\n",
    "    )\n",
    "    \n",
    "    display(top_5)\n",
    "    \n",
    "    display(Markdown(\n",
    "        \"5 Neighborhoods with <strong>Least Severe</strong> Outbreak (ranked on cases per 100k)\"\n",
    "        )\n",
    "    )\n",
    "    display(bottom_5)\n"
   ]
  },
  {
   "cell_type": "code",
   "execution_count": 4,
   "metadata": {},
   "outputs": [
    {
     "data": {
      "text/markdown": [
       "5 Neighborhoods with <strong>Worst Outbreak</strong> (ranked on cases per 100k)"
      ],
      "text/plain": [
       "<IPython.core.display.Markdown object>"
      ]
     },
     "metadata": {},
     "output_type": "display_data"
    },
    {
     "data": {
      "text/html": [
       "<div>\n",
       "<style scoped>\n",
       "    .dataframe tbody tr th:only-of-type {\n",
       "        vertical-align: middle;\n",
       "    }\n",
       "\n",
       "    .dataframe tbody tr th {\n",
       "        vertical-align: top;\n",
       "    }\n",
       "\n",
       "    .dataframe thead th {\n",
       "        text-align: right;\n",
       "    }\n",
       "</style>\n",
       "<table border=\"1\" class=\"dataframe\">\n",
       "  <thead>\n",
       "    <tr style=\"text-align: right;\">\n",
       "      <th></th>\n",
       "      <th>Neighborhood</th>\n",
       "      <th>cases</th>\n",
       "      <th>cases_per100k</th>\n",
       "    </tr>\n",
       "  </thead>\n",
       "  <tbody>\n",
       "    <tr>\n",
       "      <th>0</th>\n",
       "      <td>Castaic</td>\n",
       "      <td>2,358</td>\n",
       "      <td>8,324.80</td>\n",
       "    </tr>\n",
       "    <tr>\n",
       "      <th>1</th>\n",
       "      <td>Wholesale District</td>\n",
       "      <td>2,914</td>\n",
       "      <td>7,630.07</td>\n",
       "    </tr>\n",
       "    <tr>\n",
       "      <th>2</th>\n",
       "      <td>Vernon Central</td>\n",
       "      <td>3,792</td>\n",
       "      <td>7,006.52</td>\n",
       "    </tr>\n",
       "    <tr>\n",
       "      <th>3</th>\n",
       "      <td>Central</td>\n",
       "      <td>2,740</td>\n",
       "      <td>7,006.42</td>\n",
       "    </tr>\n",
       "    <tr>\n",
       "      <th>4</th>\n",
       "      <td>Pacoima</td>\n",
       "      <td>5,322</td>\n",
       "      <td>6,657.49</td>\n",
       "    </tr>\n",
       "  </tbody>\n",
       "</table>\n",
       "</div>"
      ],
      "text/plain": [
       "         Neighborhood  cases cases_per100k\n",
       "0             Castaic  2,358      8,324.80\n",
       "1  Wholesale District  2,914      7,630.07\n",
       "2      Vernon Central  3,792      7,006.52\n",
       "3             Central  2,740      7,006.42\n",
       "4             Pacoima  5,322      6,657.49"
      ]
     },
     "metadata": {},
     "output_type": "display_data"
    },
    {
     "data": {
      "text/markdown": [
       "5 Neighborhoods with <strong>Least Severe</strong> Outbreak (ranked on cases per 100k)"
      ],
      "text/plain": [
       "<IPython.core.display.Markdown object>"
      ]
     },
     "metadata": {},
     "output_type": "display_data"
    },
    {
     "data": {
      "text/html": [
       "<div>\n",
       "<style scoped>\n",
       "    .dataframe tbody tr th:only-of-type {\n",
       "        vertical-align: middle;\n",
       "    }\n",
       "\n",
       "    .dataframe tbody tr th {\n",
       "        vertical-align: top;\n",
       "    }\n",
       "\n",
       "    .dataframe thead th {\n",
       "        text-align: right;\n",
       "    }\n",
       "</style>\n",
       "<table border=\"1\" class=\"dataframe\">\n",
       "  <thead>\n",
       "    <tr style=\"text-align: right;\">\n",
       "      <th></th>\n",
       "      <th>Neighborhood</th>\n",
       "      <th>cases</th>\n",
       "      <th>cases_per100k</th>\n",
       "    </tr>\n",
       "  </thead>\n",
       "  <tbody>\n",
       "    <tr>\n",
       "      <th>0</th>\n",
       "      <td>La Canada Flintridge</td>\n",
       "      <td>238</td>\n",
       "      <td>591.26</td>\n",
       "    </tr>\n",
       "    <tr>\n",
       "      <th>1</th>\n",
       "      <td>Miracle Mile</td>\n",
       "      <td>299</td>\n",
       "      <td>877.63</td>\n",
       "    </tr>\n",
       "    <tr>\n",
       "      <th>2</th>\n",
       "      <td>Avalon</td>\n",
       "      <td>36</td>\n",
       "      <td>892.41</td>\n",
       "    </tr>\n",
       "    <tr>\n",
       "      <th>3</th>\n",
       "      <td>Rancho Palos Verdes</td>\n",
       "      <td>408</td>\n",
       "      <td>950.87</td>\n",
       "    </tr>\n",
       "    <tr>\n",
       "      <th>4</th>\n",
       "      <td>Santa Monica Mountains</td>\n",
       "      <td>318</td>\n",
       "      <td>1,007.86</td>\n",
       "    </tr>\n",
       "    <tr>\n",
       "      <th>5</th>\n",
       "      <td>Pacific Palisades</td>\n",
       "      <td>295</td>\n",
       "      <td>1,062.41</td>\n",
       "    </tr>\n",
       "  </tbody>\n",
       "</table>\n",
       "</div>"
      ],
      "text/plain": [
       "             Neighborhood cases cases_per100k\n",
       "0    La Canada Flintridge   238        591.26\n",
       "1            Miracle Mile   299        877.63\n",
       "2                  Avalon    36        892.41\n",
       "3     Rancho Palos Verdes   408        950.87\n",
       "4  Santa Monica Mountains   318      1,007.86\n",
       "5       Pacific Palisades   295      1,062.41"
      ]
     },
     "metadata": {},
     "output_type": "display_data"
    }
   ],
   "source": [
    "top_5_bottom_5(df, yesterday_date)"
   ]
  },
  {
   "cell_type": "markdown",
   "metadata": {},
   "source": [
    "<strong><span style='color:f\"#515252\"'>The 25th and 75th percentile of cases and cases per 100k are calculated each day and drawn in gray.</span></strong>\n",
    "\n",
    "\n",
    "<strong><span style='color:#1696D2'>The neighborhood's own trend is drawn in blue.</span></strong>\n",
    "\n",
    "\n",
    "The percentiles provide context to whether a neighborhood's cases are relatively high or lower compared to other parts of the county. Data from the past 2 weeks are shaded in gray.\n",
    "\n",
    "**Note:** Some neighborhoods report cases, but do not have population data. Rankings are calculated using cases per 100k to normalize across population differences. Neighborhoods without population data are excluded from the rankings."
   ]
  },
  {
   "cell_type": "code",
   "execution_count": 5,
   "metadata": {},
   "outputs": [
    {
     "data": {
      "application/vnd.jupyter.widget-view+json": {
       "model_id": "d541154113474e1e8fb2787ee8f8b030",
       "version_major": 2,
       "version_minor": 0
      },
      "text/plain": [
       "Dropdown(description='Neighborhood', options=('Acton', 'Agoura Hills', 'Alhambra', 'Altadena', 'Arcadia', 'Arl…"
      ]
     },
     "metadata": {},
     "output_type": "display_data"
    },
    {
     "data": {
      "application/vnd.jupyter.widget-view+json": {
       "model_id": "78d48e8b67a047669219c315a358fe31",
       "version_major": 2,
       "version_minor": 0
      },
      "text/plain": [
       "Output()"
      ]
     },
     "metadata": {},
     "output_type": "display_data"
    }
   ],
   "source": [
    "# Make interactive chart\n",
    "neigborhood_dropdown = ipywidgets.Dropdown(\n",
    "    description=\"Neighborhood\",\n",
    "    style = {\"description_width\":\"initial\"},\n",
    "    options=df.aggregate_region.unique()\n",
    ")\n",
    "\n",
    "output = ipywidgets.Output()\n",
    "\n",
    "display(neigborhood_dropdown)\n",
    "display(output)\n",
    "\n",
    "def on_neighborhood_selection(*args):\n",
    "    output.clear_output(wait=True)\n",
    "    neighborhood = neigborhood_dropdown.value\n",
    "    \n",
    "    subset_df = df[df.aggregate_region == neighborhood]\n",
    "    \n",
    "    with output:\n",
    "        neighborhood_charts.make_chart(subset_df, neighborhood)\n",
    "\n",
    "\n",
    "on_neighborhood_selection()\n",
    "neigborhood_dropdown.observe(on_neighborhood_selection, names=\"value\")"
   ]
  },
  {
   "cell_type": "code",
   "execution_count": null,
   "metadata": {},
   "outputs": [],
   "source": []
  }
 ],
 "metadata": {
  "kernelspec": {
   "display_name": "Python 3",
   "language": "python",
   "name": "python3"
  },
  "language_info": {
   "codemirror_mode": {
    "name": "ipython",
    "version": 3
   },
   "file_extension": ".py",
   "mimetype": "text/x-python",
   "name": "python",
   "nbconvert_exporter": "python",
   "pygments_lexer": "ipython3",
   "version": "3.7.8"
  }
 },
 "nbformat": 4,
 "nbformat_minor": 4
}
