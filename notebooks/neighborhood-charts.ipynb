{
 "cells": [
  {
   "cell_type": "markdown",
   "metadata": {},
   "source": [
    "# LA County COVID-19 Cases by Neighborhoods\n",
    "\n",
    "Use LA County's [countywide statistical areas](http://geohub.lacity.org/datasets/lacounty::countywide-statistical-areas-csa) and look at trends in cases and new cases by neighborhood.\n",
    "\n",
    "Raw case numbers, cases per 100k, and new cases are shown on a 7-day rolling average.\n",
    "\n",
    "**The 25th percentile and 75th percentile of cases and cases per 100k are calculated for each day and drawn in gray. The blue line is the neighborhood's 7-day rolling average of cases or new cases.** The percentiles provide context to whether a neighborhood's cases are relatively high or lower compared to other parts of the county."
   ]
  },
  {
   "cell_type": "code",
   "execution_count": 1,
   "metadata": {},
   "outputs": [],
   "source": [
    "import altair as alt\n",
    "import ipywidgets\n",
    "import pandas as pd\n",
    "\n",
    "import default_parameters \n",
    "\n",
    "from datetime import date, timedelta\n",
    "from IPython.display import Markdown \n",
    "\n",
    "S3_FILE_PATH = \"s3://public-health-dashboard/jhu_covid19/\"\n",
    "\n",
    "#---------------------------------------------------------------#\n",
    "# Chart parameters\n",
    "#---------------------------------------------------------------#\n",
    "navy = \"#1696D2\"\n",
    "gray = \"#515252\"\n",
    "\n",
    "# These colors are used for the shading on cases/deaths\n",
    "light_gray = \"#EAEBEB\"\n",
    "\n",
    "title_font_size = 10\n",
    "font_name = \"Arial\"\n",
    "grid_opacity = 0.4\n",
    "domain_opacity = 0.4\n",
    "stroke_opacity = 0\n",
    "time_unit = \"monthdate\"\n",
    "chart_width = 250\n",
    "chart_height = 200\n",
    "bin_spacing = 100\n",
    "fulldate_format = \"%-m/%-d/%y\"\n",
    "monthdate_format = \"%-m/%-d\"\n",
    "\n",
    "yesterday_date = default_parameters.yesterday_date\n",
    "two_weeks_ago = default_parameters.two_weeks_ago\n",
    "one_week_ago = date.today() - timedelta(days=8)\n",
    "one_month_ago = date.today() - timedelta(days=31)"
   ]
  },
  {
   "cell_type": "code",
   "execution_count": 2,
   "metadata": {},
   "outputs": [],
   "source": [
    "df = pd.read_parquet(f\"{S3_FILE_PATH}lacounty-neighborhood-time-series.parquet\")\n",
    "df = df.sort_values([\"Region\", \"date\"]).reset_index(drop=True)"
   ]
  },
  {
   "cell_type": "code",
   "execution_count": 3,
   "metadata": {},
   "outputs": [],
   "source": [
    "def summary_sentence(df, neighborhood):\n",
    "    extract_col = \"cases\"\n",
    "    cases_1month = df[df.date == one_month_ago][extract_col].iloc[0]\n",
    "    cases_2weeks = df[df.date == two_weeks_ago][extract_col].iloc[0]\n",
    "    cases_1week = df[df.date == one_week_ago][extract_col].iloc[0]\n",
    "    \n",
    "    normalized_cases = df[df.date == one_week_ago][\"cases_per100k\"].iloc[0].round(1)\n",
    "    ranking = df[df.date == one_week_ago][\"rank\"].iloc[0].astype(int)\n",
    "    max_rank = df[df.date == one_week_ago][\"max_rank\"].iloc[0].astype(int)\n",
    "     \n",
    "    # Add percent change once we have more recent data\n",
    "    #pct_change = ((cases_2weeks - cases_yesterday) / cases_2weeks) * 100\n",
    "        \n",
    "    display(Markdown(\n",
    "        f\"Cumulative cases reported in {neighborhood}: \"\n",
    "        f\"{cases_1month} cases a month ago, {cases_2weeks} cases 2 weeks ago, and \" \n",
    "        f\"{cases_1week} cases 1 week ago.\"\n",
    "        f\"There were {normalized_cases} cases per 100k residents 1 week ago, making \"\n",
    "        f\"{neighborhood} ranked {ranking} out of {max_rank} neighborhoods \"\n",
    "        \"with cases (with 1 being the most severely hit).\"\n",
    "        )\n",
    "    )"
   ]
  },
  {
   "cell_type": "code",
   "execution_count": 4,
   "metadata": {},
   "outputs": [],
   "source": [
    "def make_chart(df, neighborhood, chart_type):\n",
    "    if chart_type == \"cases\":\n",
    "        plot_col = \"cases_avg7\"\n",
    "        p25_col = \"cases_p25\"\n",
    "        p75_col = \"cases_p75\"\n",
    "        chart_title = f\"{neighborhood}: Cases\"\n",
    "    \n",
    "    if chart_type == \"new_cases\":\n",
    "        plot_col = \"new_cases_avg7\"\n",
    "        p25_col = \"\"\n",
    "        p75_col = \"\"\n",
    "        chart_title = f\"{neighborhood}: New Cases\"\n",
    "    \n",
    "    if chart_type == \"normalized_cases\":\n",
    "        plot_col = \"cases_per100k_avg7\"\n",
    "        chart_title = f\"{neighborhood}: Cases per 100k\"\n",
    "        p25_col = \"ncases_p25\"\n",
    "        p75_col = \"ncases_p75\"\n",
    "        \n",
    "    # Make cases charts\n",
    "    cases_line = (\n",
    "        alt.Chart(df.drop(columns = \"date\"))\n",
    "        .mark_line()\n",
    "        .encode(\n",
    "            x=alt.X(\"date2\", timeUnit=time_unit, \n",
    "                    title=\"date\", axis=alt.Axis(format=monthdate_format)\n",
    "                   ),\n",
    "            y=alt.Y(plot_col, title=\"7-day avg\"),\n",
    "            color=alt.value(navy),\n",
    "        )\n",
    "    )\n",
    "    \n",
    "    cases_shaded = (\n",
    "        alt.Chart(df[df.date >= two_weeks_ago].drop(columns = \"date\"))\n",
    "        .mark_area()\n",
    "        .encode(\n",
    "            x=alt.X(\"date2\", timeUnit = time_unit,\n",
    "                   title = \"date\", axis=alt.Axis(format=monthdate_format)\n",
    "                   ),\n",
    "            y=alt.Y(plot_col, title=\"7-day avg\"),\n",
    "            color=alt.value(light_gray)\n",
    "        )\n",
    "    )\n",
    "    \n",
    "    ptile25_line = (\n",
    "        alt.Chart(df.drop(columns = \"date\"))\n",
    "        .mark_line()\n",
    "        .encode(\n",
    "            x=alt.X(\"date2\", timeUnit=time_unit, \n",
    "                    title=\"date\", axis=alt.Axis(format=monthdate_format)\n",
    "                   ),\n",
    "            y=alt.Y(p25_col, title=\"7-day avg\"),\n",
    "            color=alt.value(gray),\n",
    "        )\n",
    "    )\n",
    "    \n",
    "    ptile75_line = (\n",
    "        alt.Chart(df.drop(columns = \"date\"))\n",
    "        .mark_line()\n",
    "        .encode(\n",
    "            x=alt.X(\"date2\", timeUnit=time_unit, \n",
    "                    title=\"date\", axis=alt.Axis(format=monthdate_format)\n",
    "                   ),\n",
    "            y=alt.Y(p75_col, title=\"7-day avg\"),\n",
    "            color=alt.value(gray),\n",
    "        )\n",
    "    )\n",
    "    \n",
    "    if (chart_type == \"cases\") or (chart_type == \"normalized_cases\"):\n",
    "        chart = (cases_shaded + cases_line + ptile25_line + ptile75_line)\n",
    "                \n",
    "    \n",
    "    if chart_type == \"new_cases\":\n",
    "        chart = (cases_shaded + cases_line)\n",
    "    \n",
    "    chart = (chart\n",
    "        .properties(\n",
    "              title=chart_title, width=chart_width, height=chart_height\n",
    "            )\n",
    "        .configure_title(\n",
    "            fontSize=title_font_size, font=font_name, anchor=\"middle\", color=\"black\"\n",
    "        )\n",
    "        .configure_axis(gridOpacity=grid_opacity, domainOpacity=domain_opacity)\n",
    "        .configure_view(strokeOpacity=stroke_opacity)\n",
    "        )   \n",
    "    \n",
    "    return chart"
   ]
  },
  {
   "cell_type": "code",
   "execution_count": 5,
   "metadata": {},
   "outputs": [
    {
     "data": {
      "application/vnd.jupyter.widget-view+json": {
       "model_id": "7fdd4af2a1ca4e86a2874e62ad3ec948",
       "version_major": 2,
       "version_minor": 0
      },
      "text/plain": [
       "Dropdown(description='Neighborhood', options=('Acton', 'Adams', 'Agoura Hills', 'Agua Dulce', 'Alhambra', 'Als…"
      ]
     },
     "metadata": {},
     "output_type": "display_data"
    },
    {
     "data": {
      "application/vnd.jupyter.widget-view+json": {
       "model_id": "d7adfe94f9f049d79da025dc45083108",
       "version_major": 2,
       "version_minor": 0
      },
      "text/plain": [
       "Output()"
      ]
     },
     "metadata": {},
     "output_type": "display_data"
    }
   ],
   "source": [
    "# Make interactive chart\n",
    "neigborhood_dropdown = ipywidgets.Dropdown(\n",
    "    description=\"Neighborhood\",\n",
    "    options=df.Region.unique()\n",
    ")\n",
    "\n",
    "output = ipywidgets.Output()\n",
    "\n",
    "display(neigborhood_dropdown)\n",
    "display(output)\n",
    "\n",
    "\n",
    "def on_neighborhood_selection(*args):\n",
    "    output.clear_output(wait=True)\n",
    "    neighborhood = neigborhood_dropdown.value\n",
    "    \n",
    "    subset_df = df[df.Region == neighborhood]\n",
    "    \n",
    "    with output:\n",
    "        display(summary_sentence(subset_df, neighborhood))\n",
    "        display(make_chart(subset_df, neighborhood, \"cases\"))\n",
    "        display(make_chart(subset_df, neighborhood, \"normalized_cases\"))\n",
    "        display(make_chart(subset_df, neighborhood, \"new_cases\"))\n",
    "\n",
    "\n",
    "on_neighborhood_selection()\n",
    "neigborhood_dropdown.observe(on_neighborhood_selection, names=\"value\")"
   ]
  },
  {
   "cell_type": "code",
   "execution_count": null,
   "metadata": {},
   "outputs": [],
   "source": []
  }
 ],
 "metadata": {
  "kernelspec": {
   "display_name": "Python 3",
   "language": "python",
   "name": "python3"
  },
  "language_info": {
   "codemirror_mode": {
    "name": "ipython",
    "version": 3
   },
   "file_extension": ".py",
   "mimetype": "text/x-python",
   "name": "python",
   "nbconvert_exporter": "python",
   "pygments_lexer": "ipython3",
   "version": "3.7.6"
  }
 },
 "nbformat": 4,
 "nbformat_minor": 4
}
