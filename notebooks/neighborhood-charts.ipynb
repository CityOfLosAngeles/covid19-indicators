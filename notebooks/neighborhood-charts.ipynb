{
 "cells": [
  {
   "cell_type": "markdown",
   "metadata": {},
   "source": [
    "# LA County COVID-19 Cases by Neighborhoods\n",
    "\n",
    "Use LA County's [countywide statistical areas](http://geohub.lacity.org/datasets/lacounty::countywide-statistical-areas-csa) and look at trends in cases and new cases by neighborhood.\n",
    "\n",
    "**The 25th percentile and 75th percentile of cases are calculated for each day and drawn in gray. The blue line is the neighborhood's 7-day rolling average of cases or new cases.** The percentiles provide context to whether a neighborhood's cases are relatively high or lower compared to other parts of the county."
   ]
  },
  {
   "cell_type": "code",
   "execution_count": 4,
   "metadata": {},
   "outputs": [],
   "source": [
    "import altair as alt\n",
    "import ipywidgets\n",
    "import pandas as pd\n",
    "\n",
    "import default_parameters \n",
    "S3_FILE_PATH = \"s3://public-health-dashboard/jhu_covid19/\"\n",
    "\n",
    "#---------------------------------------------------------------#\n",
    "# Chart parameters\n",
    "#---------------------------------------------------------------#\n",
    "navy = \"#1696D2\"\n",
    "gray = \"#515252\"\n",
    "\n",
    "# These colors are used for the shading on cases/deaths\n",
    "light_gray = \"#EAEBEB\"\n",
    "\n",
    "title_font_size = 10\n",
    "font_name = \"Arial\"\n",
    "grid_opacity = 0.4\n",
    "domain_opacity = 0.4\n",
    "stroke_opacity = 0\n",
    "time_unit = \"monthdate\"\n",
    "chart_width = 250\n",
    "chart_height = 200\n",
    "bin_spacing = 100\n",
    "fulldate_format = \"%-m/%-d/%y\"\n",
    "monthdate_format = \"%-m/%-d\"\n",
    "\n",
    "two_weeks_ago = default_parameters.two_weeks_ago"
   ]
  },
  {
   "cell_type": "code",
   "execution_count": 5,
   "metadata": {},
   "outputs": [],
   "source": [
    "def make_chart(df, neighborhood, chart_type):\n",
    "    if chart_type == \"cases\":\n",
    "        plot_col = \"cases_avg7\"\n",
    "        chart_title = f\"{neighborhood}: Cases\"\n",
    "    if chart_type == \"new_cases\":\n",
    "        plot_col = \"new_cases_avg7\"\n",
    "        chart_title = f\"{neighborhood}: New Cases\"\n",
    "\n",
    "    # Make cases charts\n",
    "    cases_line = (\n",
    "        alt.Chart(df.drop(columns = \"date\"))\n",
    "        .mark_line()\n",
    "        .encode(\n",
    "            x=alt.X(\"date2\", timeUnit=time_unit, \n",
    "                    title=\"date\", axis=alt.Axis(format=monthdate_format)\n",
    "                   ),\n",
    "            y=alt.Y(plot_col, title=\"7-day avg\"),\n",
    "            color=alt.value(navy),\n",
    "        )\n",
    "    )\n",
    "    \n",
    "    cases_shaded = (\n",
    "        alt.Chart(df[df.date >= two_weeks_ago].drop(columns = \"date\"))\n",
    "        .mark_area()\n",
    "        .encode(\n",
    "            x=alt.X(\"date2\", timeUnit = time_unit,\n",
    "                   title = \"date\", axis=alt.Axis(format=monthdate_format)\n",
    "                   ),\n",
    "            y=alt.Y(plot_col, title=\"7-day avg\"),\n",
    "            color=alt.value(light_gray)\n",
    "        )\n",
    "    )\n",
    "    \n",
    "    ptile25_line = (\n",
    "        alt.Chart(df.drop(columns = \"date\"))\n",
    "        .mark_line()\n",
    "        .encode(\n",
    "            x=alt.X(\"date2\", timeUnit=time_unit, \n",
    "                    title=\"date\", axis=alt.Axis(format=monthdate_format)\n",
    "                   ),\n",
    "            y=alt.Y(\"ptile25\", title=\"7-day avg\"),\n",
    "            color=alt.value(gray),\n",
    "        )\n",
    "    )\n",
    "    \n",
    "    ptile75_line = (\n",
    "        alt.Chart(df.drop(columns = \"date\"))\n",
    "        .mark_line()\n",
    "        .encode(\n",
    "            x=alt.X(\"date2\", timeUnit=time_unit, \n",
    "                    title=\"date\", axis=alt.Axis(format=monthdate_format)\n",
    "                   ),\n",
    "            y=alt.Y(\"ptile75\", title=\"7-day avg\"),\n",
    "            color=alt.value(gray),\n",
    "        )\n",
    "    )\n",
    "    \n",
    "    if chart_type == \"cases\":\n",
    "        chart = (\n",
    "            (cases_shaded + cases_line + ptile25_line + ptile75_line)\n",
    "              .properties(\n",
    "                  title=chart_title, width=chart_width, height=chart_height\n",
    "                ).configure_title(\n",
    "                fontSize=title_font_size, font=font_name, anchor=\"middle\", color=\"black\"\n",
    "            )\n",
    "            .configure_axis(gridOpacity=grid_opacity, domainOpacity=domain_opacity)\n",
    "            .configure_view(strokeOpacity=stroke_opacity)\n",
    "            )   \n",
    "            \n",
    "    \n",
    "    if chart_type == \"new_cases\":\n",
    "        chart = (\n",
    "            (cases_shaded + cases_line)\n",
    "            .properties(\n",
    "                  title=chart_title, width=chart_width, height=chart_height\n",
    "                )\n",
    "            .configure_title(\n",
    "                fontSize=title_font_size, font=font_name, anchor=\"middle\", color=\"black\"\n",
    "            )\n",
    "            .configure_axis(gridOpacity=grid_opacity, domainOpacity=domain_opacity)\n",
    "            .configure_view(strokeOpacity=stroke_opacity)\n",
    "            )   \n",
    "    \n",
    "    return chart"
   ]
  },
  {
   "cell_type": "code",
   "execution_count": 6,
   "metadata": {},
   "outputs": [
    {
     "data": {
      "application/vnd.jupyter.widget-view+json": {
       "model_id": "31a429bf7de6455b91c414c61e5b53ae",
       "version_major": 2,
       "version_minor": 0
      },
      "text/plain": [
       "Dropdown(description='Neighborhood', options=('Acton', 'Adams', 'Agoura Hills', 'Agua Dulce', 'Alhambra', 'Als…"
      ]
     },
     "metadata": {},
     "output_type": "display_data"
    },
    {
     "data": {
      "application/vnd.jupyter.widget-view+json": {
       "model_id": "1e5db5197a6348618c6a63234d500b93",
       "version_major": 2,
       "version_minor": 0
      },
      "text/plain": [
       "Output()"
      ]
     },
     "metadata": {},
     "output_type": "display_data"
    }
   ],
   "source": [
    "df = pd.read_parquet(f\"{S3_FILE_PATH}lacounty-neighborhood-time-series.parquet\")\n",
    "\n",
    "\n",
    "# There are some duplicates!\n",
    "# Add the case rate (per 100k) as an additional chart\n",
    "\n",
    "df = df.sort_values([\"Region\", \"date\"]).reset_index(drop=True)\n",
    "\n",
    "\n",
    "neigborhood_dropdown = ipywidgets.Dropdown(\n",
    "    description=\"Neighborhood\",\n",
    "    options=df.Region.unique()\n",
    ")\n",
    "\n",
    "output = ipywidgets.Output()\n",
    "\n",
    "display(neigborhood_dropdown)\n",
    "display(output)\n",
    "\n",
    "\n",
    "def on_neighborhood_selection(*args):\n",
    "    output.clear_output(wait=True)\n",
    "    neighborhood = neigborhood_dropdown.value\n",
    "    \n",
    "    subset_df = df[df.Region == neighborhood]\n",
    "    \n",
    "    with output:\n",
    "        display(make_chart(subset_df, neighborhood, \"cases\"))\n",
    "        display(make_chart(subset_df, neighborhood, \"new_cases\"))\n",
    "\n",
    "on_neighborhood_selection()\n",
    "neigborhood_dropdown.observe(on_neighborhood_selection, names=\"value\")"
   ]
  },
  {
   "cell_type": "code",
   "execution_count": null,
   "metadata": {},
   "outputs": [],
   "source": []
  }
 ],
 "metadata": {
  "kernelspec": {
   "display_name": "Python 3",
   "language": "python",
   "name": "python3"
  },
  "language_info": {
   "codemirror_mode": {
    "name": "ipython",
    "version": 3
   },
   "file_extension": ".py",
   "mimetype": "text/x-python",
   "name": "python",
   "nbconvert_exporter": "python",
   "pygments_lexer": "ipython3",
   "version": "3.7.6"
  }
 },
 "nbformat": 4,
 "nbformat_minor": 4
}
