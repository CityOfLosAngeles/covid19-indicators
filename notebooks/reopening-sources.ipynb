{
 "cells": [
  {
   "cell_type": "markdown",
   "metadata": {},
   "source": [
    "# Public health research reopening and the known unknowns about the coronavirus \n",
    "## Reopening too soon leads to more cases \n",
    "Track the state's status of reopening [here](https://www.nytimes.com/interactive/2020/us/states-reopen-map-coronavirus.html). [We aren't testing enough nor have enough contact tracers](https://www.nytimes.com/2020/05/11/health/coronavirus-second-wave-infections.html) to manage the current caseloads. Scientific transparency, government accountability, [shared data](https://amp.floridatoday.com/amp/5212398002), and communicating consistent and scientific information to the public is needed. \n",
    "<br>This is true in US states: [Georgia](https://www.nytimes.com/interactive/2020/04/24/opinion/coronavirus-covid-19-georgia-reopen.html), [Texas](https://www.texastribune.org/2020/05/14/coronavirus-updates-texas/), and on average, seems to be true for [places outside NYC](https://www.nytimes.com/2020/05/16/us/coronavirus-united-states.html).\n",
    "<br>It is also true in other countries: [Japan, South Korea](https://www.healthline.com/health-news/covid-19-countries-that-have-already-reopened-lessons#How-Germany-is-reopening), Singapore, [Lebanon](https://healthpolicy-watch.org/countries-that-reopen-early-may-have-waves-of-lockdowns/) and [Iran](https://www.nytimes.com/2020/05/18/world/middleeast/iran-coronavirus-surge.html)\n",
    "<br>[Germany says regions must reinstate restrictions](https://www.nytimes.com/2020/05/18/opinion/germany-coronavirus-reopening.html) if cases pass a certain threshold.\n",
    "<br>Contrary to popular belief, according to this [survey of expert economists](http://www.igmchicago.org/surveys/policy-for-the-covid-19-crisis/), there is support for a [large contraction of economic activity until the spread of infections has dropped significantly](https://www.nytimes.com/2020/04/14/opinion/coronavirus-reopen-economy.html).\n",
    "\n",
    "\n",
    "## Are we past the peak and have we reached herd immunity?\n",
    "### It's not a single peak, we should expect multiple peaks until a vaccine is available\n",
    "* [NYT: University of Minnesota and Harvard studies on possible trajectories of the pandemic into late 2020 and 2021](https://www.nytimes.com/2020/05/08/health/coronavirus-pandemic-curve-scenarios.html) shows that a one-time social distancing effort is not sufficient to control this in the long term. Since it will take up to the next 2 years to achieve herd immunity, experts recommend turning social distancing on as cases rise beyond a certain threshold, and off as cases meet sustained reopening criterion. \n",
    "* [Vox: Spain, with one of the worst outbreaks in Europe, only sees about 5% of its population with immunity](https://www.vox.com/2020/5/16/21259492/covid-antibodies-spain-serology-study-coronavirus-immunity)\n",
    "\n",
    "What we still don't know\n",
    "* [NYT: How indoor ventilation affects the path of virus infection](https://www.nytimes.com/2020/04/20/health/airflow-coronavirus-restaurants.html) and virus might spread [through ducts](https://wwwnc.cdc.gov/eid/article/26/7/20-0764_article#tnF1)\n",
    "* [NYT: Germany doing research to understand how long antibodies last after infection and what levels of antibodies are needed to prevent re-infection](https://www.nytimes.com/2020/04/18/world/europe/with-broad-random-tests-for-antibodies-germany-seeks-path-out-of-lockdown.html)\n",
    "* [NYT: How long do antibodies last? Remains to be seen.](https://www.nytimes.com/2020/05/07/health/coronavirus-antibody-prevalence.html)\n",
    "* [11 things we still don't know, from number of cases, scaled up testing, impact on children, and the types of social distancing that can work as we reopen](https://www.vox.com/2020/5/12/21248395/coronavirus-pandemic-covid-symptoms-testing-children-mysteries)\n",
    "* [Reconfigured office space, higher air filtration, more cleaning high touch surfaces, and UV light to kill germs](https://www.vox.com/recode/2020/4/14/21211789/coronavirus-office-space-work-from-home-design-architecture-real-estate)\n",
    "\n",
    "## Reopening indicators\n",
    "* [Reuters: Reopening plans are all over the map](https://www.reuters.com/article/us-health-coronavirus-usa-states-analysi/new-cases-deaths-u-s-states-reopening-plans-are-all-over-the-map-idUSKBN22U2U2)\n",
    "* [Vox: What works - more masks, testing, stimulus money, etc](https://www.vox.com/2020/5/13/21248157/testing-quarantine-masks-stimulus)"
   ]
  },
  {
   "cell_type": "code",
   "execution_count": null,
   "metadata": {},
   "outputs": [],
   "source": []
  }
 ],
 "metadata": {
  "kernelspec": {
   "display_name": "Python 3",
   "language": "python",
   "name": "python3"
  },
  "language_info": {
   "codemirror_mode": {
    "name": "ipython",
    "version": 3
   },
   "file_extension": ".py",
   "mimetype": "text/x-python",
   "name": "python",
   "nbconvert_exporter": "python",
   "pygments_lexer": "ipython3",
   "version": "3.7.3"
  }
 },
 "nbformat": 4,
 "nbformat_minor": 4
}
