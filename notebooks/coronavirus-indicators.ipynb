{
 "cells": [
  {
   "cell_type": "markdown",
   "metadata": {},
   "source": [
    "# LA's COVID-19 Reopening / Recovery Indicators \n",
    "\n",
    "The NY Times wrote about rushed reopenings being [a global trial-and-error experiment](https://www.nytimes.com/2020/05/07/world/europe/coronavirus-reopening-costs.html) and a further analysis showing how US states reopening [fail to meet the WH guidelines](https://www.nytimes.com/interactive/2020/05/07/us/coronavirus-states-reopen-criteria.html). Vox has written about [the importance of COVID testing indicators](https://www.vox.com/2020/5/8/21249880/coronavirus-testing-covid-reopening-economy-lockdowns-social-distancing) as a prerequisite for reopening. \n",
    "\n",
    "While we wait for LA's own reopening indicators, we can still see how LA stacks up against NY and Chicago's indicators. [NY State's Reopening Indicators](https://www.nytimes.com/2020/05/04/nyregion/coronavirus-reopen-cuomo-ny.html) were based heavily in part by the White House [Opening Up America Again gating criteria](https://www.whitehouse.gov/wp-content/uploads/2020/04/Guidelines-for-Opening-Up-America-Again.pdf), and Chicago outlined even [tougher benchmarks than the IL statewide strategy](https://www.chicagotribune.com/coronavirus/ct-coronavirus-chicago-reopening-lightfoot-20200508-ztpnouwexrcvfdfcr2yccbc53a-story.html). In terms of outbreak severity, [LA and Chicago come right after NYC](https://www.nytimes.com/2020/05/09/us/coronavirus-chicago.html)."
   ]
  },
  {
   "cell_type": "markdown",
   "metadata": {},
   "source": [
    "## [White House Gating Criteria](https://www.whitehouse.gov/wp-content/uploads/2020/04/Guidelines-for-Opening-Up-America-Again.pdf)\n",
    "### Symptoms\n",
    "* Downward trajectory of influenza-like illnesses (ILI) reported within a 14-day period **and**\n",
    "* Downward trajectory of COVID-like syndromic cases reported within a 14-day period\n",
    "\n",
    "### Cases\n",
    "* Downward trajectory of documented cases within a 14-day period **or**\n",
    "* Downward trajectory of positive tests as a percent of total tests within a 14-day period (flat or increasing volume of tests) \n",
    "\n",
    "### Hospitals\n",
    "* Treat all patients without crisis care **and**\n",
    "* Robust testing program in place for at-risk healthcare workers, including emerging antibody testing\n",
    "\n",
    "| NY | Chicago |\n",
    "| --- | --- |\n",
    "| At least 14 days decline in total net hospitalizations on a 3-day rolling average **or** <BR> Less than 15 net new total hospitalizations on a 3-day rolling average </BR> | At least 14 days decline in new cases, on average \n",
    "| At least 14 days decline in total net deaths on a 3-day rolling average **or** <BR> Less than 5 new deaths on a 3-day rolling average </BR> | At least 14 days decline in of case rate (per capita?) |\n",
    "| At least 30% total hospital and ICU beds available  | At least 14 days decline in rate of new cases (per capita?)\n",
    "| At least 90 days of PPE stockpiled  | Stable or declining rates of hospitalizations  \n",
    "| Capacity to conduct 30 tests per 1,000 residents per month  | Stable or declining rates of ICU admissions \n",
    "| 30 working contact tracers per 100,000 residents | Stable or declining rates of ICU deaths\n",
    "| Rural regions: Fewer than 2 new COVID patients admitted per 100,000 residents per day | Share of positive results are decreasing below 15% of those tested in the community \n",
    "|   | Fewer than 1,800 coronavirus patients in hospital beds \n",
    "|   | Fewer than 600 coronavirus patients in ICU beds\n",
    "|   | Fewer than 450 coronavirus patients on ventilators\n",
    "|   | Test 135,000 per month, equivalent to 4,500 people per day"
   ]
  },
  {
   "cell_type": "code",
   "execution_count": 1,
   "metadata": {},
   "outputs": [],
   "source": [
    "import altair as alt\n",
    "import numpy as np\n",
    "import pandas as pd\n",
    "import pytz\n",
    "import utils\n",
    "\n",
    "from datetime import date, datetime, timedelta\n",
    "from IPython.display import Markdown\n",
    "\n",
    "US_COUNTY_URL = \"http://lahub.maps.arcgis.com/sharing/rest/content/items/782ca660304a4bdda1cc9757a2504647/data\"\n",
    "LA_CITY_URL = \"https://lahub.maps.arcgis.com/sharing/rest/content/items/7175fba373f541a7a19df56b6a0617f4/data\"\n",
    "TESTING_URL = \"http://lahub.maps.arcgis.com/sharing/rest/content/items/158dab4a07b04ecb8d47fea1746303ac/data\"\n",
    "HOSPITAL_URL = \"http://lahub.maps.arcgis.com/sharing/rest/content/items/3da1eb3e13a14743973c96b945bd1117/data\"\n",
    "CROSSWALK_URL = (\n",
    "    \"https://raw.githubusercontent.com/CityOfLosAngeles/aqueduct/master/dags/public-health/covid19/\"\n",
    "    \"msa_county_pop_crosswalk.csv\"\n",
    ")\n",
    "\n",
    "# Default parameters\n",
    "county_state_name = \"Los Angeles, CA\"\n",
    "state_name = \"California\"\n",
    "msa_name = \"Los Angeles-Long Beach-Anaheim, CA\"\n",
    "time_zone = \"US/Pacific\"\n",
    "start_date = \"4/1/20\"\n",
    "yesterday_date = (\n",
    "    (datetime.today()\n",
    "                .astimezone(pytz.timezone(f'{time_zone}'))\n",
    "                .date()\n",
    "        - timedelta(days=1)\n",
    "    ).strftime(\"%-m/%-d/%y\")\n",
    ")\n",
    "today_date = (\n",
    "    datetime.today()\n",
    "             .astimezone(pytz.timezone(f'{time_zone}'))\n",
    "             .date()\n",
    "             .strftime(\"%-m/%-d/%y\")\n",
    ")"
   ]
  },
  {
   "cell_type": "markdown",
   "metadata": {},
   "source": [
    "## Case Indicators"
   ]
  },
  {
   "cell_type": "code",
   "execution_count": null,
   "metadata": {},
   "outputs": [],
   "source": [
    "la_county = utils.case_indicators_county(county_state_name, start_date)\n",
    "la_city = utils.case_indicators_lacity(\"4/15/20\")\n",
    "#ca = utils.case_indicators_state(state_name, \"3/1/20\")\n",
    "#la_msa = utils.case_indicators_msa(\"Los Angeles\", \"3/1/20\")"
   ]
  },
  {
   "cell_type": "markdown",
   "metadata": {},
   "source": [
    "## Testing Indicators"
   ]
  },
  {
   "cell_type": "code",
   "execution_count": null,
   "metadata": {},
   "outputs": [],
   "source": [
    "daily_tests = utils.testing_lacity(start_date, 'daily', 10_000, 16_667)\n",
    "#monthly_tests = utils.testing_lacity(start_date, 'monthly', 300_000, 500_000)\n",
    "positive_tests = utils.positive_tests_lacity(start_date)"
   ]
  },
  {
   "cell_type": "code",
   "execution_count": null,
   "metadata": {},
   "outputs": [],
   "source": [
    "lower_bound = 10_000\n",
    "upper_bound = 16_667\n",
    "\n",
    "def testing_meet_indicators(yesterday_date, lower_bound, upper_bound):\n",
    "    \"\"\"\n",
    "    Returns a red or green indicator based on yesterday's results.\n",
    "    \"\"\"\n",
    "    # New cases (which day out of 14 has it been declining?)\n",
    "    # New deaths (which day out of 14 has it been declining?)\n",
    "    # Hospital capacity\n",
    "\n",
    "    # Daily testing\n",
    "    test_indicator = daily_tests[daily_tests.Date==yesterday_date].iloc[0][\"Performed\"]\n",
    "\n",
    "    if test_indicator < lower_bound:\n",
    "        return \"red\"\n",
    "    elif test_indicator >= lower_bound:\n",
    "        return \"green\"\n",
    "    elif test_indicator >= upper_bound:\n",
    "        return \"blue\"\n",
    "    \n",
    "test_indicator_color = testing_meet_indicators(yesterday_date, lower_bound, upper_bound)\n",
    "#print(test_indicator_color)\n",
    "display(Markdown(f\"<span style='color:{test_indicator_color}'> Daily Testing </span>\"))"
   ]
  },
  {
   "cell_type": "markdown",
   "metadata": {},
   "source": [
    "## Hospital Capacity Indicators"
   ]
  },
  {
   "cell_type": "code",
   "execution_count": 3,
   "metadata": {},
   "outputs": [
    {
     "data": {
      "text/html": [
       "\n",
       "<div id=\"altair-viz-081ae26521ff4b19ab5e5692c35ef283\"></div>\n",
       "<script type=\"text/javascript\">\n",
       "  (function(spec, embedOpt){\n",
       "    const outputDiv = document.getElementById(\"altair-viz-081ae26521ff4b19ab5e5692c35ef283\");\n",
       "    const paths = {\n",
       "      \"vega\": \"https://cdn.jsdelivr.net/npm//vega@5?noext\",\n",
       "      \"vega-lib\": \"https://cdn.jsdelivr.net/npm//vega-lib?noext\",\n",
       "      \"vega-lite\": \"https://cdn.jsdelivr.net/npm//vega-lite@4.0.2?noext\",\n",
       "      \"vega-embed\": \"https://cdn.jsdelivr.net/npm//vega-embed@6?noext\",\n",
       "    };\n",
       "\n",
       "    function loadScript(lib) {\n",
       "      return new Promise(function(resolve, reject) {\n",
       "        var s = document.createElement('script');\n",
       "        s.src = paths[lib];\n",
       "        s.async = true;\n",
       "        s.onload = () => resolve(paths[lib]);\n",
       "        s.onerror = () => reject(`Error loading script: ${paths[lib]}`);\n",
       "        document.getElementsByTagName(\"head\")[0].appendChild(s);\n",
       "      });\n",
       "    }\n",
       "\n",
       "    function showError(err) {\n",
       "      outputDiv.innerHTML = `<div class=\"error\" style=\"color:red;\">${err}</div>`;\n",
       "      throw err;\n",
       "    }\n",
       "\n",
       "    function displayChart(vegaEmbed) {\n",
       "      vegaEmbed(outputDiv, spec, embedOpt)\n",
       "        .catch(err => showError(`Javascript Error: ${err.message}<br>This usually means there's a typo in your chart specification. See the javascript console for the full traceback.`));\n",
       "    }\n",
       "\n",
       "    if(typeof define === \"function\" && define.amd) {\n",
       "      requirejs.config({paths});\n",
       "      require([\"vega-embed\"], displayChart, err => showError(`Error loading script: ${err.message}`));\n",
       "    } else if (typeof vegaEmbed === \"function\") {\n",
       "      displayChart(vegaEmbed);\n",
       "    } else {\n",
       "      loadScript(\"vega\")\n",
       "        .then(() => loadScript(\"vega-lite\"))\n",
       "        .then(() => loadScript(\"vega-embed\"))\n",
       "        .catch(showError)\n",
       "        .then(() => displayChart(vegaEmbed));\n",
       "    }\n",
       "  })({\"config\": {\"view\": {\"continuousWidth\": 400, \"continuousHeight\": 300, \"strokeOpacity\": 0}, \"axis\": {\"domainOpacity\": 0.4, \"gridOpacity\": 0.4, \"ticks\": false}, \"title\": {\"anchor\": \"middle\", \"color\": \"black\", \"font\": \"Roboto\", \"fontSize\": 10}}, \"layer\": [{\"data\": {\"name\": \"data-f5a7c0c8fb45a36ebf6efa1b68762f20\"}, \"mark\": \"line\", \"encoding\": {\"color\": {\"type\": \"nominal\", \"field\": \"Type\", \"scale\": {\"domain\": [\"Acute Care Beds\", \"ICU Beds\", \"Ventilators\"], \"range\": [\"#10DE7A\", \"#0A4C6A\", \"#FCA800\"]}}, \"x\": {\"type\": \"nominal\", \"axis\": {\"format\": \"%-m/%-d\"}, \"field\": \"Date\", \"timeUnit\": \"monthdate\", \"title\": \"date\"}, \"y\": {\"type\": \"quantitative\", \"axis\": {\"format\": \"%\"}, \"field\": \"pct_available\", \"title\": \"% available\"}}}, {\"data\": {\"name\": \"data-3d40eef6f5c0bf9cd18ed8669401cbf2\"}, \"mark\": {\"type\": \"rule\", \"color\": \"#A30F23\", \"strokeDash\": [5, 2]}, \"encoding\": {\"y\": {\"type\": \"quantitative\", \"field\": \"y\"}}}], \"title\": \"Percent of Available Hospital Equipment by Type\", \"width\": 500, \"$schema\": \"https://vega.github.io/schema/vega-lite/v4.0.2.json\", \"datasets\": {\"data-f5a7c0c8fb45a36ebf6efa1b68762f20\": [{\"Date\": \"4/3/20\", \"Type\": \"Acute Care Beds\", \"type_total\": 17000.0, \"n_available\": 1378.0, \"pct_available\": 0.08105882352941177}, {\"Date\": \"4/3/20\", \"Type\": \"ICU Beds\", \"type_total\": 2500.0, \"n_available\": 239.0, \"pct_available\": 0.0956}, {\"Date\": \"4/3/20\", \"Type\": \"Ventilators\", \"type_total\": 1930.0, \"n_available\": 895.0, \"pct_available\": 0.4637305699481865}, {\"Date\": \"4/4/20\", \"Type\": \"Acute Care Beds\", \"type_total\": 17000.0, \"n_available\": 1266.0, \"pct_available\": 0.07447058823529412}, {\"Date\": \"4/4/20\", \"Type\": \"ICU Beds\", \"type_total\": 2500.0, \"n_available\": 246.0, \"pct_available\": 0.0984}, {\"Date\": \"4/4/20\", \"Type\": \"Ventilators\", \"type_total\": 1760.0, \"n_available\": 918.0, \"pct_available\": 0.5215909090909091}, {\"Date\": \"4/5/20\", \"Type\": \"Acute Care Beds\", \"type_total\": 17000.0, \"n_available\": 1298.0, \"pct_available\": 0.07635294117647058}, {\"Date\": \"4/5/20\", \"Type\": \"ICU Beds\", \"type_total\": 2500.0, \"n_available\": 318.0, \"pct_available\": 0.1272}, {\"Date\": \"4/5/20\", \"Type\": \"Ventilators\", \"type_total\": 1914.0, \"n_available\": 1012.0, \"pct_available\": 0.5287356321839081}, {\"Date\": \"4/6/20\", \"Type\": \"Acute Care Beds\", \"type_total\": 17000.0, \"n_available\": 1148.0, \"pct_available\": 0.06752941176470588}, {\"Date\": \"4/6/20\", \"Type\": \"ICU Beds\", \"type_total\": 2500.0, \"n_available\": 258.0, \"pct_available\": 0.1032}, {\"Date\": \"4/6/20\", \"Type\": \"Ventilators\", \"type_total\": 1827.0, \"n_available\": 1010.0, \"pct_available\": 0.5528188286808976}, {\"Date\": \"4/7/20\", \"Type\": \"Acute Care Beds\", \"type_total\": 16980.0, \"n_available\": 1301.0, \"pct_available\": 0.07661955241460541}, {\"Date\": \"4/7/20\", \"Type\": \"ICU Beds\", \"type_total\": 2500.0, \"n_available\": 247.0, \"pct_available\": 0.0988}, {\"Date\": \"4/7/20\", \"Type\": \"Ventilators\", \"type_total\": 1998.0, \"n_available\": 1042.0, \"pct_available\": 0.5215215215215215}, {\"Date\": \"4/8/20\", \"Type\": \"Acute Care Beds\", \"type_total\": 17000.0, \"n_available\": 1373.0, \"pct_available\": 0.08076470588235295}, {\"Date\": \"4/8/20\", \"Type\": \"ICU Beds\", \"type_total\": 2500.0, \"n_available\": 268.0, \"pct_available\": 0.1072}, {\"Date\": \"4/8/20\", \"Type\": \"Ventilators\", \"type_total\": 1952.0, \"n_available\": 971.0, \"pct_available\": 0.4974385245901639}, {\"Date\": \"4/9/20\", \"Type\": \"Acute Care Beds\", \"type_total\": 17000.0, \"n_available\": 1334.0, \"pct_available\": 0.07847058823529411}, {\"Date\": \"4/9/20\", \"Type\": \"ICU Beds\", \"type_total\": 2500.0, \"n_available\": 248.0, \"pct_available\": 0.0992}, {\"Date\": \"4/9/20\", \"Type\": \"Ventilators\", \"type_total\": 2041.0, \"n_available\": 1096.0, \"pct_available\": 0.5369916707496325}, {\"Date\": \"4/10/20\", \"Type\": \"Acute Care Beds\", \"type_total\": 17000.0, \"n_available\": 1455.0, \"pct_available\": 0.08558823529411765}, {\"Date\": \"4/10/20\", \"Type\": \"ICU Beds\", \"type_total\": 2500.0, \"n_available\": 266.0, \"pct_available\": 0.1064}, {\"Date\": \"4/10/20\", \"Type\": \"Ventilators\", \"type_total\": 1974.0, \"n_available\": 1110.0, \"pct_available\": 0.5623100303951368}, {\"Date\": \"4/11/20\", \"Type\": \"Acute Care Beds\", \"type_total\": 17000.0, \"n_available\": 1420.0, \"pct_available\": 0.08352941176470588}, {\"Date\": \"4/11/20\", \"Type\": \"ICU Beds\", \"type_total\": 2500.0, \"n_available\": 309.0, \"pct_available\": 0.1236}, {\"Date\": \"4/11/20\", \"Type\": \"Ventilators\", \"type_total\": 1743.0, \"n_available\": 1003.0, \"pct_available\": 0.5754446356855996}, {\"Date\": \"4/12/20\", \"Type\": \"Acute Care Beds\", \"type_total\": 17000.0, \"n_available\": 1445.0, \"pct_available\": 0.085}, {\"Date\": \"4/12/20\", \"Type\": \"ICU Beds\", \"type_total\": 2500.0, \"n_available\": 229.0, \"pct_available\": 0.0916}, {\"Date\": \"4/12/20\", \"Type\": \"Ventilators\", \"type_total\": 1769.0, \"n_available\": 1025.0, \"pct_available\": 0.5794234030525721}, {\"Date\": \"4/13/20\", \"Type\": \"Acute Care Beds\", \"type_total\": 17000.0, \"n_available\": 1420.0, \"pct_available\": 0.08352941176470588}, {\"Date\": \"4/13/20\", \"Type\": \"ICU Beds\", \"type_total\": 2500.0, \"n_available\": 292.0, \"pct_available\": 0.1168}, {\"Date\": \"4/13/20\", \"Type\": \"Ventilators\", \"type_total\": 2063.0, \"n_available\": 1125.0, \"pct_available\": 0.5453223460979156}, {\"Date\": \"4/14/20\", \"Type\": \"Acute Care Beds\", \"type_total\": 17000.0, \"n_available\": 1309.0, \"pct_available\": 0.077}, {\"Date\": \"4/14/20\", \"Type\": \"ICU Beds\", \"type_total\": 2500.0, \"n_available\": 244.0, \"pct_available\": 0.0976}, {\"Date\": \"4/14/20\", \"Type\": \"Ventilators\", \"type_total\": 1933.0, \"n_available\": 996.0, \"pct_available\": 0.5152612519399896}, {\"Date\": \"4/15/20\", \"Type\": \"Acute Care Beds\", \"type_total\": 16913.0, \"n_available\": 1309.0, \"pct_available\": 0.07739608585112044}, {\"Date\": \"4/15/20\", \"Type\": \"ICU Beds\", \"type_total\": 2480.0, \"n_available\": 249.0, \"pct_available\": 0.10040322580645161}, {\"Date\": \"4/15/20\", \"Type\": \"Ventilators\", \"type_total\": 2104.0, \"n_available\": 1129.0, \"pct_available\": 0.5365969581749049}, {\"Date\": \"4/16/20\", \"Type\": \"Acute Care Beds\", \"type_total\": 17001.0, \"n_available\": 1309.0, \"pct_available\": 0.0769954708546556}, {\"Date\": \"4/16/20\", \"Type\": \"ICU Beds\", \"type_total\": 2500.0, \"n_available\": 242.0, \"pct_available\": 0.0968}, {\"Date\": \"4/16/20\", \"Type\": \"Ventilators\", \"type_total\": 2104.0, \"n_available\": 1119.0, \"pct_available\": 0.5318441064638784}, {\"Date\": \"4/17/20\", \"Type\": \"Acute Care Beds\", \"type_total\": 17000.0, \"n_available\": 1133.0, \"pct_available\": 0.0666470588235294}, {\"Date\": \"4/17/20\", \"Type\": \"ICU Beds\", \"type_total\": 2500.0, \"n_available\": 259.0, \"pct_available\": 0.1036}, {\"Date\": \"4/17/20\", \"Type\": \"Ventilators\", \"type_total\": 2132.0, \"n_available\": 1124.0, \"pct_available\": 0.5272045028142589}, {\"Date\": \"4/18/20\", \"Type\": \"Acute Care Beds\", \"type_total\": 17000.0, \"n_available\": 1301.0, \"pct_available\": 0.07652941176470589}, {\"Date\": \"4/18/20\", \"Type\": \"ICU Beds\", \"type_total\": 2500.0, \"n_available\": 272.0, \"pct_available\": 0.1088}, {\"Date\": \"4/18/20\", \"Type\": \"Ventilators\", \"type_total\": 1956.0, \"n_available\": 1040.0, \"pct_available\": 0.5316973415132924}, {\"Date\": \"4/19/20\", \"Type\": \"Acute Care Beds\", \"type_total\": 17000.0, \"n_available\": 1145.0, \"pct_available\": 0.06735294117647059}, {\"Date\": \"4/19/20\", \"Type\": \"ICU Beds\", \"type_total\": 2500.0, \"n_available\": 234.0, \"pct_available\": 0.0936}, {\"Date\": \"4/19/20\", \"Type\": \"Ventilators\", \"type_total\": 1958.0, \"n_available\": 984.0, \"pct_available\": 0.5025536261491318}, {\"Date\": \"4/20/20\", \"Type\": \"Acute Care Beds\", \"type_total\": 7072.0, \"n_available\": 1201.0, \"pct_available\": 0.16982466063348417}, {\"Date\": \"4/20/20\", \"Type\": \"ICU Beds\", \"type_total\": 1643.0, \"n_available\": 232.0, \"pct_available\": 0.14120511259890445}, {\"Date\": \"4/20/20\", \"Type\": \"Ventilators\", \"type_total\": 2076.0, \"n_available\": 1125.0, \"pct_available\": 0.541907514450867}, {\"Date\": \"4/21/20\", \"Type\": \"Acute Care Beds\", \"type_total\": 6642.0, \"n_available\": 1053.0, \"pct_available\": 0.15853658536585366}, {\"Date\": \"4/21/20\", \"Type\": \"ICU Beds\", \"type_total\": 1934.0, \"n_available\": 246.0, \"pct_available\": 0.12719751809720786}, {\"Date\": \"4/21/20\", \"Type\": \"Ventilators\", \"type_total\": 2158.0, \"n_available\": 1143.0, \"pct_available\": 0.5296570898980537}, {\"Date\": \"4/22/20\", \"Type\": \"Acute Care Beds\", \"type_total\": 6260.0, \"n_available\": 1052.0, \"pct_available\": 0.16805111821086263}, {\"Date\": \"4/22/20\", \"Type\": \"ICU Beds\", \"type_total\": 1986.0, \"n_available\": 264.0, \"pct_available\": 0.13293051359516617}, {\"Date\": \"4/22/20\", \"Type\": \"Ventilators\", \"type_total\": 2204.0, \"n_available\": 1227.0, \"pct_available\": 0.5567150635208712}, {\"Date\": \"4/23/20\", \"Type\": \"Acute Care Beds\", \"type_total\": 6107.0, \"n_available\": 963.0, \"pct_available\": 0.15768789913214346}, {\"Date\": \"4/23/20\", \"Type\": \"ICU Beds\", \"type_total\": 1940.0, \"n_available\": 242.0, \"pct_available\": 0.12474226804123711}, {\"Date\": \"4/23/20\", \"Type\": \"Ventilators\", \"type_total\": 2221.0, \"n_available\": 1215.0, \"pct_available\": 0.5470508779828905}, {\"Date\": \"4/24/20\", \"Type\": \"Acute Care Beds\", \"type_total\": 6403.0, \"n_available\": 1097.0, \"pct_available\": 0.17132594096517256}, {\"Date\": \"4/24/20\", \"Type\": \"ICU Beds\", \"type_total\": 1848.0, \"n_available\": 210.0, \"pct_available\": 0.11363636363636363}, {\"Date\": \"4/24/20\", \"Type\": \"Ventilators\", \"type_total\": 2134.0, \"n_available\": 1212.0, \"pct_available\": 0.5679475164011246}, {\"Date\": \"4/25/20\", \"Type\": \"Acute Care Beds\", \"type_total\": 6214.0, \"n_available\": 1083.0, \"pct_available\": 0.1742838751206952}, {\"Date\": \"4/25/20\", \"Type\": \"ICU Beds\", \"type_total\": 1820.0, \"n_available\": 236.0, \"pct_available\": 0.12967032967032968}, {\"Date\": \"4/25/20\", \"Type\": \"Ventilators\", \"type_total\": 2028.0, \"n_available\": 1159.0, \"pct_available\": 0.5714990138067061}, {\"Date\": \"4/26/20\", \"Type\": \"Acute Care Beds\", \"type_total\": 6087.0, \"n_available\": 1016.0, \"pct_available\": 0.16691309347790373}, {\"Date\": \"4/26/20\", \"Type\": \"ICU Beds\", \"type_total\": 1757.0, \"n_available\": 233.0, \"pct_available\": 0.13261240751280592}, {\"Date\": \"4/26/20\", \"Type\": \"Ventilators\", \"type_total\": 1797.0, \"n_available\": 1036.0, \"pct_available\": 0.5765164162493044}, {\"Date\": \"4/27/20\", \"Type\": \"Acute Care Beds\", \"type_total\": 6299.0, \"n_available\": 924.0, \"pct_available\": 0.14668995078583902}, {\"Date\": \"4/27/20\", \"Type\": \"ICU Beds\", \"type_total\": 1870.0, \"n_available\": 255.0, \"pct_available\": 0.13636363636363635}, {\"Date\": \"4/27/20\", \"Type\": \"Ventilators\", \"type_total\": 2042.0, \"n_available\": 1164.0, \"pct_available\": 0.5700293829578844}, {\"Date\": \"4/28/20\", \"Type\": \"Acute Care Beds\", \"type_total\": 6565.0, \"n_available\": 1018.0, \"pct_available\": 0.15506473724295505}, {\"Date\": \"4/28/20\", \"Type\": \"ICU Beds\", \"type_total\": 1967.0, \"n_available\": 258.0, \"pct_available\": 0.13116420945602442}, {\"Date\": \"4/28/20\", \"Type\": \"Ventilators\", \"type_total\": 2030.0, \"n_available\": 1091.0, \"pct_available\": 0.5374384236453202}, {\"Date\": \"4/29/20\", \"Type\": \"Acute Care Beds\", \"type_total\": 6715.0, \"n_available\": 905.0, \"pct_available\": 0.1347728965003723}, {\"Date\": \"4/29/20\", \"Type\": \"ICU Beds\", \"type_total\": 2168.0, \"n_available\": 221.0, \"pct_available\": 0.10193726937269372}, {\"Date\": \"4/29/20\", \"Type\": \"Ventilators\", \"type_total\": 2263.0, \"n_available\": 1213.0, \"pct_available\": 0.5360141405214317}, {\"Date\": \"4/30/20\", \"Type\": \"Acute Care Beds\", \"type_total\": 2456.0, \"n_available\": 935.0, \"pct_available\": 0.380700325732899}, {\"Date\": \"4/30/20\", \"Type\": \"ICU Beds\", \"type_total\": 885.0, \"n_available\": 234.0, \"pct_available\": 0.26440677966101694}, {\"Date\": \"4/30/20\", \"Type\": \"Ventilators\", \"type_total\": 2245.0, \"n_available\": 1210.0, \"pct_available\": 0.5389755011135857}, {\"Date\": \"5/1/20\", \"Type\": \"Acute Care Beds\", \"type_total\": 6843.0, \"n_available\": 925.0, \"pct_available\": 0.13517463100979102}, {\"Date\": \"5/1/20\", \"Type\": \"ICU Beds\", \"type_total\": 2157.0, \"n_available\": 203.0, \"pct_available\": 0.09411219286045433}, {\"Date\": \"5/1/20\", \"Type\": \"Ventilators\", \"type_total\": 2168.0, \"n_available\": 1146.0, \"pct_available\": 0.5285977859778598}, {\"Date\": \"5/2/20\", \"Type\": \"Acute Care Beds\", \"type_total\": 6690.0, \"n_available\": 986.0, \"pct_available\": 0.14738415545590433}, {\"Date\": \"5/2/20\", \"Type\": \"ICU Beds\", \"type_total\": 2120.0, \"n_available\": 236.0, \"pct_available\": 0.11132075471698114}, {\"Date\": \"5/2/20\", \"Type\": \"Ventilators\", \"type_total\": 2046.0, \"n_available\": 1164.0, \"pct_available\": 0.5689149560117303}, {\"Date\": \"5/3/20\", \"Type\": \"Acute Care Beds\", \"type_total\": 6565.0, \"n_available\": 1041.0, \"pct_available\": 0.15856816450875857}, {\"Date\": \"5/3/20\", \"Type\": \"ICU Beds\", \"type_total\": 2129.0, \"n_available\": 235.0, \"pct_available\": 0.1103804603100047}, {\"Date\": \"5/3/20\", \"Type\": \"Ventilators\", \"type_total\": 2028.0, \"n_available\": 1113.0, \"pct_available\": 0.5488165680473372}, {\"Date\": \"5/4/20\", \"Type\": \"Acute Care Beds\", \"type_total\": 6651.0, \"n_available\": 1055.0, \"pct_available\": 0.1586227634942114}, {\"Date\": \"5/4/20\", \"Type\": \"ICU Beds\", \"type_total\": 2173.0, \"n_available\": 226.0, \"pct_available\": 0.10400368154624942}, {\"Date\": \"5/4/20\", \"Type\": \"Ventilators\", \"type_total\": 2351.0, \"n_available\": 1331.0, \"pct_available\": 0.5661420672054445}, {\"Date\": \"5/5/20\", \"Type\": \"Acute Care Beds\", \"type_total\": 6801.0, \"n_available\": 944.0, \"pct_available\": 0.13880311718864874}, {\"Date\": \"5/5/20\", \"Type\": \"ICU Beds\", \"type_total\": 2210.0, \"n_available\": 203.0, \"pct_available\": 0.09185520361990951}, {\"Date\": \"5/5/20\", \"Type\": \"Ventilators\", \"type_total\": 2196.0, \"n_available\": 1142.0, \"pct_available\": 0.5200364298724954}, {\"Date\": \"5/6/20\", \"Type\": \"Acute Care Beds\", \"type_total\": 6642.0, \"n_available\": 828.0, \"pct_available\": 0.12466124661246612}, {\"Date\": \"5/6/20\", \"Type\": \"ICU Beds\", \"type_total\": 2152.0, \"n_available\": 218.0, \"pct_available\": 0.10130111524163568}, {\"Date\": \"5/6/20\", \"Type\": \"Ventilators\", \"type_total\": 2106.0, \"n_available\": 1048.0, \"pct_available\": 0.4976258309591643}, {\"Date\": \"5/7/20\", \"Type\": \"Acute Care Beds\", \"type_total\": 6619.0, \"n_available\": 875.0, \"pct_available\": 0.13219519564888957}, {\"Date\": \"5/7/20\", \"Type\": \"ICU Beds\", \"type_total\": 2152.0, \"n_available\": 203.0, \"pct_available\": 0.09433085501858736}, {\"Date\": \"5/7/20\", \"Type\": \"Ventilators\", \"type_total\": 2229.0, \"n_available\": 1146.0, \"pct_available\": 0.5141318977119784}, {\"Date\": \"5/8/20\", \"Type\": \"Acute Care Beds\", \"type_total\": 6667.0, \"n_available\": 810.0, \"pct_available\": 0.12149392530373482}, {\"Date\": \"5/8/20\", \"Type\": \"ICU Beds\", \"type_total\": 2131.0, \"n_available\": 186.0, \"pct_available\": 0.08728296574378226}, {\"Date\": \"5/8/20\", \"Type\": \"Ventilators\", \"type_total\": 2170.0, \"n_available\": 1218.0, \"pct_available\": 0.5612903225806452}, {\"Date\": \"5/9/20\", \"Type\": \"Acute Care Beds\", \"type_total\": 6610.0, \"n_available\": 888.0, \"pct_available\": 0.13434190620272315}, {\"Date\": \"5/9/20\", \"Type\": \"ICU Beds\", \"type_total\": 2140.0, \"n_available\": 240.0, \"pct_available\": 0.11214953271028037}, {\"Date\": \"5/9/20\", \"Type\": \"Ventilators\", \"type_total\": 2086.0, \"n_available\": 1155.0, \"pct_available\": 0.5536912751677853}, {\"Date\": \"5/10/20\", \"Type\": \"Acute Care Beds\", \"type_total\": 6329.0, \"n_available\": 852.0, \"pct_available\": 0.13461842313161637}, {\"Date\": \"5/10/20\", \"Type\": \"ICU Beds\", \"type_total\": 2068.0, \"n_available\": 204.0, \"pct_available\": 0.09864603481624758}, {\"Date\": \"5/10/20\", \"Type\": \"Ventilators\", \"type_total\": 2194.0, \"n_available\": 1181.0, \"pct_available\": 0.5382862351868732}, {\"Date\": \"5/11/20\", \"Type\": \"Acute Care Beds\", \"type_total\": 6892.0, \"n_available\": 890.0, \"pct_available\": 0.12913522925130586}, {\"Date\": \"5/11/20\", \"Type\": \"ICU Beds\", \"type_total\": 2249.0, \"n_available\": 246.0, \"pct_available\": 0.10938194753223655}, {\"Date\": \"5/11/20\", \"Type\": \"Ventilators\", \"type_total\": 2295.0, \"n_available\": 1254.0, \"pct_available\": 0.5464052287581699}, {\"Date\": \"5/12/20\", \"Type\": \"Acute Care Beds\", \"type_total\": 6930.0, \"n_available\": 874.0, \"pct_available\": 0.12611832611832613}, {\"Date\": \"5/12/20\", \"Type\": \"ICU Beds\", \"type_total\": 2148.0, \"n_available\": 187.0, \"pct_available\": 0.08705772811918064}, {\"Date\": \"5/12/20\", \"Type\": \"Ventilators\", \"type_total\": 2248.0, \"n_available\": 1231.0, \"pct_available\": 0.5475978647686833}, {\"Date\": \"5/13/20\", \"Type\": \"Acute Care Beds\", \"type_total\": 7053.0, \"n_available\": 822.0, \"pct_available\": 0.11654615057422374}, {\"Date\": \"5/13/20\", \"Type\": \"ICU Beds\", \"type_total\": 2204.0, \"n_available\": 199.0, \"pct_available\": 0.09029038112522686}, {\"Date\": \"5/13/20\", \"Type\": \"Ventilators\", \"type_total\": 2385.0, \"n_available\": 1317.0, \"pct_available\": 0.5522012578616352}, {\"Date\": \"5/14/20\", \"Type\": \"Acute Care Beds\", \"type_total\": 7030.0, \"n_available\": 891.0, \"pct_available\": 0.1267425320056899}, {\"Date\": \"5/14/20\", \"Type\": \"ICU Beds\", \"type_total\": 2209.0, \"n_available\": 186.0, \"pct_available\": 0.08420099592575826}, {\"Date\": \"5/14/20\", \"Type\": \"Ventilators\", \"type_total\": 2213.0, \"n_available\": 1243.0, \"pct_available\": 0.5616809760506101}, {\"Date\": \"5/15/20\", \"Type\": \"Acute Care Beds\", \"type_total\": 6816.0, \"n_available\": 792.0, \"pct_available\": 0.11619718309859155}, {\"Date\": \"5/15/20\", \"Type\": \"ICU Beds\", \"type_total\": 2184.0, \"n_available\": 183.0, \"pct_available\": 0.08379120879120878}, {\"Date\": \"5/15/20\", \"Type\": \"Ventilators\", \"type_total\": 2050.0, \"n_available\": 1057.0, \"pct_available\": 0.515609756097561}, {\"Date\": \"5/16/20\", \"Type\": \"Acute Care Beds\", \"type_total\": 6561.0, \"n_available\": 953.0, \"pct_available\": 0.14525224813290658}, {\"Date\": \"5/16/20\", \"Type\": \"ICU Beds\", \"type_total\": 2125.0, \"n_available\": 202.0, \"pct_available\": 0.09505882352941177}, {\"Date\": \"5/16/20\", \"Type\": \"Ventilators\", \"type_total\": 2047.0, \"n_available\": 1145.0, \"pct_available\": 0.5593551538837322}, {\"Date\": \"5/17/20\", \"Type\": \"Acute Care Beds\", \"type_total\": 6496.0, \"n_available\": 958.0, \"pct_available\": 0.14747536945812809}, {\"Date\": \"5/17/20\", \"Type\": \"ICU Beds\", \"type_total\": 2072.0, \"n_available\": 214.0, \"pct_available\": 0.10328185328185328}, {\"Date\": \"5/17/20\", \"Type\": \"Ventilators\", \"type_total\": 2062.0, \"n_available\": 1229.0, \"pct_available\": 0.596023278370514}, {\"Date\": \"5/18/20\", \"Type\": \"Acute Care Beds\", \"type_total\": 2234.0, \"n_available\": 938.0, \"pct_available\": 0.41987466427931963}, {\"Date\": \"5/18/20\", \"Type\": \"ICU Beds\", \"type_total\": 706.0, \"n_available\": 195.0, \"pct_available\": 0.2762039660056657}, {\"Date\": \"5/18/20\", \"Type\": \"Ventilators\", \"type_total\": 2317.0, \"n_available\": 1321.0, \"pct_available\": 0.5701337936987484}], \"data-3d40eef6f5c0bf9cd18ed8669401cbf2\": [{\"y\": 0.3}]}}, {\"mode\": \"vega-lite\"});\n",
       "</script>"
      ],
      "text/plain": [
       "alt.LayerChart(...)"
      ]
     },
     "metadata": {},
     "output_type": "display_data"
    },
    {
     "data": {
      "text/html": [
       "\n",
       "<div id=\"altair-viz-b092b0fc5e7e44099525c065d514863b\"></div>\n",
       "<script type=\"text/javascript\">\n",
       "  (function(spec, embedOpt){\n",
       "    const outputDiv = document.getElementById(\"altair-viz-b092b0fc5e7e44099525c065d514863b\");\n",
       "    const paths = {\n",
       "      \"vega\": \"https://cdn.jsdelivr.net/npm//vega@5?noext\",\n",
       "      \"vega-lib\": \"https://cdn.jsdelivr.net/npm//vega-lib?noext\",\n",
       "      \"vega-lite\": \"https://cdn.jsdelivr.net/npm//vega-lite@4.0.2?noext\",\n",
       "      \"vega-embed\": \"https://cdn.jsdelivr.net/npm//vega-embed@6?noext\",\n",
       "    };\n",
       "\n",
       "    function loadScript(lib) {\n",
       "      return new Promise(function(resolve, reject) {\n",
       "        var s = document.createElement('script');\n",
       "        s.src = paths[lib];\n",
       "        s.async = true;\n",
       "        s.onload = () => resolve(paths[lib]);\n",
       "        s.onerror = () => reject(`Error loading script: ${paths[lib]}`);\n",
       "        document.getElementsByTagName(\"head\")[0].appendChild(s);\n",
       "      });\n",
       "    }\n",
       "\n",
       "    function showError(err) {\n",
       "      outputDiv.innerHTML = `<div class=\"error\" style=\"color:red;\">${err}</div>`;\n",
       "      throw err;\n",
       "    }\n",
       "\n",
       "    function displayChart(vegaEmbed) {\n",
       "      vegaEmbed(outputDiv, spec, embedOpt)\n",
       "        .catch(err => showError(`Javascript Error: ${err.message}<br>This usually means there's a typo in your chart specification. See the javascript console for the full traceback.`));\n",
       "    }\n",
       "\n",
       "    if(typeof define === \"function\" && define.amd) {\n",
       "      requirejs.config({paths});\n",
       "      require([\"vega-embed\"], displayChart, err => showError(`Error loading script: ${err.message}`));\n",
       "    } else if (typeof vegaEmbed === \"function\") {\n",
       "      displayChart(vegaEmbed);\n",
       "    } else {\n",
       "      loadScript(\"vega\")\n",
       "        .then(() => loadScript(\"vega-lite\"))\n",
       "        .then(() => loadScript(\"vega-embed\"))\n",
       "        .catch(showError)\n",
       "        .then(() => displayChart(vegaEmbed));\n",
       "    }\n",
       "  })({\"config\": {\"view\": {\"continuousWidth\": 400, \"continuousHeight\": 300, \"strokeOpacity\": 0}, \"axis\": {\"domainOpacity\": 0.4, \"gridOpacity\": 0.4, \"ticks\": false}, \"title\": {\"anchor\": \"middle\", \"color\": \"black\", \"font\": \"Roboto\", \"fontSize\": 10}}, \"data\": {\"name\": \"data-f5a7c0c8fb45a36ebf6efa1b68762f20\"}, \"mark\": \"line\", \"encoding\": {\"color\": {\"type\": \"nominal\", \"field\": \"Type\", \"scale\": {\"domain\": [\"Acute Care Beds\", \"ICU Beds\", \"Ventilators\"], \"range\": [\"#10DE7A\", \"#0A4C6A\", \"#FCA800\"]}}, \"x\": {\"type\": \"nominal\", \"axis\": {\"format\": \"%-m/%-d\"}, \"field\": \"Date\", \"timeUnit\": \"monthdate\", \"title\": \"date\"}, \"y\": {\"type\": \"quantitative\", \"field\": \"n_available\", \"title\": \"# available\"}}, \"title\": \"Number of Available Hospital Equipment by Type\", \"width\": 500, \"$schema\": \"https://vega.github.io/schema/vega-lite/v4.0.2.json\", \"datasets\": {\"data-f5a7c0c8fb45a36ebf6efa1b68762f20\": [{\"Date\": \"4/3/20\", \"Type\": \"Acute Care Beds\", \"type_total\": 17000.0, \"n_available\": 1378.0, \"pct_available\": 0.08105882352941177}, {\"Date\": \"4/3/20\", \"Type\": \"ICU Beds\", \"type_total\": 2500.0, \"n_available\": 239.0, \"pct_available\": 0.0956}, {\"Date\": \"4/3/20\", \"Type\": \"Ventilators\", \"type_total\": 1930.0, \"n_available\": 895.0, \"pct_available\": 0.4637305699481865}, {\"Date\": \"4/4/20\", \"Type\": \"Acute Care Beds\", \"type_total\": 17000.0, \"n_available\": 1266.0, \"pct_available\": 0.07447058823529412}, {\"Date\": \"4/4/20\", \"Type\": \"ICU Beds\", \"type_total\": 2500.0, \"n_available\": 246.0, \"pct_available\": 0.0984}, {\"Date\": \"4/4/20\", \"Type\": \"Ventilators\", \"type_total\": 1760.0, \"n_available\": 918.0, \"pct_available\": 0.5215909090909091}, {\"Date\": \"4/5/20\", \"Type\": \"Acute Care Beds\", \"type_total\": 17000.0, \"n_available\": 1298.0, \"pct_available\": 0.07635294117647058}, {\"Date\": \"4/5/20\", \"Type\": \"ICU Beds\", \"type_total\": 2500.0, \"n_available\": 318.0, \"pct_available\": 0.1272}, {\"Date\": \"4/5/20\", \"Type\": \"Ventilators\", \"type_total\": 1914.0, \"n_available\": 1012.0, \"pct_available\": 0.5287356321839081}, {\"Date\": \"4/6/20\", \"Type\": \"Acute Care Beds\", \"type_total\": 17000.0, \"n_available\": 1148.0, \"pct_available\": 0.06752941176470588}, {\"Date\": \"4/6/20\", \"Type\": \"ICU Beds\", \"type_total\": 2500.0, \"n_available\": 258.0, \"pct_available\": 0.1032}, {\"Date\": \"4/6/20\", \"Type\": \"Ventilators\", \"type_total\": 1827.0, \"n_available\": 1010.0, \"pct_available\": 0.5528188286808976}, {\"Date\": \"4/7/20\", \"Type\": \"Acute Care Beds\", \"type_total\": 16980.0, \"n_available\": 1301.0, \"pct_available\": 0.07661955241460541}, {\"Date\": \"4/7/20\", \"Type\": \"ICU Beds\", \"type_total\": 2500.0, \"n_available\": 247.0, \"pct_available\": 0.0988}, {\"Date\": \"4/7/20\", \"Type\": \"Ventilators\", \"type_total\": 1998.0, \"n_available\": 1042.0, \"pct_available\": 0.5215215215215215}, {\"Date\": \"4/8/20\", \"Type\": \"Acute Care Beds\", \"type_total\": 17000.0, \"n_available\": 1373.0, \"pct_available\": 0.08076470588235295}, {\"Date\": \"4/8/20\", \"Type\": \"ICU Beds\", \"type_total\": 2500.0, \"n_available\": 268.0, \"pct_available\": 0.1072}, {\"Date\": \"4/8/20\", \"Type\": \"Ventilators\", \"type_total\": 1952.0, \"n_available\": 971.0, \"pct_available\": 0.4974385245901639}, {\"Date\": \"4/9/20\", \"Type\": \"Acute Care Beds\", \"type_total\": 17000.0, \"n_available\": 1334.0, \"pct_available\": 0.07847058823529411}, {\"Date\": \"4/9/20\", \"Type\": \"ICU Beds\", \"type_total\": 2500.0, \"n_available\": 248.0, \"pct_available\": 0.0992}, {\"Date\": \"4/9/20\", \"Type\": \"Ventilators\", \"type_total\": 2041.0, \"n_available\": 1096.0, \"pct_available\": 0.5369916707496325}, {\"Date\": \"4/10/20\", \"Type\": \"Acute Care Beds\", \"type_total\": 17000.0, \"n_available\": 1455.0, \"pct_available\": 0.08558823529411765}, {\"Date\": \"4/10/20\", \"Type\": \"ICU Beds\", \"type_total\": 2500.0, \"n_available\": 266.0, \"pct_available\": 0.1064}, {\"Date\": \"4/10/20\", \"Type\": \"Ventilators\", \"type_total\": 1974.0, \"n_available\": 1110.0, \"pct_available\": 0.5623100303951368}, {\"Date\": \"4/11/20\", \"Type\": \"Acute Care Beds\", \"type_total\": 17000.0, \"n_available\": 1420.0, \"pct_available\": 0.08352941176470588}, {\"Date\": \"4/11/20\", \"Type\": \"ICU Beds\", \"type_total\": 2500.0, \"n_available\": 309.0, \"pct_available\": 0.1236}, {\"Date\": \"4/11/20\", \"Type\": \"Ventilators\", \"type_total\": 1743.0, \"n_available\": 1003.0, \"pct_available\": 0.5754446356855996}, {\"Date\": \"4/12/20\", \"Type\": \"Acute Care Beds\", \"type_total\": 17000.0, \"n_available\": 1445.0, \"pct_available\": 0.085}, {\"Date\": \"4/12/20\", \"Type\": \"ICU Beds\", \"type_total\": 2500.0, \"n_available\": 229.0, \"pct_available\": 0.0916}, {\"Date\": \"4/12/20\", \"Type\": \"Ventilators\", \"type_total\": 1769.0, \"n_available\": 1025.0, \"pct_available\": 0.5794234030525721}, {\"Date\": \"4/13/20\", \"Type\": \"Acute Care Beds\", \"type_total\": 17000.0, \"n_available\": 1420.0, \"pct_available\": 0.08352941176470588}, {\"Date\": \"4/13/20\", \"Type\": \"ICU Beds\", \"type_total\": 2500.0, \"n_available\": 292.0, \"pct_available\": 0.1168}, {\"Date\": \"4/13/20\", \"Type\": \"Ventilators\", \"type_total\": 2063.0, \"n_available\": 1125.0, \"pct_available\": 0.5453223460979156}, {\"Date\": \"4/14/20\", \"Type\": \"Acute Care Beds\", \"type_total\": 17000.0, \"n_available\": 1309.0, \"pct_available\": 0.077}, {\"Date\": \"4/14/20\", \"Type\": \"ICU Beds\", \"type_total\": 2500.0, \"n_available\": 244.0, \"pct_available\": 0.0976}, {\"Date\": \"4/14/20\", \"Type\": \"Ventilators\", \"type_total\": 1933.0, \"n_available\": 996.0, \"pct_available\": 0.5152612519399896}, {\"Date\": \"4/15/20\", \"Type\": \"Acute Care Beds\", \"type_total\": 16913.0, \"n_available\": 1309.0, \"pct_available\": 0.07739608585112044}, {\"Date\": \"4/15/20\", \"Type\": \"ICU Beds\", \"type_total\": 2480.0, \"n_available\": 249.0, \"pct_available\": 0.10040322580645161}, {\"Date\": \"4/15/20\", \"Type\": \"Ventilators\", \"type_total\": 2104.0, \"n_available\": 1129.0, \"pct_available\": 0.5365969581749049}, {\"Date\": \"4/16/20\", \"Type\": \"Acute Care Beds\", \"type_total\": 17001.0, \"n_available\": 1309.0, \"pct_available\": 0.0769954708546556}, {\"Date\": \"4/16/20\", \"Type\": \"ICU Beds\", \"type_total\": 2500.0, \"n_available\": 242.0, \"pct_available\": 0.0968}, {\"Date\": \"4/16/20\", \"Type\": \"Ventilators\", \"type_total\": 2104.0, \"n_available\": 1119.0, \"pct_available\": 0.5318441064638784}, {\"Date\": \"4/17/20\", \"Type\": \"Acute Care Beds\", \"type_total\": 17000.0, \"n_available\": 1133.0, \"pct_available\": 0.0666470588235294}, {\"Date\": \"4/17/20\", \"Type\": \"ICU Beds\", \"type_total\": 2500.0, \"n_available\": 259.0, \"pct_available\": 0.1036}, {\"Date\": \"4/17/20\", \"Type\": \"Ventilators\", \"type_total\": 2132.0, \"n_available\": 1124.0, \"pct_available\": 0.5272045028142589}, {\"Date\": \"4/18/20\", \"Type\": \"Acute Care Beds\", \"type_total\": 17000.0, \"n_available\": 1301.0, \"pct_available\": 0.07652941176470589}, {\"Date\": \"4/18/20\", \"Type\": \"ICU Beds\", \"type_total\": 2500.0, \"n_available\": 272.0, \"pct_available\": 0.1088}, {\"Date\": \"4/18/20\", \"Type\": \"Ventilators\", \"type_total\": 1956.0, \"n_available\": 1040.0, \"pct_available\": 0.5316973415132924}, {\"Date\": \"4/19/20\", \"Type\": \"Acute Care Beds\", \"type_total\": 17000.0, \"n_available\": 1145.0, \"pct_available\": 0.06735294117647059}, {\"Date\": \"4/19/20\", \"Type\": \"ICU Beds\", \"type_total\": 2500.0, \"n_available\": 234.0, \"pct_available\": 0.0936}, {\"Date\": \"4/19/20\", \"Type\": \"Ventilators\", \"type_total\": 1958.0, \"n_available\": 984.0, \"pct_available\": 0.5025536261491318}, {\"Date\": \"4/20/20\", \"Type\": \"Acute Care Beds\", \"type_total\": 7072.0, \"n_available\": 1201.0, \"pct_available\": 0.16982466063348417}, {\"Date\": \"4/20/20\", \"Type\": \"ICU Beds\", \"type_total\": 1643.0, \"n_available\": 232.0, \"pct_available\": 0.14120511259890445}, {\"Date\": \"4/20/20\", \"Type\": \"Ventilators\", \"type_total\": 2076.0, \"n_available\": 1125.0, \"pct_available\": 0.541907514450867}, {\"Date\": \"4/21/20\", \"Type\": \"Acute Care Beds\", \"type_total\": 6642.0, \"n_available\": 1053.0, \"pct_available\": 0.15853658536585366}, {\"Date\": \"4/21/20\", \"Type\": \"ICU Beds\", \"type_total\": 1934.0, \"n_available\": 246.0, \"pct_available\": 0.12719751809720786}, {\"Date\": \"4/21/20\", \"Type\": \"Ventilators\", \"type_total\": 2158.0, \"n_available\": 1143.0, \"pct_available\": 0.5296570898980537}, {\"Date\": \"4/22/20\", \"Type\": \"Acute Care Beds\", \"type_total\": 6260.0, \"n_available\": 1052.0, \"pct_available\": 0.16805111821086263}, {\"Date\": \"4/22/20\", \"Type\": \"ICU Beds\", \"type_total\": 1986.0, \"n_available\": 264.0, \"pct_available\": 0.13293051359516617}, {\"Date\": \"4/22/20\", \"Type\": \"Ventilators\", \"type_total\": 2204.0, \"n_available\": 1227.0, \"pct_available\": 0.5567150635208712}, {\"Date\": \"4/23/20\", \"Type\": \"Acute Care Beds\", \"type_total\": 6107.0, \"n_available\": 963.0, \"pct_available\": 0.15768789913214346}, {\"Date\": \"4/23/20\", \"Type\": \"ICU Beds\", \"type_total\": 1940.0, \"n_available\": 242.0, \"pct_available\": 0.12474226804123711}, {\"Date\": \"4/23/20\", \"Type\": \"Ventilators\", \"type_total\": 2221.0, \"n_available\": 1215.0, \"pct_available\": 0.5470508779828905}, {\"Date\": \"4/24/20\", \"Type\": \"Acute Care Beds\", \"type_total\": 6403.0, \"n_available\": 1097.0, \"pct_available\": 0.17132594096517256}, {\"Date\": \"4/24/20\", \"Type\": \"ICU Beds\", \"type_total\": 1848.0, \"n_available\": 210.0, \"pct_available\": 0.11363636363636363}, {\"Date\": \"4/24/20\", \"Type\": \"Ventilators\", \"type_total\": 2134.0, \"n_available\": 1212.0, \"pct_available\": 0.5679475164011246}, {\"Date\": \"4/25/20\", \"Type\": \"Acute Care Beds\", \"type_total\": 6214.0, \"n_available\": 1083.0, \"pct_available\": 0.1742838751206952}, {\"Date\": \"4/25/20\", \"Type\": \"ICU Beds\", \"type_total\": 1820.0, \"n_available\": 236.0, \"pct_available\": 0.12967032967032968}, {\"Date\": \"4/25/20\", \"Type\": \"Ventilators\", \"type_total\": 2028.0, \"n_available\": 1159.0, \"pct_available\": 0.5714990138067061}, {\"Date\": \"4/26/20\", \"Type\": \"Acute Care Beds\", \"type_total\": 6087.0, \"n_available\": 1016.0, \"pct_available\": 0.16691309347790373}, {\"Date\": \"4/26/20\", \"Type\": \"ICU Beds\", \"type_total\": 1757.0, \"n_available\": 233.0, \"pct_available\": 0.13261240751280592}, {\"Date\": \"4/26/20\", \"Type\": \"Ventilators\", \"type_total\": 1797.0, \"n_available\": 1036.0, \"pct_available\": 0.5765164162493044}, {\"Date\": \"4/27/20\", \"Type\": \"Acute Care Beds\", \"type_total\": 6299.0, \"n_available\": 924.0, \"pct_available\": 0.14668995078583902}, {\"Date\": \"4/27/20\", \"Type\": \"ICU Beds\", \"type_total\": 1870.0, \"n_available\": 255.0, \"pct_available\": 0.13636363636363635}, {\"Date\": \"4/27/20\", \"Type\": \"Ventilators\", \"type_total\": 2042.0, \"n_available\": 1164.0, \"pct_available\": 0.5700293829578844}, {\"Date\": \"4/28/20\", \"Type\": \"Acute Care Beds\", \"type_total\": 6565.0, \"n_available\": 1018.0, \"pct_available\": 0.15506473724295505}, {\"Date\": \"4/28/20\", \"Type\": \"ICU Beds\", \"type_total\": 1967.0, \"n_available\": 258.0, \"pct_available\": 0.13116420945602442}, {\"Date\": \"4/28/20\", \"Type\": \"Ventilators\", \"type_total\": 2030.0, \"n_available\": 1091.0, \"pct_available\": 0.5374384236453202}, {\"Date\": \"4/29/20\", \"Type\": \"Acute Care Beds\", \"type_total\": 6715.0, \"n_available\": 905.0, \"pct_available\": 0.1347728965003723}, {\"Date\": \"4/29/20\", \"Type\": \"ICU Beds\", \"type_total\": 2168.0, \"n_available\": 221.0, \"pct_available\": 0.10193726937269372}, {\"Date\": \"4/29/20\", \"Type\": \"Ventilators\", \"type_total\": 2263.0, \"n_available\": 1213.0, \"pct_available\": 0.5360141405214317}, {\"Date\": \"4/30/20\", \"Type\": \"Acute Care Beds\", \"type_total\": 2456.0, \"n_available\": 935.0, \"pct_available\": 0.380700325732899}, {\"Date\": \"4/30/20\", \"Type\": \"ICU Beds\", \"type_total\": 885.0, \"n_available\": 234.0, \"pct_available\": 0.26440677966101694}, {\"Date\": \"4/30/20\", \"Type\": \"Ventilators\", \"type_total\": 2245.0, \"n_available\": 1210.0, \"pct_available\": 0.5389755011135857}, {\"Date\": \"5/1/20\", \"Type\": \"Acute Care Beds\", \"type_total\": 6843.0, \"n_available\": 925.0, \"pct_available\": 0.13517463100979102}, {\"Date\": \"5/1/20\", \"Type\": \"ICU Beds\", \"type_total\": 2157.0, \"n_available\": 203.0, \"pct_available\": 0.09411219286045433}, {\"Date\": \"5/1/20\", \"Type\": \"Ventilators\", \"type_total\": 2168.0, \"n_available\": 1146.0, \"pct_available\": 0.5285977859778598}, {\"Date\": \"5/2/20\", \"Type\": \"Acute Care Beds\", \"type_total\": 6690.0, \"n_available\": 986.0, \"pct_available\": 0.14738415545590433}, {\"Date\": \"5/2/20\", \"Type\": \"ICU Beds\", \"type_total\": 2120.0, \"n_available\": 236.0, \"pct_available\": 0.11132075471698114}, {\"Date\": \"5/2/20\", \"Type\": \"Ventilators\", \"type_total\": 2046.0, \"n_available\": 1164.0, \"pct_available\": 0.5689149560117303}, {\"Date\": \"5/3/20\", \"Type\": \"Acute Care Beds\", \"type_total\": 6565.0, \"n_available\": 1041.0, \"pct_available\": 0.15856816450875857}, {\"Date\": \"5/3/20\", \"Type\": \"ICU Beds\", \"type_total\": 2129.0, \"n_available\": 235.0, \"pct_available\": 0.1103804603100047}, {\"Date\": \"5/3/20\", \"Type\": \"Ventilators\", \"type_total\": 2028.0, \"n_available\": 1113.0, \"pct_available\": 0.5488165680473372}, {\"Date\": \"5/4/20\", \"Type\": \"Acute Care Beds\", \"type_total\": 6651.0, \"n_available\": 1055.0, \"pct_available\": 0.1586227634942114}, {\"Date\": \"5/4/20\", \"Type\": \"ICU Beds\", \"type_total\": 2173.0, \"n_available\": 226.0, \"pct_available\": 0.10400368154624942}, {\"Date\": \"5/4/20\", \"Type\": \"Ventilators\", \"type_total\": 2351.0, \"n_available\": 1331.0, \"pct_available\": 0.5661420672054445}, {\"Date\": \"5/5/20\", \"Type\": \"Acute Care Beds\", \"type_total\": 6801.0, \"n_available\": 944.0, \"pct_available\": 0.13880311718864874}, {\"Date\": \"5/5/20\", \"Type\": \"ICU Beds\", \"type_total\": 2210.0, \"n_available\": 203.0, \"pct_available\": 0.09185520361990951}, {\"Date\": \"5/5/20\", \"Type\": \"Ventilators\", \"type_total\": 2196.0, \"n_available\": 1142.0, \"pct_available\": 0.5200364298724954}, {\"Date\": \"5/6/20\", \"Type\": \"Acute Care Beds\", \"type_total\": 6642.0, \"n_available\": 828.0, \"pct_available\": 0.12466124661246612}, {\"Date\": \"5/6/20\", \"Type\": \"ICU Beds\", \"type_total\": 2152.0, \"n_available\": 218.0, \"pct_available\": 0.10130111524163568}, {\"Date\": \"5/6/20\", \"Type\": \"Ventilators\", \"type_total\": 2106.0, \"n_available\": 1048.0, \"pct_available\": 0.4976258309591643}, {\"Date\": \"5/7/20\", \"Type\": \"Acute Care Beds\", \"type_total\": 6619.0, \"n_available\": 875.0, \"pct_available\": 0.13219519564888957}, {\"Date\": \"5/7/20\", \"Type\": \"ICU Beds\", \"type_total\": 2152.0, \"n_available\": 203.0, \"pct_available\": 0.09433085501858736}, {\"Date\": \"5/7/20\", \"Type\": \"Ventilators\", \"type_total\": 2229.0, \"n_available\": 1146.0, \"pct_available\": 0.5141318977119784}, {\"Date\": \"5/8/20\", \"Type\": \"Acute Care Beds\", \"type_total\": 6667.0, \"n_available\": 810.0, \"pct_available\": 0.12149392530373482}, {\"Date\": \"5/8/20\", \"Type\": \"ICU Beds\", \"type_total\": 2131.0, \"n_available\": 186.0, \"pct_available\": 0.08728296574378226}, {\"Date\": \"5/8/20\", \"Type\": \"Ventilators\", \"type_total\": 2170.0, \"n_available\": 1218.0, \"pct_available\": 0.5612903225806452}, {\"Date\": \"5/9/20\", \"Type\": \"Acute Care Beds\", \"type_total\": 6610.0, \"n_available\": 888.0, \"pct_available\": 0.13434190620272315}, {\"Date\": \"5/9/20\", \"Type\": \"ICU Beds\", \"type_total\": 2140.0, \"n_available\": 240.0, \"pct_available\": 0.11214953271028037}, {\"Date\": \"5/9/20\", \"Type\": \"Ventilators\", \"type_total\": 2086.0, \"n_available\": 1155.0, \"pct_available\": 0.5536912751677853}, {\"Date\": \"5/10/20\", \"Type\": \"Acute Care Beds\", \"type_total\": 6329.0, \"n_available\": 852.0, \"pct_available\": 0.13461842313161637}, {\"Date\": \"5/10/20\", \"Type\": \"ICU Beds\", \"type_total\": 2068.0, \"n_available\": 204.0, \"pct_available\": 0.09864603481624758}, {\"Date\": \"5/10/20\", \"Type\": \"Ventilators\", \"type_total\": 2194.0, \"n_available\": 1181.0, \"pct_available\": 0.5382862351868732}, {\"Date\": \"5/11/20\", \"Type\": \"Acute Care Beds\", \"type_total\": 6892.0, \"n_available\": 890.0, \"pct_available\": 0.12913522925130586}, {\"Date\": \"5/11/20\", \"Type\": \"ICU Beds\", \"type_total\": 2249.0, \"n_available\": 246.0, \"pct_available\": 0.10938194753223655}, {\"Date\": \"5/11/20\", \"Type\": \"Ventilators\", \"type_total\": 2295.0, \"n_available\": 1254.0, \"pct_available\": 0.5464052287581699}, {\"Date\": \"5/12/20\", \"Type\": \"Acute Care Beds\", \"type_total\": 6930.0, \"n_available\": 874.0, \"pct_available\": 0.12611832611832613}, {\"Date\": \"5/12/20\", \"Type\": \"ICU Beds\", \"type_total\": 2148.0, \"n_available\": 187.0, \"pct_available\": 0.08705772811918064}, {\"Date\": \"5/12/20\", \"Type\": \"Ventilators\", \"type_total\": 2248.0, \"n_available\": 1231.0, \"pct_available\": 0.5475978647686833}, {\"Date\": \"5/13/20\", \"Type\": \"Acute Care Beds\", \"type_total\": 7053.0, \"n_available\": 822.0, \"pct_available\": 0.11654615057422374}, {\"Date\": \"5/13/20\", \"Type\": \"ICU Beds\", \"type_total\": 2204.0, \"n_available\": 199.0, \"pct_available\": 0.09029038112522686}, {\"Date\": \"5/13/20\", \"Type\": \"Ventilators\", \"type_total\": 2385.0, \"n_available\": 1317.0, \"pct_available\": 0.5522012578616352}, {\"Date\": \"5/14/20\", \"Type\": \"Acute Care Beds\", \"type_total\": 7030.0, \"n_available\": 891.0, \"pct_available\": 0.1267425320056899}, {\"Date\": \"5/14/20\", \"Type\": \"ICU Beds\", \"type_total\": 2209.0, \"n_available\": 186.0, \"pct_available\": 0.08420099592575826}, {\"Date\": \"5/14/20\", \"Type\": \"Ventilators\", \"type_total\": 2213.0, \"n_available\": 1243.0, \"pct_available\": 0.5616809760506101}, {\"Date\": \"5/15/20\", \"Type\": \"Acute Care Beds\", \"type_total\": 6816.0, \"n_available\": 792.0, \"pct_available\": 0.11619718309859155}, {\"Date\": \"5/15/20\", \"Type\": \"ICU Beds\", \"type_total\": 2184.0, \"n_available\": 183.0, \"pct_available\": 0.08379120879120878}, {\"Date\": \"5/15/20\", \"Type\": \"Ventilators\", \"type_total\": 2050.0, \"n_available\": 1057.0, \"pct_available\": 0.515609756097561}, {\"Date\": \"5/16/20\", \"Type\": \"Acute Care Beds\", \"type_total\": 6561.0, \"n_available\": 953.0, \"pct_available\": 0.14525224813290658}, {\"Date\": \"5/16/20\", \"Type\": \"ICU Beds\", \"type_total\": 2125.0, \"n_available\": 202.0, \"pct_available\": 0.09505882352941177}, {\"Date\": \"5/16/20\", \"Type\": \"Ventilators\", \"type_total\": 2047.0, \"n_available\": 1145.0, \"pct_available\": 0.5593551538837322}, {\"Date\": \"5/17/20\", \"Type\": \"Acute Care Beds\", \"type_total\": 6496.0, \"n_available\": 958.0, \"pct_available\": 0.14747536945812809}, {\"Date\": \"5/17/20\", \"Type\": \"ICU Beds\", \"type_total\": 2072.0, \"n_available\": 214.0, \"pct_available\": 0.10328185328185328}, {\"Date\": \"5/17/20\", \"Type\": \"Ventilators\", \"type_total\": 2062.0, \"n_available\": 1229.0, \"pct_available\": 0.596023278370514}, {\"Date\": \"5/18/20\", \"Type\": \"Acute Care Beds\", \"type_total\": 2234.0, \"n_available\": 938.0, \"pct_available\": 0.41987466427931963}, {\"Date\": \"5/18/20\", \"Type\": \"ICU Beds\", \"type_total\": 706.0, \"n_available\": 195.0, \"pct_available\": 0.2762039660056657}, {\"Date\": \"5/18/20\", \"Type\": \"Ventilators\", \"type_total\": 2317.0, \"n_available\": 1321.0, \"pct_available\": 0.5701337936987484}]}}, {\"mode\": \"vega-lite\"});\n",
       "</script>"
      ],
      "text/plain": [
       "alt.Chart(...)"
      ]
     },
     "metadata": {},
     "output_type": "display_data"
    }
   ],
   "source": [
    "hospital = utils.hospital_capacity_lacity(\"4/1/20\")"
   ]
  },
  {
   "cell_type": "markdown",
   "metadata": {},
   "source": [
    "# Markdown Red/ Green Indicator \n",
    "* The next cell displays in the color red or green "
   ]
  },
  {
   "cell_type": "code",
   "execution_count": null,
   "metadata": {},
   "outputs": [],
   "source": [
    "def red_green():\n",
    "    \"\"\"\n",
    "    returns a random \"red\" or \"green\" text in markdown.\n",
    "    \"\"\"\n",
    "    return np.random.choice(['green', 'red'])\n",
    "\n",
    "color = red_green()\n",
    "print(color)\n",
    "display(Markdown(f'<span style=\"color:{color}\">some *blue* text</span>.'))"
   ]
  },
  {
   "cell_type": "code",
   "execution_count": null,
   "metadata": {},
   "outputs": [],
   "source": [
    "\"\"\"To convert to HTML: \n",
    "jupyter nbconvert --to html --no-input --no-prompt my-notebook.ipynb\n",
    "\"\"\""
   ]
  },
  {
   "cell_type": "code",
   "execution_count": null,
   "metadata": {},
   "outputs": [],
   "source": []
  }
 ],
 "metadata": {
  "kernelspec": {
   "display_name": "Python 3",
   "language": "python",
   "name": "python3"
  },
  "language_info": {
   "codemirror_mode": {
    "name": "ipython",
    "version": 3
   },
   "file_extension": ".py",
   "mimetype": "text/x-python",
   "name": "python",
   "nbconvert_exporter": "python",
   "pygments_lexer": "ipython3",
   "version": "3.7.3"
  }
 },
 "nbformat": 4,
 "nbformat_minor": 4
}
