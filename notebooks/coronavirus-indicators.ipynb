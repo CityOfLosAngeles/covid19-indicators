{
 "cells": [
  {
   "cell_type": "markdown",
   "metadata": {},
   "source": [
    "# LA's COVID-19 Reopening / Recovery Indicators \n",
    "\n",
    "The NY Times wrote about rushed reopenings being [a global trial-and-error experiment](https://www.nytimes.com/2020/05/07/world/europe/coronavirus-reopening-costs.html) and a further analysis showing how US states reopening [fail to meet the WH guidelines](https://www.nytimes.com/interactive/2020/05/07/us/coronavirus-states-reopen-criteria.html). Vox has written about [the importance of COVID testing indicators](https://www.vox.com/2020/5/8/21249880/coronavirus-testing-covid-reopening-economy-lockdowns-social-distancing) as a prerequisite for reopening. \n",
    "\n",
    "While we wait for LA's own reopening indicators, we can still see how LA stacks up against NY and Chicago's indicators. [NY State's Reopening Indicators](https://www.nytimes.com/2020/05/04/nyregion/coronavirus-reopen-cuomo-ny.html) were based heavily in part by the White House [Opening Up America Again gating criteria](https://www.whitehouse.gov/wp-content/uploads/2020/04/Guidelines-for-Opening-Up-America-Again.pdf), and Chicago outlined even [tougher benchmarks than the IL statewide strategy](https://www.chicagotribune.com/coronavirus/ct-coronavirus-chicago-reopening-lightfoot-20200508-ztpnouwexrcvfdfcr2yccbc53a-story.html). In terms of outbreak severity, [LA and Chicago come right after NYC](https://www.nytimes.com/2020/05/09/us/coronavirus-chicago.html)."
   ]
  },
  {
   "cell_type": "markdown",
   "metadata": {},
   "source": [
    "## [White House Gating Criteria](https://www.whitehouse.gov/wp-content/uploads/2020/04/Guidelines-for-Opening-Up-America-Again.pdf)\n",
    "### Symptoms\n",
    "* Downward trajectory of influenza-like illnesses (ILI) reported within a 14-day period **and**\n",
    "* Downward trajectory of COVID-like syndromic cases reported within a 14-day period\n",
    "\n",
    "### Cases\n",
    "* Downward trajectory of documented cases within a 14-day period **or**\n",
    "* Downward trajectory of positive tests as a percent of total tests within a 14-day period (flat or increasing volume of tests) \n",
    "\n",
    "### Hospitals\n",
    "* Treat all patients without crisis care **and**\n",
    "* Robust testing program in place for at-risk healthcare workers, including emerging antibody testing\n",
    "\n",
    "| NY | Chicago |\n",
    "| --- | --- |\n",
    "| At least 14 days decline in total net hospitalizations on a 3-day rolling average **or** <BR> Less than 15 net new total hospitalizations on a 3-day rolling average </BR> | At least 14 days decline in new cases, on average \n",
    "| At least 14 days decline in total net deaths on a 3-day rolling average **or** <BR> Less than 5 new deaths on a 3-day rolling average </BR> | At least 14 days decline in of case rate (per capita?) |\n",
    "| At least 30% total hospital and ICU beds available  | At least 14 days decline in rate of new cases (per capita?)\n",
    "| At least 90 days of PPE stockpiled  | Stable or declining rates of hospitalizations  \n",
    "| Capacity to conduct 30 tests per 1,000 residents per month  | Stable or declining rates of ICU admissions \n",
    "| 30 working contact tracers per 100,000 residents | Stable or declining rates of ICU deaths\n",
    "| Rural regions: Fewer than 2 new COVID patients admitted per 100,000 residents per day | Share of positive results are decreasing below 15% of those tested in the community \n",
    "|   | Fewer than 1,800 coronavirus patients in hospital beds \n",
    "|   | Fewer than 600 coronavirus patients in ICU beds\n",
    "|   | Fewer than 450 coronavirus patients on ventilators\n",
    "|   | Test 135,000 per month, equivalent to 4,500 people per day"
   ]
  },
  {
   "cell_type": "code",
   "execution_count": 1,
   "metadata": {},
   "outputs": [],
   "source": [
    "import pandas as pd\n",
    "import pytz\n",
    "import utils\n",
    "\n",
    "from datetime import date, datetime, timedelta\n",
    "from IPython.display import Markdown\n",
    "\n",
    "US_COUNTY_URL = \"http://lahub.maps.arcgis.com/sharing/rest/content/items/782ca660304a4bdda1cc9757a2504647/data\"\n",
    "LA_CITY_URL = \"https://lahub.maps.arcgis.com/sharing/rest/content/items/7175fba373f541a7a19df56b6a0617f4/data\"\n",
    "TESTING_URL = \"http://lahub.maps.arcgis.com/sharing/rest/content/items/158dab4a07b04ecb8d47fea1746303ac/data\"\n",
    "HOSPITAL_URL = \"http://lahub.maps.arcgis.com/sharing/rest/content/items/3da1eb3e13a14743973c96b945bd1117/data\"\n",
    "CROSSWALK_URL = (\n",
    "    \"https://raw.githubusercontent.com/CityOfLosAngeles/aqueduct/master/dags/public-health/covid19/\"\n",
    "    \"msa_county_pop_crosswalk.csv\"\n",
    ")\n",
    "\n",
    "# Default parameters\n",
    "county_state_name = utils.county_state_name\n",
    "state_name = utils.state_name\n",
    "msa_name = utils.msa_name\n",
    "time_zone = utils.time_zone\n",
    "start_date = utils.start_date\n",
    "yesterday_date = utils.yesterday_date\n",
    "today_date = utils.today_date\n",
    "two_weeks_ago = (\n",
    "    (datetime.today()\n",
    "                .astimezone(pytz.timezone(f'{time_zone}'))\n",
    "                .date()\n",
    "        - timedelta(days=15)\n",
    "    ).strftime(\"%-m/%-d/%y\")\n",
    ")\n",
    "\n",
    "# Daily testing upper and lower bound\n",
    "test_lower_bound = 10_000\n",
    "test_upper_bound = 16_667\n",
    "positive_bound = 0.10"
   ]
  },
  {
   "cell_type": "code",
   "execution_count": null,
   "metadata": {},
   "outputs": [],
   "source": [
    "la_county = utils.county_case_charts(county_state_name, start_date)\n",
    "la_city = utils.lacity_case_charts(\"4/1/20\") "
   ]
  },
  {
   "cell_type": "markdown",
   "metadata": {},
   "source": [
    "## Summary of Indicators"
   ]
  },
  {
   "cell_type": "code",
   "execution_count": null,
   "metadata": {},
   "outputs": [],
   "source": [
    "display(Markdown(f\"#### Indicators as of {yesterday_date}:\"))"
   ]
  },
  {
   "cell_type": "code",
   "execution_count": 6,
   "metadata": {},
   "outputs": [],
   "source": [
    "# County new cases\n",
    "import numpy as np\n",
    "\n",
    "def meet_county_case_indicators(county_state_name, start_date):\n",
    "    sort_cols = [\"date\"]\n",
    "    group_cols = [\"county\", \"state\"]\n",
    "    \n",
    "    def look_at_past_two_weeks(df)\n",
    "        \"\"\"\n",
    "        Count number of times in past 14 days where\n",
    "        we had drop in cases / deaths from prior day.\n",
    "        We will use 7-day rolling average for BOTH cases and deaths.\n",
    "        Date two weeks ago is 15 days ago because\n",
    "        we need 14 change-from-prior-day observations.\n",
    "        \"\"\"\n",
    "        df = df.assign(\n",
    "            delta_cases_avg7=(\n",
    "                df.sort_values(sort_cols)\n",
    "                .groupby(group_cols)[\"cases_avg7\"]\n",
    "                .diff(periods=1)\n",
    "            ),\n",
    "            delta_deaths_avg7=(\n",
    "                df.sort_values(sort_cols)\n",
    "                .groupby(group_cols)[\"deaths_avg7\"]\n",
    "                .diff(periods=1)\n",
    "            )\n",
    "        )\n",
    "\n",
    "        df = df.assign(\n",
    "            days_fewer_cases = df.apply(lambda row: 1 if row.delta_cases_avg7 < 0 else 0, axis=1),\n",
    "            days_fewer_deaths = df.apply(lambda row: 1 if row.delta_deaths_avg7 < 0 else 0, axis=1),\n",
    "        )\n",
    "\n",
    "        two_week_totals = (df.groupby([\"county\", \"fips\"])\n",
    "                           .agg({\"days_fewer_cases\": \"sum\", \n",
    "                                \"days_fewer_deaths\": \"sum\"})\n",
    "                           .reset_index()\n",
    "                          )\n",
    "\n",
    "        return two_week_totals\n",
    "    \n",
    "    df = utils.county_case_indicators(county_state_name, start_date)\n",
    "    df = df[(df.date < today_date) & (df.date >= two_weeks_ago)]\n",
    "    df = look_at_past_two_weeks(df)\n",
    "    if "
   ]
  },
  {
   "cell_type": "code",
   "execution_count": 7,
   "metadata": {},
   "outputs": [],
   "source": [
    "la = meet_county_case_indicators(county_state_name, \"5/1/20\")"
   ]
  },
  {
   "cell_type": "code",
   "execution_count": 8,
   "metadata": {},
   "outputs": [
    {
     "data": {
      "text/html": [
       "<div>\n",
       "<style scoped>\n",
       "    .dataframe tbody tr th:only-of-type {\n",
       "        vertical-align: middle;\n",
       "    }\n",
       "\n",
       "    .dataframe tbody tr th {\n",
       "        vertical-align: top;\n",
       "    }\n",
       "\n",
       "    .dataframe thead th {\n",
       "        text-align: right;\n",
       "    }\n",
       "</style>\n",
       "<table border=\"1\" class=\"dataframe\">\n",
       "  <thead>\n",
       "    <tr style=\"text-align: right;\">\n",
       "      <th></th>\n",
       "      <th>county</th>\n",
       "      <th>fips</th>\n",
       "      <th>fewer_cases</th>\n",
       "      <th>fewer_deaths</th>\n",
       "    </tr>\n",
       "  </thead>\n",
       "  <tbody>\n",
       "    <tr>\n",
       "      <th>0</th>\n",
       "      <td>Los Angeles</td>\n",
       "      <td>06037</td>\n",
       "      <td>5</td>\n",
       "      <td>8</td>\n",
       "    </tr>\n",
       "  </tbody>\n",
       "</table>\n",
       "</div>"
      ],
      "text/plain": [
       "        county   fips  fewer_cases  fewer_deaths\n",
       "0  Los Angeles  06037            5             8"
      ]
     },
     "execution_count": 8,
     "metadata": {},
     "output_type": "execute_result"
    }
   ],
   "source": [
    "la"
   ]
  },
  {
   "cell_type": "code",
   "execution_count": null,
   "metadata": {},
   "outputs": [],
   "source": [
    "\n",
    "\n",
    "# City new cases\n",
    "city = utils.lacity_case_indicators(\"4/21/20\")\n",
    "\n",
    "daily2 = utils.lacity_testing_indicators(\"4/7/20\", \"daily\", 10_000, 16_667)\n",
    "positive = utils.lacity_positive_test_indicators(\"4/15/20\")\n",
    "\n",
    "hospital2 = utils.lacity_hospital_indicators(\"4/5/20\")\n",
    "# Daily Testing    \n",
    "def testing_meet_indicators(yesterday_date, test_lower_bound, test_upper_bound):\n",
    "    \"\"\"\n",
    "    Returns red/green/blue depending on how well benchmark is met\n",
    "    \"\"\"\n",
    "    df = utils.testing_lacity(start_date, \"daily\", test_lower_bound, test_upper_bound)\n",
    "    \n",
    "    test_indicator = df[df.Date==yesterday_date].iloc[0][\"Performed\"]\n",
    "    \n",
    "    if test_indicator < test_lower_bound:\n",
    "        return \"red\"\n",
    "    elif test_indicator >= test_lower_bound:\n",
    "        return \"green\"\n",
    "    elif test_indicator >= test_upper_bound:\n",
    "        return \"blue\"\n",
    "\n",
    "# Positive Tests\n",
    "def positive_share_meet_indicators(yesterday_date, positive_bound):\n",
    "    \"\"\"\n",
    "    Returns red/green depending on if benchmark was met last week\n",
    "    \"\"\"\n",
    "    df = utils.positive_tests_lacity(start_date)\n",
    "    \n",
    "    positive_indicator = df[df.week == df.week.max()].iloc[0][\"pct_positive\"]\n",
    "    \n",
    "    if positive_indicator < positive_bound:\n",
    "        return \"green\"\n",
    "    elif positive_indicator >= positive_bound:\n",
    "        return \"red\""
   ]
  },
  {
   "cell_type": "code",
   "execution_count": null,
   "metadata": {},
   "outputs": [],
   "source": []
  },
  {
   "cell_type": "code",
   "execution_count": null,
   "metadata": {},
   "outputs": [],
   "source": [
    "test_indicator_color = testing_meet_indicators(yesterday_date, test_lower_bound, test_upper_bound)\n",
    "positive_indicator_color = positive_share_meet_indicators(yesterday_date, positive_bound)"
   ]
  },
  {
   "cell_type": "code",
   "execution_count": null,
   "metadata": {},
   "outputs": [],
   "source": [
    "display(Markdown(f\"<span style='color:{test_indicator_color}'> Daily Testing </span>\"))\n",
    "display(Markdown(f\"<span style='color':{positive_indicator_color}'> Share of Positive Test Results </span>\"))"
   ]
  },
  {
   "cell_type": "markdown",
   "metadata": {},
   "source": [
    "## Case Indicators"
   ]
  },
  {
   "cell_type": "code",
   "execution_count": null,
   "metadata": {},
   "outputs": [],
   "source": [
    "la_county = utils.county_case_charts(county_state_name, start_date)\n",
    "la_city = utils.lacity_case_charts(\"4/1/20\") \n",
    "#ca = utils.state_case_charts(state_name, start_date)\n",
    "#la_msa = utils.msa_case_charts(\"Los Angeles\", start_date)"
   ]
  },
  {
   "cell_type": "code",
   "execution_count": null,
   "metadata": {},
   "outputs": [],
   "source": [
    "la_county.dtypes"
   ]
  },
  {
   "cell_type": "markdown",
   "metadata": {},
   "source": [
    "## Testing Indicators"
   ]
  },
  {
   "cell_type": "code",
   "execution_count": null,
   "metadata": {},
   "outputs": [],
   "source": [
    "daily_tests = utils.lacity_testing_charts(start_date, \"daily\", test_lower_bound, test_upper_bound)\n",
    "monthly_tests = utils.lacity_testing_charts(start_date, \"monthly\", 300_000, 500_000)\n",
    "positive_tests = utils.lacity_positive_test_charts(start_date)"
   ]
  },
  {
   "cell_type": "markdown",
   "metadata": {},
   "source": [
    "## Hospital Capacity Indicators"
   ]
  },
  {
   "cell_type": "code",
   "execution_count": null,
   "metadata": {},
   "outputs": [],
   "source": [
    "hospital = utils.lacity_hospital_charts(start_date)"
   ]
  },
  {
   "cell_type": "markdown",
   "metadata": {},
   "source": [
    "# Markdown Red/ Green Indicator \n",
    "* The next cell displays in the color red or green "
   ]
  },
  {
   "cell_type": "code",
   "execution_count": null,
   "metadata": {},
   "outputs": [],
   "source": [
    "def red_green():\n",
    "    \"\"\"\n",
    "    returns a random \"red\" or \"green\" text in markdown.\n",
    "    \"\"\"\n",
    "    return np.random.choice(['green', 'red'])\n",
    "\n",
    "color = red_green()\n",
    "print(color)\n",
    "display(Markdown(f'<span style=\"color:{color}\">some *blue* text</span>.'))"
   ]
  },
  {
   "cell_type": "code",
   "execution_count": null,
   "metadata": {},
   "outputs": [],
   "source": [
    "\"\"\"To convert to HTML: \n",
    "jupyter nbconvert --to html --no-input --no-prompt my-notebook.ipynb\n",
    "\"\"\""
   ]
  },
  {
   "cell_type": "code",
   "execution_count": null,
   "metadata": {},
   "outputs": [],
   "source": []
  }
 ],
 "metadata": {
  "kernelspec": {
   "display_name": "Python 3",
   "language": "python",
   "name": "python3"
  },
  "language_info": {
   "codemirror_mode": {
    "name": "ipython",
    "version": 3
   },
   "file_extension": ".py",
   "mimetype": "text/x-python",
   "name": "python",
   "nbconvert_exporter": "python",
   "pygments_lexer": "ipython3",
   "version": "3.7.3"
  }
 },
 "nbformat": 4,
 "nbformat_minor": 4
}
