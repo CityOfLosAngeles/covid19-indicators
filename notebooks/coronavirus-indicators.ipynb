{
 "cells": [
  {
   "cell_type": "markdown",
   "metadata": {},
   "source": [
    "# LA's COVID-19 Reopening / Recovery Indicators \n",
    "\n",
    "The NY Times wrote about rushed reopenings being [a global trial-and-error experiment](https://www.nytimes.com/2020/05/07/world/europe/coronavirus-reopening-costs.html) and a further analysis showing how US states reopening [fail to meet the WH guidelines](https://www.nytimes.com/interactive/2020/05/07/us/coronavirus-states-reopen-criteria.html). Vox has written about [the importance of COVID testing indicators](https://www.vox.com/2020/5/8/21249880/coronavirus-testing-covid-reopening-economy-lockdowns-social-distancing) as a prerequisite for reopening. \n",
    "\n",
    "While we wait for LA's own reopening indicators, we can still see how LA stacks up against NY and Chicago's indicators. [NY State's Reopening Indicators](https://www.nytimes.com/2020/05/04/nyregion/coronavirus-reopen-cuomo-ny.html) were based heavily in part by the White House [Opening Up America Again gating criteria](https://www.whitehouse.gov/wp-content/uploads/2020/04/Guidelines-for-Opening-Up-America-Again.pdf), and Chicago outlined even [tougher benchmarks than the IL statewide strategy](https://www.chicagotribune.com/coronavirus/ct-coronavirus-chicago-reopening-lightfoot-20200508-ztpnouwexrcvfdfcr2yccbc53a-story.html). In terms of outbreak severity, [LA and Chicago come right after NYC](https://www.nytimes.com/2020/05/09/us/coronavirus-chicago.html)."
   ]
  },
  {
   "cell_type": "markdown",
   "metadata": {},
   "source": [
    "## [White House Gating Criteria](https://www.whitehouse.gov/wp-content/uploads/2020/04/Guidelines-for-Opening-Up-America-Again.pdf)\n",
    "### Symptoms\n",
    "* Downward trajectory of influenza-like illnesses (ILI) reported within a 14-day period **and**\n",
    "* Downward trajectory of COVID-like syndromic cases reported within a 14-day period\n",
    "\n",
    "### Cases\n",
    "* Downward trajectory of documented cases within a 14-day period **or**\n",
    "* Downward trajectory of positive tests as a percent of total tests within a 14-day period (flat or increasing volume of tests) \n",
    "\n",
    "### Hospitals\n",
    "* Treat all patients without crisis care **and**\n",
    "* Robust testing program in place for at-risk healthcare workers, including emerging antibody testing\n",
    "\n",
    "| NY | Chicago |\n",
    "| --- | --- |\n",
    "| At least 14 days decline in total net hospitalizations on a 3-day rolling average **or** <BR> Less than 15 net new total hospitalizations on a 3-day rolling average </BR> | At least 14 days decline in new cases, on average \n",
    "| At least 14 days decline in total net deaths on a 3-day rolling average **or** <BR> Less than 5 new deaths on a 3-day rolling average </BR> | At least 14 days decline in of case rate (per capita?) |\n",
    "| At least 30% total hospital and ICU beds available  | At least 14 days decline in rate of new cases (per capita?)\n",
    "| At least 90 days of PPE stockpiled  | Stable or declining rates of hospitalizations  \n",
    "| Capacity to conduct 30 tests per 1,000 residents per month  | Stable or declining rates of ICU admissions \n",
    "| 30 working contact tracers per 100,000 residents | Stable or declining rates of ICU deaths\n",
    "| Rural regions: Fewer than 2 new COVID patients admitted per 100,000 residents per day | Share of positive results are decreasing below 15% of those tested in the community \n",
    "|   | Fewer than 1,800 coronavirus patients in hospital beds \n",
    "|   | Fewer than 600 coronavirus patients in ICU beds\n",
    "|   | Fewer than 450 coronavirus patients on ventilators\n",
    "|   | Test 135,000 per month, equivalent to 4,500 people per day"
   ]
  },
  {
   "cell_type": "code",
   "execution_count": 1,
   "metadata": {},
   "outputs": [],
   "source": [
    "import pandas as pd\n",
    "import pytz\n",
    "import utils\n",
    "\n",
    "from datetime import date, datetime, timedelta\n",
    "from IPython.display import Markdown\n",
    "\n",
    "US_COUNTY_URL = \"http://lahub.maps.arcgis.com/sharing/rest/content/items/782ca660304a4bdda1cc9757a2504647/data\"\n",
    "LA_CITY_URL = \"https://lahub.maps.arcgis.com/sharing/rest/content/items/7175fba373f541a7a19df56b6a0617f4/data\"\n",
    "TESTING_URL = \"http://lahub.maps.arcgis.com/sharing/rest/content/items/158dab4a07b04ecb8d47fea1746303ac/data\"\n",
    "HOSPITAL_URL = \"http://lahub.maps.arcgis.com/sharing/rest/content/items/3da1eb3e13a14743973c96b945bd1117/data\"\n",
    "CROSSWALK_URL = (\n",
    "    \"https://raw.githubusercontent.com/CityOfLosAngeles/aqueduct/master/dags/public-health/covid19/\"\n",
    "    \"msa_county_pop_crosswalk.csv\"\n",
    ")\n",
    "\n",
    "# Default parameters\n",
    "county_state_name = \"Los Angeles, CA\"\n",
    "state_name = \"California\"\n",
    "msa_name = \"Los Angeles-Long Beach-Anaheim, CA\"\n",
    "time_zone = \"US/Pacific\"\n",
    "start_date = \"4/1/20\"\n",
    "yesterday_date = (\n",
    "    (datetime.today()\n",
    "                .astimezone(pytz.timezone(f'{time_zone}'))\n",
    "                .date()\n",
    "        - timedelta(days=1)\n",
    "    ).strftime(\"%-m/%-d/%y\")\n",
    ")\n",
    "today_date = (\n",
    "    datetime.today()\n",
    "             .astimezone(pytz.timezone(f'{time_zone}'))\n",
    "             .date()\n",
    "             .strftime(\"%-m/%-d/%y\")\n",
    ")"
   ]
  },
  {
   "cell_type": "markdown",
   "metadata": {},
   "source": [
    "## Summary of Indicators"
   ]
  },
  {
   "cell_type": "code",
   "execution_count": null,
   "metadata": {},
   "outputs": [],
   "source": [
    "display(Markdown(f\"#### Indicators as of {yesterday_date}:\"))"
   ]
  },
  {
   "cell_type": "code",
   "execution_count": null,
   "metadata": {},
   "outputs": [],
   "source": [
    "# Indicator parameters\n",
    "test_lower_bound = 10_000\n",
    "test_upper_bound = 16_667\n",
    "positive_bound = 0.10\n",
    "\n",
    "\n",
    "\n",
    "# New cases\n",
    "\n",
    "\n",
    "# Daily Testing    \n",
    "def testing_meet_indicators(yesterday_date, test_lower_bound, test_upper_bound):\n",
    "    \"\"\"\n",
    "    Returns red/green/blue depending on how well benchmark is met\n",
    "    \"\"\"\n",
    "    df = utils.testing_lacity(start_date, \"daily\", test_lower_bound, test_upper_bound)\n",
    "    \n",
    "    test_indicator = df[df.Date==yesterday_date].iloc[0][\"Performed\"]\n",
    "    \n",
    "    if test_indicator < test_lower_bound:\n",
    "        return \"red\"\n",
    "    elif test_indicator >= test_lower_bound:\n",
    "        return \"green\"\n",
    "    elif test_indicator >= test_upper_bound:\n",
    "        return \"blue\"\n",
    "\n",
    "# Positive Tests\n",
    "def positive_share_meet_indicators(yesterday_date, positive_bound):\n",
    "    \"\"\"\n",
    "    Returns red/green depending on if benchmark was met last week\n",
    "    \"\"\"\n",
    "    df = utils.positive_tests_lacity(start_date)\n",
    "    \n",
    "    positive_indicator = df[df.week == df.week.max()].iloc[0][\"pct_positive\"]\n",
    "    \n",
    "    if positive_indicator < positive_bound:\n",
    "        return \"green\"\n",
    "    elif positive_indicator >= positive_bound:\n",
    "        return \"red\""
   ]
  },
  {
   "cell_type": "code",
   "execution_count": null,
   "metadata": {},
   "outputs": [],
   "source": [
    "test_indicator_color = testing_meet_indicators(yesterday_date, test_lower_bound, test_upper_bound)\n",
    "positive_indicator_color = positive_share_meet_indicators(yesterday_date, positive_bound)"
   ]
  },
  {
   "cell_type": "code",
   "execution_count": null,
   "metadata": {},
   "outputs": [],
   "source": [
    "display(Markdown(f\"<span style='color:{test_indicator_color}'> Daily Testing </span>\"))\n",
    "display(Markdown(f\"<span style='color':{positive_indicator_color}'> Share of Positive Test Results </span>\"))"
   ]
  },
  {
   "cell_type": "markdown",
   "metadata": {},
   "source": [
    "## Case Indicators"
   ]
  },
  {
   "cell_type": "code",
   "execution_count": 2,
   "metadata": {},
   "outputs": [
    {
     "data": {
      "text/html": [
       "\n",
       "<div id=\"altair-viz-b88f50ef909a4f0fbc608aa0ae31529d\"></div>\n",
       "<script type=\"text/javascript\">\n",
       "  (function(spec, embedOpt){\n",
       "    const outputDiv = document.getElementById(\"altair-viz-b88f50ef909a4f0fbc608aa0ae31529d\");\n",
       "    const paths = {\n",
       "      \"vega\": \"https://cdn.jsdelivr.net/npm//vega@5?noext\",\n",
       "      \"vega-lib\": \"https://cdn.jsdelivr.net/npm//vega-lib?noext\",\n",
       "      \"vega-lite\": \"https://cdn.jsdelivr.net/npm//vega-lite@4.0.2?noext\",\n",
       "      \"vega-embed\": \"https://cdn.jsdelivr.net/npm//vega-embed@6?noext\",\n",
       "    };\n",
       "\n",
       "    function loadScript(lib) {\n",
       "      return new Promise(function(resolve, reject) {\n",
       "        var s = document.createElement('script');\n",
       "        s.src = paths[lib];\n",
       "        s.async = true;\n",
       "        s.onload = () => resolve(paths[lib]);\n",
       "        s.onerror = () => reject(`Error loading script: ${paths[lib]}`);\n",
       "        document.getElementsByTagName(\"head\")[0].appendChild(s);\n",
       "      });\n",
       "    }\n",
       "\n",
       "    function showError(err) {\n",
       "      outputDiv.innerHTML = `<div class=\"error\" style=\"color:red;\">${err}</div>`;\n",
       "      throw err;\n",
       "    }\n",
       "\n",
       "    function displayChart(vegaEmbed) {\n",
       "      vegaEmbed(outputDiv, spec, embedOpt)\n",
       "        .catch(err => showError(`Javascript Error: ${err.message}<br>This usually means there's a typo in your chart specification. See the javascript console for the full traceback.`));\n",
       "    }\n",
       "\n",
       "    if(typeof define === \"function\" && define.amd) {\n",
       "      requirejs.config({paths});\n",
       "      require([\"vega-embed\"], displayChart, err => showError(`Error loading script: ${err.message}`));\n",
       "    } else if (typeof vegaEmbed === \"function\") {\n",
       "      displayChart(vegaEmbed);\n",
       "    } else {\n",
       "      loadScript(\"vega\")\n",
       "        .then(() => loadScript(\"vega-lite\"))\n",
       "        .then(() => loadScript(\"vega-embed\"))\n",
       "        .catch(showError)\n",
       "        .then(() => displayChart(vegaEmbed));\n",
       "    }\n",
       "  })({\"config\": {\"view\": {\"continuousWidth\": 400, \"continuousHeight\": 300, \"strokeOpacity\": 0}, \"axis\": {\"domainOpacity\": 0.4, \"gridOpacity\": 0.4}, \"title\": {\"anchor\": \"middle\", \"color\": \"black\", \"font\": \"Roboto\", \"fontSize\": 10}}, \"hconcat\": [{\"mark\": \"line\", \"encoding\": {\"color\": {\"value\": \"#0A4C6A\"}, \"x\": {\"type\": \"temporal\", \"axis\": {\"format\": \"%-m/%-d\"}, \"field\": \"date\", \"timeUnit\": \"monthdate\", \"title\": \"date\"}, \"y\": {\"type\": \"quantitative\", \"field\": \"cases_avg7\", \"title\": \"7-day avg\"}}, \"height\": 200, \"title\": \"Los Angeles County: New Cases\", \"width\": 250}, {\"mark\": \"line\", \"encoding\": {\"color\": {\"value\": \"#A30F23\"}, \"x\": {\"type\": \"temporal\", \"axis\": {\"format\": \"%-m/%-d\"}, \"field\": \"date\", \"timeUnit\": \"monthdate\", \"title\": \"date\"}, \"y\": {\"type\": \"quantitative\", \"field\": \"deaths_avg3\", \"title\": \"3-day avg\"}}, \"height\": 200, \"title\": \"Los Angeles County: New Deaths\", \"width\": 250}], \"data\": {\"name\": \"data-336a17f2d975daaa93547043efe13036\"}, \"$schema\": \"https://vega.github.io/schema/vega-lite/v4.0.2.json\", \"datasets\": {\"data-336a17f2d975daaa93547043efe13036\": [{\"county\": \"Los Angeles\", \"state\": \"California\", \"state_abbrev\": \"CA\", \"fips\": \"06037\", \"date\": \"2020-04-01T07:00:00+00:00\", \"Lat\": 34.30828379, \"Lon\": -118.2282411, \"cases\": 3518, \"deaths\": 64, \"new_cases\": 499, \"new_deaths\": 10, \"cases_avg7\": null, \"deaths_avg3\": null, \"deaths_avg7\": null}, {\"county\": \"Los Angeles\", \"state\": \"California\", \"state_abbrev\": \"CA\", \"fips\": \"06037\", \"date\": \"2020-04-02T07:00:00+00:00\", \"Lat\": 34.30828379, \"Lon\": -118.2282411, \"cases\": 4045, \"deaths\": 78, \"new_cases\": 527, \"new_deaths\": 14, \"cases_avg7\": null, \"deaths_avg3\": null, \"deaths_avg7\": null}, {\"county\": \"Los Angeles\", \"state\": \"California\", \"state_abbrev\": \"CA\", \"fips\": \"06037\", \"date\": \"2020-04-03T07:00:00+00:00\", \"Lat\": 34.30828379, \"Lon\": -118.2282411, \"cases\": 4566, \"deaths\": 89, \"new_cases\": 521, \"new_deaths\": 11, \"cases_avg7\": null, \"deaths_avg3\": 11.666666666666666, \"deaths_avg7\": null}, {\"county\": \"Los Angeles\", \"state\": \"California\", \"state_abbrev\": \"CA\", \"fips\": \"06037\", \"date\": \"2020-04-04T07:00:00+00:00\", \"Lat\": 34.30828379, \"Lon\": -118.2282411, \"cases\": 4605, \"deaths\": 93, \"new_cases\": 39, \"new_deaths\": 4, \"cases_avg7\": null, \"deaths_avg3\": 9.666666666666666, \"deaths_avg7\": null}, {\"county\": \"Los Angeles\", \"state\": \"California\", \"state_abbrev\": \"CA\", \"fips\": \"06037\", \"date\": \"2020-04-05T07:00:00+00:00\", \"Lat\": 34.30828379, \"Lon\": -118.2282411, \"cases\": 5955, \"deaths\": 132, \"new_cases\": 1350, \"new_deaths\": 39, \"cases_avg7\": null, \"deaths_avg3\": 18.0, \"deaths_avg7\": null}, {\"county\": \"Los Angeles\", \"state\": \"California\", \"state_abbrev\": \"CA\", \"fips\": \"06037\", \"date\": \"2020-04-06T07:00:00+00:00\", \"Lat\": 34.30828379, \"Lon\": -118.2282411, \"cases\": 6377, \"deaths\": 147, \"new_cases\": 422, \"new_deaths\": 15, \"cases_avg7\": null, \"deaths_avg3\": 19.333333333333332, \"deaths_avg7\": null}, {\"county\": \"Los Angeles\", \"state\": \"California\", \"state_abbrev\": \"CA\", \"fips\": \"06037\", \"date\": \"2020-04-07T07:00:00+00:00\", \"Lat\": 34.30828379, \"Lon\": -118.2282411, \"cases\": 6936, \"deaths\": 169, \"new_cases\": 559, \"new_deaths\": 22, \"cases_avg7\": 559.5714285714286, \"deaths_avg3\": 25.333333333333332, \"deaths_avg7\": 16.428571428571427}, {\"county\": \"Los Angeles\", \"state\": \"California\", \"state_abbrev\": \"CA\", \"fips\": \"06037\", \"date\": \"2020-04-08T07:00:00+00:00\", \"Lat\": 34.30828379, \"Lon\": -118.2282411, \"cases\": 7559, \"deaths\": 198, \"new_cases\": 623, \"new_deaths\": 29, \"cases_avg7\": 577.2857142857143, \"deaths_avg3\": 22.0, \"deaths_avg7\": 19.142857142857142}, {\"county\": \"Los Angeles\", \"state\": \"California\", \"state_abbrev\": \"CA\", \"fips\": \"06037\", \"date\": \"2020-04-09T07:00:00+00:00\", \"Lat\": 34.30828379, \"Lon\": -118.2282411, \"cases\": 7955, \"deaths\": 223, \"new_cases\": 396, \"new_deaths\": 25, \"cases_avg7\": 558.5714285714286, \"deaths_avg3\": 25.333333333333332, \"deaths_avg7\": 20.714285714285715}, {\"county\": \"Los Angeles\", \"state\": \"California\", \"state_abbrev\": \"CA\", \"fips\": \"06037\", \"date\": \"2020-04-10T07:00:00+00:00\", \"Lat\": 34.30828379, \"Lon\": -118.2282411, \"cases\": 8443, \"deaths\": 242, \"new_cases\": 488, \"new_deaths\": 19, \"cases_avg7\": 553.8571428571429, \"deaths_avg3\": 24.333333333333332, \"deaths_avg7\": 21.857142857142858}, {\"county\": \"Los Angeles\", \"state\": \"California\", \"state_abbrev\": \"CA\", \"fips\": \"06037\", \"date\": \"2020-04-11T07:00:00+00:00\", \"Lat\": 34.30828379, \"Lon\": -118.2282411, \"cases\": 8453, \"deaths\": 244, \"new_cases\": 10, \"new_deaths\": 2, \"cases_avg7\": 549.7142857142857, \"deaths_avg3\": 15.333333333333334, \"deaths_avg7\": 21.571428571428573}, {\"county\": \"Los Angeles\", \"state\": \"California\", \"state_abbrev\": \"CA\", \"fips\": \"06037\", \"date\": \"2020-04-12T07:00:00+00:00\", \"Lat\": 34.30828379, \"Lon\": -118.2282411, \"cases\": 8894, \"deaths\": 269, \"new_cases\": 441, \"new_deaths\": 25, \"cases_avg7\": 419.85714285714283, \"deaths_avg3\": 15.333333333333334, \"deaths_avg7\": 19.571428571428573}, {\"county\": \"Los Angeles\", \"state\": \"California\", \"state_abbrev\": \"CA\", \"fips\": \"06037\", \"date\": \"2020-04-13T07:00:00+00:00\", \"Lat\": 34.30828379, \"Lon\": -118.2282411, \"cases\": 9433, \"deaths\": 322, \"new_cases\": 539, \"new_deaths\": 53, \"cases_avg7\": 436.57142857142856, \"deaths_avg3\": 26.666666666666668, \"deaths_avg7\": 25.0}, {\"county\": \"Los Angeles\", \"state\": \"California\", \"state_abbrev\": \"CA\", \"fips\": \"06037\", \"date\": \"2020-04-14T07:00:00+00:00\", \"Lat\": 34.30828379, \"Lon\": -118.2282411, \"cases\": 10047, \"deaths\": 360, \"new_cases\": 614, \"new_deaths\": 38, \"cases_avg7\": 444.42857142857144, \"deaths_avg3\": 38.666666666666664, \"deaths_avg7\": 27.285714285714285}, {\"county\": \"Los Angeles\", \"state\": \"California\", \"state_abbrev\": \"CA\", \"fips\": \"06037\", \"date\": \"2020-04-15T07:00:00+00:00\", \"Lat\": 34.30828379, \"Lon\": -118.2282411, \"cases\": 10517, \"deaths\": 405, \"new_cases\": 470, \"new_deaths\": 45, \"cases_avg7\": 422.57142857142856, \"deaths_avg3\": 45.333333333333336, \"deaths_avg7\": 29.571428571428573}, {\"county\": \"Los Angeles\", \"state\": \"California\", \"state_abbrev\": \"CA\", \"fips\": \"06037\", \"date\": \"2020-04-16T07:00:00+00:00\", \"Lat\": 34.30828379, \"Lon\": -118.2282411, \"cases\": 10854, \"deaths\": 457, \"new_cases\": 337, \"new_deaths\": 52, \"cases_avg7\": 414.14285714285717, \"deaths_avg3\": 45.0, \"deaths_avg7\": 33.42857142857143}, {\"county\": \"Los Angeles\", \"state\": \"California\", \"state_abbrev\": \"CA\", \"fips\": \"06037\", \"date\": \"2020-04-17T07:00:00+00:00\", \"Lat\": 34.30828379, \"Lon\": -118.2282411, \"cases\": 11400, \"deaths\": 497, \"new_cases\": 546, \"new_deaths\": 40, \"cases_avg7\": 422.42857142857144, \"deaths_avg3\": 45.666666666666664, \"deaths_avg7\": 36.42857142857143}, {\"county\": \"Los Angeles\", \"state\": \"California\", \"state_abbrev\": \"CA\", \"fips\": \"06037\", \"date\": \"2020-04-18T07:00:00+00:00\", \"Lat\": 34.30828379, \"Lon\": -118.2282411, \"cases\": 12021, \"deaths\": 576, \"new_cases\": 621, \"new_deaths\": 79, \"cases_avg7\": 509.7142857142857, \"deaths_avg3\": 57.0, \"deaths_avg7\": 47.42857142857143}, {\"county\": \"Los Angeles\", \"state\": \"California\", \"state_abbrev\": \"CA\", \"fips\": \"06037\", \"date\": \"2020-04-19T07:00:00+00:00\", \"Lat\": 34.30828379, \"Lon\": -118.2282411, \"cases\": 12341, \"deaths\": 600, \"new_cases\": 320, \"new_deaths\": 24, \"cases_avg7\": 492.42857142857144, \"deaths_avg3\": 47.666666666666664, \"deaths_avg7\": 47.285714285714285}, {\"county\": \"Los Angeles\", \"state\": \"California\", \"state_abbrev\": \"CA\", \"fips\": \"06037\", \"date\": \"2020-04-20T07:00:00+00:00\", \"Lat\": 34.30828379, \"Lon\": -118.2282411, \"cases\": 13823, \"deaths\": 619, \"new_cases\": 1482, \"new_deaths\": 19, \"cases_avg7\": 627.1428571428571, \"deaths_avg3\": 40.666666666666664, \"deaths_avg7\": 42.42857142857143}, {\"county\": \"Los Angeles\", \"state\": \"California\", \"state_abbrev\": \"CA\", \"fips\": \"06037\", \"date\": \"2020-04-21T07:00:00+00:00\", \"Lat\": 34.30828379, \"Lon\": -118.2282411, \"cases\": 15153, \"deaths\": 663, \"new_cases\": 1330, \"new_deaths\": 44, \"cases_avg7\": 729.4285714285714, \"deaths_avg3\": 29.0, \"deaths_avg7\": 43.285714285714285}, {\"county\": \"Los Angeles\", \"state\": \"California\", \"state_abbrev\": \"CA\", \"fips\": \"06037\", \"date\": \"2020-04-22T07:00:00+00:00\", \"Lat\": 34.30828379, \"Lon\": -118.2282411, \"cases\": 16447, \"deaths\": 732, \"new_cases\": 1294, \"new_deaths\": 69, \"cases_avg7\": 847.1428571428571, \"deaths_avg3\": 44.0, \"deaths_avg7\": 46.714285714285715}, {\"county\": \"Los Angeles\", \"state\": \"California\", \"state_abbrev\": \"CA\", \"fips\": \"06037\", \"date\": \"2020-04-23T07:00:00+00:00\", \"Lat\": 34.30828379, \"Lon\": -118.2282411, \"cases\": 17537, \"deaths\": 797, \"new_cases\": 1090, \"new_deaths\": 65, \"cases_avg7\": 954.7142857142857, \"deaths_avg3\": 59.333333333333336, \"deaths_avg7\": 48.57142857142857}, {\"county\": \"Los Angeles\", \"state\": \"California\", \"state_abbrev\": \"CA\", \"fips\": \"06037\", \"date\": \"2020-04-24T07:00:00+00:00\", \"Lat\": 34.30828379, \"Lon\": -118.2282411, \"cases\": 18545, \"deaths\": 850, \"new_cases\": 1008, \"new_deaths\": 53, \"cases_avg7\": 1020.7142857142857, \"deaths_avg3\": 62.333333333333336, \"deaths_avg7\": 50.42857142857143}, {\"county\": \"Los Angeles\", \"state\": \"California\", \"state_abbrev\": \"CA\", \"fips\": \"06037\", \"date\": \"2020-04-25T07:00:00+00:00\", \"Lat\": 34.30828379, \"Lon\": -118.2282411, \"cases\": 19133, \"deaths\": 895, \"new_cases\": 588, \"new_deaths\": 45, \"cases_avg7\": 1016.0, \"deaths_avg3\": 54.333333333333336, \"deaths_avg7\": 45.57142857142857}, {\"county\": \"Los Angeles\", \"state\": \"California\", \"state_abbrev\": \"CA\", \"fips\": \"06037\", \"date\": \"2020-04-26T07:00:00+00:00\", \"Lat\": 34.30828379, \"Lon\": -118.2282411, \"cases\": 19567, \"deaths\": 916, \"new_cases\": 434, \"new_deaths\": 21, \"cases_avg7\": 1032.2857142857142, \"deaths_avg3\": 39.666666666666664, \"deaths_avg7\": 45.142857142857146}, {\"county\": \"Los Angeles\", \"state\": \"California\", \"state_abbrev\": \"CA\", \"fips\": \"06037\", \"date\": \"2020-04-27T07:00:00+00:00\", \"Lat\": 34.30828379, \"Lon\": -118.2282411, \"cases\": 20423, \"deaths\": 944, \"new_cases\": 856, \"new_deaths\": 28, \"cases_avg7\": 942.8571428571429, \"deaths_avg3\": 31.333333333333332, \"deaths_avg7\": 46.42857142857143}, {\"county\": \"Los Angeles\", \"state\": \"California\", \"state_abbrev\": \"CA\", \"fips\": \"06037\", \"date\": \"2020-04-28T07:00:00+00:00\", \"Lat\": 34.30828379, \"Lon\": -118.2282411, \"cases\": 20996, \"deaths\": 1002, \"new_cases\": 573, \"new_deaths\": 58, \"cases_avg7\": 834.7142857142857, \"deaths_avg3\": 35.666666666666664, \"deaths_avg7\": 48.42857142857143}, {\"county\": \"Los Angeles\", \"state\": \"California\", \"state_abbrev\": \"CA\", \"fips\": \"06037\", \"date\": \"2020-04-29T07:00:00+00:00\", \"Lat\": 34.30828379, \"Lon\": -118.2282411, \"cases\": 22485, \"deaths\": 1056, \"new_cases\": 1489, \"new_deaths\": 54, \"cases_avg7\": 862.5714285714286, \"deaths_avg3\": 46.666666666666664, \"deaths_avg7\": 46.285714285714285}, {\"county\": \"Los Angeles\", \"state\": \"California\", \"state_abbrev\": \"CA\", \"fips\": \"06037\", \"date\": \"2020-04-30T07:00:00+00:00\", \"Lat\": 34.30828379, \"Lon\": -118.2282411, \"cases\": 23220, \"deaths\": 1111, \"new_cases\": 735, \"new_deaths\": 55, \"cases_avg7\": 811.8571428571429, \"deaths_avg3\": 55.666666666666664, \"deaths_avg7\": 44.857142857142854}, {\"county\": \"Los Angeles\", \"state\": \"California\", \"state_abbrev\": \"CA\", \"fips\": \"06037\", \"date\": \"2020-05-01T07:00:00+00:00\", \"Lat\": 34.30828379, \"Lon\": -118.2282411, \"cases\": 24262, \"deaths\": 1174, \"new_cases\": 1042, \"new_deaths\": 63, \"cases_avg7\": 816.7142857142857, \"deaths_avg3\": 57.333333333333336, \"deaths_avg7\": 46.285714285714285}, {\"county\": \"Los Angeles\", \"state\": \"California\", \"state_abbrev\": \"CA\", \"fips\": \"06037\", \"date\": \"2020-05-02T07:00:00+00:00\", \"Lat\": 34.30828379, \"Lon\": -118.2282411, \"cases\": 24894, \"deaths\": 1209, \"new_cases\": 632, \"new_deaths\": 35, \"cases_avg7\": 823.0, \"deaths_avg3\": 51.0, \"deaths_avg7\": 44.857142857142854}, {\"county\": \"Los Angeles\", \"state\": \"California\", \"state_abbrev\": \"CA\", \"fips\": \"06037\", \"date\": \"2020-05-03T07:00:00+00:00\", \"Lat\": 34.30828379, \"Lon\": -118.2282411, \"cases\": 25699, \"deaths\": 1231, \"new_cases\": 805, \"new_deaths\": 22, \"cases_avg7\": 876.0, \"deaths_avg3\": 40.0, \"deaths_avg7\": 45.0}, {\"county\": \"Los Angeles\", \"state\": \"California\", \"state_abbrev\": \"CA\", \"fips\": \"06037\", \"date\": \"2020-05-04T07:00:00+00:00\", \"Lat\": 34.30828379, \"Lon\": -118.2282411, \"cases\": 26225, \"deaths\": 1257, \"new_cases\": 526, \"new_deaths\": 26, \"cases_avg7\": 828.8571428571429, \"deaths_avg3\": 27.666666666666668, \"deaths_avg7\": 44.714285714285715}, {\"county\": \"Los Angeles\", \"state\": \"California\", \"state_abbrev\": \"CA\", \"fips\": \"06037\", \"date\": \"2020-05-05T07:00:00+00:00\", \"Lat\": 34.30828379, \"Lon\": -118.2282411, \"cases\": 27836, \"deaths\": 1315, \"new_cases\": 1611, \"new_deaths\": 58, \"cases_avg7\": 977.1428571428571, \"deaths_avg3\": 35.333333333333336, \"deaths_avg7\": 44.714285714285715}, {\"county\": \"Los Angeles\", \"state\": \"California\", \"state_abbrev\": \"CA\", \"fips\": \"06037\", \"date\": \"2020-05-06T07:00:00+00:00\", \"Lat\": 34.30828379, \"Lon\": -118.2282411, \"cases\": 28665, \"deaths\": 1369, \"new_cases\": 829, \"new_deaths\": 54, \"cases_avg7\": 882.8571428571429, \"deaths_avg3\": 46.0, \"deaths_avg7\": 44.714285714285715}, {\"county\": \"Los Angeles\", \"state\": \"California\", \"state_abbrev\": \"CA\", \"fips\": \"06037\", \"date\": \"2020-05-07T07:00:00+00:00\", \"Lat\": 34.30828379, \"Lon\": -118.2282411, \"cases\": 29511, \"deaths\": 1418, \"new_cases\": 846, \"new_deaths\": 49, \"cases_avg7\": 898.7142857142857, \"deaths_avg3\": 53.666666666666664, \"deaths_avg7\": 43.857142857142854}, {\"county\": \"Los Angeles\", \"state\": \"California\", \"state_abbrev\": \"CA\", \"fips\": \"06037\", \"date\": \"2020-05-08T07:00:00+00:00\", \"Lat\": 34.30828379, \"Lon\": -118.2282411, \"cases\": 30319, \"deaths\": 1470, \"new_cases\": 808, \"new_deaths\": 52, \"cases_avg7\": 865.2857142857143, \"deaths_avg3\": 51.666666666666664, \"deaths_avg7\": 42.285714285714285}, {\"county\": \"Los Angeles\", \"state\": \"California\", \"state_abbrev\": \"CA\", \"fips\": \"06037\", \"date\": \"2020-05-09T07:00:00+00:00\", \"Lat\": 34.30828379, \"Lon\": -118.2282411, \"cases\": 31241, \"deaths\": 1515, \"new_cases\": 922, \"new_deaths\": 45, \"cases_avg7\": 906.7142857142857, \"deaths_avg3\": 48.666666666666664, \"deaths_avg7\": 43.714285714285715}, {\"county\": \"Los Angeles\", \"state\": \"California\", \"state_abbrev\": \"CA\", \"fips\": \"06037\", \"date\": \"2020-05-10T07:00:00+00:00\", \"Lat\": 34.30828379, \"Lon\": -118.2282411, \"cases\": 31703, \"deaths\": 1531, \"new_cases\": 462, \"new_deaths\": 16, \"cases_avg7\": 857.7142857142857, \"deaths_avg3\": 37.666666666666664, \"deaths_avg7\": 42.857142857142854}, {\"county\": \"Los Angeles\", \"state\": \"California\", \"state_abbrev\": \"CA\", \"fips\": \"06037\", \"date\": \"2020-05-11T07:00:00+00:00\", \"Lat\": 34.30828379, \"Lon\": -118.2282411, \"cases\": 32263, \"deaths\": 1570, \"new_cases\": 560, \"new_deaths\": 39, \"cases_avg7\": 862.5714285714286, \"deaths_avg3\": 33.333333333333336, \"deaths_avg7\": 44.714285714285715}, {\"county\": \"Los Angeles\", \"state\": \"California\", \"state_abbrev\": \"CA\", \"fips\": \"06037\", \"date\": \"2020-05-12T07:00:00+00:00\", \"Lat\": 34.30828379, \"Lon\": -118.2282411, \"cases\": 33211, \"deaths\": 1616, \"new_cases\": 948, \"new_deaths\": 46, \"cases_avg7\": 767.8571428571429, \"deaths_avg3\": 33.666666666666664, \"deaths_avg7\": 43.0}, {\"county\": \"Los Angeles\", \"state\": \"California\", \"state_abbrev\": \"CA\", \"fips\": \"06037\", \"date\": \"2020-05-13T07:00:00+00:00\", \"Lat\": 34.30828379, \"Lon\": -118.2282411, \"cases\": 34538, \"deaths\": 1660, \"new_cases\": 1327, \"new_deaths\": 44, \"cases_avg7\": 839.0, \"deaths_avg3\": 43.0, \"deaths_avg7\": 41.57142857142857}, {\"county\": \"Los Angeles\", \"state\": \"California\", \"state_abbrev\": \"CA\", \"fips\": \"06037\", \"date\": \"2020-05-14T07:00:00+00:00\", \"Lat\": 34.30828379, \"Lon\": -118.2282411, \"cases\": 35392, \"deaths\": 1711, \"new_cases\": 854, \"new_deaths\": 51, \"cases_avg7\": 840.1428571428571, \"deaths_avg3\": 47.0, \"deaths_avg7\": 41.857142857142854}, {\"county\": \"Los Angeles\", \"state\": \"California\", \"state_abbrev\": \"CA\", \"fips\": \"06037\", \"date\": \"2020-05-15T07:00:00+00:00\", \"Lat\": 34.30828379, \"Lon\": -118.2282411, \"cases\": 36316, \"deaths\": 1753, \"new_cases\": 924, \"new_deaths\": 42, \"cases_avg7\": 856.7142857142857, \"deaths_avg3\": 45.666666666666664, \"deaths_avg7\": 40.42857142857143}, {\"county\": \"Los Angeles\", \"state\": \"California\", \"state_abbrev\": \"CA\", \"fips\": \"06037\", \"date\": \"2020-05-16T07:00:00+00:00\", \"Lat\": 34.30828379, \"Lon\": -118.2282411, \"cases\": 37360, \"deaths\": 1793, \"new_cases\": 1044, \"new_deaths\": 40, \"cases_avg7\": 874.1428571428571, \"deaths_avg3\": 44.333333333333336, \"deaths_avg7\": 39.714285714285715}, {\"county\": \"Los Angeles\", \"state\": \"California\", \"state_abbrev\": \"CA\", \"fips\": \"06037\", \"date\": \"2020-05-17T07:00:00+00:00\", \"Lat\": 34.30828379, \"Lon\": -118.2282411, \"cases\": 38011, \"deaths\": 1821, \"new_cases\": 651, \"new_deaths\": 28, \"cases_avg7\": 901.1428571428571, \"deaths_avg3\": 36.666666666666664, \"deaths_avg7\": 41.42857142857143}, {\"county\": \"Los Angeles\", \"state\": \"California\", \"state_abbrev\": \"CA\", \"fips\": \"06037\", \"date\": \"2020-05-18T07:00:00+00:00\", \"Lat\": 34.30828379, \"Lon\": -118.2282411, \"cases\": 38458, \"deaths\": 1840, \"new_cases\": 447, \"new_deaths\": 19, \"cases_avg7\": 885.0, \"deaths_avg3\": 29.0, \"deaths_avg7\": 38.57142857142857}, {\"county\": \"Los Angeles\", \"state\": \"California\", \"state_abbrev\": \"CA\", \"fips\": \"06037\", \"date\": \"2020-05-19T07:00:00+00:00\", \"Lat\": 34.30828379, \"Lon\": -118.2282411, \"cases\": 39573, \"deaths\": 1913, \"new_cases\": 1115, \"new_deaths\": 73, \"cases_avg7\": 908.8571428571429, \"deaths_avg3\": 40.0, \"deaths_avg7\": 42.42857142857143}, {\"county\": \"Los Angeles\", \"state\": \"California\", \"state_abbrev\": \"CA\", \"fips\": \"06037\", \"date\": \"2020-05-20T07:00:00+00:00\", \"Lat\": 34.30828379, \"Lon\": -118.2282411, \"cases\": 39632, \"deaths\": 1926, \"new_cases\": 59, \"new_deaths\": 13, \"cases_avg7\": 727.7142857142857, \"deaths_avg3\": 35.0, \"deaths_avg7\": 38.0}]}}, {\"mode\": \"vega-lite\"});\n",
       "</script>"
      ],
      "text/plain": [
       "alt.HConcatChart(...)"
      ]
     },
     "metadata": {},
     "output_type": "display_data"
    },
    {
     "data": {
      "text/html": [
       "\n",
       "<div id=\"altair-viz-41bef10830ae450eaa2039e96461a08c\"></div>\n",
       "<script type=\"text/javascript\">\n",
       "  (function(spec, embedOpt){\n",
       "    const outputDiv = document.getElementById(\"altair-viz-41bef10830ae450eaa2039e96461a08c\");\n",
       "    const paths = {\n",
       "      \"vega\": \"https://cdn.jsdelivr.net/npm//vega@5?noext\",\n",
       "      \"vega-lib\": \"https://cdn.jsdelivr.net/npm//vega-lib?noext\",\n",
       "      \"vega-lite\": \"https://cdn.jsdelivr.net/npm//vega-lite@4.0.2?noext\",\n",
       "      \"vega-embed\": \"https://cdn.jsdelivr.net/npm//vega-embed@6?noext\",\n",
       "    };\n",
       "\n",
       "    function loadScript(lib) {\n",
       "      return new Promise(function(resolve, reject) {\n",
       "        var s = document.createElement('script');\n",
       "        s.src = paths[lib];\n",
       "        s.async = true;\n",
       "        s.onload = () => resolve(paths[lib]);\n",
       "        s.onerror = () => reject(`Error loading script: ${paths[lib]}`);\n",
       "        document.getElementsByTagName(\"head\")[0].appendChild(s);\n",
       "      });\n",
       "    }\n",
       "\n",
       "    function showError(err) {\n",
       "      outputDiv.innerHTML = `<div class=\"error\" style=\"color:red;\">${err}</div>`;\n",
       "      throw err;\n",
       "    }\n",
       "\n",
       "    function displayChart(vegaEmbed) {\n",
       "      vegaEmbed(outputDiv, spec, embedOpt)\n",
       "        .catch(err => showError(`Javascript Error: ${err.message}<br>This usually means there's a typo in your chart specification. See the javascript console for the full traceback.`));\n",
       "    }\n",
       "\n",
       "    if(typeof define === \"function\" && define.amd) {\n",
       "      requirejs.config({paths});\n",
       "      require([\"vega-embed\"], displayChart, err => showError(`Error loading script: ${err.message}`));\n",
       "    } else if (typeof vegaEmbed === \"function\") {\n",
       "      displayChart(vegaEmbed);\n",
       "    } else {\n",
       "      loadScript(\"vega\")\n",
       "        .then(() => loadScript(\"vega-lite\"))\n",
       "        .then(() => loadScript(\"vega-embed\"))\n",
       "        .catch(showError)\n",
       "        .then(() => displayChart(vegaEmbed));\n",
       "    }\n",
       "  })({\"config\": {\"view\": {\"continuousWidth\": 400, \"continuousHeight\": 300, \"strokeOpacity\": 0}, \"axis\": {\"domainOpacity\": 0.4, \"gridOpacity\": 0.4}, \"title\": {\"anchor\": \"middle\", \"color\": \"black\", \"font\": \"Roboto\", \"fontSize\": 10}}, \"hconcat\": [{\"mark\": \"line\", \"encoding\": {\"color\": {\"value\": \"#0A4C6A\"}, \"x\": {\"type\": \"temporal\", \"axis\": {\"format\": \"%-m/%-d\"}, \"field\": \"date\", \"timeUnit\": \"monthdate\", \"title\": \"date\"}, \"y\": {\"type\": \"quantitative\", \"field\": \"cases_avg7\", \"title\": \"7-day avg\"}}, \"height\": 200, \"title\": \"California: New Cases\", \"width\": 250}, {\"mark\": \"line\", \"encoding\": {\"color\": {\"value\": \"#A30F23\"}, \"x\": {\"type\": \"temporal\", \"axis\": {\"format\": \"%-m/%-d\"}, \"field\": \"date\", \"timeUnit\": \"monthdate\", \"title\": \"date\"}, \"y\": {\"type\": \"quantitative\", \"field\": \"deaths_avg3\", \"title\": \"3-day avg\"}}, \"height\": 200, \"title\": \"California: New Deaths\", \"width\": 250}], \"data\": {\"name\": \"data-34cb2466b0a22582d635c55da7f041a8\"}, \"$schema\": \"https://vega.github.io/schema/vega-lite/v4.0.2.json\", \"datasets\": {\"data-34cb2466b0a22582d635c55da7f041a8\": [{\"state\": \"California\", \"state_abbrev\": \"CA\", \"date\": \"2020-03-01T08:00:00+00:00\", \"cases\": 12, \"deaths\": 0, \"new_cases\": 0, \"new_deaths\": 0, \"cases_avg7\": null, \"deaths_avg3\": null, \"deaths_avg7\": null}, {\"state\": \"California\", \"state_abbrev\": \"CA\", \"date\": \"2020-03-02T08:00:00+00:00\", \"cases\": 21, \"deaths\": 0, \"new_cases\": 9, \"new_deaths\": 0, \"cases_avg7\": null, \"deaths_avg3\": null, \"deaths_avg7\": null}, {\"state\": \"California\", \"state_abbrev\": \"CA\", \"date\": \"2020-03-03T08:00:00+00:00\", \"cases\": 25, \"deaths\": 0, \"new_cases\": 4, \"new_deaths\": 0, \"cases_avg7\": null, \"deaths_avg3\": 0.0, \"deaths_avg7\": null}, {\"state\": \"California\", \"state_abbrev\": \"CA\", \"date\": \"2020-03-04T08:00:00+00:00\", \"cases\": 35, \"deaths\": 1, \"new_cases\": 10, \"new_deaths\": 1, \"cases_avg7\": null, \"deaths_avg3\": 0.3333333333333333, \"deaths_avg7\": null}, {\"state\": \"California\", \"state_abbrev\": \"CA\", \"date\": \"2020-03-05T08:00:00+00:00\", \"cases\": 51, \"deaths\": 1, \"new_cases\": 16, \"new_deaths\": 0, \"cases_avg7\": null, \"deaths_avg3\": 0.3333333333333333, \"deaths_avg7\": null}, {\"state\": \"California\", \"state_abbrev\": \"CA\", \"date\": \"2020-03-06T08:00:00+00:00\", \"cases\": 59, \"deaths\": 1, \"new_cases\": 8, \"new_deaths\": 0, \"cases_avg7\": null, \"deaths_avg3\": 0.3333333333333333, \"deaths_avg7\": null}, {\"state\": \"California\", \"state_abbrev\": \"CA\", \"date\": \"2020-03-07T08:00:00+00:00\", \"cases\": 81, \"deaths\": 1, \"new_cases\": 22, \"new_deaths\": 0, \"cases_avg7\": 9.857142857142858, \"deaths_avg3\": 0.0, \"deaths_avg7\": 0.14285714285714285}, {\"state\": \"California\", \"state_abbrev\": \"CA\", \"date\": \"2020-03-08T08:00:00+00:00\", \"cases\": 95, \"deaths\": 1, \"new_cases\": 14, \"new_deaths\": 0, \"cases_avg7\": 11.857142857142858, \"deaths_avg3\": 0.0, \"deaths_avg7\": 0.14285714285714285}, {\"state\": \"California\", \"state_abbrev\": \"CA\", \"date\": \"2020-03-09T07:00:00+00:00\", \"cases\": 101, \"deaths\": 1, \"new_cases\": 6, \"new_deaths\": 0, \"cases_avg7\": 11.428571428571429, \"deaths_avg3\": 0.0, \"deaths_avg7\": 0.14285714285714285}, {\"state\": \"California\", \"state_abbrev\": \"CA\", \"date\": \"2020-03-10T07:00:00+00:00\", \"cases\": 144, \"deaths\": 2, \"new_cases\": 43, \"new_deaths\": 1, \"cases_avg7\": 17.0, \"deaths_avg3\": 0.3333333333333333, \"deaths_avg7\": 0.2857142857142857}, {\"state\": \"California\", \"state_abbrev\": \"CA\", \"date\": \"2020-03-11T07:00:00+00:00\", \"cases\": 178, \"deaths\": 4, \"new_cases\": 34, \"new_deaths\": 2, \"cases_avg7\": 20.428571428571427, \"deaths_avg3\": 1.0, \"deaths_avg7\": 0.42857142857142855}, {\"state\": \"California\", \"state_abbrev\": \"CA\", \"date\": \"2020-03-12T07:00:00+00:00\", \"cases\": 221, \"deaths\": 4, \"new_cases\": 43, \"new_deaths\": 0, \"cases_avg7\": 24.285714285714285, \"deaths_avg3\": 1.0, \"deaths_avg7\": 0.42857142857142855}, {\"state\": \"California\", \"state_abbrev\": \"CA\", \"date\": \"2020-03-13T07:00:00+00:00\", \"cases\": 281, \"deaths\": 4, \"new_cases\": 60, \"new_deaths\": 0, \"cases_avg7\": 31.714285714285715, \"deaths_avg3\": 0.6666666666666666, \"deaths_avg7\": 0.42857142857142855}, {\"state\": \"California\", \"state_abbrev\": \"CA\", \"date\": \"2020-03-14T07:00:00+00:00\", \"cases\": 372, \"deaths\": 3, \"new_cases\": 91, \"new_deaths\": -1, \"cases_avg7\": 41.57142857142857, \"deaths_avg3\": -0.3333333333333333, \"deaths_avg7\": 0.2857142857142857}, {\"state\": \"California\", \"state_abbrev\": \"CA\", \"date\": \"2020-03-15T07:00:00+00:00\", \"cases\": 373, \"deaths\": 5, \"new_cases\": 1, \"new_deaths\": 2, \"cases_avg7\": 39.714285714285715, \"deaths_avg3\": 0.3333333333333333, \"deaths_avg7\": 0.5714285714285714}, {\"state\": \"California\", \"state_abbrev\": \"CA\", \"date\": \"2020-03-16T07:00:00+00:00\", \"cases\": 557, \"deaths\": 7, \"new_cases\": 184, \"new_deaths\": 2, \"cases_avg7\": 65.14285714285714, \"deaths_avg3\": 1.0, \"deaths_avg7\": 0.8571428571428571}, {\"state\": \"California\", \"state_abbrev\": \"CA\", \"date\": \"2020-03-17T07:00:00+00:00\", \"cases\": 700, \"deaths\": 12, \"new_cases\": 143, \"new_deaths\": 5, \"cases_avg7\": 79.42857142857143, \"deaths_avg3\": 3.0, \"deaths_avg7\": 1.4285714285714286}, {\"state\": \"California\", \"state_abbrev\": \"CA\", \"date\": \"2020-03-18T07:00:00+00:00\", \"cases\": 828, \"deaths\": 16, \"new_cases\": 128, \"new_deaths\": 4, \"cases_avg7\": 92.85714285714286, \"deaths_avg3\": 3.6666666666666665, \"deaths_avg7\": 1.7142857142857142}, {\"state\": \"California\", \"state_abbrev\": \"CA\", \"date\": \"2020-03-19T07:00:00+00:00\", \"cases\": 1005, \"deaths\": 18, \"new_cases\": 177, \"new_deaths\": 2, \"cases_avg7\": 112.0, \"deaths_avg3\": 3.6666666666666665, \"deaths_avg7\": 2.0}, {\"state\": \"California\", \"state_abbrev\": \"CA\", \"date\": \"2020-03-20T07:00:00+00:00\", \"cases\": 1243, \"deaths\": 24, \"new_cases\": 238, \"new_deaths\": 6, \"cases_avg7\": 137.42857142857142, \"deaths_avg3\": 4.0, \"deaths_avg7\": 2.857142857142857}, {\"state\": \"California\", \"state_abbrev\": \"CA\", \"date\": \"2020-03-21T07:00:00+00:00\", \"cases\": 1405, \"deaths\": 25, \"new_cases\": 162, \"new_deaths\": 1, \"cases_avg7\": 147.57142857142858, \"deaths_avg3\": 3.0, \"deaths_avg7\": 3.142857142857143}, {\"state\": \"California\", \"state_abbrev\": \"CA\", \"date\": \"2020-03-22T07:00:00+00:00\", \"cases\": 1646, \"deaths\": 30, \"new_cases\": 241, \"new_deaths\": 5, \"cases_avg7\": 181.85714285714286, \"deaths_avg3\": 4.0, \"deaths_avg7\": 3.5714285714285716}, {\"state\": \"California\", \"state_abbrev\": \"CA\", \"date\": \"2020-03-23T07:00:00+00:00\", \"cases\": 2108, \"deaths\": 39, \"new_cases\": 462, \"new_deaths\": 9, \"cases_avg7\": 221.57142857142858, \"deaths_avg3\": 5.0, \"deaths_avg7\": 4.571428571428571}, {\"state\": \"California\", \"state_abbrev\": \"CA\", \"date\": \"2020-03-24T07:00:00+00:00\", \"cases\": 2538, \"deaths\": 50, \"new_cases\": 430, \"new_deaths\": 11, \"cases_avg7\": 262.57142857142856, \"deaths_avg3\": 8.333333333333334, \"deaths_avg7\": 5.428571428571429}, {\"state\": \"California\", \"state_abbrev\": \"CA\", \"date\": \"2020-03-25T07:00:00+00:00\", \"cases\": 2998, \"deaths\": 65, \"new_cases\": 460, \"new_deaths\": 15, \"cases_avg7\": 310.0, \"deaths_avg3\": 11.666666666666666, \"deaths_avg7\": 7.0}, {\"state\": \"California\", \"state_abbrev\": \"CA\", \"date\": \"2020-03-26T07:00:00+00:00\", \"cases\": 3899, \"deaths\": 81, \"new_cases\": 901, \"new_deaths\": 16, \"cases_avg7\": 413.42857142857144, \"deaths_avg3\": 14.0, \"deaths_avg7\": 9.0}, {\"state\": \"California\", \"state_abbrev\": \"CA\", \"date\": \"2020-03-27T07:00:00+00:00\", \"cases\": 4657, \"deaths\": 94, \"new_cases\": 758, \"new_deaths\": 13, \"cases_avg7\": 487.7142857142857, \"deaths_avg3\": 14.666666666666666, \"deaths_avg7\": 10.0}, {\"state\": \"California\", \"state_abbrev\": \"CA\", \"date\": \"2020-03-28T07:00:00+00:00\", \"cases\": 5095, \"deaths\": 110, \"new_cases\": 438, \"new_deaths\": 16, \"cases_avg7\": 527.1428571428571, \"deaths_avg3\": 15.0, \"deaths_avg7\": 12.142857142857142}, {\"state\": \"California\", \"state_abbrev\": \"CA\", \"date\": \"2020-03-29T07:00:00+00:00\", \"cases\": 5852, \"deaths\": 124, \"new_cases\": 757, \"new_deaths\": 14, \"cases_avg7\": 600.8571428571429, \"deaths_avg3\": 14.333333333333334, \"deaths_avg7\": 13.428571428571429}, {\"state\": \"California\", \"state_abbrev\": \"CA\", \"date\": \"2020-03-30T07:00:00+00:00\", \"cases\": 7138, \"deaths\": 146, \"new_cases\": 1286, \"new_deaths\": 22, \"cases_avg7\": 718.5714285714286, \"deaths_avg3\": 17.333333333333332, \"deaths_avg7\": 15.285714285714286}, {\"state\": \"California\", \"state_abbrev\": \"CA\", \"date\": \"2020-03-31T07:00:00+00:00\", \"cases\": 8210, \"deaths\": 173, \"new_cases\": 1072, \"new_deaths\": 27, \"cases_avg7\": 810.2857142857143, \"deaths_avg3\": 21.0, \"deaths_avg7\": 17.571428571428573}, {\"state\": \"California\", \"state_abbrev\": \"CA\", \"date\": \"2020-04-01T07:00:00+00:00\", \"cases\": 9399, \"deaths\": 199, \"new_cases\": 1189, \"new_deaths\": 26, \"cases_avg7\": 914.4285714285714, \"deaths_avg3\": 25.0, \"deaths_avg7\": 19.142857142857142}, {\"state\": \"California\", \"state_abbrev\": \"CA\", \"date\": \"2020-04-02T07:00:00+00:00\", \"cases\": 10773, \"deaths\": 238, \"new_cases\": 1374, \"new_deaths\": 39, \"cases_avg7\": 982.0, \"deaths_avg3\": 30.666666666666668, \"deaths_avg7\": 22.428571428571427}, {\"state\": \"California\", \"state_abbrev\": \"CA\", \"date\": \"2020-04-03T07:00:00+00:00\", \"cases\": 12004, \"deaths\": 265, \"new_cases\": 1231, \"new_deaths\": 27, \"cases_avg7\": 1049.5714285714287, \"deaths_avg3\": 30.666666666666668, \"deaths_avg7\": 24.428571428571427}, {\"state\": \"California\", \"state_abbrev\": \"CA\", \"date\": \"2020-04-04T07:00:00+00:00\", \"cases\": 12837, \"deaths\": 289, \"new_cases\": 833, \"new_deaths\": 24, \"cases_avg7\": 1106.0, \"deaths_avg3\": 30.0, \"deaths_avg7\": 25.571428571428573}, {\"state\": \"California\", \"state_abbrev\": \"CA\", \"date\": \"2020-04-05T07:00:00+00:00\", \"cases\": 15034, \"deaths\": 348, \"new_cases\": 2197, \"new_deaths\": 59, \"cases_avg7\": 1311.7142857142858, \"deaths_avg3\": 36.666666666666664, \"deaths_avg7\": 32.0}, {\"state\": \"California\", \"state_abbrev\": \"CA\", \"date\": \"2020-04-06T07:00:00+00:00\", \"cases\": 16019, \"deaths\": 380, \"new_cases\": 985, \"new_deaths\": 32, \"cases_avg7\": 1268.7142857142858, \"deaths_avg3\": 38.333333333333336, \"deaths_avg7\": 33.42857142857143}, {\"state\": \"California\", \"state_abbrev\": \"CA\", \"date\": \"2020-04-07T07:00:00+00:00\", \"cases\": 17351, \"deaths\": 432, \"new_cases\": 1332, \"new_deaths\": 52, \"cases_avg7\": 1305.857142857143, \"deaths_avg3\": 47.666666666666664, \"deaths_avg7\": 37.0}, {\"state\": \"California\", \"state_abbrev\": \"CA\", \"date\": \"2020-04-08T07:00:00+00:00\", \"cases\": 18897, \"deaths\": 495, \"new_cases\": 1546, \"new_deaths\": 63, \"cases_avg7\": 1356.857142857143, \"deaths_avg3\": 49.0, \"deaths_avg7\": 42.285714285714285}, {\"state\": \"California\", \"state_abbrev\": \"CA\", \"date\": \"2020-04-09T07:00:00+00:00\", \"cases\": 19710, \"deaths\": 544, \"new_cases\": 813, \"new_deaths\": 49, \"cases_avg7\": 1276.7142857142858, \"deaths_avg3\": 54.666666666666664, \"deaths_avg7\": 43.714285714285715}, {\"state\": \"California\", \"state_abbrev\": \"CA\", \"date\": \"2020-04-10T07:00:00+00:00\", \"cases\": 21081, \"deaths\": 583, \"new_cases\": 1371, \"new_deaths\": 39, \"cases_avg7\": 1296.7142857142858, \"deaths_avg3\": 50.333333333333336, \"deaths_avg7\": 45.42857142857143}, {\"state\": \"California\", \"state_abbrev\": \"CA\", \"date\": \"2020-04-11T07:00:00+00:00\", \"cases\": 21706, \"deaths\": 604, \"new_cases\": 625, \"new_deaths\": 21, \"cases_avg7\": 1267.0, \"deaths_avg3\": 36.333333333333336, \"deaths_avg7\": 45.0}, {\"state\": \"California\", \"state_abbrev\": \"CA\", \"date\": \"2020-04-12T07:00:00+00:00\", \"cases\": 22795, \"deaths\": 640, \"new_cases\": 1089, \"new_deaths\": 36, \"cases_avg7\": 1108.7142857142858, \"deaths_avg3\": 32.0, \"deaths_avg7\": 41.714285714285715}, {\"state\": \"California\", \"state_abbrev\": \"CA\", \"date\": \"2020-04-13T07:00:00+00:00\", \"cases\": 23931, \"deaths\": 714, \"new_cases\": 1136, \"new_deaths\": 74, \"cases_avg7\": 1130.2857142857142, \"deaths_avg3\": 43.666666666666664, \"deaths_avg7\": 47.714285714285715}, {\"state\": \"California\", \"state_abbrev\": \"CA\", \"date\": \"2020-04-14T07:00:00+00:00\", \"cases\": 25356, \"deaths\": 767, \"new_cases\": 1425, \"new_deaths\": 53, \"cases_avg7\": 1143.5714285714287, \"deaths_avg3\": 54.333333333333336, \"deaths_avg7\": 47.857142857142854}, {\"state\": \"California\", \"state_abbrev\": \"CA\", \"date\": \"2020-04-15T07:00:00+00:00\", \"cases\": 26686, \"deaths\": 860, \"new_cases\": 1330, \"new_deaths\": 93, \"cases_avg7\": 1112.7142857142858, \"deaths_avg3\": 73.33333333333333, \"deaths_avg7\": 52.142857142857146}, {\"state\": \"California\", \"state_abbrev\": \"CA\", \"date\": \"2020-04-16T07:00:00+00:00\", \"cases\": 27677, \"deaths\": 956, \"new_cases\": 991, \"new_deaths\": 96, \"cases_avg7\": 1138.142857142857, \"deaths_avg3\": 80.66666666666667, \"deaths_avg7\": 58.857142857142854}, {\"state\": \"California\", \"state_abbrev\": \"CA\", \"date\": \"2020-04-17T07:00:00+00:00\", \"cases\": 29157, \"deaths\": 1037, \"new_cases\": 1480, \"new_deaths\": 81, \"cases_avg7\": 1153.7142857142858, \"deaths_avg3\": 90.0, \"deaths_avg7\": 64.85714285714286}, {\"state\": \"California\", \"state_abbrev\": \"CA\", \"date\": \"2020-04-18T07:00:00+00:00\", \"cases\": 30491, \"deaths\": 1140, \"new_cases\": 1334, \"new_deaths\": 103, \"cases_avg7\": 1255.0, \"deaths_avg3\": 93.33333333333333, \"deaths_avg7\": 76.57142857142857}, {\"state\": \"California\", \"state_abbrev\": \"CA\", \"date\": \"2020-04-19T07:00:00+00:00\", \"cases\": 31431, \"deaths\": 1177, \"new_cases\": 940, \"new_deaths\": 37, \"cases_avg7\": 1233.7142857142858, \"deaths_avg3\": 73.66666666666667, \"deaths_avg7\": 76.71428571428571}, {\"state\": \"California\", \"state_abbrev\": \"CA\", \"date\": \"2020-04-20T07:00:00+00:00\", \"cases\": 33686, \"deaths\": 1225, \"new_cases\": 2255, \"new_deaths\": 48, \"cases_avg7\": 1393.5714285714287, \"deaths_avg3\": 62.666666666666664, \"deaths_avg7\": 73.0}, {\"state\": \"California\", \"state_abbrev\": \"CA\", \"date\": \"2020-04-21T07:00:00+00:00\", \"cases\": 35465, \"deaths\": 1282, \"new_cases\": 1779, \"new_deaths\": 57, \"cases_avg7\": 1444.142857142857, \"deaths_avg3\": 47.333333333333336, \"deaths_avg7\": 73.57142857142857}, {\"state\": \"California\", \"state_abbrev\": \"CA\", \"date\": \"2020-04-22T07:00:00+00:00\", \"cases\": 37344, \"deaths\": 1421, \"new_cases\": 1879, \"new_deaths\": 139, \"cases_avg7\": 1522.5714285714287, \"deaths_avg3\": 81.33333333333333, \"deaths_avg7\": 80.14285714285714}, {\"state\": \"California\", \"state_abbrev\": \"CA\", \"date\": \"2020-04-23T07:00:00+00:00\", \"cases\": 39561, \"deaths\": 1533, \"new_cases\": 2217, \"new_deaths\": 112, \"cases_avg7\": 1697.7142857142858, \"deaths_avg3\": 102.66666666666667, \"deaths_avg7\": 82.42857142857143}, {\"state\": \"California\", \"state_abbrev\": \"CA\", \"date\": \"2020-04-24T07:00:00+00:00\", \"cases\": 41355, \"deaths\": 1621, \"new_cases\": 1794, \"new_deaths\": 88, \"cases_avg7\": 1742.5714285714287, \"deaths_avg3\": 113.0, \"deaths_avg7\": 83.42857142857143}, {\"state\": \"California\", \"state_abbrev\": \"CA\", \"date\": \"2020-04-25T07:00:00+00:00\", \"cases\": 42368, \"deaths\": 1689, \"new_cases\": 1013, \"new_deaths\": 68, \"cases_avg7\": 1696.7142857142858, \"deaths_avg3\": 89.33333333333333, \"deaths_avg7\": 78.42857142857143}, {\"state\": \"California\", \"state_abbrev\": \"CA\", \"date\": \"2020-04-26T07:00:00+00:00\", \"cases\": 43558, \"deaths\": 1725, \"new_cases\": 1190, \"new_deaths\": 36, \"cases_avg7\": 1732.4285714285713, \"deaths_avg3\": 64.0, \"deaths_avg7\": 78.28571428571429}, {\"state\": \"California\", \"state_abbrev\": \"CA\", \"date\": \"2020-04-27T07:00:00+00:00\", \"cases\": 44966, \"deaths\": 1779, \"new_cases\": 1408, \"new_deaths\": 54, \"cases_avg7\": 1611.4285714285713, \"deaths_avg3\": 52.666666666666664, \"deaths_avg7\": 79.14285714285714}, {\"state\": \"California\", \"state_abbrev\": \"CA\", \"date\": \"2020-04-28T07:00:00+00:00\", \"cases\": 46164, \"deaths\": 1864, \"new_cases\": 1198, \"new_deaths\": 85, \"cases_avg7\": 1528.4285714285713, \"deaths_avg3\": 58.333333333333336, \"deaths_avg7\": 83.14285714285714}, {\"state\": \"California\", \"state_abbrev\": \"CA\", \"date\": \"2020-04-29T07:00:00+00:00\", \"cases\": 48747, \"deaths\": 1946, \"new_cases\": 2583, \"new_deaths\": 82, \"cases_avg7\": 1629.0, \"deaths_avg3\": 73.66666666666667, \"deaths_avg7\": 75.0}, {\"state\": \"California\", \"state_abbrev\": \"CA\", \"date\": \"2020-04-30T07:00:00+00:00\", \"cases\": 50130, \"deaths\": 2031, \"new_cases\": 1383, \"new_deaths\": 85, \"cases_avg7\": 1509.857142857143, \"deaths_avg3\": 84.0, \"deaths_avg7\": 71.14285714285714}, {\"state\": \"California\", \"state_abbrev\": \"CA\", \"date\": \"2020-05-01T07:00:00+00:00\", \"cases\": 52026, \"deaths\": 2126, \"new_cases\": 1896, \"new_deaths\": 95, \"cases_avg7\": 1524.4285714285713, \"deaths_avg3\": 87.33333333333333, \"deaths_avg7\": 72.14285714285714}, {\"state\": \"California\", \"state_abbrev\": \"CA\", \"date\": \"2020-05-02T07:00:00+00:00\", \"cases\": 53347, \"deaths\": 2180, \"new_cases\": 1321, \"new_deaths\": 54, \"cases_avg7\": 1568.4285714285713, \"deaths_avg3\": 78.0, \"deaths_avg7\": 70.14285714285714}, {\"state\": \"California\", \"state_abbrev\": \"CA\", \"date\": \"2020-05-03T07:00:00+00:00\", \"cases\": 54903, \"deaths\": 2216, \"new_cases\": 1556, \"new_deaths\": 36, \"cases_avg7\": 1620.7142857142858, \"deaths_avg3\": 61.666666666666664, \"deaths_avg7\": 70.14285714285714}, {\"state\": \"California\", \"state_abbrev\": \"CA\", \"date\": \"2020-05-04T07:00:00+00:00\", \"cases\": 55884, \"deaths\": 2278, \"new_cases\": 981, \"new_deaths\": 62, \"cases_avg7\": 1559.7142857142858, \"deaths_avg3\": 50.666666666666664, \"deaths_avg7\": 71.28571428571429}, {\"state\": \"California\", \"state_abbrev\": \"CA\", \"date\": \"2020-05-05T07:00:00+00:00\", \"cases\": 58456, \"deaths\": 2381, \"new_cases\": 2572, \"new_deaths\": 103, \"cases_avg7\": 1756.0, \"deaths_avg3\": 67.0, \"deaths_avg7\": 73.85714285714286}, {\"state\": \"California\", \"state_abbrev\": \"CA\", \"date\": \"2020-05-06T07:00:00+00:00\", \"cases\": 60616, \"deaths\": 2464, \"new_cases\": 2160, \"new_deaths\": 83, \"cases_avg7\": 1695.5714285714287, \"deaths_avg3\": 82.66666666666667, \"deaths_avg7\": 74.0}, {\"state\": \"California\", \"state_abbrev\": \"CA\", \"date\": \"2020-05-07T07:00:00+00:00\", \"cases\": 62148, \"deaths\": 2535, \"new_cases\": 1532, \"new_deaths\": 71, \"cases_avg7\": 1716.857142857143, \"deaths_avg3\": 85.66666666666667, \"deaths_avg7\": 72.0}, {\"state\": \"California\", \"state_abbrev\": \"CA\", \"date\": \"2020-05-08T07:00:00+00:00\", \"cases\": 63779, \"deaths\": 2613, \"new_cases\": 1631, \"new_deaths\": 78, \"cases_avg7\": 1679.0, \"deaths_avg3\": 77.33333333333333, \"deaths_avg7\": 69.57142857142857}, {\"state\": \"California\", \"state_abbrev\": \"CA\", \"date\": \"2020-05-09T07:00:00+00:00\", \"cases\": 66558, \"deaths\": 2687, \"new_cases\": 2779, \"new_deaths\": 74, \"cases_avg7\": 1887.2857142857142, \"deaths_avg3\": 74.33333333333333, \"deaths_avg7\": 72.42857142857143}, {\"state\": \"California\", \"state_abbrev\": \"CA\", \"date\": \"2020-05-10T07:00:00+00:00\", \"cases\": 67600, \"deaths\": 2716, \"new_cases\": 1042, \"new_deaths\": 29, \"cases_avg7\": 1813.857142857143, \"deaths_avg3\": 60.333333333333336, \"deaths_avg7\": 71.42857142857143}, {\"state\": \"California\", \"state_abbrev\": \"CA\", \"date\": \"2020-05-11T07:00:00+00:00\", \"cases\": 69329, \"deaths\": 2779, \"new_cases\": 1729, \"new_deaths\": 63, \"cases_avg7\": 1920.7142857142858, \"deaths_avg3\": 55.333333333333336, \"deaths_avg7\": 71.57142857142857}, {\"state\": \"California\", \"state_abbrev\": \"CA\", \"date\": \"2020-05-12T07:00:00+00:00\", \"cases\": 70978, \"deaths\": 2879, \"new_cases\": 1649, \"new_deaths\": 100, \"cases_avg7\": 1788.857142857143, \"deaths_avg3\": 64.0, \"deaths_avg7\": 71.14285714285714}, {\"state\": \"California\", \"state_abbrev\": \"CA\", \"date\": \"2020-05-13T07:00:00+00:00\", \"cases\": 72798, \"deaths\": 2957, \"new_cases\": 1820, \"new_deaths\": 78, \"cases_avg7\": 1740.2857142857142, \"deaths_avg3\": 80.33333333333333, \"deaths_avg7\": 70.42857142857143}, {\"state\": \"California\", \"state_abbrev\": \"CA\", \"date\": \"2020-05-14T07:00:00+00:00\", \"cases\": 74871, \"deaths\": 3052, \"new_cases\": 2073, \"new_deaths\": 95, \"cases_avg7\": 1817.5714285714287, \"deaths_avg3\": 91.0, \"deaths_avg7\": 73.85714285714286}, {\"state\": \"California\", \"state_abbrev\": \"CA\", \"date\": \"2020-05-15T07:00:00+00:00\", \"cases\": 76693, \"deaths\": 3136, \"new_cases\": 1822, \"new_deaths\": 84, \"cases_avg7\": 1844.857142857143, \"deaths_avg3\": 85.66666666666667, \"deaths_avg7\": 74.71428571428571}, {\"state\": \"California\", \"state_abbrev\": \"CA\", \"date\": \"2020-05-16T07:00:00+00:00\", \"cases\": 78725, \"deaths\": 3208, \"new_cases\": 2032, \"new_deaths\": 72, \"cases_avg7\": 1738.142857142857, \"deaths_avg3\": 83.66666666666667, \"deaths_avg7\": 74.42857142857143}, {\"state\": \"California\", \"state_abbrev\": \"CA\", \"date\": \"2020-05-17T07:00:00+00:00\", \"cases\": 80166, \"deaths\": 3240, \"new_cases\": 1441, \"new_deaths\": 32, \"cases_avg7\": 1795.142857142857, \"deaths_avg3\": 62.666666666666664, \"deaths_avg7\": 74.85714285714286}, {\"state\": \"California\", \"state_abbrev\": \"CA\", \"date\": \"2020-05-18T07:00:00+00:00\", \"cases\": 81457, \"deaths\": 3279, \"new_cases\": 1291, \"new_deaths\": 39, \"cases_avg7\": 1732.5714285714287, \"deaths_avg3\": 47.666666666666664, \"deaths_avg7\": 71.42857142857143}, {\"state\": \"California\", \"state_abbrev\": \"CA\", \"date\": \"2020-05-19T07:00:00+00:00\", \"cases\": 83752, \"deaths\": 3403, \"new_cases\": 2295, \"new_deaths\": 124, \"cases_avg7\": 1824.857142857143, \"deaths_avg3\": 65.0, \"deaths_avg7\": 74.85714285714286}, {\"state\": \"California\", \"state_abbrev\": \"CA\", \"date\": \"2020-05-20T07:00:00+00:00\", \"cases\": 83865, \"deaths\": 3420, \"new_cases\": 113, \"new_deaths\": 17, \"cases_avg7\": 1581.0, \"deaths_avg3\": 60.0, \"deaths_avg7\": 66.14285714285714}]}}, {\"mode\": \"vega-lite\"});\n",
       "</script>"
      ],
      "text/plain": [
       "alt.HConcatChart(...)"
      ]
     },
     "metadata": {},
     "output_type": "display_data"
    },
    {
     "data": {
      "text/html": [
       "\n",
       "<div id=\"altair-viz-b429d08c21b64830bb29849f24b0a32f\"></div>\n",
       "<script type=\"text/javascript\">\n",
       "  (function(spec, embedOpt){\n",
       "    const outputDiv = document.getElementById(\"altair-viz-b429d08c21b64830bb29849f24b0a32f\");\n",
       "    const paths = {\n",
       "      \"vega\": \"https://cdn.jsdelivr.net/npm//vega@5?noext\",\n",
       "      \"vega-lib\": \"https://cdn.jsdelivr.net/npm//vega-lib?noext\",\n",
       "      \"vega-lite\": \"https://cdn.jsdelivr.net/npm//vega-lite@4.0.2?noext\",\n",
       "      \"vega-embed\": \"https://cdn.jsdelivr.net/npm//vega-embed@6?noext\",\n",
       "    };\n",
       "\n",
       "    function loadScript(lib) {\n",
       "      return new Promise(function(resolve, reject) {\n",
       "        var s = document.createElement('script');\n",
       "        s.src = paths[lib];\n",
       "        s.async = true;\n",
       "        s.onload = () => resolve(paths[lib]);\n",
       "        s.onerror = () => reject(`Error loading script: ${paths[lib]}`);\n",
       "        document.getElementsByTagName(\"head\")[0].appendChild(s);\n",
       "      });\n",
       "    }\n",
       "\n",
       "    function showError(err) {\n",
       "      outputDiv.innerHTML = `<div class=\"error\" style=\"color:red;\">${err}</div>`;\n",
       "      throw err;\n",
       "    }\n",
       "\n",
       "    function displayChart(vegaEmbed) {\n",
       "      vegaEmbed(outputDiv, spec, embedOpt)\n",
       "        .catch(err => showError(`Javascript Error: ${err.message}<br>This usually means there's a typo in your chart specification. See the javascript console for the full traceback.`));\n",
       "    }\n",
       "\n",
       "    if(typeof define === \"function\" && define.amd) {\n",
       "      requirejs.config({paths});\n",
       "      require([\"vega-embed\"], displayChart, err => showError(`Error loading script: ${err.message}`));\n",
       "    } else if (typeof vegaEmbed === \"function\") {\n",
       "      displayChart(vegaEmbed);\n",
       "    } else {\n",
       "      loadScript(\"vega\")\n",
       "        .then(() => loadScript(\"vega-lite\"))\n",
       "        .then(() => loadScript(\"vega-embed\"))\n",
       "        .catch(showError)\n",
       "        .then(() => displayChart(vegaEmbed));\n",
       "    }\n",
       "  })({\"config\": {\"view\": {\"continuousWidth\": 400, \"continuousHeight\": 300, \"strokeOpacity\": 0}, \"axis\": {\"domainOpacity\": 0.4, \"gridOpacity\": 0.4}, \"title\": {\"anchor\": \"middle\", \"color\": \"black\", \"font\": \"Roboto\", \"fontSize\": 10}}, \"hconcat\": [{\"mark\": \"line\", \"encoding\": {\"color\": {\"value\": \"#0A4C6A\"}, \"x\": {\"type\": \"temporal\", \"axis\": {\"format\": \"%-m/%-d\"}, \"field\": \"date\", \"timeUnit\": \"monthdate\", \"title\": \"date\"}, \"y\": {\"type\": \"quantitative\", \"field\": \"cases_avg7\", \"title\": \"7-day avg\"}}, \"height\": 200, \"title\": \"Los Angeles-Long Beach-Anaheim, CA MSA: New Cases\", \"width\": 250}, {\"mark\": \"line\", \"encoding\": {\"color\": {\"value\": \"#A30F23\"}, \"x\": {\"type\": \"temporal\", \"axis\": {\"format\": \"%-m/%-d\"}, \"field\": \"date\", \"timeUnit\": \"monthdate\", \"title\": \"date\"}, \"y\": {\"type\": \"quantitative\", \"field\": \"deaths_avg3\", \"title\": \"3-day avg\"}}, \"height\": 200, \"title\": \"Los Angeles-Long Beach-Anaheim, CA MSA: New Deaths\", \"width\": 250}], \"data\": {\"name\": \"data-15d030d55d2cce2eb9cddf576721c92d\"}, \"$schema\": \"https://vega.github.io/schema/vega-lite/v4.0.2.json\", \"datasets\": {\"data-15d030d55d2cce2eb9cddf576721c92d\": [{\"msa\": \"Los Angeles-Long Beach-Anaheim, CA\", \"msa_pop\": 13214799.0, \"date\": \"2020-03-01T08:00:00+00:00\", \"cases\": 2, \"deaths\": 0, \"new_cases\": null, \"new_deaths\": null, \"cases_avg7\": null, \"deaths_avg3\": null, \"deaths_avg7\": null}, {\"msa\": \"Los Angeles-Long Beach-Anaheim, CA\", \"msa_pop\": 13214799.0, \"date\": \"2020-03-02T08:00:00+00:00\", \"cases\": 2, \"deaths\": 0, \"new_cases\": 0.0, \"new_deaths\": 0.0, \"cases_avg7\": null, \"deaths_avg3\": null, \"deaths_avg7\": null}, {\"msa\": \"Los Angeles-Long Beach-Anaheim, CA\", \"msa_pop\": 13214799.0, \"date\": \"2020-03-03T08:00:00+00:00\", \"cases\": 2, \"deaths\": 0, \"new_cases\": 0.0, \"new_deaths\": 0.0, \"cases_avg7\": null, \"deaths_avg3\": null, \"deaths_avg7\": null}, {\"msa\": \"Los Angeles-Long Beach-Anaheim, CA\", \"msa_pop\": 13214799.0, \"date\": \"2020-03-04T08:00:00+00:00\", \"cases\": 10, \"deaths\": 0, \"new_cases\": 8.0, \"new_deaths\": 0.0, \"cases_avg7\": null, \"deaths_avg3\": 0.0, \"deaths_avg7\": null}, {\"msa\": \"Los Angeles-Long Beach-Anaheim, CA\", \"msa_pop\": 13214799.0, \"date\": \"2020-03-05T08:00:00+00:00\", \"cases\": 14, \"deaths\": 0, \"new_cases\": 4.0, \"new_deaths\": 0.0, \"cases_avg7\": null, \"deaths_avg3\": 0.0, \"deaths_avg7\": null}, {\"msa\": \"Los Angeles-Long Beach-Anaheim, CA\", \"msa_pop\": 13214799.0, \"date\": \"2020-03-06T08:00:00+00:00\", \"cases\": 16, \"deaths\": 0, \"new_cases\": 2.0, \"new_deaths\": 0.0, \"cases_avg7\": null, \"deaths_avg3\": 0.0, \"deaths_avg7\": null}, {\"msa\": \"Los Angeles-Long Beach-Anaheim, CA\", \"msa_pop\": 13214799.0, \"date\": \"2020-03-07T08:00:00+00:00\", \"cases\": 17, \"deaths\": 0, \"new_cases\": 1.0, \"new_deaths\": 0.0, \"cases_avg7\": null, \"deaths_avg3\": 0.0, \"deaths_avg7\": null}, {\"msa\": \"Los Angeles-Long Beach-Anaheim, CA\", \"msa_pop\": 13214799.0, \"date\": \"2020-03-08T08:00:00+00:00\", \"cases\": 17, \"deaths\": 0, \"new_cases\": 0.0, \"new_deaths\": 0.0, \"cases_avg7\": 2.142857142857143, \"deaths_avg3\": 0.0, \"deaths_avg7\": 0.0}, {\"msa\": \"Los Angeles-Long Beach-Anaheim, CA\", \"msa_pop\": 13214799.0, \"date\": \"2020-03-09T07:00:00+00:00\", \"cases\": 18, \"deaths\": 0, \"new_cases\": 1.0, \"new_deaths\": 0.0, \"cases_avg7\": 2.2857142857142856, \"deaths_avg3\": 0.0, \"deaths_avg7\": 0.0}, {\"msa\": \"Los Angeles-Long Beach-Anaheim, CA\", \"msa_pop\": 13214799.0, \"date\": \"2020-03-10T07:00:00+00:00\", \"cases\": 25, \"deaths\": 0, \"new_cases\": 7.0, \"new_deaths\": 0.0, \"cases_avg7\": 3.2857142857142856, \"deaths_avg3\": 0.0, \"deaths_avg7\": 0.0}, {\"msa\": \"Los Angeles-Long Beach-Anaheim, CA\", \"msa_pop\": 13214799.0, \"date\": \"2020-03-11T07:00:00+00:00\", \"cases\": 32, \"deaths\": 1, \"new_cases\": 7.0, \"new_deaths\": 1.0, \"cases_avg7\": 3.142857142857143, \"deaths_avg3\": 0.3333333333333333, \"deaths_avg7\": 0.14285714285714285}, {\"msa\": \"Los Angeles-Long Beach-Anaheim, CA\", \"msa_pop\": 13214799.0, \"date\": \"2020-03-12T07:00:00+00:00\", \"cases\": 38, \"deaths\": 1, \"new_cases\": 6.0, \"new_deaths\": 0.0, \"cases_avg7\": 3.4285714285714284, \"deaths_avg3\": 0.3333333333333333, \"deaths_avg7\": 0.14285714285714285}, {\"msa\": \"Los Angeles-Long Beach-Anaheim, CA\", \"msa_pop\": 13214799.0, \"date\": \"2020-03-13T07:00:00+00:00\", \"cases\": 49, \"deaths\": 1, \"new_cases\": 11.0, \"new_deaths\": 0.0, \"cases_avg7\": 4.714285714285714, \"deaths_avg3\": 0.3333333333333333, \"deaths_avg7\": 0.14285714285714285}, {\"msa\": \"Los Angeles-Long Beach-Anaheim, CA\", \"msa_pop\": 13214799.0, \"date\": \"2020-03-14T07:00:00+00:00\", \"cases\": 67, \"deaths\": 1, \"new_cases\": 18.0, \"new_deaths\": 0.0, \"cases_avg7\": 7.142857142857143, \"deaths_avg3\": 0.0, \"deaths_avg7\": 0.14285714285714285}, {\"msa\": \"Los Angeles-Long Beach-Anaheim, CA\", \"msa_pop\": 13214799.0, \"date\": \"2020-03-15T07:00:00+00:00\", \"cases\": 67, \"deaths\": 1, \"new_cases\": 0.0, \"new_deaths\": 0.0, \"cases_avg7\": 7.142857142857143, \"deaths_avg3\": 0.0, \"deaths_avg7\": 0.14285714285714285}, {\"msa\": \"Los Angeles-Long Beach-Anaheim, CA\", \"msa_pop\": 13214799.0, \"date\": \"2020-03-16T07:00:00+00:00\", \"cases\": 111, \"deaths\": 1, \"new_cases\": 44.0, \"new_deaths\": 0.0, \"cases_avg7\": 13.285714285714286, \"deaths_avg3\": 0.0, \"deaths_avg7\": 0.14285714285714285}, {\"msa\": \"Los Angeles-Long Beach-Anaheim, CA\", \"msa_pop\": 13214799.0, \"date\": \"2020-03-17T07:00:00+00:00\", \"cases\": 166, \"deaths\": 1, \"new_cases\": 55.0, \"new_deaths\": 0.0, \"cases_avg7\": 20.142857142857142, \"deaths_avg3\": 0.0, \"deaths_avg7\": 0.14285714285714285}, {\"msa\": \"Los Angeles-Long Beach-Anaheim, CA\", \"msa_pop\": 13214799.0, \"date\": \"2020-03-18T07:00:00+00:00\", \"cases\": 219, \"deaths\": 1, \"new_cases\": 53.0, \"new_deaths\": 0.0, \"cases_avg7\": 26.714285714285715, \"deaths_avg3\": 0.0, \"deaths_avg7\": 0.0}, {\"msa\": \"Los Angeles-Long Beach-Anaheim, CA\", \"msa_pop\": 13214799.0, \"date\": \"2020-03-19T07:00:00+00:00\", \"cases\": 284, \"deaths\": 2, \"new_cases\": 65.0, \"new_deaths\": 1.0, \"cases_avg7\": 35.142857142857146, \"deaths_avg3\": 0.3333333333333333, \"deaths_avg7\": 0.14285714285714285}, {\"msa\": \"Los Angeles-Long Beach-Anaheim, CA\", \"msa_pop\": 13214799.0, \"date\": \"2020-03-20T07:00:00+00:00\", \"cases\": 357, \"deaths\": 2, \"new_cases\": 73.0, \"new_deaths\": 0.0, \"cases_avg7\": 44.0, \"deaths_avg3\": 0.3333333333333333, \"deaths_avg7\": 0.14285714285714285}, {\"msa\": \"Los Angeles-Long Beach-Anaheim, CA\", \"msa_pop\": 13214799.0, \"date\": \"2020-03-21T07:00:00+00:00\", \"cases\": 370, \"deaths\": 2, \"new_cases\": 13.0, \"new_deaths\": 0.0, \"cases_avg7\": 43.285714285714285, \"deaths_avg3\": 0.3333333333333333, \"deaths_avg7\": 0.14285714285714285}, {\"msa\": \"Los Angeles-Long Beach-Anaheim, CA\", \"msa_pop\": 13214799.0, \"date\": \"2020-03-22T07:00:00+00:00\", \"cases\": 502, \"deaths\": 5, \"new_cases\": 132.0, \"new_deaths\": 3.0, \"cases_avg7\": 62.142857142857146, \"deaths_avg3\": 1.0, \"deaths_avg7\": 0.5714285714285714}, {\"msa\": \"Los Angeles-Long Beach-Anaheim, CA\", \"msa_pop\": 13214799.0, \"date\": \"2020-03-23T07:00:00+00:00\", \"cases\": 661, \"deaths\": 7, \"new_cases\": 159.0, \"new_deaths\": 2.0, \"cases_avg7\": 78.57142857142857, \"deaths_avg3\": 1.6666666666666667, \"deaths_avg7\": 0.8571428571428571}, {\"msa\": \"Los Angeles-Long Beach-Anaheim, CA\", \"msa_pop\": 13214799.0, \"date\": \"2020-03-24T07:00:00+00:00\", \"cases\": 814, \"deaths\": 11, \"new_cases\": 153.0, \"new_deaths\": 4.0, \"cases_avg7\": 92.57142857142857, \"deaths_avg3\": 3.0, \"deaths_avg7\": 1.4285714285714286}, {\"msa\": \"Los Angeles-Long Beach-Anaheim, CA\", \"msa_pop\": 13214799.0, \"date\": \"2020-03-25T07:00:00+00:00\", \"cases\": 999, \"deaths\": 14, \"new_cases\": 185.0, \"new_deaths\": 3.0, \"cases_avg7\": 111.42857142857143, \"deaths_avg3\": 3.0, \"deaths_avg7\": 1.8571428571428572}, {\"msa\": \"Los Angeles-Long Beach-Anaheim, CA\", \"msa_pop\": 13214799.0, \"date\": \"2020-03-26T07:00:00+00:00\", \"cases\": 1485, \"deaths\": 22, \"new_cases\": 486.0, \"new_deaths\": 8.0, \"cases_avg7\": 171.57142857142858, \"deaths_avg3\": 5.0, \"deaths_avg7\": 2.857142857142857}, {\"msa\": \"Los Angeles-Long Beach-Anaheim, CA\", \"msa_pop\": 13214799.0, \"date\": \"2020-03-27T07:00:00+00:00\", \"cases\": 1786, \"deaths\": 29, \"new_cases\": 301.0, \"new_deaths\": 7.0, \"cases_avg7\": 204.14285714285714, \"deaths_avg3\": 6.0, \"deaths_avg7\": 3.857142857142857}, {\"msa\": \"Los Angeles-Long Beach-Anaheim, CA\", \"msa_pop\": 13214799.0, \"date\": \"2020-03-28T07:00:00+00:00\", \"cases\": 1868, \"deaths\": 30, \"new_cases\": 82.0, \"new_deaths\": 1.0, \"cases_avg7\": 214.0, \"deaths_avg3\": 5.333333333333333, \"deaths_avg7\": 4.0}, {\"msa\": \"Los Angeles-Long Beach-Anaheim, CA\", \"msa_pop\": 13214799.0, \"date\": \"2020-03-29T07:00:00+00:00\", \"cases\": 2260, \"deaths\": 36, \"new_cases\": 392.0, \"new_deaths\": 6.0, \"cases_avg7\": 251.14285714285714, \"deaths_avg3\": 4.666666666666667, \"deaths_avg7\": 4.428571428571429}, {\"msa\": \"Los Angeles-Long Beach-Anaheim, CA\", \"msa_pop\": 13214799.0, \"date\": \"2020-03-30T07:00:00+00:00\", \"cases\": 2938, \"deaths\": 48, \"new_cases\": 678.0, \"new_deaths\": 12.0, \"cases_avg7\": 325.2857142857143, \"deaths_avg3\": 6.333333333333333, \"deaths_avg7\": 5.857142857142857}, {\"msa\": \"Los Angeles-Long Beach-Anaheim, CA\", \"msa_pop\": 13214799.0, \"date\": \"2020-03-31T07:00:00+00:00\", \"cases\": 3521, \"deaths\": 61, \"new_cases\": 583.0, \"new_deaths\": 13.0, \"cases_avg7\": 386.7142857142857, \"deaths_avg3\": 10.333333333333334, \"deaths_avg7\": 7.142857142857143}, {\"msa\": \"Los Angeles-Long Beach-Anaheim, CA\", \"msa_pop\": 13214799.0, \"date\": \"2020-04-01T07:00:00+00:00\", \"cases\": 4124, \"deaths\": 74, \"new_cases\": 603.0, \"new_deaths\": 13.0, \"cases_avg7\": 446.42857142857144, \"deaths_avg3\": 12.666666666666666, \"deaths_avg7\": 8.571428571428571}, {\"msa\": \"Los Angeles-Long Beach-Anaheim, CA\", \"msa_pop\": 13214799.0, \"date\": \"2020-04-02T07:00:00+00:00\", \"cases\": 4701, \"deaths\": 91, \"new_cases\": 577.0, \"new_deaths\": 17.0, \"cases_avg7\": 459.42857142857144, \"deaths_avg3\": 14.333333333333334, \"deaths_avg7\": 9.857142857142858}, {\"msa\": \"Los Angeles-Long Beach-Anaheim, CA\", \"msa_pop\": 13214799.0, \"date\": \"2020-04-03T07:00:00+00:00\", \"cases\": 5277, \"deaths\": 102, \"new_cases\": 576.0, \"new_deaths\": 11.0, \"cases_avg7\": 498.7142857142857, \"deaths_avg3\": 13.666666666666666, \"deaths_avg7\": 10.428571428571429}, {\"msa\": \"Los Angeles-Long Beach-Anaheim, CA\", \"msa_pop\": 13214799.0, \"date\": \"2020-04-04T07:00:00+00:00\", \"cases\": 5391, \"deaths\": 107, \"new_cases\": 114.0, \"new_deaths\": 5.0, \"cases_avg7\": 503.2857142857143, \"deaths_avg3\": 11.0, \"deaths_avg7\": 11.0}, {\"msa\": \"Los Angeles-Long Beach-Anaheim, CA\", \"msa_pop\": 13214799.0, \"date\": \"2020-04-05T07:00:00+00:00\", \"cases\": 6789, \"deaths\": 146, \"new_cases\": 1398.0, \"new_deaths\": 39.0, \"cases_avg7\": 647.0, \"deaths_avg3\": 18.333333333333332, \"deaths_avg7\": 15.714285714285714}, {\"msa\": \"Los Angeles-Long Beach-Anaheim, CA\", \"msa_pop\": 13214799.0, \"date\": \"2020-04-06T07:00:00+00:00\", \"cases\": 7259, \"deaths\": 161, \"new_cases\": 470.0, \"new_deaths\": 15.0, \"cases_avg7\": 617.2857142857143, \"deaths_avg3\": 19.666666666666668, \"deaths_avg7\": 16.142857142857142}, {\"msa\": \"Los Angeles-Long Beach-Anaheim, CA\", \"msa_pop\": 13214799.0, \"date\": \"2020-04-07T07:00:00+00:00\", \"cases\": 7867, \"deaths\": 184, \"new_cases\": 608.0, \"new_deaths\": 23.0, \"cases_avg7\": 620.8571428571429, \"deaths_avg3\": 25.666666666666668, \"deaths_avg7\": 17.571428571428573}, {\"msa\": \"Los Angeles-Long Beach-Anaheim, CA\", \"msa_pop\": 13214799.0, \"date\": \"2020-04-08T07:00:00+00:00\", \"cases\": 8575, \"deaths\": 215, \"new_cases\": 708.0, \"new_deaths\": 31.0, \"cases_avg7\": 635.8571428571429, \"deaths_avg3\": 23.0, \"deaths_avg7\": 20.142857142857142}, {\"msa\": \"Los Angeles-Long Beach-Anaheim, CA\", \"msa_pop\": 13214799.0, \"date\": \"2020-04-09T07:00:00+00:00\", \"cases\": 9034, \"deaths\": 240, \"new_cases\": 459.0, \"new_deaths\": 25.0, \"cases_avg7\": 619.0, \"deaths_avg3\": 26.333333333333332, \"deaths_avg7\": 21.285714285714285}, {\"msa\": \"Los Angeles-Long Beach-Anaheim, CA\", \"msa_pop\": 13214799.0, \"date\": \"2020-04-10T07:00:00+00:00\", \"cases\": 9581, \"deaths\": 259, \"new_cases\": 547.0, \"new_deaths\": 19.0, \"cases_avg7\": 614.8571428571429, \"deaths_avg3\": 25.0, \"deaths_avg7\": 22.428571428571427}, {\"msa\": \"Los Angeles-Long Beach-Anaheim, CA\", \"msa_pop\": 13214799.0, \"date\": \"2020-04-11T07:00:00+00:00\", \"cases\": 9674, \"deaths\": 262, \"new_cases\": 93.0, \"new_deaths\": 3.0, \"cases_avg7\": 611.8571428571429, \"deaths_avg3\": 15.666666666666666, \"deaths_avg7\": 22.142857142857142}, {\"msa\": \"Los Angeles-Long Beach-Anaheim, CA\", \"msa_pop\": 13214799.0, \"date\": \"2020-04-12T07:00:00+00:00\", \"cases\": 10171, \"deaths\": 288, \"new_cases\": 497.0, \"new_deaths\": 26.0, \"cases_avg7\": 483.14285714285717, \"deaths_avg3\": 16.0, \"deaths_avg7\": 20.285714285714285}, {\"msa\": \"Los Angeles-Long Beach-Anaheim, CA\", \"msa_pop\": 13214799.0, \"date\": \"2020-04-13T07:00:00+00:00\", \"cases\": 10716, \"deaths\": 341, \"new_cases\": 545.0, \"new_deaths\": 53.0, \"cases_avg7\": 493.85714285714283, \"deaths_avg3\": 27.333333333333332, \"deaths_avg7\": 25.714285714285715}, {\"msa\": \"Los Angeles-Long Beach-Anaheim, CA\", \"msa_pop\": 13214799.0, \"date\": \"2020-04-14T07:00:00+00:00\", \"cases\": 11346, \"deaths\": 379, \"new_cases\": 630.0, \"new_deaths\": 38.0, \"cases_avg7\": 497.0, \"deaths_avg3\": 39.0, \"deaths_avg7\": 27.857142857142858}, {\"msa\": \"Los Angeles-Long Beach-Anaheim, CA\", \"msa_pop\": 13214799.0, \"date\": \"2020-04-15T07:00:00+00:00\", \"cases\": 11893, \"deaths\": 427, \"new_cases\": 547.0, \"new_deaths\": 48.0, \"cases_avg7\": 474.0, \"deaths_avg3\": 46.333333333333336, \"deaths_avg7\": 30.285714285714285}, {\"msa\": \"Los Angeles-Long Beach-Anaheim, CA\", \"msa_pop\": 13214799.0, \"date\": \"2020-04-16T07:00:00+00:00\", \"cases\": 12279, \"deaths\": 482, \"new_cases\": 386.0, \"new_deaths\": 55.0, \"cases_avg7\": 463.57142857142856, \"deaths_avg3\": 47.0, \"deaths_avg7\": 34.57142857142857}, {\"msa\": \"Los Angeles-Long Beach-Anaheim, CA\", \"msa_pop\": 13214799.0, \"date\": \"2020-04-17T07:00:00+00:00\", \"cases\": 12901, \"deaths\": 525, \"new_cases\": 622.0, \"new_deaths\": 43.0, \"cases_avg7\": 474.2857142857143, \"deaths_avg3\": 48.666666666666664, \"deaths_avg7\": 38.0}, {\"msa\": \"Los Angeles-Long Beach-Anaheim, CA\", \"msa_pop\": 13214799.0, \"date\": \"2020-04-18T07:00:00+00:00\", \"cases\": 13577, \"deaths\": 608, \"new_cases\": 676.0, \"new_deaths\": 83.0, \"cases_avg7\": 557.5714285714286, \"deaths_avg3\": 60.333333333333336, \"deaths_avg7\": 49.42857142857143}, {\"msa\": \"Los Angeles-Long Beach-Anaheim, CA\", \"msa_pop\": 13214799.0, \"date\": \"2020-04-19T07:00:00+00:00\", \"cases\": 13977, \"deaths\": 632, \"new_cases\": 400.0, \"new_deaths\": 24.0, \"cases_avg7\": 543.7142857142857, \"deaths_avg3\": 50.0, \"deaths_avg7\": 49.142857142857146}, {\"msa\": \"Los Angeles-Long Beach-Anaheim, CA\", \"msa_pop\": 13214799.0, \"date\": \"2020-04-20T07:00:00+00:00\", \"cases\": 15499, \"deaths\": 652, \"new_cases\": 1522.0, \"new_deaths\": 20.0, \"cases_avg7\": 683.2857142857143, \"deaths_avg3\": 42.333333333333336, \"deaths_avg7\": 44.42857142857143}, {\"msa\": \"Los Angeles-Long Beach-Anaheim, CA\", \"msa_pop\": 13214799.0, \"date\": \"2020-04-21T07:00:00+00:00\", \"cases\": 16844, \"deaths\": 696, \"new_cases\": 1345.0, \"new_deaths\": 44.0, \"cases_avg7\": 785.4285714285714, \"deaths_avg3\": 29.333333333333332, \"deaths_avg7\": 45.285714285714285}, {\"msa\": \"Los Angeles-Long Beach-Anaheim, CA\", \"msa_pop\": 13214799.0, \"date\": \"2020-04-22T07:00:00+00:00\", \"cases\": 18200, \"deaths\": 766, \"new_cases\": 1356.0, \"new_deaths\": 70.0, \"cases_avg7\": 901.0, \"deaths_avg3\": 44.666666666666664, \"deaths_avg7\": 48.42857142857143}, {\"msa\": \"Los Angeles-Long Beach-Anaheim, CA\", \"msa_pop\": 13214799.0, \"date\": \"2020-04-23T07:00:00+00:00\", \"cases\": 19364, \"deaths\": 833, \"new_cases\": 1164.0, \"new_deaths\": 67.0, \"cases_avg7\": 1012.1428571428571, \"deaths_avg3\": 60.333333333333336, \"deaths_avg7\": 50.142857142857146}, {\"msa\": \"Los Angeles-Long Beach-Anaheim, CA\", \"msa_pop\": 13214799.0, \"date\": \"2020-04-24T07:00:00+00:00\", \"cases\": 20390, \"deaths\": 886, \"new_cases\": 1026.0, \"new_deaths\": 53.0, \"cases_avg7\": 1069.857142857143, \"deaths_avg3\": 63.333333333333336, \"deaths_avg7\": 51.57142857142857}, {\"msa\": \"Los Angeles-Long Beach-Anaheim, CA\", \"msa_pop\": 13214799.0, \"date\": \"2020-04-25T07:00:00+00:00\", \"cases\": 21102, \"deaths\": 933, \"new_cases\": 712.0, \"new_deaths\": 47.0, \"cases_avg7\": 1075.0, \"deaths_avg3\": 55.666666666666664, \"deaths_avg7\": 46.42857142857143}, {\"msa\": \"Los Angeles-Long Beach-Anaheim, CA\", \"msa_pop\": 13214799.0, \"date\": \"2020-04-26T07:00:00+00:00\", \"cases\": 21641, \"deaths\": 955, \"new_cases\": 539.0, \"new_deaths\": 22.0, \"cases_avg7\": 1094.857142857143, \"deaths_avg3\": 40.666666666666664, \"deaths_avg7\": 46.142857142857146}, {\"msa\": \"Los Angeles-Long Beach-Anaheim, CA\", \"msa_pop\": 13214799.0, \"date\": \"2020-04-27T07:00:00+00:00\", \"cases\": 22549, \"deaths\": 983, \"new_cases\": 908.0, \"new_deaths\": 28.0, \"cases_avg7\": 1007.1428571428571, \"deaths_avg3\": 32.333333333333336, \"deaths_avg7\": 47.285714285714285}, {\"msa\": \"Los Angeles-Long Beach-Anaheim, CA\", \"msa_pop\": 13214799.0, \"date\": \"2020-04-28T07:00:00+00:00\", \"cases\": 23147, \"deaths\": 1044, \"new_cases\": 598.0, \"new_deaths\": 61.0, \"cases_avg7\": 900.4285714285714, \"deaths_avg3\": 37.0, \"deaths_avg7\": 49.714285714285715}, {\"msa\": \"Los Angeles-Long Beach-Anaheim, CA\", \"msa_pop\": 13214799.0, \"date\": \"2020-04-29T07:00:00+00:00\", \"cases\": 24737, \"deaths\": 1100, \"new_cases\": 1590.0, \"new_deaths\": 56.0, \"cases_avg7\": 933.8571428571429, \"deaths_avg3\": 48.333333333333336, \"deaths_avg7\": 47.714285714285715}, {\"msa\": \"Los Angeles-Long Beach-Anaheim, CA\", \"msa_pop\": 13214799.0, \"date\": \"2020-04-30T07:00:00+00:00\", \"cases\": 25613, \"deaths\": 1156, \"new_cases\": 876.0, \"new_deaths\": 56.0, \"cases_avg7\": 892.7142857142857, \"deaths_avg3\": 57.666666666666664, \"deaths_avg7\": 46.142857142857146}, {\"msa\": \"Los Angeles-Long Beach-Anaheim, CA\", \"msa_pop\": 13214799.0, \"date\": \"2020-05-01T07:00:00+00:00\", \"cases\": 26799, \"deaths\": 1224, \"new_cases\": 1186.0, \"new_deaths\": 68.0, \"cases_avg7\": 915.5714285714286, \"deaths_avg3\": 60.0, \"deaths_avg7\": 48.285714285714285}, {\"msa\": \"Los Angeles-Long Beach-Anaheim, CA\", \"msa_pop\": 13214799.0, \"date\": \"2020-05-02T07:00:00+00:00\", \"cases\": 27530, \"deaths\": 1261, \"new_cases\": 731.0, \"new_deaths\": 37.0, \"cases_avg7\": 918.2857142857143, \"deaths_avg3\": 53.666666666666664, \"deaths_avg7\": 46.857142857142854}, {\"msa\": \"Los Angeles-Long Beach-Anaheim, CA\", \"msa_pop\": 13214799.0, \"date\": \"2020-05-03T07:00:00+00:00\", \"cases\": 28442, \"deaths\": 1283, \"new_cases\": 912.0, \"new_deaths\": 22.0, \"cases_avg7\": 971.5714285714286, \"deaths_avg3\": 42.333333333333336, \"deaths_avg7\": 46.857142857142854}, {\"msa\": \"Los Angeles-Long Beach-Anaheim, CA\", \"msa_pop\": 13214799.0, \"date\": \"2020-05-04T07:00:00+00:00\", \"cases\": 29044, \"deaths\": 1314, \"new_cases\": 602.0, \"new_deaths\": 31.0, \"cases_avg7\": 927.8571428571429, \"deaths_avg3\": 30.0, \"deaths_avg7\": 47.285714285714285}, {\"msa\": \"Los Angeles-Long Beach-Anaheim, CA\", \"msa_pop\": 13214799.0, \"date\": \"2020-05-05T07:00:00+00:00\", \"cases\": 30709, \"deaths\": 1384, \"new_cases\": 1665.0, \"new_deaths\": 70.0, \"cases_avg7\": 1080.2857142857142, \"deaths_avg3\": 41.0, \"deaths_avg7\": 48.57142857142857}, {\"msa\": \"Los Angeles-Long Beach-Anaheim, CA\", \"msa_pop\": 13214799.0, \"date\": \"2020-05-06T07:00:00+00:00\", \"cases\": 31669, \"deaths\": 1434, \"new_cases\": 960.0, \"new_deaths\": 50.0, \"cases_avg7\": 990.2857142857143, \"deaths_avg3\": 50.333333333333336, \"deaths_avg7\": 47.714285714285715}, {\"msa\": \"Los Angeles-Long Beach-Anaheim, CA\", \"msa_pop\": 13214799.0, \"date\": \"2020-05-07T07:00:00+00:00\", \"cases\": 32603, \"deaths\": 1484, \"new_cases\": 934.0, \"new_deaths\": 50.0, \"cases_avg7\": 998.5714285714286, \"deaths_avg3\": 56.666666666666664, \"deaths_avg7\": 46.857142857142854}, {\"msa\": \"Los Angeles-Long Beach-Anaheim, CA\", \"msa_pop\": 13214799.0, \"date\": \"2020-05-08T07:00:00+00:00\", \"cases\": 33559, \"deaths\": 1541, \"new_cases\": 956.0, \"new_deaths\": 57.0, \"cases_avg7\": 965.7142857142857, \"deaths_avg3\": 52.333333333333336, \"deaths_avg7\": 45.285714285714285}, {\"msa\": \"Los Angeles-Long Beach-Anaheim, CA\", \"msa_pop\": 13214799.0, \"date\": \"2020-05-09T07:00:00+00:00\", \"cases\": 34621, \"deaths\": 1589, \"new_cases\": 1062.0, \"new_deaths\": 48.0, \"cases_avg7\": 1013.0, \"deaths_avg3\": 51.666666666666664, \"deaths_avg7\": 46.857142857142854}, {\"msa\": \"Los Angeles-Long Beach-Anaheim, CA\", \"msa_pop\": 13214799.0, \"date\": \"2020-05-10T07:00:00+00:00\", \"cases\": 35205, \"deaths\": 1607, \"new_cases\": 584.0, \"new_deaths\": 18.0, \"cases_avg7\": 966.1428571428571, \"deaths_avg3\": 41.0, \"deaths_avg7\": 46.285714285714285}, {\"msa\": \"Los Angeles-Long Beach-Anaheim, CA\", \"msa_pop\": 13214799.0, \"date\": \"2020-05-11T07:00:00+00:00\", \"cases\": 35820, \"deaths\": 1646, \"new_cases\": 615.0, \"new_deaths\": 39.0, \"cases_avg7\": 968.0, \"deaths_avg3\": 35.0, \"deaths_avg7\": 47.42857142857143}, {\"msa\": \"Los Angeles-Long Beach-Anaheim, CA\", \"msa_pop\": 13214799.0, \"date\": \"2020-05-12T07:00:00+00:00\", \"cases\": 36813, \"deaths\": 1693, \"new_cases\": 993.0, \"new_deaths\": 47.0, \"cases_avg7\": 872.0, \"deaths_avg3\": 34.666666666666664, \"deaths_avg7\": 44.142857142857146}, {\"msa\": \"Los Angeles-Long Beach-Anaheim, CA\", \"msa_pop\": 13214799.0, \"date\": \"2020-05-13T07:00:00+00:00\", \"cases\": 38287, \"deaths\": 1740, \"new_cases\": 1474.0, \"new_deaths\": 47.0, \"cases_avg7\": 945.4285714285714, \"deaths_avg3\": 44.333333333333336, \"deaths_avg7\": 43.714285714285715}, {\"msa\": \"Los Angeles-Long Beach-Anaheim, CA\", \"msa_pop\": 13214799.0, \"date\": \"2020-05-14T07:00:00+00:00\", \"cases\": 39360, \"deaths\": 1791, \"new_cases\": 1073.0, \"new_deaths\": 51.0, \"cases_avg7\": 965.2857142857143, \"deaths_avg3\": 48.333333333333336, \"deaths_avg7\": 43.857142857142854}, {\"msa\": \"Los Angeles-Long Beach-Anaheim, CA\", \"msa_pop\": 13214799.0, \"date\": \"2020-05-15T07:00:00+00:00\", \"cases\": 40441, \"deaths\": 1837, \"new_cases\": 1081.0, \"new_deaths\": 46.0, \"cases_avg7\": 983.1428571428571, \"deaths_avg3\": 48.0, \"deaths_avg7\": 42.285714285714285}, {\"msa\": \"Los Angeles-Long Beach-Anaheim, CA\", \"msa_pop\": 13214799.0, \"date\": \"2020-05-16T07:00:00+00:00\", \"cases\": 41582, \"deaths\": 1879, \"new_cases\": 1141.0, \"new_deaths\": 42.0, \"cases_avg7\": 994.4285714285714, \"deaths_avg3\": 46.333333333333336, \"deaths_avg7\": 41.42857142857143}, {\"msa\": \"Los Angeles-Long Beach-Anaheim, CA\", \"msa_pop\": 13214799.0, \"date\": \"2020-05-17T07:00:00+00:00\", \"cases\": 42387, \"deaths\": 1909, \"new_cases\": 805.0, \"new_deaths\": 30.0, \"cases_avg7\": 1026.0, \"deaths_avg3\": 39.333333333333336, \"deaths_avg7\": 43.142857142857146}, {\"msa\": \"Los Angeles-Long Beach-Anaheim, CA\", \"msa_pop\": 13214799.0, \"date\": \"2020-05-18T07:00:00+00:00\", \"cases\": 42892, \"deaths\": 1928, \"new_cases\": 505.0, \"new_deaths\": 19.0, \"cases_avg7\": 1010.2857142857143, \"deaths_avg3\": 30.333333333333332, \"deaths_avg7\": 40.285714285714285}, {\"msa\": \"Los Angeles-Long Beach-Anaheim, CA\", \"msa_pop\": 13214799.0, \"date\": \"2020-05-19T07:00:00+00:00\", \"cases\": 44073, \"deaths\": 2001, \"new_cases\": 1181.0, \"new_deaths\": 73.0, \"cases_avg7\": 1037.142857142857, \"deaths_avg3\": 40.666666666666664, \"deaths_avg7\": 44.0}, {\"msa\": \"Los Angeles-Long Beach-Anaheim, CA\", \"msa_pop\": 13214799.0, \"date\": \"2020-05-20T07:00:00+00:00\", \"cases\": 44132, \"deaths\": 2014, \"new_cases\": 59.0, \"new_deaths\": 13.0, \"cases_avg7\": 835.0, \"deaths_avg3\": 35.0, \"deaths_avg7\": 39.142857142857146}]}}, {\"mode\": \"vega-lite\"});\n",
       "</script>"
      ],
      "text/plain": [
       "alt.HConcatChart(...)"
      ]
     },
     "metadata": {},
     "output_type": "display_data"
    }
   ],
   "source": [
    "la_county = utils.county_case_charts(county_state_name, start_date)\n",
    "#la_city = utils.case_indicators_lacity(\"4/15/20\")\n",
    "ca = utils.state_case_charts(state_name, \"3/1/20\")\n",
    "la_msa = utils.msa_case_charts(\"Los Angeles\", \"3/1/20\")"
   ]
  },
  {
   "cell_type": "code",
   "execution_count": 3,
   "metadata": {},
   "outputs": [],
   "source": [
    "county = utils.county_case_indicators(county_state_name, start_date)\n",
    "state = utils.state_case_indicators(state_name, \"3/1/20\")\n",
    "msa = utils.msa_case_indicators(\"Los Angeles\", \"3/1/20\")"
   ]
  },
  {
   "cell_type": "markdown",
   "metadata": {},
   "source": [
    "## Testing Indicators"
   ]
  },
  {
   "cell_type": "code",
   "execution_count": null,
   "metadata": {},
   "outputs": [],
   "source": [
    "daily_tests = utils.testing_lacity(start_date, 'daily', 10_000, 16_667)\n",
    "#monthly_tests = utils.testing_lacity(start_date, 'monthly', 300_000, 500_000)\n",
    "positive_tests = utils.positive_tests_lacity(start_date)"
   ]
  },
  {
   "cell_type": "code",
   "execution_count": null,
   "metadata": {},
   "outputs": [],
   "source": [
    "positive_tests[positive_tests.week == positive_tests.week.max()] "
   ]
  },
  {
   "cell_type": "markdown",
   "metadata": {},
   "source": [
    "## Hospital Capacity Indicators"
   ]
  },
  {
   "cell_type": "code",
   "execution_count": null,
   "metadata": {},
   "outputs": [],
   "source": [
    "hospital = utils.hospital_capacity_lacity(\"4/1/20\")"
   ]
  },
  {
   "cell_type": "markdown",
   "metadata": {},
   "source": [
    "# Markdown Red/ Green Indicator \n",
    "* The next cell displays in the color red or green "
   ]
  },
  {
   "cell_type": "code",
   "execution_count": null,
   "metadata": {},
   "outputs": [],
   "source": [
    "def red_green():\n",
    "    \"\"\"\n",
    "    returns a random \"red\" or \"green\" text in markdown.\n",
    "    \"\"\"\n",
    "    return np.random.choice(['green', 'red'])\n",
    "\n",
    "color = red_green()\n",
    "print(color)\n",
    "display(Markdown(f'<span style=\"color:{color}\">some *blue* text</span>.'))"
   ]
  },
  {
   "cell_type": "code",
   "execution_count": null,
   "metadata": {},
   "outputs": [],
   "source": [
    "\"\"\"To convert to HTML: \n",
    "jupyter nbconvert --to html --no-input --no-prompt my-notebook.ipynb\n",
    "\"\"\""
   ]
  },
  {
   "cell_type": "code",
   "execution_count": null,
   "metadata": {},
   "outputs": [],
   "source": []
  }
 ],
 "metadata": {
  "kernelspec": {
   "display_name": "Python 3",
   "language": "python",
   "name": "python3"
  },
  "language_info": {
   "codemirror_mode": {
    "name": "ipython",
    "version": 3
   },
   "file_extension": ".py",
   "mimetype": "text/x-python",
   "name": "python",
   "nbconvert_exporter": "python",
   "pygments_lexer": "ipython3",
   "version": "3.7.3"
  }
 },
 "nbformat": 4,
 "nbformat_minor": 4
}
