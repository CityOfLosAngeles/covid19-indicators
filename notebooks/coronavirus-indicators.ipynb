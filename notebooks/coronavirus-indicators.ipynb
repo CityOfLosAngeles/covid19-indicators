{
 "cells": [
  {
   "cell_type": "markdown",
   "metadata": {},
   "source": [
    "# LA's COVID-19 Reopening / Recovery Indicators \n",
    "\n",
    "The NY Times wrote about rushed reopenings being [a global trial-and-error experiment](https://www.nytimes.com/2020/05/07/world/europe/coronavirus-reopening-costs.html) and a further analysis showing how US states reopening [fail to meet the WH guidelines](https://www.nytimes.com/interactive/2020/05/07/us/coronavirus-states-reopen-criteria.html). Vox has written about [the importance of COVID testing indicators](https://www.vox.com/2020/5/8/21249880/coronavirus-testing-covid-reopening-economy-lockdowns-social-distancing) as a prerequisite for reopening. \n",
    "\n",
    "While we wait for LA's own reopening indicators, we can still see how LA stacks up against NY and Chicago's indicators. [NY State's Reopening Indicators](https://www.nytimes.com/2020/05/04/nyregion/coronavirus-reopen-cuomo-ny.html) were based heavily in part by the White House [Opening Up America Again gating criteria](https://www.whitehouse.gov/wp-content/uploads/2020/04/Guidelines-for-Opening-Up-America-Again.pdf), and Chicago outlined even [tougher benchmarks than the IL statewide strategy](https://www.chicagotribune.com/coronavirus/ct-coronavirus-chicago-reopening-lightfoot-20200508-ztpnouwexrcvfdfcr2yccbc53a-story.html). In terms of outbreak severity, [LA and Chicago come right after NYC](https://www.nytimes.com/2020/05/09/us/coronavirus-chicago.html)."
   ]
  },
  {
   "cell_type": "markdown",
   "metadata": {},
   "source": [
    "## [White House Gating Criteria](https://www.whitehouse.gov/wp-content/uploads/2020/04/Guidelines-for-Opening-Up-America-Again.pdf)\n",
    "### Symptoms\n",
    "* Downward trajectory of influenza-like illnesses (ILI) reported within a 14-day period **and**\n",
    "* Downward trajectory of COVID-like syndromic cases reported within a 14-day period\n",
    "\n",
    "### Cases\n",
    "* Downward trajectory of documented cases within a 14-day period **or**\n",
    "* Downward trajectory of positive tests as a percent of total tests within a 14-day period (flat or increasing volume of tests) \n",
    "\n",
    "### Hospitals\n",
    "* Treat all patients without crisis care **and**\n",
    "* Robust testing program in place for at-risk healthcare workers, including emerging antibody testing\n",
    "\n",
    "| NY | Chicago |\n",
    "| --- | --- |\n",
    "| At least 14 days decline in total net hospitalizations on a 3-day rolling average **or** <BR> Less than 15 net new total hospitalizations on a 3-day rolling average </BR> | At least 14 days decline in new cases, on average \n",
    "| At least 14 days decline in total net deaths on a 3-day rolling average **or** <BR> Less than 5 new deaths on a 3-day rolling average </BR> | At least 14 days decline in of case rate (per capita?) |\n",
    "| At least 30% total hospital and ICU beds available  | At least 14 days decline in rate of new cases (per capita?)\n",
    "| At least 90 days of PPE stockpiled  | Stable or declining rates of hospitalizations  \n",
    "| Capacity to conduct 30 tests per 1,000 residents per month  | Stable or declining rates of ICU admissions \n",
    "| 30 working contact tracers per 100,000 residents | Stable or declining rates of ICU deaths\n",
    "| Rural regions: Fewer than 2 new COVID patients admitted per 100,000 residents per day | Share of positive results are decreasing below 15% of those tested in the community \n",
    "|   | Fewer than 1,800 coronavirus patients in hospital beds \n",
    "|   | Fewer than 600 coronavirus patients in ICU beds\n",
    "|   | Fewer than 450 coronavirus patients on ventilators\n",
    "|   | Test 135,000 per month, equivalent to 4,500 people per day"
   ]
  },
  {
   "cell_type": "code",
   "execution_count": 1,
   "metadata": {},
   "outputs": [],
   "source": [
    "import altair as alt\n",
    "import numpy as np\n",
    "import pandas as pd\n",
    "import pytz\n",
    "import utils\n",
    "\n",
    "from datetime import date, datetime, timedelta\n",
    "from IPython.display import Markdown\n",
    "\n",
    "US_COUNTY_URL = \"http://lahub.maps.arcgis.com/sharing/rest/content/items/782ca660304a4bdda1cc9757a2504647/data\"\n",
    "LA_CITY_URL = \"https://lahub.maps.arcgis.com/sharing/rest/content/items/7175fba373f541a7a19df56b6a0617f4/data\"\n",
    "TESTING_URL = \"http://lahub.maps.arcgis.com/sharing/rest/content/items/158dab4a07b04ecb8d47fea1746303ac/data\"\n",
    "HOSPITAL_URL = \"http://lahub.maps.arcgis.com/sharing/rest/content/items/3da1eb3e13a14743973c96b945bd1117/data\"\n",
    "CROSSWALK_URL = (\n",
    "    \"https://raw.githubusercontent.com/CityOfLosAngeles/aqueduct/master/dags/public-health/covid19/\"\n",
    "    \"msa_county_pop_crosswalk.csv\"\n",
    ")\n",
    "\n",
    "# Default parameters\n",
    "county_state_name = \"Los Angeles, CA\"\n",
    "state_name = \"California\"\n",
    "msa_name = \"Los Angeles-Long Beach-Anaheim, CA\"\n",
    "time_zone = \"US/Pacific\"\n",
    "start_date = \"4/1/20\"\n",
    "yesterday_date = (\n",
    "    (datetime.today()\n",
    "                .astimezone(pytz.timezone(f'{time_zone}'))\n",
    "                .date()\n",
    "        - timedelta(days=1)\n",
    "    ).strftime(\"%-m/%-d/%y\")\n",
    ")\n",
    "today_date = (\n",
    "    datetime.today()\n",
    "             .astimezone(pytz.timezone(f'{time_zone}'))\n",
    "             .date()\n",
    "             .strftime(\"%-m/%-d/%y\")\n",
    ")"
   ]
  },
  {
   "cell_type": "code",
   "execution_count": 3,
   "metadata": {},
   "outputs": [
    {
     "data": {
      "text/html": [
       "\n",
       "<div id=\"altair-viz-4458a744be7343db9fa9592500142120\"></div>\n",
       "<script type=\"text/javascript\">\n",
       "  (function(spec, embedOpt){\n",
       "    const outputDiv = document.getElementById(\"altair-viz-4458a744be7343db9fa9592500142120\");\n",
       "    const paths = {\n",
       "      \"vega\": \"https://cdn.jsdelivr.net/npm//vega@5?noext\",\n",
       "      \"vega-lib\": \"https://cdn.jsdelivr.net/npm//vega-lib?noext\",\n",
       "      \"vega-lite\": \"https://cdn.jsdelivr.net/npm//vega-lite@4.0.2?noext\",\n",
       "      \"vega-embed\": \"https://cdn.jsdelivr.net/npm//vega-embed@6?noext\",\n",
       "    };\n",
       "\n",
       "    function loadScript(lib) {\n",
       "      return new Promise(function(resolve, reject) {\n",
       "        var s = document.createElement('script');\n",
       "        s.src = paths[lib];\n",
       "        s.async = true;\n",
       "        s.onload = () => resolve(paths[lib]);\n",
       "        s.onerror = () => reject(`Error loading script: ${paths[lib]}`);\n",
       "        document.getElementsByTagName(\"head\")[0].appendChild(s);\n",
       "      });\n",
       "    }\n",
       "\n",
       "    function showError(err) {\n",
       "      outputDiv.innerHTML = `<div class=\"error\" style=\"color:red;\">${err}</div>`;\n",
       "      throw err;\n",
       "    }\n",
       "\n",
       "    function displayChart(vegaEmbed) {\n",
       "      vegaEmbed(outputDiv, spec, embedOpt)\n",
       "        .catch(err => showError(`Javascript Error: ${err.message}<br>This usually means there's a typo in your chart specification. See the javascript console for the full traceback.`));\n",
       "    }\n",
       "\n",
       "    if(typeof define === \"function\" && define.amd) {\n",
       "      requirejs.config({paths});\n",
       "      require([\"vega-embed\"], displayChart, err => showError(`Error loading script: ${err.message}`));\n",
       "    } else if (typeof vegaEmbed === \"function\") {\n",
       "      displayChart(vegaEmbed);\n",
       "    } else {\n",
       "      loadScript(\"vega\")\n",
       "        .then(() => loadScript(\"vega-lite\"))\n",
       "        .then(() => loadScript(\"vega-embed\"))\n",
       "        .catch(showError)\n",
       "        .then(() => displayChart(vegaEmbed));\n",
       "    }\n",
       "  })({\"config\": {\"view\": {\"continuousWidth\": 400, \"continuousHeight\": 300, \"strokeOpacity\": 0}, \"axis\": {\"domainOpacity\": 0.4, \"gridOpacity\": 0.4}, \"title\": {\"anchor\": \"middle\", \"color\": \"black\", \"font\": \"Roboto\", \"fontSize\": 10}}, \"hconcat\": [{\"mark\": \"line\", \"encoding\": {\"color\": {\"value\": \"#0A4C6A\"}, \"x\": {\"type\": \"temporal\", \"field\": \"date\", \"timeUnit\": \"monthdate\", \"title\": \"date\"}, \"y\": {\"type\": \"quantitative\", \"field\": \"cases_avg7\", \"title\": \"7-day avg\"}}, \"height\": 200, \"title\": \"Los Angeles County: New Cases\", \"width\": 250}, {\"mark\": \"line\", \"encoding\": {\"color\": {\"value\": \"#A30F23\"}, \"x\": {\"type\": \"temporal\", \"field\": \"date\", \"timeUnit\": \"monthdate\", \"title\": \"date\"}, \"y\": {\"type\": \"quantitative\", \"field\": \"deaths_avg3\", \"title\": \"3-day avg\"}}, \"height\": 200, \"title\": \"Los Angeles County: New Deaths\", \"width\": 250}], \"data\": {\"name\": \"data-f6a7992d1f5e7991404eb83f1d23a802\"}, \"$schema\": \"https://vega.github.io/schema/vega-lite/v4.0.2.json\", \"datasets\": {\"data-f6a7992d1f5e7991404eb83f1d23a802\": [{\"county\": \"Los Angeles\", \"state\": \"California\", \"state_abbrev\": \"CA\", \"fips\": \"06037\", \"date\": \"2020-03-01T08:00:00+00:00\", \"Lat\": 34.30828379, \"Lon\": -118.22824109999999, \"cases\": 1, \"deaths\": 0, \"new_cases\": 0, \"new_deaths\": 0, \"cases_avg7\": null, \"deaths_avg3\": null, \"deaths_avg7\": null}, {\"county\": \"Los Angeles\", \"state\": \"California\", \"state_abbrev\": \"CA\", \"fips\": \"06037\", \"date\": \"2020-03-02T08:00:00+00:00\", \"Lat\": 34.30828379, \"Lon\": -118.22824109999999, \"cases\": 1, \"deaths\": 0, \"new_cases\": 0, \"new_deaths\": 0, \"cases_avg7\": null, \"deaths_avg3\": null, \"deaths_avg7\": null}, {\"county\": \"Los Angeles\", \"state\": \"California\", \"state_abbrev\": \"CA\", \"fips\": \"06037\", \"date\": \"2020-03-03T08:00:00+00:00\", \"Lat\": 34.30828379, \"Lon\": -118.22824109999999, \"cases\": 1, \"deaths\": 0, \"new_cases\": 0, \"new_deaths\": 0, \"cases_avg7\": null, \"deaths_avg3\": 0.0, \"deaths_avg7\": null}, {\"county\": \"Los Angeles\", \"state\": \"California\", \"state_abbrev\": \"CA\", \"fips\": \"06037\", \"date\": \"2020-03-04T08:00:00+00:00\", \"Lat\": 34.30828379, \"Lon\": -118.22824109999999, \"cases\": 7, \"deaths\": 0, \"new_cases\": 6, \"new_deaths\": 0, \"cases_avg7\": null, \"deaths_avg3\": 0.0, \"deaths_avg7\": null}, {\"county\": \"Los Angeles\", \"state\": \"California\", \"state_abbrev\": \"CA\", \"fips\": \"06037\", \"date\": \"2020-03-05T08:00:00+00:00\", \"Lat\": 34.30828379, \"Lon\": -118.22824109999999, \"cases\": 11, \"deaths\": 0, \"new_cases\": 4, \"new_deaths\": 0, \"cases_avg7\": null, \"deaths_avg3\": 0.0, \"deaths_avg7\": null}, {\"county\": \"Los Angeles\", \"state\": \"California\", \"state_abbrev\": \"CA\", \"fips\": \"06037\", \"date\": \"2020-03-06T08:00:00+00:00\", \"Lat\": 34.30828379, \"Lon\": -118.22824109999999, \"cases\": 13, \"deaths\": 0, \"new_cases\": 2, \"new_deaths\": 0, \"cases_avg7\": null, \"deaths_avg3\": 0.0, \"deaths_avg7\": null}, {\"county\": \"Los Angeles\", \"state\": \"California\", \"state_abbrev\": \"CA\", \"fips\": \"06037\", \"date\": \"2020-03-07T08:00:00+00:00\", \"Lat\": 34.30828379, \"Lon\": -118.22824109999999, \"cases\": 14, \"deaths\": 0, \"new_cases\": 1, \"new_deaths\": 0, \"cases_avg7\": 1.8571428571428572, \"deaths_avg3\": 0.0, \"deaths_avg7\": 0.0}, {\"county\": \"Los Angeles\", \"state\": \"California\", \"state_abbrev\": \"CA\", \"fips\": \"06037\", \"date\": \"2020-03-08T08:00:00+00:00\", \"Lat\": 34.30828379, \"Lon\": -118.22824109999999, \"cases\": 14, \"deaths\": 0, \"new_cases\": 0, \"new_deaths\": 0, \"cases_avg7\": 1.8571428571428572, \"deaths_avg3\": 0.0, \"deaths_avg7\": 0.0}, {\"county\": \"Los Angeles\", \"state\": \"California\", \"state_abbrev\": \"CA\", \"fips\": \"06037\", \"date\": \"2020-03-09T07:00:00+00:00\", \"Lat\": 34.30828379, \"Lon\": -118.22824109999999, \"cases\": 14, \"deaths\": 0, \"new_cases\": 0, \"new_deaths\": 0, \"cases_avg7\": 1.8571428571428572, \"deaths_avg3\": 0.0, \"deaths_avg7\": 0.0}, {\"county\": \"Los Angeles\", \"state\": \"California\", \"state_abbrev\": \"CA\", \"fips\": \"06037\", \"date\": \"2020-03-10T07:00:00+00:00\", \"Lat\": 34.30828379, \"Lon\": -118.22824109999999, \"cases\": 20, \"deaths\": 0, \"new_cases\": 6, \"new_deaths\": 0, \"cases_avg7\": 2.7142857142857144, \"deaths_avg3\": 0.0, \"deaths_avg7\": 0.0}, {\"county\": \"Los Angeles\", \"state\": \"California\", \"state_abbrev\": \"CA\", \"fips\": \"06037\", \"date\": \"2020-03-11T07:00:00+00:00\", \"Lat\": 34.30828379, \"Lon\": -118.22824109999999, \"cases\": 27, \"deaths\": 1, \"new_cases\": 7, \"new_deaths\": 1, \"cases_avg7\": 2.857142857142857, \"deaths_avg3\": 0.3333333333333333, \"deaths_avg7\": 0.14285714285714285}, {\"county\": \"Los Angeles\", \"state\": \"California\", \"state_abbrev\": \"CA\", \"fips\": \"06037\", \"date\": \"2020-03-12T07:00:00+00:00\", \"Lat\": 34.30828379, \"Lon\": -118.22824109999999, \"cases\": 32, \"deaths\": 1, \"new_cases\": 5, \"new_deaths\": 0, \"cases_avg7\": 3.0, \"deaths_avg3\": 0.3333333333333333, \"deaths_avg7\": 0.14285714285714285}, {\"county\": \"Los Angeles\", \"state\": \"California\", \"state_abbrev\": \"CA\", \"fips\": \"06037\", \"date\": \"2020-03-13T07:00:00+00:00\", \"Lat\": 34.30828379, \"Lon\": -118.22824109999999, \"cases\": 40, \"deaths\": 1, \"new_cases\": 8, \"new_deaths\": 0, \"cases_avg7\": 3.857142857142857, \"deaths_avg3\": 0.3333333333333333, \"deaths_avg7\": 0.14285714285714285}, {\"county\": \"Los Angeles\", \"state\": \"California\", \"state_abbrev\": \"CA\", \"fips\": \"06037\", \"date\": \"2020-03-14T07:00:00+00:00\", \"Lat\": 34.30828379, \"Lon\": -118.22824109999999, \"cases\": 53, \"deaths\": 1, \"new_cases\": 13, \"new_deaths\": 0, \"cases_avg7\": 5.571428571428571, \"deaths_avg3\": 0.0, \"deaths_avg7\": 0.14285714285714285}, {\"county\": \"Los Angeles\", \"state\": \"California\", \"state_abbrev\": \"CA\", \"fips\": \"06037\", \"date\": \"2020-03-15T07:00:00+00:00\", \"Lat\": 34.30828379, \"Lon\": -118.22824109999999, \"cases\": 53, \"deaths\": 1, \"new_cases\": 0, \"new_deaths\": 0, \"cases_avg7\": 5.571428571428571, \"deaths_avg3\": 0.0, \"deaths_avg7\": 0.14285714285714285}, {\"county\": \"Los Angeles\", \"state\": \"California\", \"state_abbrev\": \"CA\", \"fips\": \"06037\", \"date\": \"2020-03-16T07:00:00+00:00\", \"Lat\": 34.30828379, \"Lon\": -118.22824109999999, \"cases\": 94, \"deaths\": 1, \"new_cases\": 41, \"new_deaths\": 0, \"cases_avg7\": 11.428571428571429, \"deaths_avg3\": 0.0, \"deaths_avg7\": 0.14285714285714285}, {\"county\": \"Los Angeles\", \"state\": \"California\", \"state_abbrev\": \"CA\", \"fips\": \"06037\", \"date\": \"2020-03-17T07:00:00+00:00\", \"Lat\": 34.30828379, \"Lon\": -118.22824109999999, \"cases\": 144, \"deaths\": 1, \"new_cases\": 50, \"new_deaths\": 0, \"cases_avg7\": 17.714285714285715, \"deaths_avg3\": 0.0, \"deaths_avg7\": 0.14285714285714285}, {\"county\": \"Los Angeles\", \"state\": \"California\", \"state_abbrev\": \"CA\", \"fips\": \"06037\", \"date\": \"2020-03-18T07:00:00+00:00\", \"Lat\": 34.30828379, \"Lon\": -118.22824109999999, \"cases\": 190, \"deaths\": 1, \"new_cases\": 46, \"new_deaths\": 0, \"cases_avg7\": 23.285714285714285, \"deaths_avg3\": 0.0, \"deaths_avg7\": 0.0}, {\"county\": \"Los Angeles\", \"state\": \"California\", \"state_abbrev\": \"CA\", \"fips\": \"06037\", \"date\": \"2020-03-19T07:00:00+00:00\", \"Lat\": 34.30828379, \"Lon\": -118.22824109999999, \"cases\": 231, \"deaths\": 2, \"new_cases\": 41, \"new_deaths\": 1, \"cases_avg7\": 28.428571428571427, \"deaths_avg3\": 0.3333333333333333, \"deaths_avg7\": 0.14285714285714285}, {\"county\": \"Los Angeles\", \"state\": \"California\", \"state_abbrev\": \"CA\", \"fips\": \"06037\", \"date\": \"2020-03-20T07:00:00+00:00\", \"Lat\": 34.30828379, \"Lon\": -118.22824109999999, \"cases\": 292, \"deaths\": 2, \"new_cases\": 61, \"new_deaths\": 0, \"cases_avg7\": 36.0, \"deaths_avg3\": 0.3333333333333333, \"deaths_avg7\": 0.14285714285714285}, {\"county\": \"Los Angeles\", \"state\": \"California\", \"state_abbrev\": \"CA\", \"fips\": \"06037\", \"date\": \"2020-03-21T07:00:00+00:00\", \"Lat\": 34.30828379, \"Lon\": -118.22824109999999, \"cases\": 292, \"deaths\": 2, \"new_cases\": 0, \"new_deaths\": 0, \"cases_avg7\": 34.142857142857146, \"deaths_avg3\": 0.3333333333333333, \"deaths_avg7\": 0.14285714285714285}, {\"county\": \"Los Angeles\", \"state\": \"California\", \"state_abbrev\": \"CA\", \"fips\": \"06037\", \"date\": \"2020-03-22T07:00:00+00:00\", \"Lat\": 34.30828379, \"Lon\": -118.22824109999999, \"cases\": 407, \"deaths\": 5, \"new_cases\": 115, \"new_deaths\": 3, \"cases_avg7\": 50.57142857142857, \"deaths_avg3\": 1.0, \"deaths_avg7\": 0.5714285714285714}, {\"county\": \"Los Angeles\", \"state\": \"California\", \"state_abbrev\": \"CA\", \"fips\": \"06037\", \"date\": \"2020-03-23T07:00:00+00:00\", \"Lat\": 34.30828379, \"Lon\": -118.22824109999999, \"cases\": 536, \"deaths\": 7, \"new_cases\": 129, \"new_deaths\": 2, \"cases_avg7\": 63.142857142857146, \"deaths_avg3\": 1.6666666666666667, \"deaths_avg7\": 0.8571428571428571}, {\"county\": \"Los Angeles\", \"state\": \"California\", \"state_abbrev\": \"CA\", \"fips\": \"06037\", \"date\": \"2020-03-24T07:00:00+00:00\", \"Lat\": 34.30828379, \"Lon\": -118.22824109999999, \"cases\": 662, \"deaths\": 11, \"new_cases\": 126, \"new_deaths\": 4, \"cases_avg7\": 74.0, \"deaths_avg3\": 3.0, \"deaths_avg7\": 1.4285714285714286}, {\"county\": \"Los Angeles\", \"state\": \"California\", \"state_abbrev\": \"CA\", \"fips\": \"06037\", \"date\": \"2020-03-25T07:00:00+00:00\", \"Lat\": 34.30828379, \"Lon\": -118.22824109999999, \"cases\": 812, \"deaths\": 13, \"new_cases\": 150, \"new_deaths\": 2, \"cases_avg7\": 88.85714285714286, \"deaths_avg3\": 2.6666666666666665, \"deaths_avg7\": 1.7142857142857142}, {\"county\": \"Los Angeles\", \"state\": \"California\", \"state_abbrev\": \"CA\", \"fips\": \"06037\", \"date\": \"2020-03-26T07:00:00+00:00\", \"Lat\": 34.30828379, \"Lon\": -118.22824109999999, \"cases\": 1229, \"deaths\": 21, \"new_cases\": 417, \"new_deaths\": 8, \"cases_avg7\": 142.57142857142858, \"deaths_avg3\": 4.666666666666667, \"deaths_avg7\": 2.7142857142857144}, {\"county\": \"Los Angeles\", \"state\": \"California\", \"state_abbrev\": \"CA\", \"fips\": \"06037\", \"date\": \"2020-03-27T07:00:00+00:00\", \"Lat\": 34.30828379, \"Lon\": -118.22824109999999, \"cases\": 1465, \"deaths\": 26, \"new_cases\": 236, \"new_deaths\": 5, \"cases_avg7\": 167.57142857142858, \"deaths_avg3\": 5.0, \"deaths_avg7\": 3.4285714285714284}, {\"county\": \"Los Angeles\", \"state\": \"California\", \"state_abbrev\": \"CA\", \"fips\": \"06037\", \"date\": \"2020-03-28T07:00:00+00:00\", \"Lat\": 34.30828379, \"Lon\": -118.22824109999999, \"cases\": 1465, \"deaths\": 26, \"new_cases\": 0, \"new_deaths\": 0, \"cases_avg7\": 167.57142857142858, \"deaths_avg3\": 4.333333333333333, \"deaths_avg7\": 3.4285714285714284}, {\"county\": \"Los Angeles\", \"state\": \"California\", \"state_abbrev\": \"CA\", \"fips\": \"06037\", \"date\": \"2020-03-29T07:00:00+00:00\", \"Lat\": 34.30828379, \"Lon\": -118.22824109999999, \"cases\": 1829, \"deaths\": 32, \"new_cases\": 364, \"new_deaths\": 6, \"cases_avg7\": 203.14285714285714, \"deaths_avg3\": 3.6666666666666665, \"deaths_avg7\": 3.857142857142857}, {\"county\": \"Los Angeles\", \"state\": \"California\", \"state_abbrev\": \"CA\", \"fips\": \"06037\", \"date\": \"2020-03-30T07:00:00+00:00\", \"Lat\": 34.30828379, \"Lon\": -118.22824109999999, \"cases\": 2474, \"deaths\": 44, \"new_cases\": 645, \"new_deaths\": 12, \"cases_avg7\": 276.85714285714283, \"deaths_avg3\": 6.0, \"deaths_avg7\": 5.285714285714286}, {\"county\": \"Los Angeles\", \"state\": \"California\", \"state_abbrev\": \"CA\", \"fips\": \"06037\", \"date\": \"2020-03-31T07:00:00+00:00\", \"Lat\": 34.30828379, \"Lon\": -118.22824109999999, \"cases\": 3019, \"deaths\": 54, \"new_cases\": 545, \"new_deaths\": 10, \"cases_avg7\": 336.7142857142857, \"deaths_avg3\": 9.333333333333334, \"deaths_avg7\": 6.142857142857143}, {\"county\": \"Los Angeles\", \"state\": \"California\", \"state_abbrev\": \"CA\", \"fips\": \"06037\", \"date\": \"2020-04-01T07:00:00+00:00\", \"Lat\": 34.30828379, \"Lon\": -118.22824109999999, \"cases\": 3518, \"deaths\": 64, \"new_cases\": 499, \"new_deaths\": 10, \"cases_avg7\": 386.57142857142856, \"deaths_avg3\": 10.666666666666666, \"deaths_avg7\": 7.285714285714286}, {\"county\": \"Los Angeles\", \"state\": \"California\", \"state_abbrev\": \"CA\", \"fips\": \"06037\", \"date\": \"2020-04-02T07:00:00+00:00\", \"Lat\": 34.30828379, \"Lon\": -118.22824109999999, \"cases\": 4045, \"deaths\": 78, \"new_cases\": 527, \"new_deaths\": 14, \"cases_avg7\": 402.2857142857143, \"deaths_avg3\": 11.333333333333334, \"deaths_avg7\": 8.142857142857142}, {\"county\": \"Los Angeles\", \"state\": \"California\", \"state_abbrev\": \"CA\", \"fips\": \"06037\", \"date\": \"2020-04-03T07:00:00+00:00\", \"Lat\": 34.30828379, \"Lon\": -118.22824109999999, \"cases\": 4566, \"deaths\": 89, \"new_cases\": 521, \"new_deaths\": 11, \"cases_avg7\": 443.0, \"deaths_avg3\": 11.666666666666666, \"deaths_avg7\": 9.0}, {\"county\": \"Los Angeles\", \"state\": \"California\", \"state_abbrev\": \"CA\", \"fips\": \"06037\", \"date\": \"2020-04-04T07:00:00+00:00\", \"Lat\": 34.30828379, \"Lon\": -118.22824109999999, \"cases\": 4605, \"deaths\": 93, \"new_cases\": 39, \"new_deaths\": 4, \"cases_avg7\": 448.57142857142856, \"deaths_avg3\": 9.666666666666666, \"deaths_avg7\": 9.571428571428571}, {\"county\": \"Los Angeles\", \"state\": \"California\", \"state_abbrev\": \"CA\", \"fips\": \"06037\", \"date\": \"2020-04-05T07:00:00+00:00\", \"Lat\": 34.30828379, \"Lon\": -118.22824109999999, \"cases\": 5955, \"deaths\": 132, \"new_cases\": 1350, \"new_deaths\": 39, \"cases_avg7\": 589.4285714285714, \"deaths_avg3\": 18.0, \"deaths_avg7\": 14.285714285714286}, {\"county\": \"Los Angeles\", \"state\": \"California\", \"state_abbrev\": \"CA\", \"fips\": \"06037\", \"date\": \"2020-04-06T07:00:00+00:00\", \"Lat\": 34.30828379, \"Lon\": -118.22824109999999, \"cases\": 6377, \"deaths\": 147, \"new_cases\": 422, \"new_deaths\": 15, \"cases_avg7\": 557.5714285714286, \"deaths_avg3\": 19.333333333333332, \"deaths_avg7\": 14.714285714285714}, {\"county\": \"Los Angeles\", \"state\": \"California\", \"state_abbrev\": \"CA\", \"fips\": \"06037\", \"date\": \"2020-04-07T07:00:00+00:00\", \"Lat\": 34.30828379, \"Lon\": -118.22824109999999, \"cases\": 6936, \"deaths\": 169, \"new_cases\": 559, \"new_deaths\": 22, \"cases_avg7\": 559.5714285714286, \"deaths_avg3\": 25.333333333333332, \"deaths_avg7\": 16.428571428571427}, {\"county\": \"Los Angeles\", \"state\": \"California\", \"state_abbrev\": \"CA\", \"fips\": \"06037\", \"date\": \"2020-04-08T07:00:00+00:00\", \"Lat\": 34.30828379, \"Lon\": -118.22824109999999, \"cases\": 7559, \"deaths\": 198, \"new_cases\": 623, \"new_deaths\": 29, \"cases_avg7\": 577.2857142857143, \"deaths_avg3\": 22.0, \"deaths_avg7\": 19.142857142857142}, {\"county\": \"Los Angeles\", \"state\": \"California\", \"state_abbrev\": \"CA\", \"fips\": \"06037\", \"date\": \"2020-04-09T07:00:00+00:00\", \"Lat\": 34.30828379, \"Lon\": -118.22824109999999, \"cases\": 7955, \"deaths\": 223, \"new_cases\": 396, \"new_deaths\": 25, \"cases_avg7\": 558.5714285714286, \"deaths_avg3\": 25.333333333333332, \"deaths_avg7\": 20.714285714285715}, {\"county\": \"Los Angeles\", \"state\": \"California\", \"state_abbrev\": \"CA\", \"fips\": \"06037\", \"date\": \"2020-04-10T07:00:00+00:00\", \"Lat\": 34.30828379, \"Lon\": -118.22824109999999, \"cases\": 8443, \"deaths\": 242, \"new_cases\": 488, \"new_deaths\": 19, \"cases_avg7\": 553.8571428571429, \"deaths_avg3\": 24.333333333333332, \"deaths_avg7\": 21.857142857142858}, {\"county\": \"Los Angeles\", \"state\": \"California\", \"state_abbrev\": \"CA\", \"fips\": \"06037\", \"date\": \"2020-04-11T07:00:00+00:00\", \"Lat\": 34.30828379, \"Lon\": -118.22824109999999, \"cases\": 8453, \"deaths\": 244, \"new_cases\": 10, \"new_deaths\": 2, \"cases_avg7\": 549.7142857142857, \"deaths_avg3\": 15.333333333333334, \"deaths_avg7\": 21.571428571428573}, {\"county\": \"Los Angeles\", \"state\": \"California\", \"state_abbrev\": \"CA\", \"fips\": \"06037\", \"date\": \"2020-04-12T07:00:00+00:00\", \"Lat\": 34.30828379, \"Lon\": -118.22824109999999, \"cases\": 8894, \"deaths\": 269, \"new_cases\": 441, \"new_deaths\": 25, \"cases_avg7\": 419.85714285714283, \"deaths_avg3\": 15.333333333333334, \"deaths_avg7\": 19.571428571428573}, {\"county\": \"Los Angeles\", \"state\": \"California\", \"state_abbrev\": \"CA\", \"fips\": \"06037\", \"date\": \"2020-04-13T07:00:00+00:00\", \"Lat\": 34.30828379, \"Lon\": -118.22824109999999, \"cases\": 9433, \"deaths\": 322, \"new_cases\": 539, \"new_deaths\": 53, \"cases_avg7\": 436.57142857142856, \"deaths_avg3\": 26.666666666666668, \"deaths_avg7\": 25.0}, {\"county\": \"Los Angeles\", \"state\": \"California\", \"state_abbrev\": \"CA\", \"fips\": \"06037\", \"date\": \"2020-04-14T07:00:00+00:00\", \"Lat\": 34.30828379, \"Lon\": -118.22824109999999, \"cases\": 10047, \"deaths\": 360, \"new_cases\": 614, \"new_deaths\": 38, \"cases_avg7\": 444.42857142857144, \"deaths_avg3\": 38.666666666666664, \"deaths_avg7\": 27.285714285714285}, {\"county\": \"Los Angeles\", \"state\": \"California\", \"state_abbrev\": \"CA\", \"fips\": \"06037\", \"date\": \"2020-04-15T07:00:00+00:00\", \"Lat\": 34.30828379, \"Lon\": -118.22824109999999, \"cases\": 10517, \"deaths\": 405, \"new_cases\": 470, \"new_deaths\": 45, \"cases_avg7\": 422.57142857142856, \"deaths_avg3\": 45.333333333333336, \"deaths_avg7\": 29.571428571428573}, {\"county\": \"Los Angeles\", \"state\": \"California\", \"state_abbrev\": \"CA\", \"fips\": \"06037\", \"date\": \"2020-04-16T07:00:00+00:00\", \"Lat\": 34.30828379, \"Lon\": -118.22824109999999, \"cases\": 10854, \"deaths\": 457, \"new_cases\": 337, \"new_deaths\": 52, \"cases_avg7\": 414.14285714285717, \"deaths_avg3\": 45.0, \"deaths_avg7\": 33.42857142857143}, {\"county\": \"Los Angeles\", \"state\": \"California\", \"state_abbrev\": \"CA\", \"fips\": \"06037\", \"date\": \"2020-04-17T07:00:00+00:00\", \"Lat\": 34.30828379, \"Lon\": -118.22824109999999, \"cases\": 11400, \"deaths\": 497, \"new_cases\": 546, \"new_deaths\": 40, \"cases_avg7\": 422.42857142857144, \"deaths_avg3\": 45.666666666666664, \"deaths_avg7\": 36.42857142857143}, {\"county\": \"Los Angeles\", \"state\": \"California\", \"state_abbrev\": \"CA\", \"fips\": \"06037\", \"date\": \"2020-04-18T07:00:00+00:00\", \"Lat\": 34.30828379, \"Lon\": -118.22824109999999, \"cases\": 12021, \"deaths\": 576, \"new_cases\": 621, \"new_deaths\": 79, \"cases_avg7\": 509.7142857142857, \"deaths_avg3\": 57.0, \"deaths_avg7\": 47.42857142857143}, {\"county\": \"Los Angeles\", \"state\": \"California\", \"state_abbrev\": \"CA\", \"fips\": \"06037\", \"date\": \"2020-04-19T07:00:00+00:00\", \"Lat\": 34.30828379, \"Lon\": -118.22824109999999, \"cases\": 12341, \"deaths\": 600, \"new_cases\": 320, \"new_deaths\": 24, \"cases_avg7\": 492.42857142857144, \"deaths_avg3\": 47.666666666666664, \"deaths_avg7\": 47.285714285714285}, {\"county\": \"Los Angeles\", \"state\": \"California\", \"state_abbrev\": \"CA\", \"fips\": \"06037\", \"date\": \"2020-04-20T07:00:00+00:00\", \"Lat\": 34.30828379, \"Lon\": -118.22824109999999, \"cases\": 13823, \"deaths\": 619, \"new_cases\": 1482, \"new_deaths\": 19, \"cases_avg7\": 627.1428571428571, \"deaths_avg3\": 40.666666666666664, \"deaths_avg7\": 42.42857142857143}, {\"county\": \"Los Angeles\", \"state\": \"California\", \"state_abbrev\": \"CA\", \"fips\": \"06037\", \"date\": \"2020-04-21T07:00:00+00:00\", \"Lat\": 34.30828379, \"Lon\": -118.22824109999999, \"cases\": 15153, \"deaths\": 663, \"new_cases\": 1330, \"new_deaths\": 44, \"cases_avg7\": 729.4285714285714, \"deaths_avg3\": 29.0, \"deaths_avg7\": 43.285714285714285}, {\"county\": \"Los Angeles\", \"state\": \"California\", \"state_abbrev\": \"CA\", \"fips\": \"06037\", \"date\": \"2020-04-22T07:00:00+00:00\", \"Lat\": 34.30828379, \"Lon\": -118.22824109999999, \"cases\": 16447, \"deaths\": 732, \"new_cases\": 1294, \"new_deaths\": 69, \"cases_avg7\": 847.1428571428571, \"deaths_avg3\": 44.0, \"deaths_avg7\": 46.714285714285715}, {\"county\": \"Los Angeles\", \"state\": \"California\", \"state_abbrev\": \"CA\", \"fips\": \"06037\", \"date\": \"2020-04-23T07:00:00+00:00\", \"Lat\": 34.30828379, \"Lon\": -118.22824109999999, \"cases\": 17537, \"deaths\": 797, \"new_cases\": 1090, \"new_deaths\": 65, \"cases_avg7\": 954.7142857142857, \"deaths_avg3\": 59.333333333333336, \"deaths_avg7\": 48.57142857142857}, {\"county\": \"Los Angeles\", \"state\": \"California\", \"state_abbrev\": \"CA\", \"fips\": \"06037\", \"date\": \"2020-04-24T07:00:00+00:00\", \"Lat\": 34.30828379, \"Lon\": -118.22824109999999, \"cases\": 18545, \"deaths\": 850, \"new_cases\": 1008, \"new_deaths\": 53, \"cases_avg7\": 1020.7142857142857, \"deaths_avg3\": 62.333333333333336, \"deaths_avg7\": 50.42857142857143}, {\"county\": \"Los Angeles\", \"state\": \"California\", \"state_abbrev\": \"CA\", \"fips\": \"06037\", \"date\": \"2020-04-25T07:00:00+00:00\", \"Lat\": 34.30828379, \"Lon\": -118.22824109999999, \"cases\": 19133, \"deaths\": 895, \"new_cases\": 588, \"new_deaths\": 45, \"cases_avg7\": 1016.0, \"deaths_avg3\": 54.333333333333336, \"deaths_avg7\": 45.57142857142857}, {\"county\": \"Los Angeles\", \"state\": \"California\", \"state_abbrev\": \"CA\", \"fips\": \"06037\", \"date\": \"2020-04-26T07:00:00+00:00\", \"Lat\": 34.30828379, \"Lon\": -118.22824109999999, \"cases\": 19567, \"deaths\": 916, \"new_cases\": 434, \"new_deaths\": 21, \"cases_avg7\": 1032.2857142857142, \"deaths_avg3\": 39.666666666666664, \"deaths_avg7\": 45.142857142857146}, {\"county\": \"Los Angeles\", \"state\": \"California\", \"state_abbrev\": \"CA\", \"fips\": \"06037\", \"date\": \"2020-04-27T07:00:00+00:00\", \"Lat\": 34.30828379, \"Lon\": -118.22824109999999, \"cases\": 20423, \"deaths\": 944, \"new_cases\": 856, \"new_deaths\": 28, \"cases_avg7\": 942.8571428571429, \"deaths_avg3\": 31.333333333333332, \"deaths_avg7\": 46.42857142857143}, {\"county\": \"Los Angeles\", \"state\": \"California\", \"state_abbrev\": \"CA\", \"fips\": \"06037\", \"date\": \"2020-04-28T07:00:00+00:00\", \"Lat\": 34.30828379, \"Lon\": -118.22824109999999, \"cases\": 20996, \"deaths\": 1002, \"new_cases\": 573, \"new_deaths\": 58, \"cases_avg7\": 834.7142857142857, \"deaths_avg3\": 35.666666666666664, \"deaths_avg7\": 48.42857142857143}, {\"county\": \"Los Angeles\", \"state\": \"California\", \"state_abbrev\": \"CA\", \"fips\": \"06037\", \"date\": \"2020-04-29T07:00:00+00:00\", \"Lat\": 34.30828379, \"Lon\": -118.22824109999999, \"cases\": 22485, \"deaths\": 1056, \"new_cases\": 1489, \"new_deaths\": 54, \"cases_avg7\": 862.5714285714286, \"deaths_avg3\": 46.666666666666664, \"deaths_avg7\": 46.285714285714285}, {\"county\": \"Los Angeles\", \"state\": \"California\", \"state_abbrev\": \"CA\", \"fips\": \"06037\", \"date\": \"2020-04-30T07:00:00+00:00\", \"Lat\": 34.30828379, \"Lon\": -118.22824109999999, \"cases\": 23220, \"deaths\": 1111, \"new_cases\": 735, \"new_deaths\": 55, \"cases_avg7\": 811.8571428571429, \"deaths_avg3\": 55.666666666666664, \"deaths_avg7\": 44.857142857142854}, {\"county\": \"Los Angeles\", \"state\": \"California\", \"state_abbrev\": \"CA\", \"fips\": \"06037\", \"date\": \"2020-05-01T07:00:00+00:00\", \"Lat\": 34.30828379, \"Lon\": -118.22824109999999, \"cases\": 24262, \"deaths\": 1174, \"new_cases\": 1042, \"new_deaths\": 63, \"cases_avg7\": 816.7142857142857, \"deaths_avg3\": 57.333333333333336, \"deaths_avg7\": 46.285714285714285}, {\"county\": \"Los Angeles\", \"state\": \"California\", \"state_abbrev\": \"CA\", \"fips\": \"06037\", \"date\": \"2020-05-02T07:00:00+00:00\", \"Lat\": 34.30828379, \"Lon\": -118.22824109999999, \"cases\": 24894, \"deaths\": 1209, \"new_cases\": 632, \"new_deaths\": 35, \"cases_avg7\": 823.0, \"deaths_avg3\": 51.0, \"deaths_avg7\": 44.857142857142854}, {\"county\": \"Los Angeles\", \"state\": \"California\", \"state_abbrev\": \"CA\", \"fips\": \"06037\", \"date\": \"2020-05-03T07:00:00+00:00\", \"Lat\": 34.30828379, \"Lon\": -118.22824109999999, \"cases\": 25699, \"deaths\": 1231, \"new_cases\": 805, \"new_deaths\": 22, \"cases_avg7\": 876.0, \"deaths_avg3\": 40.0, \"deaths_avg7\": 45.0}, {\"county\": \"Los Angeles\", \"state\": \"California\", \"state_abbrev\": \"CA\", \"fips\": \"06037\", \"date\": \"2020-05-04T07:00:00+00:00\", \"Lat\": 34.30828379, \"Lon\": -118.22824109999999, \"cases\": 26225, \"deaths\": 1257, \"new_cases\": 526, \"new_deaths\": 26, \"cases_avg7\": 828.8571428571429, \"deaths_avg3\": 27.666666666666668, \"deaths_avg7\": 44.714285714285715}, {\"county\": \"Los Angeles\", \"state\": \"California\", \"state_abbrev\": \"CA\", \"fips\": \"06037\", \"date\": \"2020-05-05T07:00:00+00:00\", \"Lat\": 34.30828379, \"Lon\": -118.22824109999999, \"cases\": 27836, \"deaths\": 1315, \"new_cases\": 1611, \"new_deaths\": 58, \"cases_avg7\": 977.1428571428571, \"deaths_avg3\": 35.333333333333336, \"deaths_avg7\": 44.714285714285715}, {\"county\": \"Los Angeles\", \"state\": \"California\", \"state_abbrev\": \"CA\", \"fips\": \"06037\", \"date\": \"2020-05-06T07:00:00+00:00\", \"Lat\": 34.30828379, \"Lon\": -118.22824109999999, \"cases\": 28665, \"deaths\": 1369, \"new_cases\": 829, \"new_deaths\": 54, \"cases_avg7\": 882.8571428571429, \"deaths_avg3\": 46.0, \"deaths_avg7\": 44.714285714285715}, {\"county\": \"Los Angeles\", \"state\": \"California\", \"state_abbrev\": \"CA\", \"fips\": \"06037\", \"date\": \"2020-05-07T07:00:00+00:00\", \"Lat\": 34.30828379, \"Lon\": -118.22824109999999, \"cases\": 29511, \"deaths\": 1418, \"new_cases\": 846, \"new_deaths\": 49, \"cases_avg7\": 898.7142857142857, \"deaths_avg3\": 53.666666666666664, \"deaths_avg7\": 43.857142857142854}, {\"county\": \"Los Angeles\", \"state\": \"California\", \"state_abbrev\": \"CA\", \"fips\": \"06037\", \"date\": \"2020-05-08T07:00:00+00:00\", \"Lat\": 34.30828379, \"Lon\": -118.22824109999999, \"cases\": 30319, \"deaths\": 1470, \"new_cases\": 808, \"new_deaths\": 52, \"cases_avg7\": 865.2857142857143, \"deaths_avg3\": 51.666666666666664, \"deaths_avg7\": 42.285714285714285}, {\"county\": \"Los Angeles\", \"state\": \"California\", \"state_abbrev\": \"CA\", \"fips\": \"06037\", \"date\": \"2020-05-09T07:00:00+00:00\", \"Lat\": 34.30828379, \"Lon\": -118.22824109999999, \"cases\": 31241, \"deaths\": 1515, \"new_cases\": 922, \"new_deaths\": 45, \"cases_avg7\": 906.7142857142857, \"deaths_avg3\": 48.666666666666664, \"deaths_avg7\": 43.714285714285715}, {\"county\": \"Los Angeles\", \"state\": \"California\", \"state_abbrev\": \"CA\", \"fips\": \"06037\", \"date\": \"2020-05-10T07:00:00+00:00\", \"Lat\": 34.30828379, \"Lon\": -118.22824109999999, \"cases\": 31703, \"deaths\": 1531, \"new_cases\": 462, \"new_deaths\": 16, \"cases_avg7\": 857.7142857142857, \"deaths_avg3\": 37.666666666666664, \"deaths_avg7\": 42.857142857142854}, {\"county\": \"Los Angeles\", \"state\": \"California\", \"state_abbrev\": \"CA\", \"fips\": \"06037\", \"date\": \"2020-05-11T07:00:00+00:00\", \"Lat\": 34.30828379, \"Lon\": -118.22824109999999, \"cases\": 32263, \"deaths\": 1570, \"new_cases\": 560, \"new_deaths\": 39, \"cases_avg7\": 862.5714285714286, \"deaths_avg3\": 33.333333333333336, \"deaths_avg7\": 44.714285714285715}, {\"county\": \"Los Angeles\", \"state\": \"California\", \"state_abbrev\": \"CA\", \"fips\": \"06037\", \"date\": \"2020-05-12T07:00:00+00:00\", \"Lat\": 34.30828379, \"Lon\": -118.22824109999999, \"cases\": 33211, \"deaths\": 1616, \"new_cases\": 948, \"new_deaths\": 46, \"cases_avg7\": 767.8571428571429, \"deaths_avg3\": 33.666666666666664, \"deaths_avg7\": 43.0}, {\"county\": \"Los Angeles\", \"state\": \"California\", \"state_abbrev\": \"CA\", \"fips\": \"06037\", \"date\": \"2020-05-13T07:00:00+00:00\", \"Lat\": 34.30828379, \"Lon\": -118.22824109999999, \"cases\": 34538, \"deaths\": 1660, \"new_cases\": 1327, \"new_deaths\": 44, \"cases_avg7\": 839.0, \"deaths_avg3\": 43.0, \"deaths_avg7\": 41.57142857142857}, {\"county\": \"Los Angeles\", \"state\": \"California\", \"state_abbrev\": \"CA\", \"fips\": \"06037\", \"date\": \"2020-05-14T07:00:00+00:00\", \"Lat\": 34.30828379, \"Lon\": -118.22824109999999, \"cases\": 35392, \"deaths\": 1711, \"new_cases\": 854, \"new_deaths\": 51, \"cases_avg7\": 840.1428571428571, \"deaths_avg3\": 47.0, \"deaths_avg7\": 41.857142857142854}, {\"county\": \"Los Angeles\", \"state\": \"California\", \"state_abbrev\": \"CA\", \"fips\": \"06037\", \"date\": \"2020-05-15T07:00:00+00:00\", \"Lat\": 34.30828379, \"Lon\": -118.22824109999999, \"cases\": 36316, \"deaths\": 1753, \"new_cases\": 924, \"new_deaths\": 42, \"cases_avg7\": 856.7142857142857, \"deaths_avg3\": 45.666666666666664, \"deaths_avg7\": 40.42857142857143}, {\"county\": \"Los Angeles\", \"state\": \"California\", \"state_abbrev\": \"CA\", \"fips\": \"06037\", \"date\": \"2020-05-16T07:00:00+00:00\", \"Lat\": 34.30828379, \"Lon\": -118.22824109999999, \"cases\": 37360, \"deaths\": 1793, \"new_cases\": 1044, \"new_deaths\": 40, \"cases_avg7\": 874.1428571428571, \"deaths_avg3\": 44.333333333333336, \"deaths_avg7\": 39.714285714285715}, {\"county\": \"Los Angeles\", \"state\": \"California\", \"state_abbrev\": \"CA\", \"fips\": \"06037\", \"date\": \"2020-05-17T07:00:00+00:00\", \"Lat\": 34.30828379, \"Lon\": -118.22824109999999, \"cases\": 38011, \"deaths\": 1821, \"new_cases\": 651, \"new_deaths\": 28, \"cases_avg7\": 901.1428571428571, \"deaths_avg3\": 36.666666666666664, \"deaths_avg7\": 41.42857142857143}, {\"county\": \"Los Angeles\", \"state\": \"California\", \"state_abbrev\": \"CA\", \"fips\": \"06037\", \"date\": \"2020-05-18T07:00:00+00:00\", \"Lat\": 34.30828379, \"Lon\": -118.22824109999999, \"cases\": 38458, \"deaths\": 1840, \"new_cases\": 447, \"new_deaths\": 19, \"cases_avg7\": 885.0, \"deaths_avg3\": 29.0, \"deaths_avg7\": 38.57142857142857}, {\"county\": \"Los Angeles\", \"state\": \"California\", \"state_abbrev\": \"CA\", \"fips\": \"06037\", \"date\": \"2020-05-19T07:00:00+00:00\", \"Lat\": 34.30828379, \"Lon\": -118.22824109999999, \"cases\": 38466, \"deaths\": 1842, \"new_cases\": 8, \"new_deaths\": 2, \"cases_avg7\": 750.7142857142857, \"deaths_avg3\": 16.333333333333332, \"deaths_avg7\": 32.285714285714285}]}}, {\"mode\": \"vega-lite\"});\n",
       "</script>"
      ],
      "text/plain": [
       "alt.HConcatChart(...)"
      ]
     },
     "metadata": {},
     "output_type": "display_data"
    },
    {
     "data": {
      "text/html": [
       "\n",
       "<div id=\"altair-viz-bedee72f56b748a88d6c005576daca8b\"></div>\n",
       "<script type=\"text/javascript\">\n",
       "  (function(spec, embedOpt){\n",
       "    const outputDiv = document.getElementById(\"altair-viz-bedee72f56b748a88d6c005576daca8b\");\n",
       "    const paths = {\n",
       "      \"vega\": \"https://cdn.jsdelivr.net/npm//vega@5?noext\",\n",
       "      \"vega-lib\": \"https://cdn.jsdelivr.net/npm//vega-lib?noext\",\n",
       "      \"vega-lite\": \"https://cdn.jsdelivr.net/npm//vega-lite@4.0.2?noext\",\n",
       "      \"vega-embed\": \"https://cdn.jsdelivr.net/npm//vega-embed@6?noext\",\n",
       "    };\n",
       "\n",
       "    function loadScript(lib) {\n",
       "      return new Promise(function(resolve, reject) {\n",
       "        var s = document.createElement('script');\n",
       "        s.src = paths[lib];\n",
       "        s.async = true;\n",
       "        s.onload = () => resolve(paths[lib]);\n",
       "        s.onerror = () => reject(`Error loading script: ${paths[lib]}`);\n",
       "        document.getElementsByTagName(\"head\")[0].appendChild(s);\n",
       "      });\n",
       "    }\n",
       "\n",
       "    function showError(err) {\n",
       "      outputDiv.innerHTML = `<div class=\"error\" style=\"color:red;\">${err}</div>`;\n",
       "      throw err;\n",
       "    }\n",
       "\n",
       "    function displayChart(vegaEmbed) {\n",
       "      vegaEmbed(outputDiv, spec, embedOpt)\n",
       "        .catch(err => showError(`Javascript Error: ${err.message}<br>This usually means there's a typo in your chart specification. See the javascript console for the full traceback.`));\n",
       "    }\n",
       "\n",
       "    if(typeof define === \"function\" && define.amd) {\n",
       "      requirejs.config({paths});\n",
       "      require([\"vega-embed\"], displayChart, err => showError(`Error loading script: ${err.message}`));\n",
       "    } else if (typeof vegaEmbed === \"function\") {\n",
       "      displayChart(vegaEmbed);\n",
       "    } else {\n",
       "      loadScript(\"vega\")\n",
       "        .then(() => loadScript(\"vega-lite\"))\n",
       "        .then(() => loadScript(\"vega-embed\"))\n",
       "        .catch(showError)\n",
       "        .then(() => displayChart(vegaEmbed));\n",
       "    }\n",
       "  })({\"config\": {\"view\": {\"continuousWidth\": 400, \"continuousHeight\": 300, \"strokeOpacity\": 0}, \"axis\": {\"domainOpacity\": 0.4, \"gridOpacity\": 0.4}, \"title\": {\"anchor\": \"middle\", \"color\": \"black\", \"font\": \"Roboto\", \"fontSize\": 10}}, \"data\": {\"name\": \"data-20389775925a559f8c55a48de712d4bf\"}, \"mark\": \"line\", \"encoding\": {\"color\": {\"value\": \"#0A4C6A\"}, \"x\": {\"type\": \"temporal\", \"field\": \"date\", \"timeUnit\": \"monthdate\", \"title\": \"date\"}, \"y\": {\"type\": \"quantitative\", \"field\": \"cases_avg7\", \"title\": \"7-day avg\"}}, \"height\": 200, \"title\": \"City of LA: New Cases\", \"width\": 250, \"$schema\": \"https://vega.github.io/schema/vega-lite/v4.0.2.json\", \"datasets\": {\"data-20389775925a559f8c55a48de712d4bf\": [{\"Date\": \"2020-05-01\", \"cases\": 11553, \"new_cases\": 690, \"date\": \"2020-05-01T00:00:00\", \"cases_avg7\": null}, {\"Date\": \"2020-05-02\", \"cases\": 11908, \"new_cases\": 355, \"date\": \"2020-05-02T00:00:00\", \"cases_avg7\": null}, {\"Date\": \"2020-05-03\", \"cases\": 12300, \"new_cases\": 392, \"date\": \"2020-05-03T00:00:00\", \"cases_avg7\": null}, {\"Date\": \"2020-05-04\", \"cases\": 12525, \"new_cases\": 225, \"date\": \"2020-05-04T00:00:00\", \"cases_avg7\": null}, {\"Date\": \"2020-05-05\", \"cases\": 13468, \"new_cases\": 943, \"date\": \"2020-05-05T00:00:00\", \"cases_avg7\": null}, {\"Date\": \"2020-05-06\", \"cases\": 13868, \"new_cases\": 400, \"date\": \"2020-05-06T00:00:00\", \"cases_avg7\": null}, {\"Date\": \"2020-05-07\", \"cases\": 14253, \"new_cases\": 385, \"date\": \"2020-05-07T00:00:00\", \"cases_avg7\": 484.2857142857143}, {\"Date\": \"2020-05-08\", \"cases\": 14563, \"new_cases\": 310, \"date\": \"2020-05-08T00:00:00\", \"cases_avg7\": 430.0}, {\"Date\": \"2020-05-09\", \"cases\": 15015, \"new_cases\": 452, \"date\": \"2020-05-09T00:00:00\", \"cases_avg7\": 443.85714285714283}, {\"Date\": \"2020-05-10\", \"cases\": 15223, \"new_cases\": 208, \"date\": \"2020-05-10T00:00:00\", \"cases_avg7\": 417.57142857142856}, {\"Date\": \"2020-05-11\", \"cases\": 15568, \"new_cases\": 345, \"date\": \"2020-05-11T00:00:00\", \"cases_avg7\": 434.7142857142857}, {\"Date\": \"2020-05-12\", \"cases\": 16065, \"new_cases\": 497, \"date\": \"2020-05-12T00:00:00\", \"cases_avg7\": 371.0}, {\"Date\": \"2020-05-13\", \"cases\": 16610, \"new_cases\": 545, \"date\": \"2020-05-13T00:00:00\", \"cases_avg7\": 391.7142857142857}, {\"Date\": \"2020-05-14\", \"cases\": 17037, \"new_cases\": 427, \"date\": \"2020-05-14T00:00:00\", \"cases_avg7\": 397.7142857142857}, {\"Date\": \"2020-05-15\", \"cases\": 17432, \"new_cases\": 395, \"date\": \"2020-05-15T00:00:00\", \"cases_avg7\": 409.85714285714283}, {\"Date\": \"2020-05-16\", \"cases\": 17969, \"new_cases\": 537, \"date\": \"2020-05-16T00:00:00\", \"cases_avg7\": 422.0}, {\"Date\": \"2020-05-17\", \"cases\": 18304, \"new_cases\": 335, \"date\": \"2020-05-17T00:00:00\", \"cases_avg7\": 440.14285714285717}, {\"Date\": \"2020-05-18\", \"cases\": 18540, \"new_cases\": 236, \"date\": \"2020-05-18T00:00:00\", \"cases_avg7\": 424.57142857142856}]}}, {\"mode\": \"vega-lite\"});\n",
       "</script>"
      ],
      "text/plain": [
       "alt.Chart(...)"
      ]
     },
     "metadata": {},
     "output_type": "display_data"
    }
   ],
   "source": [
    "la_county = utils.case_indicators_county(\"Los Angeles, CA\", \"3/1/20\")\n",
    "la_city = utils.case_indicators_lacity(\"5/1/20\")\n",
    "#ca = utils.case_indicators_state(\"California\", \"3/1/20\")\n",
    "#la_msa = utils.case_indicators_msa(\"Los Angeles\", \"3/1/20\")"
   ]
  },
  {
   "cell_type": "markdown",
   "metadata": {},
   "source": [
    "## Testing Indicators"
   ]
  },
  {
   "cell_type": "code",
   "execution_count": null,
   "metadata": {},
   "outputs": [],
   "source": [
    "# Add share of positive tests -- we can't do because we don't have direct testing data \n",
    "# that breaks down total with positive and negative results\n",
    "# Can do it at weekly level, probably"
   ]
  },
  {
   "cell_type": "code",
   "execution_count": null,
   "metadata": {},
   "outputs": [],
   "source": [
    "daily_tests = utils.testing_lacity('4/1/20', 'daily', 10_000, 16_667)\n",
    "monthly_tests = utils.testing_lacity('4/1/20', 'monthly', 300_000, 500_000)"
   ]
  },
  {
   "cell_type": "code",
   "execution_count": null,
   "metadata": {},
   "outputs": [],
   "source": [
    "yesterday_date = datetime.today().astimezone(pytz.timezone(\"America/Los_Angeles\")).date() - timedelta(days=1)\n",
    "yesterday_date = yesterday_date.strftime(\"%-m/%-d/%y\")\n",
    "\n",
    "lower_bound = 10_000\n",
    "upper_bound = 16_667\n",
    "\n",
    "def testing_meet_indicators(yesterday_date, lower_bound, upper_bound):\n",
    "    \"\"\"\n",
    "    Returns a red or green indicator based on yesterday's results.\n",
    "    \"\"\"\n",
    "    # New cases (which day out of 14 has it been declining?)\n",
    "    # New deaths (which day out of 14 has it been declining?)\n",
    "    # Hospital capacity\n",
    "\n",
    "    # Daily testing\n",
    "    test_indicator = daily_tests[daily_tests.Date==yesterday_date].iloc[0][\"Performed\"]\n",
    "\n",
    "    if test_indicator < lower_bound:\n",
    "        return \"red\"\n",
    "    elif test_indicator >= lower_bound:\n",
    "        return \"green\"\n",
    "    elif test_indicator >= upper_bound:\n",
    "        return \"blue\"\n",
    "    \n",
    "test_indicator_color = testing_meet_indicators(yesterday_date, lower_bound, upper_bound)\n",
    "#print(test_indicator_color)\n",
    "display(Markdown(f\"<span style='color:{test_indicator_color}'> Daily Testing </span>\"))"
   ]
  },
  {
   "cell_type": "markdown",
   "metadata": {},
   "source": [
    "## Hospital Capacity Indicators"
   ]
  },
  {
   "cell_type": "code",
   "execution_count": null,
   "metadata": {},
   "outputs": [],
   "source": [
    "hospital = utils.hospital_capacity_lacity(\"4/1/20\")"
   ]
  },
  {
   "cell_type": "markdown",
   "metadata": {},
   "source": [
    "# Markdown Red/ Green Indicator \n",
    "* The next cell displays in the color red or green "
   ]
  },
  {
   "cell_type": "code",
   "execution_count": null,
   "metadata": {},
   "outputs": [],
   "source": [
    "def red_green():\n",
    "    \"\"\"\n",
    "    returns a random \"red\" or \"green\" text in markdown.\n",
    "    \"\"\"\n",
    "    return np.random.choice(['green', 'red'])\n",
    "\n",
    "color = red_green()\n",
    "print(color)\n",
    "display(Markdown(f'<span style=\"color:{color}\">some *blue* text</span>.'))"
   ]
  },
  {
   "cell_type": "code",
   "execution_count": null,
   "metadata": {},
   "outputs": [],
   "source": [
    "\"\"\"To convert to HTML: \n",
    "jupyter nbconvert --to html --no-input --no-prompt my-notebook.ipynb\n",
    "\"\"\""
   ]
  },
  {
   "cell_type": "code",
   "execution_count": null,
   "metadata": {},
   "outputs": [],
   "source": []
  }
 ],
 "metadata": {
  "kernelspec": {
   "display_name": "Python 3",
   "language": "python",
   "name": "python3"
  },
  "language_info": {
   "codemirror_mode": {
    "name": "ipython",
    "version": 3
   },
   "file_extension": ".py",
   "mimetype": "text/x-python",
   "name": "python",
   "nbconvert_exporter": "python",
   "pygments_lexer": "ipython3",
   "version": "3.7.3"
  }
 },
 "nbformat": 4,
 "nbformat_minor": 4
}
