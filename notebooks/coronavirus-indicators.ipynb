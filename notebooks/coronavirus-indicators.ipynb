{
 "cells": [
  {
   "cell_type": "markdown",
   "metadata": {},
   "source": [
    "# LA's COVID-19 Reopening / Recovery Indicators \n",
    "\n",
    "The NY Times wrote about rushed reopenings being [a global trial-and-error experiment](https://www.nytimes.com/2020/05/07/world/europe/coronavirus-reopening-costs.html) and a further analysis showing how US states reopening [fail to meet the WH guidelines](https://www.nytimes.com/interactive/2020/05/07/us/coronavirus-states-reopen-criteria.html). Vox has written about [the importance of COVID testing indicators](https://www.vox.com/2020/5/8/21249880/coronavirus-testing-covid-reopening-economy-lockdowns-social-distancing) as a prerequisite for reopening. \n",
    "\n",
    "While we wait for LA's own reopening indicators, we can still see how LA stacks up against NY and Chicago's indicators. [NY State's Reopening Indicators](https://www.nytimes.com/2020/05/04/nyregion/coronavirus-reopen-cuomo-ny.html) were based heavily in part by the White House [Opening Up America Again gating criteria](https://www.whitehouse.gov/wp-content/uploads/2020/04/Guidelines-for-Opening-Up-America-Again.pdf), and Chicago outlined even [tougher benchmarks than the IL statewide strategy](https://www.chicagotribune.com/coronavirus/ct-coronavirus-chicago-reopening-lightfoot-20200508-ztpnouwexrcvfdfcr2yccbc53a-story.html). In terms of outbreak severity, [LA and Chicago come right after NYC](https://www.nytimes.com/2020/05/09/us/coronavirus-chicago.html)."
   ]
  },
  {
   "cell_type": "markdown",
   "metadata": {},
   "source": [
    "## [White House Gating Criteria](https://www.whitehouse.gov/wp-content/uploads/2020/04/Guidelines-for-Opening-Up-America-Again.pdf)\n",
    "### Symptoms\n",
    "* Downward trajectory of influenza-like illnesses (ILI) reported within a 14-day period **and**\n",
    "* Downward trajectory of COVID-like syndromic cases reported within a 14-day period\n",
    "\n",
    "### Cases\n",
    "* Downward trajectory of documented cases within a 14-day period **or**\n",
    "* Downward trajectory of positive tests as a percent of total tests within a 14-day period (flat or increasing volume of tests) \n",
    "\n",
    "### Hospitals\n",
    "* Treat all patients without crisis care **and**\n",
    "* Robust testing program in place for at-risk healthcare workers, including emerging antibody testing\n",
    "\n",
    "| NY | Chicago |\n",
    "| --- | --- |\n",
    "| At least 14 days decline in total net hospitalizations on a 3-day rolling average **or** <BR> Less than 15 net new total hospitalizations on a 3-day rolling average </BR> | At least 14 days decline in new cases, on average \n",
    "| At least 14 days decline in total net deaths on a 3-day rolling average **or** <BR> Less than 5 new deaths on a 3-day rolling average </BR> | At least 14 days decline in of case rate (per capita?) |\n",
    "| At least 30% total hospital and ICU beds available  | At least 14 days decline in rate of new cases (per capita?)\n",
    "| At least 90 days of PPE stockpiled  | Stable or declining rates of hospitalizations  \n",
    "| Capacity to conduct 30 tests per 1,000 residents per month  | Stable or declining rates of ICU admissions \n",
    "| 30 working contact tracers per 100,000 residents | Stable or declining rates of ICU deaths\n",
    "| Rural regions: Fewer than 2 new COVID patients admitted per 100,000 residents per day | Share of positive results are decreasing below 15% of those tested in the community \n",
    "|   | Fewer than 1,800 coronavirus patients in hospital beds \n",
    "|   | Fewer than 600 coronavirus patients in ICU beds\n",
    "|   | Fewer than 450 coronavirus patients on ventilators\n",
    "|   | Test 135,000 per month, equivalent to 4,500 people per day"
   ]
  },
  {
   "cell_type": "code",
   "execution_count": null,
   "metadata": {},
   "outputs": [],
   "source": [
    "!jupyter-lab --version"
   ]
  },
  {
   "cell_type": "code",
   "execution_count": 1,
   "metadata": {},
   "outputs": [],
   "source": [
    "import numpy as np\n",
    "import pandas as pd\n",
    "import utils\n",
    "import altair as alt\n",
    "\n",
    "from IPython.display import Markdown\n",
    "\n",
    "US_COUNTY_URL = \"http://lahub.maps.arcgis.com/sharing/rest/content/items/8aba663239fc428f8bcdc48e213e3172/data\"\n",
    "LA_CITY_URL = \"https://lahub.maps.arcgis.com/sharing/rest/content/items/7175fba373f541a7a19df56b6a0617f4/data\"\n",
    "TESTING_URL = \"http://lahub.maps.arcgis.com/sharing/rest/content/items/158dab4a07b04ecb8d47fea1746303ac/data\"\n",
    "HOSPITAL_URL = \"http://lahub.maps.arcgis.com/sharing/rest/content/items/3da1eb3e13a14743973c96b945bd1117/data\"\n",
    "CROSSWALK_URL = (\n",
    "    \"https://raw.githubusercontent.com/CityOfLosAngeles/aqueduct/master/dags/public-health/covid19/\"\n",
    "    \"msa_county_pop_crosswalk.csv\"\n",
    ")"
   ]
  },
  {
   "cell_type": "code",
   "execution_count": null,
   "metadata": {},
   "outputs": [],
   "source": [
    "la_county = utils.case_indicators_county(\"Los Angeles, CA\", \"3/1/20\")\n",
    "la_city = utils.case_indicators_lacity(\"4/5/20\")\n",
    "ca = utils.case_indicators_state(\"California\", \"3/1/20\")\n",
    "la_msa = utils.case_indicators_msa(\"Los Angeles\", \"3/1/20\")"
   ]
  },
  {
   "cell_type": "markdown",
   "metadata": {},
   "source": [
    "## Testing Indicators"
   ]
  },
  {
   "cell_type": "code",
   "execution_count": null,
   "metadata": {},
   "outputs": [],
   "source": [
    "# Add share of positive tests -- we can't do because we don't have direct testing data \n",
    "# that breaks down total with positive and negative results\n",
    "# Can do it at weekly level, probably"
   ]
  },
  {
   "cell_type": "code",
   "execution_count": 2,
   "metadata": {},
   "outputs": [
    {
     "data": {
      "text/html": [
       "\n",
       "<div id=\"altair-viz-81a8f6c28e7447a4b46c7ec4017078bd\"></div>\n",
       "<script type=\"text/javascript\">\n",
       "  (function(spec, embedOpt){\n",
       "    const outputDiv = document.getElementById(\"altair-viz-81a8f6c28e7447a4b46c7ec4017078bd\");\n",
       "    const paths = {\n",
       "      \"vega\": \"https://cdn.jsdelivr.net/npm//vega@5?noext\",\n",
       "      \"vega-lib\": \"https://cdn.jsdelivr.net/npm//vega-lib?noext\",\n",
       "      \"vega-lite\": \"https://cdn.jsdelivr.net/npm//vega-lite@4.0.2?noext\",\n",
       "      \"vega-embed\": \"https://cdn.jsdelivr.net/npm//vega-embed@6?noext\",\n",
       "    };\n",
       "\n",
       "    function loadScript(lib) {\n",
       "      return new Promise(function(resolve, reject) {\n",
       "        var s = document.createElement('script');\n",
       "        s.src = paths[lib];\n",
       "        s.async = true;\n",
       "        s.onload = () => resolve(paths[lib]);\n",
       "        s.onerror = () => reject(`Error loading script: ${paths[lib]}`);\n",
       "        document.getElementsByTagName(\"head\")[0].appendChild(s);\n",
       "      });\n",
       "    }\n",
       "\n",
       "    function showError(err) {\n",
       "      outputDiv.innerHTML = `<div class=\"error\" style=\"color:red;\">${err}</div>`;\n",
       "      throw err;\n",
       "    }\n",
       "\n",
       "    function displayChart(vegaEmbed) {\n",
       "      vegaEmbed(outputDiv, spec, embedOpt)\n",
       "        .catch(err => showError(`Javascript Error: ${err.message}<br>This usually means there's a typo in your chart specification. See the javascript console for the full traceback.`));\n",
       "    }\n",
       "\n",
       "    if(typeof define === \"function\" && define.amd) {\n",
       "      requirejs.config({paths});\n",
       "      require([\"vega-embed\"], displayChart, err => showError(`Error loading script: ${err.message}`));\n",
       "    } else if (typeof vegaEmbed === \"function\") {\n",
       "      displayChart(vegaEmbed);\n",
       "    } else {\n",
       "      loadScript(\"vega\")\n",
       "        .then(() => loadScript(\"vega-lite\"))\n",
       "        .then(() => loadScript(\"vega-embed\"))\n",
       "        .catch(showError)\n",
       "        .then(() => displayChart(vegaEmbed));\n",
       "    }\n",
       "  })({\"config\": {\"view\": {\"continuousWidth\": 400, \"continuousHeight\": 300, \"strokeOpacity\": 0}, \"axis\": {\"domainOpacity\": 0.4, \"gridOpacity\": 0, \"ticks\": false}, \"title\": {\"anchor\": \"middle\", \"color\": \"black\", \"font\": \"Roboto\", \"fontSize\": 10}}, \"layer\": [{\"data\": {\"name\": \"data-78e79dbace18b31587aa843524b64e87\"}, \"mark\": {\"type\": \"bar\", \"color\": \"#0A4C6A\"}, \"encoding\": {\"x\": {\"type\": \"nominal\", \"axis\": {\"format\": \"%-m/%-d\"}, \"field\": \"Date\", \"timeUnit\": \"monthdate\", \"title\": \"date\"}, \"y\": {\"type\": \"quantitative\", \"field\": \"Performed\", \"title\": \"Tests Performed\"}}}, {\"data\": {\"name\": \"data-630ae3f1563c7a039b62b951e32081dd\"}, \"mark\": {\"type\": \"rule\", \"color\": \"#A30F23\", \"strokeDash\": [5, 2]}, \"encoding\": {\"y\": {\"type\": \"quantitative\", \"field\": \"y\"}}}, {\"data\": {\"name\": \"data-4d6fad89519b3b5d472fb07e87757174\"}, \"mark\": {\"type\": \"rule\", \"color\": \"#A30F23\", \"strokeDash\": [5, 2]}, \"encoding\": {\"y\": {\"type\": \"quantitative\", \"field\": \"y\"}}}], \"title\": \"Daily Tests Performed\", \"width\": 500, \"$schema\": \"https://vega.github.io/schema/vega-lite/v4.0.2.json\", \"datasets\": {\"data-78e79dbace18b31587aa843524b64e87\": [{\"Date\": \"4/1/20\", \"Performed\": 2007, \"Test Kit Inventory\": 1570.0, \"Cumulative\": 12035, \"month\": 4, \"Performed_Monthly\": 143157}, {\"Date\": \"4/2/20\", \"Performed\": 1998, \"Test Kit Inventory\": 995.0, \"Cumulative\": 14033, \"month\": 4, \"Performed_Monthly\": 143157}, {\"Date\": \"4/3/20\", \"Performed\": 2613, \"Test Kit Inventory\": 3506.0, \"Cumulative\": 16646, \"month\": 4, \"Performed_Monthly\": 143157}, {\"Date\": \"4/4/20\", \"Performed\": 2479, \"Test Kit Inventory\": 1658.0, \"Cumulative\": 19125, \"month\": 4, \"Performed_Monthly\": 143157}, {\"Date\": \"4/5/20\", \"Performed\": 2277, \"Test Kit Inventory\": 1770.0, \"Cumulative\": 21402, \"month\": 4, \"Performed_Monthly\": 143157}, {\"Date\": \"4/6/20\", \"Performed\": 375, \"Test Kit Inventory\": 1771.0, \"Cumulative\": 21777, \"month\": 4, \"Performed_Monthly\": 143157}, {\"Date\": \"4/7/20\", \"Performed\": 2979, \"Test Kit Inventory\": 1980.0, \"Cumulative\": 24756, \"month\": 4, \"Performed_Monthly\": 143157}, {\"Date\": \"4/8/20\", \"Performed\": 4246, \"Test Kit Inventory\": 1326.0, \"Cumulative\": 29002, \"month\": 4, \"Performed_Monthly\": 143157}, {\"Date\": \"4/9/20\", \"Performed\": 4149, \"Test Kit Inventory\": 0.0, \"Cumulative\": 33151, \"month\": 4, \"Performed_Monthly\": 143157}, {\"Date\": \"4/10/20\", \"Performed\": 4374, \"Test Kit Inventory\": 2547.0, \"Cumulative\": 37525, \"month\": 4, \"Performed_Monthly\": 143157}, {\"Date\": \"4/11/20\", \"Performed\": 3760, \"Test Kit Inventory\": 3465.0, \"Cumulative\": 41285, \"month\": 4, \"Performed_Monthly\": 143157}, {\"Date\": \"4/12/20\", \"Performed\": 1026, \"Test Kit Inventory\": 3465.0, \"Cumulative\": 42311, \"month\": 4, \"Performed_Monthly\": 143157}, {\"Date\": \"4/13/20\", \"Performed\": 4276, \"Test Kit Inventory\": 0.0, \"Cumulative\": 46587, \"month\": 4, \"Performed_Monthly\": 143157}, {\"Date\": \"4/14/20\", \"Performed\": 4019, \"Test Kit Inventory\": 3967.0, \"Cumulative\": 50606, \"month\": 4, \"Performed_Monthly\": 143157}, {\"Date\": \"4/15/20\", \"Performed\": 5955, \"Test Kit Inventory\": null, \"Cumulative\": 56561, \"month\": 4, \"Performed_Monthly\": 143157}, {\"Date\": \"4/16/20\", \"Performed\": 5594, \"Test Kit Inventory\": null, \"Cumulative\": 62155, \"month\": 4, \"Performed_Monthly\": 143157}, {\"Date\": \"4/17/20\", \"Performed\": 5695, \"Test Kit Inventory\": null, \"Cumulative\": 67850, \"month\": 4, \"Performed_Monthly\": 143157}, {\"Date\": \"4/18/20\", \"Performed\": 5116, \"Test Kit Inventory\": null, \"Cumulative\": 72966, \"month\": 4, \"Performed_Monthly\": 143157}, {\"Date\": \"4/19/20\", \"Performed\": 1977, \"Test Kit Inventory\": null, \"Cumulative\": 74943, \"month\": 4, \"Performed_Monthly\": 143157}, {\"Date\": \"4/20/20\", \"Performed\": 5724, \"Test Kit Inventory\": null, \"Cumulative\": 80667, \"month\": 4, \"Performed_Monthly\": 143157}, {\"Date\": \"4/21/20\", \"Performed\": 6471, \"Test Kit Inventory\": null, \"Cumulative\": 87138, \"month\": 4, \"Performed_Monthly\": 143157}, {\"Date\": \"4/22/20\", \"Performed\": 6010, \"Test Kit Inventory\": null, \"Cumulative\": 93148, \"month\": 4, \"Performed_Monthly\": 143157}, {\"Date\": \"4/23/20\", \"Performed\": 6899, \"Test Kit Inventory\": null, \"Cumulative\": 100047, \"month\": 4, \"Performed_Monthly\": 143157}, {\"Date\": \"4/24/20\", \"Performed\": 7581, \"Test Kit Inventory\": null, \"Cumulative\": 107628, \"month\": 4, \"Performed_Monthly\": 143157}, {\"Date\": \"4/25/20\", \"Performed\": 6897, \"Test Kit Inventory\": null, \"Cumulative\": 114525, \"month\": 4, \"Performed_Monthly\": 143157}, {\"Date\": \"4/26/20\", \"Performed\": 2252, \"Test Kit Inventory\": null, \"Cumulative\": 116777, \"month\": 4, \"Performed_Monthly\": 143157}, {\"Date\": \"4/27/20\", \"Performed\": 7596, \"Test Kit Inventory\": null, \"Cumulative\": 124373, \"month\": 4, \"Performed_Monthly\": 143157}, {\"Date\": \"4/28/20\", \"Performed\": 7333, \"Test Kit Inventory\": null, \"Cumulative\": 131706, \"month\": 4, \"Performed_Monthly\": 143157}, {\"Date\": \"4/29/20\", \"Performed\": 8349, \"Test Kit Inventory\": null, \"Cumulative\": 140055, \"month\": 4, \"Performed_Monthly\": 143157}, {\"Date\": \"4/30/20\", \"Performed\": 13130, \"Test Kit Inventory\": null, \"Cumulative\": 153185, \"month\": 4, \"Performed_Monthly\": 143157}, {\"Date\": \"5/1/20\", \"Performed\": 12894, \"Test Kit Inventory\": null, \"Cumulative\": 166079, \"month\": 5, \"Performed_Monthly\": 211845}, {\"Date\": \"5/2/20\", \"Performed\": 11510, \"Test Kit Inventory\": null, \"Cumulative\": 177589, \"month\": 5, \"Performed_Monthly\": 211845}, {\"Date\": \"5/3/20\", \"Performed\": 3451, \"Test Kit Inventory\": null, \"Cumulative\": 181040, \"month\": 5, \"Performed_Monthly\": 211845}, {\"Date\": \"5/4/20\", \"Performed\": 12817, \"Test Kit Inventory\": null, \"Cumulative\": 193857, \"month\": 5, \"Performed_Monthly\": 211845}, {\"Date\": \"5/5/20\", \"Performed\": 14709, \"Test Kit Inventory\": null, \"Cumulative\": 208566, \"month\": 5, \"Performed_Monthly\": 211845}, {\"Date\": \"5/6/20\", \"Performed\": 16584, \"Test Kit Inventory\": null, \"Cumulative\": 225150, \"month\": 5, \"Performed_Monthly\": 211845}, {\"Date\": \"5/7/20\", \"Performed\": 16352, \"Test Kit Inventory\": null, \"Cumulative\": 241502, \"month\": 5, \"Performed_Monthly\": 211845}, {\"Date\": \"5/8/20\", \"Performed\": 14847, \"Test Kit Inventory\": null, \"Cumulative\": 256349, \"month\": 5, \"Performed_Monthly\": 211845}, {\"Date\": \"5/9/20\", \"Performed\": 11824, \"Test Kit Inventory\": null, \"Cumulative\": 268173, \"month\": 5, \"Performed_Monthly\": 211845}, {\"Date\": \"5/10/20\", \"Performed\": 3299, \"Test Kit Inventory\": null, \"Cumulative\": 271472, \"month\": 5, \"Performed_Monthly\": 211845}, {\"Date\": \"5/11/20\", \"Performed\": 14788, \"Test Kit Inventory\": null, \"Cumulative\": 286260, \"month\": 5, \"Performed_Monthly\": 211845}, {\"Date\": \"5/12/20\", \"Performed\": 16086, \"Test Kit Inventory\": null, \"Cumulative\": 302346, \"month\": 5, \"Performed_Monthly\": 211845}, {\"Date\": \"5/13/20\", \"Performed\": 16635, \"Test Kit Inventory\": null, \"Cumulative\": 318981, \"month\": 5, \"Performed_Monthly\": 211845}, {\"Date\": \"5/14/20\", \"Performed\": 15367, \"Test Kit Inventory\": null, \"Cumulative\": 334348, \"month\": 5, \"Performed_Monthly\": 211845}, {\"Date\": \"5/15/20\", \"Performed\": 14977, \"Test Kit Inventory\": null, \"Cumulative\": 349325, \"month\": 5, \"Performed_Monthly\": 211845}, {\"Date\": \"5/16/20\", \"Performed\": 13058, \"Test Kit Inventory\": null, \"Cumulative\": 362383, \"month\": 5, \"Performed_Monthly\": 211845}, {\"Date\": \"5/17/20\", \"Performed\": 2647, \"Test Kit Inventory\": null, \"Cumulative\": 365030, \"month\": 5, \"Performed_Monthly\": 211845}], \"data-630ae3f1563c7a039b62b951e32081dd\": [{\"y\": 10000}], \"data-4d6fad89519b3b5d472fb07e87757174\": [{\"y\": 16667}]}}, {\"mode\": \"vega-lite\"});\n",
       "</script>"
      ],
      "text/plain": [
       "alt.LayerChart(...)"
      ]
     },
     "metadata": {},
     "output_type": "display_data"
    },
    {
     "data": {
      "text/html": [
       "\n",
       "<div id=\"altair-viz-f50a1b8c54c34e3f969d4e643604bed3\"></div>\n",
       "<script type=\"text/javascript\">\n",
       "  (function(spec, embedOpt){\n",
       "    const outputDiv = document.getElementById(\"altair-viz-f50a1b8c54c34e3f969d4e643604bed3\");\n",
       "    const paths = {\n",
       "      \"vega\": \"https://cdn.jsdelivr.net/npm//vega@5?noext\",\n",
       "      \"vega-lib\": \"https://cdn.jsdelivr.net/npm//vega-lib?noext\",\n",
       "      \"vega-lite\": \"https://cdn.jsdelivr.net/npm//vega-lite@4.0.2?noext\",\n",
       "      \"vega-embed\": \"https://cdn.jsdelivr.net/npm//vega-embed@6?noext\",\n",
       "    };\n",
       "\n",
       "    function loadScript(lib) {\n",
       "      return new Promise(function(resolve, reject) {\n",
       "        var s = document.createElement('script');\n",
       "        s.src = paths[lib];\n",
       "        s.async = true;\n",
       "        s.onload = () => resolve(paths[lib]);\n",
       "        s.onerror = () => reject(`Error loading script: ${paths[lib]}`);\n",
       "        document.getElementsByTagName(\"head\")[0].appendChild(s);\n",
       "      });\n",
       "    }\n",
       "\n",
       "    function showError(err) {\n",
       "      outputDiv.innerHTML = `<div class=\"error\" style=\"color:red;\">${err}</div>`;\n",
       "      throw err;\n",
       "    }\n",
       "\n",
       "    function displayChart(vegaEmbed) {\n",
       "      vegaEmbed(outputDiv, spec, embedOpt)\n",
       "        .catch(err => showError(`Javascript Error: ${err.message}<br>This usually means there's a typo in your chart specification. See the javascript console for the full traceback.`));\n",
       "    }\n",
       "\n",
       "    if(typeof define === \"function\" && define.amd) {\n",
       "      requirejs.config({paths});\n",
       "      require([\"vega-embed\"], displayChart, err => showError(`Error loading script: ${err.message}`));\n",
       "    } else if (typeof vegaEmbed === \"function\") {\n",
       "      displayChart(vegaEmbed);\n",
       "    } else {\n",
       "      loadScript(\"vega\")\n",
       "        .then(() => loadScript(\"vega-lite\"))\n",
       "        .then(() => loadScript(\"vega-embed\"))\n",
       "        .catch(showError)\n",
       "        .then(() => displayChart(vegaEmbed));\n",
       "    }\n",
       "  })({\"config\": {\"view\": {\"continuousWidth\": 400, \"continuousHeight\": 300, \"strokeOpacity\": 0}, \"axis\": {\"domainOpacity\": 0.4, \"gridOpacity\": 0, \"ticks\": false}, \"title\": {\"anchor\": \"middle\", \"color\": \"black\", \"font\": \"Roboto\", \"fontSize\": 10}}, \"layer\": [{\"data\": {\"name\": \"data-38807a417e801c1c3029d605c9d93072\"}, \"mark\": {\"type\": \"bar\", \"color\": \"#0A4C6A\"}, \"encoding\": {\"x\": {\"type\": \"nominal\", \"axis\": {\"format\": \"%b\"}, \"field\": \"Date\", \"timeUnit\": \"monthdate\", \"title\": \"date\"}, \"y\": {\"type\": \"quantitative\", \"field\": \"Performed_Monthly\", \"title\": \"Tests Performed\"}}}, {\"data\": {\"name\": \"data-3f3d363baceb1e167951b40424cf1ac4\"}, \"mark\": {\"type\": \"rule\", \"color\": \"#A30F23\", \"strokeDash\": [5, 2]}, \"encoding\": {\"y\": {\"type\": \"quantitative\", \"field\": \"y\"}}}, {\"data\": {\"name\": \"data-2e4c34b4c620b803e8d3b593084e1a6e\"}, \"mark\": {\"type\": \"rule\", \"color\": \"#A30F23\", \"strokeDash\": [5, 2]}, \"encoding\": {\"y\": {\"type\": \"quantitative\", \"field\": \"y\"}}}], \"title\": \"Monthly Tests Performed\", \"width\": 150, \"$schema\": \"https://vega.github.io/schema/vega-lite/v4.0.2.json\", \"datasets\": {\"data-38807a417e801c1c3029d605c9d93072\": [{\"Date\": \"4/1/20\", \"Performed\": 2007, \"Test Kit Inventory\": 1570.0, \"Cumulative\": 12035, \"month\": 4, \"Performed_Monthly\": 143157}, {\"Date\": \"5/1/20\", \"Performed\": 12894, \"Test Kit Inventory\": null, \"Cumulative\": 166079, \"month\": 5, \"Performed_Monthly\": 211845}], \"data-3f3d363baceb1e167951b40424cf1ac4\": [{\"y\": 300000}], \"data-2e4c34b4c620b803e8d3b593084e1a6e\": [{\"y\": 500000}]}}, {\"mode\": \"vega-lite\"});\n",
       "</script>"
      ],
      "text/plain": [
       "alt.LayerChart(...)"
      ]
     },
     "metadata": {},
     "output_type": "display_data"
    }
   ],
   "source": [
    "daily_tests = utils.testing_lacity('4/1/20', 'daily', 10_000, 16_667)\n",
    "monthly_tests = utils.testing_lacity('4/1/20', 'monthly', 300_000, 500_000)"
   ]
  },
  {
   "cell_type": "code",
   "execution_count": 11,
   "metadata": {},
   "outputs": [
    {
     "data": {
      "text/markdown": [
       "<span style='color:red'> Daily Testing </span>"
      ],
      "text/plain": [
       "<IPython.core.display.Markdown object>"
      ]
     },
     "metadata": {},
     "output_type": "display_data"
    }
   ],
   "source": [
    "from datetime import date, datetime, timedelta\n",
    "import pytz\n",
    "\n",
    "yesterday_date = datetime.today().astimezone(pytz.timezone(\"America/Los_Angeles\")).date() - timedelta(days=1)\n",
    "yesterday_date = yesterday_date.strftime(\"%-m/%-d/%y\")\n",
    "\n",
    "lower_bound = 10_000\n",
    "upper_bound = 16_667\n",
    "\n",
    "def testing_meet_indicators(yesterday_date, lower_bound, upper_bound):\n",
    "    \"\"\"\n",
    "    Returns a red or green indicator based on yesterday's results.\n",
    "    \"\"\"\n",
    "    # New cases (which day out of 14 has it been declining?)\n",
    "    # New deaths (which day out of 14 has it been declining?)\n",
    "    # Hospital capacity\n",
    "\n",
    "    # Daily testing\n",
    "    test_indicator = daily_tests[daily_tests.Date==yesterday_date].iloc[0][\"Performed\"]\n",
    "\n",
    "    if test_indicator < lower_bound:\n",
    "        return \"red\"\n",
    "    elif test_indicator >= lower_bound:\n",
    "        return \"green\"\n",
    "    elif test_indicator >= upper_bound:\n",
    "        return \"blue\"\n",
    "    \n",
    "test_indicator_color = testing_meet_indicators(yesterday_date, lower_bound, upper_bound)\n",
    "#print(test_indicator_color)\n",
    "display(Markdown(f\"<span style='color:{test_indicator_color}'> Daily Testing </span>\"))"
   ]
  },
  {
   "cell_type": "markdown",
   "metadata": {},
   "source": [
    "## Hospital Capacity Indicators"
   ]
  },
  {
   "cell_type": "code",
   "execution_count": null,
   "metadata": {},
   "outputs": [],
   "source": [
    "hospital = utils.hospital_capacity_lacity(\"4/1/20\")"
   ]
  },
  {
   "cell_type": "markdown",
   "metadata": {},
   "source": [
    "# Markdown Red/ Green Indicator \n",
    "* The next cell displays in the color red or green "
   ]
  },
  {
   "cell_type": "code",
   "execution_count": null,
   "metadata": {},
   "outputs": [],
   "source": [
    "def red_green():\n",
    "    \"\"\"\n",
    "    returns a random \"red\" or \"green\" text in markdown.\n",
    "    \"\"\"\n",
    "    return np.random.choice(['green', 'red'])\n",
    "\n",
    "color = red_green()\n",
    "print(color)\n",
    "display(Markdown(f'<span style=\"color:{color}\">some *blue* text</span>.'))"
   ]
  },
  {
   "cell_type": "code",
   "execution_count": null,
   "metadata": {},
   "outputs": [],
   "source": [
    "\"\"\"To convert to HTML: \n",
    "jupyter nbconvert --to html --no-input --no-prompt my-notebook.ipynb\n",
    "\"\"\""
   ]
  },
  {
   "cell_type": "code",
   "execution_count": null,
   "metadata": {},
   "outputs": [],
   "source": []
  }
 ],
 "metadata": {
  "kernelspec": {
   "display_name": "Python 3",
   "language": "python",
   "name": "python3"
  },
  "language_info": {
   "codemirror_mode": {
    "name": "ipython",
    "version": 3
   },
   "file_extension": ".py",
   "mimetype": "text/x-python",
   "name": "python",
   "nbconvert_exporter": "python",
   "pygments_lexer": "ipython3",
   "version": "3.7.3"
  }
 },
 "nbformat": 4,
 "nbformat_minor": 4
}
