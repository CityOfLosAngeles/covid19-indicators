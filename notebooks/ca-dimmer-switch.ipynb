{
 "cells": [
  {
   "cell_type": "code",
   "execution_count": 1,
   "metadata": {},
   "outputs": [],
   "source": [
    "import numpy as np\n",
    "import pandas as pd\n",
    "\n",
    "import meet_indicators\n",
    "import default_parameters\n",
    "import utils\n",
    "import ca_reopening_tiers\n",
    "\n",
    "county_state_name = default_parameters.county_state_name\n",
    "fulldate_format = default_parameters.fulldate_format\n",
    "time_zone = default_parameters.time_zone\n",
    "start_date = default_parameters.start_date\n",
    "yesterday_date = default_parameters.yesterday_date\n",
    "today_date = default_parameters.today_date\n",
    "one_week_ago = default_parameters.one_week_ago\n",
    "two_weeks_ago = default_parameters.two_weeks_ago\n",
    "three_weeks_ago = default_parameters.three_weeks_ago\n",
    "two_days_ago = default_parameters.two_days_ago\n",
    "three_days_ago = default_parameters.three_days_ago\n",
    "eight_days_ago = default_parameters.eight_days_ago\n",
    "nine_days_ago = default_parameters.nine_days_ago"
   ]
  },
  {
   "cell_type": "code",
   "execution_count": 2,
   "metadata": {},
   "outputs": [],
   "source": [
    "a1 = ca_reopening_tiers.case_rate(county_state_name, start_date, \"today\")\n",
    "a2 = ca_reopening_tiers.case_rate(county_state_name, start_date, \"one_week_ago\")\n",
    "a3 = ca_reopening_tiers.case_rate(county_state_name, start_date, \"two_weeks_ago\")"
   ]
  },
  {
   "cell_type": "code",
   "execution_count": 3,
   "metadata": {},
   "outputs": [
    {
     "name": "stdout",
     "output_type": "stream",
     "text": [
      "new_cases    8.13\n",
      "dtype: float64\n",
      "new_cases    9.82\n",
      "dtype: float64\n",
      "new_cases    12.36\n",
      "dtype: float64\n"
     ]
    }
   ],
   "source": [
    "print(a1)\n",
    "print(a2)\n",
    "print(a3)"
   ]
  },
  {
   "cell_type": "code",
   "execution_count": 4,
   "metadata": {},
   "outputs": [],
   "source": [
    "b1 = ca_reopening_tiers.positive_rate(start_date, \"one_week_ago\")\n",
    "b2 = ca_reopening_tiers.positive_rate(start_date, \"two_weeks_ago\")"
   ]
  },
  {
   "cell_type": "code",
   "execution_count": 5,
   "metadata": {},
   "outputs": [
    {
     "name": "stdout",
     "output_type": "stream",
     "text": [
      "0.034\n",
      "0.039\n"
     ]
    }
   ],
   "source": [
    "print(b1)\n",
    "print(b2)"
   ]
  },
  {
   "cell_type": "code",
   "execution_count": 6,
   "metadata": {},
   "outputs": [],
   "source": [
    "c1 = ca_reopening_tiers.test_rate(start_date, \"one_week_ago\")\n",
    "c2 = ca_reopening_tiers.test_rate(start_date, \"two_weeks_ago\")"
   ]
  },
  {
   "cell_type": "code",
   "execution_count": 7,
   "metadata": {},
   "outputs": [
    {
     "name": "stdout",
     "output_type": "stream",
     "text": [
      "County_Performed    234.61\n",
      "dtype: float64\n",
      "County_Performed    269.35\n",
      "dtype: float64\n"
     ]
    }
   ],
   "source": [
    "print(c1)\n",
    "print(c2)"
   ]
  },
  {
   "cell_type": "code",
   "execution_count": null,
   "metadata": {},
   "outputs": [],
   "source": []
  }
 ],
 "metadata": {
  "kernelspec": {
   "display_name": "Python 3",
   "language": "python",
   "name": "python3"
  },
  "language_info": {
   "codemirror_mode": {
    "name": "ipython",
    "version": 3
   },
   "file_extension": ".py",
   "mimetype": "text/x-python",
   "name": "python",
   "nbconvert_exporter": "python",
   "pygments_lexer": "ipython3",
   "version": "3.7.8"
  }
 },
 "nbformat": 4,
 "nbformat_minor": 4
}
