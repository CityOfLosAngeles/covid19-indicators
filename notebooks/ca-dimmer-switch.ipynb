{
 "cells": [
  {
   "cell_type": "code",
   "execution_count": 1,
   "metadata": {},
   "outputs": [],
   "source": [
    "import numpy as np\n",
    "import pandas as pd\n",
    "\n",
    "import utils\n",
    "import default_parameters\n",
    "import make_charts\n",
    "import meet_indicators\n",
    "import ca_reopening_tiers\n",
    "\n",
    "from IPython.display import display_html, Markdown \n",
    "\n",
    "# Default parameters\n",
    "county_state_name = default_parameters.county_state_name\n",
    "state_name = default_parameters.state_name\n",
    "msa_name = default_parameters.msa_name\n",
    "time_zone = default_parameters.time_zone\n",
    "\n",
    "fulldate_format = default_parameters.fulldate_format\n",
    "monthdate_format = default_parameters.monthdate_format\n",
    "start_date = default_parameters.start_date\n",
    "yesterday_date = default_parameters.yesterday_date\n",
    "today_date = default_parameters.today_date\n",
    "one_week_ago = default_parameters.one_week_ago\n",
    "two_weeks_ago = default_parameters.two_weeks_ago\n",
    "three_weeks_ago = default_parameters.three_weeks_ago\n",
    "two_days_ago = default_parameters.two_days_ago\n",
    "eight_days_ago = default_parameters.eight_days_ago\n",
    "\n",
    "# Set cut-offs\n",
    "county_test_lower_bound = 15_000\n",
    "county_test_upper_bound = 16_667\n",
    "positive_lower_bound = 0.04\n",
    "positive_upper_bound = 0.08\n",
    "positive_2weeks_bound = 0.05\n",
    "hospital_bound = 0.30\n",
    "ca_hospitalization_bound = 0.05\n",
    "\n",
    "# Set cut-offs for CA reopening\n",
    "ca_case_minimal_bound = 1\n",
    "ca_case_moderate_bound = 4\n",
    "ca_case_substantial_bound = 7 \n",
    "\n",
    "ca_test_minimal_bound = 0.020\n",
    "ca_test_moderate_bound = 0.050\n",
    "ca_test_substantial_bound = 0.080"
   ]
  },
  {
   "cell_type": "code",
   "execution_count": 2,
   "metadata": {},
   "outputs": [
    {
     "name": "stdout",
     "output_type": "stream",
     "text": [
      "8.13\n",
      "9.82\n",
      "12.36\n"
     ]
    }
   ],
   "source": [
    "a1 = ca_reopening_tiers.case_rate(county_state_name, start_date, \"today\")\n",
    "a2 = ca_reopening_tiers.case_rate(county_state_name, start_date, \"one_week_ago\")\n",
    "a3 = ca_reopening_tiers.case_rate(county_state_name, start_date, \"two_weeks_ago\")\n",
    "\n",
    "print(a1)\n",
    "print(a2)\n",
    "print(a3)"
   ]
  },
  {
   "cell_type": "code",
   "execution_count": 3,
   "metadata": {},
   "outputs": [
    {
     "name": "stdout",
     "output_type": "stream",
     "text": [
      "0.034\n",
      "0.039\n"
     ]
    }
   ],
   "source": [
    "b1 = ca_reopening_tiers.positive_rate(start_date, \"one_week_ago\")\n",
    "b2 = ca_reopening_tiers.positive_rate(start_date, \"two_weeks_ago\")\n",
    "\n",
    "print(b1)\n",
    "print(b2)"
   ]
  },
  {
   "cell_type": "code",
   "execution_count": 4,
   "metadata": {},
   "outputs": [
    {
     "data": {
      "text/html": [
       "<div>\n",
       "<style scoped>\n",
       "    .dataframe tbody tr th:only-of-type {\n",
       "        vertical-align: middle;\n",
       "    }\n",
       "\n",
       "    .dataframe tbody tr th {\n",
       "        vertical-align: top;\n",
       "    }\n",
       "\n",
       "    .dataframe thead th {\n",
       "        text-align: right;\n",
       "    }\n",
       "</style>\n",
       "<table border=\"1\" class=\"dataframe\">\n",
       "  <thead>\n",
       "    <tr style=\"text-align: right;\">\n",
       "      <th></th>\n",
       "      <th>case</th>\n",
       "      <th>test</th>\n",
       "    </tr>\n",
       "  </thead>\n",
       "  <tbody>\n",
       "    <tr>\n",
       "      <th>0</th>\n",
       "      <td>8.13</td>\n",
       "      <td>NaN</td>\n",
       "    </tr>\n",
       "    <tr>\n",
       "      <th>1</th>\n",
       "      <td>9.82</td>\n",
       "      <td>0.034</td>\n",
       "    </tr>\n",
       "    <tr>\n",
       "      <th>2</th>\n",
       "      <td>12.36</td>\n",
       "      <td>0.039</td>\n",
       "    </tr>\n",
       "  </tbody>\n",
       "</table>\n",
       "</div>"
      ],
      "text/plain": [
       "    case   test\n",
       "0   8.13    NaN\n",
       "1   9.82  0.034\n",
       "2  12.36  0.039"
      ]
     },
     "execution_count": 4,
     "metadata": {},
     "output_type": "execute_result"
    }
   ],
   "source": [
    "ca_county = pd.DataFrame(\n",
    "    {\"case\": [a1, a2, a3], \n",
    "     \"test\": [np.nan, b1, b2]\n",
    "    }\n",
    ")\n",
    "\n",
    "ca_county"
   ]
  },
  {
   "cell_type": "code",
   "execution_count": 5,
   "metadata": {},
   "outputs": [],
   "source": [
    "def put_in_tiers(row, indicator, minimal_bound, moderate_bound, substantial_bound):\n",
    "    if row[indicator] < minimal_bound:\n",
    "        return 1\n",
    "    elif (row[indicator] >= minimal_bound) and (row[indicator] < moderate_bound):\n",
    "        return 2\n",
    "    elif (row[indicator] >= moderate_bound) and (row[indicator] <= substantial_bound):\n",
    "        return 3\n",
    "    elif row[indicator] > substantial_bound:\n",
    "        return 4\n",
    "    else: \n",
    "        return np.nan\n",
    "\n",
    "def add_tiers(df):\n",
    "    df = df.assign(\n",
    "        case_tier = df.apply(lambda x: \n",
    "                                    put_in_tiers(x, \"case\", \n",
    "                                    ca_case_minimal_bound, ca_case_moderate_bound, \n",
    "                                    ca_case_substantial_bound), axis=1).astype(\"Int64\"), \n",
    "        test_tier = df.apply(lambda x: \n",
    "                                    put_in_tiers(x, \"test\", \n",
    "                                    ca_test_minimal_bound, ca_test_moderate_bound, \n",
    "                                    ca_test_substantial_bound), axis=1).astype(\"Int64\")\n",
    "    )\n",
    "    \n",
    "    # If 2 indicators belong in different tiers, most restrictive (max) is assigned overall\n",
    "    df = df.assign(\n",
    "            overall_tier = df[[\"case_tier\", \"test_tier\"]].max(axis=1).astype(int)\n",
    "    )[[\"overall_tier\", \"case\", \"test\"]]\n",
    "    \n",
    "    # Transpose\n",
    "    df = (df.T\n",
    "          .rename(columns = {0: \"current_week\", \n",
    "                             1: \"last_week\", \n",
    "                             2: \"two_weeks_ago\",})\n",
    "    )\n",
    "    \n",
    "    return df"
   ]
  },
  {
   "cell_type": "code",
   "execution_count": 6,
   "metadata": {},
   "outputs": [
    {
     "data": {
      "text/html": [
       "<div>\n",
       "<style scoped>\n",
       "    .dataframe tbody tr th:only-of-type {\n",
       "        vertical-align: middle;\n",
       "    }\n",
       "\n",
       "    .dataframe tbody tr th {\n",
       "        vertical-align: top;\n",
       "    }\n",
       "\n",
       "    .dataframe thead th {\n",
       "        text-align: right;\n",
       "    }\n",
       "</style>\n",
       "<table border=\"1\" class=\"dataframe\">\n",
       "  <thead>\n",
       "    <tr style=\"text-align: right;\">\n",
       "      <th></th>\n",
       "      <th>current_week</th>\n",
       "      <th>last_week</th>\n",
       "      <th>two_weeks_ago</th>\n",
       "    </tr>\n",
       "  </thead>\n",
       "  <tbody>\n",
       "    <tr>\n",
       "      <th>overall_tier</th>\n",
       "      <td>4.00</td>\n",
       "      <td>4.000</td>\n",
       "      <td>4.000</td>\n",
       "    </tr>\n",
       "    <tr>\n",
       "      <th>case</th>\n",
       "      <td>8.13</td>\n",
       "      <td>9.820</td>\n",
       "      <td>12.360</td>\n",
       "    </tr>\n",
       "    <tr>\n",
       "      <th>test</th>\n",
       "      <td>NaN</td>\n",
       "      <td>0.034</td>\n",
       "      <td>0.039</td>\n",
       "    </tr>\n",
       "  </tbody>\n",
       "</table>\n",
       "</div>"
      ],
      "text/plain": [
       "              current_week  last_week  two_weeks_ago\n",
       "overall_tier          4.00      4.000          4.000\n",
       "case                  8.13      9.820         12.360\n",
       "test                   NaN      0.034          0.039"
      ]
     },
     "execution_count": 6,
     "metadata": {},
     "output_type": "execute_result"
    }
   ],
   "source": [
    "ca_county = add_tiers(ca_county)\n",
    "ca_county"
   ]
  },
  {
   "cell_type": "code",
   "execution_count": 7,
   "metadata": {},
   "outputs": [],
   "source": [
    "# Add CA Blueprint for Safer Economy (reopening, take 2) criterion to get colors\n",
    "def check_ca_case(row):\n",
    "    status = [\"minimal\" if x < ca_case_minimal_bound \n",
    "              else \"moderate\" if ((x >= ca_case_minimal_bound) and (x < ca_case_moderate_bound))\n",
    "              else \"substantial\" if ((x >= ca_case_moderate_bound) and (x <= ca_case_substantial_bound))\n",
    "              else \"widespread\" if x > ca_case_substantial_bound \n",
    "              else \"\" for x in row] \n",
    "    \n",
    "    return pd.Series(status, index=row.index, dtype=\"category\") \n",
    "\n",
    "def check_ca_test(row):\n",
    "    status = [\"minimal\" if x < ca_test_minimal_bound \n",
    "              else \"moderate\" if (x >= ca_test_minimal_bound) and (x < ca_test_moderate_bound)\n",
    "              else \"substantial\" if (x >= ca_test_moderate_bound) and (x <= ca_test_substantial_bound)\n",
    "              else \"widespread\" if x > ca_test_substantial_bound \n",
    "              else \"\" for x in row] \n",
    "    \n",
    "    return pd.Series(status, index=row.index, dtype=\"category\") \n",
    "\n",
    "def check_ca_overall_tier(row):\n",
    "    status = [\"minimal\" if x==1 \n",
    "              else \"moderate\" if x==2\n",
    "              else \"substantial\" if x==3\n",
    "              else \"widespread\" if x==4\n",
    "              else \"\" for x in row] \n",
    "    \n",
    "    return pd.Series(status, index=row.index, dtype=\"category\") "
   ]
  },
  {
   "cell_type": "code",
   "execution_count": 8,
   "metadata": {},
   "outputs": [],
   "source": [
    "ca_tier_fnmap = {\n",
    "    \"overall_tier\": check_ca_overall_tier,\n",
    "    \"case\": check_ca_case,\n",
    "    \"test\": check_ca_test,\n",
    "}\n",
    "\n",
    "purple = make_charts.purple\n",
    "red = make_charts.maroon\n",
    "orange = make_charts.orange\n",
    "yellow = make_charts.yellow\n",
    "\n",
    "stylemap = {\n",
    "    \"widespread\": f\"background-color: {purple}; color: white; font-weight: bold; opacity: 0.7\" ,\n",
    "    \"substantial\": f\"background-color: {red}; color: white; font-weight: bold; opacity: 0.7\",\n",
    "    \"moderate\": f\"background-color: {orange}; color: white; font-weight: bold; opacity: 0.7\",\n",
    "    \"minimal\": f\"background-color: {yellow}; color: white; font-weight: bold; opacity: 0.7\",    \n",
    "    \"\": \"background-color: white; color: black; font-weight: bold; opacity: 0.7\",\n",
    "}"
   ]
  },
  {
   "cell_type": "code",
   "execution_count": 9,
   "metadata": {},
   "outputs": [
    {
     "data": {
      "text/html": [
       "<style  type=\"text/css\" >\n",
       "#T_4cbd9974_f7a9_11ea_8e17_0242ac130002row0_col0,#T_4cbd9974_f7a9_11ea_8e17_0242ac130002row0_col1,#T_4cbd9974_f7a9_11ea_8e17_0242ac130002row0_col2,#T_4cbd9974_f7a9_11ea_8e17_0242ac130002row1_col0,#T_4cbd9974_f7a9_11ea_8e17_0242ac130002row1_col1,#T_4cbd9974_f7a9_11ea_8e17_0242ac130002row1_col2{\n",
       "            background-color:  #6B1F84;\n",
       "             color:  white;\n",
       "             font-weight:  bold;\n",
       "             opacity:  0.7;\n",
       "        }#T_4cbd9974_f7a9_11ea_8e17_0242ac130002row2_col0{\n",
       "            background-color:  white;\n",
       "             color:  black;\n",
       "             font-weight:  bold;\n",
       "             opacity:  0.7;\n",
       "        }#T_4cbd9974_f7a9_11ea_8e17_0242ac130002row2_col1,#T_4cbd9974_f7a9_11ea_8e17_0242ac130002row2_col2{\n",
       "            background-color:  #FFC414;\n",
       "             color:  white;\n",
       "             font-weight:  bold;\n",
       "             opacity:  0.7;\n",
       "        }</style><table id=\"T_4cbd9974_f7a9_11ea_8e17_0242ac130002\" ><thead>    <tr>        <th class=\"blank level0\" ></th>        <th class=\"col_heading level0 col0\" >current_week</th>        <th class=\"col_heading level0 col1\" >last_week</th>        <th class=\"col_heading level0 col2\" >two_weeks_ago</th>    </tr></thead><tbody>\n",
       "                <tr>\n",
       "                        <th id=\"T_4cbd9974_f7a9_11ea_8e17_0242ac130002level0_row0\" class=\"row_heading level0 row0\" >overall_tier</th>\n",
       "                        <td id=\"T_4cbd9974_f7a9_11ea_8e17_0242ac130002row0_col0\" class=\"data row0 col0\" >4</td>\n",
       "                        <td id=\"T_4cbd9974_f7a9_11ea_8e17_0242ac130002row0_col1\" class=\"data row0 col1\" >4</td>\n",
       "                        <td id=\"T_4cbd9974_f7a9_11ea_8e17_0242ac130002row0_col2\" class=\"data row0 col2\" >4</td>\n",
       "            </tr>\n",
       "            <tr>\n",
       "                        <th id=\"T_4cbd9974_f7a9_11ea_8e17_0242ac130002level0_row1\" class=\"row_heading level0 row1\" >case</th>\n",
       "                        <td id=\"T_4cbd9974_f7a9_11ea_8e17_0242ac130002row1_col0\" class=\"data row1 col0\" >8.13</td>\n",
       "                        <td id=\"T_4cbd9974_f7a9_11ea_8e17_0242ac130002row1_col1\" class=\"data row1 col1\" >9.82</td>\n",
       "                        <td id=\"T_4cbd9974_f7a9_11ea_8e17_0242ac130002row1_col2\" class=\"data row1 col2\" >12.36</td>\n",
       "            </tr>\n",
       "            <tr>\n",
       "                        <th id=\"T_4cbd9974_f7a9_11ea_8e17_0242ac130002level0_row2\" class=\"row_heading level0 row2\" >test</th>\n",
       "                        <td id=\"T_4cbd9974_f7a9_11ea_8e17_0242ac130002row2_col0\" class=\"data row2 col0\" >-</td>\n",
       "                        <td id=\"T_4cbd9974_f7a9_11ea_8e17_0242ac130002row2_col1\" class=\"data row2 col1\" >0.034</td>\n",
       "                        <td id=\"T_4cbd9974_f7a9_11ea_8e17_0242ac130002row2_col2\" class=\"data row2 col2\" >0.039</td>\n",
       "            </tr>\n",
       "    </tbody></table>"
      ],
      "text/plain": [
       "<pandas.io.formats.style.Styler at 0x7f2b58641690>"
      ]
     },
     "execution_count": 9,
     "metadata": {},
     "output_type": "execute_result"
    }
   ],
   "source": [
    "(ca_county.style\n",
    "   .format(lambda s: f\"{s:,g}\", na_rep=\"-\")\n",
    "   .apply(lambda row: ca_tier_fnmap[row.name](row).map(stylemap), axis=1)\n",
    "   #.render()\n",
    "  )"
   ]
  },
  {
   "cell_type": "code",
   "execution_count": null,
   "metadata": {},
   "outputs": [],
   "source": []
  }
 ],
 "metadata": {
  "kernelspec": {
   "display_name": "Python 3",
   "language": "python",
   "name": "python3"
  },
  "language_info": {
   "codemirror_mode": {
    "name": "ipython",
    "version": 3
   },
   "file_extension": ".py",
   "mimetype": "text/x-python",
   "name": "python",
   "nbconvert_exporter": "python",
   "pygments_lexer": "ipython3",
   "version": "3.7.8"
  }
 },
 "nbformat": 4,
 "nbformat_minor": 4
}
