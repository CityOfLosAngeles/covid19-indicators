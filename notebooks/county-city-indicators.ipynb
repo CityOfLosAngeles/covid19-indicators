{
 "cells": [
  {
   "cell_type": "markdown",
   "metadata": {},
   "source": [
    "## LA's COVID-19 Reopening Indicators \n",
    "\n",
    "The NY Times wrote about rushed reopenings being [a global trial-and-error experiment](https://www.nytimes.com/2020/05/07/world/europe/coronavirus-reopening-costs.html) with a further analysis showing how US states reopening [fail to meet the WH guidelines](https://www.nytimes.com/interactive/2020/05/07/us/coronavirus-states-reopen-criteria.html). \n",
    "\n",
    "While we wait for LA's own reopening indicators, we can still see how LA stacks up against NY and Chicago's indicators. [NY State's Reopening Indicators](https://www.nytimes.com/2020/05/04/nyregion/coronavirus-reopen-cuomo-ny.html) were based heavily in part by the White House [Opening Up America Again gating criteria](https://www.whitehouse.gov/wp-content/uploads/2020/04/Guidelines-for-Opening-Up-America-Again.pdf), and Chicago outlined even [tougher benchmarks than the IL statewide strategy](https://www.chicagotribune.com/coronavirus/ct-coronavirus-chicago-reopening-lightfoot-20200508-ztpnouwexrcvfdfcr2yccbc53a-story.html). In terms of outbreak severity, [LA and Chicago come right after NYC](https://www.nytimes.com/2020/05/09/us/coronavirus-chicago.html). As of mid May, [LA, DC, and Chicago](https://www.latimes.com/california/story/2020-05-22/white-house-concerned-with-coronavirus-spread-in-l-a-area-asks-cdc-to-investigate) remain hotspots within the US because the caseloads are not consistently dropping."
   ]
  },
  {
   "cell_type": "markdown",
   "metadata": {},
   "source": [
    "### [White House Gating Criteria](https://www.whitehouse.gov/wp-content/uploads/2020/04/Guidelines-for-Opening-Up-America-Again.pdf)\n",
    "#### Symptoms\n",
    "* Downward trajectory of influenza-like illnesses (ILI) reported within a 14-day period **and**\n",
    "* Downward trajectory of COVID-like syndromic cases reported within a 14-day period\n",
    "\n",
    "#### Cases\n",
    "* Downward trajectory of documented cases within a 14-day period **or**\n",
    "* Downward trajectory of positive tests as a percent of total tests within a 14-day period (flat or increasing volume of tests) \n",
    "\n",
    "#### Hospitals\n",
    "* Treat all patients without crisis care **and**\n",
    "* Robust testing program in place for at-risk healthcare workers, including emerging antibody testing\n",
    "\n",
    "| NY | Chicago |\n",
    "| :-- | :-- |\n",
    "| At least 14 days decline in total net hospitalizations on a 3-day rolling average **or** <BR> Less than 15 net new total hospitalizations on a 3-day rolling average </BR> | At least 14 days decline in new cases, on average \n",
    "| At least 14 days decline in total net deaths on a 3-day rolling average **or** <BR> Less than 5 new deaths on a 3-day rolling average </BR> | At least 14 days decline in of case rate (per capita?) |\n",
    "| At least 30% total hospital and ICU beds available  | At least 14 days decline in rate of new cases (per capita?)\n",
    "| At least 90 days of PPE stockpiled  | Stable or declining rates of hospitalizations  \n",
    "| Capacity to conduct 30 tests per 1,000 residents per month  | Stable or declining rates of ICU admissions \n",
    "| 30 working contact tracers per 100,000 residents | Stable or declining rates of ICU deaths\n",
    "| Rural regions: Fewer than 2 new COVID patients admitted per 100,000 residents per day | Share of positive results are decreasing below 15% of those tested in the community \n",
    "|   | Fewer than 1,800 coronavirus patients in hospital beds \n",
    "|   | Fewer than 600 coronavirus patients in ICU beds\n",
    "|   | Fewer than 450 coronavirus patients on ventilators\n",
    "|   | Test 135,000 per month, equivalent to 4,500 people per day"
   ]
  },
  {
   "cell_type": "code",
   "execution_count": 1,
   "metadata": {},
   "outputs": [],
   "source": [
    "import pandas as pd\n",
    "import pytz\n",
    "\n",
    "import utils\n",
    "import meet_indicators\n",
    "import default_parameters\n",
    "\n",
    "from datetime import date, datetime, timedelta\n",
    "from IPython.display import Markdown\n",
    "\n",
    "\n",
    "# Default parameters\n",
    "county_state_name = default_parameters.county_state_name\n",
    "state_name = default_parameters.state_name\n",
    "msa_name = default_parameters.msa_name\n",
    "time_zone = default_parameters.time_zone\n",
    "\n",
    "fulldate_format = default_parameters.fulldate_format\n",
    "monthdate_format = default_parameters.monthdate_format\n",
    "start_date = default_parameters.start_date\n",
    "yesterday_date = default_parameters.yesterday_date\n",
    "today_date = default_parameters.today_date\n",
    "two_weeks_ago = default_parameters.two_weeks_ago\n",
    "two_days_ago = default_parameters.two_days_ago\n",
    "\n",
    "# Daily testing upper and lower bound\n",
    "county_test_lower_bound = 10_000\n",
    "county_test_upper_bound = 16_667\n",
    "city_test_lower_bound = 5_000\n",
    "city_test_upper_bound = 8_333\n",
    "positive_lower_bound = 0.04\n",
    "positive_upper_bound = 0.10\n",
    "hospital_bound = 0.30"
   ]
  },
  {
   "cell_type": "code",
   "execution_count": 2,
   "metadata": {},
   "outputs": [],
   "source": [
    "def summary_of_lacounty_indicators():    \n",
    "    county_case_indicator = meet_indicators.meet_case(\"county\", county_state_name, start_date)\n",
    "    county_death_indicator = meet_indicators.meet_death(\"county\", county_state_name, start_date)\n",
    "    county_test_indicator = meet_indicators.meet_daily_testing(yesterday_date, \"county\", \n",
    "                                                               county_test_lower_bound, county_test_upper_bound)\n",
    "    county_positive_indicator = meet_indicators.meet_positive_share(yesterday_date, \"county\", \n",
    "                                                                    positive_lower_bound, positive_upper_bound)\n",
    "    acute_indicator = meet_indicators.meet_acute(yesterday_date)\n",
    "    icu_indicator = meet_indicators.meet_icu(yesterday_date)\n",
    "    ventilator_indicator = meet_indicators.meet_ventilator(yesterday_date)\n",
    "    \n",
    "    # Markdown output\n",
    "    display(Markdown(f\"### Summary of LA County Indicators as of {yesterday_date}:\"))\n",
    "    display(Markdown(\"#### Cases\")) \n",
    "    display(Markdown(\"Cases and deaths should sustain and 14 day downward trajectory\"))\n",
    "    \n",
    "    # Cases\n",
    "    display(Markdown(f\"Declining cases: **{county_case_indicator}** out of 14 days\"))\n",
    "    display(Markdown(f\"Declining deaths: **{county_death_indicator}** out of 14 days\"))\n",
    "   \n",
    "    display(Markdown(\"#### Testing\"))\n",
    "    display(Markdown(\"Testing values can be <span style='color:red'>below lower bound; </span><span style='color:green'>between lower and upper bound; </span><span style = 'color:blue'>above upper bound</span>\"))    \n",
    "    display(Markdown(\"Positive share values can be <span style='color:red'>above upper bound; </span><span style='color:green'>between lower and upper bound; </span><span style = 'color:blue'>below lower bound</span>\"))    \n",
    "\n",
    "    # Daily Testing\n",
    "    if county_test_indicator >= county_test_upper_bound:\n",
    "        display(Markdown(f\"Daily Testing: <strong><span style='color:blue'>{county_test_indicator:,}</span></strong>\"))    \n",
    "    if (county_test_indicator >= county_test_lower_bound) and (county_test_indicator < county_test_upper_bound):\n",
    "        display(Markdown(f\"Daily Testing: <strong><span style='color:green'>{county_test_indicator:,}</span></strong>\"))\n",
    "    if county_test_indicator < county_test_lower_bound:\n",
    "        display(Markdown(f\"Daily Testing: <strong><span style='color:red'>{county_test_indicator:,}</span></strong>\"))          \n",
    "    \n",
    "    # Share of Positive Tests\n",
    "    if county_positive_indicator > positive_upper_bound:\n",
    "        display(Markdown(f\"Share of Positive COVID-19 Results: <strong><span style='color:red'>{county_positive_indicator}</span></strong>\"))          \n",
    "    if (county_positive_indicator >= positive_lower_bound) and (county_positive_indicator < positive_upper_bound):\n",
    "        display(Markdown(f\"Share of Positive COVID-19 Results: <strong><span style='color:green'>{county_positive_indicator}</span></strong>\"))          \n",
    "    if county_positive_indicator < positive_lower_bound:\n",
    "        display(Markdown(f\"Share of Positive COVID-19 Results: <strong><span style='color:blue'>{county_positive_indicator}</span></strong>\"))   \n",
    "    \n",
    "    display(Markdown(\"#### Hospital Equipment\"))  \n",
    "\n",
    "    # Hospital Equipment\n",
    "    if acute_indicator >= hospital_bound:\n",
    "        display(Markdown(f\"% Acute Beds: <strong><span style='color:green'>{acute_indicator}</span></strong>\"))          \n",
    "    elif acute_indicator < hospital_bound:\n",
    "        display(Markdown(f\"% Acute Beds: <strong><span style='color:red'>{acute_indicator}</span></strong>\"))          \n",
    "\n",
    "    if icu_indicator >= hospital_bound:\n",
    "        display(Markdown(f\"% ICU Beds: <strong><span style='color:green'>{icu_indicator}</span></strong>\"))          \n",
    "    elif icu_indicator < hospital_bound:\n",
    "        display(Markdown(f\"% ICU Beds: <strong><span style='color:red'>{icu_indicator}</span></strong>\")) \n",
    "    \n",
    "    if ventilator_indicator >= hospital_bound:\n",
    "        display(Markdown(f\"% Ventilators: <strong><span style='color:green'>{ventilator_indicator}</span></strong>\"))          \n",
    "    elif ventilator_indicator < hospital_bound:\n",
    "        display(Markdown(f\"% Ventilators: <strong><span style='color:red'>{ventilator_indicator}</span></strong>\")) \n"
   ]
  },
  {
   "cell_type": "code",
   "execution_count": 3,
   "metadata": {},
   "outputs": [],
   "source": [
    "def summary_of_lacity_indicators():    \n",
    "    city_case_indicator = meet_indicators.meet_lacity_case(start_date)\n",
    "    city_test_indicator = meet_indicators.meet_daily_testing(yesterday_date, \"city\", \n",
    "                                                                   city_test_lower_bound, city_test_upper_bound)\n",
    "    city_positive_indicator = meet_indicators.meet_positive_share(yesterday_date, \"city\", \n",
    "                                                                  positive_lower_bound, positive_upper_bound)\n",
    "    \n",
    "    # Markdown output\n",
    "    display(Markdown(f\"### Summary of City of LA Indicators as of {yesterday_date}:\"))\n",
    "    display(Markdown(\"#### Cases\")) \n",
    "    display(Markdown(\"Cases and deaths should sustain and 14 day downward trajectory\"))\n",
    "\n",
    "    # Cases\n",
    "    display(Markdown(f\"Declining cases: **{city_case_indicator}** out of 14 days\"))\n",
    "\n",
    "    display(Markdown(\"#### Testing\"))\n",
    "    display(Markdown(\"Testing values can be <span style='color:red'>below lower bound; </span><span style='color:green'>between lower and upper bound; </span><span style = 'color:blue'>above upper bound</span>\"))    \n",
    "    display(Markdown(\"Positive share values can be <span style='color:red'>above upper bound; </span><span style='color:green'>between lower and upper bound; </span><span style = 'color:blue'>below lower bound</span>\"))    \n",
    "\n",
    "    # Daily Testing\n",
    "    if city_test_indicator >= city_test_upper_bound:\n",
    "        display(Markdown(f\"Daily Testing: <strong><span style='color:blue'>{city_test_indicator:,}</span></strong>\"))    \n",
    "    if (city_test_indicator >= city_test_lower_bound) and (city_test_indicator < city_test_upper_bound):\n",
    "        display(Markdown(f\"Daily Testing: <strong><span style='color:green'>{city_test_indicator:,}</span></strong>\"))\n",
    "    if city_test_indicator < city_test_lower_bound:\n",
    "        display(Markdown(f\"Daily Testing: <strong><span style='color:red'>{city_test_indicator:,}</span></strong>\"))          \n",
    "    \n",
    "    # Share of Positive Tests\n",
    "    if city_positive_indicator > positive_upper_bound:\n",
    "        display(Markdown(f\"Share of Positive COVID-19 Results: <strong><span style='color:red'>{city_positive_indicator}</span></strong>\"))          \n",
    "    if (city_positive_indicator >= positive_lower_bound) and (city_positive_indicator < positive_upper_bound):\n",
    "        display(Markdown(f\"Share of Positive COVID-19 Results: <strong><span style='color:green'>{city_positive_indicator}</span></strong>\"))          \n",
    "    if city_positive_indicator < positive_lower_bound:\n",
    "        display(Markdown(f\"Share of Positive COVID-19 Results: <strong><span style='color:blue'>{city_positive_indicator}</span></strong>\"))       \n",
    "   "
   ]
  },
  {
   "cell_type": "code",
   "execution_count": 4,
   "metadata": {},
   "outputs": [
    {
     "data": {
      "text/markdown": [
       "### Summary of LA County Indicators as of 5/27/20:"
      ],
      "text/plain": [
       "<IPython.core.display.Markdown object>"
      ]
     },
     "metadata": {},
     "output_type": "display_data"
    },
    {
     "data": {
      "text/markdown": [
       "#### Cases"
      ],
      "text/plain": [
       "<IPython.core.display.Markdown object>"
      ]
     },
     "metadata": {},
     "output_type": "display_data"
    },
    {
     "data": {
      "text/markdown": [
       "Cases and deaths should sustain and 14 day downward trajectory"
      ],
      "text/plain": [
       "<IPython.core.display.Markdown object>"
      ]
     },
     "metadata": {},
     "output_type": "display_data"
    },
    {
     "data": {
      "text/markdown": [
       "Declining cases: **3** out of 14 days"
      ],
      "text/plain": [
       "<IPython.core.display.Markdown object>"
      ]
     },
     "metadata": {},
     "output_type": "display_data"
    },
    {
     "data": {
      "text/markdown": [
       "Declining deaths: **10** out of 14 days"
      ],
      "text/plain": [
       "<IPython.core.display.Markdown object>"
      ]
     },
     "metadata": {},
     "output_type": "display_data"
    },
    {
     "data": {
      "text/markdown": [
       "#### Testing"
      ],
      "text/plain": [
       "<IPython.core.display.Markdown object>"
      ]
     },
     "metadata": {},
     "output_type": "display_data"
    },
    {
     "data": {
      "text/markdown": [
       "Testing values can be <span style='color:red'>below lower bound; </span><span style='color:green'>between lower and upper bound; </span><span style = 'color:blue'>above upper bound</span>"
      ],
      "text/plain": [
       "<IPython.core.display.Markdown object>"
      ]
     },
     "metadata": {},
     "output_type": "display_data"
    },
    {
     "data": {
      "text/markdown": [
       "Positive share values can be <span style='color:red'>above upper bound; </span><span style='color:green'>between lower and upper bound; </span><span style = 'color:blue'>below lower bound</span>"
      ],
      "text/plain": [
       "<IPython.core.display.Markdown object>"
      ]
     },
     "metadata": {},
     "output_type": "display_data"
    },
    {
     "data": {
      "text/markdown": [
       "Daily Testing: <strong><span style='color:blue'>16,838</span></strong>"
      ],
      "text/plain": [
       "<IPython.core.display.Markdown object>"
      ]
     },
     "metadata": {},
     "output_type": "display_data"
    },
    {
     "data": {
      "text/markdown": [
       "Share of Positive COVID-19 Results: <strong><span style='color:green'>0.08</span></strong>"
      ],
      "text/plain": [
       "<IPython.core.display.Markdown object>"
      ]
     },
     "metadata": {},
     "output_type": "display_data"
    },
    {
     "data": {
      "text/markdown": [
       "#### Hospital Equipment"
      ],
      "text/plain": [
       "<IPython.core.display.Markdown object>"
      ]
     },
     "metadata": {},
     "output_type": "display_data"
    },
    {
     "data": {
      "text/markdown": [
       "% Acute Beds: <strong><span style='color:green'>0.41</span></strong>"
      ],
      "text/plain": [
       "<IPython.core.display.Markdown object>"
      ]
     },
     "metadata": {},
     "output_type": "display_data"
    },
    {
     "data": {
      "text/markdown": [
       "% ICU Beds: <strong><span style='color:red'>0.25</span></strong>"
      ],
      "text/plain": [
       "<IPython.core.display.Markdown object>"
      ]
     },
     "metadata": {},
     "output_type": "display_data"
    },
    {
     "data": {
      "text/markdown": [
       "% Ventilators: <strong><span style='color:green'>0.57</span></strong>"
      ],
      "text/plain": [
       "<IPython.core.display.Markdown object>"
      ]
     },
     "metadata": {},
     "output_type": "display_data"
    },
    {
     "data": {
      "text/markdown": [
       "### Summary of City of LA Indicators as of 5/27/20:"
      ],
      "text/plain": [
       "<IPython.core.display.Markdown object>"
      ]
     },
     "metadata": {},
     "output_type": "display_data"
    },
    {
     "data": {
      "text/markdown": [
       "#### Cases"
      ],
      "text/plain": [
       "<IPython.core.display.Markdown object>"
      ]
     },
     "metadata": {},
     "output_type": "display_data"
    },
    {
     "data": {
      "text/markdown": [
       "Cases and deaths should sustain and 14 day downward trajectory"
      ],
      "text/plain": [
       "<IPython.core.display.Markdown object>"
      ]
     },
     "metadata": {},
     "output_type": "display_data"
    },
    {
     "data": {
      "text/markdown": [
       "Declining cases: **4** out of 14 days"
      ],
      "text/plain": [
       "<IPython.core.display.Markdown object>"
      ]
     },
     "metadata": {},
     "output_type": "display_data"
    },
    {
     "data": {
      "text/markdown": [
       "#### Testing"
      ],
      "text/plain": [
       "<IPython.core.display.Markdown object>"
      ]
     },
     "metadata": {},
     "output_type": "display_data"
    },
    {
     "data": {
      "text/markdown": [
       "Testing values can be <span style='color:red'>below lower bound; </span><span style='color:green'>between lower and upper bound; </span><span style = 'color:blue'>above upper bound</span>"
      ],
      "text/plain": [
       "<IPython.core.display.Markdown object>"
      ]
     },
     "metadata": {},
     "output_type": "display_data"
    },
    {
     "data": {
      "text/markdown": [
       "Positive share values can be <span style='color:red'>above upper bound; </span><span style='color:green'>between lower and upper bound; </span><span style = 'color:blue'>below lower bound</span>"
      ],
      "text/plain": [
       "<IPython.core.display.Markdown object>"
      ]
     },
     "metadata": {},
     "output_type": "display_data"
    },
    {
     "data": {
      "text/markdown": [
       "Daily Testing: <strong><span style='color:green'>8,067</span></strong>"
      ],
      "text/plain": [
       "<IPython.core.display.Markdown object>"
      ]
     },
     "metadata": {},
     "output_type": "display_data"
    },
    {
     "data": {
      "text/markdown": [
       "Share of Positive COVID-19 Results: <strong><span style='color:green'>0.05</span></strong>"
      ],
      "text/plain": [
       "<IPython.core.display.Markdown object>"
      ]
     },
     "metadata": {},
     "output_type": "display_data"
    }
   ],
   "source": [
    "summary_of_lacounty_indicators()\n",
    "summary_of_lacity_indicators()"
   ]
  },
  {
   "cell_type": "markdown",
   "metadata": {},
   "source": [
    "## Caseload Charts"
   ]
  },
  {
   "cell_type": "code",
   "execution_count": 5,
   "metadata": {},
   "outputs": [
    {
     "data": {
      "text/html": [
       "\n",
       "<div id=\"altair-viz-ff21dff858924676816acc52b1c4c13d\"></div>\n",
       "<script type=\"text/javascript\">\n",
       "  (function(spec, embedOpt){\n",
       "    const outputDiv = document.getElementById(\"altair-viz-ff21dff858924676816acc52b1c4c13d\");\n",
       "    const paths = {\n",
       "      \"vega\": \"https://cdn.jsdelivr.net/npm//vega@5?noext\",\n",
       "      \"vega-lib\": \"https://cdn.jsdelivr.net/npm//vega-lib?noext\",\n",
       "      \"vega-lite\": \"https://cdn.jsdelivr.net/npm//vega-lite@4.0.2?noext\",\n",
       "      \"vega-embed\": \"https://cdn.jsdelivr.net/npm//vega-embed@6?noext\",\n",
       "    };\n",
       "\n",
       "    function loadScript(lib) {\n",
       "      return new Promise(function(resolve, reject) {\n",
       "        var s = document.createElement('script');\n",
       "        s.src = paths[lib];\n",
       "        s.async = true;\n",
       "        s.onload = () => resolve(paths[lib]);\n",
       "        s.onerror = () => reject(`Error loading script: ${paths[lib]}`);\n",
       "        document.getElementsByTagName(\"head\")[0].appendChild(s);\n",
       "      });\n",
       "    }\n",
       "\n",
       "    function showError(err) {\n",
       "      outputDiv.innerHTML = `<div class=\"error\" style=\"color:red;\">${err}</div>`;\n",
       "      throw err;\n",
       "    }\n",
       "\n",
       "    function displayChart(vegaEmbed) {\n",
       "      vegaEmbed(outputDiv, spec, embedOpt)\n",
       "        .catch(err => showError(`Javascript Error: ${err.message}<br>This usually means there's a typo in your chart specification. See the javascript console for the full traceback.`));\n",
       "    }\n",
       "\n",
       "    if(typeof define === \"function\" && define.amd) {\n",
       "      requirejs.config({paths});\n",
       "      require([\"vega-embed\"], displayChart, err => showError(`Error loading script: ${err.message}`));\n",
       "    } else if (typeof vegaEmbed === \"function\") {\n",
       "      displayChart(vegaEmbed);\n",
       "    } else {\n",
       "      loadScript(\"vega\")\n",
       "        .then(() => loadScript(\"vega-lite\"))\n",
       "        .then(() => loadScript(\"vega-embed\"))\n",
       "        .catch(showError)\n",
       "        .then(() => displayChart(vegaEmbed));\n",
       "    }\n",
       "  })({\"config\": {\"view\": {\"continuousWidth\": 400, \"continuousHeight\": 300, \"strokeOpacity\": 0}, \"axis\": {\"domainOpacity\": 0.4, \"gridOpacity\": 0.4}, \"title\": {\"anchor\": \"middle\", \"color\": \"black\", \"font\": \"Roboto\", \"fontSize\": 10}}, \"hconcat\": [{\"mark\": \"line\", \"encoding\": {\"color\": {\"value\": \"#0A4C6A\"}, \"x\": {\"type\": \"temporal\", \"axis\": {\"format\": \"%-m/%-d\"}, \"field\": \"date\", \"timeUnit\": \"monthdate\", \"title\": \"date\"}, \"y\": {\"type\": \"quantitative\", \"field\": \"cases_avg7\", \"title\": \"7-day avg\"}}, \"height\": 200, \"title\": \"Los Angeles County: New Cases\", \"width\": 250}, {\"mark\": \"line\", \"encoding\": {\"color\": {\"value\": \"#A30F23\"}, \"x\": {\"type\": \"temporal\", \"axis\": {\"format\": \"%-m/%-d\"}, \"field\": \"date\", \"timeUnit\": \"monthdate\", \"title\": \"date\"}, \"y\": {\"type\": \"quantitative\", \"field\": \"deaths_avg7\", \"title\": \"7-day avg\"}}, \"height\": 200, \"title\": \"Los Angeles County: New Deaths\", \"width\": 250}], \"data\": {\"name\": \"data-b92166cdd62d931f8e0b5a622653d54d\"}, \"$schema\": \"https://vega.github.io/schema/vega-lite/v4.0.2.json\", \"datasets\": {\"data-b92166cdd62d931f8e0b5a622653d54d\": [{\"county\": \"Los Angeles\", \"state\": \"California\", \"state_abbrev\": \"CA\", \"fips\": \"06037\", \"date\": \"2020-04-15T07:00:00+00:00\", \"Lat\": 34.30828379, \"Lon\": -118.2282411, \"cases\": 10517, \"deaths\": 405.0, \"new_cases\": 470, \"new_deaths\": 45.0, \"cases_avg7\": 422.57142857142856, \"deaths_avg3\": 45.333333333333336, \"deaths_avg7\": 29.571428571428573}, {\"county\": \"Los Angeles\", \"state\": \"California\", \"state_abbrev\": \"CA\", \"fips\": \"06037\", \"date\": \"2020-04-16T07:00:00+00:00\", \"Lat\": 34.30828379, \"Lon\": -118.2282411, \"cases\": 10854, \"deaths\": 457.0, \"new_cases\": 337, \"new_deaths\": 52.0, \"cases_avg7\": 414.14285714285717, \"deaths_avg3\": 45.0, \"deaths_avg7\": 33.42857142857143}, {\"county\": \"Los Angeles\", \"state\": \"California\", \"state_abbrev\": \"CA\", \"fips\": \"06037\", \"date\": \"2020-04-17T07:00:00+00:00\", \"Lat\": 34.30828379, \"Lon\": -118.2282411, \"cases\": 11400, \"deaths\": 497.0, \"new_cases\": 546, \"new_deaths\": 40.0, \"cases_avg7\": 422.42857142857144, \"deaths_avg3\": 45.666666666666664, \"deaths_avg7\": 36.42857142857143}, {\"county\": \"Los Angeles\", \"state\": \"California\", \"state_abbrev\": \"CA\", \"fips\": \"06037\", \"date\": \"2020-04-18T07:00:00+00:00\", \"Lat\": 34.30828379, \"Lon\": -118.2282411, \"cases\": 12021, \"deaths\": 576.0, \"new_cases\": 621, \"new_deaths\": 79.0, \"cases_avg7\": 509.7142857142857, \"deaths_avg3\": 57.0, \"deaths_avg7\": 47.42857142857143}, {\"county\": \"Los Angeles\", \"state\": \"California\", \"state_abbrev\": \"CA\", \"fips\": \"06037\", \"date\": \"2020-04-19T07:00:00+00:00\", \"Lat\": 34.30828379, \"Lon\": -118.2282411, \"cases\": 12341, \"deaths\": 600.0, \"new_cases\": 320, \"new_deaths\": 24.0, \"cases_avg7\": 492.42857142857144, \"deaths_avg3\": 47.666666666666664, \"deaths_avg7\": 47.285714285714285}, {\"county\": \"Los Angeles\", \"state\": \"California\", \"state_abbrev\": \"CA\", \"fips\": \"06037\", \"date\": \"2020-04-20T07:00:00+00:00\", \"Lat\": 34.30828379, \"Lon\": -118.2282411, \"cases\": 13823, \"deaths\": 619.0, \"new_cases\": 1482, \"new_deaths\": 19.0, \"cases_avg7\": 627.1428571428571, \"deaths_avg3\": 40.666666666666664, \"deaths_avg7\": 42.42857142857143}, {\"county\": \"Los Angeles\", \"state\": \"California\", \"state_abbrev\": \"CA\", \"fips\": \"06037\", \"date\": \"2020-04-21T07:00:00+00:00\", \"Lat\": 34.30828379, \"Lon\": -118.2282411, \"cases\": 15153, \"deaths\": 663.0, \"new_cases\": 1330, \"new_deaths\": 44.0, \"cases_avg7\": 729.4285714285714, \"deaths_avg3\": 29.0, \"deaths_avg7\": 43.285714285714285}, {\"county\": \"Los Angeles\", \"state\": \"California\", \"state_abbrev\": \"CA\", \"fips\": \"06037\", \"date\": \"2020-04-22T07:00:00+00:00\", \"Lat\": 34.30828379, \"Lon\": -118.2282411, \"cases\": 16447, \"deaths\": 732.0, \"new_cases\": 1294, \"new_deaths\": 69.0, \"cases_avg7\": 847.1428571428571, \"deaths_avg3\": 44.0, \"deaths_avg7\": 46.714285714285715}, {\"county\": \"Los Angeles\", \"state\": \"California\", \"state_abbrev\": \"CA\", \"fips\": \"06037\", \"date\": \"2020-04-23T07:00:00+00:00\", \"Lat\": 34.30828379, \"Lon\": -118.2282411, \"cases\": 17537, \"deaths\": 797.0, \"new_cases\": 1090, \"new_deaths\": 65.0, \"cases_avg7\": 954.7142857142857, \"deaths_avg3\": 59.333333333333336, \"deaths_avg7\": 48.57142857142857}, {\"county\": \"Los Angeles\", \"state\": \"California\", \"state_abbrev\": \"CA\", \"fips\": \"06037\", \"date\": \"2020-04-24T07:00:00+00:00\", \"Lat\": 34.30828379, \"Lon\": -118.2282411, \"cases\": 18545, \"deaths\": 850.0, \"new_cases\": 1008, \"new_deaths\": 53.0, \"cases_avg7\": 1020.7142857142857, \"deaths_avg3\": 62.333333333333336, \"deaths_avg7\": 50.42857142857143}, {\"county\": \"Los Angeles\", \"state\": \"California\", \"state_abbrev\": \"CA\", \"fips\": \"06037\", \"date\": \"2020-04-25T07:00:00+00:00\", \"Lat\": 34.30828379, \"Lon\": -118.2282411, \"cases\": 19133, \"deaths\": 895.0, \"new_cases\": 588, \"new_deaths\": 45.0, \"cases_avg7\": 1016.0, \"deaths_avg3\": 54.333333333333336, \"deaths_avg7\": 45.57142857142857}, {\"county\": \"Los Angeles\", \"state\": \"California\", \"state_abbrev\": \"CA\", \"fips\": \"06037\", \"date\": \"2020-04-26T07:00:00+00:00\", \"Lat\": 34.30828379, \"Lon\": -118.2282411, \"cases\": 19567, \"deaths\": 916.0, \"new_cases\": 434, \"new_deaths\": 21.0, \"cases_avg7\": 1032.2857142857142, \"deaths_avg3\": 39.666666666666664, \"deaths_avg7\": 45.142857142857146}, {\"county\": \"Los Angeles\", \"state\": \"California\", \"state_abbrev\": \"CA\", \"fips\": \"06037\", \"date\": \"2020-04-27T07:00:00+00:00\", \"Lat\": 34.30828379, \"Lon\": -118.2282411, \"cases\": 20423, \"deaths\": 944.0, \"new_cases\": 856, \"new_deaths\": 28.0, \"cases_avg7\": 942.8571428571429, \"deaths_avg3\": 31.333333333333332, \"deaths_avg7\": 46.42857142857143}, {\"county\": \"Los Angeles\", \"state\": \"California\", \"state_abbrev\": \"CA\", \"fips\": \"06037\", \"date\": \"2020-04-28T07:00:00+00:00\", \"Lat\": 34.30828379, \"Lon\": -118.2282411, \"cases\": 20996, \"deaths\": 1002.0, \"new_cases\": 573, \"new_deaths\": 58.0, \"cases_avg7\": 834.7142857142857, \"deaths_avg3\": 35.666666666666664, \"deaths_avg7\": 48.42857142857143}, {\"county\": \"Los Angeles\", \"state\": \"California\", \"state_abbrev\": \"CA\", \"fips\": \"06037\", \"date\": \"2020-04-29T07:00:00+00:00\", \"Lat\": 34.30828379, \"Lon\": -118.2282411, \"cases\": 22485, \"deaths\": 1056.0, \"new_cases\": 1489, \"new_deaths\": 54.0, \"cases_avg7\": 862.5714285714286, \"deaths_avg3\": 46.666666666666664, \"deaths_avg7\": 46.285714285714285}, {\"county\": \"Los Angeles\", \"state\": \"California\", \"state_abbrev\": \"CA\", \"fips\": \"06037\", \"date\": \"2020-04-30T07:00:00+00:00\", \"Lat\": 34.30828379, \"Lon\": -118.2282411, \"cases\": 23220, \"deaths\": 1111.0, \"new_cases\": 735, \"new_deaths\": 55.0, \"cases_avg7\": 811.8571428571429, \"deaths_avg3\": 55.666666666666664, \"deaths_avg7\": 44.857142857142854}, {\"county\": \"Los Angeles\", \"state\": \"California\", \"state_abbrev\": \"CA\", \"fips\": \"06037\", \"date\": \"2020-05-01T07:00:00+00:00\", \"Lat\": 34.30828379, \"Lon\": -118.2282411, \"cases\": 24262, \"deaths\": 1174.0, \"new_cases\": 1042, \"new_deaths\": 63.0, \"cases_avg7\": 816.7142857142857, \"deaths_avg3\": 57.333333333333336, \"deaths_avg7\": 46.285714285714285}, {\"county\": \"Los Angeles\", \"state\": \"California\", \"state_abbrev\": \"CA\", \"fips\": \"06037\", \"date\": \"2020-05-02T07:00:00+00:00\", \"Lat\": 34.30828379, \"Lon\": -118.2282411, \"cases\": 24894, \"deaths\": 1209.0, \"new_cases\": 632, \"new_deaths\": 35.0, \"cases_avg7\": 823.0, \"deaths_avg3\": 51.0, \"deaths_avg7\": 44.857142857142854}, {\"county\": \"Los Angeles\", \"state\": \"California\", \"state_abbrev\": \"CA\", \"fips\": \"06037\", \"date\": \"2020-05-03T07:00:00+00:00\", \"Lat\": 34.30828379, \"Lon\": -118.2282411, \"cases\": 25699, \"deaths\": 1231.0, \"new_cases\": 805, \"new_deaths\": 22.0, \"cases_avg7\": 876.0, \"deaths_avg3\": 40.0, \"deaths_avg7\": 45.0}, {\"county\": \"Los Angeles\", \"state\": \"California\", \"state_abbrev\": \"CA\", \"fips\": \"06037\", \"date\": \"2020-05-04T07:00:00+00:00\", \"Lat\": 34.30828379, \"Lon\": -118.2282411, \"cases\": 26225, \"deaths\": 1257.0, \"new_cases\": 526, \"new_deaths\": 26.0, \"cases_avg7\": 828.8571428571429, \"deaths_avg3\": 27.666666666666668, \"deaths_avg7\": 44.714285714285715}, {\"county\": \"Los Angeles\", \"state\": \"California\", \"state_abbrev\": \"CA\", \"fips\": \"06037\", \"date\": \"2020-05-05T07:00:00+00:00\", \"Lat\": 34.30828379, \"Lon\": -118.2282411, \"cases\": 27836, \"deaths\": 1315.0, \"new_cases\": 1611, \"new_deaths\": 58.0, \"cases_avg7\": 977.1428571428571, \"deaths_avg3\": 35.333333333333336, \"deaths_avg7\": 44.714285714285715}, {\"county\": \"Los Angeles\", \"state\": \"California\", \"state_abbrev\": \"CA\", \"fips\": \"06037\", \"date\": \"2020-05-06T07:00:00+00:00\", \"Lat\": 34.30828379, \"Lon\": -118.2282411, \"cases\": 28665, \"deaths\": 1369.0, \"new_cases\": 829, \"new_deaths\": 54.0, \"cases_avg7\": 882.8571428571429, \"deaths_avg3\": 46.0, \"deaths_avg7\": 44.714285714285715}, {\"county\": \"Los Angeles\", \"state\": \"California\", \"state_abbrev\": \"CA\", \"fips\": \"06037\", \"date\": \"2020-05-07T07:00:00+00:00\", \"Lat\": 34.30828379, \"Lon\": -118.2282411, \"cases\": 29511, \"deaths\": 1418.0, \"new_cases\": 846, \"new_deaths\": 49.0, \"cases_avg7\": 898.7142857142857, \"deaths_avg3\": 53.666666666666664, \"deaths_avg7\": 43.857142857142854}, {\"county\": \"Los Angeles\", \"state\": \"California\", \"state_abbrev\": \"CA\", \"fips\": \"06037\", \"date\": \"2020-05-08T07:00:00+00:00\", \"Lat\": 34.30828379, \"Lon\": -118.2282411, \"cases\": 30319, \"deaths\": 1470.0, \"new_cases\": 808, \"new_deaths\": 52.0, \"cases_avg7\": 865.2857142857143, \"deaths_avg3\": 51.666666666666664, \"deaths_avg7\": 42.285714285714285}, {\"county\": \"Los Angeles\", \"state\": \"California\", \"state_abbrev\": \"CA\", \"fips\": \"06037\", \"date\": \"2020-05-09T07:00:00+00:00\", \"Lat\": 34.30828379, \"Lon\": -118.2282411, \"cases\": 31241, \"deaths\": 1515.0, \"new_cases\": 922, \"new_deaths\": 45.0, \"cases_avg7\": 906.7142857142857, \"deaths_avg3\": 48.666666666666664, \"deaths_avg7\": 43.714285714285715}, {\"county\": \"Los Angeles\", \"state\": \"California\", \"state_abbrev\": \"CA\", \"fips\": \"06037\", \"date\": \"2020-05-10T07:00:00+00:00\", \"Lat\": 34.30828379, \"Lon\": -118.2282411, \"cases\": 31703, \"deaths\": 1531.0, \"new_cases\": 462, \"new_deaths\": 16.0, \"cases_avg7\": 857.7142857142857, \"deaths_avg3\": 37.666666666666664, \"deaths_avg7\": 42.857142857142854}, {\"county\": \"Los Angeles\", \"state\": \"California\", \"state_abbrev\": \"CA\", \"fips\": \"06037\", \"date\": \"2020-05-11T07:00:00+00:00\", \"Lat\": 34.30828379, \"Lon\": -118.2282411, \"cases\": 32263, \"deaths\": 1570.0, \"new_cases\": 560, \"new_deaths\": 39.0, \"cases_avg7\": 862.5714285714286, \"deaths_avg3\": 33.333333333333336, \"deaths_avg7\": 44.714285714285715}, {\"county\": \"Los Angeles\", \"state\": \"California\", \"state_abbrev\": \"CA\", \"fips\": \"06037\", \"date\": \"2020-05-12T07:00:00+00:00\", \"Lat\": 34.30828379, \"Lon\": -118.2282411, \"cases\": 33211, \"deaths\": 1616.0, \"new_cases\": 948, \"new_deaths\": 46.0, \"cases_avg7\": 767.8571428571429, \"deaths_avg3\": 33.666666666666664, \"deaths_avg7\": 43.0}, {\"county\": \"Los Angeles\", \"state\": \"California\", \"state_abbrev\": \"CA\", \"fips\": \"06037\", \"date\": \"2020-05-13T07:00:00+00:00\", \"Lat\": 34.30828379, \"Lon\": -118.2282411, \"cases\": 34538, \"deaths\": 1660.0, \"new_cases\": 1327, \"new_deaths\": 44.0, \"cases_avg7\": 839.0, \"deaths_avg3\": 43.0, \"deaths_avg7\": 41.57142857142857}, {\"county\": \"Los Angeles\", \"state\": \"California\", \"state_abbrev\": \"CA\", \"fips\": \"06037\", \"date\": \"2020-05-14T07:00:00+00:00\", \"Lat\": 34.30828379, \"Lon\": -118.2282411, \"cases\": 35392, \"deaths\": 1711.0, \"new_cases\": 854, \"new_deaths\": 51.0, \"cases_avg7\": 840.1428571428571, \"deaths_avg3\": 47.0, \"deaths_avg7\": 41.857142857142854}, {\"county\": \"Los Angeles\", \"state\": \"California\", \"state_abbrev\": \"CA\", \"fips\": \"06037\", \"date\": \"2020-05-15T07:00:00+00:00\", \"Lat\": 34.30828379, \"Lon\": -118.2282411, \"cases\": 36316, \"deaths\": 1753.0, \"new_cases\": 924, \"new_deaths\": 42.0, \"cases_avg7\": 856.7142857142857, \"deaths_avg3\": 45.666666666666664, \"deaths_avg7\": 40.42857142857143}, {\"county\": \"Los Angeles\", \"state\": \"California\", \"state_abbrev\": \"CA\", \"fips\": \"06037\", \"date\": \"2020-05-16T07:00:00+00:00\", \"Lat\": 34.30828379, \"Lon\": -118.2282411, \"cases\": 37360, \"deaths\": 1793.0, \"new_cases\": 1044, \"new_deaths\": 40.0, \"cases_avg7\": 874.1428571428571, \"deaths_avg3\": 44.333333333333336, \"deaths_avg7\": 39.714285714285715}, {\"county\": \"Los Angeles\", \"state\": \"California\", \"state_abbrev\": \"CA\", \"fips\": \"06037\", \"date\": \"2020-05-17T07:00:00+00:00\", \"Lat\": 34.30828379, \"Lon\": -118.2282411, \"cases\": 38011, \"deaths\": 1821.0, \"new_cases\": 651, \"new_deaths\": 28.0, \"cases_avg7\": 901.1428571428571, \"deaths_avg3\": 36.666666666666664, \"deaths_avg7\": 41.42857142857143}, {\"county\": \"Los Angeles\", \"state\": \"California\", \"state_abbrev\": \"CA\", \"fips\": \"06037\", \"date\": \"2020-05-18T07:00:00+00:00\", \"Lat\": 34.30828379, \"Lon\": -118.2282411, \"cases\": 38458, \"deaths\": 1840.0, \"new_cases\": 447, \"new_deaths\": 19.0, \"cases_avg7\": 885.0, \"deaths_avg3\": 29.0, \"deaths_avg7\": 38.57142857142857}, {\"county\": \"Los Angeles\", \"state\": \"California\", \"state_abbrev\": \"CA\", \"fips\": \"06037\", \"date\": \"2020-05-19T07:00:00+00:00\", \"Lat\": 34.30828379, \"Lon\": -118.2282411, \"cases\": 39573, \"deaths\": 1913.0, \"new_cases\": 1115, \"new_deaths\": 73.0, \"cases_avg7\": 908.8571428571429, \"deaths_avg3\": 40.0, \"deaths_avg7\": 42.42857142857143}, {\"county\": \"Los Angeles\", \"state\": \"California\", \"state_abbrev\": \"CA\", \"fips\": \"06037\", \"date\": \"2020-05-20T07:00:00+00:00\", \"Lat\": 34.30828379, \"Lon\": -118.2282411, \"cases\": 40895, \"deaths\": 1973.0, \"new_cases\": 1322, \"new_deaths\": 60.0, \"cases_avg7\": 908.1428571428571, \"deaths_avg3\": 50.666666666666664, \"deaths_avg7\": 44.714285714285715}, {\"county\": \"Los Angeles\", \"state\": \"California\", \"state_abbrev\": \"CA\", \"fips\": \"06037\", \"date\": \"2020-05-21T07:00:00+00:00\", \"Lat\": 34.30828379, \"Lon\": -118.2282411, \"cases\": 42037, \"deaths\": 2016.0, \"new_cases\": 1142, \"new_deaths\": 43.0, \"cases_avg7\": 949.2857142857143, \"deaths_avg3\": 58.666666666666664, \"deaths_avg7\": 43.57142857142857}, {\"county\": \"Los Angeles\", \"state\": \"California\", \"state_abbrev\": \"CA\", \"fips\": \"06037\", \"date\": \"2020-05-22T07:00:00+00:00\", \"Lat\": 34.30828379, \"Lon\": -118.2282411, \"cases\": 43070, \"deaths\": 2053.0, \"new_cases\": 1033, \"new_deaths\": 37.0, \"cases_avg7\": 964.8571428571429, \"deaths_avg3\": 46.666666666666664, \"deaths_avg7\": 42.857142857142854}, {\"county\": \"Los Angeles\", \"state\": \"California\", \"state_abbrev\": \"CA\", \"fips\": \"06037\", \"date\": \"2020-05-23T07:00:00+00:00\", \"Lat\": 34.30828379, \"Lon\": -118.2282411, \"cases\": 44121, \"deaths\": 2092.0, \"new_cases\": 1051, \"new_deaths\": 39.0, \"cases_avg7\": 965.8571428571429, \"deaths_avg3\": 39.666666666666664, \"deaths_avg7\": 42.714285714285715}, {\"county\": \"Los Angeles\", \"state\": \"California\", \"state_abbrev\": \"CA\", \"fips\": \"06037\", \"date\": \"2020-05-24T07:00:00+00:00\", \"Lat\": 34.30828379, \"Lon\": -118.2282411, \"cases\": 45017, \"deaths\": 2106.0, \"new_cases\": 896, \"new_deaths\": 14.0, \"cases_avg7\": 1000.8571428571429, \"deaths_avg3\": 30.0, \"deaths_avg7\": 40.714285714285715}, {\"county\": \"Los Angeles\", \"state\": \"California\", \"state_abbrev\": \"CA\", \"fips\": \"06037\", \"date\": \"2020-05-25T07:00:00+00:00\", \"Lat\": 34.30828379, \"Lon\": -118.2282411, \"cases\": 46023, \"deaths\": 2116.0, \"new_cases\": 1006, \"new_deaths\": 10.0, \"cases_avg7\": 1080.7142857142858, \"deaths_avg3\": 21.0, \"deaths_avg7\": 39.42857142857143}, {\"county\": \"Los Angeles\", \"state\": \"California\", \"state_abbrev\": \"CA\", \"fips\": \"06037\", \"date\": \"2020-05-26T07:00:00+00:00\", \"Lat\": 34.30828379, \"Lon\": -118.2282411, \"cases\": 47845, \"deaths\": 2145.0, \"new_cases\": 1822, \"new_deaths\": 29.0, \"cases_avg7\": 1181.7142857142858, \"deaths_avg3\": 17.666666666666668, \"deaths_avg7\": 33.142857142857146}, {\"county\": \"Los Angeles\", \"state\": \"California\", \"state_abbrev\": \"CA\", \"fips\": \"06037\", \"date\": \"2020-05-27T07:00:00+00:00\", \"Lat\": 34.30828379, \"Lon\": -118.2282411, \"cases\": 48761, \"deaths\": 2201.0, \"new_cases\": 916, \"new_deaths\": 56.0, \"cases_avg7\": 1123.7142857142858, \"deaths_avg3\": 31.666666666666668, \"deaths_avg7\": 32.57142857142857}, {\"county\": \"Los Angeles\", \"state\": \"California\", \"state_abbrev\": \"CA\", \"fips\": \"06037\", \"date\": \"2020-05-28T07:00:00+00:00\", \"Lat\": 34.30828379, \"Lon\": -118.2282411, \"cases\": 48778, \"deaths\": 2201.0, \"new_cases\": 17, \"new_deaths\": 0.0, \"cases_avg7\": 963.0, \"deaths_avg3\": 28.333333333333332, \"deaths_avg7\": 26.428571428571427}]}}, {\"mode\": \"vega-lite\"});\n",
       "</script>"
      ],
      "text/plain": [
       "alt.HConcatChart(...)"
      ]
     },
     "metadata": {},
     "output_type": "display_data"
    },
    {
     "data": {
      "text/html": [
       "\n",
       "<div id=\"altair-viz-5d0e8473b80448818cebd376e32aecd3\"></div>\n",
       "<script type=\"text/javascript\">\n",
       "  (function(spec, embedOpt){\n",
       "    const outputDiv = document.getElementById(\"altair-viz-5d0e8473b80448818cebd376e32aecd3\");\n",
       "    const paths = {\n",
       "      \"vega\": \"https://cdn.jsdelivr.net/npm//vega@5?noext\",\n",
       "      \"vega-lib\": \"https://cdn.jsdelivr.net/npm//vega-lib?noext\",\n",
       "      \"vega-lite\": \"https://cdn.jsdelivr.net/npm//vega-lite@4.0.2?noext\",\n",
       "      \"vega-embed\": \"https://cdn.jsdelivr.net/npm//vega-embed@6?noext\",\n",
       "    };\n",
       "\n",
       "    function loadScript(lib) {\n",
       "      return new Promise(function(resolve, reject) {\n",
       "        var s = document.createElement('script');\n",
       "        s.src = paths[lib];\n",
       "        s.async = true;\n",
       "        s.onload = () => resolve(paths[lib]);\n",
       "        s.onerror = () => reject(`Error loading script: ${paths[lib]}`);\n",
       "        document.getElementsByTagName(\"head\")[0].appendChild(s);\n",
       "      });\n",
       "    }\n",
       "\n",
       "    function showError(err) {\n",
       "      outputDiv.innerHTML = `<div class=\"error\" style=\"color:red;\">${err}</div>`;\n",
       "      throw err;\n",
       "    }\n",
       "\n",
       "    function displayChart(vegaEmbed) {\n",
       "      vegaEmbed(outputDiv, spec, embedOpt)\n",
       "        .catch(err => showError(`Javascript Error: ${err.message}<br>This usually means there's a typo in your chart specification. See the javascript console for the full traceback.`));\n",
       "    }\n",
       "\n",
       "    if(typeof define === \"function\" && define.amd) {\n",
       "      requirejs.config({paths});\n",
       "      require([\"vega-embed\"], displayChart, err => showError(`Error loading script: ${err.message}`));\n",
       "    } else if (typeof vegaEmbed === \"function\") {\n",
       "      displayChart(vegaEmbed);\n",
       "    } else {\n",
       "      loadScript(\"vega\")\n",
       "        .then(() => loadScript(\"vega-lite\"))\n",
       "        .then(() => loadScript(\"vega-embed\"))\n",
       "        .catch(showError)\n",
       "        .then(() => displayChart(vegaEmbed));\n",
       "    }\n",
       "  })({\"config\": {\"view\": {\"continuousWidth\": 400, \"continuousHeight\": 300, \"strokeOpacity\": 0}, \"axis\": {\"domainOpacity\": 0.4, \"gridOpacity\": 0.4}, \"title\": {\"anchor\": \"middle\", \"color\": \"black\", \"font\": \"Roboto\", \"fontSize\": 10}}, \"data\": {\"name\": \"data-15c3e56abbccb1a85b29fcd94d3a7d09\"}, \"mark\": \"line\", \"encoding\": {\"color\": {\"value\": \"#0A4C6A\"}, \"x\": {\"type\": \"temporal\", \"axis\": {\"format\": \"%-m/%-d\"}, \"field\": \"date\", \"timeUnit\": \"monthdate\", \"title\": \"date\"}, \"y\": {\"type\": \"quantitative\", \"field\": \"cases_avg7\", \"title\": \"7-day avg\"}}, \"height\": 200, \"title\": \"City of LA: New Cases\", \"width\": 250, \"$schema\": \"https://vega.github.io/schema/vega-lite/v4.0.2.json\", \"datasets\": {\"data-15c3e56abbccb1a85b29fcd94d3a7d09\": [{\"date\": \"2020-04-15T07:00:00+00:00\", \"cases\": 4707, \"new_cases\": 245, \"cases_avg7\": 192.42857142857142}, {\"date\": \"2020-04-16T07:00:00+00:00\", \"cases\": 4852, \"new_cases\": 145, \"cases_avg7\": 180.71428571428572}, {\"date\": \"2020-04-17T07:00:00+00:00\", \"cases\": 5093, \"new_cases\": 241, \"cases_avg7\": 186.57142857142858}, {\"date\": \"2020-04-18T07:00:00+00:00\", \"cases\": 5387, \"new_cases\": 294, \"cases_avg7\": 199.57142857142858}, {\"date\": \"2020-04-19T07:00:00+00:00\", \"cases\": 5508, \"new_cases\": 121, \"cases_avg7\": 202.28571428571428}, {\"date\": \"2020-04-20T07:00:00+00:00\", \"cases\": 6224, \"new_cases\": 716, \"cases_avg7\": 288.42857142857144}, {\"date\": \"2020-04-21T07:00:00+00:00\", \"cases\": 6904, \"new_cases\": 680, \"cases_avg7\": 348.85714285714283}, {\"date\": \"2020-04-22T07:00:00+00:00\", \"cases\": 7551, \"new_cases\": 647, \"cases_avg7\": 406.2857142857143}, {\"date\": \"2020-04-23T07:00:00+00:00\", \"cases\": 8022, \"new_cases\": 471, \"cases_avg7\": 452.85714285714283}, {\"date\": \"2020-04-24T07:00:00+00:00\", \"cases\": 8450, \"new_cases\": 428, \"cases_avg7\": 479.57142857142856}, {\"date\": \"2020-04-25T07:00:00+00:00\", \"cases\": 8695, \"new_cases\": 245, \"cases_avg7\": 472.57142857142856}, {\"date\": \"2020-04-26T07:00:00+00:00\", \"cases\": 8896, \"new_cases\": 201, \"cases_avg7\": 484.0}, {\"date\": \"2020-04-27T07:00:00+00:00\", \"cases\": 9389, \"new_cases\": 493, \"cases_avg7\": 452.14285714285717}, {\"date\": \"2020-04-28T07:00:00+00:00\", \"cases\": 9697, \"new_cases\": 308, \"cases_avg7\": 399.0}, {\"date\": \"2020-04-29T07:00:00+00:00\", \"cases\": 10380, \"new_cases\": 683, \"cases_avg7\": 404.14285714285717}, {\"date\": \"2020-04-30T07:00:00+00:00\", \"cases\": 10863, \"new_cases\": 483, \"cases_avg7\": 405.85714285714283}, {\"date\": \"2020-05-01T07:00:00+00:00\", \"cases\": 11553, \"new_cases\": 690, \"cases_avg7\": 443.2857142857143}, {\"date\": \"2020-05-02T07:00:00+00:00\", \"cases\": 11908, \"new_cases\": 355, \"cases_avg7\": 459.0}, {\"date\": \"2020-05-03T07:00:00+00:00\", \"cases\": 12300, \"new_cases\": 392, \"cases_avg7\": 486.2857142857143}, {\"date\": \"2020-05-04T07:00:00+00:00\", \"cases\": 12525, \"new_cases\": 225, \"cases_avg7\": 448.0}, {\"date\": \"2020-05-05T07:00:00+00:00\", \"cases\": 13468, \"new_cases\": 943, \"cases_avg7\": 538.7142857142857}, {\"date\": \"2020-05-06T07:00:00+00:00\", \"cases\": 13868, \"new_cases\": 400, \"cases_avg7\": 498.2857142857143}, {\"date\": \"2020-05-07T07:00:00+00:00\", \"cases\": 14253, \"new_cases\": 385, \"cases_avg7\": 484.2857142857143}, {\"date\": \"2020-05-08T07:00:00+00:00\", \"cases\": 14563, \"new_cases\": 310, \"cases_avg7\": 430.0}, {\"date\": \"2020-05-09T07:00:00+00:00\", \"cases\": 15015, \"new_cases\": 452, \"cases_avg7\": 443.85714285714283}, {\"date\": \"2020-05-10T07:00:00+00:00\", \"cases\": 15223, \"new_cases\": 208, \"cases_avg7\": 417.57142857142856}, {\"date\": \"2020-05-11T07:00:00+00:00\", \"cases\": 15568, \"new_cases\": 345, \"cases_avg7\": 434.7142857142857}, {\"date\": \"2020-05-12T07:00:00+00:00\", \"cases\": 16065, \"new_cases\": 497, \"cases_avg7\": 371.0}, {\"date\": \"2020-05-13T07:00:00+00:00\", \"cases\": 16610, \"new_cases\": 545, \"cases_avg7\": 391.7142857142857}, {\"date\": \"2020-05-14T07:00:00+00:00\", \"cases\": 17037, \"new_cases\": 427, \"cases_avg7\": 397.7142857142857}, {\"date\": \"2020-05-15T07:00:00+00:00\", \"cases\": 17432, \"new_cases\": 395, \"cases_avg7\": 409.85714285714283}, {\"date\": \"2020-05-16T07:00:00+00:00\", \"cases\": 17969, \"new_cases\": 537, \"cases_avg7\": 422.0}, {\"date\": \"2020-05-17T07:00:00+00:00\", \"cases\": 18304, \"new_cases\": 335, \"cases_avg7\": 440.14285714285717}, {\"date\": \"2020-05-18T07:00:00+00:00\", \"cases\": 18540, \"new_cases\": 236, \"cases_avg7\": 424.57142857142856}, {\"date\": \"2020-05-19T07:00:00+00:00\", \"cases\": 19020, \"new_cases\": 480, \"cases_avg7\": 422.14285714285717}, {\"date\": \"2020-05-20T07:00:00+00:00\", \"cases\": 19505, \"new_cases\": 485, \"cases_avg7\": 413.57142857142856}, {\"date\": \"2020-05-21T07:00:00+00:00\", \"cases\": 19941, \"new_cases\": 436, \"cases_avg7\": 414.85714285714283}, {\"date\": \"2020-05-22T07:00:00+00:00\", \"cases\": 20391, \"new_cases\": 450, \"cases_avg7\": 422.7142857142857}, {\"date\": \"2020-05-23T07:00:00+00:00\", \"cases\": 20919, \"new_cases\": 528, \"cases_avg7\": 421.42857142857144}, {\"date\": \"2020-05-24T07:00:00+00:00\", \"cases\": 21336, \"new_cases\": 417, \"cases_avg7\": 433.14285714285717}, {\"date\": \"2020-05-25T07:00:00+00:00\", \"cases\": 21819, \"new_cases\": 483, \"cases_avg7\": 468.42857142857144}, {\"date\": \"2020-05-26T07:00:00+00:00\", \"cases\": 22567, \"new_cases\": 748, \"cases_avg7\": 506.7142857142857}, {\"date\": \"2020-05-27T07:00:00+00:00\", \"cases\": 23086, \"new_cases\": 519, \"cases_avg7\": 511.57142857142856}]}}, {\"mode\": \"vega-lite\"});\n",
       "</script>"
      ],
      "text/plain": [
       "alt.Chart(...)"
      ]
     },
     "metadata": {},
     "output_type": "display_data"
    }
   ],
   "source": [
    "la_county = utils.county_case_charts(county_state_name, start_date)\n",
    "la_city = utils.lacity_case_charts(start_date) "
   ]
  },
  {
   "cell_type": "markdown",
   "metadata": {},
   "source": [
    "## Testing Charts"
   ]
  },
  {
   "cell_type": "code",
   "execution_count": 6,
   "metadata": {},
   "outputs": [
    {
     "data": {
      "text/html": [
       "\n",
       "<div id=\"altair-viz-d5b9848ea5ae4d44a7b1a05d0d41d64e\"></div>\n",
       "<script type=\"text/javascript\">\n",
       "  (function(spec, embedOpt){\n",
       "    const outputDiv = document.getElementById(\"altair-viz-d5b9848ea5ae4d44a7b1a05d0d41d64e\");\n",
       "    const paths = {\n",
       "      \"vega\": \"https://cdn.jsdelivr.net/npm//vega@5?noext\",\n",
       "      \"vega-lib\": \"https://cdn.jsdelivr.net/npm//vega-lib?noext\",\n",
       "      \"vega-lite\": \"https://cdn.jsdelivr.net/npm//vega-lite@4.0.2?noext\",\n",
       "      \"vega-embed\": \"https://cdn.jsdelivr.net/npm//vega-embed@6?noext\",\n",
       "    };\n",
       "\n",
       "    function loadScript(lib) {\n",
       "      return new Promise(function(resolve, reject) {\n",
       "        var s = document.createElement('script');\n",
       "        s.src = paths[lib];\n",
       "        s.async = true;\n",
       "        s.onload = () => resolve(paths[lib]);\n",
       "        s.onerror = () => reject(`Error loading script: ${paths[lib]}`);\n",
       "        document.getElementsByTagName(\"head\")[0].appendChild(s);\n",
       "      });\n",
       "    }\n",
       "\n",
       "    function showError(err) {\n",
       "      outputDiv.innerHTML = `<div class=\"error\" style=\"color:red;\">${err}</div>`;\n",
       "      throw err;\n",
       "    }\n",
       "\n",
       "    function displayChart(vegaEmbed) {\n",
       "      vegaEmbed(outputDiv, spec, embedOpt)\n",
       "        .catch(err => showError(`Javascript Error: ${err.message}<br>This usually means there's a typo in your chart specification. See the javascript console for the full traceback.`));\n",
       "    }\n",
       "\n",
       "    if(typeof define === \"function\" && define.amd) {\n",
       "      requirejs.config({paths});\n",
       "      require([\"vega-embed\"], displayChart, err => showError(`Error loading script: ${err.message}`));\n",
       "    } else if (typeof vegaEmbed === \"function\") {\n",
       "      displayChart(vegaEmbed);\n",
       "    } else {\n",
       "      loadScript(\"vega\")\n",
       "        .then(() => loadScript(\"vega-lite\"))\n",
       "        .then(() => loadScript(\"vega-embed\"))\n",
       "        .catch(showError)\n",
       "        .then(() => displayChart(vegaEmbed));\n",
       "    }\n",
       "  })({\"config\": {\"view\": {\"continuousWidth\": 400, \"continuousHeight\": 300, \"strokeOpacity\": 0}, \"axis\": {\"domainOpacity\": 0.4, \"gridOpacity\": 0.4, \"ticks\": false}, \"title\": {\"anchor\": \"middle\", \"color\": \"black\", \"font\": \"Roboto\", \"fontSize\": 10}}, \"layer\": [{\"data\": {\"name\": \"data-799119e440c8750824e5a8cfcadb00c0\"}, \"mark\": {\"type\": \"bar\", \"color\": \"#0A4C6A\"}, \"encoding\": {\"x\": {\"type\": \"temporal\", \"axis\": {\"format\": \"%-m/%-d\"}, \"field\": \"date\", \"timeUnit\": \"monthdate\", \"title\": \"date\"}, \"y\": {\"type\": \"quantitative\", \"field\": \"Performed\", \"title\": \"Tests Performed\"}}}, {\"data\": {\"name\": \"data-630ae3f1563c7a039b62b951e32081dd\"}, \"mark\": {\"type\": \"rule\", \"color\": \"#A30F23\", \"strokeDash\": [5, 2]}, \"encoding\": {\"y\": {\"type\": \"quantitative\", \"field\": \"y\"}}}, {\"data\": {\"name\": \"data-4d6fad89519b3b5d472fb07e87757174\"}, \"mark\": {\"type\": \"rule\", \"color\": \"#A30F23\", \"strokeDash\": [5, 2]}, \"encoding\": {\"y\": {\"type\": \"quantitative\", \"field\": \"y\"}}}], \"title\": \"LA County: Daily Testing\", \"width\": 400, \"$schema\": \"https://vega.github.io/schema/vega-lite/v4.0.2.json\", \"datasets\": {\"data-799119e440c8750824e5a8cfcadb00c0\": [{\"Performed\": 5967, \"Cumulative\": 56606, \"City_Performed\": 2603, \"City_Cumulative\": 39404, \"date\": \"2020-04-15T07:00:00+00:00\"}, {\"Performed\": 5605, \"Cumulative\": 62211, \"City_Performed\": 2103, \"City_Cumulative\": 41507, \"date\": \"2020-04-16T07:00:00+00:00\"}, {\"Performed\": 5700, \"Cumulative\": 67911, \"City_Performed\": 2313, \"City_Cumulative\": 43820, \"date\": \"2020-04-17T07:00:00+00:00\"}, {\"Performed\": 5105, \"Cumulative\": 73016, \"City_Performed\": 2489, \"City_Cumulative\": 46309, \"date\": \"2020-04-18T07:00:00+00:00\"}, {\"Performed\": 1977, \"Cumulative\": 74993, \"City_Performed\": 20, \"City_Cumulative\": 46329, \"date\": \"2020-04-19T07:00:00+00:00\"}, {\"Performed\": 5719, \"Cumulative\": 80712, \"City_Performed\": 2542, \"City_Cumulative\": 48871, \"date\": \"2020-04-20T07:00:00+00:00\"}, {\"Performed\": 6472, \"Cumulative\": 87184, \"City_Performed\": 2774, \"City_Cumulative\": 51645, \"date\": \"2020-04-21T07:00:00+00:00\"}, {\"Performed\": 6010, \"Cumulative\": 93194, \"City_Performed\": 2168, \"City_Cumulative\": 53813, \"date\": \"2020-04-22T07:00:00+00:00\"}, {\"Performed\": 6899, \"Cumulative\": 100093, \"City_Performed\": 2955, \"City_Cumulative\": 56768, \"date\": \"2020-04-23T07:00:00+00:00\"}, {\"Performed\": 7581, \"Cumulative\": 107674, \"City_Performed\": 3907, \"City_Cumulative\": 60675, \"date\": \"2020-04-24T07:00:00+00:00\"}, {\"Performed\": 6897, \"Cumulative\": 114571, \"City_Performed\": 4296, \"City_Cumulative\": 64971, \"date\": \"2020-04-25T07:00:00+00:00\"}, {\"Performed\": 2252, \"Cumulative\": 116823, \"City_Performed\": 11, \"City_Cumulative\": 64982, \"date\": \"2020-04-26T07:00:00+00:00\"}, {\"Performed\": 7595, \"Cumulative\": 124418, \"City_Performed\": 4028, \"City_Cumulative\": 69010, \"date\": \"2020-04-27T07:00:00+00:00\"}, {\"Performed\": 7333, \"Cumulative\": 131751, \"City_Performed\": 3474, \"City_Cumulative\": 72484, \"date\": \"2020-04-28T07:00:00+00:00\"}, {\"Performed\": 8349, \"Cumulative\": 140100, \"City_Performed\": 4434, \"City_Cumulative\": 76918, \"date\": \"2020-04-29T07:00:00+00:00\"}, {\"Performed\": 13124, \"Cumulative\": 153224, \"City_Performed\": 8233, \"City_Cumulative\": 85151, \"date\": \"2020-04-30T07:00:00+00:00\"}, {\"Performed\": 12891, \"Cumulative\": 166115, \"City_Performed\": 7964, \"City_Cumulative\": 93115, \"date\": \"2020-05-01T07:00:00+00:00\"}, {\"Performed\": 11516, \"Cumulative\": 177631, \"City_Performed\": 7727, \"City_Cumulative\": 100842, \"date\": \"2020-05-02T07:00:00+00:00\"}, {\"Performed\": 3472, \"Cumulative\": 181103, \"City_Performed\": 12, \"City_Cumulative\": 100854, \"date\": \"2020-05-03T07:00:00+00:00\"}, {\"Performed\": 12839, \"Cumulative\": 193942, \"City_Performed\": 7846, \"City_Cumulative\": 108700, \"date\": \"2020-05-04T07:00:00+00:00\"}, {\"Performed\": 14715, \"Cumulative\": 208657, \"City_Performed\": 9084, \"City_Cumulative\": 117784, \"date\": \"2020-05-05T07:00:00+00:00\"}, {\"Performed\": 16604, \"Cumulative\": 225261, \"City_Performed\": 11403, \"City_Cumulative\": 129187, \"date\": \"2020-05-06T07:00:00+00:00\"}, {\"Performed\": 16358, \"Cumulative\": 241619, \"City_Performed\": 11089, \"City_Cumulative\": 140276, \"date\": \"2020-05-07T07:00:00+00:00\"}, {\"Performed\": 14973, \"Cumulative\": 256592, \"City_Performed\": 9812, \"City_Cumulative\": 150088, \"date\": \"2020-05-08T07:00:00+00:00\"}, {\"Performed\": 11828, \"Cumulative\": 268420, \"City_Performed\": 7832, \"City_Cumulative\": 157920, \"date\": \"2020-05-09T07:00:00+00:00\"}, {\"Performed\": 3299, \"Cumulative\": 271719, \"City_Performed\": 3, \"City_Cumulative\": 157923, \"date\": \"2020-05-10T07:00:00+00:00\"}, {\"Performed\": 14784, \"Cumulative\": 286503, \"City_Performed\": 10196, \"City_Cumulative\": 168119, \"date\": \"2020-05-11T07:00:00+00:00\"}, {\"Performed\": 16100, \"Cumulative\": 302603, \"City_Performed\": 11259, \"City_Cumulative\": 179378, \"date\": \"2020-05-12T07:00:00+00:00\"}, {\"Performed\": 16650, \"Cumulative\": 319253, \"City_Performed\": 11878, \"City_Cumulative\": 191256, \"date\": \"2020-05-13T07:00:00+00:00\"}, {\"Performed\": 15368, \"Cumulative\": 334621, \"City_Performed\": 10702, \"City_Cumulative\": 201958, \"date\": \"2020-05-14T07:00:00+00:00\"}, {\"Performed\": 14963, \"Cumulative\": 349584, \"City_Performed\": 9915, \"City_Cumulative\": 211873, \"date\": \"2020-05-15T07:00:00+00:00\"}, {\"Performed\": 13058, \"Cumulative\": 362642, \"City_Performed\": 9639, \"City_Cumulative\": 221512, \"date\": \"2020-05-16T07:00:00+00:00\"}, {\"Performed\": 2709, \"Cumulative\": 365351, \"City_Performed\": 12, \"City_Cumulative\": 221524, \"date\": \"2020-05-17T07:00:00+00:00\"}, {\"Performed\": 13921, \"Cumulative\": 379272, \"City_Performed\": 9734, \"City_Cumulative\": 231258, \"date\": \"2020-05-18T07:00:00+00:00\"}, {\"Performed\": 14549, \"Cumulative\": 393821, \"City_Performed\": 9052, \"City_Cumulative\": 240310, \"date\": \"2020-05-19T07:00:00+00:00\"}, {\"Performed\": 13417, \"Cumulative\": 407238, \"City_Performed\": 8630, \"City_Cumulative\": 248940, \"date\": \"2020-05-20T07:00:00+00:00\"}, {\"Performed\": 13338, \"Cumulative\": 420576, \"City_Performed\": 8898, \"City_Cumulative\": 257838, \"date\": \"2020-05-21T07:00:00+00:00\"}, {\"Performed\": 14410, \"Cumulative\": 434986, \"City_Performed\": 9862, \"City_Cumulative\": 267700, \"date\": \"2020-05-22T07:00:00+00:00\"}, {\"Performed\": 11749, \"Cumulative\": 446735, \"City_Performed\": 9136, \"City_Cumulative\": 276836, \"date\": \"2020-05-23T07:00:00+00:00\"}, {\"Performed\": 2482, \"Cumulative\": 449217, \"City_Performed\": 277, \"City_Cumulative\": 277113, \"date\": \"2020-05-24T07:00:00+00:00\"}, {\"Performed\": 1593, \"Cumulative\": 450810, \"City_Performed\": 181, \"City_Cumulative\": 277294, \"date\": \"2020-05-25T07:00:00+00:00\"}, {\"Performed\": 17630, \"Cumulative\": 468440, \"City_Performed\": 9099, \"City_Cumulative\": 286393, \"date\": \"2020-05-26T07:00:00+00:00\"}, {\"Performed\": 16838, \"Cumulative\": 485278, \"City_Performed\": 8067, \"City_Cumulative\": 294460, \"date\": \"2020-05-27T07:00:00+00:00\"}], \"data-630ae3f1563c7a039b62b951e32081dd\": [{\"y\": 10000}], \"data-4d6fad89519b3b5d472fb07e87757174\": [{\"y\": 16667}]}}, {\"mode\": \"vega-lite\"});\n",
       "</script>"
      ],
      "text/plain": [
       "alt.LayerChart(...)"
      ]
     },
     "metadata": {},
     "output_type": "display_data"
    },
    {
     "data": {
      "text/html": [
       "\n",
       "<div id=\"altair-viz-37d7e7e665a3431b9ce04793a4728503\"></div>\n",
       "<script type=\"text/javascript\">\n",
       "  (function(spec, embedOpt){\n",
       "    const outputDiv = document.getElementById(\"altair-viz-37d7e7e665a3431b9ce04793a4728503\");\n",
       "    const paths = {\n",
       "      \"vega\": \"https://cdn.jsdelivr.net/npm//vega@5?noext\",\n",
       "      \"vega-lib\": \"https://cdn.jsdelivr.net/npm//vega-lib?noext\",\n",
       "      \"vega-lite\": \"https://cdn.jsdelivr.net/npm//vega-lite@4.0.2?noext\",\n",
       "      \"vega-embed\": \"https://cdn.jsdelivr.net/npm//vega-embed@6?noext\",\n",
       "    };\n",
       "\n",
       "    function loadScript(lib) {\n",
       "      return new Promise(function(resolve, reject) {\n",
       "        var s = document.createElement('script');\n",
       "        s.src = paths[lib];\n",
       "        s.async = true;\n",
       "        s.onload = () => resolve(paths[lib]);\n",
       "        s.onerror = () => reject(`Error loading script: ${paths[lib]}`);\n",
       "        document.getElementsByTagName(\"head\")[0].appendChild(s);\n",
       "      });\n",
       "    }\n",
       "\n",
       "    function showError(err) {\n",
       "      outputDiv.innerHTML = `<div class=\"error\" style=\"color:red;\">${err}</div>`;\n",
       "      throw err;\n",
       "    }\n",
       "\n",
       "    function displayChart(vegaEmbed) {\n",
       "      vegaEmbed(outputDiv, spec, embedOpt)\n",
       "        .catch(err => showError(`Javascript Error: ${err.message}<br>This usually means there's a typo in your chart specification. See the javascript console for the full traceback.`));\n",
       "    }\n",
       "\n",
       "    if(typeof define === \"function\" && define.amd) {\n",
       "      requirejs.config({paths});\n",
       "      require([\"vega-embed\"], displayChart, err => showError(`Error loading script: ${err.message}`));\n",
       "    } else if (typeof vegaEmbed === \"function\") {\n",
       "      displayChart(vegaEmbed);\n",
       "    } else {\n",
       "      loadScript(\"vega\")\n",
       "        .then(() => loadScript(\"vega-lite\"))\n",
       "        .then(() => loadScript(\"vega-embed\"))\n",
       "        .catch(showError)\n",
       "        .then(() => displayChart(vegaEmbed));\n",
       "    }\n",
       "  })({\"config\": {\"view\": {\"continuousWidth\": 400, \"continuousHeight\": 300, \"strokeOpacity\": 0}, \"axis\": {\"domainOpacity\": 0.4, \"gridOpacity\": 0.4, \"ticks\": false}, \"title\": {\"anchor\": \"middle\", \"color\": \"black\", \"font\": \"Roboto\", \"fontSize\": 10}}, \"layer\": [{\"data\": {\"name\": \"data-7f9c35d284c495624d35d41d5c7607a5\"}, \"mark\": {\"type\": \"bar\", \"binSpacing\": 100, \"color\": \"#0A4C6A\"}, \"encoding\": {\"x\": {\"type\": \"nominal\", \"field\": \"week2\", \"title\": \"date\"}, \"y\": {\"type\": \"quantitative\", \"axis\": {\"format\": \"%\"}, \"field\": \"pct_positive\", \"title\": \"Share of Positive COVID-19 Results\"}}}, {\"data\": {\"name\": \"data-6fe7d8e35f8a28525ad6e13c7688bbd8\"}, \"mark\": {\"type\": \"rule\", \"color\": \"#A30F23\", \"strokeDash\": [5, 2]}, \"encoding\": {\"y\": {\"type\": \"quantitative\", \"field\": \"y\"}}}, {\"data\": {\"name\": \"data-334c911d3bcc59def8f2e16a17df2931\"}, \"mark\": {\"type\": \"rule\", \"color\": \"#A30F23\", \"strokeDash\": [5, 2]}, \"encoding\": {\"y\": {\"type\": \"quantitative\", \"field\": \"y\"}}}], \"title\": \"LA County: Weekly Share of Positive Results\", \"width\": 200, \"$schema\": \"https://vega.github.io/schema/vega-lite/v4.0.2.json\", \"datasets\": {\"data-7f9c35d284c495624d35d41d5c7607a5\": [{\"week\": \"16\", \"start_of_week\": \"2020-04-19T07:00:00+00:00\", \"weekly_cases\": 7112, \"weekly_tests\": 41555, \"pct_positive\": 0.17114667308386475, \"week2\": \"4/19\"}, {\"week\": \"17\", \"start_of_week\": \"2020-04-26T07:00:00+00:00\", \"weekly_cases\": 5761, \"weekly_tests\": 63060, \"pct_positive\": 0.09135743736124326, \"week2\": \"4/26\"}, {\"week\": \"18\", \"start_of_week\": \"2020-05-03T07:00:00+00:00\", \"weekly_cases\": 6347, \"weekly_tests\": 90789, \"pct_positive\": 0.06990935025168248, \"week2\": \"5/3\"}, {\"week\": \"19\", \"start_of_week\": \"2020-05-10T07:00:00+00:00\", \"weekly_cases\": 6119, \"weekly_tests\": 94222, \"pct_positive\": 0.0649423701470994, \"week2\": \"5/10\"}, {\"week\": \"20\", \"start_of_week\": \"2020-05-17T07:00:00+00:00\", \"weekly_cases\": 6761, \"weekly_tests\": 84093, \"pct_positive\": 0.08039908196877267, \"week2\": \"5/17\"}], \"data-6fe7d8e35f8a28525ad6e13c7688bbd8\": [{\"y\": 0.04}], \"data-334c911d3bcc59def8f2e16a17df2931\": [{\"y\": 0.1}]}}, {\"mode\": \"vega-lite\"});\n",
       "</script>"
      ],
      "text/plain": [
       "alt.LayerChart(...)"
      ]
     },
     "metadata": {},
     "output_type": "display_data"
    },
    {
     "data": {
      "text/html": [
       "\n",
       "<div id=\"altair-viz-531694089da94514a563564e75bab4e5\"></div>\n",
       "<script type=\"text/javascript\">\n",
       "  (function(spec, embedOpt){\n",
       "    const outputDiv = document.getElementById(\"altair-viz-531694089da94514a563564e75bab4e5\");\n",
       "    const paths = {\n",
       "      \"vega\": \"https://cdn.jsdelivr.net/npm//vega@5?noext\",\n",
       "      \"vega-lib\": \"https://cdn.jsdelivr.net/npm//vega-lib?noext\",\n",
       "      \"vega-lite\": \"https://cdn.jsdelivr.net/npm//vega-lite@4.0.2?noext\",\n",
       "      \"vega-embed\": \"https://cdn.jsdelivr.net/npm//vega-embed@6?noext\",\n",
       "    };\n",
       "\n",
       "    function loadScript(lib) {\n",
       "      return new Promise(function(resolve, reject) {\n",
       "        var s = document.createElement('script');\n",
       "        s.src = paths[lib];\n",
       "        s.async = true;\n",
       "        s.onload = () => resolve(paths[lib]);\n",
       "        s.onerror = () => reject(`Error loading script: ${paths[lib]}`);\n",
       "        document.getElementsByTagName(\"head\")[0].appendChild(s);\n",
       "      });\n",
       "    }\n",
       "\n",
       "    function showError(err) {\n",
       "      outputDiv.innerHTML = `<div class=\"error\" style=\"color:red;\">${err}</div>`;\n",
       "      throw err;\n",
       "    }\n",
       "\n",
       "    function displayChart(vegaEmbed) {\n",
       "      vegaEmbed(outputDiv, spec, embedOpt)\n",
       "        .catch(err => showError(`Javascript Error: ${err.message}<br>This usually means there's a typo in your chart specification. See the javascript console for the full traceback.`));\n",
       "    }\n",
       "\n",
       "    if(typeof define === \"function\" && define.amd) {\n",
       "      requirejs.config({paths});\n",
       "      require([\"vega-embed\"], displayChart, err => showError(`Error loading script: ${err.message}`));\n",
       "    } else if (typeof vegaEmbed === \"function\") {\n",
       "      displayChart(vegaEmbed);\n",
       "    } else {\n",
       "      loadScript(\"vega\")\n",
       "        .then(() => loadScript(\"vega-lite\"))\n",
       "        .then(() => loadScript(\"vega-embed\"))\n",
       "        .catch(showError)\n",
       "        .then(() => displayChart(vegaEmbed));\n",
       "    }\n",
       "  })({\"config\": {\"view\": {\"continuousWidth\": 400, \"continuousHeight\": 300, \"strokeOpacity\": 0}, \"axis\": {\"domainOpacity\": 0.4, \"gridOpacity\": 0.4, \"ticks\": false}, \"title\": {\"anchor\": \"middle\", \"color\": \"black\", \"font\": \"Roboto\", \"fontSize\": 10}}, \"data\": {\"name\": \"data-7f9c35d284c495624d35d41d5c7607a5\"}, \"mark\": {\"type\": \"bar\", \"binSpacing\": 100, \"color\": \"#FCA800\"}, \"encoding\": {\"x\": {\"type\": \"nominal\", \"field\": \"week2\", \"title\": \"date\"}, \"y\": {\"type\": \"quantitative\", \"field\": \"weekly_tests\", \"title\": \"# Weekly Tests\"}}, \"title\": \"LA County: Weekly Tests Conducted\", \"width\": 200, \"$schema\": \"https://vega.github.io/schema/vega-lite/v4.0.2.json\", \"datasets\": {\"data-7f9c35d284c495624d35d41d5c7607a5\": [{\"week\": \"16\", \"start_of_week\": \"2020-04-19T07:00:00+00:00\", \"weekly_cases\": 7112, \"weekly_tests\": 41555, \"pct_positive\": 0.17114667308386475, \"week2\": \"4/19\"}, {\"week\": \"17\", \"start_of_week\": \"2020-04-26T07:00:00+00:00\", \"weekly_cases\": 5761, \"weekly_tests\": 63060, \"pct_positive\": 0.09135743736124326, \"week2\": \"4/26\"}, {\"week\": \"18\", \"start_of_week\": \"2020-05-03T07:00:00+00:00\", \"weekly_cases\": 6347, \"weekly_tests\": 90789, \"pct_positive\": 0.06990935025168248, \"week2\": \"5/3\"}, {\"week\": \"19\", \"start_of_week\": \"2020-05-10T07:00:00+00:00\", \"weekly_cases\": 6119, \"weekly_tests\": 94222, \"pct_positive\": 0.0649423701470994, \"week2\": \"5/10\"}, {\"week\": \"20\", \"start_of_week\": \"2020-05-17T07:00:00+00:00\", \"weekly_cases\": 6761, \"weekly_tests\": 84093, \"pct_positive\": 0.08039908196877267, \"week2\": \"5/17\"}]}}, {\"mode\": \"vega-lite\"});\n",
       "</script>"
      ],
      "text/plain": [
       "alt.Chart(...)"
      ]
     },
     "metadata": {},
     "output_type": "display_data"
    },
    {
     "data": {
      "text/html": [
       "\n",
       "<div id=\"altair-viz-7d6fa41985a745ed939401c3c8f90114\"></div>\n",
       "<script type=\"text/javascript\">\n",
       "  (function(spec, embedOpt){\n",
       "    const outputDiv = document.getElementById(\"altair-viz-7d6fa41985a745ed939401c3c8f90114\");\n",
       "    const paths = {\n",
       "      \"vega\": \"https://cdn.jsdelivr.net/npm//vega@5?noext\",\n",
       "      \"vega-lib\": \"https://cdn.jsdelivr.net/npm//vega-lib?noext\",\n",
       "      \"vega-lite\": \"https://cdn.jsdelivr.net/npm//vega-lite@4.0.2?noext\",\n",
       "      \"vega-embed\": \"https://cdn.jsdelivr.net/npm//vega-embed@6?noext\",\n",
       "    };\n",
       "\n",
       "    function loadScript(lib) {\n",
       "      return new Promise(function(resolve, reject) {\n",
       "        var s = document.createElement('script');\n",
       "        s.src = paths[lib];\n",
       "        s.async = true;\n",
       "        s.onload = () => resolve(paths[lib]);\n",
       "        s.onerror = () => reject(`Error loading script: ${paths[lib]}`);\n",
       "        document.getElementsByTagName(\"head\")[0].appendChild(s);\n",
       "      });\n",
       "    }\n",
       "\n",
       "    function showError(err) {\n",
       "      outputDiv.innerHTML = `<div class=\"error\" style=\"color:red;\">${err}</div>`;\n",
       "      throw err;\n",
       "    }\n",
       "\n",
       "    function displayChart(vegaEmbed) {\n",
       "      vegaEmbed(outputDiv, spec, embedOpt)\n",
       "        .catch(err => showError(`Javascript Error: ${err.message}<br>This usually means there's a typo in your chart specification. See the javascript console for the full traceback.`));\n",
       "    }\n",
       "\n",
       "    if(typeof define === \"function\" && define.amd) {\n",
       "      requirejs.config({paths});\n",
       "      require([\"vega-embed\"], displayChart, err => showError(`Error loading script: ${err.message}`));\n",
       "    } else if (typeof vegaEmbed === \"function\") {\n",
       "      displayChart(vegaEmbed);\n",
       "    } else {\n",
       "      loadScript(\"vega\")\n",
       "        .then(() => loadScript(\"vega-lite\"))\n",
       "        .then(() => loadScript(\"vega-embed\"))\n",
       "        .catch(showError)\n",
       "        .then(() => displayChart(vegaEmbed));\n",
       "    }\n",
       "  })({\"config\": {\"view\": {\"continuousWidth\": 400, \"continuousHeight\": 300, \"strokeOpacity\": 0}, \"axis\": {\"domainOpacity\": 0.4, \"gridOpacity\": 0.4, \"ticks\": false}, \"title\": {\"anchor\": \"middle\", \"color\": \"black\", \"font\": \"Roboto\", \"fontSize\": 10}}, \"layer\": [{\"data\": {\"name\": \"data-799119e440c8750824e5a8cfcadb00c0\"}, \"mark\": {\"type\": \"bar\", \"color\": \"#0A4C6A\"}, \"encoding\": {\"x\": {\"type\": \"temporal\", \"axis\": {\"format\": \"%-m/%-d\"}, \"field\": \"date\", \"timeUnit\": \"monthdate\", \"title\": \"date\"}, \"y\": {\"type\": \"quantitative\", \"field\": \"City_Performed\", \"title\": \"Tests Performed\"}}}, {\"data\": {\"name\": \"data-9d9e832a3b89e17cd1e72e4f821f0927\"}, \"mark\": {\"type\": \"rule\", \"color\": \"#A30F23\", \"strokeDash\": [5, 2]}, \"encoding\": {\"y\": {\"type\": \"quantitative\", \"field\": \"y\"}}}, {\"data\": {\"name\": \"data-6f5240122b9d91f6f259143bc2b2b62d\"}, \"mark\": {\"type\": \"rule\", \"color\": \"#A30F23\", \"strokeDash\": [5, 2]}, \"encoding\": {\"y\": {\"type\": \"quantitative\", \"field\": \"y\"}}}], \"title\": \"City of LA: Daily Testing\", \"width\": 400, \"$schema\": \"https://vega.github.io/schema/vega-lite/v4.0.2.json\", \"datasets\": {\"data-799119e440c8750824e5a8cfcadb00c0\": [{\"Performed\": 5967, \"Cumulative\": 56606, \"City_Performed\": 2603, \"City_Cumulative\": 39404, \"date\": \"2020-04-15T07:00:00+00:00\"}, {\"Performed\": 5605, \"Cumulative\": 62211, \"City_Performed\": 2103, \"City_Cumulative\": 41507, \"date\": \"2020-04-16T07:00:00+00:00\"}, {\"Performed\": 5700, \"Cumulative\": 67911, \"City_Performed\": 2313, \"City_Cumulative\": 43820, \"date\": \"2020-04-17T07:00:00+00:00\"}, {\"Performed\": 5105, \"Cumulative\": 73016, \"City_Performed\": 2489, \"City_Cumulative\": 46309, \"date\": \"2020-04-18T07:00:00+00:00\"}, {\"Performed\": 1977, \"Cumulative\": 74993, \"City_Performed\": 20, \"City_Cumulative\": 46329, \"date\": \"2020-04-19T07:00:00+00:00\"}, {\"Performed\": 5719, \"Cumulative\": 80712, \"City_Performed\": 2542, \"City_Cumulative\": 48871, \"date\": \"2020-04-20T07:00:00+00:00\"}, {\"Performed\": 6472, \"Cumulative\": 87184, \"City_Performed\": 2774, \"City_Cumulative\": 51645, \"date\": \"2020-04-21T07:00:00+00:00\"}, {\"Performed\": 6010, \"Cumulative\": 93194, \"City_Performed\": 2168, \"City_Cumulative\": 53813, \"date\": \"2020-04-22T07:00:00+00:00\"}, {\"Performed\": 6899, \"Cumulative\": 100093, \"City_Performed\": 2955, \"City_Cumulative\": 56768, \"date\": \"2020-04-23T07:00:00+00:00\"}, {\"Performed\": 7581, \"Cumulative\": 107674, \"City_Performed\": 3907, \"City_Cumulative\": 60675, \"date\": \"2020-04-24T07:00:00+00:00\"}, {\"Performed\": 6897, \"Cumulative\": 114571, \"City_Performed\": 4296, \"City_Cumulative\": 64971, \"date\": \"2020-04-25T07:00:00+00:00\"}, {\"Performed\": 2252, \"Cumulative\": 116823, \"City_Performed\": 11, \"City_Cumulative\": 64982, \"date\": \"2020-04-26T07:00:00+00:00\"}, {\"Performed\": 7595, \"Cumulative\": 124418, \"City_Performed\": 4028, \"City_Cumulative\": 69010, \"date\": \"2020-04-27T07:00:00+00:00\"}, {\"Performed\": 7333, \"Cumulative\": 131751, \"City_Performed\": 3474, \"City_Cumulative\": 72484, \"date\": \"2020-04-28T07:00:00+00:00\"}, {\"Performed\": 8349, \"Cumulative\": 140100, \"City_Performed\": 4434, \"City_Cumulative\": 76918, \"date\": \"2020-04-29T07:00:00+00:00\"}, {\"Performed\": 13124, \"Cumulative\": 153224, \"City_Performed\": 8233, \"City_Cumulative\": 85151, \"date\": \"2020-04-30T07:00:00+00:00\"}, {\"Performed\": 12891, \"Cumulative\": 166115, \"City_Performed\": 7964, \"City_Cumulative\": 93115, \"date\": \"2020-05-01T07:00:00+00:00\"}, {\"Performed\": 11516, \"Cumulative\": 177631, \"City_Performed\": 7727, \"City_Cumulative\": 100842, \"date\": \"2020-05-02T07:00:00+00:00\"}, {\"Performed\": 3472, \"Cumulative\": 181103, \"City_Performed\": 12, \"City_Cumulative\": 100854, \"date\": \"2020-05-03T07:00:00+00:00\"}, {\"Performed\": 12839, \"Cumulative\": 193942, \"City_Performed\": 7846, \"City_Cumulative\": 108700, \"date\": \"2020-05-04T07:00:00+00:00\"}, {\"Performed\": 14715, \"Cumulative\": 208657, \"City_Performed\": 9084, \"City_Cumulative\": 117784, \"date\": \"2020-05-05T07:00:00+00:00\"}, {\"Performed\": 16604, \"Cumulative\": 225261, \"City_Performed\": 11403, \"City_Cumulative\": 129187, \"date\": \"2020-05-06T07:00:00+00:00\"}, {\"Performed\": 16358, \"Cumulative\": 241619, \"City_Performed\": 11089, \"City_Cumulative\": 140276, \"date\": \"2020-05-07T07:00:00+00:00\"}, {\"Performed\": 14973, \"Cumulative\": 256592, \"City_Performed\": 9812, \"City_Cumulative\": 150088, \"date\": \"2020-05-08T07:00:00+00:00\"}, {\"Performed\": 11828, \"Cumulative\": 268420, \"City_Performed\": 7832, \"City_Cumulative\": 157920, \"date\": \"2020-05-09T07:00:00+00:00\"}, {\"Performed\": 3299, \"Cumulative\": 271719, \"City_Performed\": 3, \"City_Cumulative\": 157923, \"date\": \"2020-05-10T07:00:00+00:00\"}, {\"Performed\": 14784, \"Cumulative\": 286503, \"City_Performed\": 10196, \"City_Cumulative\": 168119, \"date\": \"2020-05-11T07:00:00+00:00\"}, {\"Performed\": 16100, \"Cumulative\": 302603, \"City_Performed\": 11259, \"City_Cumulative\": 179378, \"date\": \"2020-05-12T07:00:00+00:00\"}, {\"Performed\": 16650, \"Cumulative\": 319253, \"City_Performed\": 11878, \"City_Cumulative\": 191256, \"date\": \"2020-05-13T07:00:00+00:00\"}, {\"Performed\": 15368, \"Cumulative\": 334621, \"City_Performed\": 10702, \"City_Cumulative\": 201958, \"date\": \"2020-05-14T07:00:00+00:00\"}, {\"Performed\": 14963, \"Cumulative\": 349584, \"City_Performed\": 9915, \"City_Cumulative\": 211873, \"date\": \"2020-05-15T07:00:00+00:00\"}, {\"Performed\": 13058, \"Cumulative\": 362642, \"City_Performed\": 9639, \"City_Cumulative\": 221512, \"date\": \"2020-05-16T07:00:00+00:00\"}, {\"Performed\": 2709, \"Cumulative\": 365351, \"City_Performed\": 12, \"City_Cumulative\": 221524, \"date\": \"2020-05-17T07:00:00+00:00\"}, {\"Performed\": 13921, \"Cumulative\": 379272, \"City_Performed\": 9734, \"City_Cumulative\": 231258, \"date\": \"2020-05-18T07:00:00+00:00\"}, {\"Performed\": 14549, \"Cumulative\": 393821, \"City_Performed\": 9052, \"City_Cumulative\": 240310, \"date\": \"2020-05-19T07:00:00+00:00\"}, {\"Performed\": 13417, \"Cumulative\": 407238, \"City_Performed\": 8630, \"City_Cumulative\": 248940, \"date\": \"2020-05-20T07:00:00+00:00\"}, {\"Performed\": 13338, \"Cumulative\": 420576, \"City_Performed\": 8898, \"City_Cumulative\": 257838, \"date\": \"2020-05-21T07:00:00+00:00\"}, {\"Performed\": 14410, \"Cumulative\": 434986, \"City_Performed\": 9862, \"City_Cumulative\": 267700, \"date\": \"2020-05-22T07:00:00+00:00\"}, {\"Performed\": 11749, \"Cumulative\": 446735, \"City_Performed\": 9136, \"City_Cumulative\": 276836, \"date\": \"2020-05-23T07:00:00+00:00\"}, {\"Performed\": 2482, \"Cumulative\": 449217, \"City_Performed\": 277, \"City_Cumulative\": 277113, \"date\": \"2020-05-24T07:00:00+00:00\"}, {\"Performed\": 1593, \"Cumulative\": 450810, \"City_Performed\": 181, \"City_Cumulative\": 277294, \"date\": \"2020-05-25T07:00:00+00:00\"}, {\"Performed\": 17630, \"Cumulative\": 468440, \"City_Performed\": 9099, \"City_Cumulative\": 286393, \"date\": \"2020-05-26T07:00:00+00:00\"}, {\"Performed\": 16838, \"Cumulative\": 485278, \"City_Performed\": 8067, \"City_Cumulative\": 294460, \"date\": \"2020-05-27T07:00:00+00:00\"}], \"data-9d9e832a3b89e17cd1e72e4f821f0927\": [{\"y\": 5000}], \"data-6f5240122b9d91f6f259143bc2b2b62d\": [{\"y\": 8333}]}}, {\"mode\": \"vega-lite\"});\n",
       "</script>"
      ],
      "text/plain": [
       "alt.LayerChart(...)"
      ]
     },
     "metadata": {},
     "output_type": "display_data"
    },
    {
     "data": {
      "text/html": [
       "\n",
       "<div id=\"altair-viz-d607fa33a70141f9a03bdb1adc26e97a\"></div>\n",
       "<script type=\"text/javascript\">\n",
       "  (function(spec, embedOpt){\n",
       "    const outputDiv = document.getElementById(\"altair-viz-d607fa33a70141f9a03bdb1adc26e97a\");\n",
       "    const paths = {\n",
       "      \"vega\": \"https://cdn.jsdelivr.net/npm//vega@5?noext\",\n",
       "      \"vega-lib\": \"https://cdn.jsdelivr.net/npm//vega-lib?noext\",\n",
       "      \"vega-lite\": \"https://cdn.jsdelivr.net/npm//vega-lite@4.0.2?noext\",\n",
       "      \"vega-embed\": \"https://cdn.jsdelivr.net/npm//vega-embed@6?noext\",\n",
       "    };\n",
       "\n",
       "    function loadScript(lib) {\n",
       "      return new Promise(function(resolve, reject) {\n",
       "        var s = document.createElement('script');\n",
       "        s.src = paths[lib];\n",
       "        s.async = true;\n",
       "        s.onload = () => resolve(paths[lib]);\n",
       "        s.onerror = () => reject(`Error loading script: ${paths[lib]}`);\n",
       "        document.getElementsByTagName(\"head\")[0].appendChild(s);\n",
       "      });\n",
       "    }\n",
       "\n",
       "    function showError(err) {\n",
       "      outputDiv.innerHTML = `<div class=\"error\" style=\"color:red;\">${err}</div>`;\n",
       "      throw err;\n",
       "    }\n",
       "\n",
       "    function displayChart(vegaEmbed) {\n",
       "      vegaEmbed(outputDiv, spec, embedOpt)\n",
       "        .catch(err => showError(`Javascript Error: ${err.message}<br>This usually means there's a typo in your chart specification. See the javascript console for the full traceback.`));\n",
       "    }\n",
       "\n",
       "    if(typeof define === \"function\" && define.amd) {\n",
       "      requirejs.config({paths});\n",
       "      require([\"vega-embed\"], displayChart, err => showError(`Error loading script: ${err.message}`));\n",
       "    } else if (typeof vegaEmbed === \"function\") {\n",
       "      displayChart(vegaEmbed);\n",
       "    } else {\n",
       "      loadScript(\"vega\")\n",
       "        .then(() => loadScript(\"vega-lite\"))\n",
       "        .then(() => loadScript(\"vega-embed\"))\n",
       "        .catch(showError)\n",
       "        .then(() => displayChart(vegaEmbed));\n",
       "    }\n",
       "  })({\"config\": {\"view\": {\"continuousWidth\": 400, \"continuousHeight\": 300, \"strokeOpacity\": 0}, \"axis\": {\"domainOpacity\": 0.4, \"gridOpacity\": 0.4, \"ticks\": false}, \"title\": {\"anchor\": \"middle\", \"color\": \"black\", \"font\": \"Roboto\", \"fontSize\": 10}}, \"layer\": [{\"data\": {\"name\": \"data-cc51be4e29ef7be520aacd465de78f70\"}, \"mark\": {\"type\": \"bar\", \"binSpacing\": 100, \"color\": \"#0A4C6A\"}, \"encoding\": {\"x\": {\"type\": \"nominal\", \"field\": \"week2\", \"title\": \"date\"}, \"y\": {\"type\": \"quantitative\", \"axis\": {\"format\": \"%\"}, \"field\": \"pct_positive\", \"title\": \"Share of Positive COVID-19 Results\"}}}, {\"data\": {\"name\": \"data-6fe7d8e35f8a28525ad6e13c7688bbd8\"}, \"mark\": {\"type\": \"rule\", \"color\": \"#A30F23\", \"strokeDash\": [5, 2]}, \"encoding\": {\"y\": {\"type\": \"quantitative\", \"field\": \"y\"}}}, {\"data\": {\"name\": \"data-334c911d3bcc59def8f2e16a17df2931\"}, \"mark\": {\"type\": \"rule\", \"color\": \"#A30F23\", \"strokeDash\": [5, 2]}, \"encoding\": {\"y\": {\"type\": \"quantitative\", \"field\": \"y\"}}}], \"title\": \"City of LA: Weekly Share of Positive Results\", \"width\": 200, \"$schema\": \"https://vega.github.io/schema/vega-lite/v4.0.2.json\", \"datasets\": {\"data-cc51be4e29ef7be520aacd465de78f70\": [{\"week\": \"16\", \"start_of_week\": \"2020-04-19T07:00:00+00:00\", \"weekly_cases\": 3308, \"weekly_tests\": 18662, \"pct_positive\": 0.1772586003643768, \"week2\": \"4/19\"}, {\"week\": \"17\", \"start_of_week\": \"2020-04-26T07:00:00+00:00\", \"weekly_cases\": 3213, \"weekly_tests\": 35871, \"pct_positive\": 0.08957096261604082, \"week2\": \"4/26\"}, {\"week\": \"18\", \"start_of_week\": \"2020-05-03T07:00:00+00:00\", \"weekly_cases\": 3107, \"weekly_tests\": 57078, \"pct_positive\": 0.0544342829111041, \"week2\": \"5/3\"}, {\"week\": \"19\", \"start_of_week\": \"2020-05-10T07:00:00+00:00\", \"weekly_cases\": 2954, \"weekly_tests\": 63592, \"pct_positive\": 0.046452383947666376, \"week2\": \"5/10\"}, {\"week\": \"20\", \"start_of_week\": \"2020-05-17T07:00:00+00:00\", \"weekly_cases\": 2950, \"weekly_tests\": 55324, \"pct_positive\": 0.05332224712602126, \"week2\": \"5/17\"}], \"data-6fe7d8e35f8a28525ad6e13c7688bbd8\": [{\"y\": 0.04}], \"data-334c911d3bcc59def8f2e16a17df2931\": [{\"y\": 0.1}]}}, {\"mode\": \"vega-lite\"});\n",
       "</script>"
      ],
      "text/plain": [
       "alt.LayerChart(...)"
      ]
     },
     "metadata": {},
     "output_type": "display_data"
    },
    {
     "data": {
      "text/html": [
       "\n",
       "<div id=\"altair-viz-576c9078d0ac48e289f2b9c633f26652\"></div>\n",
       "<script type=\"text/javascript\">\n",
       "  (function(spec, embedOpt){\n",
       "    const outputDiv = document.getElementById(\"altair-viz-576c9078d0ac48e289f2b9c633f26652\");\n",
       "    const paths = {\n",
       "      \"vega\": \"https://cdn.jsdelivr.net/npm//vega@5?noext\",\n",
       "      \"vega-lib\": \"https://cdn.jsdelivr.net/npm//vega-lib?noext\",\n",
       "      \"vega-lite\": \"https://cdn.jsdelivr.net/npm//vega-lite@4.0.2?noext\",\n",
       "      \"vega-embed\": \"https://cdn.jsdelivr.net/npm//vega-embed@6?noext\",\n",
       "    };\n",
       "\n",
       "    function loadScript(lib) {\n",
       "      return new Promise(function(resolve, reject) {\n",
       "        var s = document.createElement('script');\n",
       "        s.src = paths[lib];\n",
       "        s.async = true;\n",
       "        s.onload = () => resolve(paths[lib]);\n",
       "        s.onerror = () => reject(`Error loading script: ${paths[lib]}`);\n",
       "        document.getElementsByTagName(\"head\")[0].appendChild(s);\n",
       "      });\n",
       "    }\n",
       "\n",
       "    function showError(err) {\n",
       "      outputDiv.innerHTML = `<div class=\"error\" style=\"color:red;\">${err}</div>`;\n",
       "      throw err;\n",
       "    }\n",
       "\n",
       "    function displayChart(vegaEmbed) {\n",
       "      vegaEmbed(outputDiv, spec, embedOpt)\n",
       "        .catch(err => showError(`Javascript Error: ${err.message}<br>This usually means there's a typo in your chart specification. See the javascript console for the full traceback.`));\n",
       "    }\n",
       "\n",
       "    if(typeof define === \"function\" && define.amd) {\n",
       "      requirejs.config({paths});\n",
       "      require([\"vega-embed\"], displayChart, err => showError(`Error loading script: ${err.message}`));\n",
       "    } else if (typeof vegaEmbed === \"function\") {\n",
       "      displayChart(vegaEmbed);\n",
       "    } else {\n",
       "      loadScript(\"vega\")\n",
       "        .then(() => loadScript(\"vega-lite\"))\n",
       "        .then(() => loadScript(\"vega-embed\"))\n",
       "        .catch(showError)\n",
       "        .then(() => displayChart(vegaEmbed));\n",
       "    }\n",
       "  })({\"config\": {\"view\": {\"continuousWidth\": 400, \"continuousHeight\": 300, \"strokeOpacity\": 0}, \"axis\": {\"domainOpacity\": 0.4, \"gridOpacity\": 0.4, \"ticks\": false}, \"title\": {\"anchor\": \"middle\", \"color\": \"black\", \"font\": \"Roboto\", \"fontSize\": 10}}, \"data\": {\"name\": \"data-cc51be4e29ef7be520aacd465de78f70\"}, \"mark\": {\"type\": \"bar\", \"binSpacing\": 100, \"color\": \"#FCA800\"}, \"encoding\": {\"x\": {\"type\": \"nominal\", \"field\": \"week2\", \"title\": \"date\"}, \"y\": {\"type\": \"quantitative\", \"field\": \"weekly_tests\", \"title\": \"# Weekly Tests\"}}, \"title\": \"City of LA: Weekly Tests Conducted\", \"width\": 200, \"$schema\": \"https://vega.github.io/schema/vega-lite/v4.0.2.json\", \"datasets\": {\"data-cc51be4e29ef7be520aacd465de78f70\": [{\"week\": \"16\", \"start_of_week\": \"2020-04-19T07:00:00+00:00\", \"weekly_cases\": 3308, \"weekly_tests\": 18662, \"pct_positive\": 0.1772586003643768, \"week2\": \"4/19\"}, {\"week\": \"17\", \"start_of_week\": \"2020-04-26T07:00:00+00:00\", \"weekly_cases\": 3213, \"weekly_tests\": 35871, \"pct_positive\": 0.08957096261604082, \"week2\": \"4/26\"}, {\"week\": \"18\", \"start_of_week\": \"2020-05-03T07:00:00+00:00\", \"weekly_cases\": 3107, \"weekly_tests\": 57078, \"pct_positive\": 0.0544342829111041, \"week2\": \"5/3\"}, {\"week\": \"19\", \"start_of_week\": \"2020-05-10T07:00:00+00:00\", \"weekly_cases\": 2954, \"weekly_tests\": 63592, \"pct_positive\": 0.046452383947666376, \"week2\": \"5/10\"}, {\"week\": \"20\", \"start_of_week\": \"2020-05-17T07:00:00+00:00\", \"weekly_cases\": 2950, \"weekly_tests\": 55324, \"pct_positive\": 0.05332224712602126, \"week2\": \"5/17\"}]}}, {\"mode\": \"vega-lite\"});\n",
       "</script>"
      ],
      "text/plain": [
       "alt.Chart(...)"
      ]
     },
     "metadata": {},
     "output_type": "display_data"
    }
   ],
   "source": [
    "county_tests = utils.lacounty_testing_charts(start_date, county_test_lower_bound, county_test_upper_bound)\n",
    "positive_tests = utils.lacounty_positive_test_charts(start_date, positive_lower_bound, positive_upper_bound)\n",
    "city_tests = utils.lacity_testing_charts(start_date, city_test_lower_bound, city_test_upper_bound)\n",
    "positive_tests = utils.lacity_positive_test_charts(start_date, positive_lower_bound, positive_upper_bound)"
   ]
  },
  {
   "cell_type": "markdown",
   "metadata": {},
   "source": [
    "## Hospital Capacity Charts"
   ]
  },
  {
   "cell_type": "code",
   "execution_count": 7,
   "metadata": {},
   "outputs": [
    {
     "data": {
      "text/html": [
       "\n",
       "<div id=\"altair-viz-0ce80f3c35ab40d7b5c8e60809a85b47\"></div>\n",
       "<script type=\"text/javascript\">\n",
       "  (function(spec, embedOpt){\n",
       "    const outputDiv = document.getElementById(\"altair-viz-0ce80f3c35ab40d7b5c8e60809a85b47\");\n",
       "    const paths = {\n",
       "      \"vega\": \"https://cdn.jsdelivr.net/npm//vega@5?noext\",\n",
       "      \"vega-lib\": \"https://cdn.jsdelivr.net/npm//vega-lib?noext\",\n",
       "      \"vega-lite\": \"https://cdn.jsdelivr.net/npm//vega-lite@4.0.2?noext\",\n",
       "      \"vega-embed\": \"https://cdn.jsdelivr.net/npm//vega-embed@6?noext\",\n",
       "    };\n",
       "\n",
       "    function loadScript(lib) {\n",
       "      return new Promise(function(resolve, reject) {\n",
       "        var s = document.createElement('script');\n",
       "        s.src = paths[lib];\n",
       "        s.async = true;\n",
       "        s.onload = () => resolve(paths[lib]);\n",
       "        s.onerror = () => reject(`Error loading script: ${paths[lib]}`);\n",
       "        document.getElementsByTagName(\"head\")[0].appendChild(s);\n",
       "      });\n",
       "    }\n",
       "\n",
       "    function showError(err) {\n",
       "      outputDiv.innerHTML = `<div class=\"error\" style=\"color:red;\">${err}</div>`;\n",
       "      throw err;\n",
       "    }\n",
       "\n",
       "    function displayChart(vegaEmbed) {\n",
       "      vegaEmbed(outputDiv, spec, embedOpt)\n",
       "        .catch(err => showError(`Javascript Error: ${err.message}<br>This usually means there's a typo in your chart specification. See the javascript console for the full traceback.`));\n",
       "    }\n",
       "\n",
       "    if(typeof define === \"function\" && define.amd) {\n",
       "      requirejs.config({paths});\n",
       "      require([\"vega-embed\"], displayChart, err => showError(`Error loading script: ${err.message}`));\n",
       "    } else if (typeof vegaEmbed === \"function\") {\n",
       "      displayChart(vegaEmbed);\n",
       "    } else {\n",
       "      loadScript(\"vega\")\n",
       "        .then(() => loadScript(\"vega-lite\"))\n",
       "        .then(() => loadScript(\"vega-embed\"))\n",
       "        .catch(showError)\n",
       "        .then(() => displayChart(vegaEmbed));\n",
       "    }\n",
       "  })({\"config\": {\"view\": {\"continuousWidth\": 400, \"continuousHeight\": 300, \"strokeOpacity\": 0}, \"axis\": {\"domainOpacity\": 0.4, \"gridOpacity\": 0.4, \"ticks\": false}, \"title\": {\"anchor\": \"middle\", \"color\": \"black\", \"font\": \"Roboto\", \"fontSize\": 10}}, \"layer\": [{\"data\": {\"name\": \"data-b229fb1f5c640b1dbd87530ff91067ed\"}, \"mark\": \"line\", \"encoding\": {\"color\": {\"type\": \"nominal\", \"field\": \"equipment\", \"scale\": {\"domain\": [\"Acute Care Beds\", \"ICU Beds\", \"Ventilators\"], \"range\": [\"#10DE7A\", \"#0A4C6A\", \"#FCA800\"]}}, \"x\": {\"type\": \"temporal\", \"axis\": {\"format\": \"%-m/%-d\"}, \"field\": \"date\", \"timeUnit\": \"monthdate\", \"title\": \"date\"}, \"y\": {\"type\": \"quantitative\", \"axis\": {\"format\": \"%\"}, \"field\": \"pct_available\", \"title\": \"% available\"}}}, {\"data\": {\"name\": \"data-3d40eef6f5c0bf9cd18ed8669401cbf2\"}, \"mark\": {\"type\": \"rule\", \"color\": \"#A30F23\", \"strokeDash\": [5, 2]}, \"encoding\": {\"y\": {\"type\": \"quantitative\", \"field\": \"y\"}}}], \"title\": \"Percent of Available Hospital Equipment by Type\", \"width\": 400, \"$schema\": \"https://vega.github.io/schema/vega-lite/v4.0.2.json\", \"datasets\": {\"data-b229fb1f5c640b1dbd87530ff91067ed\": [{\"date\": \"2020-04-15T07:00:00+00:00\", \"equipment\": \"Acute Care Beds\", \"type_total\": 16913.0, \"n_available\": 1309.0, \"pct_available\": 0.07739608585112044}, {\"date\": \"2020-04-15T07:00:00+00:00\", \"equipment\": \"ICU Beds\", \"type_total\": 2480.0, \"n_available\": 249.0, \"pct_available\": 0.10040322580645161}, {\"date\": \"2020-04-15T07:00:00+00:00\", \"equipment\": \"Ventilators\", \"type_total\": 2104.0, \"n_available\": 1129.0, \"pct_available\": 0.5365969581749049}, {\"date\": \"2020-04-16T07:00:00+00:00\", \"equipment\": \"Acute Care Beds\", \"type_total\": 17001.0, \"n_available\": 1309.0, \"pct_available\": 0.0769954708546556}, {\"date\": \"2020-04-16T07:00:00+00:00\", \"equipment\": \"ICU Beds\", \"type_total\": 2500.0, \"n_available\": 242.0, \"pct_available\": 0.0968}, {\"date\": \"2020-04-16T07:00:00+00:00\", \"equipment\": \"Ventilators\", \"type_total\": 2104.0, \"n_available\": 1119.0, \"pct_available\": 0.5318441064638784}, {\"date\": \"2020-04-17T07:00:00+00:00\", \"equipment\": \"Acute Care Beds\", \"type_total\": 17000.0, \"n_available\": 1133.0, \"pct_available\": 0.0666470588235294}, {\"date\": \"2020-04-17T07:00:00+00:00\", \"equipment\": \"ICU Beds\", \"type_total\": 2500.0, \"n_available\": 259.0, \"pct_available\": 0.1036}, {\"date\": \"2020-04-17T07:00:00+00:00\", \"equipment\": \"Ventilators\", \"type_total\": 2132.0, \"n_available\": 1124.0, \"pct_available\": 0.5272045028142589}, {\"date\": \"2020-04-18T07:00:00+00:00\", \"equipment\": \"Acute Care Beds\", \"type_total\": 17000.0, \"n_available\": 1301.0, \"pct_available\": 0.07652941176470589}, {\"date\": \"2020-04-18T07:00:00+00:00\", \"equipment\": \"ICU Beds\", \"type_total\": 2500.0, \"n_available\": 272.0, \"pct_available\": 0.1088}, {\"date\": \"2020-04-18T07:00:00+00:00\", \"equipment\": \"Ventilators\", \"type_total\": 1956.0, \"n_available\": 1040.0, \"pct_available\": 0.5316973415132924}, {\"date\": \"2020-04-19T07:00:00+00:00\", \"equipment\": \"Acute Care Beds\", \"type_total\": 17000.0, \"n_available\": 1145.0, \"pct_available\": 0.06735294117647059}, {\"date\": \"2020-04-19T07:00:00+00:00\", \"equipment\": \"ICU Beds\", \"type_total\": 2500.0, \"n_available\": 234.0, \"pct_available\": 0.0936}, {\"date\": \"2020-04-19T07:00:00+00:00\", \"equipment\": \"Ventilators\", \"type_total\": 1958.0, \"n_available\": 984.0, \"pct_available\": 0.5025536261491318}, {\"date\": \"2020-04-20T07:00:00+00:00\", \"equipment\": \"Acute Care Beds\", \"type_total\": 7072.0, \"n_available\": 1201.0, \"pct_available\": 0.16982466063348417}, {\"date\": \"2020-04-20T07:00:00+00:00\", \"equipment\": \"ICU Beds\", \"type_total\": 1643.0, \"n_available\": 232.0, \"pct_available\": 0.14120511259890445}, {\"date\": \"2020-04-20T07:00:00+00:00\", \"equipment\": \"Ventilators\", \"type_total\": 2076.0, \"n_available\": 1125.0, \"pct_available\": 0.541907514450867}, {\"date\": \"2020-04-21T07:00:00+00:00\", \"equipment\": \"Acute Care Beds\", \"type_total\": 6642.0, \"n_available\": 1053.0, \"pct_available\": 0.15853658536585366}, {\"date\": \"2020-04-21T07:00:00+00:00\", \"equipment\": \"ICU Beds\", \"type_total\": 1934.0, \"n_available\": 246.0, \"pct_available\": 0.12719751809720786}, {\"date\": \"2020-04-21T07:00:00+00:00\", \"equipment\": \"Ventilators\", \"type_total\": 2158.0, \"n_available\": 1143.0, \"pct_available\": 0.5296570898980537}, {\"date\": \"2020-04-22T07:00:00+00:00\", \"equipment\": \"Acute Care Beds\", \"type_total\": 6260.0, \"n_available\": 1052.0, \"pct_available\": 0.16805111821086263}, {\"date\": \"2020-04-22T07:00:00+00:00\", \"equipment\": \"ICU Beds\", \"type_total\": 1986.0, \"n_available\": 264.0, \"pct_available\": 0.13293051359516617}, {\"date\": \"2020-04-22T07:00:00+00:00\", \"equipment\": \"Ventilators\", \"type_total\": 2204.0, \"n_available\": 1227.0, \"pct_available\": 0.5567150635208712}, {\"date\": \"2020-04-23T07:00:00+00:00\", \"equipment\": \"Acute Care Beds\", \"type_total\": 6107.0, \"n_available\": 963.0, \"pct_available\": 0.15768789913214346}, {\"date\": \"2020-04-23T07:00:00+00:00\", \"equipment\": \"ICU Beds\", \"type_total\": 1940.0, \"n_available\": 242.0, \"pct_available\": 0.12474226804123711}, {\"date\": \"2020-04-23T07:00:00+00:00\", \"equipment\": \"Ventilators\", \"type_total\": 2221.0, \"n_available\": 1215.0, \"pct_available\": 0.5470508779828905}, {\"date\": \"2020-04-24T07:00:00+00:00\", \"equipment\": \"Acute Care Beds\", \"type_total\": 6403.0, \"n_available\": 1097.0, \"pct_available\": 0.17132594096517256}, {\"date\": \"2020-04-24T07:00:00+00:00\", \"equipment\": \"ICU Beds\", \"type_total\": 1848.0, \"n_available\": 210.0, \"pct_available\": 0.11363636363636363}, {\"date\": \"2020-04-24T07:00:00+00:00\", \"equipment\": \"Ventilators\", \"type_total\": 2134.0, \"n_available\": 1212.0, \"pct_available\": 0.5679475164011246}, {\"date\": \"2020-04-25T07:00:00+00:00\", \"equipment\": \"Acute Care Beds\", \"type_total\": 6214.0, \"n_available\": 1083.0, \"pct_available\": 0.1742838751206952}, {\"date\": \"2020-04-25T07:00:00+00:00\", \"equipment\": \"ICU Beds\", \"type_total\": 1820.0, \"n_available\": 236.0, \"pct_available\": 0.12967032967032968}, {\"date\": \"2020-04-25T07:00:00+00:00\", \"equipment\": \"Ventilators\", \"type_total\": 2028.0, \"n_available\": 1159.0, \"pct_available\": 0.5714990138067061}, {\"date\": \"2020-04-26T07:00:00+00:00\", \"equipment\": \"Acute Care Beds\", \"type_total\": 6087.0, \"n_available\": 1016.0, \"pct_available\": 0.16691309347790373}, {\"date\": \"2020-04-26T07:00:00+00:00\", \"equipment\": \"ICU Beds\", \"type_total\": 1757.0, \"n_available\": 233.0, \"pct_available\": 0.13261240751280592}, {\"date\": \"2020-04-26T07:00:00+00:00\", \"equipment\": \"Ventilators\", \"type_total\": 1797.0, \"n_available\": 1036.0, \"pct_available\": 0.5765164162493044}, {\"date\": \"2020-04-27T07:00:00+00:00\", \"equipment\": \"Acute Care Beds\", \"type_total\": 6299.0, \"n_available\": 924.0, \"pct_available\": 0.14668995078583902}, {\"date\": \"2020-04-27T07:00:00+00:00\", \"equipment\": \"ICU Beds\", \"type_total\": 1870.0, \"n_available\": 255.0, \"pct_available\": 0.13636363636363635}, {\"date\": \"2020-04-27T07:00:00+00:00\", \"equipment\": \"Ventilators\", \"type_total\": 2042.0, \"n_available\": 1164.0, \"pct_available\": 0.5700293829578844}, {\"date\": \"2020-04-28T07:00:00+00:00\", \"equipment\": \"Acute Care Beds\", \"type_total\": 6565.0, \"n_available\": 1018.0, \"pct_available\": 0.15506473724295505}, {\"date\": \"2020-04-28T07:00:00+00:00\", \"equipment\": \"ICU Beds\", \"type_total\": 1967.0, \"n_available\": 258.0, \"pct_available\": 0.13116420945602442}, {\"date\": \"2020-04-28T07:00:00+00:00\", \"equipment\": \"Ventilators\", \"type_total\": 2030.0, \"n_available\": 1091.0, \"pct_available\": 0.5374384236453202}, {\"date\": \"2020-04-29T07:00:00+00:00\", \"equipment\": \"Acute Care Beds\", \"type_total\": 6715.0, \"n_available\": 905.0, \"pct_available\": 0.1347728965003723}, {\"date\": \"2020-04-29T07:00:00+00:00\", \"equipment\": \"ICU Beds\", \"type_total\": 2168.0, \"n_available\": 221.0, \"pct_available\": 0.10193726937269372}, {\"date\": \"2020-04-29T07:00:00+00:00\", \"equipment\": \"Ventilators\", \"type_total\": 2263.0, \"n_available\": 1213.0, \"pct_available\": 0.5360141405214317}, {\"date\": \"2020-04-30T07:00:00+00:00\", \"equipment\": \"Acute Care Beds\", \"type_total\": 2456.0, \"n_available\": 935.0, \"pct_available\": 0.380700325732899}, {\"date\": \"2020-04-30T07:00:00+00:00\", \"equipment\": \"ICU Beds\", \"type_total\": 885.0, \"n_available\": 234.0, \"pct_available\": 0.26440677966101694}, {\"date\": \"2020-04-30T07:00:00+00:00\", \"equipment\": \"Ventilators\", \"type_total\": 2245.0, \"n_available\": 1210.0, \"pct_available\": 0.5389755011135857}, {\"date\": \"2020-05-01T07:00:00+00:00\", \"equipment\": \"Acute Care Beds\", \"type_total\": 6843.0, \"n_available\": 925.0, \"pct_available\": 0.13517463100979102}, {\"date\": \"2020-05-01T07:00:00+00:00\", \"equipment\": \"ICU Beds\", \"type_total\": 2157.0, \"n_available\": 203.0, \"pct_available\": 0.09411219286045433}, {\"date\": \"2020-05-01T07:00:00+00:00\", \"equipment\": \"Ventilators\", \"type_total\": 2168.0, \"n_available\": 1146.0, \"pct_available\": 0.5285977859778598}, {\"date\": \"2020-05-02T07:00:00+00:00\", \"equipment\": \"Acute Care Beds\", \"type_total\": 6690.0, \"n_available\": 986.0, \"pct_available\": 0.14738415545590433}, {\"date\": \"2020-05-02T07:00:00+00:00\", \"equipment\": \"ICU Beds\", \"type_total\": 2120.0, \"n_available\": 236.0, \"pct_available\": 0.11132075471698114}, {\"date\": \"2020-05-02T07:00:00+00:00\", \"equipment\": \"Ventilators\", \"type_total\": 2046.0, \"n_available\": 1164.0, \"pct_available\": 0.5689149560117303}, {\"date\": \"2020-05-03T07:00:00+00:00\", \"equipment\": \"Acute Care Beds\", \"type_total\": 6565.0, \"n_available\": 1041.0, \"pct_available\": 0.15856816450875857}, {\"date\": \"2020-05-03T07:00:00+00:00\", \"equipment\": \"ICU Beds\", \"type_total\": 2129.0, \"n_available\": 235.0, \"pct_available\": 0.1103804603100047}, {\"date\": \"2020-05-03T07:00:00+00:00\", \"equipment\": \"Ventilators\", \"type_total\": 2028.0, \"n_available\": 1113.0, \"pct_available\": 0.5488165680473372}, {\"date\": \"2020-05-04T07:00:00+00:00\", \"equipment\": \"Acute Care Beds\", \"type_total\": 6651.0, \"n_available\": 1055.0, \"pct_available\": 0.1586227634942114}, {\"date\": \"2020-05-04T07:00:00+00:00\", \"equipment\": \"ICU Beds\", \"type_total\": 2173.0, \"n_available\": 226.0, \"pct_available\": 0.10400368154624942}, {\"date\": \"2020-05-04T07:00:00+00:00\", \"equipment\": \"Ventilators\", \"type_total\": 2351.0, \"n_available\": 1331.0, \"pct_available\": 0.5661420672054445}, {\"date\": \"2020-05-05T07:00:00+00:00\", \"equipment\": \"Acute Care Beds\", \"type_total\": 6801.0, \"n_available\": 944.0, \"pct_available\": 0.13880311718864874}, {\"date\": \"2020-05-05T07:00:00+00:00\", \"equipment\": \"ICU Beds\", \"type_total\": 2210.0, \"n_available\": 203.0, \"pct_available\": 0.09185520361990951}, {\"date\": \"2020-05-05T07:00:00+00:00\", \"equipment\": \"Ventilators\", \"type_total\": 2196.0, \"n_available\": 1142.0, \"pct_available\": 0.5200364298724954}, {\"date\": \"2020-05-06T07:00:00+00:00\", \"equipment\": \"Acute Care Beds\", \"type_total\": 6642.0, \"n_available\": 828.0, \"pct_available\": 0.12466124661246612}, {\"date\": \"2020-05-06T07:00:00+00:00\", \"equipment\": \"ICU Beds\", \"type_total\": 2152.0, \"n_available\": 218.0, \"pct_available\": 0.10130111524163568}, {\"date\": \"2020-05-06T07:00:00+00:00\", \"equipment\": \"Ventilators\", \"type_total\": 2106.0, \"n_available\": 1048.0, \"pct_available\": 0.4976258309591643}, {\"date\": \"2020-05-07T07:00:00+00:00\", \"equipment\": \"Acute Care Beds\", \"type_total\": 6619.0, \"n_available\": 875.0, \"pct_available\": 0.13219519564888957}, {\"date\": \"2020-05-07T07:00:00+00:00\", \"equipment\": \"ICU Beds\", \"type_total\": 2152.0, \"n_available\": 203.0, \"pct_available\": 0.09433085501858736}, {\"date\": \"2020-05-07T07:00:00+00:00\", \"equipment\": \"Ventilators\", \"type_total\": 2229.0, \"n_available\": 1146.0, \"pct_available\": 0.5141318977119784}, {\"date\": \"2020-05-08T07:00:00+00:00\", \"equipment\": \"Acute Care Beds\", \"type_total\": 6667.0, \"n_available\": 810.0, \"pct_available\": 0.12149392530373482}, {\"date\": \"2020-05-08T07:00:00+00:00\", \"equipment\": \"ICU Beds\", \"type_total\": 2131.0, \"n_available\": 186.0, \"pct_available\": 0.08728296574378226}, {\"date\": \"2020-05-08T07:00:00+00:00\", \"equipment\": \"Ventilators\", \"type_total\": 2170.0, \"n_available\": 1218.0, \"pct_available\": 0.5612903225806452}, {\"date\": \"2020-05-09T07:00:00+00:00\", \"equipment\": \"Acute Care Beds\", \"type_total\": 6610.0, \"n_available\": 888.0, \"pct_available\": 0.13434190620272315}, {\"date\": \"2020-05-09T07:00:00+00:00\", \"equipment\": \"ICU Beds\", \"type_total\": 2140.0, \"n_available\": 240.0, \"pct_available\": 0.11214953271028037}, {\"date\": \"2020-05-09T07:00:00+00:00\", \"equipment\": \"Ventilators\", \"type_total\": 2086.0, \"n_available\": 1155.0, \"pct_available\": 0.5536912751677853}, {\"date\": \"2020-05-10T07:00:00+00:00\", \"equipment\": \"Acute Care Beds\", \"type_total\": 6329.0, \"n_available\": 852.0, \"pct_available\": 0.13461842313161637}, {\"date\": \"2020-05-10T07:00:00+00:00\", \"equipment\": \"ICU Beds\", \"type_total\": 2068.0, \"n_available\": 204.0, \"pct_available\": 0.09864603481624758}, {\"date\": \"2020-05-10T07:00:00+00:00\", \"equipment\": \"Ventilators\", \"type_total\": 2194.0, \"n_available\": 1181.0, \"pct_available\": 0.5382862351868732}, {\"date\": \"2020-05-11T07:00:00+00:00\", \"equipment\": \"Acute Care Beds\", \"type_total\": 6892.0, \"n_available\": 890.0, \"pct_available\": 0.12913522925130586}, {\"date\": \"2020-05-11T07:00:00+00:00\", \"equipment\": \"ICU Beds\", \"type_total\": 2249.0, \"n_available\": 246.0, \"pct_available\": 0.10938194753223655}, {\"date\": \"2020-05-11T07:00:00+00:00\", \"equipment\": \"Ventilators\", \"type_total\": 2295.0, \"n_available\": 1254.0, \"pct_available\": 0.5464052287581699}, {\"date\": \"2020-05-12T07:00:00+00:00\", \"equipment\": \"Acute Care Beds\", \"type_total\": 6930.0, \"n_available\": 874.0, \"pct_available\": 0.12611832611832613}, {\"date\": \"2020-05-12T07:00:00+00:00\", \"equipment\": \"ICU Beds\", \"type_total\": 2148.0, \"n_available\": 187.0, \"pct_available\": 0.08705772811918064}, {\"date\": \"2020-05-12T07:00:00+00:00\", \"equipment\": \"Ventilators\", \"type_total\": 2248.0, \"n_available\": 1231.0, \"pct_available\": 0.5475978647686833}, {\"date\": \"2020-05-13T07:00:00+00:00\", \"equipment\": \"Acute Care Beds\", \"type_total\": 7053.0, \"n_available\": 822.0, \"pct_available\": 0.11654615057422374}, {\"date\": \"2020-05-13T07:00:00+00:00\", \"equipment\": \"ICU Beds\", \"type_total\": 2204.0, \"n_available\": 199.0, \"pct_available\": 0.09029038112522686}, {\"date\": \"2020-05-13T07:00:00+00:00\", \"equipment\": \"Ventilators\", \"type_total\": 2385.0, \"n_available\": 1317.0, \"pct_available\": 0.5522012578616352}, {\"date\": \"2020-05-14T07:00:00+00:00\", \"equipment\": \"Acute Care Beds\", \"type_total\": 7030.0, \"n_available\": 891.0, \"pct_available\": 0.1267425320056899}, {\"date\": \"2020-05-14T07:00:00+00:00\", \"equipment\": \"ICU Beds\", \"type_total\": 2209.0, \"n_available\": 186.0, \"pct_available\": 0.08420099592575826}, {\"date\": \"2020-05-14T07:00:00+00:00\", \"equipment\": \"Ventilators\", \"type_total\": 2213.0, \"n_available\": 1243.0, \"pct_available\": 0.5616809760506101}, {\"date\": \"2020-05-15T07:00:00+00:00\", \"equipment\": \"Acute Care Beds\", \"type_total\": 6816.0, \"n_available\": 792.0, \"pct_available\": 0.11619718309859155}, {\"date\": \"2020-05-15T07:00:00+00:00\", \"equipment\": \"ICU Beds\", \"type_total\": 2184.0, \"n_available\": 183.0, \"pct_available\": 0.08379120879120878}, {\"date\": \"2020-05-15T07:00:00+00:00\", \"equipment\": \"Ventilators\", \"type_total\": 2050.0, \"n_available\": 1057.0, \"pct_available\": 0.515609756097561}, {\"date\": \"2020-05-16T07:00:00+00:00\", \"equipment\": \"Acute Care Beds\", \"type_total\": 6561.0, \"n_available\": 953.0, \"pct_available\": 0.14525224813290658}, {\"date\": \"2020-05-16T07:00:00+00:00\", \"equipment\": \"ICU Beds\", \"type_total\": 2125.0, \"n_available\": 202.0, \"pct_available\": 0.09505882352941177}, {\"date\": \"2020-05-16T07:00:00+00:00\", \"equipment\": \"Ventilators\", \"type_total\": 2047.0, \"n_available\": 1145.0, \"pct_available\": 0.5593551538837322}, {\"date\": \"2020-05-17T07:00:00+00:00\", \"equipment\": \"Acute Care Beds\", \"type_total\": 6496.0, \"n_available\": 958.0, \"pct_available\": 0.14747536945812809}, {\"date\": \"2020-05-17T07:00:00+00:00\", \"equipment\": \"ICU Beds\", \"type_total\": 2072.0, \"n_available\": 214.0, \"pct_available\": 0.10328185328185328}, {\"date\": \"2020-05-17T07:00:00+00:00\", \"equipment\": \"Ventilators\", \"type_total\": 2062.0, \"n_available\": 1229.0, \"pct_available\": 0.596023278370514}, {\"date\": \"2020-05-18T07:00:00+00:00\", \"equipment\": \"Acute Care Beds\", \"type_total\": 6718.0, \"n_available\": 938.0, \"pct_available\": 0.13962488835963086}, {\"date\": \"2020-05-18T07:00:00+00:00\", \"equipment\": \"ICU Beds\", \"type_total\": 2165.0, \"n_available\": 195.0, \"pct_available\": 0.09006928406466513}, {\"date\": \"2020-05-18T07:00:00+00:00\", \"equipment\": \"Ventilators\", \"type_total\": 2317.0, \"n_available\": 1321.0, \"pct_available\": 0.5701337936987484}, {\"date\": \"2020-05-19T07:00:00+00:00\", \"equipment\": \"Acute Care Beds\", \"type_total\": 7021.0, \"n_available\": 944.0, \"pct_available\": 0.13445378151260504}, {\"date\": \"2020-05-19T07:00:00+00:00\", \"equipment\": \"ICU Beds\", \"type_total\": 2180.0, \"n_available\": 184.0, \"pct_available\": 0.08440366972477065}, {\"date\": \"2020-05-19T07:00:00+00:00\", \"equipment\": \"Ventilators\", \"type_total\": 2309.0, \"n_available\": 1262.0, \"pct_available\": 0.5465569510610654}, {\"date\": \"2020-05-20T07:00:00+00:00\", \"equipment\": \"Acute Care Beds\", \"type_total\": 6921.0, \"n_available\": 795.0, \"pct_available\": 0.11486779367143476}, {\"date\": \"2020-05-20T07:00:00+00:00\", \"equipment\": \"ICU Beds\", \"type_total\": 2170.0, \"n_available\": 230.0, \"pct_available\": 0.10599078341013825}, {\"date\": \"2020-05-20T07:00:00+00:00\", \"equipment\": \"Ventilators\", \"type_total\": 2269.0, \"n_available\": 1284.0, \"pct_available\": 0.5658880564125165}, {\"date\": \"2020-05-21T07:00:00+00:00\", \"equipment\": \"Acute Care Beds\", \"type_total\": 7111.0, \"n_available\": 881.0, \"pct_available\": 0.12389256082126283}, {\"date\": \"2020-05-21T07:00:00+00:00\", \"equipment\": \"ICU Beds\", \"type_total\": 2184.0, \"n_available\": 168.0, \"pct_available\": 0.07692307692307693}, {\"date\": \"2020-05-21T07:00:00+00:00\", \"equipment\": \"Ventilators\", \"type_total\": 2237.0, \"n_available\": 1196.0, \"pct_available\": 0.5346446133214126}, {\"date\": \"2020-05-22T07:00:00+00:00\", \"equipment\": \"Acute Care Beds\", \"type_total\": 7007.0, \"n_available\": 884.0, \"pct_available\": 0.1261595547309833}, {\"date\": \"2020-05-22T07:00:00+00:00\", \"equipment\": \"ICU Beds\", \"type_total\": 2257.0, \"n_available\": 217.0, \"pct_available\": 0.09614532565352238}, {\"date\": \"2020-05-22T07:00:00+00:00\", \"equipment\": \"Ventilators\", \"type_total\": 2187.0, \"n_available\": 1123.0, \"pct_available\": 0.5134887974394147}, {\"date\": \"2020-05-23T07:00:00+00:00\", \"equipment\": \"Acute Care Beds\", \"type_total\": 6666.0, \"n_available\": 881.0, \"pct_available\": 0.13216321632163217}, {\"date\": \"2020-05-23T07:00:00+00:00\", \"equipment\": \"ICU Beds\", \"type_total\": 2141.0, \"n_available\": 168.0, \"pct_available\": 0.07846800560485755}, {\"date\": \"2020-05-23T07:00:00+00:00\", \"equipment\": \"Ventilators\", \"type_total\": 2183.0, \"n_available\": 1196.0, \"pct_available\": 0.5478699038021072}, {\"date\": \"2020-05-24T07:00:00+00:00\", \"equipment\": \"Acute Care Beds\", \"type_total\": 6671.0, \"n_available\": 937.0, \"pct_available\": 0.14045870184380152}, {\"date\": \"2020-05-24T07:00:00+00:00\", \"equipment\": \"ICU Beds\", \"type_total\": 2183.0, \"n_available\": 194.0, \"pct_available\": 0.08886852954649564}, {\"date\": \"2020-05-24T07:00:00+00:00\", \"equipment\": \"Ventilators\", \"type_total\": 2239.0, \"n_available\": 1199.0, \"pct_available\": 0.5355069227333631}, {\"date\": \"2020-05-25T07:00:00+00:00\", \"equipment\": \"Acute Care Beds\", \"type_total\": 6696.0, \"n_available\": 932.0, \"pct_available\": 0.13918757467144563}, {\"date\": \"2020-05-25T07:00:00+00:00\", \"equipment\": \"ICU Beds\", \"type_total\": 1978.0, \"n_available\": 200.0, \"pct_available\": 0.10111223458038422}, {\"date\": \"2020-05-25T07:00:00+00:00\", \"equipment\": \"Ventilators\", \"type_total\": 2205.0, \"n_available\": 1206.0, \"pct_available\": 0.5469387755102041}, {\"date\": \"2020-05-26T07:00:00+00:00\", \"equipment\": \"Acute Care Beds\", \"type_total\": 2138.0, \"n_available\": 880.0, \"pct_available\": 0.411599625818522}, {\"date\": \"2020-05-26T07:00:00+00:00\", \"equipment\": \"ICU Beds\", \"type_total\": 734.0, \"n_available\": 183.0, \"pct_available\": 0.24931880108991825}, {\"date\": \"2020-05-26T07:00:00+00:00\", \"equipment\": \"Ventilators\", \"type_total\": 2237.0, \"n_available\": 1270.0, \"pct_available\": 0.5677246312025034}, {\"date\": \"2020-05-27T07:00:00+00:00\", \"equipment\": \"Acute Care Beds\", \"type_total\": 1978.0, \"n_available\": 746.0, \"pct_available\": 0.37714863498483314}, {\"date\": \"2020-05-27T07:00:00+00:00\", \"equipment\": \"ICU Beds\", \"type_total\": 727.0, \"n_available\": 205.0, \"pct_available\": 0.28198074277854196}, {\"date\": \"2020-05-27T07:00:00+00:00\", \"equipment\": \"Ventilators\", \"type_total\": 2076.0, \"n_available\": 1027.0, \"pct_available\": 0.49470134874759153}], \"data-3d40eef6f5c0bf9cd18ed8669401cbf2\": [{\"y\": 0.3}]}}, {\"mode\": \"vega-lite\"});\n",
       "</script>"
      ],
      "text/plain": [
       "alt.LayerChart(...)"
      ]
     },
     "metadata": {},
     "output_type": "display_data"
    },
    {
     "data": {
      "text/html": [
       "\n",
       "<div id=\"altair-viz-bca6039457374fa5935bee4ed4db6b4e\"></div>\n",
       "<script type=\"text/javascript\">\n",
       "  (function(spec, embedOpt){\n",
       "    const outputDiv = document.getElementById(\"altair-viz-bca6039457374fa5935bee4ed4db6b4e\");\n",
       "    const paths = {\n",
       "      \"vega\": \"https://cdn.jsdelivr.net/npm//vega@5?noext\",\n",
       "      \"vega-lib\": \"https://cdn.jsdelivr.net/npm//vega-lib?noext\",\n",
       "      \"vega-lite\": \"https://cdn.jsdelivr.net/npm//vega-lite@4.0.2?noext\",\n",
       "      \"vega-embed\": \"https://cdn.jsdelivr.net/npm//vega-embed@6?noext\",\n",
       "    };\n",
       "\n",
       "    function loadScript(lib) {\n",
       "      return new Promise(function(resolve, reject) {\n",
       "        var s = document.createElement('script');\n",
       "        s.src = paths[lib];\n",
       "        s.async = true;\n",
       "        s.onload = () => resolve(paths[lib]);\n",
       "        s.onerror = () => reject(`Error loading script: ${paths[lib]}`);\n",
       "        document.getElementsByTagName(\"head\")[0].appendChild(s);\n",
       "      });\n",
       "    }\n",
       "\n",
       "    function showError(err) {\n",
       "      outputDiv.innerHTML = `<div class=\"error\" style=\"color:red;\">${err}</div>`;\n",
       "      throw err;\n",
       "    }\n",
       "\n",
       "    function displayChart(vegaEmbed) {\n",
       "      vegaEmbed(outputDiv, spec, embedOpt)\n",
       "        .catch(err => showError(`Javascript Error: ${err.message}<br>This usually means there's a typo in your chart specification. See the javascript console for the full traceback.`));\n",
       "    }\n",
       "\n",
       "    if(typeof define === \"function\" && define.amd) {\n",
       "      requirejs.config({paths});\n",
       "      require([\"vega-embed\"], displayChart, err => showError(`Error loading script: ${err.message}`));\n",
       "    } else if (typeof vegaEmbed === \"function\") {\n",
       "      displayChart(vegaEmbed);\n",
       "    } else {\n",
       "      loadScript(\"vega\")\n",
       "        .then(() => loadScript(\"vega-lite\"))\n",
       "        .then(() => loadScript(\"vega-embed\"))\n",
       "        .catch(showError)\n",
       "        .then(() => displayChart(vegaEmbed));\n",
       "    }\n",
       "  })({\"config\": {\"view\": {\"continuousWidth\": 400, \"continuousHeight\": 300, \"strokeOpacity\": 0}, \"axis\": {\"domainOpacity\": 0.4, \"gridOpacity\": 0.4, \"ticks\": false}, \"title\": {\"anchor\": \"middle\", \"color\": \"black\", \"font\": \"Roboto\", \"fontSize\": 10}}, \"data\": {\"name\": \"data-b229fb1f5c640b1dbd87530ff91067ed\"}, \"mark\": \"line\", \"encoding\": {\"color\": {\"type\": \"nominal\", \"field\": \"equipment\", \"scale\": {\"domain\": [\"Acute Care Beds\", \"ICU Beds\", \"Ventilators\"], \"range\": [\"#10DE7A\", \"#0A4C6A\", \"#FCA800\"]}}, \"x\": {\"type\": \"temporal\", \"axis\": {\"format\": \"%-m/%-d\"}, \"field\": \"date\", \"timeUnit\": \"monthdate\", \"title\": \"date\"}, \"y\": {\"type\": \"quantitative\", \"field\": \"n_available\", \"title\": \"# available\"}}, \"title\": \"Number of Available Hospital Equipment by Type\", \"width\": 400, \"$schema\": \"https://vega.github.io/schema/vega-lite/v4.0.2.json\", \"datasets\": {\"data-b229fb1f5c640b1dbd87530ff91067ed\": [{\"date\": \"2020-04-15T07:00:00+00:00\", \"equipment\": \"Acute Care Beds\", \"type_total\": 16913.0, \"n_available\": 1309.0, \"pct_available\": 0.07739608585112044}, {\"date\": \"2020-04-15T07:00:00+00:00\", \"equipment\": \"ICU Beds\", \"type_total\": 2480.0, \"n_available\": 249.0, \"pct_available\": 0.10040322580645161}, {\"date\": \"2020-04-15T07:00:00+00:00\", \"equipment\": \"Ventilators\", \"type_total\": 2104.0, \"n_available\": 1129.0, \"pct_available\": 0.5365969581749049}, {\"date\": \"2020-04-16T07:00:00+00:00\", \"equipment\": \"Acute Care Beds\", \"type_total\": 17001.0, \"n_available\": 1309.0, \"pct_available\": 0.0769954708546556}, {\"date\": \"2020-04-16T07:00:00+00:00\", \"equipment\": \"ICU Beds\", \"type_total\": 2500.0, \"n_available\": 242.0, \"pct_available\": 0.0968}, {\"date\": \"2020-04-16T07:00:00+00:00\", \"equipment\": \"Ventilators\", \"type_total\": 2104.0, \"n_available\": 1119.0, \"pct_available\": 0.5318441064638784}, {\"date\": \"2020-04-17T07:00:00+00:00\", \"equipment\": \"Acute Care Beds\", \"type_total\": 17000.0, \"n_available\": 1133.0, \"pct_available\": 0.0666470588235294}, {\"date\": \"2020-04-17T07:00:00+00:00\", \"equipment\": \"ICU Beds\", \"type_total\": 2500.0, \"n_available\": 259.0, \"pct_available\": 0.1036}, {\"date\": \"2020-04-17T07:00:00+00:00\", \"equipment\": \"Ventilators\", \"type_total\": 2132.0, \"n_available\": 1124.0, \"pct_available\": 0.5272045028142589}, {\"date\": \"2020-04-18T07:00:00+00:00\", \"equipment\": \"Acute Care Beds\", \"type_total\": 17000.0, \"n_available\": 1301.0, \"pct_available\": 0.07652941176470589}, {\"date\": \"2020-04-18T07:00:00+00:00\", \"equipment\": \"ICU Beds\", \"type_total\": 2500.0, \"n_available\": 272.0, \"pct_available\": 0.1088}, {\"date\": \"2020-04-18T07:00:00+00:00\", \"equipment\": \"Ventilators\", \"type_total\": 1956.0, \"n_available\": 1040.0, \"pct_available\": 0.5316973415132924}, {\"date\": \"2020-04-19T07:00:00+00:00\", \"equipment\": \"Acute Care Beds\", \"type_total\": 17000.0, \"n_available\": 1145.0, \"pct_available\": 0.06735294117647059}, {\"date\": \"2020-04-19T07:00:00+00:00\", \"equipment\": \"ICU Beds\", \"type_total\": 2500.0, \"n_available\": 234.0, \"pct_available\": 0.0936}, {\"date\": \"2020-04-19T07:00:00+00:00\", \"equipment\": \"Ventilators\", \"type_total\": 1958.0, \"n_available\": 984.0, \"pct_available\": 0.5025536261491318}, {\"date\": \"2020-04-20T07:00:00+00:00\", \"equipment\": \"Acute Care Beds\", \"type_total\": 7072.0, \"n_available\": 1201.0, \"pct_available\": 0.16982466063348417}, {\"date\": \"2020-04-20T07:00:00+00:00\", \"equipment\": \"ICU Beds\", \"type_total\": 1643.0, \"n_available\": 232.0, \"pct_available\": 0.14120511259890445}, {\"date\": \"2020-04-20T07:00:00+00:00\", \"equipment\": \"Ventilators\", \"type_total\": 2076.0, \"n_available\": 1125.0, \"pct_available\": 0.541907514450867}, {\"date\": \"2020-04-21T07:00:00+00:00\", \"equipment\": \"Acute Care Beds\", \"type_total\": 6642.0, \"n_available\": 1053.0, \"pct_available\": 0.15853658536585366}, {\"date\": \"2020-04-21T07:00:00+00:00\", \"equipment\": \"ICU Beds\", \"type_total\": 1934.0, \"n_available\": 246.0, \"pct_available\": 0.12719751809720786}, {\"date\": \"2020-04-21T07:00:00+00:00\", \"equipment\": \"Ventilators\", \"type_total\": 2158.0, \"n_available\": 1143.0, \"pct_available\": 0.5296570898980537}, {\"date\": \"2020-04-22T07:00:00+00:00\", \"equipment\": \"Acute Care Beds\", \"type_total\": 6260.0, \"n_available\": 1052.0, \"pct_available\": 0.16805111821086263}, {\"date\": \"2020-04-22T07:00:00+00:00\", \"equipment\": \"ICU Beds\", \"type_total\": 1986.0, \"n_available\": 264.0, \"pct_available\": 0.13293051359516617}, {\"date\": \"2020-04-22T07:00:00+00:00\", \"equipment\": \"Ventilators\", \"type_total\": 2204.0, \"n_available\": 1227.0, \"pct_available\": 0.5567150635208712}, {\"date\": \"2020-04-23T07:00:00+00:00\", \"equipment\": \"Acute Care Beds\", \"type_total\": 6107.0, \"n_available\": 963.0, \"pct_available\": 0.15768789913214346}, {\"date\": \"2020-04-23T07:00:00+00:00\", \"equipment\": \"ICU Beds\", \"type_total\": 1940.0, \"n_available\": 242.0, \"pct_available\": 0.12474226804123711}, {\"date\": \"2020-04-23T07:00:00+00:00\", \"equipment\": \"Ventilators\", \"type_total\": 2221.0, \"n_available\": 1215.0, \"pct_available\": 0.5470508779828905}, {\"date\": \"2020-04-24T07:00:00+00:00\", \"equipment\": \"Acute Care Beds\", \"type_total\": 6403.0, \"n_available\": 1097.0, \"pct_available\": 0.17132594096517256}, {\"date\": \"2020-04-24T07:00:00+00:00\", \"equipment\": \"ICU Beds\", \"type_total\": 1848.0, \"n_available\": 210.0, \"pct_available\": 0.11363636363636363}, {\"date\": \"2020-04-24T07:00:00+00:00\", \"equipment\": \"Ventilators\", \"type_total\": 2134.0, \"n_available\": 1212.0, \"pct_available\": 0.5679475164011246}, {\"date\": \"2020-04-25T07:00:00+00:00\", \"equipment\": \"Acute Care Beds\", \"type_total\": 6214.0, \"n_available\": 1083.0, \"pct_available\": 0.1742838751206952}, {\"date\": \"2020-04-25T07:00:00+00:00\", \"equipment\": \"ICU Beds\", \"type_total\": 1820.0, \"n_available\": 236.0, \"pct_available\": 0.12967032967032968}, {\"date\": \"2020-04-25T07:00:00+00:00\", \"equipment\": \"Ventilators\", \"type_total\": 2028.0, \"n_available\": 1159.0, \"pct_available\": 0.5714990138067061}, {\"date\": \"2020-04-26T07:00:00+00:00\", \"equipment\": \"Acute Care Beds\", \"type_total\": 6087.0, \"n_available\": 1016.0, \"pct_available\": 0.16691309347790373}, {\"date\": \"2020-04-26T07:00:00+00:00\", \"equipment\": \"ICU Beds\", \"type_total\": 1757.0, \"n_available\": 233.0, \"pct_available\": 0.13261240751280592}, {\"date\": \"2020-04-26T07:00:00+00:00\", \"equipment\": \"Ventilators\", \"type_total\": 1797.0, \"n_available\": 1036.0, \"pct_available\": 0.5765164162493044}, {\"date\": \"2020-04-27T07:00:00+00:00\", \"equipment\": \"Acute Care Beds\", \"type_total\": 6299.0, \"n_available\": 924.0, \"pct_available\": 0.14668995078583902}, {\"date\": \"2020-04-27T07:00:00+00:00\", \"equipment\": \"ICU Beds\", \"type_total\": 1870.0, \"n_available\": 255.0, \"pct_available\": 0.13636363636363635}, {\"date\": \"2020-04-27T07:00:00+00:00\", \"equipment\": \"Ventilators\", \"type_total\": 2042.0, \"n_available\": 1164.0, \"pct_available\": 0.5700293829578844}, {\"date\": \"2020-04-28T07:00:00+00:00\", \"equipment\": \"Acute Care Beds\", \"type_total\": 6565.0, \"n_available\": 1018.0, \"pct_available\": 0.15506473724295505}, {\"date\": \"2020-04-28T07:00:00+00:00\", \"equipment\": \"ICU Beds\", \"type_total\": 1967.0, \"n_available\": 258.0, \"pct_available\": 0.13116420945602442}, {\"date\": \"2020-04-28T07:00:00+00:00\", \"equipment\": \"Ventilators\", \"type_total\": 2030.0, \"n_available\": 1091.0, \"pct_available\": 0.5374384236453202}, {\"date\": \"2020-04-29T07:00:00+00:00\", \"equipment\": \"Acute Care Beds\", \"type_total\": 6715.0, \"n_available\": 905.0, \"pct_available\": 0.1347728965003723}, {\"date\": \"2020-04-29T07:00:00+00:00\", \"equipment\": \"ICU Beds\", \"type_total\": 2168.0, \"n_available\": 221.0, \"pct_available\": 0.10193726937269372}, {\"date\": \"2020-04-29T07:00:00+00:00\", \"equipment\": \"Ventilators\", \"type_total\": 2263.0, \"n_available\": 1213.0, \"pct_available\": 0.5360141405214317}, {\"date\": \"2020-04-30T07:00:00+00:00\", \"equipment\": \"Acute Care Beds\", \"type_total\": 2456.0, \"n_available\": 935.0, \"pct_available\": 0.380700325732899}, {\"date\": \"2020-04-30T07:00:00+00:00\", \"equipment\": \"ICU Beds\", \"type_total\": 885.0, \"n_available\": 234.0, \"pct_available\": 0.26440677966101694}, {\"date\": \"2020-04-30T07:00:00+00:00\", \"equipment\": \"Ventilators\", \"type_total\": 2245.0, \"n_available\": 1210.0, \"pct_available\": 0.5389755011135857}, {\"date\": \"2020-05-01T07:00:00+00:00\", \"equipment\": \"Acute Care Beds\", \"type_total\": 6843.0, \"n_available\": 925.0, \"pct_available\": 0.13517463100979102}, {\"date\": \"2020-05-01T07:00:00+00:00\", \"equipment\": \"ICU Beds\", \"type_total\": 2157.0, \"n_available\": 203.0, \"pct_available\": 0.09411219286045433}, {\"date\": \"2020-05-01T07:00:00+00:00\", \"equipment\": \"Ventilators\", \"type_total\": 2168.0, \"n_available\": 1146.0, \"pct_available\": 0.5285977859778598}, {\"date\": \"2020-05-02T07:00:00+00:00\", \"equipment\": \"Acute Care Beds\", \"type_total\": 6690.0, \"n_available\": 986.0, \"pct_available\": 0.14738415545590433}, {\"date\": \"2020-05-02T07:00:00+00:00\", \"equipment\": \"ICU Beds\", \"type_total\": 2120.0, \"n_available\": 236.0, \"pct_available\": 0.11132075471698114}, {\"date\": \"2020-05-02T07:00:00+00:00\", \"equipment\": \"Ventilators\", \"type_total\": 2046.0, \"n_available\": 1164.0, \"pct_available\": 0.5689149560117303}, {\"date\": \"2020-05-03T07:00:00+00:00\", \"equipment\": \"Acute Care Beds\", \"type_total\": 6565.0, \"n_available\": 1041.0, \"pct_available\": 0.15856816450875857}, {\"date\": \"2020-05-03T07:00:00+00:00\", \"equipment\": \"ICU Beds\", \"type_total\": 2129.0, \"n_available\": 235.0, \"pct_available\": 0.1103804603100047}, {\"date\": \"2020-05-03T07:00:00+00:00\", \"equipment\": \"Ventilators\", \"type_total\": 2028.0, \"n_available\": 1113.0, \"pct_available\": 0.5488165680473372}, {\"date\": \"2020-05-04T07:00:00+00:00\", \"equipment\": \"Acute Care Beds\", \"type_total\": 6651.0, \"n_available\": 1055.0, \"pct_available\": 0.1586227634942114}, {\"date\": \"2020-05-04T07:00:00+00:00\", \"equipment\": \"ICU Beds\", \"type_total\": 2173.0, \"n_available\": 226.0, \"pct_available\": 0.10400368154624942}, {\"date\": \"2020-05-04T07:00:00+00:00\", \"equipment\": \"Ventilators\", \"type_total\": 2351.0, \"n_available\": 1331.0, \"pct_available\": 0.5661420672054445}, {\"date\": \"2020-05-05T07:00:00+00:00\", \"equipment\": \"Acute Care Beds\", \"type_total\": 6801.0, \"n_available\": 944.0, \"pct_available\": 0.13880311718864874}, {\"date\": \"2020-05-05T07:00:00+00:00\", \"equipment\": \"ICU Beds\", \"type_total\": 2210.0, \"n_available\": 203.0, \"pct_available\": 0.09185520361990951}, {\"date\": \"2020-05-05T07:00:00+00:00\", \"equipment\": \"Ventilators\", \"type_total\": 2196.0, \"n_available\": 1142.0, \"pct_available\": 0.5200364298724954}, {\"date\": \"2020-05-06T07:00:00+00:00\", \"equipment\": \"Acute Care Beds\", \"type_total\": 6642.0, \"n_available\": 828.0, \"pct_available\": 0.12466124661246612}, {\"date\": \"2020-05-06T07:00:00+00:00\", \"equipment\": \"ICU Beds\", \"type_total\": 2152.0, \"n_available\": 218.0, \"pct_available\": 0.10130111524163568}, {\"date\": \"2020-05-06T07:00:00+00:00\", \"equipment\": \"Ventilators\", \"type_total\": 2106.0, \"n_available\": 1048.0, \"pct_available\": 0.4976258309591643}, {\"date\": \"2020-05-07T07:00:00+00:00\", \"equipment\": \"Acute Care Beds\", \"type_total\": 6619.0, \"n_available\": 875.0, \"pct_available\": 0.13219519564888957}, {\"date\": \"2020-05-07T07:00:00+00:00\", \"equipment\": \"ICU Beds\", \"type_total\": 2152.0, \"n_available\": 203.0, \"pct_available\": 0.09433085501858736}, {\"date\": \"2020-05-07T07:00:00+00:00\", \"equipment\": \"Ventilators\", \"type_total\": 2229.0, \"n_available\": 1146.0, \"pct_available\": 0.5141318977119784}, {\"date\": \"2020-05-08T07:00:00+00:00\", \"equipment\": \"Acute Care Beds\", \"type_total\": 6667.0, \"n_available\": 810.0, \"pct_available\": 0.12149392530373482}, {\"date\": \"2020-05-08T07:00:00+00:00\", \"equipment\": \"ICU Beds\", \"type_total\": 2131.0, \"n_available\": 186.0, \"pct_available\": 0.08728296574378226}, {\"date\": \"2020-05-08T07:00:00+00:00\", \"equipment\": \"Ventilators\", \"type_total\": 2170.0, \"n_available\": 1218.0, \"pct_available\": 0.5612903225806452}, {\"date\": \"2020-05-09T07:00:00+00:00\", \"equipment\": \"Acute Care Beds\", \"type_total\": 6610.0, \"n_available\": 888.0, \"pct_available\": 0.13434190620272315}, {\"date\": \"2020-05-09T07:00:00+00:00\", \"equipment\": \"ICU Beds\", \"type_total\": 2140.0, \"n_available\": 240.0, \"pct_available\": 0.11214953271028037}, {\"date\": \"2020-05-09T07:00:00+00:00\", \"equipment\": \"Ventilators\", \"type_total\": 2086.0, \"n_available\": 1155.0, \"pct_available\": 0.5536912751677853}, {\"date\": \"2020-05-10T07:00:00+00:00\", \"equipment\": \"Acute Care Beds\", \"type_total\": 6329.0, \"n_available\": 852.0, \"pct_available\": 0.13461842313161637}, {\"date\": \"2020-05-10T07:00:00+00:00\", \"equipment\": \"ICU Beds\", \"type_total\": 2068.0, \"n_available\": 204.0, \"pct_available\": 0.09864603481624758}, {\"date\": \"2020-05-10T07:00:00+00:00\", \"equipment\": \"Ventilators\", \"type_total\": 2194.0, \"n_available\": 1181.0, \"pct_available\": 0.5382862351868732}, {\"date\": \"2020-05-11T07:00:00+00:00\", \"equipment\": \"Acute Care Beds\", \"type_total\": 6892.0, \"n_available\": 890.0, \"pct_available\": 0.12913522925130586}, {\"date\": \"2020-05-11T07:00:00+00:00\", \"equipment\": \"ICU Beds\", \"type_total\": 2249.0, \"n_available\": 246.0, \"pct_available\": 0.10938194753223655}, {\"date\": \"2020-05-11T07:00:00+00:00\", \"equipment\": \"Ventilators\", \"type_total\": 2295.0, \"n_available\": 1254.0, \"pct_available\": 0.5464052287581699}, {\"date\": \"2020-05-12T07:00:00+00:00\", \"equipment\": \"Acute Care Beds\", \"type_total\": 6930.0, \"n_available\": 874.0, \"pct_available\": 0.12611832611832613}, {\"date\": \"2020-05-12T07:00:00+00:00\", \"equipment\": \"ICU Beds\", \"type_total\": 2148.0, \"n_available\": 187.0, \"pct_available\": 0.08705772811918064}, {\"date\": \"2020-05-12T07:00:00+00:00\", \"equipment\": \"Ventilators\", \"type_total\": 2248.0, \"n_available\": 1231.0, \"pct_available\": 0.5475978647686833}, {\"date\": \"2020-05-13T07:00:00+00:00\", \"equipment\": \"Acute Care Beds\", \"type_total\": 7053.0, \"n_available\": 822.0, \"pct_available\": 0.11654615057422374}, {\"date\": \"2020-05-13T07:00:00+00:00\", \"equipment\": \"ICU Beds\", \"type_total\": 2204.0, \"n_available\": 199.0, \"pct_available\": 0.09029038112522686}, {\"date\": \"2020-05-13T07:00:00+00:00\", \"equipment\": \"Ventilators\", \"type_total\": 2385.0, \"n_available\": 1317.0, \"pct_available\": 0.5522012578616352}, {\"date\": \"2020-05-14T07:00:00+00:00\", \"equipment\": \"Acute Care Beds\", \"type_total\": 7030.0, \"n_available\": 891.0, \"pct_available\": 0.1267425320056899}, {\"date\": \"2020-05-14T07:00:00+00:00\", \"equipment\": \"ICU Beds\", \"type_total\": 2209.0, \"n_available\": 186.0, \"pct_available\": 0.08420099592575826}, {\"date\": \"2020-05-14T07:00:00+00:00\", \"equipment\": \"Ventilators\", \"type_total\": 2213.0, \"n_available\": 1243.0, \"pct_available\": 0.5616809760506101}, {\"date\": \"2020-05-15T07:00:00+00:00\", \"equipment\": \"Acute Care Beds\", \"type_total\": 6816.0, \"n_available\": 792.0, \"pct_available\": 0.11619718309859155}, {\"date\": \"2020-05-15T07:00:00+00:00\", \"equipment\": \"ICU Beds\", \"type_total\": 2184.0, \"n_available\": 183.0, \"pct_available\": 0.08379120879120878}, {\"date\": \"2020-05-15T07:00:00+00:00\", \"equipment\": \"Ventilators\", \"type_total\": 2050.0, \"n_available\": 1057.0, \"pct_available\": 0.515609756097561}, {\"date\": \"2020-05-16T07:00:00+00:00\", \"equipment\": \"Acute Care Beds\", \"type_total\": 6561.0, \"n_available\": 953.0, \"pct_available\": 0.14525224813290658}, {\"date\": \"2020-05-16T07:00:00+00:00\", \"equipment\": \"ICU Beds\", \"type_total\": 2125.0, \"n_available\": 202.0, \"pct_available\": 0.09505882352941177}, {\"date\": \"2020-05-16T07:00:00+00:00\", \"equipment\": \"Ventilators\", \"type_total\": 2047.0, \"n_available\": 1145.0, \"pct_available\": 0.5593551538837322}, {\"date\": \"2020-05-17T07:00:00+00:00\", \"equipment\": \"Acute Care Beds\", \"type_total\": 6496.0, \"n_available\": 958.0, \"pct_available\": 0.14747536945812809}, {\"date\": \"2020-05-17T07:00:00+00:00\", \"equipment\": \"ICU Beds\", \"type_total\": 2072.0, \"n_available\": 214.0, \"pct_available\": 0.10328185328185328}, {\"date\": \"2020-05-17T07:00:00+00:00\", \"equipment\": \"Ventilators\", \"type_total\": 2062.0, \"n_available\": 1229.0, \"pct_available\": 0.596023278370514}, {\"date\": \"2020-05-18T07:00:00+00:00\", \"equipment\": \"Acute Care Beds\", \"type_total\": 6718.0, \"n_available\": 938.0, \"pct_available\": 0.13962488835963086}, {\"date\": \"2020-05-18T07:00:00+00:00\", \"equipment\": \"ICU Beds\", \"type_total\": 2165.0, \"n_available\": 195.0, \"pct_available\": 0.09006928406466513}, {\"date\": \"2020-05-18T07:00:00+00:00\", \"equipment\": \"Ventilators\", \"type_total\": 2317.0, \"n_available\": 1321.0, \"pct_available\": 0.5701337936987484}, {\"date\": \"2020-05-19T07:00:00+00:00\", \"equipment\": \"Acute Care Beds\", \"type_total\": 7021.0, \"n_available\": 944.0, \"pct_available\": 0.13445378151260504}, {\"date\": \"2020-05-19T07:00:00+00:00\", \"equipment\": \"ICU Beds\", \"type_total\": 2180.0, \"n_available\": 184.0, \"pct_available\": 0.08440366972477065}, {\"date\": \"2020-05-19T07:00:00+00:00\", \"equipment\": \"Ventilators\", \"type_total\": 2309.0, \"n_available\": 1262.0, \"pct_available\": 0.5465569510610654}, {\"date\": \"2020-05-20T07:00:00+00:00\", \"equipment\": \"Acute Care Beds\", \"type_total\": 6921.0, \"n_available\": 795.0, \"pct_available\": 0.11486779367143476}, {\"date\": \"2020-05-20T07:00:00+00:00\", \"equipment\": \"ICU Beds\", \"type_total\": 2170.0, \"n_available\": 230.0, \"pct_available\": 0.10599078341013825}, {\"date\": \"2020-05-20T07:00:00+00:00\", \"equipment\": \"Ventilators\", \"type_total\": 2269.0, \"n_available\": 1284.0, \"pct_available\": 0.5658880564125165}, {\"date\": \"2020-05-21T07:00:00+00:00\", \"equipment\": \"Acute Care Beds\", \"type_total\": 7111.0, \"n_available\": 881.0, \"pct_available\": 0.12389256082126283}, {\"date\": \"2020-05-21T07:00:00+00:00\", \"equipment\": \"ICU Beds\", \"type_total\": 2184.0, \"n_available\": 168.0, \"pct_available\": 0.07692307692307693}, {\"date\": \"2020-05-21T07:00:00+00:00\", \"equipment\": \"Ventilators\", \"type_total\": 2237.0, \"n_available\": 1196.0, \"pct_available\": 0.5346446133214126}, {\"date\": \"2020-05-22T07:00:00+00:00\", \"equipment\": \"Acute Care Beds\", \"type_total\": 7007.0, \"n_available\": 884.0, \"pct_available\": 0.1261595547309833}, {\"date\": \"2020-05-22T07:00:00+00:00\", \"equipment\": \"ICU Beds\", \"type_total\": 2257.0, \"n_available\": 217.0, \"pct_available\": 0.09614532565352238}, {\"date\": \"2020-05-22T07:00:00+00:00\", \"equipment\": \"Ventilators\", \"type_total\": 2187.0, \"n_available\": 1123.0, \"pct_available\": 0.5134887974394147}, {\"date\": \"2020-05-23T07:00:00+00:00\", \"equipment\": \"Acute Care Beds\", \"type_total\": 6666.0, \"n_available\": 881.0, \"pct_available\": 0.13216321632163217}, {\"date\": \"2020-05-23T07:00:00+00:00\", \"equipment\": \"ICU Beds\", \"type_total\": 2141.0, \"n_available\": 168.0, \"pct_available\": 0.07846800560485755}, {\"date\": \"2020-05-23T07:00:00+00:00\", \"equipment\": \"Ventilators\", \"type_total\": 2183.0, \"n_available\": 1196.0, \"pct_available\": 0.5478699038021072}, {\"date\": \"2020-05-24T07:00:00+00:00\", \"equipment\": \"Acute Care Beds\", \"type_total\": 6671.0, \"n_available\": 937.0, \"pct_available\": 0.14045870184380152}, {\"date\": \"2020-05-24T07:00:00+00:00\", \"equipment\": \"ICU Beds\", \"type_total\": 2183.0, \"n_available\": 194.0, \"pct_available\": 0.08886852954649564}, {\"date\": \"2020-05-24T07:00:00+00:00\", \"equipment\": \"Ventilators\", \"type_total\": 2239.0, \"n_available\": 1199.0, \"pct_available\": 0.5355069227333631}, {\"date\": \"2020-05-25T07:00:00+00:00\", \"equipment\": \"Acute Care Beds\", \"type_total\": 6696.0, \"n_available\": 932.0, \"pct_available\": 0.13918757467144563}, {\"date\": \"2020-05-25T07:00:00+00:00\", \"equipment\": \"ICU Beds\", \"type_total\": 1978.0, \"n_available\": 200.0, \"pct_available\": 0.10111223458038422}, {\"date\": \"2020-05-25T07:00:00+00:00\", \"equipment\": \"Ventilators\", \"type_total\": 2205.0, \"n_available\": 1206.0, \"pct_available\": 0.5469387755102041}, {\"date\": \"2020-05-26T07:00:00+00:00\", \"equipment\": \"Acute Care Beds\", \"type_total\": 2138.0, \"n_available\": 880.0, \"pct_available\": 0.411599625818522}, {\"date\": \"2020-05-26T07:00:00+00:00\", \"equipment\": \"ICU Beds\", \"type_total\": 734.0, \"n_available\": 183.0, \"pct_available\": 0.24931880108991825}, {\"date\": \"2020-05-26T07:00:00+00:00\", \"equipment\": \"Ventilators\", \"type_total\": 2237.0, \"n_available\": 1270.0, \"pct_available\": 0.5677246312025034}, {\"date\": \"2020-05-27T07:00:00+00:00\", \"equipment\": \"Acute Care Beds\", \"type_total\": 1978.0, \"n_available\": 746.0, \"pct_available\": 0.37714863498483314}, {\"date\": \"2020-05-27T07:00:00+00:00\", \"equipment\": \"ICU Beds\", \"type_total\": 727.0, \"n_available\": 205.0, \"pct_available\": 0.28198074277854196}, {\"date\": \"2020-05-27T07:00:00+00:00\", \"equipment\": \"Ventilators\", \"type_total\": 2076.0, \"n_available\": 1027.0, \"pct_available\": 0.49470134874759153}]}}, {\"mode\": \"vega-lite\"});\n",
       "</script>"
      ],
      "text/plain": [
       "alt.Chart(...)"
      ]
     },
     "metadata": {},
     "output_type": "display_data"
    }
   ],
   "source": [
    "hospital = utils.lacity_hospital_charts(start_date)"
   ]
  },
  {
   "cell_type": "code",
   "execution_count": null,
   "metadata": {},
   "outputs": [],
   "source": []
  }
 ],
 "metadata": {
  "kernelspec": {
   "display_name": "Python 3",
   "language": "python",
   "name": "python3"
  },
  "language_info": {
   "codemirror_mode": {
    "name": "ipython",
    "version": 3
   },
   "file_extension": ".py",
   "mimetype": "text/x-python",
   "name": "python",
   "nbconvert_exporter": "python",
   "pygments_lexer": "ipython3",
   "version": "3.7.3"
  }
 },
 "nbformat": 4,
 "nbformat_minor": 4
}
