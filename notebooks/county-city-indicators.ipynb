{
 "cells": [
  {
   "cell_type": "markdown",
   "metadata": {},
   "source": [
    "## LA's COVID-19 Reopening Indicators \n",
    "\n",
    "The NY Times wrote about rushed reopenings being [a global trial-and-error experiment](https://www.nytimes.com/2020/05/07/world/europe/coronavirus-reopening-costs.html) with a further analysis showing how US states reopening [fail to meet the WH guidelines](https://www.nytimes.com/interactive/2020/05/07/us/coronavirus-states-reopen-criteria.html). \n",
    "\n",
    "While we wait for LA's own reopening indicators, we can still see how LA stacks up against NY and Chicago's indicators. [NY State's Reopening Indicators](https://www.nytimes.com/2020/05/04/nyregion/coronavirus-reopen-cuomo-ny.html) were based heavily in part by the White House [Opening Up America Again gating criteria](https://www.whitehouse.gov/wp-content/uploads/2020/04/Guidelines-for-Opening-Up-America-Again.pdf), and Chicago outlined even [tougher benchmarks than the IL statewide strategy](https://www.chicagotribune.com/coronavirus/ct-coronavirus-chicago-reopening-lightfoot-20200508-ztpnouwexrcvfdfcr2yccbc53a-story.html). In terms of outbreak severity, [LA and Chicago come right after NYC](https://www.nytimes.com/2020/05/09/us/coronavirus-chicago.html)."
   ]
  },
  {
   "cell_type": "markdown",
   "metadata": {},
   "source": [
    "### [White House Gating Criteria](https://www.whitehouse.gov/wp-content/uploads/2020/04/Guidelines-for-Opening-Up-America-Again.pdf)\n",
    "#### Symptoms\n",
    "* Downward trajectory of influenza-like illnesses (ILI) reported within a 14-day period **and**\n",
    "* Downward trajectory of COVID-like syndromic cases reported within a 14-day period\n",
    "\n",
    "#### Cases\n",
    "* Downward trajectory of documented cases within a 14-day period **or**\n",
    "* Downward trajectory of positive tests as a percent of total tests within a 14-day period (flat or increasing volume of tests) \n",
    "\n",
    "#### Hospitals\n",
    "* Treat all patients without crisis care **and**\n",
    "* Robust testing program in place for at-risk healthcare workers, including emerging antibody testing\n",
    "\n",
    "| NY | Chicago |\n",
    "| :-- | :-- |\n",
    "| At least 14 days decline in total net hospitalizations on a 3-day rolling average **or** <BR> Less than 15 net new total hospitalizations on a 3-day rolling average </BR> | At least 14 days decline in new cases, on average \n",
    "| At least 14 days decline in total net deaths on a 3-day rolling average **or** <BR> Less than 5 new deaths on a 3-day rolling average </BR> | At least 14 days decline in of case rate (per capita?) |\n",
    "| At least 30% total hospital and ICU beds available  | At least 14 days decline in rate of new cases (per capita?)\n",
    "| At least 90 days of PPE stockpiled  | Stable or declining rates of hospitalizations  \n",
    "| Capacity to conduct 30 tests per 1,000 residents per month  | Stable or declining rates of ICU admissions \n",
    "| 30 working contact tracers per 100,000 residents | Stable or declining rates of ICU deaths\n",
    "| Rural regions: Fewer than 2 new COVID patients admitted per 100,000 residents per day | Share of positive results are decreasing below 15% of those tested in the community \n",
    "|   | Fewer than 1,800 coronavirus patients in hospital beds \n",
    "|   | Fewer than 600 coronavirus patients in ICU beds\n",
    "|   | Fewer than 450 coronavirus patients on ventilators\n",
    "|   | Test 135,000 per month, equivalent to 4,500 people per day"
   ]
  },
  {
   "cell_type": "code",
   "execution_count": 1,
   "metadata": {},
   "outputs": [],
   "source": [
    "import pandas as pd\n",
    "import pytz\n",
    "\n",
    "import utils\n",
    "import meet_indicators\n",
    "import default_parameters\n",
    "\n",
    "from datetime import date, datetime, timedelta\n",
    "from IPython.display import Markdown\n",
    "\n",
    "\n",
    "# Default parameters\n",
    "county_state_name = default_parameters.county_state_name\n",
    "state_name = default_parameters.state_name\n",
    "msa_name = default_parameters.msa_name\n",
    "time_zone = default_parameters.time_zone\n",
    "\n",
    "fulldate_format = default_parameters.fulldate_format\n",
    "monthdate_format = default_parameters.monthdate_format\n",
    "start_date = default_parameters.start_date\n",
    "yesterday_date = default_parameters.yesterday_date\n",
    "today_date = default_parameters.today_date\n",
    "two_weeks_ago = default_parameters.two_weeks_ago\n",
    "two_days_ago = default_parameters.two_days_ago\n",
    "\n",
    "# Daily testing upper and lower bound\n",
    "county_test_lower_bound = 10_000\n",
    "county_test_upper_bound = 16_667\n",
    "city_test_lower_bound = 5_000\n",
    "city_test_upper_bound = 8_333\n",
    "positive_bound = 0.10\n",
    "hospital_bound = 0.30"
   ]
  },
  {
   "cell_type": "code",
   "execution_count": 2,
   "metadata": {},
   "outputs": [],
   "source": [
    "def summary_of_indicators():    \n",
    "    county_case_indicator = meet_indicators.meet_case(\"county\", county_state_name, start_date)\n",
    "    county_death_indicator = meet_indicators.meet_death(\"county\", county_state_name, start_date)\n",
    "    city_case_indicator = meet_indicators.meet_lacity_case(start_date)\n",
    "        \n",
    "    county_test_indicator = meet_indicators.meet_daily_testing(yesterday_date, \"county\", \n",
    "                                                                     county_test_lower_bound, county_test_upper_bound)\n",
    "    county_positive_indicator = meet_indicators.meet_positive_share(yesterday_date, \"county\", positive_bound)\n",
    "    \n",
    "    city_test_indicator = meet_indicators.meet_daily_testing(yesterday_date, \"city\", \n",
    "                                                                   city_test_lower_bound, city_test_upper_bound)\n",
    "    city_positive_indicator = meet_indicators.meet_positive_share(yesterday_date, \"city\", positive_bound)\n",
    "    \n",
    "    acute_indicator = meet_indicators.meet_acute(yesterday_date)\n",
    "    icu_indicator = meet_indicators.meet_icu(yesterday_date)\n",
    "    ventilator_indicator = meet_indicators.meet_ventilator(yesterday_date)\n",
    "    \n",
    "    # Markdown output\n",
    "    display(Markdown(f\"### Summary of Indicators as of {yesterday_date}:\"))\n",
    "    display(Markdown(\"#### Cases\")) \n",
    "    # LA County\n",
    "    display(Markdown(f\"LA County: declining cases: **{county_case_indicator}** out of 14 days\"))\n",
    "    display(Markdown(f\"LA County: declining deaths: **{county_death_indicator}** out of 14 days\"))\n",
    "    # City of LA\n",
    "    display(Markdown(f\"City of LA: declining cases: **{city_case_indicator}** out of 14 days\"))\n",
    "\n",
    "    \n",
    "    display(Markdown(\"#### Testing\"))\n",
    "    # Daily Testing (LA County)\n",
    "    if county_test_indicator >= county_test_upper_bound:\n",
    "        display(Markdown(f\"LA County Daily Testing: <strong><span style='color:blue'>{county_test_indicator:,}</span></strong>\"))    \n",
    "    if (county_test_indicator >= county_test_lower_bound) and (county_test_indicator < county_test_upper_bound):\n",
    "        display(Markdown(f\"LA County Daily Testing: <strong><span style='color:green'>{county_test_indicator:,}</span></strong>\"))\n",
    "    if county_test_indicator < county_test_lower_bound:\n",
    "        display(Markdown(f\"LA County Daily Testing: <strong><span style='color:red'>{county_test_indicator:,}</span></strong>\"))          \n",
    "    \n",
    "    # Share of Positive Tests (LA County)\n",
    "    if county_positive_indicator <= positive_bound:\n",
    "        display(Markdown(f\"LA County Share of Positive COVID-19 Results: <strong><span style='color:green'>{county_positive_indicator}</span></strong>\"))          \n",
    "    if county_positive_indicator > positive_bound:\n",
    "        display(Markdown(f\"LA County Share of Positive COVID-19 Results: <strong><span style='color:red'>{county_positive_indicator}</span></strong>\"))   \n",
    "\n",
    "        \n",
    "    # Daily Testing (City of LA)\n",
    "    if city_test_indicator >= city_test_upper_bound:\n",
    "        display(Markdown(f\"City of LA Daily Testing: <strong><span style='color:blue'>{city_test_indicator:,}</span></strong>\"))    \n",
    "    if (city_test_indicator >= city_test_lower_bound) and (city_test_indicator < city_test_upper_bound):\n",
    "        display(Markdown(f\"City of LA Daily Testing: <strong><span style='color:green'>{city_test_indicator:,}</span></strong>\"))\n",
    "    if city_test_indicator < city_test_lower_bound:\n",
    "        display(Markdown(f\"City of LA Daily Testing: <strong><span style='color:red'>{city_test_indicator:,}</span></strong>\"))          \n",
    "    \n",
    "    # Share of Positive Tests (LA County)\n",
    "    if city_positive_indicator <= positive_bound:\n",
    "        display(Markdown(f\"City of LA Share of Positive COVID-19 Results: <strong><span style='color:green'>{city_positive_indicator}</span></strong>\"))          \n",
    "    if city_positive_indicator > positive_bound:\n",
    "        display(Markdown(f\"City of LA Share of Positive COVID-19 Results: <strong><span style='color:red'>{city_positive_indicator}</span></strong>\"))   \n",
    "        \n",
    "    display(Markdown(\"#### Hospital Equipment\"))  \n",
    "    if acute_indicator >= hospital_bound:\n",
    "        display(Markdown(f\"City of LA % Acute Beds: <strong><span style='color:green'>{acute_indicator}</span></strong>\"))          \n",
    "    elif acute_indicator < hospital_bound:\n",
    "        display(Markdown(f\"City of LA % Acute Beds: <strong><span style='color:red'>{acute_indicator}</span></strong>\"))          \n",
    "\n",
    "    if icu_indicator >= hospital_bound:\n",
    "        display(Markdown(f\"City of LA % ICU Beds: <strong><span style='color:green'>{icu_indicator}</span></strong>\"))          \n",
    "    elif icu_indicator < hospital_bound:\n",
    "        display(Markdown(f\"City of LA % ICU Beds: <strong><span style='color:red'>{icu_indicator}</span></strong>\")) \n",
    "    \n",
    "    if ventilator_indicator >= hospital_bound:\n",
    "        display(Markdown(f\"City of LA % Ventilators: <strong><span style='color:green'>{ventilator_indicator}</span></strong>\"))          \n",
    "    elif ventilator_indicator < hospital_bound:\n",
    "        display(Markdown(f\"City of LA % Ventilators: <strong><span style='color:red'>{ventilator_indicator}</span></strong>\")) \n"
   ]
  },
  {
   "cell_type": "code",
   "execution_count": 3,
   "metadata": {},
   "outputs": [
    {
     "ename": "IndexError",
     "evalue": "single positional indexer is out-of-bounds",
     "output_type": "error",
     "traceback": [
      "\u001b[0;31m---------------------------------------------------------------------------\u001b[0m",
      "\u001b[0;31mIndexError\u001b[0m                                Traceback (most recent call last)",
      "\u001b[0;32m<ipython-input-3-5ca79a6d9c08>\u001b[0m in \u001b[0;36m<module>\u001b[0;34m\u001b[0m\n\u001b[0;32m----> 1\u001b[0;31m \u001b[0msummary_of_indicators\u001b[0m\u001b[0;34m(\u001b[0m\u001b[0;34m)\u001b[0m\u001b[0;34m\u001b[0m\u001b[0;34m\u001b[0m\u001b[0m\n\u001b[0m",
      "\u001b[0;32m<ipython-input-2-a46e8f07a52c>\u001b[0m in \u001b[0;36msummary_of_indicators\u001b[0;34m()\u001b[0m\n\u001b[1;32m      5\u001b[0m \u001b[0;34m\u001b[0m\u001b[0m\n\u001b[1;32m      6\u001b[0m     county_test_indicator = meet_indicators.meet_daily_testing(yesterday_date, \"county\", \n\u001b[0;32m----> 7\u001b[0;31m                                                                      county_test_lower_bound, county_test_upper_bound)\n\u001b[0m\u001b[1;32m      8\u001b[0m     \u001b[0mcounty_positive_indicator\u001b[0m \u001b[0;34m=\u001b[0m \u001b[0mmeet_indicators\u001b[0m\u001b[0;34m.\u001b[0m\u001b[0mmeet_positive_share\u001b[0m\u001b[0;34m(\u001b[0m\u001b[0myesterday_date\u001b[0m\u001b[0;34m,\u001b[0m \u001b[0;34m\"county\"\u001b[0m\u001b[0;34m,\u001b[0m \u001b[0mpositive_bound\u001b[0m\u001b[0;34m)\u001b[0m\u001b[0;34m\u001b[0m\u001b[0;34m\u001b[0m\u001b[0m\n\u001b[1;32m      9\u001b[0m \u001b[0;34m\u001b[0m\u001b[0m\n",
      "\u001b[0;32m~/notebooks/meet_indicators.py\u001b[0m in \u001b[0;36mmeet_daily_testing\u001b[0;34m(yesterday_date, city_or_county, lower_bound, upper_bound)\u001b[0m\n\u001b[1;32m    146\u001b[0m         \u001b[0mextract_col\u001b[0m \u001b[0;34m=\u001b[0m \u001b[0;34m\"City_Performed\"\u001b[0m\u001b[0;34m\u001b[0m\u001b[0;34m\u001b[0m\u001b[0m\n\u001b[1;32m    147\u001b[0m \u001b[0;34m\u001b[0m\u001b[0m\n\u001b[0;32m--> 148\u001b[0;31m     \u001b[0mindicator\u001b[0m \u001b[0;34m=\u001b[0m \u001b[0mdf\u001b[0m\u001b[0;34m[\u001b[0m\u001b[0mdf\u001b[0m\u001b[0;34m.\u001b[0m\u001b[0mdate\u001b[0m\u001b[0;34m==\u001b[0m\u001b[0myesterday_date\u001b[0m\u001b[0;34m]\u001b[0m\u001b[0;34m.\u001b[0m\u001b[0miloc\u001b[0m\u001b[0;34m[\u001b[0m\u001b[0;36m0\u001b[0m\u001b[0;34m]\u001b[0m\u001b[0;34m[\u001b[0m\u001b[0mextract_col\u001b[0m\u001b[0;34m]\u001b[0m\u001b[0;34m\u001b[0m\u001b[0;34m\u001b[0m\u001b[0m\n\u001b[0m\u001b[1;32m    149\u001b[0m \u001b[0;34m\u001b[0m\u001b[0m\n\u001b[1;32m    150\u001b[0m     \u001b[0;32mreturn\u001b[0m \u001b[0mindicator\u001b[0m\u001b[0;34m\u001b[0m\u001b[0;34m\u001b[0m\u001b[0m\n",
      "\u001b[0;32m/opt/conda/lib/python3.7/site-packages/pandas/core/indexing.py\u001b[0m in \u001b[0;36m__getitem__\u001b[0;34m(self, key)\u001b[0m\n\u001b[1;32m   1422\u001b[0m \u001b[0;34m\u001b[0m\u001b[0m\n\u001b[1;32m   1423\u001b[0m             \u001b[0mmaybe_callable\u001b[0m \u001b[0;34m=\u001b[0m \u001b[0mcom\u001b[0m\u001b[0;34m.\u001b[0m\u001b[0mapply_if_callable\u001b[0m\u001b[0;34m(\u001b[0m\u001b[0mkey\u001b[0m\u001b[0;34m,\u001b[0m \u001b[0mself\u001b[0m\u001b[0;34m.\u001b[0m\u001b[0mobj\u001b[0m\u001b[0;34m)\u001b[0m\u001b[0;34m\u001b[0m\u001b[0;34m\u001b[0m\u001b[0m\n\u001b[0;32m-> 1424\u001b[0;31m             \u001b[0;32mreturn\u001b[0m \u001b[0mself\u001b[0m\u001b[0;34m.\u001b[0m\u001b[0m_getitem_axis\u001b[0m\u001b[0;34m(\u001b[0m\u001b[0mmaybe_callable\u001b[0m\u001b[0;34m,\u001b[0m \u001b[0maxis\u001b[0m\u001b[0;34m=\u001b[0m\u001b[0maxis\u001b[0m\u001b[0;34m)\u001b[0m\u001b[0;34m\u001b[0m\u001b[0;34m\u001b[0m\u001b[0m\n\u001b[0m\u001b[1;32m   1425\u001b[0m \u001b[0;34m\u001b[0m\u001b[0m\n\u001b[1;32m   1426\u001b[0m     \u001b[0;32mdef\u001b[0m \u001b[0m_is_scalar_access\u001b[0m\u001b[0;34m(\u001b[0m\u001b[0mself\u001b[0m\u001b[0;34m,\u001b[0m \u001b[0mkey\u001b[0m\u001b[0;34m:\u001b[0m \u001b[0mTuple\u001b[0m\u001b[0;34m)\u001b[0m\u001b[0;34m:\u001b[0m\u001b[0;34m\u001b[0m\u001b[0;34m\u001b[0m\u001b[0m\n",
      "\u001b[0;32m/opt/conda/lib/python3.7/site-packages/pandas/core/indexing.py\u001b[0m in \u001b[0;36m_getitem_axis\u001b[0;34m(self, key, axis)\u001b[0m\n\u001b[1;32m   2155\u001b[0m \u001b[0;34m\u001b[0m\u001b[0m\n\u001b[1;32m   2156\u001b[0m             \u001b[0;31m# validate the location\u001b[0m\u001b[0;34m\u001b[0m\u001b[0;34m\u001b[0m\u001b[0;34m\u001b[0m\u001b[0m\n\u001b[0;32m-> 2157\u001b[0;31m             \u001b[0mself\u001b[0m\u001b[0;34m.\u001b[0m\u001b[0m_validate_integer\u001b[0m\u001b[0;34m(\u001b[0m\u001b[0mkey\u001b[0m\u001b[0;34m,\u001b[0m \u001b[0maxis\u001b[0m\u001b[0;34m)\u001b[0m\u001b[0;34m\u001b[0m\u001b[0;34m\u001b[0m\u001b[0m\n\u001b[0m\u001b[1;32m   2158\u001b[0m \u001b[0;34m\u001b[0m\u001b[0m\n\u001b[1;32m   2159\u001b[0m             \u001b[0;32mreturn\u001b[0m \u001b[0mself\u001b[0m\u001b[0;34m.\u001b[0m\u001b[0m_get_loc\u001b[0m\u001b[0;34m(\u001b[0m\u001b[0mkey\u001b[0m\u001b[0;34m,\u001b[0m \u001b[0maxis\u001b[0m\u001b[0;34m=\u001b[0m\u001b[0maxis\u001b[0m\u001b[0;34m)\u001b[0m\u001b[0;34m\u001b[0m\u001b[0;34m\u001b[0m\u001b[0m\n",
      "\u001b[0;32m/opt/conda/lib/python3.7/site-packages/pandas/core/indexing.py\u001b[0m in \u001b[0;36m_validate_integer\u001b[0;34m(self, key, axis)\u001b[0m\n\u001b[1;32m   2086\u001b[0m         \u001b[0mlen_axis\u001b[0m \u001b[0;34m=\u001b[0m \u001b[0mlen\u001b[0m\u001b[0;34m(\u001b[0m\u001b[0mself\u001b[0m\u001b[0;34m.\u001b[0m\u001b[0mobj\u001b[0m\u001b[0;34m.\u001b[0m\u001b[0m_get_axis\u001b[0m\u001b[0;34m(\u001b[0m\u001b[0maxis\u001b[0m\u001b[0;34m)\u001b[0m\u001b[0;34m)\u001b[0m\u001b[0;34m\u001b[0m\u001b[0;34m\u001b[0m\u001b[0m\n\u001b[1;32m   2087\u001b[0m         \u001b[0;32mif\u001b[0m \u001b[0mkey\u001b[0m \u001b[0;34m>=\u001b[0m \u001b[0mlen_axis\u001b[0m \u001b[0;32mor\u001b[0m \u001b[0mkey\u001b[0m \u001b[0;34m<\u001b[0m \u001b[0;34m-\u001b[0m\u001b[0mlen_axis\u001b[0m\u001b[0;34m:\u001b[0m\u001b[0;34m\u001b[0m\u001b[0;34m\u001b[0m\u001b[0m\n\u001b[0;32m-> 2088\u001b[0;31m             \u001b[0;32mraise\u001b[0m \u001b[0mIndexError\u001b[0m\u001b[0;34m(\u001b[0m\u001b[0;34m\"single positional indexer is out-of-bounds\"\u001b[0m\u001b[0;34m)\u001b[0m\u001b[0;34m\u001b[0m\u001b[0;34m\u001b[0m\u001b[0m\n\u001b[0m\u001b[1;32m   2089\u001b[0m \u001b[0;34m\u001b[0m\u001b[0m\n\u001b[1;32m   2090\u001b[0m     \u001b[0;32mdef\u001b[0m \u001b[0m_getitem_tuple\u001b[0m\u001b[0;34m(\u001b[0m\u001b[0mself\u001b[0m\u001b[0;34m,\u001b[0m \u001b[0mtup\u001b[0m\u001b[0;34m)\u001b[0m\u001b[0;34m:\u001b[0m\u001b[0;34m\u001b[0m\u001b[0;34m\u001b[0m\u001b[0m\n",
      "\u001b[0;31mIndexError\u001b[0m: single positional indexer is out-of-bounds"
     ]
    }
   ],
   "source": [
    "summary_of_indicators()"
   ]
  },
  {
   "cell_type": "markdown",
   "metadata": {},
   "source": [
    "## Caseload Charts"
   ]
  },
  {
   "cell_type": "code",
   "execution_count": null,
   "metadata": {},
   "outputs": [],
   "source": [
    "la_county = utils.county_case_charts(county_state_name, start_date)\n",
    "la_city = utils.lacity_case_charts(\"4/1/20\") "
   ]
  },
  {
   "cell_type": "markdown",
   "metadata": {},
   "source": [
    "## Testing Charts"
   ]
  },
  {
   "cell_type": "code",
   "execution_count": null,
   "metadata": {},
   "outputs": [],
   "source": [
    "county_tests = utils.lacounty_testing_charts(start_date, county_test_lower_bound, county_test_upper_bound)\n",
    "positive_tests = utils.lacounty_positive_test_charts(start_date, positive_bound)\n",
    "city_tests = utils.lacity_testing_charts(start_date, city_test_lower_bound, city_test_upper_bound)\n",
    "positive_tests = utils.lacity_positive_test_charts(start_date, positive_bound)"
   ]
  },
  {
   "cell_type": "markdown",
   "metadata": {},
   "source": [
    "## Hospital Capacity Charts"
   ]
  },
  {
   "cell_type": "code",
   "execution_count": null,
   "metadata": {},
   "outputs": [],
   "source": [
    "hospital = utils.lacity_hospital_charts(start_date)"
   ]
  },
  {
   "cell_type": "code",
   "execution_count": null,
   "metadata": {},
   "outputs": [],
   "source": []
  }
 ],
 "metadata": {
  "kernelspec": {
   "display_name": "Python 3",
   "language": "python",
   "name": "python3"
  },
  "language_info": {
   "codemirror_mode": {
    "name": "ipython",
    "version": 3
   },
   "file_extension": ".py",
   "mimetype": "text/x-python",
   "name": "python",
   "nbconvert_exporter": "python",
   "pygments_lexer": "ipython3",
   "version": "3.7.3"
  }
 },
 "nbformat": 4,
 "nbformat_minor": 4
}
