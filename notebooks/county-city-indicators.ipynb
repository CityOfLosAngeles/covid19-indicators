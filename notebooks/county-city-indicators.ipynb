{
 "cells": [
  {
   "cell_type": "markdown",
   "metadata": {},
   "source": [
    "## LA's COVID-19 Reopening Indicators \n",
    "This report contains information about how LA County and the City of LA performed yesterday, on a number of key COVID-19 indicators related to the speed at which opening up can occur. Taken together, performing well against the benchmarks provide confidence in moving through each phase of reopening. \n",
    "\n",
    "**LA is certainly an epicenter. In late June, LA County Department of Public Health (DPH) [estimated that 1 in 400 people were infectious](https://www.latimes.com/california/story/2020-06-29/o-c-reports-highest-weekly-covid-19-death-toll-as-california-sees-spike-in-cases), asymptomatic, and not isolated. One week later, as of June 29, LA DPH estimated the risk increased threefold, up to [1 in 140](https://www.nytimes.com/2020/06/29/us/california-coronavirus-reopening.html).** LA County is [projected](https://www.planetizen.com/news/2020/07/109756-californias-coronavirus-infections-and-hospitalizations-surge) to [run out](https://www.latimes.com/california/story/2020-06-29/l-a-county-issues-dire-warning-amid-alarming-increases-in-coronavirus) of ICU beds by early to mid July, with acute care beds [reaching capacity](https://www.nytimes.com/2020/07/03/health/coronavirus-mortality-testing.html) soon after. \n",
    "\n",
    "As long as LA consistently tests large portions of its population with fairly low positive COVID-19 results, sustains decreases in cases and deaths, has stable or decreasing COVID-related hospitalizations, and stocks ample available hospital equipment for a potential surge, we are positioned to continue loosening restrictions. When any one indicator fails to meet the benchmark, we should slow down to consider why that is happening. When multiple indicators fail to meet the benchmark, we should pause our reopening plans and even enact more stringent physical and social distancing protocols by moving back a phase.     \n",
    "    \n",
    "* [Federal Gating Criteria](https://www.whitehouse.gov/wp-content/uploads/2020/04/Guidelines-for-Opening-Up-America-Again.pdf)\n",
    "* [State Gating Criteria](https://covid19.ca.gov/roadmap-counties/)\n",
    "    * CA Department of Public Health: [County Data Chart](https://www.cdph.ca.gov/Programs/CID/DCDC/Pages/COVID-19/COVID19CountyDataTable.aspx) and [County Data Monitoring](https://www.cdph.ca.gov/Programs/CID/DCDC/Pages/COVID-19/CountyMonitoringDataStep2.aspx)\n",
    "* [WHO Testing and Positivity Rate Guidelines](https://coronavirus.jhu.edu/testing/testing-positivity)\n",
    "\n",
    "Below, you will see how LA performed yesterday on the following indicators. The data does have a one day lag. Whenever City of LA (subset of LA County) data is available, it is also reported.\n",
    "\n",
    "#### Symptoms\n",
    "* Downward trajectory of influenza-like illnesses (ILI) reported within a 14-day period **and**\n",
    "* Downward trajectory of COVID-like syndromic cases reported within a 14-day period\n",
    "\n",
    "#### Cases\n",
    "* Downward trajectory of documented cases within a 14-day period **or**\n",
    "* Downward trajectory of positive tests as a percent of total tests within a 14-day period (flat or increasing volume of tests) \n",
    "\n",
    "#### Hospitals\n",
    "* Treat all patients without crisis care **and**\n",
    "* Robust testing program in place for at-risk healthcare workers, including emerging antibody testing\n",
    "\n",
    "### References\n",
    "* [Reopening Indicators](https://github.com/CityOfLosAngeles/covid19-indicators/blob/master/Reopening_Indicators_Comparison.xlsx) from [New York State](https://www.nytimes.com/2020/05/04/nyregion/coronavirus-reopen-cuomo-ny.html) and [Chicago](https://www.chicagotribune.com/coronavirus/ct-coronavirus-chicago-reopening-lightfoot-20200508-ztpnouwexrcvfdfcr2yccbc53a-story.html)\n",
    "* [Collection of articles](https://github.com/CityOfLosAngeles/covid19-indicators/blob/master/reopening-sources.md) related to what experts say about reopening and the known unknowns ahead \n",
    "    * [LA and Chicago](https://www.nytimes.com/2020/05/09/us/coronavirus-chicago.html), after NYC, have the most persistent virus caseloads\n",
    "    * [LA, DC, and Chicago](https://www.latimes.com/california/story/2020-05-22/white-house-concerned-with-coronavirus-spread-in-l-a-area-asks-cdc-to-investigate) remain hotspots within the US "
   ]
  },
  {
   "cell_type": "code",
   "execution_count": 1,
   "metadata": {},
   "outputs": [],
   "source": [
    "import numpy as np\n",
    "import pandas as pd\n",
    "\n",
    "import utils\n",
    "import default_parameters\n",
    "import make_charts\n",
    "import meet_indicators\n",
    "\n",
    "from IPython.display import display_html, Markdown \n",
    "\n",
    "# Default parameters\n",
    "county_state_name = default_parameters.county_state_name\n",
    "state_name = default_parameters.state_name\n",
    "msa_name = default_parameters.msa_name\n",
    "time_zone = default_parameters.time_zone\n",
    "\n",
    "fulldate_format = default_parameters.fulldate_format\n",
    "monthdate_format = default_parameters.monthdate_format\n",
    "start_date = default_parameters.start_date\n",
    "yesterday_date = default_parameters.yesterday_date\n",
    "today_date = default_parameters.today_date\n",
    "two_weeks_ago = default_parameters.two_weeks_ago\n",
    "two_days_ago = default_parameters.two_days_ago\n",
    "eight_days_ago = default_parameters.eight_days_ago\n",
    "\n",
    "# Daily testing upper and lower bound\n",
    "county_test_lower_bound = 15_000\n",
    "county_test_upper_bound = 16_667\n",
    "city_test_lower_bound = round(county_test_lower_bound * 0.5)\n",
    "city_test_upper_bound = round(county_test_upper_bound * 0.5)\n",
    "positive_lower_bound = 0.04\n",
    "positive_upper_bound = 0.08\n",
    "positive_2weeks_bound = 0.05\n",
    "hospital_bound = 0.30\n",
    "ca_hospitalization_bound = 0.05"
   ]
  },
  {
   "cell_type": "code",
   "execution_count": null,
   "metadata": {},
   "outputs": [],
   "source": [
    "def check_report_readiness(county_state_name, state_name, msa_name, start_date, yesterday_date):\n",
    "    \"\"\"\n",
    "    Check if each dataframe has yesterday's date's info.\n",
    "    If all datasets are complete, report can be run.\n",
    "    \"\"\"\n",
    "    \n",
    "    df = utils.prep_county(county_state_name, start_date)\n",
    "    if df.date.max() < yesterday_date:\n",
    "        raise Exception(\"Data incomplete\")    \n",
    "    \n",
    "    df = utils.prep_lacity_cases(start_date)\n",
    "    if df.date.max() < yesterday_date:\n",
    "        raise Exception(\"Data incomplete\")        \n",
    "    \n",
    "    df = utils.prep_testing(start_date)\n",
    "    if df.date.max() < yesterday_date:\n",
    "        raise Exception(\"Data incomplete\")        \n",
    "    \n",
    "    # Sometimes hospital data lags the most...if it has data from 2 days ago, might be ok\n",
    "    df = utils.prep_lacounty_hospital(start_date)\n",
    "    if df.date.max() <  two_days_ago:\n",
    "        raise Exception(\"Data incomplete\")\n",
    "    \n",
    "    df = utils.prep_hospital_surge(county_state_name, start_date)\n",
    "    if df.date.max() < two_days_ago:\n",
    "        raise Exception(\"Data incomplete\")\n",
    "\n",
    "check_report_readiness(county_state_name, state_name, msa_name, start_date, yesterday_date)"
   ]
  },
  {
   "cell_type": "code",
   "execution_count": null,
   "metadata": {},
   "outputs": [],
   "source": [
    "# Check cases according to some criterion\n",
    "def check_cases(row):\n",
    "    status = [\"failed\" if x < 14 else \"met\" if x >= 14 else \"\" for x in row]\n",
    "    return pd.Series(status, index=row.index, dtype=\"category\")\n",
    "\n",
    "def check_deaths(row):\n",
    "    status = [\"failed\" if x < 14 else \"met\" if x >= 14 else \"\" for x in row]\n",
    "    return pd.Series(status, index=row.index, dtype=\"category\")\n",
    "\n",
    "def check_tests(lower_bound, upper_bound, row):\n",
    "    status = [\"failed\" if x < lower_bound \n",
    "              else \"met\" if ((x >= lower_bound) and (x < upper_bound)) \n",
    "              else \"exceeded\" if x >= upper_bound \n",
    "              else \"\" for x in row]\n",
    "    return pd.Series(status, index=row.index, dtype=\"category\")\n",
    "\n",
    "def check_positives(row):\n",
    "    status = [\"failed\" if x > positive_upper_bound \n",
    "              else \"met\" if ((x > positive_lower_bound) and (x <= positive_upper_bound)) \n",
    "              else \"exceeded\" if x >= positive_lower_bound \n",
    "              else \"\" for x in row]\n",
    "    return pd.Series(status, index=row.index, dtype=\"category\")\n",
    "\n",
    "def check_positives_two_weeks(row):\n",
    "    status = [\"met\" if x <= positive_2weeks_bound else \"failed\" for x in row]\n",
    "    return pd.Series(status, index=row.index, dtype=\"category\")  \n",
    "\n",
    "def check_hospitals(row):\n",
    "    status = [\"failed\" if x < hospital_bound \n",
    "              else \"met\" if x >= hospital_bound \n",
    "              else \"\" for x in row]\n",
    "    return pd.Series(status, index=row.index, dtype=\"category\")    \n",
    "\n",
    "\n",
    "def check_hospitalizations(row):\n",
    "    status = [\"met\" if x < ca_hospitalization_bound \n",
    "              else \"failed\" if x >= ca_hospitalization_bound \n",
    "              else \"\" for x in row]\n",
    "    return pd.Series(status, index=row.index, dtype=\"category\")    \n",
    "\n",
    "\n",
    "county_fnmap = {\n",
    "    \"Cases\": check_cases,\n",
    "    \"Deaths\": check_deaths,\n",
    "    \"Daily Testing\": lambda row: check_tests(county_test_lower_bound, county_test_upper_bound, row),\n",
    "    \"Positive Tests\": check_positives,\n",
    "    \"Positive Tests (WHO)\": check_positives_two_weeks,\n",
    "    \"Acute Beds\": check_hospitals,\n",
    "    \"ICU Beds\": check_hospitals,\n",
    "    \"Ventilators\": check_hospitals,\n",
    "    \"COVID Hospitalizations\": check_hospitalizations,\n",
    "    \"COVID ICU Hospitalizations\": check_hospitalizations,\n",
    "}\n",
    "\n",
    "city_fnmap = {\n",
    "    \"Cases\": check_cases,\n",
    "    \"Deaths\": check_deaths,\n",
    "    \"Daily Testing\": lambda row: check_tests(city_test_lower_bound, city_test_upper_bound, row),\n",
    "    \"Positive Tests\": check_positives,\n",
    "    \"Positive Tests (WHO)\": check_positives_two_weeks,    \n",
    "    \"Acute Beds\": check_hospitals,\n",
    "    \"ICU Beds\": check_hospitals,\n",
    "    \"Ventilators\": check_hospitals,\n",
    "    \"COVID Hospitalizations\": check_hospitalizations,\n",
    "    \"COVID ICU Hospitalizations\": check_hospitalizations,\n",
    "}\n",
    "\n",
    "red = make_charts.maroon\n",
    "green = make_charts.green\n",
    "blue = make_charts.blue\n",
    "\n",
    "stylemap = {\n",
    "    \"failed\": f\"background-color: {red}; color: white; font-weight: bold; opacity: 0.7\" ,\n",
    "    \"met\": f\"background-color: {green}; color: white; font-weight: bold; opacity: 0.7\",\n",
    "    \"exceeded\": f\"background-color: {blue}; color: white; font-weight: bold; opacity: 0.7\",\n",
    "    \"\": \"background-color: white; color: black; font-weight: bold; opacity: 0.7\",\n",
    "}"
   ]
  },
  {
   "cell_type": "code",
   "execution_count": null,
   "metadata": {},
   "outputs": [],
   "source": [
    "def summary_of_indicators():\n",
    "    # Grab indicators\n",
    "    county_case_indicator = meet_indicators.meet_case(\"county\", county_state_name, start_date)\n",
    "    county_death_indicator = meet_indicators.meet_death(\"county\", county_state_name, start_date)\n",
    "    county_test_indicator = meet_indicators.meet_daily_testing(yesterday_date, \"county\", \n",
    "                                                               county_test_lower_bound, county_test_upper_bound)\n",
    "    county_positive_indicator = meet_indicators.meet_positive_share(yesterday_date, \"county\", \n",
    "                                                                    positive_lower_bound, positive_upper_bound)\n",
    "    \n",
    "    county_positive_2wks_indicator = meet_indicators.meet_positive_share_for_two_weeks(yesterday_date, \"county\")\n",
    "    \n",
    "    acute_indicator = meet_indicators.meet_acute(yesterday_date)\n",
    "    icu_indicator = meet_indicators.meet_icu(yesterday_date)\n",
    "    ventilator_indicator = meet_indicators.meet_ventilator(yesterday_date)\n",
    "    \n",
    "    hospitalization_indicator = meet_indicators.meet_all_hospitalization(county_state_name, yesterday_date)\n",
    "    icu_hospitalization_indicator = meet_indicators.meet_icu_hospitalization(county_state_name, yesterday_date)\n",
    "    \n",
    "\n",
    "    city_case_indicator = meet_indicators.meet_lacity_case(start_date)\n",
    "    city_test_indicator = meet_indicators.meet_daily_testing(yesterday_date, \"city\", \n",
    "                                                                   city_test_lower_bound, city_test_upper_bound)\n",
    "    city_positive_indicator = meet_indicators.meet_positive_share(yesterday_date, \"city\", \n",
    "                                                                  positive_lower_bound, positive_upper_bound)\n",
    "    \n",
    "    city_positive_2wks_indicator = meet_indicators.meet_positive_share_for_two_weeks(yesterday_date, \"city\")\n",
    "\n",
    "    indicator_names = [\"Cases\", \"Deaths\", \n",
    "                       \"Daily Testing\", \"Positive Tests\", \"Positive Tests (WHO)\",\n",
    "                       \"Acute Beds\", \"ICU Beds\", \"Ventilators\", \n",
    "                       \"COVID Hospitalizations\", \"COVID ICU Hospitalizations\"]\n",
    "    \n",
    "    \n",
    "    # Create separate df for county and city\n",
    "    county = pd.DataFrame(\n",
    "        {\"LA County\": [county_case_indicator, county_death_indicator, \n",
    "                    county_test_indicator, county_positive_indicator, county_positive_2wks_indicator,\n",
    "                    acute_indicator, icu_indicator, ventilator_indicator, \n",
    "                    hospitalization_indicator, icu_hospitalization_indicator]},\n",
    "        index=indicator_names\n",
    "    )\n",
    "\n",
    "    city = pd.DataFrame(\n",
    "        {\"City of LA\": [city_case_indicator, np.nan, \n",
    "                    city_test_indicator, city_positive_indicator, city_positive_2wks_indicator,\n",
    "                    np.nan, np.nan, np.nan, \n",
    "                    np.nan, np.nan]},\n",
    "        index=indicator_names\n",
    "    )\n",
    "\n",
    "    # Style the table\n",
    "    def display_side_by_side(*args):\n",
    "        html_str=''\n",
    "        for df in args:\n",
    "            html_str+=df\n",
    "        display_html(html_str.replace('table','table style=\"display:inline\"'),raw=True)\n",
    "   \n",
    "        \n",
    "    county_html = (county.style\n",
    "                   .format(lambda s: f\"{s:,g}\", na_rep=\"-\")\n",
    "                   .apply(lambda row: county_fnmap[row.name](row).map(stylemap), axis=1)\n",
    "                   .render()\n",
    "                  )\n",
    "    city_html = (city.style\n",
    "                 .format(lambda s: f\"{s:,g}\", na_rep=\"-\")\n",
    "                 .apply(lambda row: city_fnmap[row.name](row).map(stylemap), axis=1)\n",
    "                 .hide_index()\n",
    "                 .render()\n",
    "                )       \n",
    "    \n",
    "    display_side_by_side(county_html, city_html)"
   ]
  },
  {
   "cell_type": "code",
   "execution_count": null,
   "metadata": {},
   "outputs": [],
   "source": [
    "display(Markdown(f\"### Summary of Indicators as of {yesterday_date.strftime(fulldate_format)}:\"))"
   ]
  },
  {
   "cell_type": "markdown",
   "metadata": {},
   "source": [
    "Indicators can <strong><span style='color:#F3324C'>fail to meet the lower benchmark; </span></strong>\n",
    "<strong><span style='color:#10DE7A'>meet the lower benchmark; </span></strong>\n",
    "<strong><span style = 'color:#1696D2'>or exceed the higher benchmark.</span></strong>\n",
    "\n",
    "**Cases and deaths**: the number of days with declining values from the prior day over the past 14 days. Guidelines state both should sustain a 14-day downward trajectory. <span style = 'color:red'>Any value less than 14 means we failed to meet this benchmark.</span>\n",
    "\n",
    "**Daily Testing**: number of daily tests conducted for the county and city yesterday. LA County's goal is to test 15,000 daily (45 tests per 1,000 residents) *(lower bound)*. Chicago's goal was 50 tests per 1,000 residents, translating to 16,667 tests daily *(upper bound)*. \n",
    "<span style = 'color:red'>Below 15,000 (county) or below 7,500 (city) means we failed this benchmark.</span>\n",
    "\n",
    "**Positive Tests**: proportion of positive tests last week, values fall between 0 and 1. CA's positivity requirement is 8% or below *(upper bound)*, but experts say that [less than 4%](https://www.nytimes.com/2020/05/25/health/coronavirus-testing-trump.html) is necessary to halt the spread of the virus *(lower bound)*. \n",
    "<span style = 'color:red'>More than 8% positive for the past week means we failed to meet this benchmark.</span> \n",
    "\n",
    "**Positive Tests (WHO)**: proportion of positive tests in the past 2 weeks, values fall between 0 and 1. The weeks are weighted by the number of tests conducted. The WHO recommends that tests return less than 5% positive for 14 days prior to reopening. JHU has a [state-by-state analysis](https://coronavirus.jhu.edu/testing/testing-positivity) of this. \n",
    "<span style = 'color:red'>More than 5% positive over two weeks means we failed to meet this benchmark.</span> \n",
    "\n",
    "**Hospital Equipment Availability**: proportion of acute care beds, ICU beds, and ventilators, values fall between 0 and 1. CA guidelines state that hospitals must be able to accommodate a minimum surge of 35% due to COVID-19 patients, in addition to providing usual care for non-COVID-19 patients. Our hospital equipment data comes from the daily HavBed survey, covering the 70 largest hospitals in the county. To adjust for that, the benchmark is 30%. \n",
    "<span style = 'color:red'>Below 30% means we failed to meet this benchmark.</span>\n",
    "\n",
    "**Hospitalizations**: the 7-day averaged daily percent change in all COVID hospitalizations and COVID ICU hospitalizations; values fall between 0 and 1. CA guidelines ask for stable or downward trends, not exceeding a 5% daily change.\n",
    "<span style = 'color:red'>Above 5% means we failed to meet this benchmark.</span>"
   ]
  },
  {
   "cell_type": "code",
   "execution_count": null,
   "metadata": {},
   "outputs": [],
   "source": [
    "summary_of_indicators()"
   ]
  },
  {
   "cell_type": "code",
   "execution_count": null,
   "metadata": {},
   "outputs": [],
   "source": [
    "display(Markdown(\"## Caseload Charts\"))\n",
    "display(Markdown(\n",
    "    f\"These are the trends in cases and deaths for the county and the city since {start_date.strftime(fulldate_format)}, using a 7-day rolling average. \"\n",
    "    )\n",
    ")"
   ]
  },
  {
   "cell_type": "markdown",
   "metadata": {},
   "source": [
    "The **cases and deaths requirement is that both have been decreasing for the past 14 days.** The past 14 days are shaded in gray."
   ]
  },
  {
   "cell_type": "code",
   "execution_count": 2,
   "metadata": {},
   "outputs": [
    {
     "data": {
      "image/svg+xml": [
       "<svg class=\"marks\" height=\"256\" version=\"1.1\" viewBox=\"0 0 617 256\" width=\"617\" xmlns=\"http://www.w3.org/2000/svg\" xmlns:xlink=\"http://www.w3.org/1999/xlink\"><rect fill=\"white\" height=\"256\" width=\"617\"/><g fill=\"none\" stroke-miterlimit=\"10\" transform=\"translate(54,19)\"><g aria-roledescription=\"group mark container\" class=\"mark-group role-frame root\" role=\"graphics-object\"><g transform=\"translate(0,0)\"><path aria-hidden=\"true\" class=\"background\" d=\"M0,0h0v200h0Z\"/><g><g aria-roledescription=\"group mark container\" class=\"mark-group role-scope concat_0_group\" role=\"graphics-object\"><g transform=\"translate(0,0)\"><path aria-hidden=\"true\" class=\"background\" d=\"M0.5,0.5h250v200h-250Z\" stroke=\"#ddd\" stroke-opacity=\"0\"/><g><g aria-hidden=\"true\" class=\"mark-group role-axis\"><g transform=\"translate(0.5,200.5)\"><path aria-hidden=\"true\" class=\"background\" d=\"M0,0h0v0h0Z\" pointer-events=\"none\"/><g><g class=\"mark-rule role-axis-grid\" pointer-events=\"none\"><line opacity=\"1\" stroke=\"#ddd\" stroke-opacity=\"0.4\" stroke-width=\"1\" transform=\"translate(0,-200)\" x2=\"0\" y2=\"200\"/><line opacity=\"1\" stroke=\"#ddd\" stroke-opacity=\"0.4\" stroke-width=\"1\" transform=\"translate(22,-200)\" x2=\"0\" y2=\"200\"/><line opacity=\"1\" stroke=\"#ddd\" stroke-opacity=\"0.4\" stroke-width=\"1\" transform=\"translate(43,-200)\" x2=\"0\" y2=\"200\"/><line opacity=\"1\" stroke=\"#ddd\" stroke-opacity=\"0.4\" stroke-width=\"1\" transform=\"translate(65,-200)\" x2=\"0\" y2=\"200\"/><line opacity=\"1\" stroke=\"#ddd\" stroke-opacity=\"0.4\" stroke-width=\"1\" transform=\"translate(86,-200)\" x2=\"0\" y2=\"200\"/><line opacity=\"1\" stroke=\"#ddd\" stroke-opacity=\"0.4\" stroke-width=\"1\" transform=\"translate(108,-200)\" x2=\"0\" y2=\"200\"/><line opacity=\"1\" stroke=\"#ddd\" stroke-opacity=\"0.4\" stroke-width=\"1\" transform=\"translate(130,-200)\" x2=\"0\" y2=\"200\"/><line opacity=\"1\" stroke=\"#ddd\" stroke-opacity=\"0.4\" stroke-width=\"1\" transform=\"translate(151,-200)\" x2=\"0\" y2=\"200\"/><line opacity=\"1\" stroke=\"#ddd\" stroke-opacity=\"0.4\" stroke-width=\"1\" transform=\"translate(173,-200)\" x2=\"0\" y2=\"200\"/><line opacity=\"1\" stroke=\"#ddd\" stroke-opacity=\"0.4\" stroke-width=\"1\" transform=\"translate(194,-200)\" x2=\"0\" y2=\"200\"/><line opacity=\"1\" stroke=\"#ddd\" stroke-opacity=\"0.4\" stroke-width=\"1\" transform=\"translate(216,-200)\" x2=\"0\" y2=\"200\"/><line opacity=\"1\" stroke=\"#ddd\" stroke-opacity=\"0.4\" stroke-width=\"1\" transform=\"translate(238,-200)\" x2=\"0\" y2=\"200\"/></g></g><path aria-hidden=\"true\" class=\"foreground\" d=\"\" display=\"none\" pointer-events=\"none\"/></g></g><g aria-hidden=\"true\" class=\"mark-group role-axis\"><g transform=\"translate(0.5,0.5)\"><path aria-hidden=\"true\" class=\"background\" d=\"M0,0h0v0h0Z\" pointer-events=\"none\"/><g><g class=\"mark-rule role-axis-grid\" pointer-events=\"none\"><line opacity=\"1\" stroke=\"#ddd\" stroke-opacity=\"0.4\" stroke-width=\"1\" transform=\"translate(0,200)\" x2=\"250\" y2=\"0\"/><line opacity=\"1\" stroke=\"#ddd\" stroke-opacity=\"0.4\" stroke-width=\"1\" transform=\"translate(0,162)\" x2=\"250\" y2=\"0\"/><line opacity=\"1\" stroke=\"#ddd\" stroke-opacity=\"0.4\" stroke-width=\"1\" transform=\"translate(0,123)\" x2=\"250\" y2=\"0\"/><line opacity=\"1\" stroke=\"#ddd\" stroke-opacity=\"0.4\" stroke-width=\"1\" transform=\"translate(0,85)\" x2=\"250\" y2=\"0\"/><line opacity=\"1\" stroke=\"#ddd\" stroke-opacity=\"0.4\" stroke-width=\"1\" transform=\"translate(0,46)\" x2=\"250\" y2=\"0\"/><line opacity=\"1\" stroke=\"#ddd\" stroke-opacity=\"0.4\" stroke-width=\"1\" transform=\"translate(0,8)\" x2=\"250\" y2=\"0\"/></g></g><path aria-hidden=\"true\" class=\"foreground\" d=\"\" display=\"none\" pointer-events=\"none\"/></g></g><g aria-label=\"X-axis titled 'date' for a time scale with values from 4/15 to 7/5\" aria-roledescription=\"axis\" class=\"mark-group role-axis\" role=\"graphics-symbol\"><g transform=\"translate(0.5,200.5)\"><path aria-hidden=\"true\" class=\"background\" d=\"M0,0h0v0h0Z\" pointer-events=\"none\"/><g><g class=\"mark-rule role-axis-tick\" pointer-events=\"none\"><line opacity=\"1\" stroke=\"#888\" stroke-width=\"1\" transform=\"translate(0,0)\" x2=\"0\" y2=\"5\"/><line opacity=\"1\" stroke=\"#888\" stroke-width=\"1\" transform=\"translate(22,0)\" x2=\"0\" y2=\"5\"/><line opacity=\"1\" stroke=\"#888\" stroke-width=\"1\" transform=\"translate(43,0)\" x2=\"0\" y2=\"5\"/><line opacity=\"1\" stroke=\"#888\" stroke-width=\"1\" transform=\"translate(65,0)\" x2=\"0\" y2=\"5\"/><line opacity=\"1\" stroke=\"#888\" stroke-width=\"1\" transform=\"translate(86,0)\" x2=\"0\" y2=\"5\"/><line opacity=\"1\" stroke=\"#888\" stroke-width=\"1\" transform=\"translate(108,0)\" x2=\"0\" y2=\"5\"/><line opacity=\"1\" stroke=\"#888\" stroke-width=\"1\" transform=\"translate(130,0)\" x2=\"0\" y2=\"5\"/><line opacity=\"1\" stroke=\"#888\" stroke-width=\"1\" transform=\"translate(151,0)\" x2=\"0\" y2=\"5\"/><line opacity=\"1\" stroke=\"#888\" stroke-width=\"1\" transform=\"translate(173,0)\" x2=\"0\" y2=\"5\"/><line opacity=\"1\" stroke=\"#888\" stroke-width=\"1\" transform=\"translate(194,0)\" x2=\"0\" y2=\"5\"/><line opacity=\"1\" stroke=\"#888\" stroke-width=\"1\" transform=\"translate(216,0)\" x2=\"0\" y2=\"5\"/><line opacity=\"1\" stroke=\"#888\" stroke-width=\"1\" transform=\"translate(238,0)\" x2=\"0\" y2=\"5\"/></g><g class=\"mark-text role-axis-label\" pointer-events=\"none\"><text fill=\"#000\" font-family=\"sans-serif\" font-size=\"10px\" opacity=\"1\" text-anchor=\"start\" transform=\"translate(0,15)\">4/15</text><text fill=\"#000\" font-family=\"sans-serif\" font-size=\"10px\" opacity=\"0\" text-anchor=\"middle\" transform=\"translate(21.604938271604937,15)\">4/22</text><text fill=\"#000\" font-family=\"sans-serif\" font-size=\"10px\" opacity=\"1\" text-anchor=\"middle\" transform=\"translate(43.20987654320987,15)\">4/29</text><text fill=\"#000\" font-family=\"sans-serif\" font-size=\"10px\" opacity=\"0\" text-anchor=\"middle\" transform=\"translate(64.81481481481481,15)\">5/6</text><text fill=\"#000\" font-family=\"sans-serif\" font-size=\"10px\" opacity=\"1\" text-anchor=\"middle\" transform=\"translate(86.41975308641975,15)\">5/13</text><text fill=\"#000\" font-family=\"sans-serif\" font-size=\"10px\" opacity=\"0\" text-anchor=\"middle\" transform=\"translate(108.02469135802468,15)\">5/20</text><text fill=\"#000\" font-family=\"sans-serif\" font-size=\"10px\" opacity=\"1\" text-anchor=\"middle\" transform=\"translate(129.62962962962962,15)\">5/27</text><text fill=\"#000\" font-family=\"sans-serif\" font-size=\"10px\" opacity=\"0\" text-anchor=\"middle\" transform=\"translate(151.23456790123458,15)\">6/3</text><text fill=\"#000\" font-family=\"sans-serif\" font-size=\"10px\" opacity=\"1\" text-anchor=\"middle\" transform=\"translate(172.8395061728395,15)\">6/10</text><text fill=\"#000\" font-family=\"sans-serif\" font-size=\"10px\" opacity=\"0\" text-anchor=\"middle\" transform=\"translate(194.44444444444446,15)\">6/17</text><text fill=\"#000\" font-family=\"sans-serif\" font-size=\"10px\" opacity=\"1\" text-anchor=\"middle\" transform=\"translate(216.04938271604937,15)\">6/24</text><text fill=\"#000\" font-family=\"sans-serif\" font-size=\"10px\" opacity=\"0\" text-anchor=\"middle\" transform=\"translate(237.65432098765433,15)\">7/1</text></g><g class=\"mark-rule role-axis-domain\" pointer-events=\"none\"><line opacity=\"1\" stroke=\"#888\" stroke-opacity=\"0.4\" stroke-width=\"1\" transform=\"translate(0,0)\" x2=\"250\" y2=\"0\"/></g><g class=\"mark-text role-axis-title\" pointer-events=\"none\"><text fill=\"#000\" font-family=\"sans-serif\" font-size=\"11px\" font-weight=\"bold\" opacity=\"1\" text-anchor=\"middle\" transform=\"translate(125,30)\">date</text></g></g><path aria-hidden=\"true\" class=\"foreground\" d=\"\" display=\"none\" pointer-events=\"none\"/></g></g><g aria-label=\"Y-axis titled '7-day avg' for a linear scale with values from 0 to 2,600\" aria-roledescription=\"axis\" class=\"mark-group role-axis\" role=\"graphics-symbol\"><g transform=\"translate(0.5,0.5)\"><path aria-hidden=\"true\" class=\"background\" d=\"M0,0h0v0h0Z\" pointer-events=\"none\"/><g><g class=\"mark-rule role-axis-tick\" pointer-events=\"none\"><line opacity=\"1\" stroke=\"#888\" stroke-width=\"1\" transform=\"translate(0,200)\" x2=\"-5\" y2=\"0\"/><line opacity=\"1\" stroke=\"#888\" stroke-width=\"1\" transform=\"translate(0,162)\" x2=\"-5\" y2=\"0\"/><line opacity=\"1\" stroke=\"#888\" stroke-width=\"1\" transform=\"translate(0,123)\" x2=\"-5\" y2=\"0\"/><line opacity=\"1\" stroke=\"#888\" stroke-width=\"1\" transform=\"translate(0,85)\" x2=\"-5\" y2=\"0\"/><line opacity=\"1\" stroke=\"#888\" stroke-width=\"1\" transform=\"translate(0,46)\" x2=\"-5\" y2=\"0\"/><line opacity=\"1\" stroke=\"#888\" stroke-width=\"1\" transform=\"translate(0,8)\" x2=\"-5\" y2=\"0\"/></g><g class=\"mark-text role-axis-label\" pointer-events=\"none\"><text fill=\"#000\" font-family=\"sans-serif\" font-size=\"10px\" opacity=\"1\" text-anchor=\"end\" transform=\"translate(-7,203)\">0</text><text fill=\"#000\" font-family=\"sans-serif\" font-size=\"10px\" opacity=\"1\" text-anchor=\"end\" transform=\"translate(-7,164.53846153846155)\">500</text><text fill=\"#000\" font-family=\"sans-serif\" font-size=\"10px\" opacity=\"1\" text-anchor=\"end\" transform=\"translate(-7,126.07692307692308)\">1,000</text><text fill=\"#000\" font-family=\"sans-serif\" font-size=\"10px\" opacity=\"1\" text-anchor=\"end\" transform=\"translate(-7,87.61538461538463)\">1,500</text><text fill=\"#000\" font-family=\"sans-serif\" font-size=\"10px\" opacity=\"1\" text-anchor=\"end\" transform=\"translate(-7,49.153846153846146)\">2,000</text><text fill=\"#000\" font-family=\"sans-serif\" font-size=\"10px\" opacity=\"1\" text-anchor=\"end\" transform=\"translate(-7,10.692307692307686)\">2,500</text></g><g class=\"mark-rule role-axis-domain\" pointer-events=\"none\"><line opacity=\"1\" stroke=\"#888\" stroke-opacity=\"0.4\" stroke-width=\"1\" transform=\"translate(0,200)\" x2=\"0\" y2=\"-200\"/></g><g class=\"mark-text role-axis-title\" pointer-events=\"none\"><text fill=\"#000\" font-family=\"sans-serif\" font-size=\"11px\" font-weight=\"bold\" opacity=\"1\" text-anchor=\"middle\" transform=\"translate(-38,100) rotate(-90) translate(0,-2)\">7-day avg</text></g></g><path aria-hidden=\"true\" class=\"foreground\" d=\"\" display=\"none\" pointer-events=\"none\"/></g></g><g aria-roledescription=\"line mark container\" class=\"mark-line role-mark concat_0_layer_0_marks\" role=\"graphics-object\"><path aria-label=\"date: 4/15; 7-day avg: 422.571428571\" aria-roledescription=\"line mark\" d=\"M0,167.4945054945055L3.0864197530864197,168.14285714285714L6.172839506172839,167.5054945054945L9.25925925925926,160.7912087912088L12.345679012345679,162.12087912087912L15.432098765432098,151.75824175824175L18.51851851851852,143.8901098901099L21.604938271604937,134.83516483516485L24.691358024691358,126.56043956043956L27.777777777777775,121.4835164835165L30.864197530864196,121.84615384615385L33.95061728395061,120.59340659340658L37.03703703703704,127.47252747252746L40.123456790123456,135.79120879120882L43.20987654320987,133.64835164835165L46.29629629629629,137.54945054945057L49.382716049382715,137.17582417582418L52.46913580246913,136.69230769230768L55.55555555555555,132.6153846153846L58.641975308641975,136.24175824175825L61.72839506172839,124.83516483516483L64.81481481481481,132.0879120879121L67.90123456790123,130.86813186813185L70.98765432098764,133.43956043956044L74.07407407407408,130.25274725274727L77.1604938271605,134.02197802197801L80.24691358024691,133.64835164835165L83.33333333333333,140.93406593406593L86.41975308641975,135.46153846153848L89.50617283950616,135.37362637362637L92.59259259259258,134.0989010989011L95.67901234567901,132.75824175824175L98.76543209876543,130.68131868131866L101.85185185185185,131.92307692307693L104.93827160493827,130.0879120879121L108.02469135802468,130.14285714285717L111.1111111111111,126.97802197802197L114.19753086419752,125.78021978021978L117.28395061728395,125.7032967032967L120.37037037037037,123.01098901098901L123.45679012345678,116.86813186813185L126.54320987654322,109.09890109890111L129.62962962962962,113.56043956043955L132.71604938271605,114.03296703296704L135.80246913580245,105.4065934065934L138.88888888888889,94.23076923076923L141.9753086419753,90.28571428571428L145.06172839506172,90.24175824175825L148.14814814814815,96.98901098901098L151.23456790123458,95.60439560439559L154.320987654321,91.95604395604396L157.40740740740742,96.81318681318683L160.49382716049382,105.0989010989011L163.58024691358025,102.82417582417582L166.66666666666666,104.62637362637363L169.7530864197531,104.10989010989012L172.8395061728395,102.74725274725273L175.92592592592592,98.16483516483517L179.01234567901233,96.03296703296702L182.09876543209876,93.68131868131869L185.18518518518516,99.18681318681317L188.27160493827162,99.53846153846153L191.35802469135803,98.71428571428571L194.44444444444446,88.47252747252747L197.53086419753086,96.82417582417584L200.6172839506173,99.71428571428571L203.7037037037037,93.93406593406593L206.79012345679013,85.75824175824177L209.87654320987653,66.09890109890108L212.96296296296296,53.296703296703306L216.04938271604937,64.03296703296704L219.1358024691358,54.62637362637361L222.2222222222222,49.05494505494505L225.30864197530863,49.71428571428571L228.39506172839504,40.615384615384606L231.4814814814815,35.81318681318679L234.5679012345679,31.45054945054944L237.65432098765433,23.824175824175818L240.74074074074073,21.813186813186803L243.82716049382717,41.5934065934066L246.91358024691357,63.2857142857143L250,12.021978021978018\" role=\"graphics-symbol\" stroke=\"#0A4C6A\" stroke-width=\"2\"/></g><g aria-roledescription=\"area mark container\" class=\"mark-area role-mark concat_0_layer_1_marks\" role=\"graphics-object\"><path aria-label=\"date: 6/21; 7-day avg: 1485.14285714\" aria-roledescription=\"area mark\" d=\"M206.79012345679013,85.75824175824177L209.87654320987653,66.09890109890108L212.96296296296296,53.296703296703306L216.04938271604937,64.03296703296704L219.1358024691358,54.62637362637361L222.2222222222222,49.05494505494505L225.30864197530863,49.71428571428571L228.39506172839504,40.615384615384606L231.4814814814815,35.81318681318679L234.5679012345679,31.45054945054944L237.65432098765433,23.824175824175818L240.74074074074073,21.813186813186803L243.82716049382717,41.5934065934066L246.91358024691357,63.2857142857143L250,12.021978021978018L250,200L246.91358024691357,200L243.82716049382717,200L240.74074074074073,200L237.65432098765433,200L234.5679012345679,200L231.4814814814815,200L228.39506172839504,200L225.30864197530863,200L222.2222222222222,200L219.1358024691358,200L216.04938271604937,200L212.96296296296296,200L209.87654320987653,200L206.79012345679013,200Z\" fill=\"#EAEBEB\" role=\"graphics-symbol\"/></g><g aria-roledescription=\"line mark container\" class=\"mark-line role-mark concat_0_layer_2_marks\" role=\"graphics-object\"><path aria-label=\"date: 6/21; 7-day avg: 1485.14285714\" aria-roledescription=\"line mark\" d=\"M206.79012345679013,85.75824175824177L209.87654320987653,66.09890109890108L212.96296296296296,53.296703296703306L216.04938271604937,64.03296703296704L219.1358024691358,54.62637362637361L222.2222222222222,49.05494505494505L225.30864197530863,49.71428571428571L228.39506172839504,40.615384615384606L231.4814814814815,35.81318681318679L234.5679012345679,31.45054945054944L237.65432098765433,23.824175824175818L240.74074074074073,21.813186813186803L243.82716049382717,41.5934065934066L246.91358024691357,63.2857142857143L250,12.021978021978018\" role=\"graphics-symbol\" stroke=\"#052838\" stroke-width=\"2\"/></g><g class=\"mark-group role-title\"><g transform=\"translate(125,-14)\"><path aria-hidden=\"true\" class=\"background\" d=\"M0,0h0v0h0Z\" pointer-events=\"none\"/><g><g aria-label=\"Title text 'Los Angeles County: New Cases'\" aria-roledescription=\"title\" class=\"mark-text role-title-text\" pointer-events=\"none\" role=\"graphics-symbol\"><text fill=\"black\" font-family=\"Arial\" font-size=\"10px\" font-weight=\"bold\" opacity=\"1\" text-anchor=\"middle\" transform=\"translate(0,8)\">Los Angeles County: New Cases</text></g></g><path aria-hidden=\"true\" class=\"foreground\" d=\"\" display=\"none\" pointer-events=\"none\"/></g></g></g><path aria-hidden=\"true\" class=\"foreground\" d=\"\" display=\"none\"/></g></g><g aria-roledescription=\"group mark container\" class=\"mark-group role-scope concat_1_group\" role=\"graphics-object\"><g transform=\"translate(306,0)\"><path aria-hidden=\"true\" class=\"background\" d=\"M0.5,0.5h250v200h-250Z\" stroke=\"#ddd\" stroke-opacity=\"0\"/><g><g aria-hidden=\"true\" class=\"mark-group role-axis\"><g transform=\"translate(0.5,200.5)\"><path aria-hidden=\"true\" class=\"background\" d=\"M0,0h0v0h0Z\" pointer-events=\"none\"/><g><g class=\"mark-rule role-axis-grid\" pointer-events=\"none\"><line opacity=\"1\" stroke=\"#ddd\" stroke-opacity=\"0.4\" stroke-width=\"1\" transform=\"translate(0,-200)\" x2=\"0\" y2=\"200\"/><line opacity=\"1\" stroke=\"#ddd\" stroke-opacity=\"0.4\" stroke-width=\"1\" transform=\"translate(22,-200)\" x2=\"0\" y2=\"200\"/><line opacity=\"1\" stroke=\"#ddd\" stroke-opacity=\"0.4\" stroke-width=\"1\" transform=\"translate(43,-200)\" x2=\"0\" y2=\"200\"/><line opacity=\"1\" stroke=\"#ddd\" stroke-opacity=\"0.4\" stroke-width=\"1\" transform=\"translate(65,-200)\" x2=\"0\" y2=\"200\"/><line opacity=\"1\" stroke=\"#ddd\" stroke-opacity=\"0.4\" stroke-width=\"1\" transform=\"translate(86,-200)\" x2=\"0\" y2=\"200\"/><line opacity=\"1\" stroke=\"#ddd\" stroke-opacity=\"0.4\" stroke-width=\"1\" transform=\"translate(108,-200)\" x2=\"0\" y2=\"200\"/><line opacity=\"1\" stroke=\"#ddd\" stroke-opacity=\"0.4\" stroke-width=\"1\" transform=\"translate(130,-200)\" x2=\"0\" y2=\"200\"/><line opacity=\"1\" stroke=\"#ddd\" stroke-opacity=\"0.4\" stroke-width=\"1\" transform=\"translate(151,-200)\" x2=\"0\" y2=\"200\"/><line opacity=\"1\" stroke=\"#ddd\" stroke-opacity=\"0.4\" stroke-width=\"1\" transform=\"translate(173,-200)\" x2=\"0\" y2=\"200\"/><line opacity=\"1\" stroke=\"#ddd\" stroke-opacity=\"0.4\" stroke-width=\"1\" transform=\"translate(194,-200)\" x2=\"0\" y2=\"200\"/><line opacity=\"1\" stroke=\"#ddd\" stroke-opacity=\"0.4\" stroke-width=\"1\" transform=\"translate(216,-200)\" x2=\"0\" y2=\"200\"/><line opacity=\"1\" stroke=\"#ddd\" stroke-opacity=\"0.4\" stroke-width=\"1\" transform=\"translate(238,-200)\" x2=\"0\" y2=\"200\"/></g></g><path aria-hidden=\"true\" class=\"foreground\" d=\"\" display=\"none\" pointer-events=\"none\"/></g></g><g aria-hidden=\"true\" class=\"mark-group role-axis\"><g transform=\"translate(0.5,0.5)\"><path aria-hidden=\"true\" class=\"background\" d=\"M0,0h0v0h0Z\" pointer-events=\"none\"/><g><g class=\"mark-rule role-axis-grid\" pointer-events=\"none\"><line opacity=\"1\" stroke=\"#ddd\" stroke-opacity=\"0.4\" stroke-width=\"1\" transform=\"translate(0,200)\" x2=\"250\" y2=\"0\"/><line opacity=\"1\" stroke=\"#ddd\" stroke-opacity=\"0.4\" stroke-width=\"1\" transform=\"translate(0,164)\" x2=\"250\" y2=\"0\"/><line opacity=\"1\" stroke=\"#ddd\" stroke-opacity=\"0.4\" stroke-width=\"1\" transform=\"translate(0,127)\" x2=\"250\" y2=\"0\"/><line opacity=\"1\" stroke=\"#ddd\" stroke-opacity=\"0.4\" stroke-width=\"1\" transform=\"translate(0,91)\" x2=\"250\" y2=\"0\"/><line opacity=\"1\" stroke=\"#ddd\" stroke-opacity=\"0.4\" stroke-width=\"1\" transform=\"translate(0,55)\" x2=\"250\" y2=\"0\"/><line opacity=\"1\" stroke=\"#ddd\" stroke-opacity=\"0.4\" stroke-width=\"1\" transform=\"translate(0,18)\" x2=\"250\" y2=\"0\"/></g></g><path aria-hidden=\"true\" class=\"foreground\" d=\"\" display=\"none\" pointer-events=\"none\"/></g></g><g aria-label=\"X-axis titled 'date' for a time scale with values from 4/15 to 7/5\" aria-roledescription=\"axis\" class=\"mark-group role-axis\" role=\"graphics-symbol\"><g transform=\"translate(0.5,200.5)\"><path aria-hidden=\"true\" class=\"background\" d=\"M0,0h0v0h0Z\" pointer-events=\"none\"/><g><g class=\"mark-rule role-axis-tick\" pointer-events=\"none\"><line opacity=\"1\" stroke=\"#888\" stroke-width=\"1\" transform=\"translate(0,0)\" x2=\"0\" y2=\"5\"/><line opacity=\"1\" stroke=\"#888\" stroke-width=\"1\" transform=\"translate(22,0)\" x2=\"0\" y2=\"5\"/><line opacity=\"1\" stroke=\"#888\" stroke-width=\"1\" transform=\"translate(43,0)\" x2=\"0\" y2=\"5\"/><line opacity=\"1\" stroke=\"#888\" stroke-width=\"1\" transform=\"translate(65,0)\" x2=\"0\" y2=\"5\"/><line opacity=\"1\" stroke=\"#888\" stroke-width=\"1\" transform=\"translate(86,0)\" x2=\"0\" y2=\"5\"/><line opacity=\"1\" stroke=\"#888\" stroke-width=\"1\" transform=\"translate(108,0)\" x2=\"0\" y2=\"5\"/><line opacity=\"1\" stroke=\"#888\" stroke-width=\"1\" transform=\"translate(130,0)\" x2=\"0\" y2=\"5\"/><line opacity=\"1\" stroke=\"#888\" stroke-width=\"1\" transform=\"translate(151,0)\" x2=\"0\" y2=\"5\"/><line opacity=\"1\" stroke=\"#888\" stroke-width=\"1\" transform=\"translate(173,0)\" x2=\"0\" y2=\"5\"/><line opacity=\"1\" stroke=\"#888\" stroke-width=\"1\" transform=\"translate(194,0)\" x2=\"0\" y2=\"5\"/><line opacity=\"1\" stroke=\"#888\" stroke-width=\"1\" transform=\"translate(216,0)\" x2=\"0\" y2=\"5\"/><line opacity=\"1\" stroke=\"#888\" stroke-width=\"1\" transform=\"translate(238,0)\" x2=\"0\" y2=\"5\"/></g><g class=\"mark-text role-axis-label\" pointer-events=\"none\"><text fill=\"#000\" font-family=\"sans-serif\" font-size=\"10px\" opacity=\"1\" text-anchor=\"start\" transform=\"translate(0,15)\">4/15</text><text fill=\"#000\" font-family=\"sans-serif\" font-size=\"10px\" opacity=\"0\" text-anchor=\"middle\" transform=\"translate(21.604938271604937,15)\">4/22</text><text fill=\"#000\" font-family=\"sans-serif\" font-size=\"10px\" opacity=\"1\" text-anchor=\"middle\" transform=\"translate(43.20987654320987,15)\">4/29</text><text fill=\"#000\" font-family=\"sans-serif\" font-size=\"10px\" opacity=\"0\" text-anchor=\"middle\" transform=\"translate(64.81481481481481,15)\">5/6</text><text fill=\"#000\" font-family=\"sans-serif\" font-size=\"10px\" opacity=\"1\" text-anchor=\"middle\" transform=\"translate(86.41975308641975,15)\">5/13</text><text fill=\"#000\" font-family=\"sans-serif\" font-size=\"10px\" opacity=\"0\" text-anchor=\"middle\" transform=\"translate(108.02469135802468,15)\">5/20</text><text fill=\"#000\" font-family=\"sans-serif\" font-size=\"10px\" opacity=\"1\" text-anchor=\"middle\" transform=\"translate(129.62962962962962,15)\">5/27</text><text fill=\"#000\" font-family=\"sans-serif\" font-size=\"10px\" opacity=\"0\" text-anchor=\"middle\" transform=\"translate(151.23456790123458,15)\">6/3</text><text fill=\"#000\" font-family=\"sans-serif\" font-size=\"10px\" opacity=\"1\" text-anchor=\"middle\" transform=\"translate(172.8395061728395,15)\">6/10</text><text fill=\"#000\" font-family=\"sans-serif\" font-size=\"10px\" opacity=\"0\" text-anchor=\"middle\" transform=\"translate(194.44444444444446,15)\">6/17</text><text fill=\"#000\" font-family=\"sans-serif\" font-size=\"10px\" opacity=\"1\" text-anchor=\"middle\" transform=\"translate(216.04938271604937,15)\">6/24</text><text fill=\"#000\" font-family=\"sans-serif\" font-size=\"10px\" opacity=\"0\" text-anchor=\"middle\" transform=\"translate(237.65432098765433,15)\">7/1</text></g><g class=\"mark-rule role-axis-domain\" pointer-events=\"none\"><line opacity=\"1\" stroke=\"#888\" stroke-opacity=\"0.4\" stroke-width=\"1\" transform=\"translate(0,0)\" x2=\"250\" y2=\"0\"/></g><g class=\"mark-text role-axis-title\" pointer-events=\"none\"><text fill=\"#000\" font-family=\"sans-serif\" font-size=\"11px\" font-weight=\"bold\" opacity=\"1\" text-anchor=\"middle\" transform=\"translate(125,30)\">date</text></g></g><path aria-hidden=\"true\" class=\"foreground\" d=\"\" display=\"none\" pointer-events=\"none\"/></g></g><g aria-label=\"Y-axis titled '7-day avg' for a linear scale with values from 0 to 55\" aria-roledescription=\"axis\" class=\"mark-group role-axis\" role=\"graphics-symbol\"><g transform=\"translate(0.5,0.5)\"><path aria-hidden=\"true\" class=\"background\" d=\"M0,0h0v0h0Z\" pointer-events=\"none\"/><g><g class=\"mark-rule role-axis-tick\" pointer-events=\"none\"><line opacity=\"1\" stroke=\"#888\" stroke-width=\"1\" transform=\"translate(0,200)\" x2=\"-5\" y2=\"0\"/><line opacity=\"1\" stroke=\"#888\" stroke-width=\"1\" transform=\"translate(0,164)\" x2=\"-5\" y2=\"0\"/><line opacity=\"1\" stroke=\"#888\" stroke-width=\"1\" transform=\"translate(0,127)\" x2=\"-5\" y2=\"0\"/><line opacity=\"1\" stroke=\"#888\" stroke-width=\"1\" transform=\"translate(0,91)\" x2=\"-5\" y2=\"0\"/><line opacity=\"1\" stroke=\"#888\" stroke-width=\"1\" transform=\"translate(0,55)\" x2=\"-5\" y2=\"0\"/><line opacity=\"1\" stroke=\"#888\" stroke-width=\"1\" transform=\"translate(0,18)\" x2=\"-5\" y2=\"0\"/></g><g class=\"mark-text role-axis-label\" pointer-events=\"none\"><text fill=\"#000\" font-family=\"sans-serif\" font-size=\"10px\" opacity=\"1\" text-anchor=\"end\" transform=\"translate(-7,203)\">0</text><text fill=\"#000\" font-family=\"sans-serif\" font-size=\"10px\" opacity=\"1\" text-anchor=\"end\" transform=\"translate(-7,166.63636363636363)\">10</text><text fill=\"#000\" font-family=\"sans-serif\" font-size=\"10px\" opacity=\"1\" text-anchor=\"end\" transform=\"translate(-7,130.27272727272725)\">20</text><text fill=\"#000\" font-family=\"sans-serif\" font-size=\"10px\" opacity=\"1\" text-anchor=\"end\" transform=\"translate(-7,93.90909090909092)\">30</text><text fill=\"#000\" font-family=\"sans-serif\" font-size=\"10px\" opacity=\"1\" text-anchor=\"end\" transform=\"translate(-7,57.54545454545454)\">40</text><text fill=\"#000\" font-family=\"sans-serif\" font-size=\"10px\" opacity=\"1\" text-anchor=\"end\" transform=\"translate(-7,21.181818181818187)\">50</text></g><g class=\"mark-rule role-axis-domain\" pointer-events=\"none\"><line opacity=\"1\" stroke=\"#888\" stroke-opacity=\"0.4\" stroke-width=\"1\" transform=\"translate(0,200)\" x2=\"0\" y2=\"-200\"/></g><g class=\"mark-text role-axis-title\" pointer-events=\"none\"><text fill=\"#000\" font-family=\"sans-serif\" font-size=\"11px\" font-weight=\"bold\" opacity=\"1\" text-anchor=\"middle\" transform=\"translate(-23,100) rotate(-90) translate(0,-2)\">7-day avg</text></g></g><path aria-hidden=\"true\" class=\"foreground\" d=\"\" display=\"none\" pointer-events=\"none\"/></g></g><g aria-roledescription=\"line mark container\" class=\"mark-line role-mark concat_1_layer_0_marks\" role=\"graphics-object\"><path aria-label=\"date: 4/15; 7-day avg: 29.5714285714\" aria-roledescription=\"line mark\" d=\"M0,92.46753246753245L3.0864197530864197,78.44155844155843L6.172839506172839,67.53246753246754L9.25925925925926,27.53246753246752L12.345679012345679,28.05194805194806L15.432098765432098,45.71428571428571L18.51851851851852,42.59740259740261L21.604938271604937,30.129870129870117L24.691358024691358,23.376623376623385L27.777777777777775,16.623376623376608L30.864197530864196,34.2857142857143L33.95061728395061,35.844155844155836L37.03703703703704,31.168831168831158L40.123456790123456,23.89610389610388L43.20987654320987,31.6883116883117L46.29629629629629,36.8831168831169L49.382716049382715,31.6883116883117L52.46913580246913,36.8831168831169L55.55555555555555,36.36363636363635L58.641975308641975,37.402597402597394L61.72839506172839,37.402597402597394L64.81481481481481,37.402597402597394L67.90123456790123,40.51948051948053L70.98765432098764,46.233766233766225L74.07407407407408,41.038961038961034L77.1604938271605,44.15584415584417L80.24691358024691,37.402597402597394L83.33333333333333,43.636363636363626L86.41975308641975,48.831168831168846L89.50617283950616,47.792207792207805L92.59259259259258,52.98701298701298L95.67901234567901,55.58441558441558L98.76543209876543,49.35064935064935L101.85185185185185,59.74025974025974L104.93827160493827,45.71428571428571L108.02469135802468,37.402597402597394L111.1111111111111,41.55844155844157L114.19753086419752,44.15584415584417L117.28395061728395,44.67532467532467L120.37037037037037,51.94805194805194L123.45679012345678,56.62337662337662L126.54320987654322,79.48051948051946L129.62962962962962,81.55844155844156L132.71604938271605,83.1168831168831L135.80246913580245,74.8051948051948L138.88888888888889,71.68831168831169L141.9753086419753,67.01298701298701L145.06172839506172,59.74025974025974L148.14814814814815,42.59740259740261L151.23456790123458,50.38961038961038L154.320987654321,48.831168831168846L157.40740740740742,57.14285714285714L160.49382716049382,51.94805194805194L163.58024691358025,52.98701298701298L166.66666666666666,59.74025974025974L169.7530864197531,63.896103896103895L172.8395061728395,55.064935064935085L175.92592592592592,51.428571428571445L179.01234567901233,62.33766233766236L182.09876543209876,59.74025974025974L185.18518518518516,63.896103896103895L188.27160493827162,59.74025974025974L191.35802469135803,70.12987012987013L194.44444444444446,83.63636363636364L197.53086419753086,91.42857142857143L200.6172839506173,80L203.7037037037037,86.75324675324676L206.79012345679013,88.83116883116881L209.87654320987653,90.3896103896104L212.96296296296296,90.3896103896104L216.04938271604937,88.31168831168831L219.1358024691358,85.71428571428572L222.2222222222222,94.02597402597404L225.30864197530863,110.12987012987013L228.39506172839504,104.41558441558443L231.4814814814815,99.2207792207792L234.5679012345679,96.10389610389609L237.65432098765433,97.14285714285715L240.74074074074073,90.90909090909092L243.82716049382717,102.33766233766235L246.91358024691357,110.64935064935064L250,105.45454545454547\" role=\"graphics-symbol\" stroke=\"#1696D2\" stroke-width=\"2\"/></g><g aria-roledescription=\"area mark container\" class=\"mark-area role-mark concat_1_layer_1_marks\" role=\"graphics-object\"><path aria-label=\"date: 6/21; 7-day avg: 30.5714285714\" aria-roledescription=\"area mark\" d=\"M206.79012345679013,88.83116883116881L209.87654320987653,90.3896103896104L212.96296296296296,90.3896103896104L216.04938271604937,88.31168831168831L219.1358024691358,85.71428571428572L222.2222222222222,94.02597402597404L225.30864197530863,110.12987012987013L228.39506172839504,104.41558441558443L231.4814814814815,99.2207792207792L234.5679012345679,96.10389610389609L237.65432098765433,97.14285714285715L240.74074074074073,90.90909090909092L243.82716049382717,102.33766233766235L246.91358024691357,110.64935064935064L250,105.45454545454547L250,200L246.91358024691357,200L243.82716049382717,200L240.74074074074073,200L237.65432098765433,200L234.5679012345679,200L231.4814814814815,200L228.39506172839504,200L225.30864197530863,200L222.2222222222222,200L219.1358024691358,200L216.04938271604937,200L212.96296296296296,200L209.87654320987653,200L206.79012345679013,200Z\" fill=\"#EAEBEB\" role=\"graphics-symbol\"/></g><g aria-roledescription=\"line mark container\" class=\"mark-line role-mark concat_1_layer_2_marks\" role=\"graphics-object\"><path aria-label=\"date: 6/21; 7-day avg: 30.5714285714\" aria-roledescription=\"line mark\" d=\"M206.79012345679013,88.83116883116881L209.87654320987653,90.3896103896104L212.96296296296296,90.3896103896104L216.04938271604937,88.31168831168831L219.1358024691358,85.71428571428572L222.2222222222222,94.02597402597404L225.30864197530863,110.12987012987013L228.39506172839504,104.41558441558443L231.4814814814815,99.2207792207792L234.5679012345679,96.10389610389609L237.65432098765433,97.14285714285715L240.74074074074073,90.90909090909092L243.82716049382717,102.33766233766235L246.91358024691357,110.64935064935064L250,105.45454545454547\" role=\"graphics-symbol\" stroke=\"#1277A5\" stroke-width=\"2\"/></g><g class=\"mark-group role-title\"><g transform=\"translate(125,-14)\"><path aria-hidden=\"true\" class=\"background\" d=\"M0,0h0v0h0Z\" pointer-events=\"none\"/><g><g aria-label=\"Title text 'Los Angeles County: New Deaths'\" aria-roledescription=\"title\" class=\"mark-text role-title-text\" pointer-events=\"none\" role=\"graphics-symbol\"><text fill=\"black\" font-family=\"Arial\" font-size=\"10px\" font-weight=\"bold\" opacity=\"1\" text-anchor=\"middle\" transform=\"translate(0,8)\">Los Angeles County: New Deaths</text></g></g><path aria-hidden=\"true\" class=\"foreground\" d=\"\" display=\"none\" pointer-events=\"none\"/></g></g></g><path aria-hidden=\"true\" class=\"foreground\" d=\"\" display=\"none\"/></g></g></g><path aria-hidden=\"true\" class=\"foreground\" d=\"\" display=\"none\"/></g></g></g></svg>"
      ],
      "text/plain": [
       "<IPython.core.display.SVG object>"
      ]
     },
     "metadata": {},
     "output_type": "display_data"
    },
    {
     "ename": "ValueError",
     "evalue": "cannot convert to 'float64'-dtype NumPy array with missing values. Specify an appropriate 'na_value' for this dtype.",
     "output_type": "error",
     "traceback": [
      "\u001b[0;31m---------------------------------------------------------------------------\u001b[0m",
      "\u001b[0;31mValueError\u001b[0m                                Traceback (most recent call last)",
      "\u001b[0;32m<ipython-input-2-fb4e4f5ac52a>\u001b[0m in \u001b[0;36m<module>\u001b[0;34m()\u001b[0m\n\u001b[1;32m      1\u001b[0m \u001b[0mla_county\u001b[0m \u001b[0;34m=\u001b[0m \u001b[0mutils\u001b[0m\u001b[0;34m.\u001b[0m\u001b[0mcounty_case_charts\u001b[0m\u001b[0;34m(\u001b[0m\u001b[0mcounty_state_name\u001b[0m\u001b[0;34m,\u001b[0m \u001b[0mstart_date\u001b[0m\u001b[0;34m)\u001b[0m\u001b[0;34m\u001b[0m\u001b[0;34m\u001b[0m\u001b[0m\n\u001b[0;32m----> 2\u001b[0;31m \u001b[0mla_city\u001b[0m \u001b[0;34m=\u001b[0m \u001b[0mutils\u001b[0m\u001b[0;34m.\u001b[0m\u001b[0mlacity_case_charts\u001b[0m\u001b[0;34m(\u001b[0m\u001b[0mstart_date\u001b[0m\u001b[0;34m)\u001b[0m\u001b[0;34m\u001b[0m\u001b[0;34m\u001b[0m\u001b[0m\n\u001b[0m",
      "\u001b[0;32m/app/notebooks/utils.py\u001b[0m in \u001b[0;36mlacity_case_charts\u001b[0;34m(start_date)\u001b[0m\n\u001b[1;32m    238\u001b[0m \u001b[0;31m#---------------------------------------------------------------#\u001b[0m\u001b[0;34m\u001b[0m\u001b[0;34m\u001b[0m\u001b[0;34m\u001b[0m\u001b[0m\n\u001b[1;32m    239\u001b[0m \u001b[0;32mdef\u001b[0m \u001b[0mlacity_case_charts\u001b[0m\u001b[0;34m(\u001b[0m\u001b[0mstart_date\u001b[0m\u001b[0;34m)\u001b[0m\u001b[0;34m:\u001b[0m\u001b[0;34m\u001b[0m\u001b[0;34m\u001b[0m\u001b[0m\n\u001b[0;32m--> 240\u001b[0;31m     \u001b[0mdf\u001b[0m \u001b[0;34m=\u001b[0m \u001b[0mprep_lacity_cases\u001b[0m\u001b[0;34m(\u001b[0m\u001b[0mstart_date\u001b[0m\u001b[0;34m)\u001b[0m\u001b[0;34m\u001b[0m\u001b[0;34m\u001b[0m\u001b[0m\n\u001b[0m\u001b[1;32m    241\u001b[0m     \u001b[0mname\u001b[0m \u001b[0;34m=\u001b[0m \u001b[0;34m\"City of LA\"\u001b[0m\u001b[0;34m\u001b[0m\u001b[0;34m\u001b[0m\u001b[0m\n\u001b[1;32m    242\u001b[0m     \u001b[0mmake_charts\u001b[0m\u001b[0;34m.\u001b[0m\u001b[0mmake_cases_deaths_chart\u001b[0m\u001b[0;34m(\u001b[0m\u001b[0mdf\u001b[0m\u001b[0;34m.\u001b[0m\u001b[0mdrop\u001b[0m\u001b[0;34m(\u001b[0m\u001b[0mcolumns\u001b[0m \u001b[0;34m=\u001b[0m \u001b[0;34m\"date\"\u001b[0m\u001b[0;34m)\u001b[0m\u001b[0;34m,\u001b[0m \u001b[0;34m\"lacity\"\u001b[0m\u001b[0;34m,\u001b[0m \u001b[0mname\u001b[0m\u001b[0;34m)\u001b[0m\u001b[0;34m\u001b[0m\u001b[0;34m\u001b[0m\u001b[0m\n",
      "\u001b[0;32m/app/notebooks/utils.py\u001b[0m in \u001b[0;36mprep_lacity_cases\u001b[0;34m(start_date)\u001b[0m\n\u001b[1;32m    268\u001b[0m         \u001b[0;31m# 7-day rolling average for new cases\u001b[0m\u001b[0;34m\u001b[0m\u001b[0;34m\u001b[0m\u001b[0;34m\u001b[0m\u001b[0m\n\u001b[1;32m    269\u001b[0m         \u001b[0mcases_avg7\u001b[0m\u001b[0;34m=\u001b[0m\u001b[0mdf\u001b[0m\u001b[0;34m.\u001b[0m\u001b[0mnew_cases\u001b[0m\u001b[0;34m.\u001b[0m\u001b[0mrolling\u001b[0m\u001b[0;34m(\u001b[0m\u001b[0mwindow\u001b[0m\u001b[0;34m=\u001b[0m\u001b[0;36m7\u001b[0m\u001b[0;34m)\u001b[0m\u001b[0;34m.\u001b[0m\u001b[0mmean\u001b[0m\u001b[0;34m(\u001b[0m\u001b[0;34m)\u001b[0m\u001b[0;34m,\u001b[0m\u001b[0;34m\u001b[0m\u001b[0;34m\u001b[0m\u001b[0m\n\u001b[0;32m--> 270\u001b[0;31m         \u001b[0mdeaths_avg7\u001b[0m\u001b[0;34m=\u001b[0m\u001b[0mdf\u001b[0m\u001b[0;34m.\u001b[0m\u001b[0mnew_deaths\u001b[0m\u001b[0;34m.\u001b[0m\u001b[0mrolling\u001b[0m\u001b[0;34m(\u001b[0m\u001b[0mwindow\u001b[0m\u001b[0;34m=\u001b[0m\u001b[0;36m7\u001b[0m\u001b[0;34m)\u001b[0m\u001b[0;34m.\u001b[0m\u001b[0mmean\u001b[0m\u001b[0;34m(\u001b[0m\u001b[0;34m)\u001b[0m\u001b[0;34m,\u001b[0m\u001b[0;34m\u001b[0m\u001b[0;34m\u001b[0m\u001b[0m\n\u001b[0m\u001b[1;32m    271\u001b[0m         \u001b[0mdate2\u001b[0m \u001b[0;34m=\u001b[0m \u001b[0mpd\u001b[0m\u001b[0;34m.\u001b[0m\u001b[0mto_datetime\u001b[0m\u001b[0;34m(\u001b[0m\u001b[0mdf\u001b[0m\u001b[0;34m.\u001b[0m\u001b[0mdate\u001b[0m\u001b[0;34m)\u001b[0m\u001b[0;34m,\u001b[0m\u001b[0;34m\u001b[0m\u001b[0;34m\u001b[0m\u001b[0m\n\u001b[1;32m    272\u001b[0m     )\n",
      "\u001b[0;32m/opt/conda/lib/python3.7/site-packages/pandas/core/window/rolling.py\u001b[0m in \u001b[0;36mmean\u001b[0;34m(self, *args, **kwargs)\u001b[0m\n\u001b[1;32m   2017\u001b[0m     \u001b[0;32mdef\u001b[0m \u001b[0mmean\u001b[0m\u001b[0;34m(\u001b[0m\u001b[0mself\u001b[0m\u001b[0;34m,\u001b[0m \u001b[0;34m*\u001b[0m\u001b[0margs\u001b[0m\u001b[0;34m,\u001b[0m \u001b[0;34m**\u001b[0m\u001b[0mkwargs\u001b[0m\u001b[0;34m)\u001b[0m\u001b[0;34m:\u001b[0m\u001b[0;34m\u001b[0m\u001b[0;34m\u001b[0m\u001b[0m\n\u001b[1;32m   2018\u001b[0m         \u001b[0mnv\u001b[0m\u001b[0;34m.\u001b[0m\u001b[0mvalidate_rolling_func\u001b[0m\u001b[0;34m(\u001b[0m\u001b[0;34m\"mean\"\u001b[0m\u001b[0;34m,\u001b[0m \u001b[0margs\u001b[0m\u001b[0;34m,\u001b[0m \u001b[0mkwargs\u001b[0m\u001b[0;34m)\u001b[0m\u001b[0;34m\u001b[0m\u001b[0;34m\u001b[0m\u001b[0m\n\u001b[0;32m-> 2019\u001b[0;31m         \u001b[0;32mreturn\u001b[0m \u001b[0msuper\u001b[0m\u001b[0;34m(\u001b[0m\u001b[0;34m)\u001b[0m\u001b[0;34m.\u001b[0m\u001b[0mmean\u001b[0m\u001b[0;34m(\u001b[0m\u001b[0;34m*\u001b[0m\u001b[0margs\u001b[0m\u001b[0;34m,\u001b[0m \u001b[0;34m**\u001b[0m\u001b[0mkwargs\u001b[0m\u001b[0;34m)\u001b[0m\u001b[0;34m\u001b[0m\u001b[0;34m\u001b[0m\u001b[0m\n\u001b[0m\u001b[1;32m   2020\u001b[0m \u001b[0;34m\u001b[0m\u001b[0m\n\u001b[1;32m   2021\u001b[0m     \u001b[0;34m@\u001b[0m\u001b[0mSubstitution\u001b[0m\u001b[0;34m(\u001b[0m\u001b[0mname\u001b[0m\u001b[0;34m=\u001b[0m\u001b[0;34m\"rolling\"\u001b[0m\u001b[0;34m)\u001b[0m\u001b[0;34m\u001b[0m\u001b[0;34m\u001b[0m\u001b[0m\n",
      "\u001b[0;32m/opt/conda/lib/python3.7/site-packages/pandas/core/window/rolling.py\u001b[0m in \u001b[0;36mmean\u001b[0;34m(self, *args, **kwargs)\u001b[0m\n\u001b[1;32m   1397\u001b[0m         \u001b[0mnv\u001b[0m\u001b[0;34m.\u001b[0m\u001b[0mvalidate_window_func\u001b[0m\u001b[0;34m(\u001b[0m\u001b[0;34m\"mean\"\u001b[0m\u001b[0;34m,\u001b[0m \u001b[0margs\u001b[0m\u001b[0;34m,\u001b[0m \u001b[0mkwargs\u001b[0m\u001b[0;34m)\u001b[0m\u001b[0;34m\u001b[0m\u001b[0;34m\u001b[0m\u001b[0m\n\u001b[1;32m   1398\u001b[0m         \u001b[0mwindow_func\u001b[0m \u001b[0;34m=\u001b[0m \u001b[0mself\u001b[0m\u001b[0;34m.\u001b[0m\u001b[0m_get_cython_func_type\u001b[0m\u001b[0;34m(\u001b[0m\u001b[0;34m\"roll_mean\"\u001b[0m\u001b[0;34m)\u001b[0m\u001b[0;34m\u001b[0m\u001b[0;34m\u001b[0m\u001b[0m\n\u001b[0;32m-> 1399\u001b[0;31m         \u001b[0;32mreturn\u001b[0m \u001b[0mself\u001b[0m\u001b[0;34m.\u001b[0m\u001b[0m_apply\u001b[0m\u001b[0;34m(\u001b[0m\u001b[0mwindow_func\u001b[0m\u001b[0;34m,\u001b[0m \u001b[0mcenter\u001b[0m\u001b[0;34m=\u001b[0m\u001b[0mself\u001b[0m\u001b[0;34m.\u001b[0m\u001b[0mcenter\u001b[0m\u001b[0;34m,\u001b[0m \u001b[0mname\u001b[0m\u001b[0;34m=\u001b[0m\u001b[0;34m\"mean\"\u001b[0m\u001b[0;34m,\u001b[0m \u001b[0;34m**\u001b[0m\u001b[0mkwargs\u001b[0m\u001b[0;34m)\u001b[0m\u001b[0;34m\u001b[0m\u001b[0;34m\u001b[0m\u001b[0m\n\u001b[0m\u001b[1;32m   1400\u001b[0m \u001b[0;34m\u001b[0m\u001b[0m\n\u001b[1;32m   1401\u001b[0m     _shared_docs[\"median\"] = dedent(\n",
      "\u001b[0;32m/opt/conda/lib/python3.7/site-packages/pandas/core/window/rolling.py\u001b[0m in \u001b[0;36m_apply\u001b[0;34m(self, func, center, require_min_periods, floor, is_weighted, name, use_numba_cache, **kwargs)\u001b[0m\n\u001b[1;32m    453\u001b[0m         \u001b[0;32mfor\u001b[0m \u001b[0mi\u001b[0m\u001b[0;34m,\u001b[0m \u001b[0mb\u001b[0m \u001b[0;32min\u001b[0m \u001b[0menumerate\u001b[0m\u001b[0;34m(\u001b[0m\u001b[0mblocks\u001b[0m\u001b[0;34m)\u001b[0m\u001b[0;34m:\u001b[0m\u001b[0;34m\u001b[0m\u001b[0;34m\u001b[0m\u001b[0m\n\u001b[1;32m    454\u001b[0m             \u001b[0;32mtry\u001b[0m\u001b[0;34m:\u001b[0m\u001b[0;34m\u001b[0m\u001b[0;34m\u001b[0m\u001b[0m\n\u001b[0;32m--> 455\u001b[0;31m                 \u001b[0mvalues\u001b[0m \u001b[0;34m=\u001b[0m \u001b[0mself\u001b[0m\u001b[0;34m.\u001b[0m\u001b[0m_prep_values\u001b[0m\u001b[0;34m(\u001b[0m\u001b[0mb\u001b[0m\u001b[0;34m.\u001b[0m\u001b[0mvalues\u001b[0m\u001b[0;34m)\u001b[0m\u001b[0;34m\u001b[0m\u001b[0;34m\u001b[0m\u001b[0m\n\u001b[0m\u001b[1;32m    456\u001b[0m \u001b[0;34m\u001b[0m\u001b[0m\n\u001b[1;32m    457\u001b[0m             \u001b[0;32mexcept\u001b[0m \u001b[0;34m(\u001b[0m\u001b[0mTypeError\u001b[0m\u001b[0;34m,\u001b[0m \u001b[0mNotImplementedError\u001b[0m\u001b[0;34m)\u001b[0m\u001b[0;34m:\u001b[0m\u001b[0;34m\u001b[0m\u001b[0;34m\u001b[0m\u001b[0m\n",
      "\u001b[0;32m/opt/conda/lib/python3.7/site-packages/pandas/core/window/rolling.py\u001b[0m in \u001b[0;36m_prep_values\u001b[0;34m(self, values)\u001b[0m\n\u001b[1;32m    262\u001b[0m             \u001b[0mvalues\u001b[0m \u001b[0;34m=\u001b[0m \u001b[0mensure_float64\u001b[0m\u001b[0;34m(\u001b[0m\u001b[0mvalues\u001b[0m\u001b[0;34m)\u001b[0m\u001b[0;34m\u001b[0m\u001b[0;34m\u001b[0m\u001b[0m\n\u001b[1;32m    263\u001b[0m         \u001b[0;32melif\u001b[0m \u001b[0mis_integer_dtype\u001b[0m\u001b[0;34m(\u001b[0m\u001b[0mvalues\u001b[0m\u001b[0;34m.\u001b[0m\u001b[0mdtype\u001b[0m\u001b[0;34m)\u001b[0m\u001b[0;34m:\u001b[0m\u001b[0;34m\u001b[0m\u001b[0;34m\u001b[0m\u001b[0m\n\u001b[0;32m--> 264\u001b[0;31m             \u001b[0mvalues\u001b[0m \u001b[0;34m=\u001b[0m \u001b[0mensure_float64\u001b[0m\u001b[0;34m(\u001b[0m\u001b[0mvalues\u001b[0m\u001b[0;34m)\u001b[0m\u001b[0;34m\u001b[0m\u001b[0;34m\u001b[0m\u001b[0m\n\u001b[0m\u001b[1;32m    265\u001b[0m         \u001b[0;32melif\u001b[0m \u001b[0mneeds_i8_conversion\u001b[0m\u001b[0;34m(\u001b[0m\u001b[0mvalues\u001b[0m\u001b[0;34m.\u001b[0m\u001b[0mdtype\u001b[0m\u001b[0;34m)\u001b[0m\u001b[0;34m:\u001b[0m\u001b[0;34m\u001b[0m\u001b[0;34m\u001b[0m\u001b[0m\n\u001b[1;32m    266\u001b[0m             raise NotImplementedError(\n",
      "\u001b[0;32mpandas/_libs/algos_common_helper.pxi\u001b[0m in \u001b[0;36mpandas._libs.algos.ensure_float64\u001b[0;34m()\u001b[0m\n",
      "\u001b[0;32m/opt/conda/lib/python3.7/site-packages/pandas/core/arrays/masked.py\u001b[0m in \u001b[0;36m__array__\u001b[0;34m(self, dtype)\u001b[0m\n\u001b[1;32m    143\u001b[0m         \u001b[0mWe\u001b[0m \u001b[0;32mreturn\u001b[0m \u001b[0man\u001b[0m \u001b[0mobject\u001b[0m \u001b[0marray\u001b[0m \u001b[0mhere\u001b[0m \u001b[0mto\u001b[0m \u001b[0mpreserve\u001b[0m \u001b[0mour\u001b[0m \u001b[0mscalar\u001b[0m \u001b[0mvalues\u001b[0m\u001b[0;34m\u001b[0m\u001b[0;34m\u001b[0m\u001b[0m\n\u001b[1;32m    144\u001b[0m         \"\"\"\n\u001b[0;32m--> 145\u001b[0;31m         \u001b[0;32mreturn\u001b[0m \u001b[0mself\u001b[0m\u001b[0;34m.\u001b[0m\u001b[0mto_numpy\u001b[0m\u001b[0;34m(\u001b[0m\u001b[0mdtype\u001b[0m\u001b[0;34m=\u001b[0m\u001b[0mdtype\u001b[0m\u001b[0;34m)\u001b[0m\u001b[0;34m\u001b[0m\u001b[0;34m\u001b[0m\u001b[0m\n\u001b[0m\u001b[1;32m    146\u001b[0m \u001b[0;34m\u001b[0m\u001b[0m\n\u001b[1;32m    147\u001b[0m     \u001b[0;32mdef\u001b[0m \u001b[0m__arrow_array__\u001b[0m\u001b[0;34m(\u001b[0m\u001b[0mself\u001b[0m\u001b[0;34m,\u001b[0m \u001b[0mtype\u001b[0m\u001b[0;34m=\u001b[0m\u001b[0;32mNone\u001b[0m\u001b[0;34m)\u001b[0m\u001b[0;34m:\u001b[0m\u001b[0;34m\u001b[0m\u001b[0;34m\u001b[0m\u001b[0m\n",
      "\u001b[0;32m/opt/conda/lib/python3.7/site-packages/pandas/core/arrays/masked.py\u001b[0m in \u001b[0;36mto_numpy\u001b[0;34m(self, dtype, copy, na_value)\u001b[0m\n\u001b[1;32m    125\u001b[0m             ):\n\u001b[1;32m    126\u001b[0m                 raise ValueError(\n\u001b[0;32m--> 127\u001b[0;31m                     \u001b[0;34mf\"cannot convert to '{dtype}'-dtype NumPy array \"\u001b[0m\u001b[0;34m\u001b[0m\u001b[0;34m\u001b[0m\u001b[0m\n\u001b[0m\u001b[1;32m    128\u001b[0m                     \u001b[0;34m\"with missing values. Specify an appropriate 'na_value' \"\u001b[0m\u001b[0;34m\u001b[0m\u001b[0;34m\u001b[0m\u001b[0m\n\u001b[1;32m    129\u001b[0m                     \u001b[0;34m\"for this dtype.\"\u001b[0m\u001b[0;34m\u001b[0m\u001b[0;34m\u001b[0m\u001b[0m\n",
      "\u001b[0;31mValueError\u001b[0m: cannot convert to 'float64'-dtype NumPy array with missing values. Specify an appropriate 'na_value' for this dtype."
     ]
    }
   ],
   "source": [
    "la_county = utils.county_case_charts(county_state_name, start_date)\n",
    "la_city = utils.lacity_case_charts(start_date) "
   ]
  },
  {
   "cell_type": "code",
   "execution_count": null,
   "metadata": {},
   "outputs": [],
   "source": [
    "display(Markdown(\"## Testing Charts\"))\n",
    "display(Markdown(\n",
    "    f\"These charts show the amount of daily testing conducted and the percent of tests that came back positive for COVID-19 by week since {start_date.strftime(fulldate_format)}. \"\n",
    "    )\n",
    ")"
   ]
  },
  {
   "cell_type": "markdown",
   "metadata": {},
   "source": [
    "#### Daily Testing\n",
    "LA County's goal is to conduct an average of 15,000 tests a day, a rate of 45 tests per 1,000 residents *(lower\n",
    "bound)*. Chicago, another region faced with a severe outbreak, set the precedent for regional benchmarks being more stringent than statewide requirements if a particular region underwent a more severe outbreak. Chicago's goal is 50 tests per 1,000 residents, or 16,667 tests per day *(upper bound)*. \n",
    "\n",
    "**The daily testing requirement is that we are conducting at least 15,000 tests daily until a vaccine is ready.** The City of LA's goal is simply half of LA County's goal; 7,500 tests and 8,339 tests as the lower and upper bounds, respectively. We need to **consistently record testing levels at or above** the lower dashed line. "
   ]
  },
  {
   "cell_type": "code",
   "execution_count": null,
   "metadata": {},
   "outputs": [],
   "source": [
    "county_tests = utils.lacounty_testing_charts(start_date, county_test_lower_bound, county_test_upper_bound)\n",
    "city_tests = utils.lacity_testing_charts(start_date, city_test_lower_bound, city_test_upper_bound)"
   ]
  },
  {
   "cell_type": "markdown",
   "metadata": {},
   "source": [
    "#### Share of Positive COVID-19 Test Results by Week\n",
    "Ideally, the positive/negative results per batch are calculated. Without this granular data, testing and case data are combined by week to account for any time lags. \n",
    "\n",
    "The chart compares the percent of positive test results, the number of positive cases, and the number of tests conducted. The percent of positive test results is the indicator of interest, but it is extremely dependent on the number of tests conducted. A higher percentage of positive tests can be due to more confirmed cases or fewer tests conducted. Therefore, the next chart shows the number of tests conducted each week (blue) and the number of positive tests (gray). It also shows the testing upper and lower bounds, which is simply the daily testing upper and lower bounds multiplied by 7.\n",
    "\n",
    "**How to Interpret Results**\n",
    "1. If the number of positive tests and the percent of positive tests increase while daily testing is conducted at a similar level, there is increased transmission of the virus.\n",
    "1. If we keep up our daily testing levels yet see a corresponding drop in the share of positive tests and the number of positive cases, we are curbing the asymptomatic transmission of the virus. \n",
    "1. If daily testing drops and we see a corresponding drop in positive test results, the decrease in positive results is due to a lack of testing, not because there is less hidden, community transmission of the virus.\n",
    "1. If daily testing is stable or increasing, the share of positive tests is stable or decreasing, yet the number of positive cases is growing, then our tests are finding the new cases.\n",
    "\n",
    "\n",
    "**CA's weekly COVID-19 positive share requirement is that tests coming back positive is 8% or below** *(upper bound)*, but experts say that [less than 4% positive](https://www.nytimes.com/2020/05/25/health/coronavirus-testing-trump.html) is necessary to halt the spread of the virus *(lower bound)*. \n",
    "\n",
    "*Caveat:* Testing data is only available for tests conducted at county and city sites.  Oral swabs are used by county/city sites, which have an approximate 10% false negative rate. On average, 10% of negative tests are falsely identified to be negative when they are actually positive. We do not have information on the number of tests conducted by healthcare providers, such as Kaiser Permanente. However, we do have the number of confirmed cases. Hence, our numerator is complete, but our denominator is likely too small, leading to overestimating the share of positive results. However, LA County's own official reports of the share of positive results likely underestimate, because of the high false negative rate from the oral swabs used at all the county/city sites."
   ]
  },
  {
   "cell_type": "code",
   "execution_count": null,
   "metadata": {},
   "outputs": [],
   "source": [
    "county_positive_tests = utils.lacounty_positive_test_charts(start_date, positive_lower_bound, positive_upper_bound, \n",
    "                                                     county_test_lower_bound, county_test_upper_bound)\n",
    "city_positive_tests = utils.lacity_positive_test_charts(start_date, positive_lower_bound, positive_upper_bound,\n",
    "                                                  city_test_lower_bound, city_test_upper_bound)"
   ]
  },
  {
   "cell_type": "code",
   "execution_count": null,
   "metadata": {},
   "outputs": [],
   "source": [
    "display(Markdown(\"## Hospital Capacity Charts\"))\n",
    "display(Markdown(\n",
    "    f\"These charts show the percent and number of available Acute Care Beds, ICU Beds, and Ventilators since {start_date.strftime(fulldate_format)}, using a 3-day rolling average. \" \n",
    "    )\n",
    ")"
   ]
  },
  {
   "cell_type": "markdown",
   "metadata": {},
   "source": [
    "The hospital equipment data comes from a daily HavBed survey of the 70 largest hospitals in the county. While it is a subset of all hospitals, it represents the majority of our countywide hospital capacity. \n",
    "\n",
    "#### Hospital Equipment Availability\n",
    "LA County's goal is have 20% of available ventilators and 10% ICU beds available in case of any potential surge in hospitalizations. New York City, the region faced with the most severe outbreak, set a benchmark of having at least 30% of hospital equipment available. LA County's own goal of 10% ICU beds available is far too low; we've hovered around 10% of ICU beds available since 4/15/20. Arguably, proof that the virus is indeed decreasing should mean more ICU beds freed up as we move toward reopening and preparing for any potential surge.\n",
    "\n",
    "The percentage of available equipment must be shown alongside the number of available equipment. An increase in the percent of available equipment must be matched with an increase in the number of available equipment for adequate preparation against a future surge. An increase in the percent of available equipment accompanied by a decrease in the number of available equipment simply means we have *more* of our *smaller* pool of resources. Constant denominators are used: 17,000 Acute Care Beds, 2,500 ICU Beds, and 3,200 Ventilators.\n",
    "\n",
    "CA guidelines state that hospitals must be able to accommodate a minimum surge of 35% due to COVID-19 patients, in addition to providing usual care for non-COVID-19 patients. To adjust for our HavBed data only covering the 70 largest hospitals in the county, the **hospital equipment requirement is set at 30%.** "
   ]
  },
  {
   "cell_type": "code",
   "execution_count": null,
   "metadata": {},
   "outputs": [],
   "source": [
    "hospital = utils.lacounty_hospital_charts(start_date)"
   ]
  },
  {
   "cell_type": "markdown",
   "metadata": {},
   "source": [
    "#### COVID Hospitalizations\n",
    "Data on all COVID-related hospitalizations and ICU hospitalizations comes from the CA open data portal made available 6/25/20; this data should cover the entire county.\n",
    "\n",
    "CA guidelines state that hospitalizations should be stable or downtrending on 7-day average of daily percent change of less than 5%. LA County's all COVID-related hospitalizations and COVID-related ICU hospitalizations (subset of all hospitalizations) are shown. "
   ]
  },
  {
   "cell_type": "code",
   "execution_count": null,
   "metadata": {},
   "outputs": [],
   "source": [
    "hospitalizations = utils.county_covid_hospital_charts(county_state_name, start_date)"
   ]
  },
  {
   "cell_type": "markdown",
   "metadata": {},
   "source": [
    "If you have any questions, please email ITAData@lacity.org."
   ]
  },
  {
   "cell_type": "code",
   "execution_count": null,
   "metadata": {},
   "outputs": [],
   "source": []
  }
 ],
 "metadata": {
  "kernelspec": {
   "display_name": "Python 3",
   "language": "python",
   "name": "python3"
  },
  "language_info": {
   "codemirror_mode": {
    "name": "ipython",
    "version": 3
   },
   "file_extension": ".py",
   "mimetype": "text/x-python",
   "name": "python",
   "nbconvert_exporter": "python",
   "pygments_lexer": "ipython3",
   "version": "3.7.6"
  }
 },
 "nbformat": 4,
 "nbformat_minor": 4
}
