{
 "cells": [
  {
   "cell_type": "code",
   "execution_count": null,
   "metadata": {},
   "outputs": [],
   "source": [
    "import json\n",
    "import os\n",
    "import pandas as pd\n",
    "import requests\n",
    "import time\n",
    "\n",
    "from lxml import etree, html\n",
    "from bs4 import BeautifulSoup\n",
    "\n",
    "#headers for GET requests\n",
    "headers = {'accept': \"application/json\", 'accept': \"text/csv\"}\n",
    "\n",
    "#global variables for storing day and the data_array\n",
    "data_array={} #this dictionary will store all the data\n",
    "\n",
    "\n",
    "#the following function retrieves the data from bulleted list\n",
    "#list_object - Body of the list item (text content)\n",
    "def parse_list(list_object):\n",
    "    if (\"Hospitalized (Ever)\" not in list_object and\n",
    "        \"Death\" not in list_object and\n",
    "        \"Investigated Cases\" not in list_object and\n",
    "        \"0 to 17\" not in list_object and\n",
    "        \"18 to 40\" not in list_object and\n",
    "        \"41 to 65\" not in list_object and\n",
    "        \"over 65\" not in list_object and\n",
    "        \"City of Los Angeles\" not in list_object and\n",
    "        \"http\" not in list_object and\n",
    "        \"Long Beach\" not in list_object and\n",
    "        \"Hispanic\" not in list_object and\n",
    "        \"White\" not in list_object and\n",
    "        \"Black\" not in list_object and\n",
    "        \"Other\" not in list_object and \n",
    "        \"Asian\" not in list_object and \n",
    "        \"Male\" not in list_object and\n",
    "        \"Female\" not in list_object and\n",
    "        \"Under Investigation\" not in list_object\n",
    "       ):\n",
    "        if \"\\t\" in list_object or \"--\" in list_object:\n",
    "            if \"\\t\" in list_object:\n",
    "                out=list_object.split(\"\\t\")\n",
    "            else:\n",
    "                out=list_object.split(\"--\")    \n",
    "                out[0]=str(out[0]).replace(\"*\",\"\")\n",
    "                out[0]=str(out[0]).replace(\"--\",\"\")\n",
    "                out[1]=str(out[1]).replace(\"--\",\"0\")\n",
    "                out[1]=str(out[1].replace(\"<\",\"\"))\n",
    "                out[1]=str(out[1]).lstrip(\"0\")\n",
    "                out[1]=str(out[1]).replace(\"*\",\"\")\n",
    "                if not out[1]:\n",
    "                    out[1]=\"0\"\n",
    "        \n",
    "            return out\n",
    "    "
   ]
  },
  {
   "cell_type": "code",
   "execution_count": 9,
   "metadata": {},
   "outputs": [],
   "source": [
    "def get_data(urlcomp, press_release_id):\n",
    "    rcomp = requests.get(urlcomp, headers=headers)\n",
    "    if \"Please see the locations were cases have occurred:\" in rcomp.text:\n",
    "        print(\"Case numbers found\")\n",
    "        #print(rcomp.text)\n",
    "        data_array[press_release_id]=[]\n",
    "        soup = BeautifulSoup(rcomp.text,\"lxml\")\n",
    "        html_content = soup.prettify()\n",
    "        #print(html_content)\n",
    "        for ultag in soup.find_all('strong'):\n",
    "            #print(ultag.text)\n",
    "            date_to_parse = ultag.text        \n",
    "        \n",
    "        for ultag in soup.find_all('ul'):\n",
    "            #print(ultag.text)\n",
    "            for litag in ultag.find_all('li'):\n",
    "                returned_output=parse_list(litag.text)\n",
    "                print(returned_output)\n",
    "                if returned_output is not None:\n",
    "                    #print(returned_output)\n",
    "                    data_array[press_release_id]=returned_output  \n",
    "                    remove_level = data_array[press_release_id]\n",
    "                    print(remove_level)\n",
    "                    df = pd.DataFrame.from_dict(remove_level)\n",
    "                    df = df.assign(date = date_to_parse)\n",
    "                    #df.to_parquet(f'../notebooks/p{press_release_id}.parquet')\n",
    "        #loads = json.loads(json.dumps(data_array))\n",
    "        #print(pd.DataFrame(loads[press_release_id]))\n",
    "        return df"
   ]
  },
  {
   "cell_type": "code",
   "execution_count": 10,
   "metadata": {},
   "outputs": [
    {
     "name": "stdout",
     "output_type": "stream",
     "text": [
      "None\n",
      "None\n"
     ]
    }
   ],
   "source": [
    "test_me = [2476, 2489]\n",
    "for press_release_id in test_me:\n",
    "    urlcomp=\"http://publichealth.lacounty.gov/phcommon/public/media/mediapubhpdetail.cfm?prid=\"+str(press_release_id)\n",
    "\n",
    "    # Ignoring a duplicate spanish release\n",
    "    df = get_data(urlcomp, press_release_id)\n",
    "    print(df)\n",
    "    if df is not None:\n",
    "        df = (df.loc[: , [0,1, 'date']]\n",
    "              .rename(columns = {0: 'region', \n",
    "                                1: 'cases'})\n",
    "             )\n",
    "        display(press_release_id)\n",
    "        display(df.head(1))\n"
   ]
  },
  {
   "cell_type": "code",
   "execution_count": null,
   "metadata": {},
   "outputs": [],
   "source": []
  }
 ],
 "metadata": {
  "kernelspec": {
   "display_name": "Python 3",
   "language": "python",
   "name": "python3"
  },
  "language_info": {
   "codemirror_mode": {
    "name": "ipython",
    "version": 3
   },
   "file_extension": ".py",
   "mimetype": "text/x-python",
   "name": "python",
   "nbconvert_exporter": "python",
   "pygments_lexer": "ipython3",
   "version": "3.7.6"
  }
 },
 "nbformat": 4,
 "nbformat_minor": 4
}
