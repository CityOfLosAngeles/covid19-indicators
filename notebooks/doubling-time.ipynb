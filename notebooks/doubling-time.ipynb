{
 "cells": [
  {
   "cell_type": "markdown",
   "metadata": {},
   "source": [
    "# Caption to compare across counties\n",
    "\n",
    "* [Datawrapper: how to calculate doubling time](https://blog.datawrapper.de/weekly-chart-coronavirus-doublingtimes/)\n",
    "* [doubling time](https://www.danreichart.com/covid19)\n",
    "* [why important](https://jglobalbiosecurity.com/articles/10.31646/gbio.61/)\n",
    "* [github ex](https://rikunert.com/corona_doubling_time)"
   ]
  },
  {
   "cell_type": "code",
   "execution_count": 1,
   "metadata": {},
   "outputs": [],
   "source": [
    "import altair as alt\n",
    "import altair_saver\n",
    "import os\n",
    "import pandas as pd\n",
    "\n",
    "from processing_utils import default_parameters\n",
    "from processing_utils import make_charts\n",
    "from processing_utils import us_county_utils\n",
    "\n",
    "from IPython.display import display_html, Markdown, HTML, Image\n",
    "\n",
    "# Default parameters\n",
    "time_zone = default_parameters.time_zone\n",
    "start_date = default_parameters.start_date\n",
    "today_date = default_parameters.today_date\n",
    "\n",
    "fulldate_format = default_parameters.fulldate_format"
   ]
  },
  {
   "cell_type": "markdown",
   "metadata": {},
   "source": [
    "## Calculate doubling time\n",
    "\n",
    "* (x*ln(2))/(ln(y/z))\n",
    "* x is the time that has passed since you started measuring. For example, if the number of cases went from 500 on day 0 to 1000 on day 2, x is 2.\n",
    "* y is the number of cases on day x, e.g 1000 on day 2.\n",
    "* z is the number of cases on day 0, e.g. 500."
   ]
  },
  {
   "cell_type": "code",
   "execution_count": null,
   "metadata": {},
   "outputs": [],
   "source": [
    "\"\"\"\n",
    "https://codereview.stackexchange.com/questions/92052/calculating-doubling-times-from-data-points\n",
    "def doubling_time(m, x_pts, y_pts):\n",
    "    window = 10\n",
    "\n",
    "    x1 = x_pts[m]\n",
    "    y1 = y_pts[m]\n",
    "    x2 = x_pts[m+window]\n",
    "    y2 = y_pts[m+window]\n",
    "\n",
    "    return (x2 - x1) * log(2) / log(y2 / y1)\n",
    "    \n",
    "t2 = [doubling_time(i, x_pts, y_pts) for i in x_t2]\n",
    "\"\"\""
   ]
  }
 ],
 "metadata": {
  "kernelspec": {
   "display_name": "Python 3",
   "language": "python",
   "name": "python3"
  },
  "language_info": {
   "codemirror_mode": {
    "name": "ipython",
    "version": 3
   },
   "file_extension": ".py",
   "mimetype": "text/x-python",
   "name": "python",
   "nbconvert_exporter": "python",
   "pygments_lexer": "ipython3",
   "version": "3.7.8"
  }
 },
 "nbformat": 4,
 "nbformat_minor": 4
}
