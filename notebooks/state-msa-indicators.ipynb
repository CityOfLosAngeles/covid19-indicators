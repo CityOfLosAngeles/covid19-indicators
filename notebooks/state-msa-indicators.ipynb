{
 "cells": [
  {
   "cell_type": "markdown",
   "metadata": {},
   "source": [
    "## State / MSA COVID-19 Reopening Indicators "
   ]
  },
  {
   "cell_type": "code",
   "execution_count": 1,
   "metadata": {},
   "outputs": [],
   "source": [
    "import pandas as pd\n",
    "import pytz\n",
    "\n",
    "import utils\n",
    "import meet_indicators\n",
    "import default_parameters\n",
    "\n",
    "from datetime import date, datetime, timedelta\n",
    "from IPython.display import Markdown\n",
    "\n",
    "\n",
    "# Default parameters\n",
    "county_state_name = default_parameters.county_state_name\n",
    "state_name = default_parameters.state_name\n",
    "msa_name = default_parameters.msa_name\n",
    "time_zone = default_parameters.time_zone\n",
    "\n",
    "fulldate_format = default_parameters.fulldate_format\n",
    "monthdate_format = default_parameters.monthdate_format\n",
    "start_date = default_parameters.start_date\n",
    "yesterday_date = default_parameters.yesterday_date\n",
    "today_date = default_parameters.today_date\n",
    "two_weeks_ago = default_parameters.two_weeks_ago\n",
    "two_days_ago = default_parameters.two_days_ago"
   ]
  },
  {
   "cell_type": "code",
   "execution_count": 2,
   "metadata": {},
   "outputs": [],
   "source": [
    "def summary_of_indicators_statewide():\n",
    "\n",
    "    state_case_indicator = meet_indicators.meet_case(\"state\", state_name, start_date)\n",
    "    state_death_indicator = meet_indicators.meet_death(\"state\", state_name, start_date)\n",
    "    msa_case_indicator = meet_indicators.meet_case(\"msa\", msa_name, start_date)\n",
    "    msa_death_indicator = meet_indicators.meet_death(\"msa\", msa_name, start_date)\n",
    "    \n",
    "    # Markdown output\n",
    "    display(Markdown(f\"### Summary of Indicators as of {yesterday_date}:\"))\n",
    "    display(Markdown(\"#### Cases\")) \n",
    "    \n",
    "    # State\n",
    "    display(Markdown(f\"{state_name}: declining cases: **{state_case_indicator}** out of 14 days\"))\n",
    "    display(Markdown(f\"{state_name}: declining deaths: **{state_death_indicator}** out of 14 days\"))\n",
    "    \n",
    "    # MSA\n",
    "    display(Markdown(f\"{msa_name}: declining cases: **{msa_case_indicator}** out of 14 days\"))\n",
    "    display(Markdown(f\"{msa_name}: declining deaths: **{msa_death_indicator}** out of 14 days\"))"
   ]
  },
  {
   "cell_type": "code",
   "execution_count": 3,
   "metadata": {},
   "outputs": [
    {
     "data": {
      "text/markdown": [
       "### Summary of Indicators as of 5/25/20:"
      ],
      "text/plain": [
       "<IPython.core.display.Markdown object>"
      ]
     },
     "metadata": {},
     "output_type": "display_data"
    },
    {
     "data": {
      "text/markdown": [
       "#### Cases"
      ],
      "text/plain": [
       "<IPython.core.display.Markdown object>"
      ]
     },
     "metadata": {},
     "output_type": "display_data"
    },
    {
     "data": {
      "text/markdown": [
       "California: declining cases: **5** out of 14 days"
      ],
      "text/plain": [
       "<IPython.core.display.Markdown object>"
      ]
     },
     "metadata": {},
     "output_type": "display_data"
    },
    {
     "data": {
      "text/markdown": [
       "California: declining deaths: **8** out of 14 days"
      ],
      "text/plain": [
       "<IPython.core.display.Markdown object>"
      ]
     },
     "metadata": {},
     "output_type": "display_data"
    },
    {
     "data": {
      "text/markdown": [
       "Los Angeles-Long Beach-Anaheim, CA: declining cases: **2** out of 14 days"
      ],
      "text/plain": [
       "<IPython.core.display.Markdown object>"
      ]
     },
     "metadata": {},
     "output_type": "display_data"
    },
    {
     "data": {
      "text/markdown": [
       "Los Angeles-Long Beach-Anaheim, CA: declining deaths: **8** out of 14 days"
      ],
      "text/plain": [
       "<IPython.core.display.Markdown object>"
      ]
     },
     "metadata": {},
     "output_type": "display_data"
    }
   ],
   "source": [
    "summary_of_indicators_statewide()"
   ]
  },
  {
   "cell_type": "code",
   "execution_count": 4,
   "metadata": {},
   "outputs": [
    {
     "data": {
      "text/html": [
       "\n",
       "<div id=\"altair-viz-a39eef53c5d145f699b5d7c7115ddc44\"></div>\n",
       "<script type=\"text/javascript\">\n",
       "  (function(spec, embedOpt){\n",
       "    const outputDiv = document.getElementById(\"altair-viz-a39eef53c5d145f699b5d7c7115ddc44\");\n",
       "    const paths = {\n",
       "      \"vega\": \"https://cdn.jsdelivr.net/npm//vega@5?noext\",\n",
       "      \"vega-lib\": \"https://cdn.jsdelivr.net/npm//vega-lib?noext\",\n",
       "      \"vega-lite\": \"https://cdn.jsdelivr.net/npm//vega-lite@4.0.2?noext\",\n",
       "      \"vega-embed\": \"https://cdn.jsdelivr.net/npm//vega-embed@6?noext\",\n",
       "    };\n",
       "\n",
       "    function loadScript(lib) {\n",
       "      return new Promise(function(resolve, reject) {\n",
       "        var s = document.createElement('script');\n",
       "        s.src = paths[lib];\n",
       "        s.async = true;\n",
       "        s.onload = () => resolve(paths[lib]);\n",
       "        s.onerror = () => reject(`Error loading script: ${paths[lib]}`);\n",
       "        document.getElementsByTagName(\"head\")[0].appendChild(s);\n",
       "      });\n",
       "    }\n",
       "\n",
       "    function showError(err) {\n",
       "      outputDiv.innerHTML = `<div class=\"error\" style=\"color:red;\">${err}</div>`;\n",
       "      throw err;\n",
       "    }\n",
       "\n",
       "    function displayChart(vegaEmbed) {\n",
       "      vegaEmbed(outputDiv, spec, embedOpt)\n",
       "        .catch(err => showError(`Javascript Error: ${err.message}<br>This usually means there's a typo in your chart specification. See the javascript console for the full traceback.`));\n",
       "    }\n",
       "\n",
       "    if(typeof define === \"function\" && define.amd) {\n",
       "      requirejs.config({paths});\n",
       "      require([\"vega-embed\"], displayChart, err => showError(`Error loading script: ${err.message}`));\n",
       "    } else if (typeof vegaEmbed === \"function\") {\n",
       "      displayChart(vegaEmbed);\n",
       "    } else {\n",
       "      loadScript(\"vega\")\n",
       "        .then(() => loadScript(\"vega-lite\"))\n",
       "        .then(() => loadScript(\"vega-embed\"))\n",
       "        .catch(showError)\n",
       "        .then(() => displayChart(vegaEmbed));\n",
       "    }\n",
       "  })({\"config\": {\"view\": {\"continuousWidth\": 400, \"continuousHeight\": 300, \"strokeOpacity\": 0}, \"axis\": {\"domainOpacity\": 0.4, \"gridOpacity\": 0.4}, \"title\": {\"anchor\": \"middle\", \"color\": \"black\", \"font\": \"Roboto\", \"fontSize\": 10}}, \"hconcat\": [{\"mark\": \"line\", \"encoding\": {\"color\": {\"value\": \"#0A4C6A\"}, \"x\": {\"type\": \"temporal\", \"axis\": {\"format\": \"%-m/%-d\"}, \"field\": \"date\", \"timeUnit\": \"monthdate\", \"title\": \"date\"}, \"y\": {\"type\": \"quantitative\", \"field\": \"cases_avg7\", \"title\": \"7-day avg\"}}, \"height\": 200, \"title\": \"California: New Cases\", \"width\": 250}, {\"mark\": \"line\", \"encoding\": {\"color\": {\"value\": \"#A30F23\"}, \"x\": {\"type\": \"temporal\", \"axis\": {\"format\": \"%-m/%-d\"}, \"field\": \"date\", \"timeUnit\": \"monthdate\", \"title\": \"date\"}, \"y\": {\"type\": \"quantitative\", \"field\": \"deaths_avg7\", \"title\": \"7-day avg\"}}, \"height\": 200, \"title\": \"California: New Deaths\", \"width\": 250}], \"data\": {\"name\": \"data-5a8d28244cfb791e0d552296d63445cf\"}, \"$schema\": \"https://vega.github.io/schema/vega-lite/v4.0.2.json\", \"datasets\": {\"data-5a8d28244cfb791e0d552296d63445cf\": [{\"state\": \"California\", \"state_abbrev\": \"CA\", \"date\": \"2020-04-15T07:00:00+00:00\", \"cases\": 26686, \"deaths\": 860, \"new_cases\": 1330, \"new_deaths\": 93, \"cases_avg7\": 1112.7142857142858, \"deaths_avg3\": 73.33333333333333, \"deaths_avg7\": 52.142857142857146}, {\"state\": \"California\", \"state_abbrev\": \"CA\", \"date\": \"2020-04-16T07:00:00+00:00\", \"cases\": 27677, \"deaths\": 956, \"new_cases\": 991, \"new_deaths\": 96, \"cases_avg7\": 1138.142857142857, \"deaths_avg3\": 80.66666666666667, \"deaths_avg7\": 58.857142857142854}, {\"state\": \"California\", \"state_abbrev\": \"CA\", \"date\": \"2020-04-17T07:00:00+00:00\", \"cases\": 29157, \"deaths\": 1037, \"new_cases\": 1480, \"new_deaths\": 81, \"cases_avg7\": 1153.7142857142858, \"deaths_avg3\": 90.0, \"deaths_avg7\": 64.85714285714286}, {\"state\": \"California\", \"state_abbrev\": \"CA\", \"date\": \"2020-04-18T07:00:00+00:00\", \"cases\": 30491, \"deaths\": 1140, \"new_cases\": 1334, \"new_deaths\": 103, \"cases_avg7\": 1255.0, \"deaths_avg3\": 93.33333333333333, \"deaths_avg7\": 76.57142857142857}, {\"state\": \"California\", \"state_abbrev\": \"CA\", \"date\": \"2020-04-19T07:00:00+00:00\", \"cases\": 31431, \"deaths\": 1177, \"new_cases\": 940, \"new_deaths\": 37, \"cases_avg7\": 1233.7142857142858, \"deaths_avg3\": 73.66666666666667, \"deaths_avg7\": 76.71428571428571}, {\"state\": \"California\", \"state_abbrev\": \"CA\", \"date\": \"2020-04-20T07:00:00+00:00\", \"cases\": 33686, \"deaths\": 1225, \"new_cases\": 2255, \"new_deaths\": 48, \"cases_avg7\": 1393.5714285714287, \"deaths_avg3\": 62.666666666666664, \"deaths_avg7\": 73.0}, {\"state\": \"California\", \"state_abbrev\": \"CA\", \"date\": \"2020-04-21T07:00:00+00:00\", \"cases\": 35465, \"deaths\": 1282, \"new_cases\": 1779, \"new_deaths\": 57, \"cases_avg7\": 1444.142857142857, \"deaths_avg3\": 47.333333333333336, \"deaths_avg7\": 73.57142857142857}, {\"state\": \"California\", \"state_abbrev\": \"CA\", \"date\": \"2020-04-22T07:00:00+00:00\", \"cases\": 37344, \"deaths\": 1421, \"new_cases\": 1879, \"new_deaths\": 139, \"cases_avg7\": 1522.5714285714287, \"deaths_avg3\": 81.33333333333333, \"deaths_avg7\": 80.14285714285714}, {\"state\": \"California\", \"state_abbrev\": \"CA\", \"date\": \"2020-04-23T07:00:00+00:00\", \"cases\": 39561, \"deaths\": 1533, \"new_cases\": 2217, \"new_deaths\": 112, \"cases_avg7\": 1697.7142857142858, \"deaths_avg3\": 102.66666666666667, \"deaths_avg7\": 82.42857142857143}, {\"state\": \"California\", \"state_abbrev\": \"CA\", \"date\": \"2020-04-24T07:00:00+00:00\", \"cases\": 41355, \"deaths\": 1621, \"new_cases\": 1794, \"new_deaths\": 88, \"cases_avg7\": 1742.5714285714287, \"deaths_avg3\": 113.0, \"deaths_avg7\": 83.42857142857143}, {\"state\": \"California\", \"state_abbrev\": \"CA\", \"date\": \"2020-04-25T07:00:00+00:00\", \"cases\": 42368, \"deaths\": 1689, \"new_cases\": 1013, \"new_deaths\": 68, \"cases_avg7\": 1696.7142857142858, \"deaths_avg3\": 89.33333333333333, \"deaths_avg7\": 78.42857142857143}, {\"state\": \"California\", \"state_abbrev\": \"CA\", \"date\": \"2020-04-26T07:00:00+00:00\", \"cases\": 43558, \"deaths\": 1725, \"new_cases\": 1190, \"new_deaths\": 36, \"cases_avg7\": 1732.4285714285713, \"deaths_avg3\": 64.0, \"deaths_avg7\": 78.28571428571429}, {\"state\": \"California\", \"state_abbrev\": \"CA\", \"date\": \"2020-04-27T07:00:00+00:00\", \"cases\": 44966, \"deaths\": 1779, \"new_cases\": 1408, \"new_deaths\": 54, \"cases_avg7\": 1611.4285714285713, \"deaths_avg3\": 52.666666666666664, \"deaths_avg7\": 79.14285714285714}, {\"state\": \"California\", \"state_abbrev\": \"CA\", \"date\": \"2020-04-28T07:00:00+00:00\", \"cases\": 46164, \"deaths\": 1864, \"new_cases\": 1198, \"new_deaths\": 85, \"cases_avg7\": 1528.4285714285713, \"deaths_avg3\": 58.333333333333336, \"deaths_avg7\": 83.14285714285714}, {\"state\": \"California\", \"state_abbrev\": \"CA\", \"date\": \"2020-04-29T07:00:00+00:00\", \"cases\": 48747, \"deaths\": 1946, \"new_cases\": 2583, \"new_deaths\": 82, \"cases_avg7\": 1629.0, \"deaths_avg3\": 73.66666666666667, \"deaths_avg7\": 75.0}, {\"state\": \"California\", \"state_abbrev\": \"CA\", \"date\": \"2020-04-30T07:00:00+00:00\", \"cases\": 50130, \"deaths\": 2031, \"new_cases\": 1383, \"new_deaths\": 85, \"cases_avg7\": 1509.857142857143, \"deaths_avg3\": 84.0, \"deaths_avg7\": 71.14285714285714}, {\"state\": \"California\", \"state_abbrev\": \"CA\", \"date\": \"2020-05-01T07:00:00+00:00\", \"cases\": 52026, \"deaths\": 2126, \"new_cases\": 1896, \"new_deaths\": 95, \"cases_avg7\": 1524.4285714285713, \"deaths_avg3\": 87.33333333333333, \"deaths_avg7\": 72.14285714285714}, {\"state\": \"California\", \"state_abbrev\": \"CA\", \"date\": \"2020-05-02T07:00:00+00:00\", \"cases\": 53347, \"deaths\": 2180, \"new_cases\": 1321, \"new_deaths\": 54, \"cases_avg7\": 1568.4285714285713, \"deaths_avg3\": 78.0, \"deaths_avg7\": 70.14285714285714}, {\"state\": \"California\", \"state_abbrev\": \"CA\", \"date\": \"2020-05-03T07:00:00+00:00\", \"cases\": 54903, \"deaths\": 2216, \"new_cases\": 1556, \"new_deaths\": 36, \"cases_avg7\": 1620.7142857142858, \"deaths_avg3\": 61.666666666666664, \"deaths_avg7\": 70.14285714285714}, {\"state\": \"California\", \"state_abbrev\": \"CA\", \"date\": \"2020-05-04T07:00:00+00:00\", \"cases\": 55884, \"deaths\": 2278, \"new_cases\": 981, \"new_deaths\": 62, \"cases_avg7\": 1559.7142857142858, \"deaths_avg3\": 50.666666666666664, \"deaths_avg7\": 71.28571428571429}, {\"state\": \"California\", \"state_abbrev\": \"CA\", \"date\": \"2020-05-05T07:00:00+00:00\", \"cases\": 58456, \"deaths\": 2381, \"new_cases\": 2572, \"new_deaths\": 103, \"cases_avg7\": 1756.0, \"deaths_avg3\": 67.0, \"deaths_avg7\": 73.85714285714286}, {\"state\": \"California\", \"state_abbrev\": \"CA\", \"date\": \"2020-05-06T07:00:00+00:00\", \"cases\": 60616, \"deaths\": 2464, \"new_cases\": 2160, \"new_deaths\": 83, \"cases_avg7\": 1695.5714285714287, \"deaths_avg3\": 82.66666666666667, \"deaths_avg7\": 74.0}, {\"state\": \"California\", \"state_abbrev\": \"CA\", \"date\": \"2020-05-07T07:00:00+00:00\", \"cases\": 62148, \"deaths\": 2535, \"new_cases\": 1532, \"new_deaths\": 71, \"cases_avg7\": 1716.857142857143, \"deaths_avg3\": 85.66666666666667, \"deaths_avg7\": 72.0}, {\"state\": \"California\", \"state_abbrev\": \"CA\", \"date\": \"2020-05-08T07:00:00+00:00\", \"cases\": 63779, \"deaths\": 2613, \"new_cases\": 1631, \"new_deaths\": 78, \"cases_avg7\": 1679.0, \"deaths_avg3\": 77.33333333333333, \"deaths_avg7\": 69.57142857142857}, {\"state\": \"California\", \"state_abbrev\": \"CA\", \"date\": \"2020-05-09T07:00:00+00:00\", \"cases\": 66558, \"deaths\": 2687, \"new_cases\": 2779, \"new_deaths\": 74, \"cases_avg7\": 1887.2857142857142, \"deaths_avg3\": 74.33333333333333, \"deaths_avg7\": 72.42857142857143}, {\"state\": \"California\", \"state_abbrev\": \"CA\", \"date\": \"2020-05-10T07:00:00+00:00\", \"cases\": 67600, \"deaths\": 2716, \"new_cases\": 1042, \"new_deaths\": 29, \"cases_avg7\": 1813.857142857143, \"deaths_avg3\": 60.333333333333336, \"deaths_avg7\": 71.42857142857143}, {\"state\": \"California\", \"state_abbrev\": \"CA\", \"date\": \"2020-05-11T07:00:00+00:00\", \"cases\": 69329, \"deaths\": 2779, \"new_cases\": 1729, \"new_deaths\": 63, \"cases_avg7\": 1920.7142857142858, \"deaths_avg3\": 55.333333333333336, \"deaths_avg7\": 71.57142857142857}, {\"state\": \"California\", \"state_abbrev\": \"CA\", \"date\": \"2020-05-12T07:00:00+00:00\", \"cases\": 70978, \"deaths\": 2879, \"new_cases\": 1649, \"new_deaths\": 100, \"cases_avg7\": 1788.857142857143, \"deaths_avg3\": 64.0, \"deaths_avg7\": 71.14285714285714}, {\"state\": \"California\", \"state_abbrev\": \"CA\", \"date\": \"2020-05-13T07:00:00+00:00\", \"cases\": 72798, \"deaths\": 2957, \"new_cases\": 1820, \"new_deaths\": 78, \"cases_avg7\": 1740.2857142857142, \"deaths_avg3\": 80.33333333333333, \"deaths_avg7\": 70.42857142857143}, {\"state\": \"California\", \"state_abbrev\": \"CA\", \"date\": \"2020-05-14T07:00:00+00:00\", \"cases\": 74871, \"deaths\": 3052, \"new_cases\": 2073, \"new_deaths\": 95, \"cases_avg7\": 1817.5714285714287, \"deaths_avg3\": 91.0, \"deaths_avg7\": 73.85714285714286}, {\"state\": \"California\", \"state_abbrev\": \"CA\", \"date\": \"2020-05-15T07:00:00+00:00\", \"cases\": 76693, \"deaths\": 3136, \"new_cases\": 1822, \"new_deaths\": 84, \"cases_avg7\": 1844.857142857143, \"deaths_avg3\": 85.66666666666667, \"deaths_avg7\": 74.71428571428571}, {\"state\": \"California\", \"state_abbrev\": \"CA\", \"date\": \"2020-05-16T07:00:00+00:00\", \"cases\": 78725, \"deaths\": 3208, \"new_cases\": 2032, \"new_deaths\": 72, \"cases_avg7\": 1738.142857142857, \"deaths_avg3\": 83.66666666666667, \"deaths_avg7\": 74.42857142857143}, {\"state\": \"California\", \"state_abbrev\": \"CA\", \"date\": \"2020-05-17T07:00:00+00:00\", \"cases\": 80166, \"deaths\": 3240, \"new_cases\": 1441, \"new_deaths\": 32, \"cases_avg7\": 1795.142857142857, \"deaths_avg3\": 62.666666666666664, \"deaths_avg7\": 74.85714285714286}, {\"state\": \"California\", \"state_abbrev\": \"CA\", \"date\": \"2020-05-18T07:00:00+00:00\", \"cases\": 81457, \"deaths\": 3279, \"new_cases\": 1291, \"new_deaths\": 39, \"cases_avg7\": 1732.5714285714287, \"deaths_avg3\": 47.666666666666664, \"deaths_avg7\": 71.42857142857143}, {\"state\": \"California\", \"state_abbrev\": \"CA\", \"date\": \"2020-05-19T07:00:00+00:00\", \"cases\": 83752, \"deaths\": 3403, \"new_cases\": 2295, \"new_deaths\": 124, \"cases_avg7\": 1824.857142857143, \"deaths_avg3\": 65.0, \"deaths_avg7\": 74.85714285714286}, {\"state\": \"California\", \"state_abbrev\": \"CA\", \"date\": \"2020-05-20T07:00:00+00:00\", \"cases\": 85997, \"deaths\": 3497, \"new_cases\": 2245, \"new_deaths\": 94, \"cases_avg7\": 1885.5714285714287, \"deaths_avg3\": 85.66666666666667, \"deaths_avg7\": 77.14285714285714}, {\"state\": \"California\", \"state_abbrev\": \"CA\", \"date\": \"2020-05-21T07:00:00+00:00\", \"cases\": 88031, \"deaths\": 3583, \"new_cases\": 2034, \"new_deaths\": 86, \"cases_avg7\": 1880.0, \"deaths_avg3\": 101.33333333333333, \"deaths_avg7\": 75.85714285714286}, {\"state\": \"California\", \"state_abbrev\": \"CA\", \"date\": \"2020-05-22T07:00:00+00:00\", \"cases\": 90252, \"deaths\": 3666, \"new_cases\": 2221, \"new_deaths\": 83, \"cases_avg7\": 1937.0, \"deaths_avg3\": 87.66666666666667, \"deaths_avg7\": 75.71428571428571}, {\"state\": \"California\", \"state_abbrev\": \"CA\", \"date\": \"2020-05-23T07:00:00+00:00\", \"cases\": 92539, \"deaths\": 3738, \"new_cases\": 2287, \"new_deaths\": 72, \"cases_avg7\": 1973.4285714285713, \"deaths_avg3\": 80.33333333333333, \"deaths_avg7\": 75.71428571428571}, {\"state\": \"California\", \"state_abbrev\": \"CA\", \"date\": \"2020-05-24T07:00:00+00:00\", \"cases\": 94020, \"deaths\": 3754, \"new_cases\": 1481, \"new_deaths\": 16, \"cases_avg7\": 1979.142857142857, \"deaths_avg3\": 57.0, \"deaths_avg7\": 73.42857142857143}, {\"state\": \"California\", \"state_abbrev\": \"CA\", \"date\": \"2020-05-25T07:00:00+00:00\", \"cases\": 96400, \"deaths\": 3769, \"new_cases\": 2380, \"new_deaths\": 15, \"cases_avg7\": 2134.714285714286, \"deaths_avg3\": 34.333333333333336, \"deaths_avg7\": 70.0}, {\"state\": \"California\", \"state_abbrev\": \"CA\", \"date\": \"2020-05-26T07:00:00+00:00\", \"cases\": 96595, \"deaths\": 3768, \"new_cases\": 195, \"new_deaths\": -1, \"cases_avg7\": 1834.7142857142858, \"deaths_avg3\": 10.0, \"deaths_avg7\": 52.142857142857146}]}}, {\"mode\": \"vega-lite\"});\n",
       "</script>"
      ],
      "text/plain": [
       "alt.HConcatChart(...)"
      ]
     },
     "metadata": {},
     "output_type": "display_data"
    },
    {
     "data": {
      "text/html": [
       "\n",
       "<div id=\"altair-viz-48e35677893b4c0d901ce52bf4cd0429\"></div>\n",
       "<script type=\"text/javascript\">\n",
       "  (function(spec, embedOpt){\n",
       "    const outputDiv = document.getElementById(\"altair-viz-48e35677893b4c0d901ce52bf4cd0429\");\n",
       "    const paths = {\n",
       "      \"vega\": \"https://cdn.jsdelivr.net/npm//vega@5?noext\",\n",
       "      \"vega-lib\": \"https://cdn.jsdelivr.net/npm//vega-lib?noext\",\n",
       "      \"vega-lite\": \"https://cdn.jsdelivr.net/npm//vega-lite@4.0.2?noext\",\n",
       "      \"vega-embed\": \"https://cdn.jsdelivr.net/npm//vega-embed@6?noext\",\n",
       "    };\n",
       "\n",
       "    function loadScript(lib) {\n",
       "      return new Promise(function(resolve, reject) {\n",
       "        var s = document.createElement('script');\n",
       "        s.src = paths[lib];\n",
       "        s.async = true;\n",
       "        s.onload = () => resolve(paths[lib]);\n",
       "        s.onerror = () => reject(`Error loading script: ${paths[lib]}`);\n",
       "        document.getElementsByTagName(\"head\")[0].appendChild(s);\n",
       "      });\n",
       "    }\n",
       "\n",
       "    function showError(err) {\n",
       "      outputDiv.innerHTML = `<div class=\"error\" style=\"color:red;\">${err}</div>`;\n",
       "      throw err;\n",
       "    }\n",
       "\n",
       "    function displayChart(vegaEmbed) {\n",
       "      vegaEmbed(outputDiv, spec, embedOpt)\n",
       "        .catch(err => showError(`Javascript Error: ${err.message}<br>This usually means there's a typo in your chart specification. See the javascript console for the full traceback.`));\n",
       "    }\n",
       "\n",
       "    if(typeof define === \"function\" && define.amd) {\n",
       "      requirejs.config({paths});\n",
       "      require([\"vega-embed\"], displayChart, err => showError(`Error loading script: ${err.message}`));\n",
       "    } else if (typeof vegaEmbed === \"function\") {\n",
       "      displayChart(vegaEmbed);\n",
       "    } else {\n",
       "      loadScript(\"vega\")\n",
       "        .then(() => loadScript(\"vega-lite\"))\n",
       "        .then(() => loadScript(\"vega-embed\"))\n",
       "        .catch(showError)\n",
       "        .then(() => displayChart(vegaEmbed));\n",
       "    }\n",
       "  })({\"config\": {\"view\": {\"continuousWidth\": 400, \"continuousHeight\": 300, \"strokeOpacity\": 0}, \"axis\": {\"domainOpacity\": 0.4, \"gridOpacity\": 0.4}, \"title\": {\"anchor\": \"middle\", \"color\": \"black\", \"font\": \"Roboto\", \"fontSize\": 10}}, \"hconcat\": [{\"mark\": \"line\", \"encoding\": {\"color\": {\"value\": \"#0A4C6A\"}, \"x\": {\"type\": \"temporal\", \"axis\": {\"format\": \"%-m/%-d\"}, \"field\": \"date\", \"timeUnit\": \"monthdate\", \"title\": \"date\"}, \"y\": {\"type\": \"quantitative\", \"field\": \"cases_avg7\", \"title\": \"7-day avg\"}}, \"height\": 200, \"title\": \"Los Angeles-Long Beach-Anaheim, CA MSA: New Cases\", \"width\": 250}, {\"mark\": \"line\", \"encoding\": {\"color\": {\"value\": \"#A30F23\"}, \"x\": {\"type\": \"temporal\", \"axis\": {\"format\": \"%-m/%-d\"}, \"field\": \"date\", \"timeUnit\": \"monthdate\", \"title\": \"date\"}, \"y\": {\"type\": \"quantitative\", \"field\": \"deaths_avg7\", \"title\": \"7-day avg\"}}, \"height\": 200, \"title\": \"Los Angeles-Long Beach-Anaheim, CA MSA: New Deaths\", \"width\": 250}], \"data\": {\"name\": \"data-f513d087851666b33f3d1ae0ba1ff8b0\"}, \"$schema\": \"https://vega.github.io/schema/vega-lite/v4.0.2.json\", \"datasets\": {\"data-f513d087851666b33f3d1ae0ba1ff8b0\": [{\"msa\": \"Los Angeles-Long Beach-Anaheim, CA\", \"msa_pop\": 13214799.0, \"date\": \"2020-04-15T07:00:00+00:00\", \"cases\": 11893, \"deaths\": 427, \"new_cases\": 547.0, \"new_deaths\": 48.0, \"cases_avg7\": 474.0, \"deaths_avg3\": 46.333333333333336, \"deaths_avg7\": 30.285714285714285}, {\"msa\": \"Los Angeles-Long Beach-Anaheim, CA\", \"msa_pop\": 13214799.0, \"date\": \"2020-04-16T07:00:00+00:00\", \"cases\": 12279, \"deaths\": 482, \"new_cases\": 386.0, \"new_deaths\": 55.0, \"cases_avg7\": 463.57142857142856, \"deaths_avg3\": 47.0, \"deaths_avg7\": 34.57142857142857}, {\"msa\": \"Los Angeles-Long Beach-Anaheim, CA\", \"msa_pop\": 13214799.0, \"date\": \"2020-04-17T07:00:00+00:00\", \"cases\": 12901, \"deaths\": 525, \"new_cases\": 622.0, \"new_deaths\": 43.0, \"cases_avg7\": 474.2857142857143, \"deaths_avg3\": 48.666666666666664, \"deaths_avg7\": 38.0}, {\"msa\": \"Los Angeles-Long Beach-Anaheim, CA\", \"msa_pop\": 13214799.0, \"date\": \"2020-04-18T07:00:00+00:00\", \"cases\": 13577, \"deaths\": 608, \"new_cases\": 676.0, \"new_deaths\": 83.0, \"cases_avg7\": 557.5714285714286, \"deaths_avg3\": 60.333333333333336, \"deaths_avg7\": 49.42857142857143}, {\"msa\": \"Los Angeles-Long Beach-Anaheim, CA\", \"msa_pop\": 13214799.0, \"date\": \"2020-04-19T07:00:00+00:00\", \"cases\": 13977, \"deaths\": 632, \"new_cases\": 400.0, \"new_deaths\": 24.0, \"cases_avg7\": 543.7142857142857, \"deaths_avg3\": 50.0, \"deaths_avg7\": 49.142857142857146}, {\"msa\": \"Los Angeles-Long Beach-Anaheim, CA\", \"msa_pop\": 13214799.0, \"date\": \"2020-04-20T07:00:00+00:00\", \"cases\": 15499, \"deaths\": 652, \"new_cases\": 1522.0, \"new_deaths\": 20.0, \"cases_avg7\": 683.2857142857143, \"deaths_avg3\": 42.333333333333336, \"deaths_avg7\": 44.42857142857143}, {\"msa\": \"Los Angeles-Long Beach-Anaheim, CA\", \"msa_pop\": 13214799.0, \"date\": \"2020-04-21T07:00:00+00:00\", \"cases\": 16844, \"deaths\": 696, \"new_cases\": 1345.0, \"new_deaths\": 44.0, \"cases_avg7\": 785.4285714285714, \"deaths_avg3\": 29.333333333333332, \"deaths_avg7\": 45.285714285714285}, {\"msa\": \"Los Angeles-Long Beach-Anaheim, CA\", \"msa_pop\": 13214799.0, \"date\": \"2020-04-22T07:00:00+00:00\", \"cases\": 18200, \"deaths\": 766, \"new_cases\": 1356.0, \"new_deaths\": 70.0, \"cases_avg7\": 901.0, \"deaths_avg3\": 44.666666666666664, \"deaths_avg7\": 48.42857142857143}, {\"msa\": \"Los Angeles-Long Beach-Anaheim, CA\", \"msa_pop\": 13214799.0, \"date\": \"2020-04-23T07:00:00+00:00\", \"cases\": 19364, \"deaths\": 833, \"new_cases\": 1164.0, \"new_deaths\": 67.0, \"cases_avg7\": 1012.1428571428571, \"deaths_avg3\": 60.333333333333336, \"deaths_avg7\": 50.142857142857146}, {\"msa\": \"Los Angeles-Long Beach-Anaheim, CA\", \"msa_pop\": 13214799.0, \"date\": \"2020-04-24T07:00:00+00:00\", \"cases\": 20390, \"deaths\": 886, \"new_cases\": 1026.0, \"new_deaths\": 53.0, \"cases_avg7\": 1069.857142857143, \"deaths_avg3\": 63.333333333333336, \"deaths_avg7\": 51.57142857142857}, {\"msa\": \"Los Angeles-Long Beach-Anaheim, CA\", \"msa_pop\": 13214799.0, \"date\": \"2020-04-25T07:00:00+00:00\", \"cases\": 21102, \"deaths\": 933, \"new_cases\": 712.0, \"new_deaths\": 47.0, \"cases_avg7\": 1075.0, \"deaths_avg3\": 55.666666666666664, \"deaths_avg7\": 46.42857142857143}, {\"msa\": \"Los Angeles-Long Beach-Anaheim, CA\", \"msa_pop\": 13214799.0, \"date\": \"2020-04-26T07:00:00+00:00\", \"cases\": 21641, \"deaths\": 955, \"new_cases\": 539.0, \"new_deaths\": 22.0, \"cases_avg7\": 1094.857142857143, \"deaths_avg3\": 40.666666666666664, \"deaths_avg7\": 46.142857142857146}, {\"msa\": \"Los Angeles-Long Beach-Anaheim, CA\", \"msa_pop\": 13214799.0, \"date\": \"2020-04-27T07:00:00+00:00\", \"cases\": 22549, \"deaths\": 983, \"new_cases\": 908.0, \"new_deaths\": 28.0, \"cases_avg7\": 1007.1428571428571, \"deaths_avg3\": 32.333333333333336, \"deaths_avg7\": 47.285714285714285}, {\"msa\": \"Los Angeles-Long Beach-Anaheim, CA\", \"msa_pop\": 13214799.0, \"date\": \"2020-04-28T07:00:00+00:00\", \"cases\": 23147, \"deaths\": 1044, \"new_cases\": 598.0, \"new_deaths\": 61.0, \"cases_avg7\": 900.4285714285714, \"deaths_avg3\": 37.0, \"deaths_avg7\": 49.714285714285715}, {\"msa\": \"Los Angeles-Long Beach-Anaheim, CA\", \"msa_pop\": 13214799.0, \"date\": \"2020-04-29T07:00:00+00:00\", \"cases\": 24737, \"deaths\": 1100, \"new_cases\": 1590.0, \"new_deaths\": 56.0, \"cases_avg7\": 933.8571428571429, \"deaths_avg3\": 48.333333333333336, \"deaths_avg7\": 47.714285714285715}, {\"msa\": \"Los Angeles-Long Beach-Anaheim, CA\", \"msa_pop\": 13214799.0, \"date\": \"2020-04-30T07:00:00+00:00\", \"cases\": 25613, \"deaths\": 1156, \"new_cases\": 876.0, \"new_deaths\": 56.0, \"cases_avg7\": 892.7142857142857, \"deaths_avg3\": 57.666666666666664, \"deaths_avg7\": 46.142857142857146}, {\"msa\": \"Los Angeles-Long Beach-Anaheim, CA\", \"msa_pop\": 13214799.0, \"date\": \"2020-05-01T07:00:00+00:00\", \"cases\": 26799, \"deaths\": 1224, \"new_cases\": 1186.0, \"new_deaths\": 68.0, \"cases_avg7\": 915.5714285714286, \"deaths_avg3\": 60.0, \"deaths_avg7\": 48.285714285714285}, {\"msa\": \"Los Angeles-Long Beach-Anaheim, CA\", \"msa_pop\": 13214799.0, \"date\": \"2020-05-02T07:00:00+00:00\", \"cases\": 27530, \"deaths\": 1261, \"new_cases\": 731.0, \"new_deaths\": 37.0, \"cases_avg7\": 918.2857142857143, \"deaths_avg3\": 53.666666666666664, \"deaths_avg7\": 46.857142857142854}, {\"msa\": \"Los Angeles-Long Beach-Anaheim, CA\", \"msa_pop\": 13214799.0, \"date\": \"2020-05-03T07:00:00+00:00\", \"cases\": 28442, \"deaths\": 1283, \"new_cases\": 912.0, \"new_deaths\": 22.0, \"cases_avg7\": 971.5714285714286, \"deaths_avg3\": 42.333333333333336, \"deaths_avg7\": 46.857142857142854}, {\"msa\": \"Los Angeles-Long Beach-Anaheim, CA\", \"msa_pop\": 13214799.0, \"date\": \"2020-05-04T07:00:00+00:00\", \"cases\": 29044, \"deaths\": 1314, \"new_cases\": 602.0, \"new_deaths\": 31.0, \"cases_avg7\": 927.8571428571429, \"deaths_avg3\": 30.0, \"deaths_avg7\": 47.285714285714285}, {\"msa\": \"Los Angeles-Long Beach-Anaheim, CA\", \"msa_pop\": 13214799.0, \"date\": \"2020-05-05T07:00:00+00:00\", \"cases\": 30709, \"deaths\": 1384, \"new_cases\": 1665.0, \"new_deaths\": 70.0, \"cases_avg7\": 1080.2857142857142, \"deaths_avg3\": 41.0, \"deaths_avg7\": 48.57142857142857}, {\"msa\": \"Los Angeles-Long Beach-Anaheim, CA\", \"msa_pop\": 13214799.0, \"date\": \"2020-05-06T07:00:00+00:00\", \"cases\": 31669, \"deaths\": 1434, \"new_cases\": 960.0, \"new_deaths\": 50.0, \"cases_avg7\": 990.2857142857143, \"deaths_avg3\": 50.333333333333336, \"deaths_avg7\": 47.714285714285715}, {\"msa\": \"Los Angeles-Long Beach-Anaheim, CA\", \"msa_pop\": 13214799.0, \"date\": \"2020-05-07T07:00:00+00:00\", \"cases\": 32603, \"deaths\": 1484, \"new_cases\": 934.0, \"new_deaths\": 50.0, \"cases_avg7\": 998.5714285714286, \"deaths_avg3\": 56.666666666666664, \"deaths_avg7\": 46.857142857142854}, {\"msa\": \"Los Angeles-Long Beach-Anaheim, CA\", \"msa_pop\": 13214799.0, \"date\": \"2020-05-08T07:00:00+00:00\", \"cases\": 33559, \"deaths\": 1541, \"new_cases\": 956.0, \"new_deaths\": 57.0, \"cases_avg7\": 965.7142857142857, \"deaths_avg3\": 52.333333333333336, \"deaths_avg7\": 45.285714285714285}, {\"msa\": \"Los Angeles-Long Beach-Anaheim, CA\", \"msa_pop\": 13214799.0, \"date\": \"2020-05-09T07:00:00+00:00\", \"cases\": 34621, \"deaths\": 1589, \"new_cases\": 1062.0, \"new_deaths\": 48.0, \"cases_avg7\": 1013.0, \"deaths_avg3\": 51.666666666666664, \"deaths_avg7\": 46.857142857142854}, {\"msa\": \"Los Angeles-Long Beach-Anaheim, CA\", \"msa_pop\": 13214799.0, \"date\": \"2020-05-10T07:00:00+00:00\", \"cases\": 35205, \"deaths\": 1607, \"new_cases\": 584.0, \"new_deaths\": 18.0, \"cases_avg7\": 966.1428571428571, \"deaths_avg3\": 41.0, \"deaths_avg7\": 46.285714285714285}, {\"msa\": \"Los Angeles-Long Beach-Anaheim, CA\", \"msa_pop\": 13214799.0, \"date\": \"2020-05-11T07:00:00+00:00\", \"cases\": 35820, \"deaths\": 1646, \"new_cases\": 615.0, \"new_deaths\": 39.0, \"cases_avg7\": 968.0, \"deaths_avg3\": 35.0, \"deaths_avg7\": 47.42857142857143}, {\"msa\": \"Los Angeles-Long Beach-Anaheim, CA\", \"msa_pop\": 13214799.0, \"date\": \"2020-05-12T07:00:00+00:00\", \"cases\": 36813, \"deaths\": 1693, \"new_cases\": 993.0, \"new_deaths\": 47.0, \"cases_avg7\": 872.0, \"deaths_avg3\": 34.666666666666664, \"deaths_avg7\": 44.142857142857146}, {\"msa\": \"Los Angeles-Long Beach-Anaheim, CA\", \"msa_pop\": 13214799.0, \"date\": \"2020-05-13T07:00:00+00:00\", \"cases\": 38287, \"deaths\": 1740, \"new_cases\": 1474.0, \"new_deaths\": 47.0, \"cases_avg7\": 945.4285714285714, \"deaths_avg3\": 44.333333333333336, \"deaths_avg7\": 43.714285714285715}, {\"msa\": \"Los Angeles-Long Beach-Anaheim, CA\", \"msa_pop\": 13214799.0, \"date\": \"2020-05-14T07:00:00+00:00\", \"cases\": 39360, \"deaths\": 1791, \"new_cases\": 1073.0, \"new_deaths\": 51.0, \"cases_avg7\": 965.2857142857143, \"deaths_avg3\": 48.333333333333336, \"deaths_avg7\": 43.857142857142854}, {\"msa\": \"Los Angeles-Long Beach-Anaheim, CA\", \"msa_pop\": 13214799.0, \"date\": \"2020-05-15T07:00:00+00:00\", \"cases\": 40441, \"deaths\": 1837, \"new_cases\": 1081.0, \"new_deaths\": 46.0, \"cases_avg7\": 983.1428571428571, \"deaths_avg3\": 48.0, \"deaths_avg7\": 42.285714285714285}, {\"msa\": \"Los Angeles-Long Beach-Anaheim, CA\", \"msa_pop\": 13214799.0, \"date\": \"2020-05-16T07:00:00+00:00\", \"cases\": 41582, \"deaths\": 1879, \"new_cases\": 1141.0, \"new_deaths\": 42.0, \"cases_avg7\": 994.4285714285714, \"deaths_avg3\": 46.333333333333336, \"deaths_avg7\": 41.42857142857143}, {\"msa\": \"Los Angeles-Long Beach-Anaheim, CA\", \"msa_pop\": 13214799.0, \"date\": \"2020-05-17T07:00:00+00:00\", \"cases\": 42387, \"deaths\": 1909, \"new_cases\": 805.0, \"new_deaths\": 30.0, \"cases_avg7\": 1026.0, \"deaths_avg3\": 39.333333333333336, \"deaths_avg7\": 43.142857142857146}, {\"msa\": \"Los Angeles-Long Beach-Anaheim, CA\", \"msa_pop\": 13214799.0, \"date\": \"2020-05-18T07:00:00+00:00\", \"cases\": 42892, \"deaths\": 1928, \"new_cases\": 505.0, \"new_deaths\": 19.0, \"cases_avg7\": 1010.2857142857143, \"deaths_avg3\": 30.333333333333332, \"deaths_avg7\": 40.285714285714285}, {\"msa\": \"Los Angeles-Long Beach-Anaheim, CA\", \"msa_pop\": 13214799.0, \"date\": \"2020-05-19T07:00:00+00:00\", \"cases\": 44073, \"deaths\": 2001, \"new_cases\": 1181.0, \"new_deaths\": 73.0, \"cases_avg7\": 1037.142857142857, \"deaths_avg3\": 40.666666666666664, \"deaths_avg7\": 44.0}, {\"msa\": \"Los Angeles-Long Beach-Anaheim, CA\", \"msa_pop\": 13214799.0, \"date\": \"2020-05-20T07:00:00+00:00\", \"cases\": 45637, \"deaths\": 2071, \"new_cases\": 1564.0, \"new_deaths\": 70.0, \"cases_avg7\": 1050.0, \"deaths_avg3\": 54.0, \"deaths_avg7\": 47.285714285714285}, {\"msa\": \"Los Angeles-Long Beach-Anaheim, CA\", \"msa_pop\": 13214799.0, \"date\": \"2020-05-21T07:00:00+00:00\", \"cases\": 46878, \"deaths\": 2128, \"new_cases\": 1241.0, \"new_deaths\": 57.0, \"cases_avg7\": 1074.0, \"deaths_avg3\": 66.66666666666667, \"deaths_avg7\": 48.142857142857146}, {\"msa\": \"Los Angeles-Long Beach-Anaheim, CA\", \"msa_pop\": 13214799.0, \"date\": \"2020-05-22T07:00:00+00:00\", \"cases\": 48011, \"deaths\": 2171, \"new_cases\": 1133.0, \"new_deaths\": 43.0, \"cases_avg7\": 1081.4285714285713, \"deaths_avg3\": 56.666666666666664, \"deaths_avg7\": 47.714285714285715}, {\"msa\": \"Los Angeles-Long Beach-Anaheim, CA\", \"msa_pop\": 13214799.0, \"date\": \"2020-05-23T07:00:00+00:00\", \"cases\": 49278, \"deaths\": 2222, \"new_cases\": 1267.0, \"new_deaths\": 51.0, \"cases_avg7\": 1099.4285714285713, \"deaths_avg3\": 50.333333333333336, \"deaths_avg7\": 49.0}, {\"msa\": \"Los Angeles-Long Beach-Anaheim, CA\", \"msa_pop\": 13214799.0, \"date\": \"2020-05-24T07:00:00+00:00\", \"cases\": 50353, \"deaths\": 2237, \"new_cases\": 1075.0, \"new_deaths\": 15.0, \"cases_avg7\": 1138.0, \"deaths_avg3\": 36.333333333333336, \"deaths_avg7\": 46.857142857142854}, {\"msa\": \"Los Angeles-Long Beach-Anaheim, CA\", \"msa_pop\": 13214799.0, \"date\": \"2020-05-25T07:00:00+00:00\", \"cases\": 51492, \"deaths\": 2249, \"new_cases\": 1139.0, \"new_deaths\": 12.0, \"cases_avg7\": 1228.5714285714287, \"deaths_avg3\": 26.0, \"deaths_avg7\": 45.857142857142854}, {\"msa\": \"Los Angeles-Long Beach-Anaheim, CA\", \"msa_pop\": 13214799.0, \"date\": \"2020-05-26T07:00:00+00:00\", \"cases\": 51492, \"deaths\": 2247, \"new_cases\": 0.0, \"new_deaths\": -2.0, \"cases_avg7\": 1059.857142857143, \"deaths_avg3\": 8.333333333333334, \"deaths_avg7\": 35.142857142857146}]}}, {\"mode\": \"vega-lite\"});\n",
       "</script>"
      ],
      "text/plain": [
       "alt.HConcatChart(...)"
      ]
     },
     "metadata": {},
     "output_type": "display_data"
    }
   ],
   "source": [
    "ca = utils.state_case_charts(state_name, start_date)\n",
    "la_msa = utils.msa_case_charts(\"Los Angeles\", start_date)"
   ]
  },
  {
   "cell_type": "code",
   "execution_count": null,
   "metadata": {},
   "outputs": [],
   "source": []
  },
  {
   "cell_type": "code",
   "execution_count": null,
   "metadata": {},
   "outputs": [],
   "source": []
  }
 ],
 "metadata": {
  "kernelspec": {
   "display_name": "Python 3",
   "language": "python",
   "name": "python3"
  },
  "language_info": {
   "codemirror_mode": {
    "name": "ipython",
    "version": 3
   },
   "file_extension": ".py",
   "mimetype": "text/x-python",
   "name": "python",
   "nbconvert_exporter": "python",
   "pygments_lexer": "ipython3",
   "version": "3.7.3"
  }
 },
 "nbformat": 4,
 "nbformat_minor": 4
}
