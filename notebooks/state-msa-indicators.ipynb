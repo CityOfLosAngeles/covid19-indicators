{
 "cells": [
  {
   "cell_type": "markdown",
   "metadata": {},
   "source": [
    "## State / MSA COVID-19 Reopening Indicators "
   ]
  },
  {
   "cell_type": "code",
   "execution_count": 1,
   "metadata": {},
   "outputs": [],
   "source": [
    "import pandas as pd\n",
    "\n",
    "import utils\n",
    "import default_parameters\n",
    "import make_charts\n",
    "import meet_indicators\n",
    "\n",
    "from IPython.display import Markdown \n",
    "import IPython.display\n",
    "\n",
    "# Default parameters\n",
    "county_state_name = default_parameters.county_state_name\n",
    "state_name = default_parameters.state_name\n",
    "msa_name = default_parameters.msa_name\n",
    "time_zone = default_parameters.time_zone\n",
    "\n",
    "fulldate_format = default_parameters.fulldate_format\n",
    "monthdate_format = default_parameters.monthdate_format\n",
    "start_date = default_parameters.start_date\n",
    "yesterday_date = default_parameters.yesterday_date\n",
    "today_date = default_parameters.today_date\n",
    "two_weeks_ago = default_parameters.two_weeks_ago\n",
    "two_days_ago = default_parameters.two_days_ago"
   ]
  },
  {
   "cell_type": "code",
   "execution_count": 2,
   "metadata": {},
   "outputs": [],
   "source": [
    "def summary_of_indicators():\n",
    "    # Grab indicators\n",
    "    state_case_indicator = meet_indicators.meet_case(\"state\", state_name, start_date)\n",
    "    state_death_indicator = meet_indicators.meet_death(\"state\", state_name, start_date)\n",
    "    msa_case_indicator = meet_indicators.meet_case(\"msa\", msa_name, start_date)\n",
    "    msa_death_indicator = meet_indicators.meet_death(\"msa\", msa_name, start_date)\n",
    "    \n",
    "    # Check cases according to some criterion\n",
    "    def check_cases(row):\n",
    "        status = [\"failed\" if x < 14 else \"met\" if x >= 14 else \"\" for x in row]\n",
    "        return pd.Series(status, index=row.index, dtype=\"category\")\n",
    "\n",
    "    # Check deaths according to some criterion\n",
    "    def check_deaths(row):\n",
    "        status = [\"failed\" if x < 14 else \"met\" if x >= 14 else \"\" for x in row]\n",
    "        return pd.Series(status, index=row.index, dtype=\"category\")\n",
    "\n",
    "    # Map the failed/met/exceeded state to a CSS string for the table entry\n",
    "    red = make_charts.maroon\n",
    "    green = make_charts.green\n",
    "\n",
    "    stylemap = {\n",
    "        \"failed\": f\"background-color: {red}; color: white; font-weight: bold; opacity: 0.6\",\n",
    "        \"met\": f\"background-color: {green}; color: white; font-weight: bold; opacity: 0.6\",\n",
    "    }\n",
    "\n",
    "    # Map a row name to a check function\n",
    "    fnmap = {\n",
    "        \"Cases\": check_cases,\n",
    "        \"Deaths\": check_deaths,\n",
    "    }\n",
    "    \n",
    "    indicator_names = [\"Cases\", \"Deaths\"]\n",
    "\n",
    "    df = pd.DataFrame(\n",
    "        {\"state\": [state_case_indicator, state_death_indicator], \n",
    "         \"msa\": [msa_case_indicator, msa_death_indicator]},\n",
    "        index=indicator_names\n",
    "    )\n",
    "    \n",
    "    # Style the table\n",
    "    html = df.style.apply(lambda row: fnmap[row.name](row).map(stylemap), axis=1).render()\n",
    "    \n",
    "    # Display summary\n",
    "    display(Markdown(f\"### Summary of Indicators as of {yesterday_date}:\"))\n",
    "    display(Markdown(\"Cases and deaths report the number of days with declining values over the past 14 days.\"))\n",
    "    display(Markdown(\"These should sustain a 14-day downward trajectory.\"))\n",
    "    display(Markdown(\"Indicators can <bold><span style='color:#F3324C'>fail to meet the lower benchmark; </span><span style='color:#10DE7A'>meet the lower benchmark; </span><span style = 'color:#1696D2'>or exceed the higher benchmark.</span></bold>\"))    \n",
    "    display(IPython.display.HTML(html))\n",
    "    "
   ]
  },
  {
   "cell_type": "code",
   "execution_count": 3,
   "metadata": {},
   "outputs": [
    {
     "data": {
      "text/markdown": [
       "### Summary of Indicators as of 6/4/20:"
      ],
      "text/plain": [
       "<IPython.core.display.Markdown object>"
      ]
     },
     "metadata": {},
     "output_type": "display_data"
    },
    {
     "data": {
      "text/markdown": [
       "Cases and deaths report the number of days with declining values over the past 14 days."
      ],
      "text/plain": [
       "<IPython.core.display.Markdown object>"
      ]
     },
     "metadata": {},
     "output_type": "display_data"
    },
    {
     "data": {
      "text/markdown": [
       "These should sustain a 14-day downward trajectory."
      ],
      "text/plain": [
       "<IPython.core.display.Markdown object>"
      ]
     },
     "metadata": {},
     "output_type": "display_data"
    },
    {
     "data": {
      "text/markdown": [
       "Indicators can <bold><span style='color:#F3324C'>fail to meet the lower benchmark; </span><span style='color:#10DE7A'>meet the lower benchmark; </span><span style = 'color:#1696D2'>or exceed the higher benchmark.</span></bold>"
      ],
      "text/plain": [
       "<IPython.core.display.Markdown object>"
      ]
     },
     "metadata": {},
     "output_type": "display_data"
    },
    {
     "data": {
      "text/html": [
       "<style  type=\"text/css\" >\n",
       "    #T_ef19a71c_a77c_11ea_a765_0242ac120002row0_col0 {\n",
       "            background-color:  #F3324C;\n",
       "             color:  white;\n",
       "             font-weight:  bold;\n",
       "             opacity:  0.6;\n",
       "        }    #T_ef19a71c_a77c_11ea_a765_0242ac120002row0_col1 {\n",
       "            background-color:  #F3324C;\n",
       "             color:  white;\n",
       "             font-weight:  bold;\n",
       "             opacity:  0.6;\n",
       "        }    #T_ef19a71c_a77c_11ea_a765_0242ac120002row1_col0 {\n",
       "            background-color:  #F3324C;\n",
       "             color:  white;\n",
       "             font-weight:  bold;\n",
       "             opacity:  0.6;\n",
       "        }    #T_ef19a71c_a77c_11ea_a765_0242ac120002row1_col1 {\n",
       "            background-color:  #F3324C;\n",
       "             color:  white;\n",
       "             font-weight:  bold;\n",
       "             opacity:  0.6;\n",
       "        }</style><table id=\"T_ef19a71c_a77c_11ea_a765_0242ac120002\" ><thead>    <tr>        <th class=\"blank level0\" ></th>        <th class=\"col_heading level0 col0\" >state</th>        <th class=\"col_heading level0 col1\" >msa</th>    </tr></thead><tbody>\n",
       "                <tr>\n",
       "                        <th id=\"T_ef19a71c_a77c_11ea_a765_0242ac120002level0_row0\" class=\"row_heading level0 row0\" >Cases</th>\n",
       "                        <td id=\"T_ef19a71c_a77c_11ea_a765_0242ac120002row0_col0\" class=\"data row0 col0\" >2</td>\n",
       "                        <td id=\"T_ef19a71c_a77c_11ea_a765_0242ac120002row0_col1\" class=\"data row0 col1\" >3</td>\n",
       "            </tr>\n",
       "            <tr>\n",
       "                        <th id=\"T_ef19a71c_a77c_11ea_a765_0242ac120002level0_row1\" class=\"row_heading level0 row1\" >Deaths</th>\n",
       "                        <td id=\"T_ef19a71c_a77c_11ea_a765_0242ac120002row1_col0\" class=\"data row1 col0\" >8</td>\n",
       "                        <td id=\"T_ef19a71c_a77c_11ea_a765_0242ac120002row1_col1\" class=\"data row1 col1\" >8</td>\n",
       "            </tr>\n",
       "    </tbody></table>"
      ],
      "text/plain": [
       "<IPython.core.display.HTML object>"
      ]
     },
     "metadata": {},
     "output_type": "display_data"
    }
   ],
   "source": [
    "summary_of_indicators()"
   ]
  },
  {
   "cell_type": "markdown",
   "metadata": {},
   "source": [
    "## Caseload Charts"
   ]
  },
  {
   "cell_type": "code",
   "execution_count": 4,
   "metadata": {},
   "outputs": [
    {
     "data": {
      "image/svg+xml": [
       "<svg class=\"marks\" height=\"256\" version=\"1.1\" viewBox=\"0 0 619 256\" width=\"619\" xmlns=\"http://www.w3.org/2000/svg\" xmlns:xlink=\"http://www.w3.org/1999/xlink\"><rect fill=\"white\" height=\"256\" width=\"619\"/><g fill=\"none\" stroke-miterlimit=\"10\" transform=\"translate(54,19)\"><g aria-roledescription=\"group mark container\" class=\"mark-group role-frame root\" role=\"graphics-object\"><g transform=\"translate(0,0)\"><path aria-hidden=\"true\" class=\"background\" d=\"M0,0h0v200h0Z\"/><g><g aria-roledescription=\"group mark container\" class=\"mark-group role-scope concat_0_group\" role=\"graphics-object\"><g transform=\"translate(0,0)\"><path aria-hidden=\"true\" class=\"background\" d=\"M0.5,0.5h250v200h-250Z\" stroke=\"#ddd\" stroke-opacity=\"0\"/><g><g aria-hidden=\"true\" class=\"mark-group role-axis\"><g transform=\"translate(0.5,200.5)\"><path aria-hidden=\"true\" class=\"background\" d=\"M0,0h0v0h0Z\" pointer-events=\"none\"/><g><g class=\"mark-rule role-axis-grid\" pointer-events=\"none\"><line opacity=\"1\" stroke=\"#ddd\" stroke-opacity=\"0.4\" stroke-width=\"1\" transform=\"translate(0,-200)\" x2=\"0\" y2=\"200\"/><line opacity=\"1\" stroke=\"#ddd\" stroke-opacity=\"0.4\" stroke-width=\"1\" transform=\"translate(35,-200)\" x2=\"0\" y2=\"200\"/><line opacity=\"1\" stroke=\"#ddd\" stroke-opacity=\"0.4\" stroke-width=\"1\" transform=\"translate(70,-200)\" x2=\"0\" y2=\"200\"/><line opacity=\"1\" stroke=\"#ddd\" stroke-opacity=\"0.4\" stroke-width=\"1\" transform=\"translate(105,-200)\" x2=\"0\" y2=\"200\"/><line opacity=\"1\" stroke=\"#ddd\" stroke-opacity=\"0.4\" stroke-width=\"1\" transform=\"translate(140,-200)\" x2=\"0\" y2=\"200\"/><line opacity=\"1\" stroke=\"#ddd\" stroke-opacity=\"0.4\" stroke-width=\"1\" transform=\"translate(175,-200)\" x2=\"0\" y2=\"200\"/><line opacity=\"1\" stroke=\"#ddd\" stroke-opacity=\"0.4\" stroke-width=\"1\" transform=\"translate(210,-200)\" x2=\"0\" y2=\"200\"/><line opacity=\"1\" stroke=\"#ddd\" stroke-opacity=\"0.4\" stroke-width=\"1\" transform=\"translate(245,-200)\" x2=\"0\" y2=\"200\"/></g></g><path aria-hidden=\"true\" class=\"foreground\" d=\"\" display=\"none\" pointer-events=\"none\"/></g></g><g aria-hidden=\"true\" class=\"mark-group role-axis\"><g transform=\"translate(0.5,0.5)\"><path aria-hidden=\"true\" class=\"background\" d=\"M0,0h0v0h0Z\" pointer-events=\"none\"/><g><g class=\"mark-rule role-axis-grid\" pointer-events=\"none\"><line opacity=\"1\" stroke=\"#ddd\" stroke-opacity=\"0.4\" stroke-width=\"1\" transform=\"translate(0,200)\" x2=\"250\" y2=\"0\"/><line opacity=\"1\" stroke=\"#ddd\" stroke-opacity=\"0.4\" stroke-width=\"1\" transform=\"translate(0,164)\" x2=\"250\" y2=\"0\"/><line opacity=\"1\" stroke=\"#ddd\" stroke-opacity=\"0.4\" stroke-width=\"1\" transform=\"translate(0,129)\" x2=\"250\" y2=\"0\"/><line opacity=\"1\" stroke=\"#ddd\" stroke-opacity=\"0.4\" stroke-width=\"1\" transform=\"translate(0,93)\" x2=\"250\" y2=\"0\"/><line opacity=\"1\" stroke=\"#ddd\" stroke-opacity=\"0.4\" stroke-width=\"1\" transform=\"translate(0,57)\" x2=\"250\" y2=\"0\"/><line opacity=\"1\" stroke=\"#ddd\" stroke-opacity=\"0.4\" stroke-width=\"1\" transform=\"translate(0,21)\" x2=\"250\" y2=\"0\"/></g></g><path aria-hidden=\"true\" class=\"foreground\" d=\"\" display=\"none\" pointer-events=\"none\"/></g></g><g aria-label=\"X-axis titled 'date' for a time scale with values from 4/15 to 6/4\" aria-roledescription=\"axis\" class=\"mark-group role-axis\" role=\"graphics-symbol\"><g transform=\"translate(0.5,200.5)\"><path aria-hidden=\"true\" class=\"background\" d=\"M0,0h0v0h0Z\" pointer-events=\"none\"/><g><g class=\"mark-rule role-axis-tick\" pointer-events=\"none\"><line opacity=\"1\" stroke=\"#888\" stroke-width=\"1\" transform=\"translate(0,0)\" x2=\"0\" y2=\"5\"/><line opacity=\"1\" stroke=\"#888\" stroke-width=\"1\" transform=\"translate(35,0)\" x2=\"0\" y2=\"5\"/><line opacity=\"1\" stroke=\"#888\" stroke-width=\"1\" transform=\"translate(70,0)\" x2=\"0\" y2=\"5\"/><line opacity=\"1\" stroke=\"#888\" stroke-width=\"1\" transform=\"translate(105,0)\" x2=\"0\" y2=\"5\"/><line opacity=\"1\" stroke=\"#888\" stroke-width=\"1\" transform=\"translate(140,0)\" x2=\"0\" y2=\"5\"/><line opacity=\"1\" stroke=\"#888\" stroke-width=\"1\" transform=\"translate(175,0)\" x2=\"0\" y2=\"5\"/><line opacity=\"1\" stroke=\"#888\" stroke-width=\"1\" transform=\"translate(210,0)\" x2=\"0\" y2=\"5\"/><line opacity=\"1\" stroke=\"#888\" stroke-width=\"1\" transform=\"translate(245,0)\" x2=\"0\" y2=\"5\"/></g><g class=\"mark-text role-axis-label\" pointer-events=\"none\"><text fill=\"#000\" font-family=\"sans-serif\" font-size=\"10px\" opacity=\"1\" text-anchor=\"start\" transform=\"translate(0,15)\">4/15</text><text fill=\"#000\" font-family=\"sans-serif\" font-size=\"10px\" opacity=\"1\" text-anchor=\"middle\" transform=\"translate(35,15)\">4/22</text><text fill=\"#000\" font-family=\"sans-serif\" font-size=\"10px\" opacity=\"1\" text-anchor=\"middle\" transform=\"translate(70,15)\">4/29</text><text fill=\"#000\" font-family=\"sans-serif\" font-size=\"10px\" opacity=\"1\" text-anchor=\"middle\" transform=\"translate(105,15)\">5/6</text><text fill=\"#000\" font-family=\"sans-serif\" font-size=\"10px\" opacity=\"1\" text-anchor=\"middle\" transform=\"translate(140,15)\">5/13</text><text fill=\"#000\" font-family=\"sans-serif\" font-size=\"10px\" opacity=\"1\" text-anchor=\"middle\" transform=\"translate(175,15)\">5/20</text><text fill=\"#000\" font-family=\"sans-serif\" font-size=\"10px\" opacity=\"1\" text-anchor=\"middle\" transform=\"translate(210,15)\">5/27</text><text fill=\"#000\" font-family=\"sans-serif\" font-size=\"10px\" opacity=\"1\" text-anchor=\"middle\" transform=\"translate(245,15)\">6/3</text></g><g class=\"mark-rule role-axis-domain\" pointer-events=\"none\"><line opacity=\"1\" stroke=\"#888\" stroke-opacity=\"0.4\" stroke-width=\"1\" transform=\"translate(0,0)\" x2=\"250\" y2=\"0\"/></g><g class=\"mark-text role-axis-title\" pointer-events=\"none\"><text fill=\"#000\" font-family=\"sans-serif\" font-size=\"11px\" font-weight=\"bold\" opacity=\"1\" text-anchor=\"middle\" transform=\"translate(125,30)\">date</text></g></g><path aria-hidden=\"true\" class=\"foreground\" d=\"\" display=\"none\" pointer-events=\"none\"/></g></g><g aria-label=\"Y-axis titled '7-day avg' for a linear scale with values from 0 to 2,800\" aria-roledescription=\"axis\" class=\"mark-group role-axis\" role=\"graphics-symbol\"><g transform=\"translate(0.5,0.5)\"><path aria-hidden=\"true\" class=\"background\" d=\"M0,0h0v0h0Z\" pointer-events=\"none\"/><g><g class=\"mark-rule role-axis-tick\" pointer-events=\"none\"><line opacity=\"1\" stroke=\"#888\" stroke-width=\"1\" transform=\"translate(0,200)\" x2=\"-5\" y2=\"0\"/><line opacity=\"1\" stroke=\"#888\" stroke-width=\"1\" transform=\"translate(0,164)\" x2=\"-5\" y2=\"0\"/><line opacity=\"1\" stroke=\"#888\" stroke-width=\"1\" transform=\"translate(0,129)\" x2=\"-5\" y2=\"0\"/><line opacity=\"1\" stroke=\"#888\" stroke-width=\"1\" transform=\"translate(0,93)\" x2=\"-5\" y2=\"0\"/><line opacity=\"1\" stroke=\"#888\" stroke-width=\"1\" transform=\"translate(0,57)\" x2=\"-5\" y2=\"0\"/><line opacity=\"1\" stroke=\"#888\" stroke-width=\"1\" transform=\"translate(0,21)\" x2=\"-5\" y2=\"0\"/></g><g class=\"mark-text role-axis-label\" pointer-events=\"none\"><text fill=\"#000\" font-family=\"sans-serif\" font-size=\"10px\" opacity=\"1\" text-anchor=\"end\" transform=\"translate(-7,203)\">0</text><text fill=\"#000\" font-family=\"sans-serif\" font-size=\"10px\" opacity=\"1\" text-anchor=\"end\" transform=\"translate(-7,167.28571428571428)\">500</text><text fill=\"#000\" font-family=\"sans-serif\" font-size=\"10px\" opacity=\"1\" text-anchor=\"end\" transform=\"translate(-7,131.57142857142856)\">1,000</text><text fill=\"#000\" font-family=\"sans-serif\" font-size=\"10px\" opacity=\"1\" text-anchor=\"end\" transform=\"translate(-7,95.85714285714286)\">1,500</text><text fill=\"#000\" font-family=\"sans-serif\" font-size=\"10px\" opacity=\"1\" text-anchor=\"end\" transform=\"translate(-7,60.14285714285714)\">2,000</text><text fill=\"#000\" font-family=\"sans-serif\" font-size=\"10px\" opacity=\"1\" text-anchor=\"end\" transform=\"translate(-7,24.42857142857142)\">2,500</text></g><g class=\"mark-rule role-axis-domain\" pointer-events=\"none\"><line opacity=\"1\" stroke=\"#888\" stroke-opacity=\"0.4\" stroke-width=\"1\" transform=\"translate(0,200)\" x2=\"0\" y2=\"-200\"/></g><g class=\"mark-text role-axis-title\" pointer-events=\"none\"><text fill=\"#000\" font-family=\"sans-serif\" font-size=\"11px\" font-weight=\"bold\" opacity=\"1\" text-anchor=\"middle\" transform=\"translate(-38,100) rotate(-90) translate(0,-2)\">7-day avg</text></g></g><path aria-hidden=\"true\" class=\"foreground\" d=\"\" display=\"none\" pointer-events=\"none\"/></g></g><g aria-roledescription=\"line mark container\" class=\"mark-line role-mark concat_0_marks\" role=\"graphics-object\"><path aria-label=\"date: 4/15; 7-day avg: 1112.71428571\" aria-roledescription=\"line mark\" d=\"M0,120.5204081632653L5,118.70408163265307L10,117.59183673469389L15,110.35714285714286L20,111.87755102040815L25,100.45918367346938L30,96.84693877551021L35,91.24489795918367L40,78.73469387755101L45,75.53061224489794L50,78.80612244897958L55,76.25510204081634L60,84.89795918367346L65,90.82653061224491L70,83.64285714285715L75,92.15306122448979L80,91.11224489795919L85,87.96938775510206L90,84.23469387755102L95,88.59183673469386L100,74.57142857142858L105,78.8877551020408L110,77.36734693877551L115,80.07142857142857L120,65.19387755102042L125,70.43877551020408L130,62.806122448979586L135,72.22448979591836L140,75.69387755102042L145,70.1734693877551L150,68.22448979591837L155,75.84693877551021L160,71.77551020408164L165,76.24489795918367L170,69.6530612244898L175,65.31632653061223L180,65.71428571428572L185,61.64285714285713L190,59.04081632653062L195,58.632653061224495L200,47.5204081632653L205,40.45918367346939L210,46.397959183673464L215,38.9591836734694L220,32.9591836734694L225,22.897959183673457L230,17.03061224489797L235,12.928571428571423L240,18.08163265306124L245,13.285714285714278L250,12.704081632653041\" role=\"graphics-symbol\" stroke=\"#0A4C6A\" stroke-width=\"2\"/></g><g class=\"mark-group role-title\"><g transform=\"translate(125,-14)\"><path aria-hidden=\"true\" class=\"background\" d=\"M0,0h0v0h0Z\" pointer-events=\"none\"/><g><g aria-label=\"Title text 'California: New Cases'\" aria-roledescription=\"title\" class=\"mark-text role-title-text\" pointer-events=\"none\" role=\"graphics-symbol\"><text fill=\"black\" font-family=\"Arial\" font-size=\"10px\" font-weight=\"bold\" opacity=\"1\" text-anchor=\"middle\" transform=\"translate(0,8)\">California: New Cases</text></g></g><path aria-hidden=\"true\" class=\"foreground\" d=\"\" display=\"none\" pointer-events=\"none\"/></g></g></g><path aria-hidden=\"true\" class=\"foreground\" d=\"\" display=\"none\"/></g></g><g aria-roledescription=\"group mark container\" class=\"mark-group role-scope concat_1_group\" role=\"graphics-object\"><g transform=\"translate(307,0)\"><path aria-hidden=\"true\" class=\"background\" d=\"M0.5,0.5h250v200h-250Z\" stroke=\"#ddd\" stroke-opacity=\"0\"/><g><g aria-hidden=\"true\" class=\"mark-group role-axis\"><g transform=\"translate(0.5,200.5)\"><path aria-hidden=\"true\" class=\"background\" d=\"M0,0h0v0h0Z\" pointer-events=\"none\"/><g><g class=\"mark-rule role-axis-grid\" pointer-events=\"none\"><line opacity=\"1\" stroke=\"#ddd\" stroke-opacity=\"0.4\" stroke-width=\"1\" transform=\"translate(0,-200)\" x2=\"0\" y2=\"200\"/><line opacity=\"1\" stroke=\"#ddd\" stroke-opacity=\"0.4\" stroke-width=\"1\" transform=\"translate(35,-200)\" x2=\"0\" y2=\"200\"/><line opacity=\"1\" stroke=\"#ddd\" stroke-opacity=\"0.4\" stroke-width=\"1\" transform=\"translate(70,-200)\" x2=\"0\" y2=\"200\"/><line opacity=\"1\" stroke=\"#ddd\" stroke-opacity=\"0.4\" stroke-width=\"1\" transform=\"translate(105,-200)\" x2=\"0\" y2=\"200\"/><line opacity=\"1\" stroke=\"#ddd\" stroke-opacity=\"0.4\" stroke-width=\"1\" transform=\"translate(140,-200)\" x2=\"0\" y2=\"200\"/><line opacity=\"1\" stroke=\"#ddd\" stroke-opacity=\"0.4\" stroke-width=\"1\" transform=\"translate(175,-200)\" x2=\"0\" y2=\"200\"/><line opacity=\"1\" stroke=\"#ddd\" stroke-opacity=\"0.4\" stroke-width=\"1\" transform=\"translate(210,-200)\" x2=\"0\" y2=\"200\"/><line opacity=\"1\" stroke=\"#ddd\" stroke-opacity=\"0.4\" stroke-width=\"1\" transform=\"translate(245,-200)\" x2=\"0\" y2=\"200\"/></g></g><path aria-hidden=\"true\" class=\"foreground\" d=\"\" display=\"none\" pointer-events=\"none\"/></g></g><g aria-hidden=\"true\" class=\"mark-group role-axis\"><g transform=\"translate(0.5,0.5)\"><path aria-hidden=\"true\" class=\"background\" d=\"M0,0h0v0h0Z\" pointer-events=\"none\"/><g><g class=\"mark-rule role-axis-grid\" pointer-events=\"none\"><line opacity=\"1\" stroke=\"#ddd\" stroke-opacity=\"0.4\" stroke-width=\"1\" transform=\"translate(0,200)\" x2=\"250\" y2=\"0\"/><line opacity=\"1\" stroke=\"#ddd\" stroke-opacity=\"0.4\" stroke-width=\"1\" transform=\"translate(0,156)\" x2=\"250\" y2=\"0\"/><line opacity=\"1\" stroke=\"#ddd\" stroke-opacity=\"0.4\" stroke-width=\"1\" transform=\"translate(0,111)\" x2=\"250\" y2=\"0\"/><line opacity=\"1\" stroke=\"#ddd\" stroke-opacity=\"0.4\" stroke-width=\"1\" transform=\"translate(0,67)\" x2=\"250\" y2=\"0\"/><line opacity=\"1\" stroke=\"#ddd\" stroke-opacity=\"0.4\" stroke-width=\"1\" transform=\"translate(0,22)\" x2=\"250\" y2=\"0\"/></g></g><path aria-hidden=\"true\" class=\"foreground\" d=\"\" display=\"none\" pointer-events=\"none\"/></g></g><g aria-label=\"X-axis titled 'date' for a time scale with values from 4/15 to 6/4\" aria-roledescription=\"axis\" class=\"mark-group role-axis\" role=\"graphics-symbol\"><g transform=\"translate(0.5,200.5)\"><path aria-hidden=\"true\" class=\"background\" d=\"M0,0h0v0h0Z\" pointer-events=\"none\"/><g><g class=\"mark-rule role-axis-tick\" pointer-events=\"none\"><line opacity=\"1\" stroke=\"#888\" stroke-width=\"1\" transform=\"translate(0,0)\" x2=\"0\" y2=\"5\"/><line opacity=\"1\" stroke=\"#888\" stroke-width=\"1\" transform=\"translate(35,0)\" x2=\"0\" y2=\"5\"/><line opacity=\"1\" stroke=\"#888\" stroke-width=\"1\" transform=\"translate(70,0)\" x2=\"0\" y2=\"5\"/><line opacity=\"1\" stroke=\"#888\" stroke-width=\"1\" transform=\"translate(105,0)\" x2=\"0\" y2=\"5\"/><line opacity=\"1\" stroke=\"#888\" stroke-width=\"1\" transform=\"translate(140,0)\" x2=\"0\" y2=\"5\"/><line opacity=\"1\" stroke=\"#888\" stroke-width=\"1\" transform=\"translate(175,0)\" x2=\"0\" y2=\"5\"/><line opacity=\"1\" stroke=\"#888\" stroke-width=\"1\" transform=\"translate(210,0)\" x2=\"0\" y2=\"5\"/><line opacity=\"1\" stroke=\"#888\" stroke-width=\"1\" transform=\"translate(245,0)\" x2=\"0\" y2=\"5\"/></g><g class=\"mark-text role-axis-label\" pointer-events=\"none\"><text fill=\"#000\" font-family=\"sans-serif\" font-size=\"10px\" opacity=\"1\" text-anchor=\"start\" transform=\"translate(0,15)\">4/15</text><text fill=\"#000\" font-family=\"sans-serif\" font-size=\"10px\" opacity=\"1\" text-anchor=\"middle\" transform=\"translate(35,15)\">4/22</text><text fill=\"#000\" font-family=\"sans-serif\" font-size=\"10px\" opacity=\"1\" text-anchor=\"middle\" transform=\"translate(70,15)\">4/29</text><text fill=\"#000\" font-family=\"sans-serif\" font-size=\"10px\" opacity=\"1\" text-anchor=\"middle\" transform=\"translate(105,15)\">5/6</text><text fill=\"#000\" font-family=\"sans-serif\" font-size=\"10px\" opacity=\"1\" text-anchor=\"middle\" transform=\"translate(140,15)\">5/13</text><text fill=\"#000\" font-family=\"sans-serif\" font-size=\"10px\" opacity=\"1\" text-anchor=\"middle\" transform=\"translate(175,15)\">5/20</text><text fill=\"#000\" font-family=\"sans-serif\" font-size=\"10px\" opacity=\"1\" text-anchor=\"middle\" transform=\"translate(210,15)\">5/27</text><text fill=\"#000\" font-family=\"sans-serif\" font-size=\"10px\" opacity=\"1\" text-anchor=\"middle\" transform=\"translate(245,15)\">6/3</text></g><g class=\"mark-rule role-axis-domain\" pointer-events=\"none\"><line opacity=\"1\" stroke=\"#888\" stroke-opacity=\"0.4\" stroke-width=\"1\" transform=\"translate(0,0)\" x2=\"250\" y2=\"0\"/></g><g class=\"mark-text role-axis-title\" pointer-events=\"none\"><text fill=\"#000\" font-family=\"sans-serif\" font-size=\"11px\" font-weight=\"bold\" opacity=\"1\" text-anchor=\"middle\" transform=\"translate(125,30)\">date</text></g></g><path aria-hidden=\"true\" class=\"foreground\" d=\"\" display=\"none\" pointer-events=\"none\"/></g></g><g aria-label=\"Y-axis titled '7-day avg' for a linear scale with values from 0 to 90\" aria-roledescription=\"axis\" class=\"mark-group role-axis\" role=\"graphics-symbol\"><g transform=\"translate(0.5,0.5)\"><path aria-hidden=\"true\" class=\"background\" d=\"M0,0h0v0h0Z\" pointer-events=\"none\"/><g><g class=\"mark-rule role-axis-tick\" pointer-events=\"none\"><line opacity=\"1\" stroke=\"#888\" stroke-width=\"1\" transform=\"translate(0,200)\" x2=\"-5\" y2=\"0\"/><line opacity=\"1\" stroke=\"#888\" stroke-width=\"1\" transform=\"translate(0,156)\" x2=\"-5\" y2=\"0\"/><line opacity=\"1\" stroke=\"#888\" stroke-width=\"1\" transform=\"translate(0,111)\" x2=\"-5\" y2=\"0\"/><line opacity=\"1\" stroke=\"#888\" stroke-width=\"1\" transform=\"translate(0,67)\" x2=\"-5\" y2=\"0\"/><line opacity=\"1\" stroke=\"#888\" stroke-width=\"1\" transform=\"translate(0,22)\" x2=\"-5\" y2=\"0\"/></g><g class=\"mark-text role-axis-label\" pointer-events=\"none\"><text fill=\"#000\" font-family=\"sans-serif\" font-size=\"10px\" opacity=\"1\" text-anchor=\"end\" transform=\"translate(-7,203)\">0</text><text fill=\"#000\" font-family=\"sans-serif\" font-size=\"10px\" opacity=\"1\" text-anchor=\"end\" transform=\"translate(-7,158.55555555555557)\">20</text><text fill=\"#000\" font-family=\"sans-serif\" font-size=\"10px\" opacity=\"1\" text-anchor=\"end\" transform=\"translate(-7,114.11111111111111)\">40</text><text fill=\"#000\" font-family=\"sans-serif\" font-size=\"10px\" opacity=\"1\" text-anchor=\"end\" transform=\"translate(-7,69.66666666666667)\">60</text><text fill=\"#000\" font-family=\"sans-serif\" font-size=\"10px\" opacity=\"1\" text-anchor=\"end\" transform=\"translate(-7,25.222222222222232)\">80</text></g><g class=\"mark-rule role-axis-domain\" pointer-events=\"none\"><line opacity=\"1\" stroke=\"#888\" stroke-opacity=\"0.4\" stroke-width=\"1\" transform=\"translate(0,200)\" x2=\"0\" y2=\"-200\"/></g><g class=\"mark-text role-axis-title\" pointer-events=\"none\"><text fill=\"#000\" font-family=\"sans-serif\" font-size=\"11px\" font-weight=\"bold\" opacity=\"1\" text-anchor=\"middle\" transform=\"translate(-23,100) rotate(-90) translate(0,-2)\">7-day avg</text></g></g><path aria-hidden=\"true\" class=\"foreground\" d=\"\" display=\"none\" pointer-events=\"none\"/></g></g><g aria-roledescription=\"line mark container\" class=\"mark-line role-mark concat_1_marks\" role=\"graphics-object\"><path aria-label=\"date: 4/15; 7-day avg: 52.1428571429\" aria-roledescription=\"line mark\" d=\"M0,84.12698412698411L5,69.2063492063492L10,55.87301587301587L15,29.841269841269845L20,29.52380952380953L25,37.77777777777778L30,36.50793650793651L35,21.904761904761916L40,16.82539682539681L45,14.603174603174596L50,25.71428571428571L55,26.031746031746028L60,24.12698412698413L65,15.238095238095251L70,33.33333333333333L75,41.90476190476191L80,39.6825396825397L85,44.12698412698413L90,44.12698412698413L95,41.587301587301575L100,35.87301587301586L105,35.555555555555564L110,39.99999999999999L115,45.39682539682539L120,39.047619047619044L125,41.26984126984126L130,40.95238095238096L135,41.90476190476191L140,43.492063492063494L145,35.87301587301586L150,33.96825396825398L155,34.603174603174594L160,33.650793650793645L165,41.26984126984126L170,33.650793650793645L175,28.57142857142858L180,31.428571428571427L185,32.06349206349206L190,32.06349206349206L195,37.142857142857125L200,44.76190476190476L205,68.25396825396825L210,73.96825396825398L215,69.84126984126983L220,69.2063492063492L225,70.79365079365078L230,66.98412698412699L235,57.460317460317476L240,45.39682539682539L245,47.61904761904763L250,56.82539682539682\" role=\"graphics-symbol\" stroke=\"#1696D2\" stroke-width=\"2\"/></g><g class=\"mark-group role-title\"><g transform=\"translate(125,-14)\"><path aria-hidden=\"true\" class=\"background\" d=\"M0,0h0v0h0Z\" pointer-events=\"none\"/><g><g aria-label=\"Title text 'California: New Deaths'\" aria-roledescription=\"title\" class=\"mark-text role-title-text\" pointer-events=\"none\" role=\"graphics-symbol\"><text fill=\"black\" font-family=\"Arial\" font-size=\"10px\" font-weight=\"bold\" opacity=\"1\" text-anchor=\"middle\" transform=\"translate(0,8)\">California: New Deaths</text></g></g><path aria-hidden=\"true\" class=\"foreground\" d=\"\" display=\"none\" pointer-events=\"none\"/></g></g></g><path aria-hidden=\"true\" class=\"foreground\" d=\"\" display=\"none\"/></g></g></g><path aria-hidden=\"true\" class=\"foreground\" d=\"\" display=\"none\"/></g></g></g></svg>"
      ],
      "text/plain": [
       "<IPython.core.display.SVG object>"
      ]
     },
     "metadata": {},
     "output_type": "display_data"
    },
    {
     "data": {
      "image/svg+xml": [
       "<svg class=\"marks\" height=\"256\" version=\"1.1\" viewBox=\"0 0 639 256\" width=\"639\" xmlns=\"http://www.w3.org/2000/svg\" xmlns:xlink=\"http://www.w3.org/1999/xlink\"><rect fill=\"white\" height=\"256\" width=\"639\"/><g fill=\"none\" stroke-miterlimit=\"10\" transform=\"translate(54,19)\"><g aria-roledescription=\"group mark container\" class=\"mark-group role-frame root\" role=\"graphics-object\"><g transform=\"translate(0,0)\"><path aria-hidden=\"true\" class=\"background\" d=\"M0,0h0v200h0Z\"/><g><g aria-roledescription=\"group mark container\" class=\"mark-group role-scope concat_0_group\" role=\"graphics-object\"><g transform=\"translate(0,0)\"><path aria-hidden=\"true\" class=\"background\" d=\"M0.5,0.5h250v200h-250Z\" stroke=\"#ddd\" stroke-opacity=\"0\"/><g><g aria-hidden=\"true\" class=\"mark-group role-axis\"><g transform=\"translate(0.5,200.5)\"><path aria-hidden=\"true\" class=\"background\" d=\"M0,0h0v0h0Z\" pointer-events=\"none\"/><g><g class=\"mark-rule role-axis-grid\" pointer-events=\"none\"><line opacity=\"1\" stroke=\"#ddd\" stroke-opacity=\"0.4\" stroke-width=\"1\" transform=\"translate(0,-200)\" x2=\"0\" y2=\"200\"/><line opacity=\"1\" stroke=\"#ddd\" stroke-opacity=\"0.4\" stroke-width=\"1\" transform=\"translate(35,-200)\" x2=\"0\" y2=\"200\"/><line opacity=\"1\" stroke=\"#ddd\" stroke-opacity=\"0.4\" stroke-width=\"1\" transform=\"translate(70,-200)\" x2=\"0\" y2=\"200\"/><line opacity=\"1\" stroke=\"#ddd\" stroke-opacity=\"0.4\" stroke-width=\"1\" transform=\"translate(105,-200)\" x2=\"0\" y2=\"200\"/><line opacity=\"1\" stroke=\"#ddd\" stroke-opacity=\"0.4\" stroke-width=\"1\" transform=\"translate(140,-200)\" x2=\"0\" y2=\"200\"/><line opacity=\"1\" stroke=\"#ddd\" stroke-opacity=\"0.4\" stroke-width=\"1\" transform=\"translate(175,-200)\" x2=\"0\" y2=\"200\"/><line opacity=\"1\" stroke=\"#ddd\" stroke-opacity=\"0.4\" stroke-width=\"1\" transform=\"translate(210,-200)\" x2=\"0\" y2=\"200\"/><line opacity=\"1\" stroke=\"#ddd\" stroke-opacity=\"0.4\" stroke-width=\"1\" transform=\"translate(245,-200)\" x2=\"0\" y2=\"200\"/></g></g><path aria-hidden=\"true\" class=\"foreground\" d=\"\" display=\"none\" pointer-events=\"none\"/></g></g><g aria-hidden=\"true\" class=\"mark-group role-axis\"><g transform=\"translate(0.5,0.5)\"><path aria-hidden=\"true\" class=\"background\" d=\"M0,0h0v0h0Z\" pointer-events=\"none\"/><g><g class=\"mark-rule role-axis-grid\" pointer-events=\"none\"><line opacity=\"1\" stroke=\"#ddd\" stroke-opacity=\"0.4\" stroke-width=\"1\" transform=\"translate(0,200)\" x2=\"250\" y2=\"0\"/><line opacity=\"1\" stroke=\"#ddd\" stroke-opacity=\"0.4\" stroke-width=\"1\" transform=\"translate(0,138)\" x2=\"250\" y2=\"0\"/><line opacity=\"1\" stroke=\"#ddd\" stroke-opacity=\"0.4\" stroke-width=\"1\" transform=\"translate(0,75)\" x2=\"250\" y2=\"0\"/><line opacity=\"1\" stroke=\"#ddd\" stroke-opacity=\"0.4\" stroke-width=\"1\" transform=\"translate(0,13)\" x2=\"250\" y2=\"0\"/></g></g><path aria-hidden=\"true\" class=\"foreground\" d=\"\" display=\"none\" pointer-events=\"none\"/></g></g><g aria-label=\"X-axis titled 'date' for a time scale with values from 4/15 to 6/4\" aria-roledescription=\"axis\" class=\"mark-group role-axis\" role=\"graphics-symbol\"><g transform=\"translate(0.5,200.5)\"><path aria-hidden=\"true\" class=\"background\" d=\"M0,0h0v0h0Z\" pointer-events=\"none\"/><g><g class=\"mark-rule role-axis-tick\" pointer-events=\"none\"><line opacity=\"1\" stroke=\"#888\" stroke-width=\"1\" transform=\"translate(0,0)\" x2=\"0\" y2=\"5\"/><line opacity=\"1\" stroke=\"#888\" stroke-width=\"1\" transform=\"translate(35,0)\" x2=\"0\" y2=\"5\"/><line opacity=\"1\" stroke=\"#888\" stroke-width=\"1\" transform=\"translate(70,0)\" x2=\"0\" y2=\"5\"/><line opacity=\"1\" stroke=\"#888\" stroke-width=\"1\" transform=\"translate(105,0)\" x2=\"0\" y2=\"5\"/><line opacity=\"1\" stroke=\"#888\" stroke-width=\"1\" transform=\"translate(140,0)\" x2=\"0\" y2=\"5\"/><line opacity=\"1\" stroke=\"#888\" stroke-width=\"1\" transform=\"translate(175,0)\" x2=\"0\" y2=\"5\"/><line opacity=\"1\" stroke=\"#888\" stroke-width=\"1\" transform=\"translate(210,0)\" x2=\"0\" y2=\"5\"/><line opacity=\"1\" stroke=\"#888\" stroke-width=\"1\" transform=\"translate(245,0)\" x2=\"0\" y2=\"5\"/></g><g class=\"mark-text role-axis-label\" pointer-events=\"none\"><text fill=\"#000\" font-family=\"sans-serif\" font-size=\"10px\" opacity=\"1\" text-anchor=\"start\" transform=\"translate(0,15)\">4/15</text><text fill=\"#000\" font-family=\"sans-serif\" font-size=\"10px\" opacity=\"1\" text-anchor=\"middle\" transform=\"translate(35,15)\">4/22</text><text fill=\"#000\" font-family=\"sans-serif\" font-size=\"10px\" opacity=\"1\" text-anchor=\"middle\" transform=\"translate(70,15)\">4/29</text><text fill=\"#000\" font-family=\"sans-serif\" font-size=\"10px\" opacity=\"1\" text-anchor=\"middle\" transform=\"translate(105,15)\">5/6</text><text fill=\"#000\" font-family=\"sans-serif\" font-size=\"10px\" opacity=\"1\" text-anchor=\"middle\" transform=\"translate(140,15)\">5/13</text><text fill=\"#000\" font-family=\"sans-serif\" font-size=\"10px\" opacity=\"1\" text-anchor=\"middle\" transform=\"translate(175,15)\">5/20</text><text fill=\"#000\" font-family=\"sans-serif\" font-size=\"10px\" opacity=\"1\" text-anchor=\"middle\" transform=\"translate(210,15)\">5/27</text><text fill=\"#000\" font-family=\"sans-serif\" font-size=\"10px\" opacity=\"1\" text-anchor=\"middle\" transform=\"translate(245,15)\">6/3</text></g><g class=\"mark-rule role-axis-domain\" pointer-events=\"none\"><line opacity=\"1\" stroke=\"#888\" stroke-opacity=\"0.4\" stroke-width=\"1\" transform=\"translate(0,0)\" x2=\"250\" y2=\"0\"/></g><g class=\"mark-text role-axis-title\" pointer-events=\"none\"><text fill=\"#000\" font-family=\"sans-serif\" font-size=\"11px\" font-weight=\"bold\" opacity=\"1\" text-anchor=\"middle\" transform=\"translate(125,30)\">date</text></g></g><path aria-hidden=\"true\" class=\"foreground\" d=\"\" display=\"none\" pointer-events=\"none\"/></g></g><g aria-label=\"Y-axis titled '7-day avg' for a linear scale with values from 0 to 1,600\" aria-roledescription=\"axis\" class=\"mark-group role-axis\" role=\"graphics-symbol\"><g transform=\"translate(0.5,0.5)\"><path aria-hidden=\"true\" class=\"background\" d=\"M0,0h0v0h0Z\" pointer-events=\"none\"/><g><g class=\"mark-rule role-axis-tick\" pointer-events=\"none\"><line opacity=\"1\" stroke=\"#888\" stroke-width=\"1\" transform=\"translate(0,200)\" x2=\"-5\" y2=\"0\"/><line opacity=\"1\" stroke=\"#888\" stroke-width=\"1\" transform=\"translate(0,138)\" x2=\"-5\" y2=\"0\"/><line opacity=\"1\" stroke=\"#888\" stroke-width=\"1\" transform=\"translate(0,75)\" x2=\"-5\" y2=\"0\"/><line opacity=\"1\" stroke=\"#888\" stroke-width=\"1\" transform=\"translate(0,13)\" x2=\"-5\" y2=\"0\"/></g><g class=\"mark-text role-axis-label\" pointer-events=\"none\"><text fill=\"#000\" font-family=\"sans-serif\" font-size=\"10px\" opacity=\"1\" text-anchor=\"end\" transform=\"translate(-7,203)\">0</text><text fill=\"#000\" font-family=\"sans-serif\" font-size=\"10px\" opacity=\"1\" text-anchor=\"end\" transform=\"translate(-7,140.5)\">500</text><text fill=\"#000\" font-family=\"sans-serif\" font-size=\"10px\" opacity=\"1\" text-anchor=\"end\" transform=\"translate(-7,78)\">1,000</text><text fill=\"#000\" font-family=\"sans-serif\" font-size=\"10px\" opacity=\"1\" text-anchor=\"end\" transform=\"translate(-7,15.5)\">1,500</text></g><g class=\"mark-rule role-axis-domain\" pointer-events=\"none\"><line opacity=\"1\" stroke=\"#888\" stroke-opacity=\"0.4\" stroke-width=\"1\" transform=\"translate(0,200)\" x2=\"0\" y2=\"-200\"/></g><g class=\"mark-text role-axis-title\" pointer-events=\"none\"><text fill=\"#000\" font-family=\"sans-serif\" font-size=\"11px\" font-weight=\"bold\" opacity=\"1\" text-anchor=\"middle\" transform=\"translate(-38,100) rotate(-90) translate(0,-2)\">7-day avg</text></g></g><path aria-hidden=\"true\" class=\"foreground\" d=\"\" display=\"none\" pointer-events=\"none\"/></g></g><g aria-roledescription=\"line mark container\" class=\"mark-line role-mark concat_0_marks\" role=\"graphics-object\"><path aria-label=\"date: 4/15; 7-day avg: 474\" aria-roledescription=\"line mark\" d=\"M0,140.75L5,142.05357142857142L10,140.7142857142857L15,130.30357142857142L20,132.0357142857143L25,114.58928571428571L30,101.82142857142857L35,87.375L40,73.48214285714285L45,66.26785714285714L50,65.625L55,63.142857142857146L60,74.10714285714286L65,87.44642857142857L70,83.26785714285714L75,88.41071428571429L80,85.55357142857143L85,85.21428571428571L90,78.55357142857142L95,84.01785714285714L100,64.96428571428572L105,76.2142857142857L110,75.17857142857143L115,79.28571428571429L120,73.37499999999999L125,79.23214285714286L130,79L135,90.99999999999999L140,81.82142857142858L145,79.3392857142857L150,77.10714285714286L155,75.69642857142857L160,71.75L165,73.71428571428571L170,70.35714285714285L175,68.75L180,65.75L185,64.82142857142858L190,62.57142857142859L195,57.74999999999999L200,46.428571428571416L205,33.03571428571428L210,43.392857142857146L215,44.17857142857142L220,28.750000000000007L225,11.285714285714278L230,5.196428571428591L235,3.6964285714285783L240,14.821428571428585L245,11.928571428571422L250,5.875000000000008\" role=\"graphics-symbol\" stroke=\"#0A4C6A\" stroke-width=\"2\"/></g><g class=\"mark-group role-title\"><g transform=\"translate(125,-14)\"><path aria-hidden=\"true\" class=\"background\" d=\"M0,0h0v0h0Z\" pointer-events=\"none\"/><g><g aria-label=\"Title text 'Los Angeles-Long Beach-Anaheim, CA MSA: New Cases'\" aria-roledescription=\"title\" class=\"mark-text role-title-text\" pointer-events=\"none\" role=\"graphics-symbol\"><text fill=\"black\" font-family=\"Arial\" font-size=\"10px\" font-weight=\"bold\" opacity=\"1\" text-anchor=\"middle\" transform=\"translate(0,8)\">Los Angeles-Long Beach-Anaheim, CA MSA: New Cases</text></g></g><path aria-hidden=\"true\" class=\"foreground\" d=\"\" display=\"none\" pointer-events=\"none\"/></g></g></g><path aria-hidden=\"true\" class=\"foreground\" d=\"\" display=\"none\"/></g></g><g aria-roledescription=\"group mark container\" class=\"mark-group role-scope concat_1_group\" role=\"graphics-object\"><g transform=\"translate(316,0)\"><path aria-hidden=\"true\" class=\"background\" d=\"M0.5,0.5h250v200h-250Z\" stroke=\"#ddd\" stroke-opacity=\"0\"/><g><g aria-hidden=\"true\" class=\"mark-group role-axis\"><g transform=\"translate(0.5,200.5)\"><path aria-hidden=\"true\" class=\"background\" d=\"M0,0h0v0h0Z\" pointer-events=\"none\"/><g><g class=\"mark-rule role-axis-grid\" pointer-events=\"none\"><line opacity=\"1\" stroke=\"#ddd\" stroke-opacity=\"0.4\" stroke-width=\"1\" transform=\"translate(0,-200)\" x2=\"0\" y2=\"200\"/><line opacity=\"1\" stroke=\"#ddd\" stroke-opacity=\"0.4\" stroke-width=\"1\" transform=\"translate(35,-200)\" x2=\"0\" y2=\"200\"/><line opacity=\"1\" stroke=\"#ddd\" stroke-opacity=\"0.4\" stroke-width=\"1\" transform=\"translate(70,-200)\" x2=\"0\" y2=\"200\"/><line opacity=\"1\" stroke=\"#ddd\" stroke-opacity=\"0.4\" stroke-width=\"1\" transform=\"translate(105,-200)\" x2=\"0\" y2=\"200\"/><line opacity=\"1\" stroke=\"#ddd\" stroke-opacity=\"0.4\" stroke-width=\"1\" transform=\"translate(140,-200)\" x2=\"0\" y2=\"200\"/><line opacity=\"1\" stroke=\"#ddd\" stroke-opacity=\"0.4\" stroke-width=\"1\" transform=\"translate(175,-200)\" x2=\"0\" y2=\"200\"/><line opacity=\"1\" stroke=\"#ddd\" stroke-opacity=\"0.4\" stroke-width=\"1\" transform=\"translate(210,-200)\" x2=\"0\" y2=\"200\"/><line opacity=\"1\" stroke=\"#ddd\" stroke-opacity=\"0.4\" stroke-width=\"1\" transform=\"translate(245,-200)\" x2=\"0\" y2=\"200\"/></g></g><path aria-hidden=\"true\" class=\"foreground\" d=\"\" display=\"none\" pointer-events=\"none\"/></g></g><g aria-hidden=\"true\" class=\"mark-group role-axis\"><g transform=\"translate(0.5,0.5)\"><path aria-hidden=\"true\" class=\"background\" d=\"M0,0h0v0h0Z\" pointer-events=\"none\"/><g><g class=\"mark-rule role-axis-grid\" pointer-events=\"none\"><line opacity=\"1\" stroke=\"#ddd\" stroke-opacity=\"0.4\" stroke-width=\"1\" transform=\"translate(0,200)\" x2=\"250\" y2=\"0\"/><line opacity=\"1\" stroke=\"#ddd\" stroke-opacity=\"0.4\" stroke-width=\"1\" transform=\"translate(0,164)\" x2=\"250\" y2=\"0\"/><line opacity=\"1\" stroke=\"#ddd\" stroke-opacity=\"0.4\" stroke-width=\"1\" transform=\"translate(0,127)\" x2=\"250\" y2=\"0\"/><line opacity=\"1\" stroke=\"#ddd\" stroke-opacity=\"0.4\" stroke-width=\"1\" transform=\"translate(0,91)\" x2=\"250\" y2=\"0\"/><line opacity=\"1\" stroke=\"#ddd\" stroke-opacity=\"0.4\" stroke-width=\"1\" transform=\"translate(0,55)\" x2=\"250\" y2=\"0\"/><line opacity=\"1\" stroke=\"#ddd\" stroke-opacity=\"0.4\" stroke-width=\"1\" transform=\"translate(0,18)\" x2=\"250\" y2=\"0\"/></g></g><path aria-hidden=\"true\" class=\"foreground\" d=\"\" display=\"none\" pointer-events=\"none\"/></g></g><g aria-label=\"X-axis titled 'date' for a time scale with values from 4/15 to 6/4\" aria-roledescription=\"axis\" class=\"mark-group role-axis\" role=\"graphics-symbol\"><g transform=\"translate(0.5,200.5)\"><path aria-hidden=\"true\" class=\"background\" d=\"M0,0h0v0h0Z\" pointer-events=\"none\"/><g><g class=\"mark-rule role-axis-tick\" pointer-events=\"none\"><line opacity=\"1\" stroke=\"#888\" stroke-width=\"1\" transform=\"translate(0,0)\" x2=\"0\" y2=\"5\"/><line opacity=\"1\" stroke=\"#888\" stroke-width=\"1\" transform=\"translate(35,0)\" x2=\"0\" y2=\"5\"/><line opacity=\"1\" stroke=\"#888\" stroke-width=\"1\" transform=\"translate(70,0)\" x2=\"0\" y2=\"5\"/><line opacity=\"1\" stroke=\"#888\" stroke-width=\"1\" transform=\"translate(105,0)\" x2=\"0\" y2=\"5\"/><line opacity=\"1\" stroke=\"#888\" stroke-width=\"1\" transform=\"translate(140,0)\" x2=\"0\" y2=\"5\"/><line opacity=\"1\" stroke=\"#888\" stroke-width=\"1\" transform=\"translate(175,0)\" x2=\"0\" y2=\"5\"/><line opacity=\"1\" stroke=\"#888\" stroke-width=\"1\" transform=\"translate(210,0)\" x2=\"0\" y2=\"5\"/><line opacity=\"1\" stroke=\"#888\" stroke-width=\"1\" transform=\"translate(245,0)\" x2=\"0\" y2=\"5\"/></g><g class=\"mark-text role-axis-label\" pointer-events=\"none\"><text fill=\"#000\" font-family=\"sans-serif\" font-size=\"10px\" opacity=\"1\" text-anchor=\"start\" transform=\"translate(0,15)\">4/15</text><text fill=\"#000\" font-family=\"sans-serif\" font-size=\"10px\" opacity=\"1\" text-anchor=\"middle\" transform=\"translate(35,15)\">4/22</text><text fill=\"#000\" font-family=\"sans-serif\" font-size=\"10px\" opacity=\"1\" text-anchor=\"middle\" transform=\"translate(70,15)\">4/29</text><text fill=\"#000\" font-family=\"sans-serif\" font-size=\"10px\" opacity=\"1\" text-anchor=\"middle\" transform=\"translate(105,15)\">5/6</text><text fill=\"#000\" font-family=\"sans-serif\" font-size=\"10px\" opacity=\"1\" text-anchor=\"middle\" transform=\"translate(140,15)\">5/13</text><text fill=\"#000\" font-family=\"sans-serif\" font-size=\"10px\" opacity=\"1\" text-anchor=\"middle\" transform=\"translate(175,15)\">5/20</text><text fill=\"#000\" font-family=\"sans-serif\" font-size=\"10px\" opacity=\"1\" text-anchor=\"middle\" transform=\"translate(210,15)\">5/27</text><text fill=\"#000\" font-family=\"sans-serif\" font-size=\"10px\" opacity=\"1\" text-anchor=\"middle\" transform=\"translate(245,15)\">6/3</text></g><g class=\"mark-rule role-axis-domain\" pointer-events=\"none\"><line opacity=\"1\" stroke=\"#888\" stroke-opacity=\"0.4\" stroke-width=\"1\" transform=\"translate(0,0)\" x2=\"250\" y2=\"0\"/></g><g class=\"mark-text role-axis-title\" pointer-events=\"none\"><text fill=\"#000\" font-family=\"sans-serif\" font-size=\"11px\" font-weight=\"bold\" opacity=\"1\" text-anchor=\"middle\" transform=\"translate(125,30)\">date</text></g></g><path aria-hidden=\"true\" class=\"foreground\" d=\"\" display=\"none\" pointer-events=\"none\"/></g></g><g aria-label=\"Y-axis titled '7-day avg' for a linear scale with values from 0 to 55\" aria-roledescription=\"axis\" class=\"mark-group role-axis\" role=\"graphics-symbol\"><g transform=\"translate(0.5,0.5)\"><path aria-hidden=\"true\" class=\"background\" d=\"M0,0h0v0h0Z\" pointer-events=\"none\"/><g><g class=\"mark-rule role-axis-tick\" pointer-events=\"none\"><line opacity=\"1\" stroke=\"#888\" stroke-width=\"1\" transform=\"translate(0,200)\" x2=\"-5\" y2=\"0\"/><line opacity=\"1\" stroke=\"#888\" stroke-width=\"1\" transform=\"translate(0,164)\" x2=\"-5\" y2=\"0\"/><line opacity=\"1\" stroke=\"#888\" stroke-width=\"1\" transform=\"translate(0,127)\" x2=\"-5\" y2=\"0\"/><line opacity=\"1\" stroke=\"#888\" stroke-width=\"1\" transform=\"translate(0,91)\" x2=\"-5\" y2=\"0\"/><line opacity=\"1\" stroke=\"#888\" stroke-width=\"1\" transform=\"translate(0,55)\" x2=\"-5\" y2=\"0\"/><line opacity=\"1\" stroke=\"#888\" stroke-width=\"1\" transform=\"translate(0,18)\" x2=\"-5\" y2=\"0\"/></g><g class=\"mark-text role-axis-label\" pointer-events=\"none\"><text fill=\"#000\" font-family=\"sans-serif\" font-size=\"10px\" opacity=\"1\" text-anchor=\"end\" transform=\"translate(-7,203)\">0</text><text fill=\"#000\" font-family=\"sans-serif\" font-size=\"10px\" opacity=\"1\" text-anchor=\"end\" transform=\"translate(-7,166.63636363636363)\">10</text><text fill=\"#000\" font-family=\"sans-serif\" font-size=\"10px\" opacity=\"1\" text-anchor=\"end\" transform=\"translate(-7,130.27272727272725)\">20</text><text fill=\"#000\" font-family=\"sans-serif\" font-size=\"10px\" opacity=\"1\" text-anchor=\"end\" transform=\"translate(-7,93.90909090909092)\">30</text><text fill=\"#000\" font-family=\"sans-serif\" font-size=\"10px\" opacity=\"1\" text-anchor=\"end\" transform=\"translate(-7,57.54545454545454)\">40</text><text fill=\"#000\" font-family=\"sans-serif\" font-size=\"10px\" opacity=\"1\" text-anchor=\"end\" transform=\"translate(-7,21.181818181818187)\">50</text></g><g class=\"mark-rule role-axis-domain\" pointer-events=\"none\"><line opacity=\"1\" stroke=\"#888\" stroke-opacity=\"0.4\" stroke-width=\"1\" transform=\"translate(0,200)\" x2=\"0\" y2=\"-200\"/></g><g class=\"mark-text role-axis-title\" pointer-events=\"none\"><text fill=\"#000\" font-family=\"sans-serif\" font-size=\"11px\" font-weight=\"bold\" opacity=\"1\" text-anchor=\"middle\" transform=\"translate(-23,100) rotate(-90) translate(0,-2)\">7-day avg</text></g></g><path aria-hidden=\"true\" class=\"foreground\" d=\"\" display=\"none\" pointer-events=\"none\"/></g></g><g aria-roledescription=\"line mark container\" class=\"mark-line role-mark concat_1_marks\" role=\"graphics-object\"><path aria-label=\"date: 4/15; 7-day avg: 30.2857142857\" aria-roledescription=\"line mark\" d=\"M0,89.87012987012987L5,74.28571428571429L10,61.81818181818181L15,20.259740259740244L20,21.298701298701282L25,38.441558441558435L30,35.32467532467534L35,23.89610389610388L40,17.662337662337645L45,12.467532467532472L50,31.168831168831158L55,32.207792207792195L60,28.05194805194806L65,19.220779220779228L70,26.49350649350648L75,32.207792207792195L80,24.415584415584423L85,29.61038961038962L90,29.61038961038962L95,28.05194805194806L100,23.376623376623385L105,26.49350649350648L110,29.61038961038962L115,35.32467532467534L120,29.61038961038962L125,31.6883116883117L130,27.53246753246752L135,39.48051948051947L140,41.038961038961034L145,40.51948051948053L150,46.233766233766225L155,49.35064935064935L160,43.11688311688311L165,53.5064935064935L170,39.99999999999999L175,28.05194805194806L180,24.935064935064922L185,26.49350649350648L190,21.818181818181827L195,29.61038961038962L200,33.24675324675326L205,57.14285714285714L210,61.81818181818181L215,67.53246753246754L220,60.77922077922078L225,63.37662337662338L230,58.70129870129872L235,52.467532467532486L240,32.72727272727274L245,38.96103896103897L250,36.8831168831169\" role=\"graphics-symbol\" stroke=\"#1696D2\" stroke-width=\"2\"/></g><g class=\"mark-group role-title\"><g transform=\"translate(125,-14)\"><path aria-hidden=\"true\" class=\"background\" d=\"M0,0h0v0h0Z\" pointer-events=\"none\"/><g><g aria-label=\"Title text 'Los Angeles-Long Beach-Anaheim, CA MSA: New Deaths'\" aria-roledescription=\"title\" class=\"mark-text role-title-text\" pointer-events=\"none\" role=\"graphics-symbol\"><text fill=\"black\" font-family=\"Arial\" font-size=\"10px\" font-weight=\"bold\" opacity=\"1\" text-anchor=\"middle\" transform=\"translate(0,8)\">Los Angeles-Long Beach-Anaheim, CA MSA: New Deaths</text></g></g><path aria-hidden=\"true\" class=\"foreground\" d=\"\" display=\"none\" pointer-events=\"none\"/></g></g></g><path aria-hidden=\"true\" class=\"foreground\" d=\"\" display=\"none\"/></g></g></g><path aria-hidden=\"true\" class=\"foreground\" d=\"\" display=\"none\"/></g></g></g></svg>"
      ],
      "text/plain": [
       "<IPython.core.display.SVG object>"
      ]
     },
     "metadata": {},
     "output_type": "display_data"
    }
   ],
   "source": [
    "ca = utils.state_case_charts(state_name, start_date)\n",
    "la_msa = utils.msa_case_charts(msa_name, start_date)"
   ]
  },
  {
   "cell_type": "code",
   "execution_count": null,
   "metadata": {},
   "outputs": [],
   "source": []
  }
 ],
 "metadata": {
  "kernelspec": {
   "display_name": "Python 3",
   "language": "python",
   "name": "python3"
  },
  "language_info": {
   "codemirror_mode": {
    "name": "ipython",
    "version": 3
   },
   "file_extension": ".py",
   "mimetype": "text/x-python",
   "name": "python",
   "nbconvert_exporter": "python",
   "pygments_lexer": "ipython3",
   "version": "3.7.6"
  }
 },
 "nbformat": 4,
 "nbformat_minor": 4
}
