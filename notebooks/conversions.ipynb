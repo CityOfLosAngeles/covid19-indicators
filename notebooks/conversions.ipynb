{
 "cells": [
  {
   "cell_type": "markdown",
   "metadata": {},
   "source": [
    "# Work out conversions into standard unit\n",
    "Regions report  NY and Chicago both set benchmarks for testing indicators. The [White House gating criteria](https://www.whitehouse.gov/wp-content/uploads/2020/04/Guidelines-for-Opening-Up-America-Again.pdf) ask for a **robust testing program in place for at-risk healthcare workers, including emerging antibody testing**. It is up to a region to determine what that robust testing program looks like. \n",
    "\n",
    "Other reference articles:\n",
    "* [NYT: Harvard researchers say there should be 152 tests per 100,000 people each day.](https://www.nytimes.com/interactive/2020/04/17/us/coronavirus-testing-states.html)\n",
    "* [Vox: Testing indicators are a prerequisite for reopening.](https://www.vox.com/2020/5/8/21249880/coronavirus-testing-covid-reopening-economy-lockdowns-social-distancing)\n",
    "* [NYT: CA lags in testing.](https://www.nytimes.com/2020/05/18/us/california-testing-for-covid-coronavirus.html)\n",
    "* [Vox: CA's cases still rising despite locking down early ](https://www.vox.com/future-perfect/2020/5/16/21254748/california-coronavirus-cases-lockdown)\n",
    "* [NYT: Chicago and LA have persistent virus spread](https://www.nytimes.com/2020/05/09/us/coronavirus-chicago.html)\n",
    "\n",
    "NY and Chicago have listed their testing benchmarks per month. We want to convert all benchmarks into **the number of tests conducted per 1,000 residents per month**. Population assumptions are below.\n",
    "\n",
    "## Testing Capacity\n",
    "### NY\n",
    "Indicator: 30 tests per 1,000 residents per month\n",
    "<br>Assume: population of 8.4M in NYC\n",
    "<br>Test rate per 1,000 per month: 30 tests per 1,000 residents per month\n",
    "<br>Tests per day and per month: 8,400 tests/day or 252,000 tests/month.\n",
    "\n",
    "### Chicago\n",
    "Indicator: 4,500 tests per day and 135,000 tests per month\n",
    "<br>Assume: population of 2.7M in Chicago\n",
    "<br>Test rate per 1,000 per month: 50 tests per 1,000 residents per month\n",
    "<br>Tests per day and per month: 4,500 tests/day or 135,000 per month\n",
    "\n",
    "### LA\n",
    "The goal is to see whether LA is hitting the daily targets for testing. LA should be testing between what NY and Chicago have set as their average daily testing goals, adjusting for LA County's population of 10 million. **LA needs to be hitting these goals daily until a vaccine is developed.** "
   ]
  },
  {
   "cell_type": "code",
   "execution_count": 1,
   "metadata": {},
   "outputs": [
    {
     "name": "stdout",
     "output_type": "stream",
     "text": [
      "NY tests per month: 252,000\n",
      "NY tests per day: 8,400\n"
     ]
    }
   ],
   "source": [
    "city = \"NY\"\n",
    "nyc_pop = 8_400_000\n",
    "rate_per_1k = 30 / 1_000\n",
    "print(f\"{city} tests per month: {round(nyc_pop * rate_per_1k):,}\")\n",
    "print(f\"{city} tests per day: {round(nyc_pop * rate_per_1k / 30):,}\")"
   ]
  },
  {
   "cell_type": "code",
   "execution_count": 2,
   "metadata": {},
   "outputs": [
    {
     "name": "stdout",
     "output_type": "stream",
     "text": [
      "Chicago tests per month: 135,000\n",
      "Chicago tests per day: 4,500\n"
     ]
    }
   ],
   "source": [
    "city = \"Chicago\"\n",
    "chicago_pop = 2_700_000\n",
    "rate_per_1k = 50 / 1_000\n",
    "print(f\"{city} tests per month: {round(chicago_pop * rate_per_1k):,}\")\n",
    "print(f\"{city} tests per day: {round(chicago_pop * rate_per_1k / 30):,}\")"
   ]
  },
  {
   "cell_type": "code",
   "execution_count": 3,
   "metadata": {},
   "outputs": [
    {
     "name": "stdout",
     "output_type": "stream",
     "text": [
      "LA tests per month (NYC rate): 300,000\n",
      "LA tests per day (NYC rate): 10,000\n",
      "LA tests per month (Chicago rate): 500,000\n",
      "LA tests per day (Chicago rate): 16,667\n",
      "LA tests per month (LA rate): 450,000\n",
      "LA tests per day (LA rate): 15,000\n"
     ]
    }
   ],
   "source": [
    "la_pop = 10_000_000\n",
    "city = \"LA\"\n",
    "\n",
    "nyc_rate = 30 / 1_000\n",
    "chicago_rate = 50 / 1_000\n",
    "la_rate = 45 / 1_000\n",
    "\n",
    "# Let's try LA with NYC's rate and Chicago's rate\n",
    "print(f\"{city} tests per month (NYC rate): {round(la_pop * nyc_rate):,}\")\n",
    "print(f\"{city} tests per day (NYC rate): {round(la_pop * nyc_rate / 30):,}\")\n",
    "print(f\"{city} tests per month (Chicago rate): {round(la_pop * chicago_rate):,}\")\n",
    "print(f\"{city} tests per day (Chicago rate): {round(la_pop * chicago_rate / 30):,}\")\n",
    "print(f\"{city} tests per month (LA rate): {round(la_pop * la_rate):,}\")\n",
    "print(f\"{city} tests per day (LA rate): {round(la_pop * la_rate / 30):,}\")"
   ]
  },
  {
   "cell_type": "markdown",
   "metadata": {},
   "source": [
    "## Hospital Capacity\n",
    "### NY\n",
    "Indicator: 30% of total hospital and ICU beds\n",
    "\n",
    "### Chicago\n",
    "Indicator: Fewer than 1,800 COVID-occupied hospital beds\n",
    "<br>Assume: population of 2.7M in Chicago\n",
    "<br>Fewer than 600 COVID-occupied ICU beds\n",
    "<br>Fewer than 450 COVID-occupied ventilators\n",
    "<br>Assume: population of 2.7M in Chicago\n",
    "<br>Convert this to a bed rate per 100k residents\n",
    "\n",
    "### LA\n",
    "Indicator: 3-day average of ICU beds has not decreased over 14 days and at least 10% is available. 3-day average of ventilators has not decreased over 14 days and at least 20% is available.\n",
    "<br>Assume: population of 10M in LA County, population of 4M in City of LA"
   ]
  },
  {
   "cell_type": "code",
   "execution_count": null,
   "metadata": {},
   "outputs": [],
   "source": []
  },
  {
   "cell_type": "markdown",
   "metadata": {},
   "source": [
    "## Testing benchmarks paired with share of positive cases and hospital capacity\n",
    "A consistent testing of a large share of the population per month by itself is not enough. We must consistently hit the testing benchmarks along with a **share of 4-8% COVID-positive results**, and **have a consistent share of hospital capacity available.**\n",
    "4% is necessary for virus to decrease its spread. 8% is CA's goal. 10% is what experts say is enough for mitigation."
   ]
  },
  {
   "cell_type": "code",
   "execution_count": null,
   "metadata": {},
   "outputs": [],
   "source": []
  },
  {
   "cell_type": "code",
   "execution_count": null,
   "metadata": {},
   "outputs": [],
   "source": []
  }
 ],
 "metadata": {
  "kernelspec": {
   "display_name": "Python 3",
   "language": "python",
   "name": "python3"
  },
  "language_info": {
   "codemirror_mode": {
    "name": "ipython",
    "version": 3
   },
   "file_extension": ".py",
   "mimetype": "text/x-python",
   "name": "python",
   "nbconvert_exporter": "python",
   "pygments_lexer": "ipython3",
   "version": "3.7.6"
  }
 },
 "nbformat": 4,
 "nbformat_minor": 4
}
