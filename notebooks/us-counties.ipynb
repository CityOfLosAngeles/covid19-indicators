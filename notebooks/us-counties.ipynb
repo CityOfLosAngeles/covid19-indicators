{
 "cells": [
  {
   "cell_type": "markdown",
   "metadata": {},
   "source": [
    "# US Counties Coronavirus Cases and Deaths Trends\n",
    "\n",
    "CA's [Blueprint for a Safer Economy](https://www.cdph.ca.gov/Programs/CID/DCDC/Pages/COVID-19/COVID19CountyMonitoringOverview.aspx) assigns each county [to a tier](https://www.cdph.ca.gov/Programs/CID/DCDC/Pages/COVID-19/COVID19CountyMonitoringOverview.aspx) based on case rate and test positivity rate. What's opened / closed [under each tier](https://www.cdph.ca.gov/Programs/CID/DCDC/CDPH%20Document%20Library/COVID-19/Dimmer-Framework-August_2020.pdf).\n",
    "\n",
    "Tiers, from most severe to least severe, categorizes coronavirus spread as <strong><span style='color:#6B1F84'>widespread; </span></strong>\n",
    "<strong><span style='color:#F3324C'>substantial; </span></strong><strong><span style='color:#F7AE1D'>moderate; </span></strong><strong><span style = 'color:#D0E700'>or minimal.</span></strong>\n",
    "\n",
    "We apply CA's tier categories to other US counties to help us understand the severity of the spread. \n",
    "\n",
    "**Related daily reports:** \n",
    "1. **[CA counties report on cases, deaths, and hospitalizations](https://cityoflosangeles.github.io/covid19-indicators/ca-county-trends.html)**\n",
    "1. **[Los Angeles County, detailed indicators](https://cityoflosangeles.github.io/covid19-indicators/coronavirus-stats.html)**\n",
    "1. **[Los Angeles County neighborhoods report on cases and deaths](https://cityoflosangeles.github.io/covid19-indicators/la-neighborhoods-trends.html)**\n",
    "\n",
    "Code available in GitHub: [https://github.com/CityOfLosAngeles/covid19-indicators](https://github.com/CityOfLosAngeles/covid19-indicators)\n",
    "<br>\n",
    "Get informed with [public health research](https://github.com/CityOfLosAngeles/covid19-indicators/blob/master/reopening-sources.md)"
   ]
  },
  {
   "cell_type": "code",
   "execution_count": null,
   "metadata": {},
   "outputs": [],
   "source": [
    "import altair as alt\n",
    "import altair_saver\n",
    "import os\n",
    "import pandas as pd\n",
    "\n",
    "import default_parameters\n",
    "import make_charts\n",
    "import us_county_utils\n",
    "\n",
    "from IPython.display import display_html, Markdown, HTML, Image\n",
    "\n",
    "# Default parameters\n",
    "time_zone = default_parameters.time_zone\n",
    "start_date = default_parameters.start_date\n",
    "today_date = default_parameters.today_date\n",
    "\n",
    "fulldate_format = default_parameters.fulldate_format"
   ]
  },
  {
   "cell_type": "code",
   "execution_count": null,
   "metadata": {},
   "outputs": [],
   "source": [
    "northeast = [\n",
    "    \"Suffolk, MA\", # Boston\n",
    "    \"New York, NY\", \n",
    "    \"Philadelphia, PA\", \n",
    "    \"Allegheny, PA\", # Pittsburg\n",
    "    \n",
    "]\n",
    "\n",
    "midatlantic = [\n",
    "    \"District of Columbia, DC\", \n",
    "    \"Arlington, VA\", \n",
    "    \"Fairfax, VA\",\n",
    "    \"Richmond City, VA\", \n",
    "]\n",
    "\n",
    "midwest = [\n",
    "    \"Cook, IL\", \n",
    "    \"Dane, WI\", # Madison \n",
    "    \"Hamilton, OH\", # Cincinnati\n",
    "    \"Fayette, KY\", # Lexington\n",
    "    \"Hennepin, MN\", # Minneapolis\n",
    "    \"St. Louis, MO\",\n",
    "]\n",
    "\n",
    "southeast = [\n",
    "    \"Mecklenburg, NC\", # Charlotte\n",
    "    \"Richland, SC\", # Columbia\n",
    "    \"Shelby, TN\", # Memphis\n",
    "    \"Davidson, TN\", # Nashville\n",
    "    \"Knox, TN\", # Knoxville\n",
    "    \"Fulton, GA\", # Atlanta\n",
    "    \"Orange, FL\", # Orlando\n",
    "]\n",
    "\n",
    "south = [\n",
    "    \"Travis, TX\", # Austin\n",
    "    \"Dallas, TX\", \n",
    "    \"Harris, TX\", # Houston\n",
    "    \"Oklahoma, OK\", # Oklahoma City\n",
    "]\n",
    "\n",
    "northwest = [\n",
    "    \"Multnomah, OR\", # Portland\n",
    "    \"King, WA\", # Seattle\n",
    "]\n",
    "\n",
    "west = [\n",
    "    \"Maricopa, AZ\", # Phoenix\n",
    "    \"Clark, NV\", # Las Vegas\n",
    "    \"Salt Lake, UT\", # Salt Lake City\n",
    "    \"Denver, CO\",\n",
    "    \"Bernalillo, NM\", # Alberquerque\n",
    "]\n",
    "\n",
    "# Put all states and counties into list\n",
    "include_counties = northeast + midatlantic + midwest + southeast + south + west + northwest\n",
    "\n",
    "# Map counties to major cities\n",
    "major_city_dict = {\n",
    "    # Northeast\n",
    "    'Suffolk, MA': 'Boston',\n",
    "    'New York, NY': 'New York City',\n",
    "    'Philadelphia, PA': 'Philadelphia',\n",
    "    'Allegheny, PA': 'Pittsburgh',\n",
    "    # Mid-Atlantic\n",
    "    'District of Columbia, DC': 'Washington DC',\n",
    "    'Arlington, VA': 'Arlington',\n",
    "    'Fairfax, VA': 'Fairfax',\n",
    "    'Richmond City, VA': 'Richmond',\n",
    "    # Midwest\n",
    "    'Cook, IL': 'Chicago',\n",
    "    'Dane, WI': 'Madison',\n",
    "    'Hamilton, OH': 'Cincinnati',\n",
    "    'Fayette, KY': 'Lexington',\n",
    "    'Hennepin, MN': 'Minneapolis',\n",
    "    'St. Louis, MO': 'St Louis',\n",
    "    # Southeast\n",
    "    'Mecklenburg, NC': 'Charlotte',\n",
    "    'Richland, SC': 'Columbia',\n",
    "    'Shelby, TN': 'Memphis',\n",
    "    'Davidson, TN': 'Nashville',\n",
    "    'Knox, TN': 'Knoxville',\n",
    "    'Fulton, GA': 'Atlanta',\n",
    "    'Orange, FL': 'Orlando',\n",
    "    # South\n",
    "    'Travis, TX': 'Austin',\n",
    "    'Dallas, TX': 'Dallas', \n",
    "    'Harris, TX': 'Houston',\n",
    "    'Oklahoma, OK': 'Oklahoma City',\n",
    "    # Northwest / West\n",
    "    'Multnomah, OR': 'Portland',\n",
    "    'King, WA': 'Seattle',\n",
    "    'Maricopa, AZ': 'Phoenix',\n",
    "    'Clark, NV': 'Las Vegas',\n",
    "    'Salt Lake, UT': 'Salt Lake City',\n",
    "    'Denver, CO': 'Denver',\n",
    "    'Bernalillo, NM': 'Alburquerque',\n",
    "}"
   ]
  },
  {
   "cell_type": "code",
   "execution_count": null,
   "metadata": {},
   "outputs": [],
   "source": [
    "jhu = us_county_utils.clean_jhu(start_date)\n",
    "\n",
    "jhu = jhu.assign(\n",
    "    county_state = jhu.county + \", \" + jhu.state_abbrev\n",
    ")\n",
    "\n",
    "jhu = (jhu[jhu.county_state.isin(include_counties)]\n",
    "      .assign(\n",
    "          major_city = jhu.county_state.map(major_city_dict)\n",
    "      )\n",
    "     )\n",
    "\n",
    "data_through = jhu.date.max()"
   ]
  },
  {
   "cell_type": "code",
   "execution_count": null,
   "metadata": {},
   "outputs": [],
   "source": [
    "display(Markdown(\n",
    "    f\"Report updated: {default_parameters.today_date.strftime(fulldate_format)}; \"\n",
    "    f\"data available through {data_through.strftime(fulldate_format)}\")\n",
    ")"
   ]
  },
  {
   "cell_type": "code",
   "execution_count": null,
   "metadata": {},
   "outputs": [],
   "source": [
    "title_font_size = 9\n",
    "font_name = make_charts.font_name\n",
    "grid_opacity = make_charts.grid_opacity\n",
    "domain_opacity = make_charts.domain_opacity\n",
    "stroke_opacity = make_charts.stroke_opacity\n",
    "chart_width = make_charts.chart_width\n",
    "chart_height = make_charts.chart_height\n",
    "\n",
    "\n",
    "def plot_charts(cases_df, county_state_name):\n",
    "    cases_df = cases_df[cases_df.county_state==county_state_name]\n",
    "    \n",
    "    name = cases_df.county.iloc[0]\n",
    "    STATE = cases_df.state_abbrev.iloc[0]\n",
    "    \n",
    "    cases_chart, deaths_chart = make_charts.setup_cases_deaths_chart(cases_df, \"county\", name)\n",
    "    \n",
    "    chart = (alt.hconcat(cases_chart, deaths_chart)\n",
    "             .configure_title(\n",
    "                 fontSize=title_font_size, font=font_name, anchor=\"middle\", color=\"black\"\n",
    "             ).configure_axis(\n",
    "                 gridOpacity=grid_opacity, domainOpacity=domain_opacity\n",
    "             ).configure_view(strokeOpacity=stroke_opacity)\n",
    "            )\n",
    "    \n",
    "    major_city_name = cases_df.major_city.iloc[0]\n",
    "    display(Markdown(f\"#### {major_city_name} ({county_state_name})\"))\n",
    "    us_county_utils.county_caption(cases_df, name)\n",
    "\n",
    "    make_charts.show_svg(chart)"
   ]
  },
  {
   "cell_type": "code",
   "execution_count": null,
   "metadata": {},
   "outputs": [],
   "source": [
    "display(Markdown(\"<strong>Cases chart, explained</strong>\"))\n",
    "Image(\"../notebooks/chart_parts_explained.png\", width=700)"
   ]
  },
  {
   "cell_type": "markdown",
   "metadata": {},
   "source": [
    "<a id='top'></a>"
   ]
  },
  {
   "cell_type": "markdown",
   "metadata": {},
   "source": [
    "## Select by Major City\n",
    "<strong>Northeast:</strong> [Boston](#Boston), \n",
    "[New York City](#New-York-City), \n",
    "[Philadelphia](#Philadelphia), \n",
    "[Pittsburgh](#Pittsburgh) \n",
    "<br>\n",
    "<strong>Mid-Atlantic: </strong> [Washington DC](#Washington-DC), \n",
    "[Arlington](#Arlington),\n",
    "[Fairfax](#Fairfax),\n",
    "[Richmond](#Richmond)\n",
    "<br>\n",
    "<strong>Midwest:</strong> [Chicago](#Chicago), \n",
    "[Madison](#Madison),\n",
    "[Cincinnati](#Cincinnati), \n",
    "[Lexington](#Lexington),\n",
    "[Minneapolis](#Minneapolis),\n",
    "[St Louis](#St-Louis)\n",
    "<br>\n",
    "<strong>Southeast:</strong> [Charlotte](#Charlotte), \n",
    "[Columbia](#Columbia), \n",
    "[Memphis](#Memphis), \n",
    "[Nashville](#Nashville),\n",
    "[Knoxville](#Knoxville),\n",
    "[Atlanta](#Atlanta),\n",
    "[Orlando](#Orlando)\n",
    "<br>\n",
    "<strong>South: </strong> [Austin](#Austin),\n",
    "[Dallas](#Dallas),\n",
    "[Houston](#Houston),\n",
    "[Oklahoma City](#Oklahoma-City)\n",
    "<br>\n",
    "<strong>West / Northwest:</strong> [Portland](#Portland), \n",
    "[Seattle](#Seattle),\n",
    "[Phoenix](#Phoenix),\n",
    "[Las Vegas](#Las-Vegas),\n",
    "[Salt Lake City](#Salt-Lake-City),\n",
    "[Denver](#Denver),\n",
    "[Alburquerque](#Alburquerque)\n",
    "<br>\n",
    "<strong>California:</strong> [All CA counties](https://cityoflosangeles.github.io/covid19-indicators/ca-county-trends.html)\n",
    "\n",
    "<br>\n",
    "Note for <i>small values</i>: If the 7-day rolling average of new cases or new deaths is under 10, the 7-day rolling average is listed for the past week, rather than a percent change. Given that it is a rolling average, decimals are possible, and are rounded to 1 decimal place. "
   ]
  },
  {
   "cell_type": "code",
   "execution_count": null,
   "metadata": {},
   "outputs": [],
   "source": [
    "def plot_regional_charts(regional_counties_list):\n",
    "    for c in region:\n",
    "        # Map the county_state name into major city\n",
    "        new_name = major_city_dict[c]\n",
    "\n",
    "        # Set the HTML id_anchor\n",
    "        id_anchor = new_name.replace(\" - \", \"-\").replace(\" \", \"-\")\n",
    "        display(HTML(f\"<a id={id_anchor}></a>\"))\n",
    "        \n",
    "        plot_charts(jhu, c)    \n",
    "        display(HTML(\n",
    "            \"<br>\"\n",
    "            \"<a href=#top>Return to top</a><br>\"\n",
    "        ))"
   ]
  },
  {
   "cell_type": "markdown",
   "metadata": {},
   "source": [
    "## Northeast"
   ]
  },
  {
   "cell_type": "code",
   "execution_count": null,
   "metadata": {},
   "outputs": [],
   "source": [
    "region = northeast\n",
    "plot_regional_charts(region)"
   ]
  },
  {
   "cell_type": "markdown",
   "metadata": {},
   "source": [
    "## Mid-Atlantic"
   ]
  },
  {
   "cell_type": "code",
   "execution_count": null,
   "metadata": {},
   "outputs": [],
   "source": [
    "region = midatlantic\n",
    "plot_regional_charts(region)"
   ]
  },
  {
   "cell_type": "markdown",
   "metadata": {},
   "source": [
    "## Midwest"
   ]
  },
  {
   "cell_type": "code",
   "execution_count": null,
   "metadata": {},
   "outputs": [],
   "source": [
    "region = midwest\n",
    "plot_regional_charts(region)"
   ]
  },
  {
   "cell_type": "markdown",
   "metadata": {},
   "source": [
    "## Southeast"
   ]
  },
  {
   "cell_type": "code",
   "execution_count": null,
   "metadata": {},
   "outputs": [],
   "source": [
    "region = southeast\n",
    "plot_regional_charts(region)"
   ]
  },
  {
   "cell_type": "markdown",
   "metadata": {},
   "source": [
    "## South"
   ]
  },
  {
   "cell_type": "code",
   "execution_count": null,
   "metadata": {},
   "outputs": [],
   "source": [
    "region = south\n",
    "plot_regional_charts(region)"
   ]
  },
  {
   "cell_type": "markdown",
   "metadata": {},
   "source": [
    "## Northwest / West"
   ]
  },
  {
   "cell_type": "code",
   "execution_count": null,
   "metadata": {},
   "outputs": [],
   "source": [
    "region = northwest\n",
    "plot_regional_charts(region)"
   ]
  },
  {
   "cell_type": "code",
   "execution_count": null,
   "metadata": {},
   "outputs": [],
   "source": [
    "region = west\n",
    "plot_regional_charts(region)"
   ]
  },
  {
   "cell_type": "markdown",
   "metadata": {},
   "source": [
    "<a id='dc'></a>"
   ]
  }
 ],
 "metadata": {
  "kernelspec": {
   "display_name": "Python 3",
   "language": "python",
   "name": "python3"
  },
  "language_info": {
   "codemirror_mode": {
    "name": "ipython",
    "version": 3
   },
   "file_extension": ".py",
   "mimetype": "text/x-python",
   "name": "python",
   "nbconvert_exporter": "python",
   "pygments_lexer": "ipython3",
   "version": "3.7.8"
  }
 },
 "nbformat": 4,
 "nbformat_minor": 4
}
