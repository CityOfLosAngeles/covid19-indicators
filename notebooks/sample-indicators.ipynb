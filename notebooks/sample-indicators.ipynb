{
 "cells": [
  {
   "cell_type": "markdown",
   "metadata": {},
   "source": [
    "# COVID-19 Reopening / Recovery Indicators \n",
    "\n",
    "* [Federal Gating Criteria](https://www.whitehouse.gov/wp-content/uploads/2020/04/Guidelines-for-Opening-Up-America-Again.pdf)\n",
    "* [State Gating Criteria](https://covid19.ca.gov/roadmap-counties/)\n",
    "* [WHO Testing and Positivity Rate Guidelines](https://coronavirus.jhu.edu/testing/testing-positivity)\n",
    "* More [background articles](https://github.com/CityOfLosAngeles/covid19-indicators/blob/master/reopening-sources.md)\n",
    "* NY, Chicago, LA, and CA indicators [provided in our GitHub](https://github.com/CityOfLosAngeles/covid19-indicators/blob/master/Reopening_Indicators_Comparison.xlsx) \n",
    "\n",
    "This notebook gives helpful hints for working with our COVID-19 data in Jupyter Notebooks. It covers:\n",
    "* How to import CSVs hosted on ESRI\n",
    "* How to use functions `utils.py` to get grab the charts for any US county, state, or MSA.\n",
    "\n",
    "**This notebook needs to be updated...datetime issues with subsetting, only works for 4/15/20 and onward, regardless of what date (string) is put in.**"
   ]
  },
  {
   "cell_type": "code",
   "execution_count": 1,
   "metadata": {},
   "outputs": [],
   "source": [
    "import pandas as pd\n",
    "import utils"
   ]
  },
  {
   "cell_type": "markdown",
   "metadata": {},
   "source": [
    "## Import data from ESRI CSV\n",
    "The [README](https://github.com/CityOfLosAngeles/aqueduct/blob/master/dags/public-health/covid19/README.md#helpful-hints) gave some helpful hints for how to read in CSVs that are hosted by ESRI."
   ]
  },
  {
   "cell_type": "code",
   "execution_count": null,
   "metadata": {},
   "outputs": [],
   "source": [
    "US_COUNTY_URL = \"http://lahub.maps.arcgis.com/sharing/rest/content/items/782ca660304a4bdda1cc9757a2504647/data\"\n",
    "CROSSWALK_URL = (\n",
    "    \"https://raw.githubusercontent.com/CityOfLosAngeles/aqueduct/master/dags/public-health/covid19/\"\n",
    "    \"msa_county_pop_crosswalk.csv\"\n",
    ")"
   ]
  },
  {
   "cell_type": "code",
   "execution_count": null,
   "metadata": {},
   "outputs": [],
   "source": [
    "df = pd.read_csv(US_COUNTY_URL, dtype={\"fips\": \"str\"})\n",
    "df.head(2)"
   ]
  },
  {
   "cell_type": "code",
   "execution_count": null,
   "metadata": {},
   "outputs": [],
   "source": [
    "crosswalk = pd.read_csv(CROSSWALK_URL)\n",
    "crosswalk.head(2)"
   ]
  },
  {
   "cell_type": "markdown",
   "metadata": {},
   "source": [
    "## County indicators for cases and deaths\n",
    "* Uses the `county_case_charts` function within `utils`\n",
    "* 7-day rolling average shown for new cases\n",
    "* 7-day rolling average shown for new deaths \n",
    "\n",
    "The function takes `COUNTY INFORMATION` as a string and `START_DATE` as a datetime variable, and returns the charts and the dataframe used to create the chart.\n",
    "\n",
    "`COUNTY_INFORMATION` takes form of {COUNTY_NAME, STATE_NAME} or {5-digit county FIPS code}:\n",
    "* {COUNTY_NAME}: with our without \" County\" e.g. \"Alameda County\" or \"Alameda\"\n",
    "* {STATE_NAME}: full state name or state abbreviation e.g. \"California\" or \"CA\"\n",
    "* {5-DIGIT COUNTY FIPS CODE}: a [list of county FIPS found here.](https://www.nrcs.usda.gov/wps/portal/nrcs/detail/national/home/?cid=nrcs143_013697) e.g. \"06075\" for San Francisco\n",
    "\n",
    "`START_DATE` takes form of M/D/YY\n",
    "* M: 1-12\n",
    "* D: 1-31\n",
    "* YY: last 2 digits of year"
   ]
  },
  {
   "cell_type": "code",
   "execution_count": 2,
   "metadata": {},
   "outputs": [
    {
     "data": {
      "image/svg+xml": [
       "<svg class=\"marks\" height=\"256\" version=\"1.1\" viewBox=\"0 0 617 256\" width=\"617\" xmlns=\"http://www.w3.org/2000/svg\" xmlns:xlink=\"http://www.w3.org/1999/xlink\"><rect fill=\"white\" height=\"256\" width=\"617\"/><g fill=\"none\" stroke-miterlimit=\"10\" transform=\"translate(54,19)\"><g aria-roledescription=\"group mark container\" class=\"mark-group role-frame root\" role=\"graphics-object\"><g transform=\"translate(0,0)\"><path aria-hidden=\"true\" class=\"background\" d=\"M0,0h0v200h0Z\"/><g><g aria-roledescription=\"group mark container\" class=\"mark-group role-scope concat_0_group\" role=\"graphics-object\"><g transform=\"translate(0,0)\"><path aria-hidden=\"true\" class=\"background\" d=\"M0.5,0.5h250v200h-250Z\" stroke=\"#ddd\" stroke-opacity=\"0\"/><g><g aria-hidden=\"true\" class=\"mark-group role-axis\"><g transform=\"translate(0.5,200.5)\"><path aria-hidden=\"true\" class=\"background\" d=\"M0,0h0v0h0Z\" pointer-events=\"none\"/><g><g class=\"mark-rule role-axis-grid\" pointer-events=\"none\"><line opacity=\"1\" stroke=\"#ddd\" stroke-opacity=\"0.4\" stroke-width=\"1\" transform=\"translate(0,-200)\" x2=\"0\" y2=\"200\"/><line opacity=\"1\" stroke=\"#ddd\" stroke-opacity=\"0.4\" stroke-width=\"1\" transform=\"translate(23,-200)\" x2=\"0\" y2=\"200\"/><line opacity=\"1\" stroke=\"#ddd\" stroke-opacity=\"0.4\" stroke-width=\"1\" transform=\"translate(47,-200)\" x2=\"0\" y2=\"200\"/><line opacity=\"1\" stroke=\"#ddd\" stroke-opacity=\"0.4\" stroke-width=\"1\" transform=\"translate(70,-200)\" x2=\"0\" y2=\"200\"/><line opacity=\"1\" stroke=\"#ddd\" stroke-opacity=\"0.4\" stroke-width=\"1\" transform=\"translate(93,-200)\" x2=\"0\" y2=\"200\"/><line opacity=\"1\" stroke=\"#ddd\" stroke-opacity=\"0.4\" stroke-width=\"1\" transform=\"translate(117,-200)\" x2=\"0\" y2=\"200\"/><line opacity=\"1\" stroke=\"#ddd\" stroke-opacity=\"0.4\" stroke-width=\"1\" transform=\"translate(140,-200)\" x2=\"0\" y2=\"200\"/><line opacity=\"1\" stroke=\"#ddd\" stroke-opacity=\"0.4\" stroke-width=\"1\" transform=\"translate(163,-200)\" x2=\"0\" y2=\"200\"/><line opacity=\"1\" stroke=\"#ddd\" stroke-opacity=\"0.4\" stroke-width=\"1\" transform=\"translate(187,-200)\" x2=\"0\" y2=\"200\"/><line opacity=\"1\" stroke=\"#ddd\" stroke-opacity=\"0.4\" stroke-width=\"1\" transform=\"translate(210,-200)\" x2=\"0\" y2=\"200\"/><line opacity=\"1\" stroke=\"#ddd\" stroke-opacity=\"0.4\" stroke-width=\"1\" transform=\"translate(233,-200)\" x2=\"0\" y2=\"200\"/></g></g><path aria-hidden=\"true\" class=\"foreground\" d=\"\" display=\"none\" pointer-events=\"none\"/></g></g><g aria-hidden=\"true\" class=\"mark-group role-axis\"><g transform=\"translate(0.5,0.5)\"><path aria-hidden=\"true\" class=\"background\" d=\"M0,0h0v0h0Z\" pointer-events=\"none\"/><g><g class=\"mark-rule role-axis-grid\" pointer-events=\"none\"><line opacity=\"1\" stroke=\"#ddd\" stroke-opacity=\"0.4\" stroke-width=\"1\" transform=\"translate(0,200)\" x2=\"250\" y2=\"0\"/><line opacity=\"1\" stroke=\"#ddd\" stroke-opacity=\"0.4\" stroke-width=\"1\" transform=\"translate(0,144)\" x2=\"250\" y2=\"0\"/><line opacity=\"1\" stroke=\"#ddd\" stroke-opacity=\"0.4\" stroke-width=\"1\" transform=\"translate(0,89)\" x2=\"250\" y2=\"0\"/><line opacity=\"1\" stroke=\"#ddd\" stroke-opacity=\"0.4\" stroke-width=\"1\" transform=\"translate(0,33)\" x2=\"250\" y2=\"0\"/></g></g><path aria-hidden=\"true\" class=\"foreground\" d=\"\" display=\"none\" pointer-events=\"none\"/></g></g><g aria-label=\"X-axis titled 'date' for a time scale with values from 4/15 to 6/29\" aria-roledescription=\"axis\" class=\"mark-group role-axis\" role=\"graphics-symbol\"><g transform=\"translate(0.5,200.5)\"><path aria-hidden=\"true\" class=\"background\" d=\"M0,0h0v0h0Z\" pointer-events=\"none\"/><g><g class=\"mark-rule role-axis-tick\" pointer-events=\"none\"><line opacity=\"1\" stroke=\"#888\" stroke-width=\"1\" transform=\"translate(0,0)\" x2=\"0\" y2=\"5\"/><line opacity=\"1\" stroke=\"#888\" stroke-width=\"1\" transform=\"translate(23,0)\" x2=\"0\" y2=\"5\"/><line opacity=\"1\" stroke=\"#888\" stroke-width=\"1\" transform=\"translate(47,0)\" x2=\"0\" y2=\"5\"/><line opacity=\"1\" stroke=\"#888\" stroke-width=\"1\" transform=\"translate(70,0)\" x2=\"0\" y2=\"5\"/><line opacity=\"1\" stroke=\"#888\" stroke-width=\"1\" transform=\"translate(93,0)\" x2=\"0\" y2=\"5\"/><line opacity=\"1\" stroke=\"#888\" stroke-width=\"1\" transform=\"translate(117,0)\" x2=\"0\" y2=\"5\"/><line opacity=\"1\" stroke=\"#888\" stroke-width=\"1\" transform=\"translate(140,0)\" x2=\"0\" y2=\"5\"/><line opacity=\"1\" stroke=\"#888\" stroke-width=\"1\" transform=\"translate(163,0)\" x2=\"0\" y2=\"5\"/><line opacity=\"1\" stroke=\"#888\" stroke-width=\"1\" transform=\"translate(187,0)\" x2=\"0\" y2=\"5\"/><line opacity=\"1\" stroke=\"#888\" stroke-width=\"1\" transform=\"translate(210,0)\" x2=\"0\" y2=\"5\"/><line opacity=\"1\" stroke=\"#888\" stroke-width=\"1\" transform=\"translate(233,0)\" x2=\"0\" y2=\"5\"/></g><g class=\"mark-text role-axis-label\" pointer-events=\"none\"><text fill=\"#000\" font-family=\"sans-serif\" font-size=\"10px\" opacity=\"1\" text-anchor=\"start\" transform=\"translate(0,15)\">4/15</text><text fill=\"#000\" font-family=\"sans-serif\" font-size=\"10px\" opacity=\"0\" text-anchor=\"middle\" transform=\"translate(23.333333333333336,15)\">4/22</text><text fill=\"#000\" font-family=\"sans-serif\" font-size=\"10px\" opacity=\"1\" text-anchor=\"middle\" transform=\"translate(46.66666666666667,15)\">4/29</text><text fill=\"#000\" font-family=\"sans-serif\" font-size=\"10px\" opacity=\"0\" text-anchor=\"middle\" transform=\"translate(70,15)\">5/6</text><text fill=\"#000\" font-family=\"sans-serif\" font-size=\"10px\" opacity=\"1\" text-anchor=\"middle\" transform=\"translate(93.33333333333334,15)\">5/13</text><text fill=\"#000\" font-family=\"sans-serif\" font-size=\"10px\" opacity=\"0\" text-anchor=\"middle\" transform=\"translate(116.66666666666667,15)\">5/20</text><text fill=\"#000\" font-family=\"sans-serif\" font-size=\"10px\" opacity=\"1\" text-anchor=\"middle\" transform=\"translate(140,15)\">5/27</text><text fill=\"#000\" font-family=\"sans-serif\" font-size=\"10px\" opacity=\"0\" text-anchor=\"middle\" transform=\"translate(163.33333333333334,15)\">6/3</text><text fill=\"#000\" font-family=\"sans-serif\" font-size=\"10px\" opacity=\"1\" text-anchor=\"middle\" transform=\"translate(186.66666666666669,15)\">6/10</text><text fill=\"#000\" font-family=\"sans-serif\" font-size=\"10px\" opacity=\"0\" text-anchor=\"middle\" transform=\"translate(210,15)\">6/17</text><text fill=\"#000\" font-family=\"sans-serif\" font-size=\"10px\" opacity=\"1\" text-anchor=\"middle\" transform=\"translate(233.33333333333334,15)\">6/24</text></g><g class=\"mark-rule role-axis-domain\" pointer-events=\"none\"><line opacity=\"1\" stroke=\"#888\" stroke-opacity=\"0.4\" stroke-width=\"1\" transform=\"translate(0,0)\" x2=\"250\" y2=\"0\"/></g><g class=\"mark-text role-axis-title\" pointer-events=\"none\"><text fill=\"#000\" font-family=\"sans-serif\" font-size=\"11px\" font-weight=\"bold\" opacity=\"1\" text-anchor=\"middle\" transform=\"translate(125,30)\">date</text></g></g><path aria-hidden=\"true\" class=\"foreground\" d=\"\" display=\"none\" pointer-events=\"none\"/></g></g><g aria-label=\"Y-axis titled '7-day avg' for a linear scale with values from 0 to 1,800\" aria-roledescription=\"axis\" class=\"mark-group role-axis\" role=\"graphics-symbol\"><g transform=\"translate(0.5,0.5)\"><path aria-hidden=\"true\" class=\"background\" d=\"M0,0h0v0h0Z\" pointer-events=\"none\"/><g><g class=\"mark-rule role-axis-tick\" pointer-events=\"none\"><line opacity=\"1\" stroke=\"#888\" stroke-width=\"1\" transform=\"translate(0,200)\" x2=\"-5\" y2=\"0\"/><line opacity=\"1\" stroke=\"#888\" stroke-width=\"1\" transform=\"translate(0,144)\" x2=\"-5\" y2=\"0\"/><line opacity=\"1\" stroke=\"#888\" stroke-width=\"1\" transform=\"translate(0,89)\" x2=\"-5\" y2=\"0\"/><line opacity=\"1\" stroke=\"#888\" stroke-width=\"1\" transform=\"translate(0,33)\" x2=\"-5\" y2=\"0\"/></g><g class=\"mark-text role-axis-label\" pointer-events=\"none\"><text fill=\"#000\" font-family=\"sans-serif\" font-size=\"10px\" opacity=\"1\" text-anchor=\"end\" transform=\"translate(-7,203)\">0</text><text fill=\"#000\" font-family=\"sans-serif\" font-size=\"10px\" opacity=\"1\" text-anchor=\"end\" transform=\"translate(-7,147.44444444444443)\">500</text><text fill=\"#000\" font-family=\"sans-serif\" font-size=\"10px\" opacity=\"1\" text-anchor=\"end\" transform=\"translate(-7,91.88888888888889)\">1,000</text><text fill=\"#000\" font-family=\"sans-serif\" font-size=\"10px\" opacity=\"1\" text-anchor=\"end\" transform=\"translate(-7,36.33333333333333)\">1,500</text></g><g class=\"mark-rule role-axis-domain\" pointer-events=\"none\"><line opacity=\"1\" stroke=\"#888\" stroke-opacity=\"0.4\" stroke-width=\"1\" transform=\"translate(0,200)\" x2=\"0\" y2=\"-200\"/></g><g class=\"mark-text role-axis-title\" pointer-events=\"none\"><text fill=\"#000\" font-family=\"sans-serif\" font-size=\"11px\" font-weight=\"bold\" opacity=\"1\" text-anchor=\"middle\" transform=\"translate(-38,100) rotate(-90) translate(0,-2)\">7-day avg</text></g></g><path aria-hidden=\"true\" class=\"foreground\" d=\"\" display=\"none\" pointer-events=\"none\"/></g></g><g aria-roledescription=\"line mark container\" class=\"mark-line role-mark concat_0_layer_0_marks\" role=\"graphics-object\"><path aria-label=\"date: 4/15; 7-day avg: 969.428571429\" aria-roledescription=\"line mark\" d=\"M0,92.28571428571428L3.3333333333333335,94.0952380952381L6.666666666666667,90.17460317460318L10,89.23809523809523L13.333333333333334,93.85714285714286L16.666666666666668,94.80952380952381L20,91.14285714285715L23.333333333333336,85.07936507936509L26.666666666666668,77.39682539682539L30,69.44444444444444L33.333333333333336,62.49206349206349L36.666666666666664,52.34920634920635L40,43.61904761904762L43.333333333333336,37.01587301587301L46.66666666666667,35.96825396825398L50,30.126984126984112L53.333333333333336,24.571428571428577L56.666666666666664,22.714285714285708L60,13.492063492063489L63.333333333333336,13.301587301587304L66.66666666666667,13.111111111111118L70,12.555555555555564L73.33333333333333,12.25396825396825L76.66666666666666,16.380952380952362L80,18.301587301587308L83.33333333333333,36.01587301587301L86.66666666666667,46.57142857142858L90,37.349206349206355L93.33333333333334,45.76190476190476L96.66666666666667,39.42857142857144L100,46.523809523809526L103.33333333333333,48.60317460317458L106.66666666666667,48.20634920634921L110,36.36507936507935L113.33333333333333,53.63492063492063L116.66666666666667,44.333333333333336L120,55.65079365079366L123.33333333333334,56.44444444444445L126.66666666666667,53.8888888888889L130,44.57142857142857L133.33333333333334,50.682539682539684L136.66666666666666,55.111111111111114L140,68.12698412698413L143.33333333333334,76.9047619047619L146.66666666666666,83.85714285714288L150,93.61904761904762L153.33333333333331,106.11111111111111L156.66666666666669,114.31746031746033L160,107.07936507936506L163.33333333333334,109.79365079365078L166.66666666666666,114.17460317460318L170,119.39682539682539L173.33333333333334,123.73015873015873L176.66666666666666,128.53968253968256L180,131.36507936507937L183.33333333333331,142.88888888888889L186.66666666666669,146.33333333333334L190,148.1746031746032L193.33333333333334,153.88888888888889L196.66666666666666,157.82539682539684L200,160.65079365079364L203.33333333333334,162.46031746031747L206.66666666666666,164.015873015873L210,163.92063492063494L213.33333333333334,165.06349206349208L216.66666666666669,163.46031746031747L220,163.42857142857144L223.33333333333331,163.95238095238093L226.66666666666666,164.44444444444443L230,164.34920634920636L233.33333333333334,163.8095238095238L236.66666666666666,160.77777777777777L240,160.04761904761904L243.33333333333334,159.96825396825395L246.66666666666669,159.0793650793651L250,157.17460317460316\" role=\"graphics-symbol\" stroke=\"#0A4C6A\" stroke-width=\"2\"/></g><g aria-roledescription=\"area mark container\" class=\"mark-area role-mark concat_0_layer_1_marks\" role=\"graphics-object\"><path aria-label=\"date: 6/15; 7-day avg: 337.857142857\" aria-roledescription=\"area mark\" d=\"M203.33333333333334,162.46031746031747L206.66666666666666,164.015873015873L210,163.92063492063494L213.33333333333334,165.06349206349208L216.66666666666669,163.46031746031747L220,163.42857142857144L223.33333333333331,163.95238095238093L226.66666666666666,164.44444444444443L230,164.34920634920636L233.33333333333334,163.8095238095238L236.66666666666666,160.77777777777777L240,160.04761904761904L243.33333333333334,159.96825396825395L246.66666666666669,159.0793650793651L250,157.17460317460316L250,200L246.66666666666669,200L243.33333333333334,200L240,200L236.66666666666666,200L233.33333333333334,200L230,200L226.66666666666666,200L223.33333333333331,200L220,200L216.66666666666669,200L213.33333333333334,200L210,200L206.66666666666666,200L203.33333333333334,200Z\" fill=\"#EAEBEB\" role=\"graphics-symbol\"/></g><g aria-roledescription=\"line mark container\" class=\"mark-line role-mark concat_0_layer_2_marks\" role=\"graphics-object\"><path aria-label=\"date: 6/15; 7-day avg: 337.857142857\" aria-roledescription=\"line mark\" d=\"M203.33333333333334,162.46031746031747L206.66666666666666,164.015873015873L210,163.92063492063494L213.33333333333334,165.06349206349208L216.66666666666669,163.46031746031747L220,163.42857142857144L223.33333333333331,163.95238095238093L226.66666666666666,164.44444444444443L230,164.34920634920636L233.33333333333334,163.8095238095238L236.66666666666666,160.77777777777777L240,160.04761904761904L243.33333333333334,159.96825396825395L246.66666666666669,159.0793650793651L250,157.17460317460316\" role=\"graphics-symbol\" stroke=\"#052838\" stroke-width=\"2\"/></g><g class=\"mark-group role-title\"><g transform=\"translate(125,-14)\"><path aria-hidden=\"true\" class=\"background\" d=\"M0,0h0v0h0Z\" pointer-events=\"none\"/><g><g aria-label=\"Title text 'Cook County: New Cases'\" aria-roledescription=\"title\" class=\"mark-text role-title-text\" pointer-events=\"none\" role=\"graphics-symbol\"><text fill=\"black\" font-family=\"Arial\" font-size=\"10px\" font-weight=\"bold\" opacity=\"1\" text-anchor=\"middle\" transform=\"translate(0,8)\">Cook County: New Cases</text></g></g><path aria-hidden=\"true\" class=\"foreground\" d=\"\" display=\"none\" pointer-events=\"none\"/></g></g></g><path aria-hidden=\"true\" class=\"foreground\" d=\"\" display=\"none\"/></g></g><g aria-roledescription=\"group mark container\" class=\"mark-group role-scope concat_1_group\" role=\"graphics-object\"><g transform=\"translate(306,0)\"><path aria-hidden=\"true\" class=\"background\" d=\"M0.5,0.5h250v200h-250Z\" stroke=\"#ddd\" stroke-opacity=\"0\"/><g><g aria-hidden=\"true\" class=\"mark-group role-axis\"><g transform=\"translate(0.5,200.5)\"><path aria-hidden=\"true\" class=\"background\" d=\"M0,0h0v0h0Z\" pointer-events=\"none\"/><g><g class=\"mark-rule role-axis-grid\" pointer-events=\"none\"><line opacity=\"1\" stroke=\"#ddd\" stroke-opacity=\"0.4\" stroke-width=\"1\" transform=\"translate(0,-200)\" x2=\"0\" y2=\"200\"/><line opacity=\"1\" stroke=\"#ddd\" stroke-opacity=\"0.4\" stroke-width=\"1\" transform=\"translate(23,-200)\" x2=\"0\" y2=\"200\"/><line opacity=\"1\" stroke=\"#ddd\" stroke-opacity=\"0.4\" stroke-width=\"1\" transform=\"translate(47,-200)\" x2=\"0\" y2=\"200\"/><line opacity=\"1\" stroke=\"#ddd\" stroke-opacity=\"0.4\" stroke-width=\"1\" transform=\"translate(70,-200)\" x2=\"0\" y2=\"200\"/><line opacity=\"1\" stroke=\"#ddd\" stroke-opacity=\"0.4\" stroke-width=\"1\" transform=\"translate(93,-200)\" x2=\"0\" y2=\"200\"/><line opacity=\"1\" stroke=\"#ddd\" stroke-opacity=\"0.4\" stroke-width=\"1\" transform=\"translate(117,-200)\" x2=\"0\" y2=\"200\"/><line opacity=\"1\" stroke=\"#ddd\" stroke-opacity=\"0.4\" stroke-width=\"1\" transform=\"translate(140,-200)\" x2=\"0\" y2=\"200\"/><line opacity=\"1\" stroke=\"#ddd\" stroke-opacity=\"0.4\" stroke-width=\"1\" transform=\"translate(163,-200)\" x2=\"0\" y2=\"200\"/><line opacity=\"1\" stroke=\"#ddd\" stroke-opacity=\"0.4\" stroke-width=\"1\" transform=\"translate(187,-200)\" x2=\"0\" y2=\"200\"/><line opacity=\"1\" stroke=\"#ddd\" stroke-opacity=\"0.4\" stroke-width=\"1\" transform=\"translate(210,-200)\" x2=\"0\" y2=\"200\"/><line opacity=\"1\" stroke=\"#ddd\" stroke-opacity=\"0.4\" stroke-width=\"1\" transform=\"translate(233,-200)\" x2=\"0\" y2=\"200\"/></g></g><path aria-hidden=\"true\" class=\"foreground\" d=\"\" display=\"none\" pointer-events=\"none\"/></g></g><g aria-hidden=\"true\" class=\"mark-group role-axis\"><g transform=\"translate(0.5,0.5)\"><path aria-hidden=\"true\" class=\"background\" d=\"M0,0h0v0h0Z\" pointer-events=\"none\"/><g><g class=\"mark-rule role-axis-grid\" pointer-events=\"none\"><line opacity=\"1\" stroke=\"#ddd\" stroke-opacity=\"0.4\" stroke-width=\"1\" transform=\"translate(0,200)\" x2=\"250\" y2=\"0\"/><line opacity=\"1\" stroke=\"#ddd\" stroke-opacity=\"0.4\" stroke-width=\"1\" transform=\"translate(0,156)\" x2=\"250\" y2=\"0\"/><line opacity=\"1\" stroke=\"#ddd\" stroke-opacity=\"0.4\" stroke-width=\"1\" transform=\"translate(0,111)\" x2=\"250\" y2=\"0\"/><line opacity=\"1\" stroke=\"#ddd\" stroke-opacity=\"0.4\" stroke-width=\"1\" transform=\"translate(0,67)\" x2=\"250\" y2=\"0\"/><line opacity=\"1\" stroke=\"#ddd\" stroke-opacity=\"0.4\" stroke-width=\"1\" transform=\"translate(0,22)\" x2=\"250\" y2=\"0\"/></g></g><path aria-hidden=\"true\" class=\"foreground\" d=\"\" display=\"none\" pointer-events=\"none\"/></g></g><g aria-label=\"X-axis titled 'date' for a time scale with values from 4/15 to 6/29\" aria-roledescription=\"axis\" class=\"mark-group role-axis\" role=\"graphics-symbol\"><g transform=\"translate(0.5,200.5)\"><path aria-hidden=\"true\" class=\"background\" d=\"M0,0h0v0h0Z\" pointer-events=\"none\"/><g><g class=\"mark-rule role-axis-tick\" pointer-events=\"none\"><line opacity=\"1\" stroke=\"#888\" stroke-width=\"1\" transform=\"translate(0,0)\" x2=\"0\" y2=\"5\"/><line opacity=\"1\" stroke=\"#888\" stroke-width=\"1\" transform=\"translate(23,0)\" x2=\"0\" y2=\"5\"/><line opacity=\"1\" stroke=\"#888\" stroke-width=\"1\" transform=\"translate(47,0)\" x2=\"0\" y2=\"5\"/><line opacity=\"1\" stroke=\"#888\" stroke-width=\"1\" transform=\"translate(70,0)\" x2=\"0\" y2=\"5\"/><line opacity=\"1\" stroke=\"#888\" stroke-width=\"1\" transform=\"translate(93,0)\" x2=\"0\" y2=\"5\"/><line opacity=\"1\" stroke=\"#888\" stroke-width=\"1\" transform=\"translate(117,0)\" x2=\"0\" y2=\"5\"/><line opacity=\"1\" stroke=\"#888\" stroke-width=\"1\" transform=\"translate(140,0)\" x2=\"0\" y2=\"5\"/><line opacity=\"1\" stroke=\"#888\" stroke-width=\"1\" transform=\"translate(163,0)\" x2=\"0\" y2=\"5\"/><line opacity=\"1\" stroke=\"#888\" stroke-width=\"1\" transform=\"translate(187,0)\" x2=\"0\" y2=\"5\"/><line opacity=\"1\" stroke=\"#888\" stroke-width=\"1\" transform=\"translate(210,0)\" x2=\"0\" y2=\"5\"/><line opacity=\"1\" stroke=\"#888\" stroke-width=\"1\" transform=\"translate(233,0)\" x2=\"0\" y2=\"5\"/></g><g class=\"mark-text role-axis-label\" pointer-events=\"none\"><text fill=\"#000\" font-family=\"sans-serif\" font-size=\"10px\" opacity=\"1\" text-anchor=\"start\" transform=\"translate(0,15)\">4/15</text><text fill=\"#000\" font-family=\"sans-serif\" font-size=\"10px\" opacity=\"0\" text-anchor=\"middle\" transform=\"translate(23.333333333333336,15)\">4/22</text><text fill=\"#000\" font-family=\"sans-serif\" font-size=\"10px\" opacity=\"1\" text-anchor=\"middle\" transform=\"translate(46.66666666666667,15)\">4/29</text><text fill=\"#000\" font-family=\"sans-serif\" font-size=\"10px\" opacity=\"0\" text-anchor=\"middle\" transform=\"translate(70,15)\">5/6</text><text fill=\"#000\" font-family=\"sans-serif\" font-size=\"10px\" opacity=\"1\" text-anchor=\"middle\" transform=\"translate(93.33333333333334,15)\">5/13</text><text fill=\"#000\" font-family=\"sans-serif\" font-size=\"10px\" opacity=\"0\" text-anchor=\"middle\" transform=\"translate(116.66666666666667,15)\">5/20</text><text fill=\"#000\" font-family=\"sans-serif\" font-size=\"10px\" opacity=\"1\" text-anchor=\"middle\" transform=\"translate(140,15)\">5/27</text><text fill=\"#000\" font-family=\"sans-serif\" font-size=\"10px\" opacity=\"0\" text-anchor=\"middle\" transform=\"translate(163.33333333333334,15)\">6/3</text><text fill=\"#000\" font-family=\"sans-serif\" font-size=\"10px\" opacity=\"1\" text-anchor=\"middle\" transform=\"translate(186.66666666666669,15)\">6/10</text><text fill=\"#000\" font-family=\"sans-serif\" font-size=\"10px\" opacity=\"0\" text-anchor=\"middle\" transform=\"translate(210,15)\">6/17</text><text fill=\"#000\" font-family=\"sans-serif\" font-size=\"10px\" opacity=\"1\" text-anchor=\"middle\" transform=\"translate(233.33333333333334,15)\">6/24</text></g><g class=\"mark-rule role-axis-domain\" pointer-events=\"none\"><line opacity=\"1\" stroke=\"#888\" stroke-opacity=\"0.4\" stroke-width=\"1\" transform=\"translate(0,0)\" x2=\"250\" y2=\"0\"/></g><g class=\"mark-text role-axis-title\" pointer-events=\"none\"><text fill=\"#000\" font-family=\"sans-serif\" font-size=\"11px\" font-weight=\"bold\" opacity=\"1\" text-anchor=\"middle\" transform=\"translate(125,30)\">date</text></g></g><path aria-hidden=\"true\" class=\"foreground\" d=\"\" display=\"none\" pointer-events=\"none\"/></g></g><g aria-label=\"Y-axis titled '7-day avg' for a linear scale with values from 0 to 90\" aria-roledescription=\"axis\" class=\"mark-group role-axis\" role=\"graphics-symbol\"><g transform=\"translate(0.5,0.5)\"><path aria-hidden=\"true\" class=\"background\" d=\"M0,0h0v0h0Z\" pointer-events=\"none\"/><g><g class=\"mark-rule role-axis-tick\" pointer-events=\"none\"><line opacity=\"1\" stroke=\"#888\" stroke-width=\"1\" transform=\"translate(0,200)\" x2=\"-5\" y2=\"0\"/><line opacity=\"1\" stroke=\"#888\" stroke-width=\"1\" transform=\"translate(0,156)\" x2=\"-5\" y2=\"0\"/><line opacity=\"1\" stroke=\"#888\" stroke-width=\"1\" transform=\"translate(0,111)\" x2=\"-5\" y2=\"0\"/><line opacity=\"1\" stroke=\"#888\" stroke-width=\"1\" transform=\"translate(0,67)\" x2=\"-5\" y2=\"0\"/><line opacity=\"1\" stroke=\"#888\" stroke-width=\"1\" transform=\"translate(0,22)\" x2=\"-5\" y2=\"0\"/></g><g class=\"mark-text role-axis-label\" pointer-events=\"none\"><text fill=\"#000\" font-family=\"sans-serif\" font-size=\"10px\" opacity=\"1\" text-anchor=\"end\" transform=\"translate(-7,203)\">0</text><text fill=\"#000\" font-family=\"sans-serif\" font-size=\"10px\" opacity=\"1\" text-anchor=\"end\" transform=\"translate(-7,158.55555555555557)\">20</text><text fill=\"#000\" font-family=\"sans-serif\" font-size=\"10px\" opacity=\"1\" text-anchor=\"end\" transform=\"translate(-7,114.11111111111111)\">40</text><text fill=\"#000\" font-family=\"sans-serif\" font-size=\"10px\" opacity=\"1\" text-anchor=\"end\" transform=\"translate(-7,69.66666666666667)\">60</text><text fill=\"#000\" font-family=\"sans-serif\" font-size=\"10px\" opacity=\"1\" text-anchor=\"end\" transform=\"translate(-7,25.222222222222232)\">80</text></g><g class=\"mark-rule role-axis-domain\" pointer-events=\"none\"><line opacity=\"1\" stroke=\"#888\" stroke-opacity=\"0.4\" stroke-width=\"1\" transform=\"translate(0,200)\" x2=\"0\" y2=\"-200\"/></g><g class=\"mark-text role-axis-title\" pointer-events=\"none\"><text fill=\"#000\" font-family=\"sans-serif\" font-size=\"11px\" font-weight=\"bold\" opacity=\"1\" text-anchor=\"middle\" transform=\"translate(-23,100) rotate(-90) translate(0,-2)\">7-day avg</text></g></g><path aria-hidden=\"true\" class=\"foreground\" d=\"\" display=\"none\" pointer-events=\"none\"/></g></g><g aria-roledescription=\"line mark container\" class=\"mark-line role-mark concat_1_layer_0_marks\" role=\"graphics-object\"><path aria-label=\"date: 4/15; 7-day avg: 45.7142857143\" aria-roledescription=\"line mark\" d=\"M0,98.41269841269842L3.3333333333333335,82.53968253968256L6.666666666666667,85.3968253968254L10,71.42857142857144L13.333333333333334,75.55555555555556L16.666666666666668,81.9047619047619L20,65.07936507936508L23.333333333333336,59.68253968253967L26.666666666666668,66.66666666666667L30,53.968253968253975L33.333333333333336,70.79365079365078L36.666666666666664,61.58730158730159L40,62.857142857142854L43.333333333333336,55.55555555555556L46.66666666666667,59.04761904761904L50,52.38095238095237L53.333333333333336,56.19047619047621L56.666666666666664,48.88888888888889L60,49.84126984126984L63.333333333333336,55.55555555555556L66.66666666666667,52.38095238095237L70,45.0793650793651L73.33333333333333,40.31746031746031L76.66666666666666,33.650793650793645L80,34.603174603174594L83.33333333333333,31.428571428571427L86.66666666666667,22.539682539682527L90,32.698412698412696L93.33333333333334,14.28571428571428L96.66666666666667,20.63492063492065L100,20.63492063492065L103.33333333333333,25.396825396825395L106.66666666666667,34.2857142857143L110,32.38095238095238L113.33333333333333,31.428571428571427L116.66666666666667,46.031746031746025L120,60.63492063492064L123.33333333333334,65.07936507936508L126.66666666666667,62.857142857142854L130,52.38095238095237L133.33333333333334,61.904761904761905L136.66666666666666,81.26984126984127L140,79.04761904761904L143.33333333333334,71.42857142857144L146.66666666666666,78.4126984126984L150,86.66666666666667L153.33333333333331,92.6984126984127L156.66666666666669,93.96825396825396L160,81.9047619047619L163.33333333333334,96.82539682539681L166.66666666666666,96.19047619047618L170,101.58730158730158L173.33333333333334,101.58730158730158L176.66666666666666,104.12698412698411L180,104.44444444444443L183.33333333333331,109.84126984126985L186.66666666666669,113.33333333333333L190,115.87301587301589L193.33333333333334,110.47619047619048L196.66666666666666,117.46031746031744L200,122.22222222222223L203.33333333333334,121.5873015873016L206.66666666666666,122.85714285714286L210,120.31746031746033L213.33333333333334,129.52380952380952L216.66666666666669,136.1904761904762L220,131.11111111111111L223.33333333333331,131.74603174603175L226.66666666666666,131.11111111111111L230,140.95238095238093L233.33333333333334,144.76190476190476L236.66666666666666,146.984126984127L240,148.25396825396825L243.33333333333334,153.65079365079364L246.66666666666669,156.1904761904762L250,158.4126984126984\" role=\"graphics-symbol\" stroke=\"#1696D2\" stroke-width=\"2\"/></g><g aria-roledescription=\"area mark container\" class=\"mark-area role-mark concat_1_layer_1_marks\" role=\"graphics-object\"><path aria-label=\"date: 6/15; 7-day avg: 35.2857142857\" aria-roledescription=\"area mark\" d=\"M203.33333333333334,121.5873015873016L206.66666666666666,122.85714285714286L210,120.31746031746033L213.33333333333334,129.52380952380952L216.66666666666669,136.1904761904762L220,131.11111111111111L223.33333333333331,131.74603174603175L226.66666666666666,131.11111111111111L230,140.95238095238093L233.33333333333334,144.76190476190476L236.66666666666666,146.984126984127L240,148.25396825396825L243.33333333333334,153.65079365079364L246.66666666666669,156.1904761904762L250,158.4126984126984L250,200L246.66666666666669,200L243.33333333333334,200L240,200L236.66666666666666,200L233.33333333333334,200L230,200L226.66666666666666,200L223.33333333333331,200L220,200L216.66666666666669,200L213.33333333333334,200L210,200L206.66666666666666,200L203.33333333333334,200Z\" fill=\"#EAEBEB\" role=\"graphics-symbol\"/></g><g aria-roledescription=\"line mark container\" class=\"mark-line role-mark concat_1_layer_2_marks\" role=\"graphics-object\"><path aria-label=\"date: 6/15; 7-day avg: 35.2857142857\" aria-roledescription=\"line mark\" d=\"M203.33333333333334,121.5873015873016L206.66666666666666,122.85714285714286L210,120.31746031746033L213.33333333333334,129.52380952380952L216.66666666666669,136.1904761904762L220,131.11111111111111L223.33333333333331,131.74603174603175L226.66666666666666,131.11111111111111L230,140.95238095238093L233.33333333333334,144.76190476190476L236.66666666666666,146.984126984127L240,148.25396825396825L243.33333333333334,153.65079365079364L246.66666666666669,156.1904761904762L250,158.4126984126984\" role=\"graphics-symbol\" stroke=\"#1277A5\" stroke-width=\"2\"/></g><g class=\"mark-group role-title\"><g transform=\"translate(125,-14)\"><path aria-hidden=\"true\" class=\"background\" d=\"M0,0h0v0h0Z\" pointer-events=\"none\"/><g><g aria-label=\"Title text 'Cook County: New Deaths'\" aria-roledescription=\"title\" class=\"mark-text role-title-text\" pointer-events=\"none\" role=\"graphics-symbol\"><text fill=\"black\" font-family=\"Arial\" font-size=\"10px\" font-weight=\"bold\" opacity=\"1\" text-anchor=\"middle\" transform=\"translate(0,8)\">Cook County: New Deaths</text></g></g><path aria-hidden=\"true\" class=\"foreground\" d=\"\" display=\"none\" pointer-events=\"none\"/></g></g></g><path aria-hidden=\"true\" class=\"foreground\" d=\"\" display=\"none\"/></g></g></g><path aria-hidden=\"true\" class=\"foreground\" d=\"\" display=\"none\"/></g></g></g></svg>"
      ],
      "text/plain": [
       "<IPython.core.display.SVG object>"
      ]
     },
     "metadata": {},
     "output_type": "display_data"
    },
    {
     "data": {
      "text/html": [
       "<div>\n",
       "<style scoped>\n",
       "    .dataframe tbody tr th:only-of-type {\n",
       "        vertical-align: middle;\n",
       "    }\n",
       "\n",
       "    .dataframe tbody tr th {\n",
       "        vertical-align: top;\n",
       "    }\n",
       "\n",
       "    .dataframe thead th {\n",
       "        text-align: right;\n",
       "    }\n",
       "</style>\n",
       "<table border=\"1\" class=\"dataframe\">\n",
       "  <thead>\n",
       "    <tr style=\"text-align: right;\">\n",
       "      <th></th>\n",
       "      <th>county</th>\n",
       "      <th>state</th>\n",
       "      <th>state_abbrev</th>\n",
       "      <th>fips</th>\n",
       "      <th>date</th>\n",
       "      <th>Lat</th>\n",
       "      <th>Lon</th>\n",
       "      <th>cases</th>\n",
       "      <th>deaths</th>\n",
       "      <th>new_cases</th>\n",
       "      <th>new_deaths</th>\n",
       "      <th>cases_avg7</th>\n",
       "      <th>deaths_avg3</th>\n",
       "      <th>deaths_avg7</th>\n",
       "      <th>date2</th>\n",
       "    </tr>\n",
       "  </thead>\n",
       "  <tbody>\n",
       "    <tr>\n",
       "      <th>83</th>\n",
       "      <td>Cook</td>\n",
       "      <td>Illinois</td>\n",
       "      <td>IL</td>\n",
       "      <td>17031.0</td>\n",
       "      <td>2020-04-15</td>\n",
       "      <td>41.841448</td>\n",
       "      <td>-87.816588</td>\n",
       "      <td>17306</td>\n",
       "      <td>630</td>\n",
       "      <td>983</td>\n",
       "      <td>53</td>\n",
       "      <td>969.428571</td>\n",
       "      <td>48.333333</td>\n",
       "      <td>45.714286</td>\n",
       "      <td>2020-04-15</td>\n",
       "    </tr>\n",
       "    <tr>\n",
       "      <th>84</th>\n",
       "      <td>Cook</td>\n",
       "      <td>Illinois</td>\n",
       "      <td>IL</td>\n",
       "      <td>17031.0</td>\n",
       "      <td>2020-04-16</td>\n",
       "      <td>41.841448</td>\n",
       "      <td>-87.816588</td>\n",
       "      <td>18087</td>\n",
       "      <td>722</td>\n",
       "      <td>781</td>\n",
       "      <td>92</td>\n",
       "      <td>953.142857</td>\n",
       "      <td>59.666667</td>\n",
       "      <td>52.857143</td>\n",
       "      <td>2020-04-16</td>\n",
       "    </tr>\n",
       "    <tr>\n",
       "      <th>85</th>\n",
       "      <td>Cook</td>\n",
       "      <td>Illinois</td>\n",
       "      <td>IL</td>\n",
       "      <td>17031.0</td>\n",
       "      <td>2020-04-17</td>\n",
       "      <td>41.841448</td>\n",
       "      <td>-87.816588</td>\n",
       "      <td>19391</td>\n",
       "      <td>760</td>\n",
       "      <td>1304</td>\n",
       "      <td>38</td>\n",
       "      <td>988.428571</td>\n",
       "      <td>61.000000</td>\n",
       "      <td>51.571429</td>\n",
       "      <td>2020-04-17</td>\n",
       "    </tr>\n",
       "    <tr>\n",
       "      <th>86</th>\n",
       "      <td>Cook</td>\n",
       "      <td>Illinois</td>\n",
       "      <td>IL</td>\n",
       "      <td>17031.0</td>\n",
       "      <td>2020-04-18</td>\n",
       "      <td>41.841448</td>\n",
       "      <td>-87.816588</td>\n",
       "      <td>20395</td>\n",
       "      <td>860</td>\n",
       "      <td>1004</td>\n",
       "      <td>100</td>\n",
       "      <td>996.857143</td>\n",
       "      <td>76.666667</td>\n",
       "      <td>57.857143</td>\n",
       "      <td>2020-04-18</td>\n",
       "    </tr>\n",
       "    <tr>\n",
       "      <th>87</th>\n",
       "      <td>Cook</td>\n",
       "      <td>Illinois</td>\n",
       "      <td>IL</td>\n",
       "      <td>17031.0</td>\n",
       "      <td>2020-04-19</td>\n",
       "      <td>41.841448</td>\n",
       "      <td>-87.816588</td>\n",
       "      <td>21272</td>\n",
       "      <td>877</td>\n",
       "      <td>877</td>\n",
       "      <td>17</td>\n",
       "      <td>955.285714</td>\n",
       "      <td>51.666667</td>\n",
       "      <td>56.000000</td>\n",
       "      <td>2020-04-19</td>\n",
       "    </tr>\n",
       "  </tbody>\n",
       "</table>\n",
       "</div>"
      ],
      "text/plain": [
       "   county     state state_abbrev     fips        date        Lat        Lon  \\\n",
       "83   Cook  Illinois           IL  17031.0  2020-04-15  41.841448 -87.816588   \n",
       "84   Cook  Illinois           IL  17031.0  2020-04-16  41.841448 -87.816588   \n",
       "85   Cook  Illinois           IL  17031.0  2020-04-17  41.841448 -87.816588   \n",
       "86   Cook  Illinois           IL  17031.0  2020-04-18  41.841448 -87.816588   \n",
       "87   Cook  Illinois           IL  17031.0  2020-04-19  41.841448 -87.816588   \n",
       "\n",
       "    cases  deaths  new_cases  new_deaths  cases_avg7  deaths_avg3  \\\n",
       "83  17306     630        983          53  969.428571    48.333333   \n",
       "84  18087     722        781          92  953.142857    59.666667   \n",
       "85  19391     760       1304          38  988.428571    61.000000   \n",
       "86  20395     860       1004         100  996.857143    76.666667   \n",
       "87  21272     877        877          17  955.285714    51.666667   \n",
       "\n",
       "    deaths_avg7      date2  \n",
       "83    45.714286 2020-04-15  \n",
       "84    52.857143 2020-04-16  \n",
       "85    51.571429 2020-04-17  \n",
       "86    57.857143 2020-04-18  \n",
       "87    56.000000 2020-04-19  "
      ]
     },
     "execution_count": 2,
     "metadata": {},
     "output_type": "execute_result"
    }
   ],
   "source": [
    "cook = utils.county_case_charts(\"Cook, Illinois\", \"4/15/20\")\n",
    "cook.head()"
   ]
  },
  {
   "cell_type": "markdown",
   "metadata": {},
   "source": [
    "Other acceptable examples are:\n",
    "```\n",
    "dallas = utils.county_case_charts(\"Dallas, TX\", \"3/15/20\")\n",
    "atlanta = utils.county_case_charts(\"Fulton, Georgia\", \"3/15/20\")\n",
    "```"
   ]
  },
  {
   "cell_type": "markdown",
   "metadata": {},
   "source": [
    "## State indicators for cases and deaths\n",
    "* Uses the `state_case_charts` function within `utils`\n",
    "* 7-day rolling average shown for new cases\n",
    "* 7-day rolling average shown for new deaths \n",
    "\n",
    "The function takes `STATE_INFORMATION` and `START_DATE` as strings, and returns the charts and the dataframe used to create the chart.\n",
    "\n",
    "`STATE_INFORMATION` takes form of {STATE_NAME}:\n",
    "* {STATE_NAME}: full state name or state abbreviation e.g. \"California\" or \"CA\""
   ]
  },
  {
   "cell_type": "code",
   "execution_count": null,
   "metadata": {},
   "outputs": [],
   "source": [
    "ny = utils.state_case_charts(\"New York\", \"4/1/20\")\n",
    "ny.head()"
   ]
  },
  {
   "cell_type": "markdown",
   "metadata": {},
   "source": [
    "Other acceptable examples are:\n",
    "```\n",
    "tn = utils.state_case_charts(\"Tennessee\", \"2/15/20\")\n",
    "```"
   ]
  },
  {
   "cell_type": "markdown",
   "metadata": {},
   "source": [
    "## MSA indicators for cases and deaths\n",
    "* Uses the `msa_case_charts` function within `utils`\n",
    "* 7-day rolling average shown for new cases\n",
    "* 7-day rolling average shown for new deaths \n",
    "\n",
    "The function takes `METROPOLITAN_INFORMATION` and `START_DATE` as strings, and returns the charts and the dataframe used to create the chart. [Our crosswalk makes this information available.](https://github.com/CityOfLosAngeles/aqueduct/blob/master/dags/public-health/covid19/msa_county_pop_crosswalk.csv) \n",
    "\n",
    "`METROPOLITAN_INFORMATION` takes form of {CBSA NAME} or {CBSA CODE}:\n",
    "* {CBSA NAME}: full metropolitan area name or any subset of it e.g. \"Boston-Cambridge-Newton, MA-NH\" or \"Boston-Cambridge\"\n",
    "* {CBSA CODE}: e.g. \"14460\" for Boston-Cambridge-Newton, MA-NH or \"31080\" for Los Angeles-Long Beach-Anaheim, CA"
   ]
  },
  {
   "cell_type": "code",
   "execution_count": null,
   "metadata": {},
   "outputs": [],
   "source": [
    "boston_msa = utils.msa_case_charts(\"Boston-Cambridge\", \"3/1/20\")\n",
    "boston_msa.head()"
   ]
  },
  {
   "cell_type": "markdown",
   "metadata": {},
   "source": [
    "Other acceptable examples are:\n",
    "```\n",
    "dfw = utils.msa_case_charts(\"19100\", \"4/15/20\")\n",
    "durham = utils.msa_case_charts(\"Durham-Chapel Hill\", \"4/1/20\")\n",
    "```"
   ]
  },
  {
   "cell_type": "markdown",
   "metadata": {},
   "source": [
    "### References:\n",
    "<br>US_COUNTY_URL = \" US_COUNTY_URL = \"http://lahub.maps.arcgis.com/sharing/rest/content/items/782ca660304a4bdda1cc9757a2504647/data \"\n",
    "\n",
    "\n",
    "To convert to HTML, use this command in the terminal: \n",
    "`jupyter nbconvert --to html --no-input --no-prompt my-notebook.ipynb`"
   ]
  },
  {
   "cell_type": "code",
   "execution_count": null,
   "metadata": {},
   "outputs": [],
   "source": []
  }
 ],
 "metadata": {
  "kernelspec": {
   "display_name": "Python 3",
   "language": "python",
   "name": "python3"
  },
  "language_info": {
   "codemirror_mode": {
    "name": "ipython",
    "version": 3
   },
   "file_extension": ".py",
   "mimetype": "text/x-python",
   "name": "python",
   "nbconvert_exporter": "python",
   "pygments_lexer": "ipython3",
   "version": "3.7.6"
  }
 },
 "nbformat": 4,
 "nbformat_minor": 4
}
