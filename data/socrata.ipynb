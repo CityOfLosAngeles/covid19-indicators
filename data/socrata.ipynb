{
 "cells": [
  {
   "cell_type": "markdown",
   "metadata": {},
   "source": [
    "## Upload covid data to Socrata\n",
    "\n",
    "References:\n",
    "\n",
    "* [socrata-py package](https://github.com/socrata/socrata-py)\n",
    "* [sodapy package](https://pypi.org/project/sodapy/)\n",
    "* [Socrata Data Management experience](https://support.socrata.com/hc/en-us/articles/115016067067-Using-the-Socrata-Data-Management-Experience)\n",
    "* [some examples](https://github.com/xmunoz/sodapy)"
   ]
  },
  {
   "cell_type": "code",
   "execution_count": 1,
   "metadata": {},
   "outputs": [
    {
     "name": "stderr",
     "output_type": "stream",
     "text": [
      "WARNING:root:Requests made without an app_token will be subject to strict throttling limits.\n"
     ]
    }
   ],
   "source": [
    "import pandas as pd\n",
    "\n",
    "from processing_utils import default_parameters\n",
    "from processing_utils import neighborhood_utils\n",
    "from processing_utils import utils\n",
    "\n",
    "import credentials\n",
    "\n",
    "S3_FILE_PATH = default_parameters.S3_FILE_PATH\n",
    "\n",
    "SOCRATA_USER = credentials.SOCRATA_USERNAME\n",
    "SOCRATA_PASSWORD = credentials.SOCRATA_PASSWORD"
   ]
  },
  {
   "cell_type": "code",
   "execution_count": 4,
   "metadata": {},
   "outputs": [
    {
     "name": "stdout",
     "output_type": "stream",
     "text": [
      "us-county-time-series.csv updated\n",
      "la-county-neighborhood-time-series.csv updated\n",
      "vaccinations-by-county.csv updated\n",
      "vaccinations-by-demographics-county.csv updated\n"
     ]
    }
   ],
   "source": [
    "DATAFRAME_DICT = {\n",
    "    # key: socrata_dataset_id\n",
    "    # value: csv file\n",
    "    \"jsff-uc6b\": \"us-county-time-series.csv\",\n",
    "    \"fvye-93wd\": \"la-county-neighborhood-time-series.csv\",\n",
    "    \"rpp7-mevy\": \"vaccinations-by-county.csv\",\n",
    "    \"iv7a-6rrq\": \"vaccinations-by-demographics-county.csv\"\n",
    "}\n",
    "\n",
    "for socrata_id, filename in DATAFRAME_DICT.items():\n",
    "    # So far, all the datasets need some extra processing to make sure Socrata table schema is correct\n",
    "    if ((\"us-county\" in filename) or \n",
    "        (\"neighborhood\" in filename) or \n",
    "        (\"vaccinations\" in filename)):\n",
    "        df = extra_processing(filename)\n",
    "    else:\n",
    "        df = pd.read_csv(f\"{S3_FILE_PATH}{filename}\")\n",
    "    \n",
    "    # Write the full table out as CSV \n",
    "    df.to_csv(f\"{filename}\", index=False)\n",
    "    \n",
    "    #overwrite_socrata_table(filename, socrata_dataset_id = socrata_id)\n",
    "    socrata_utils.upsert_socrata_rows(SOCRATA_USER, SOCRATA_PASSWORD, \n",
    "                                       filename, socrata_dataset_id = socrata_id)\n",
    "    \n",
    "    \n",
    "#s3_to_socrata(\"la-county-neighborhood-time-series.csv\", \n",
    "#              socrata_dataset_id = \"wrj6-vjm7\")"
   ]
  },
  {
   "cell_type": "code",
   "execution_count": 33,
   "metadata": {},
   "outputs": [
    {
     "data": {
      "text/plain": [
       "{'Errors': 0, 'Rows Created': 2, 'Rows Deleted': 0, 'Rows Updated': 0}"
      ]
     },
     "execution_count": 33,
     "metadata": {},
     "output_type": "execute_result"
    }
   ],
   "source": [
    "'''\n",
    "la = pd.read_csv(\"../notebooks/test_data/us-county-time-series.csv\")\n",
    "la = la[la.county==\"Los Angeles\"]\n",
    "la[la.date < \"2021-08-23\"].to_csv(\"../notebooks/test_data/la.csv\", index=False)\n",
    "la.to_csv(\"../notebooks/test_data/la.csv\", index=False)\n",
    "\n",
    "filename = \"../notebooks/test_data/la.csv\"\n",
    "socrata_dataset_id = \"3cst-kzzr\"\n",
    "existing_table = client.get(socrata_dataset_id)\n",
    "existing_table = pd.DataFrame(existing_table)\n",
    "max_date = pd.to_datetime(existing_table.date.max())\n",
    "\n",
    "t2 = pd.read_csv(f\"{filename}\")\n",
    "t2 = t2.assign(\n",
    "    date = pd.to_datetime(t2.date)\n",
    ")\n",
    "\n",
    "t2[t2.date > max_date].to_csv(filename, index=False)\n",
    "data = open(f\"{filename}\")\n",
    "    \n",
    "client.timeout = (5 * 60)\n",
    "client.upsert(socrata_dataset_id, data)\n",
    "\n",
    "'''"
   ]
  }
 ],
 "metadata": {
  "kernelspec": {
   "display_name": "Python 3",
   "language": "python",
   "name": "python3"
  },
  "language_info": {
   "codemirror_mode": {
    "name": "ipython",
    "version": 3
   },
   "file_extension": ".py",
   "mimetype": "text/x-python",
   "name": "python",
   "nbconvert_exporter": "python",
   "pygments_lexer": "ipython3",
   "version": "3.7.8"
  }
 },
 "nbformat": 4,
 "nbformat_minor": 4
}
