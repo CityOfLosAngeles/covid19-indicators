{
 "cells": [
  {
   "cell_type": "markdown",
   "metadata": {},
   "source": [
    "## Upload covid data to Socrata\n",
    "\n",
    "References:\n",
    "\n",
    "* [socrata-py package](https://github.com/socrata/socrata-py)\n",
    "* [sodapy package](https://pypi.org/project/sodapy/)\n",
    "* [Socrata Data Management experience](https://support.socrata.com/hc/en-us/articles/115016067067-Using-the-Socrata-Data-Management-Experience)\n",
    "* [some examples](https://github.com/xmunoz/sodapy)"
   ]
  },
  {
   "cell_type": "code",
   "execution_count": 1,
   "metadata": {},
   "outputs": [],
   "source": [
    "import pandas as pd\n",
    "\n",
    "from processing_utils import default_parameters\n",
    "from processing_utils import neighborhood_utils\n",
    "from processing_utils import utils\n",
    "from processing_utils import socrata_utils\n",
    "\n",
    "import credentials\n",
    "\n",
    "S3_FILE_PATH = default_parameters.S3_FILE_PATH\n",
    "\n",
    "\n",
    "SOCRATA_USER = credentials.SOCRATA_USERNAME\n",
    "SOCRATA_PASSWORD = credentials.SOCRATA_PASSWORD"
   ]
  },
  {
   "cell_type": "code",
   "execution_count": 2,
   "metadata": {},
   "outputs": [],
   "source": [
    "def us_county(csv_file, county_list=[\"Los Angeles\"]):\n",
    "    parquet_file = csv_file.replace('.csv', '.parquet')\n",
    "    \n",
    "    df = pd.read_parquet(f\"{S3_FILE_PATH}{parquet_file}\")\n",
    " \n",
    "    df = (df[df.county.isin(county_list)]\n",
    "          .reset_index(drop=True)\n",
    "          .assign(\n",
    "            date = pd.to_datetime(df.date).dt.date,\n",
    "            incident_rate = df.incident_rate.round(1),\n",
    "        )\n",
    "    )\n",
    "    \n",
    "    # Subsetting by date needs to happen after we manipulate date column\n",
    "    # Otherwise, datetime.date clashes with pandas.timestamp\n",
    "    df = df[df.date < default_parameters.today_date]\n",
    "    \n",
    "    return df\n",
    "\n",
    "\n",
    "def la_county_neighborhood(csv_file):\n",
    "    df = neighborhood_utils.clean_data()\n",
    "\n",
    "    keep_cols = [\n",
    "        \"aggregate_region\", \"population\", \"date\", \"date2\",\n",
    "        \"cases\", \"deaths\", \"new_cases\", \"new_deaths\",\n",
    "        \"cases_per100k\", \"deaths_per100k\",\n",
    "        \"cases_avg7\", \"deaths_avg7\",\n",
    "        \"new_cases_avg7\", \"new_deaths_avg7\",\n",
    "        \"cases_per100k_avg7\", \"deaths_per100k_avg7\",\n",
    "    ]\n",
    "    \n",
    "    df = df[keep_cols]\n",
    "    \n",
    "    # Round some of the other columns to 1 decimal place\n",
    "    integrify_me = [\"cases\", \"deaths\", \n",
    "                    \"new_cases\", \"new_deaths\", \"population\"]\n",
    "\n",
    "    round_me = [c for c in df.columns if (c not in [\"aggregate_region\", \"date\", \"date2\"])\n",
    "               and (c not in integrify_me)]\n",
    "\n",
    "    df[round_me] = df[round_me].astype(float).round(1)\n",
    "    df[integrify_me] = df[integrify_me].astype(int)\n",
    "\n",
    "    return df\n",
    "\n",
    "\n",
    "def ca_vaccinations(csv_file):\n",
    "    df = pd.read_csv(utils.COUNTY_VACCINE_URL)\n",
    "\n",
    "    population = pd.read_parquet(f\"{S3_FILE_PATH}ca_county_pop_crosswalk.parquet\")    \n",
    "\n",
    "    df = pd.merge(df, population, \n",
    "                  on = \"county\",\n",
    "                  how = \"inner\", validate = \"m:1\")\n",
    "\n",
    "    df = df.assign(\n",
    "        date = pd.to_datetime(df.administered_date),\n",
    "    ).drop(columns = [\"administered_date\"])\n",
    "        \n",
    "    return df\n",
    "\n",
    "def ca_vaccinations_demographics(csv_file):\n",
    "    df = pd.read_csv(utils.COUNTY_DEMOGRAPHICS_URL)\n",
    "    \n",
    "    df = df.assign(\n",
    "        date = pd.to_datetime(df.administered_date),\n",
    "    ).drop(columns = [\"administered_date\"])\n",
    "    \n",
    "    string_cols = [\"county\", \"county_type\", \n",
    "                   \"demographic_category\", \"demographic_value\",\n",
    "                   \"date\", \"suppress_data\"]\n",
    "    \n",
    "    integrify_me = [c for c in df.columns if c not in string_cols]\n",
    "    df[integrify_me] = df[integrify_me].astype(\"Int64\")\n",
    "    \n",
    "    return df\n",
    "\n",
    "def la_county_testing(csv_file):\n",
    "    s3_file_name = \"county-city-testing.parquet\" \n",
    "    \n",
    "    df = pd.read_parquet(f\"{S3_FILE_PATH}{s3_file_name}\")\n",
    "    df = df.assign(\n",
    "        date = pd.to_datetime(df.date).dt.date,\n",
    "    )\n",
    "    \n",
    "    # Drop the row that has all 0's, even if it's yesterday\n",
    "    # Keep data ending in 2 days ago\n",
    "    df = df[df.date <= default_parameters.two_days_ago]\n",
    "    \n",
    "    return df"
   ]
  },
  {
   "cell_type": "code",
   "execution_count": 3,
   "metadata": {},
   "outputs": [],
   "source": [
    "def extra_processing(csv_file):\n",
    "    if csv_file==\"us-county-time-series.csv\":\n",
    "        df = us_county(csv_file, county_list=[\"Los Angeles\"])\n",
    "    elif csv_file==\"la-county-neighborhood-time-series.csv\":\n",
    "        df = la_county_neighborhood(csv_file)\n",
    "    elif csv_file==\"vaccinations-by-county.csv\":\n",
    "        df = ca_vaccinations(csv_file)\n",
    "    elif csv_file==\"vaccinations-by-demographics-county.csv\": \n",
    "        df = ca_vaccinations_demographics(csv_file) \n",
    "    elif csv_file==\"vaccinations-by-demographics-county.csv\": \n",
    "        df = ca_vaccinations_demographics(csv_file)\n",
    "    elif csv_file==\"la-county-testing-time-series.csv\": \n",
    "        df = la_county_testing(csv_file)\n",
    "    else:\n",
    "        df = pd.read_csv(f\"{S3_FILE_PATH}{csv_file}\")\n",
    "    \n",
    "    return df"
   ]
  },
  {
   "cell_type": "code",
   "execution_count": 4,
   "metadata": {},
   "outputs": [
    {
     "name": "stderr",
     "output_type": "stream",
     "text": [
      "WARNING:root:Requests made without an app_token will be subject to strict throttling limits.\n"
     ]
    },
    {
     "name": "stdout",
     "output_type": "stream",
     "text": [
      "us-county-time-series.csv csv produced\n",
      "us-county-time-series.csv updated\n"
     ]
    },
    {
     "name": "stderr",
     "output_type": "stream",
     "text": [
      "WARNING:root:Requests made without an app_token will be subject to strict throttling limits.\n"
     ]
    },
    {
     "name": "stdout",
     "output_type": "stream",
     "text": [
      "la-county-neighborhood-time-series.csv csv produced\n",
      "la-county-neighborhood-time-series.csv updated\n"
     ]
    },
    {
     "name": "stderr",
     "output_type": "stream",
     "text": [
      "WARNING:root:Requests made without an app_token will be subject to strict throttling limits.\n"
     ]
    },
    {
     "name": "stdout",
     "output_type": "stream",
     "text": [
      "vaccinations-by-county.csv csv produced\n",
      "vaccinations-by-county.csv updated\n"
     ]
    },
    {
     "name": "stderr",
     "output_type": "stream",
     "text": [
      "WARNING:root:Requests made without an app_token will be subject to strict throttling limits.\n"
     ]
    },
    {
     "name": "stdout",
     "output_type": "stream",
     "text": [
      "vaccinations-by-demographics-county.csv csv produced\n",
      "vaccinations-by-demographics-county.csv updated\n"
     ]
    },
    {
     "name": "stderr",
     "output_type": "stream",
     "text": [
      "WARNING:root:Requests made without an app_token will be subject to strict throttling limits.\n"
     ]
    },
    {
     "name": "stdout",
     "output_type": "stream",
     "text": [
      "la-county-testing-time-series.csv csv produced\n"
     ]
    },
    {
     "ename": "HTTPError",
     "evalue": "404 Client Error: Not Found",
     "output_type": "error",
     "traceback": [
      "\u001b[0;31m---------------------------------------------------------------------------\u001b[0m",
      "\u001b[0;31mHTTPError\u001b[0m                                 Traceback (most recent call last)",
      "\u001b[0;32m<ipython-input-4-35fd78930dc9>\u001b[0m in \u001b[0;36m<module>\u001b[0;34m()\u001b[0m\n\u001b[1;32m     17\u001b[0m     \u001b[0mprint\u001b[0m\u001b[0;34m(\u001b[0m\u001b[0;34mf\"{filename} csv produced\"\u001b[0m\u001b[0;34m)\u001b[0m\u001b[0;34m\u001b[0m\u001b[0;34m\u001b[0m\u001b[0m\n\u001b[1;32m     18\u001b[0m     socrata_utils.overwrite_socrata_table(SOCRATA_USER, SOCRATA_PASSWORD, \n\u001b[0;32m---> 19\u001b[0;31m                                           filename, socrata_dataset_id = socrata_id)\n\u001b[0m\u001b[1;32m     20\u001b[0m     \u001b[0;31m#socrata_utils.upsert_socrata_rows(SOCRATA_USER, SOCRATA_PASSWORD,\u001b[0m\u001b[0;34m\u001b[0m\u001b[0;34m\u001b[0m\u001b[0;34m\u001b[0m\u001b[0m\n\u001b[1;32m     21\u001b[0m     \u001b[0;31m#                                   filename, socrata_dataset_id = socrata_id)\u001b[0m\u001b[0;34m\u001b[0m\u001b[0;34m\u001b[0m\u001b[0;34m\u001b[0m\u001b[0m\n",
      "\u001b[0;32m/app/processing_utils/socrata_utils.py\u001b[0m in \u001b[0;36moverwrite_socrata_table\u001b[0;34m(username, password, csv_file, socrata_dataset_id, NUM_MINUTES)\u001b[0m\n\u001b[1;32m     23\u001b[0m \u001b[0;34m\u001b[0m\u001b[0m\n\u001b[1;32m     24\u001b[0m     \u001b[0mclient\u001b[0m\u001b[0;34m.\u001b[0m\u001b[0mtimeout\u001b[0m \u001b[0;34m=\u001b[0m \u001b[0;34m(\u001b[0m\u001b[0mNUM_MINUTES\u001b[0m \u001b[0;34m*\u001b[0m \u001b[0;36m60\u001b[0m\u001b[0;34m)\u001b[0m\u001b[0;34m\u001b[0m\u001b[0;34m\u001b[0m\u001b[0m\n\u001b[0;32m---> 25\u001b[0;31m     \u001b[0mclient\u001b[0m\u001b[0;34m.\u001b[0m\u001b[0mreplace\u001b[0m\u001b[0;34m(\u001b[0m\u001b[0msocrata_dataset_id\u001b[0m\u001b[0;34m,\u001b[0m \u001b[0mdata\u001b[0m\u001b[0;34m)\u001b[0m\u001b[0;34m\u001b[0m\u001b[0;34m\u001b[0m\u001b[0m\n\u001b[0m\u001b[1;32m     26\u001b[0m \u001b[0;34m\u001b[0m\u001b[0m\n\u001b[1;32m     27\u001b[0m     \u001b[0mprint\u001b[0m\u001b[0;34m(\u001b[0m\u001b[0;34mf\"{csv_file} updated\"\u001b[0m\u001b[0;34m)\u001b[0m\u001b[0;34m\u001b[0m\u001b[0;34m\u001b[0m\u001b[0m\n",
      "\u001b[0;32m/opt/conda/lib/python3.7/site-packages/sodapy/socrata.py\u001b[0m in \u001b[0;36mreplace\u001b[0;34m(self, dataset_identifier, payload, content_type)\u001b[0m\n\u001b[1;32m    457\u001b[0m         )\n\u001b[1;32m    458\u001b[0m \u001b[0;34m\u001b[0m\u001b[0m\n\u001b[0;32m--> 459\u001b[0;31m         \u001b[0;32mreturn\u001b[0m \u001b[0mself\u001b[0m\u001b[0;34m.\u001b[0m\u001b[0m_perform_update\u001b[0m\u001b[0;34m(\u001b[0m\u001b[0;34m\"put\"\u001b[0m\u001b[0;34m,\u001b[0m \u001b[0mresource\u001b[0m\u001b[0;34m,\u001b[0m \u001b[0mpayload\u001b[0m\u001b[0;34m)\u001b[0m\u001b[0;34m\u001b[0m\u001b[0;34m\u001b[0m\u001b[0m\n\u001b[0m\u001b[1;32m    460\u001b[0m \u001b[0;34m\u001b[0m\u001b[0m\n\u001b[1;32m    461\u001b[0m     \u001b[0;32mdef\u001b[0m \u001b[0mcreate_non_data_file\u001b[0m\u001b[0;34m(\u001b[0m\u001b[0mself\u001b[0m\u001b[0;34m,\u001b[0m \u001b[0mparams\u001b[0m\u001b[0;34m,\u001b[0m \u001b[0mfile_data\u001b[0m\u001b[0;34m)\u001b[0m\u001b[0;34m:\u001b[0m\u001b[0;34m\u001b[0m\u001b[0;34m\u001b[0m\u001b[0m\n",
      "\u001b[0;32m/opt/conda/lib/python3.7/site-packages/sodapy/socrata.py\u001b[0m in \u001b[0;36m_perform_update\u001b[0;34m(self, method, resource, payload)\u001b[0m\n\u001b[1;32m    505\u001b[0m             }\n\u001b[1;32m    506\u001b[0m             response = self._perform_request(\n\u001b[0;32m--> 507\u001b[0;31m                 \u001b[0mmethod\u001b[0m\u001b[0;34m,\u001b[0m \u001b[0mresource\u001b[0m\u001b[0;34m,\u001b[0m \u001b[0mdata\u001b[0m\u001b[0;34m=\u001b[0m\u001b[0mpayload\u001b[0m\u001b[0;34m,\u001b[0m \u001b[0mheaders\u001b[0m\u001b[0;34m=\u001b[0m\u001b[0mheaders\u001b[0m\u001b[0;34m\u001b[0m\u001b[0;34m\u001b[0m\u001b[0m\n\u001b[0m\u001b[1;32m    508\u001b[0m             )\n\u001b[1;32m    509\u001b[0m         \u001b[0;32melse\u001b[0m\u001b[0;34m:\u001b[0m\u001b[0;34m\u001b[0m\u001b[0;34m\u001b[0m\u001b[0m\n",
      "\u001b[0;32m/opt/conda/lib/python3.7/site-packages/sodapy/socrata.py\u001b[0m in \u001b[0;36m_perform_request\u001b[0;34m(self, request_type, resource, **kwargs)\u001b[0m\n\u001b[1;32m    553\u001b[0m         \u001b[0;31m# handle errors\u001b[0m\u001b[0;34m\u001b[0m\u001b[0;34m\u001b[0m\u001b[0;34m\u001b[0m\u001b[0m\n\u001b[1;32m    554\u001b[0m         \u001b[0;32mif\u001b[0m \u001b[0mresponse\u001b[0m\u001b[0;34m.\u001b[0m\u001b[0mstatus_code\u001b[0m \u001b[0;32mnot\u001b[0m \u001b[0;32min\u001b[0m \u001b[0;34m(\u001b[0m\u001b[0;36m200\u001b[0m\u001b[0;34m,\u001b[0m \u001b[0;36m202\u001b[0m\u001b[0;34m)\u001b[0m\u001b[0;34m:\u001b[0m\u001b[0;34m\u001b[0m\u001b[0;34m\u001b[0m\u001b[0m\n\u001b[0;32m--> 555\u001b[0;31m             \u001b[0mutils\u001b[0m\u001b[0;34m.\u001b[0m\u001b[0mraise_for_status\u001b[0m\u001b[0;34m(\u001b[0m\u001b[0mresponse\u001b[0m\u001b[0;34m)\u001b[0m\u001b[0;34m\u001b[0m\u001b[0;34m\u001b[0m\u001b[0m\n\u001b[0m\u001b[1;32m    556\u001b[0m \u001b[0;34m\u001b[0m\u001b[0m\n\u001b[1;32m    557\u001b[0m         \u001b[0;31m# when responses have no content body (ie. delete, set_permission),\u001b[0m\u001b[0;34m\u001b[0m\u001b[0;34m\u001b[0m\u001b[0;34m\u001b[0m\u001b[0m\n",
      "\u001b[0;32m/opt/conda/lib/python3.7/site-packages/sodapy/utils.py\u001b[0m in \u001b[0;36mraise_for_status\u001b[0;34m(response)\u001b[0m\n\u001b[1;32m     28\u001b[0m         \u001b[0;32mif\u001b[0m \u001b[0mmore_info\u001b[0m \u001b[0;32mand\u001b[0m \u001b[0mmore_info\u001b[0m\u001b[0;34m.\u001b[0m\u001b[0mlower\u001b[0m\u001b[0;34m(\u001b[0m\u001b[0;34m)\u001b[0m \u001b[0;34m!=\u001b[0m \u001b[0mresponse\u001b[0m\u001b[0;34m.\u001b[0m\u001b[0mreason\u001b[0m\u001b[0;34m.\u001b[0m\u001b[0mlower\u001b[0m\u001b[0;34m(\u001b[0m\u001b[0;34m)\u001b[0m\u001b[0;34m:\u001b[0m\u001b[0;34m\u001b[0m\u001b[0;34m\u001b[0m\u001b[0m\n\u001b[1;32m     29\u001b[0m             \u001b[0mhttp_error_msg\u001b[0m \u001b[0;34m+=\u001b[0m \u001b[0;34m\".\\n\\t{0}\"\u001b[0m\u001b[0;34m.\u001b[0m\u001b[0mformat\u001b[0m\u001b[0;34m(\u001b[0m\u001b[0mmore_info\u001b[0m\u001b[0;34m)\u001b[0m\u001b[0;34m\u001b[0m\u001b[0;34m\u001b[0m\u001b[0m\n\u001b[0;32m---> 30\u001b[0;31m         \u001b[0;32mraise\u001b[0m \u001b[0mrequests\u001b[0m\u001b[0;34m.\u001b[0m\u001b[0mexceptions\u001b[0m\u001b[0;34m.\u001b[0m\u001b[0mHTTPError\u001b[0m\u001b[0;34m(\u001b[0m\u001b[0mhttp_error_msg\u001b[0m\u001b[0;34m,\u001b[0m \u001b[0mresponse\u001b[0m\u001b[0;34m=\u001b[0m\u001b[0mresponse\u001b[0m\u001b[0;34m)\u001b[0m\u001b[0;34m\u001b[0m\u001b[0;34m\u001b[0m\u001b[0m\n\u001b[0m\u001b[1;32m     31\u001b[0m \u001b[0;34m\u001b[0m\u001b[0m\n\u001b[1;32m     32\u001b[0m \u001b[0;34m\u001b[0m\u001b[0m\n",
      "\u001b[0;31mHTTPError\u001b[0m: 404 Client Error: Not Found"
     ]
    }
   ],
   "source": [
    "DATAFRAME_DICT = {\n",
    "    # key: socrata_dataset_id\n",
    "    # value: csv file\n",
    "    \"jsff-uc6b\": \"us-county-time-series.csv\",\n",
    "    \"fvye-93wd\": \"la-county-neighborhood-time-series.csv\",\n",
    "    \"rpp7-mevy\": \"vaccinations-by-county.csv\",\n",
    "    \"iv7a-6rrq\": \"vaccinations-by-demographics-county.csv\",\n",
    "    \"w9vh-pj9e\": \"la-county-testing-time-series.csv\",\n",
    "}\n",
    "\n",
    "for socrata_id, filename in DATAFRAME_DICT.items():\n",
    "    # So far, all the datasets need some extra processing to make sure Socrata table schema is correct\n",
    "    df = extra_processing(filename)\n",
    "    \n",
    "    # Write the full table out as CSV \n",
    "    df.to_csv(f\"{filename}\", index=False)\n",
    "    print(f\"{filename} produced\")\n",
    "    \n",
    "    #socrata_utils.overwrite_socrata_table(SOCRATA_USER, SOCRATA_PASSWORD, \n",
    "    #                                      filename, socrata_dataset_id = socrata_id)\n",
    "    #socrata_utils.upsert_socrata_rows(SOCRATA_USER, SOCRATA_PASSWORD, \n",
    "    #                                   filename, socrata_dataset_id = socrata_id)\n",
    "    \n",
    "    \n",
    "#s3_to_socrata(\"la-county-neighborhood-time-series.csv\", \n",
    "#              socrata_dataset_id = \"wrj6-vjm7\")"
   ]
  },
  {
   "cell_type": "code",
   "execution_count": null,
   "metadata": {},
   "outputs": [],
   "source": [
    "'''\n",
    "la = pd.read_csv(\"../notebooks/test_data/us-county-time-series.csv\")\n",
    "la = la[la.county==\"Los Angeles\"]\n",
    "la[la.date < \"2021-08-23\"].to_csv(\"../notebooks/test_data/la.csv\", index=False)\n",
    "la.to_csv(\"../notebooks/test_data/la.csv\", index=False)\n",
    "\n",
    "filename = \"../notebooks/test_data/la.csv\"\n",
    "socrata_dataset_id = \"3cst-kzzr\"\n",
    "existing_table = client.get(socrata_dataset_id)\n",
    "existing_table = pd.DataFrame(existing_table)\n",
    "max_date = pd.to_datetime(existing_table.date.max())\n",
    "\n",
    "t2 = pd.read_csv(f\"{filename}\")\n",
    "t2 = t2.assign(\n",
    "    date = pd.to_datetime(t2.date)\n",
    ")\n",
    "\n",
    "t2[t2.date > max_date].to_csv(filename, index=False)\n",
    "data = open(f\"{filename}\")\n",
    "    \n",
    "client.timeout = (5 * 60)\n",
    "client.upsert(socrata_dataset_id, data)\n",
    "\n",
    "'''"
   ]
  }
 ],
 "metadata": {
  "kernelspec": {
   "display_name": "Python 3",
   "language": "python",
   "name": "python3"
  },
  "language_info": {
   "codemirror_mode": {
    "name": "ipython",
    "version": 3
   },
   "file_extension": ".py",
   "mimetype": "text/x-python",
   "name": "python",
   "nbconvert_exporter": "python",
   "pygments_lexer": "ipython3",
   "version": "3.7.8"
  }
 },
 "nbformat": 4,
 "nbformat_minor": 4
}
