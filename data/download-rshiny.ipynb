{
 "cells": [
  {
   "cell_type": "markdown",
   "metadata": {},
   "source": [
    "## Download from RShiny"
   ]
  },
  {
   "cell_type": "code",
   "execution_count": 1,
   "metadata": {},
   "outputs": [],
   "source": [
    "\"\"\"\n",
    "Download LA County neighborhood testing data.\n",
    "Download persons tested and tests performed.\n",
    "Download from RShiny.\n",
    "No date column, it probably reflects 2 days ago, given their comment in sidebar (community testing).\n",
    "\"\"\"\n",
    "import pandas as pd\n",
    "import pytz\n",
    "\n",
    "from datetime import datetime, timedelta\n",
    "\n",
    "session_id = \"_w_ca3437ff\"\n",
    "session_string = \"d92ebb928dd7110039921069b447d824\"\n",
    "session_id2 = session_id[3:]\n",
    "\n",
    "NEIGHBORHOOD_TESTING_URL = (\n",
    "    f\"https://lacdph.shinyapps.io/covid19_surveillance_dashboard/{session_id}/\"\n",
    "    f\"session/{session_string}/download/download4?w={session_id2}\"\n",
    ")\n",
    "  \n",
    "TESTS_PERFORMED = (\n",
    "    f\"https://lacdph.shinyapps.io/covid19_surveillance_dashboard/{session_id}/\"\n",
    "    f\"session/{session_string}/download/download6?w={session_id2}\"\n",
    ")\n",
    "\n",
    "PERSONS_TESTED = (\n",
    "    f\"https://lacdph.shinyapps.io/covid19_surveillance_dashboard/{session_id}/\"\n",
    "    f\"session/{session_string}/download/download5?w={session_id2}\"   \n",
    ")\n",
    "\n",
    "S3_FILE_PATH = \"s3://public-health-dashboard/jhu_covid19/\"\n",
    "\n",
    "\n",
    "today = datetime.today().astimezone(pytz.timezone(\"US/Pacific\")).date()\n",
    "#month = today.strftime('%m')\n",
    "#day = today.strftime(\"%d\")\n",
    "\n",
    "# Neighborhood Testing data\n",
    "def download_from_rshiny():\n",
    "    df = pd.read_csv(NEIGHBORHOOD_TESTING_URL)\n",
    "\n",
    "    df = (df.assign(\n",
    "            download_date = today,\n",
    "            date = today - timedelta(days=2)\n",
    "        ).rename(columns = {\"geo_merge\": \"neighborhood\"})\n",
    "    )\n",
    "\n",
    "    df = (df.assign(\n",
    "            download_date = pd.to_datetime(df.download_date),\n",
    "            date = pd.to_datetime(df.date)\n",
    "        ).drop(columns = \"Unnamed: 0\")\n",
    "    )\n",
    "    \n",
    "    NEIGHBORHOOD_TESTING = f\"{S3_FILE_PATH}la-county-neighborhood-testing-appended.parquet\"\n",
    "    full_df = pd.read_parquet(NEIGHBORHOOD_TESTING)\n",
    "    df = (full_df.append(df)\n",
    "          .drop_duplicates()\n",
    "          .sort_values([\"neighborhood\", \"date\"])\n",
    "          .reset_index(drop=True)\n",
    "         )\n",
    "\n",
    "    df.to_parquet(NEIGHBORHOOD_TESTING)\n",
    "\n",
    "    tests_df = pd.read_csv(TESTS_PERFORMED)\n",
    "    tests_df.to_csv(f\"{S3_FILE_PATH}county-tests-performed-rshiny.csv\")\n",
    "\n",
    "    persons_df = pd.read_csv(PERSONS_TESTED)\n",
    "    persons_df.to_csv(f\"{S3_FILE_PATH}county-persons-tested-rshiny.csv\")\n",
    "\n",
    "\n",
    "download_from_rshiny()"
   ]
  },
  {
   "cell_type": "code",
   "execution_count": null,
   "metadata": {},
   "outputs": [],
   "source": []
  }
 ],
 "metadata": {
  "kernelspec": {
   "display_name": "Python 3",
   "language": "python",
   "name": "python3"
  },
  "language_info": {
   "codemirror_mode": {
    "name": "ipython",
    "version": 3
   },
   "file_extension": ".py",
   "mimetype": "text/x-python",
   "name": "python",
   "nbconvert_exporter": "python",
   "pygments_lexer": "ipython3",
   "version": "3.7.8"
  }
 },
 "nbformat": 4,
 "nbformat_minor": 4
}
