{
 "cells": [
  {
   "cell_type": "markdown",
   "metadata": {},
   "source": [
    "## Download from RShiny"
   ]
  },
  {
   "cell_type": "code",
   "execution_count": 1,
   "metadata": {},
   "outputs": [],
   "source": [
    "\"\"\"\n",
    "Download LA County neighborhood testing data.\n",
    "Download persons tested and tests performed.\n",
    "Download from RShiny.\n",
    "No date column, it probably reflects 2 days ago, given their comment in sidebar (community testing).\n",
    "\"\"\"\n",
    "import pandas as pd\n",
    "import pytz\n",
    "\n",
    "from datetime import datetime, timedelta\n",
    "\n",
    "NEIGHBORHOOD_TESTING_URL = (\n",
    "    \"https://lacdph.shinyapps.io/covid19_surveillance_dashboard/_w_6f8c1821/\"\n",
    "    \"session/e7aba2d098b696a635925820c86d0dbc/download/download4?w=6f8c1821\"\n",
    ")\n",
    "  \n",
    "TESTS_PERFORMED = (\n",
    "    \"https://lacdph.shinyapps.io/covid19_surveillance_dashboard/_w_6f8c1821/\"\n",
    "    \"session/e7aba2d098b696a635925820c86d0dbc/download/download6?w=6f8c1821\"\n",
    ")\n",
    "\n",
    "PERSONS_TESTED = (\n",
    "    \"https://lacdph.shinyapps.io/covid19_surveillance_dashboard/_w_6f8c1821/\"\n",
    "    \"session/e7aba2d098b696a635925820c86d0dbc/download/download5?w=6f8c1821\"   \n",
    ")\n",
    "\n",
    "S3_FILE_PATH = \"s3://public-health-dashboard/jhu_covid19/\"\n",
    "\n",
    "# Neighborhood Testing data\n",
    "def download_from_rshiny():\n",
    "    df = pd.read_csv(NEIGHBORHOOD_TESTING_URL)\n",
    "\n",
    "    df = (df.assign(\n",
    "            download_date = (datetime.today()\n",
    "                    .astimezone(pytz.timezone(\"US/Pacific\"))\n",
    "                    .date()\n",
    "            ),\n",
    "            date = (datetime.today()\n",
    "                    .astimezone(pytz.timezone(\"US/Pacific\"))\n",
    "                    .date() - timedelta(days=2)\n",
    "            )\n",
    "        ).rename(columns = {\"geo_merge\": \"neighborhood\"})\n",
    "    )\n",
    "\n",
    "    df = (df.assign(\n",
    "            download_date = pd.to_datetime(df.download_date),\n",
    "            date = pd.to_datetime(df.date)\n",
    "        ).drop(columns = \"Unnamed: 0\")\n",
    "    )\n",
    "\n",
    "    file_name = datetime.today().astimezone(pytz.timezone(\"US/Pacific\")).date()\n",
    "\n",
    "    df.to_parquet(f\"{S3_FILE_PATH}la-county-neighborhood-testing-{file_name}.parquet\")\n",
    "\n",
    "    \n",
    "    tests_df = pd.read_csv(TESTS_PERFORMED)\n",
    "    tests_df.to_csv(f\"{S3_FILE_PATH}county-tests-performed-rshiny.csv\")\n",
    "\n",
    "    persons_df = pd.read_csv(PERSONS_TESTED)\n",
    "    persons_df.to_csv(f\"{S3_FILE_PATH}county-persons-tested-rshiny.csv\")\n",
    "    \n",
    "\n",
    "download_from_rshiny()"
   ]
  },
  {
   "cell_type": "markdown",
   "metadata": {},
   "source": [
    "## Append the testing by neighborhood"
   ]
  },
  {
   "cell_type": "code",
   "execution_count": 2,
   "metadata": {},
   "outputs": [],
   "source": [
    "NEIGHBORHOOD_APPENDED = f\"{S3_FILE_PATH}la-county-neighborhood-testing-appended.parquet\"\n",
    "\n",
    "# Append dfs\n",
    "df = pd.read_parquet(NEIGHBORHOOD_APPENDED)\n",
    "\n",
    "today = datetime.today()\n",
    "month = today.strftime('%m')\n",
    "day = today.strftime(\"%d\")\n",
    "\n",
    "# Just append the single day to the appended df\n",
    "day_df = pd.read_parquet(f\"{S3_FILE_PATH}la-county-neighborhood-testing-2020-{month}-{day}.parquet\")\n",
    "df = df.append(day_df).drop_duplicates()\n",
    "    \n",
    "df.to_parquet(NEIGHBORHOOD_APPENDED)\n",
    "\n",
    "# At this point, this neighborhood URL can be read in neighborhood_utils\n",
    "# The NEIGHBORHOOD_APPENDED file gets cleaned, cols dropped\n",
    "# Run notebooks/neighborhood-charts after this, because the neighborhood_utils will write to parquet"
   ]
  },
  {
   "cell_type": "code",
   "execution_count": null,
   "metadata": {},
   "outputs": [],
   "source": []
  }
 ],
 "metadata": {
  "kernelspec": {
   "display_name": "Python 3",
   "language": "python",
   "name": "python3"
  },
  "language_info": {
   "codemirror_mode": {
    "name": "ipython",
    "version": 3
   },
   "file_extension": ".py",
   "mimetype": "text/x-python",
   "name": "python",
   "nbconvert_exporter": "python",
   "pygments_lexer": "ipython3",
   "version": "3.7.6"
  }
 },
 "nbformat": 4,
 "nbformat_minor": 4
}
