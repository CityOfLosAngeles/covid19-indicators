{
 "cells": [
  {
   "cell_type": "markdown",
   "metadata": {},
   "source": [
    "# Make crosswalk of small neighborhoods to aggregated neighborhoods with population "
   ]
  },
  {
   "cell_type": "code",
   "execution_count": 2,
   "metadata": {},
   "outputs": [],
   "source": [
    "import pandas as pd"
   ]
  },
  {
   "cell_type": "code",
   "execution_count": 4,
   "metadata": {},
   "outputs": [],
   "source": [
    "df = pd.read_excel(\"../data/crosswalk_source.xlsx\")"
   ]
  },
  {
   "cell_type": "code",
   "execution_count": 22,
   "metadata": {},
   "outputs": [],
   "source": [
    "df = df.assign(\n",
    "    Region = df.City_Community_Label.str.split(\"--\", expand=True)[0],\n",
    ")\n",
    "\n",
    "# Split and then make long\n",
    "make_long = (df.Included.str.split(\";\", expand=True)\n",
    "             .assign(index = make_long.index)\n",
    "            )\n",
    "\n",
    "m1 = pd.melt(make_long, id_vars = \"index\", var_name = \"col_name\", value_name = \"neighborhood\")\n",
    "m1 = m1[m1.neighborhood.notna()]\n",
    "\n",
    "# Need merge var to be the same\n",
    "df = df.assign(index = df.index)\n",
    "\n",
    "# Merge in\n",
    "df2 = pd.merge(df, m1, on = \"index\", how = \"left\", validate = \"1:m\")\n",
    "\n",
    "df2 = (df2.drop(columns = [\"City_Community_Label\", \"Included\", \"index\", \"col_name\"])\n",
    "        .assign(\n",
    "            Region = df2.Region.str.replace(\"\\n\", \" \")\n",
    "        )\n",
    "      )"
   ]
  },
  {
   "cell_type": "code",
   "execution_count": 46,
   "metadata": {},
   "outputs": [],
   "source": [
    "df2['neighborhood'] = df2.neighborhood.str.replace(\"Unincorporated-\", \"Unincorporated - \")\n",
    "df2['neighborhood'] = df2.neighborhood.str.replace(\"Los Angeles-\", \"Los Angeles - \")"
   ]
  },
  {
   "cell_type": "code",
   "execution_count": 47,
   "metadata": {},
   "outputs": [],
   "source": [
    "df2['neighborhood'] = df2.neighborhood.str.strip()\n",
    "df2['Region'] = df2.Region.str.strip()"
   ]
  },
  {
   "cell_type": "code",
   "execution_count": 50,
   "metadata": {},
   "outputs": [],
   "source": [
    "df2 = df2.rename(columns = {\"Region_Number\":\"region_num\", \"Combined_Population\": \"population\",\n",
    "                           \"Region\": \"region\"})"
   ]
  },
  {
   "cell_type": "code",
   "execution_count": 52,
   "metadata": {},
   "outputs": [],
   "source": [
    "df2.to_csv(\"../data/la_county_neighborhoods_crosswalk.csv\")\n",
    "df2.to_parquet(\"../data/la_county_neighborhoods_crosswalk.parquet\")"
   ]
  },
  {
   "cell_type": "code",
   "execution_count": null,
   "metadata": {},
   "outputs": [],
   "source": []
  }
 ],
 "metadata": {
  "kernelspec": {
   "display_name": "Python 3",
   "language": "python",
   "name": "python3"
  },
  "language_info": {
   "codemirror_mode": {
    "name": "ipython",
    "version": 3
   },
   "file_extension": ".py",
   "mimetype": "text/x-python",
   "name": "python",
   "nbconvert_exporter": "python",
   "pygments_lexer": "ipython3",
   "version": "3.7.6"
  }
 },
 "nbformat": 4,
 "nbformat_minor": 4
}
